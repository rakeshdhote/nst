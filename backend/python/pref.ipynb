{
 "cells": [
  {
   "cell_type": "code",
   "execution_count": 8,
   "metadata": {},
   "outputs": [],
   "source": [
    "import json\n",
    "import os\n",
    "from typing import List, Dict, Any\n",
    "\n",
    "from dotenv import load_dotenv\n",
    "from llama_index.core import SimpleDirectoryReader\n",
    "import ollama\n",
    "from litellm import completion, success_callback\n",
    "\n",
    "from prefect import flow, task\n",
    "from prefect.logging import get_logger\n",
    "\n",
    "# Import Rich components\n",
    "from rich.console import Console\n",
    "from rich.table import Table\n",
    "from rich import box\n",
    "from pprint import pprint\n",
    "\n",
    "# Initialize Rich console\n",
    "console = Console()\n",
    "\n",
    "# Initialize Prefect logger\n",
    "logger = get_logger()\n",
    "\n",
    "# Load environment variables\n",
    "load_dotenv('.env.local') \n",
    "\n",
    "# Define model-related classes (unchanged)\n",
    "class ModelDetails:\n",
    "    def __init__(self, parent_model, format, family, families, parameter_size, quantization_level):\n",
    "        self.parent_model = parent_model\n",
    "        self.format = format\n",
    "        self.family = family\n",
    "        self.families = families\n",
    "        self.parameter_size = parameter_size\n",
    "        self.quantization_level = quantization_level\n",
    "\n",
    "class Model:\n",
    "    def __init__(self, model, modified_at, digest, size, details):\n",
    "        self.model = model\n",
    "        self.modified_at = modified_at\n",
    "        self.digest = digest\n",
    "        self.size = size\n",
    "        self.details = details\n",
    "\n",
    "class ListResponse:\n",
    "    def __init__(self, models):\n",
    "        self.models = models\n",
    "\n",
    "# Global cost tracker\n",
    "COST_TRACKER = {\"cost\": 0.0}\n",
    "\n",
    "@task\n",
    "def list_ollama_models():\n",
    "    \"\"\"\n",
    "    Fetch and display Ollama models using Rich Table.\n",
    "    \"\"\"\n",
    "    try:\n",
    "        ollama_models = ollama.list()\n",
    "        if not ollama_models.models:\n",
    "            logger.warning(\"No Ollama models found.\")\n",
    "            console.print(\"[bold yellow]No Ollama models found.[/bold yellow]\")\n",
    "            return\n",
    "        \n",
    "        # Create a Rich table\n",
    "        table = Table(title=\"Available Ollama Models\", box=box.MINIMAL_DOUBLE_HEAD)\n",
    "        table.add_column(\"Model Name\", style=\"cyan\", no_wrap=True)\n",
    "        table.add_column(\"Modified At\", style=\"magenta\")\n",
    "        table.add_column(\"Digest\", style=\"green\")\n",
    "        table.add_column(\"Size (bytes)\", justify=\"right\", style=\"yellow\")\n",
    "        table.add_column(\"Param Size\", justify=\"right\", style=\"yellow\")\n",
    "        table.add_column(\"Quant Level\", style=\"blue\")\n",
    "        table.add_column(\"Family\", style=\"red\")\n",
    "        table.add_column(\"Families\", style=\"red\")\n",
    "\n",
    "        for model in ollama_models.models:\n",
    "            table.add_row(\n",
    "                model.model,\n",
    "                str(model.modified_at),\n",
    "                model.digest,\n",
    "                str(model.size),\n",
    "                str(model.details.parameter_size),\n",
    "                model.details.quantization_level,\n",
    "                model.details.family,\n",
    "                \", \".join(model.details.families)\n",
    "            )\n",
    "        \n",
    "        console.print(table)\n",
    "    except Exception as e:\n",
    "        logger.error(f\"Error fetching Ollama models: {e}\")\n",
    "        console.print(f\"[bold red]Error fetching Ollama models:[/bold red] {e}\")\n",
    "\n",
    "@task\n",
    "def track_cost_callback(kwargs, completion_response, start_time, end_time, stream=False):\n",
    "    \"\"\"\n",
    "    Callback function to track and calculate the cost based on token usage.\n",
    "    \"\"\"\n",
    "    try:\n",
    "        response_dict = completion_response.to_dict() if hasattr(completion_response, \"to_dict\") else json.loads(str(completion_response))\n",
    "        usage = response_dict.get(\"usage\", {})\n",
    "        total_tokens = usage.get(\"total_tokens\", 0)\n",
    "        COST_TRACKER[\"cost\"] = (total_tokens / 1000.0) * 0.003  # Example cost calculation\n",
    "        logger.info(f\"Calculated cost: {COST_TRACKER['cost']}\")\n",
    "        console.print(f\"[bold green]Calculated cost:[/bold green] [yellow]{COST_TRACKER['cost']}[/yellow]\")\n",
    "    except Exception as e:\n",
    "        logger.error(f\"Error in track_cost_callback: {e}\")\n",
    "        console.print(f\"[bold red]Error in track_cost_callback:[/bold red] {e}\")\n",
    "\n",
    "@task\n",
    "def set_success_callback():\n",
    "    \"\"\"\n",
    "    Set the global success callback for cost tracking.\n",
    "    \"\"\"\n",
    "    try:\n",
    "        success_callback[:] = [track_cost_callback]\n",
    "        logger.info(\"Success callback set successfully.\")\n",
    "    except Exception as e:\n",
    "        logger.error(f\"Error setting success callback: {e}\")\n",
    "        console.print(f\"[bold red]Error setting success callback:[/bold red] {e}\")\n",
    "\n",
    "@task\n",
    "def load_documents(path: str) -> List[Dict[str, Any]]:\n",
    "    \"\"\"\n",
    "    Load documents from the specified path.\n",
    "    \"\"\"\n",
    "    try:\n",
    "        reader = SimpleDirectoryReader(input_dir=path)\n",
    "        documents = reader.load_data()\n",
    "        logger.info(f\"Loaded {len(documents)} documents from {path}\")\n",
    "        console.print(f\"[bold green]Loaded {len(documents)} documents from {path}[/bold green]\")\n",
    "        return [{\"content\": d.text, **d.metadata} for d in documents]\n",
    "    except Exception as e:\n",
    "        logger.error(f\"Error loading documents from {path}: {e}\")\n",
    "        console.print(f\"[bold red]Error loading documents from {path}:[/bold red] {e}\")\n",
    "        return []\n",
    "\n",
    "@task\n",
    "def process_metadata(doc_dicts: List[Dict[str, Any]]) -> List[Dict[str, Any]]:\n",
    "    \"\"\"\n",
    "    Process metadata to remove duplicate file entries.\n",
    "    \"\"\"\n",
    "    try:\n",
    "        file_seen = set()\n",
    "        metadata_list = []\n",
    "        for doc in doc_dicts:\n",
    "            if doc[\"file_path\"] not in file_seen:\n",
    "                file_seen.add(doc[\"file_path\"])\n",
    "                metadata_list.append(doc)\n",
    "        logger.info(f\"Processed metadata: {len(metadata_list)} unique documents\")\n",
    "        console.print(f\"[bold green]Processed metadata: {len(metadata_list)} unique documents[/bold green]\")\n",
    "        return metadata_list\n",
    "    except Exception as e:\n",
    "        logger.error(f\"Error processing metadata: {e}\")\n",
    "        console.print(f\"[bold red]Error processing metadata:[/bold red] {e}\")\n",
    "        return []\n",
    "\n",
    "@task\n",
    "def query_summaries(\n",
    "    doc_dicts: List[Dict[str, Any]],\n",
    "    host: str,\n",
    "    port: int,\n",
    "    model: str,\n",
    "    api_base: str = None,\n",
    "    stream: bool = False\n",
    ") -> Dict[str, Any]:\n",
    "    \"\"\"\n",
    "    Generate summaries for the provided document dictionaries.\n",
    "    \"\"\"\n",
    "    PROMPT = f\"\"\" \n",
    "    The following is a list of file contents, along with their metadata. For each file, provide a summary of the contents. The purpose of the summary is to organize files based on their content. To this end provide a concise but informative summary. Try to make the summary as specific to the file as possible. {doc_dicts}\n",
    "    \n",
    "    Return a JSON object with the following schema:\n",
    "    \n",
    "    ```json\n",
    "    {{\n",
    "      \"files\": [\n",
    "        {{\n",
    "          \"file_path\": \"path to the file including name\",\n",
    "          \"summary\": \"summary of the content\"\n",
    "        }}\n",
    "      ]\n",
    "    }}\n",
    "    ```\n",
    "    \"\"\".strip()\n",
    "\n",
    "    if not api_base:\n",
    "        api_base = f\"http://{host}:{port}\"\n",
    "        logger.info(f\"API Base set to: {api_base}\")\n",
    "        console.print(f\"[bold blue]API Base set to: {api_base}[/bold blue]\")\n",
    "\n",
    "    try:\n",
    "        response = completion(\n",
    "            model=model, \n",
    "            messages=[\n",
    "                {\n",
    "                    \"role\": \"system\", \n",
    "                    \"content\": \"Always return JSON. Do not include any other text or formatting characters.\"\n",
    "                },\n",
    "                {\n",
    "                    \"role\": \"user\", \n",
    "                    \"content\": PROMPT\n",
    "                }\n",
    "            ],\n",
    "            api_base=api_base,\n",
    "            stream=stream\n",
    "        )\n",
    "    except Exception as e:\n",
    "        logger.error(f\"LiteLLM Error >>> {e}\")\n",
    "        console.print(f\"[bold red]LiteLLM Error:[/bold red] {e}\")\n",
    "        return {\"files\": [], \"cost\": COST_TRACKER[\"cost\"]}\n",
    "\n",
    "    if response is None:\n",
    "        logger.warning(\"No response received from the API.\")\n",
    "        console.print(\"[bold yellow]No response received from the API.[/bold yellow]\")\n",
    "        return {\"files\": [], \"cost\": COST_TRACKER[\"cost\"]}\n",
    "\n",
    "    try:\n",
    "        response_dict = response.to_dict() if hasattr(response, \"to_dict\") else json.loads(str(response))\n",
    "    except (TypeError, json.JSONDecodeError) as e:\n",
    "        logger.error(f\"Error parsing response: {e}\")\n",
    "        console.print(f\"[bold red]Error parsing response:[/bold red] {e}\")\n",
    "        return {\"files\": [], \"cost\": COST_TRACKER[\"cost\"]}\n",
    "\n",
    "    content = response_dict.get(\"choices\", [{}])[0].get(\"message\", {}).get(\"content\", \"\")\n",
    "\n",
    "    try:\n",
    "        summaries = json.loads(content)\n",
    "        print(\"Summaries:\")\n",
    "        pprint(summaries)\n",
    "    except json.JSONDecodeError:\n",
    "        logger.error(\"Error decoding JSON content from summaries.\")\n",
    "        console.print(\"[bold red]Error decoding JSON content from summaries.[/bold red]\")\n",
    "        summaries = {\"files\": []}\n",
    "\n",
    "    if isinstance(summaries, list) and summaries and isinstance(summaries[0], dict):\n",
    "        summaries = summaries[0]\n",
    "\n",
    "    usage = response_dict.get(\"usage\", {})\n",
    "\n",
    "    if usage and isinstance(summaries, dict):\n",
    "        summaries[\"usage\"] = {\n",
    "            \"completion_tokens\": usage.get(\"completion_tokens\"),\n",
    "            \"prompt_tokens\": usage.get(\"prompt_tokens\"),\n",
    "            \"total_tokens\": usage.get(\"total_tokens\")\n",
    "        }\n",
    "\n",
    "    if isinstance(summaries, dict):\n",
    "        summaries[\"cost\"] = COST_TRACKER[\"cost\"]\n",
    "    else:\n",
    "        summaries = {\n",
    "            \"files\": [],\n",
    "            \"cost\": COST_TRACKER[\"cost\"]\n",
    "        }\n",
    "\n",
    "    logger.info(f\"Generated summaries for {len(summaries.get('files', []))} files with cost {summaries.get('cost')}\")\n",
    "    console.print(f\"[bold green]Generated summaries for {len(summaries.get('files', []))} files with cost {summaries.get('cost')}[/bold green]\")\n",
    "    return summaries\n",
    "\n",
    "@task\n",
    "def create_file_tree(\n",
    "    summaries: List[Dict[str, Any]],\n",
    "    host: str,\n",
    "    port: int,\n",
    "    source_path: str,\n",
    "    destination_path: str,\n",
    "    model: str = \"llama-3.1-70b-versatile\",\n",
    "    api_base: str = None,\n",
    "    stream: bool = False\n",
    ") -> List[Dict[str, str]]:\n",
    "    \"\"\"\n",
    "    Create a file tree based on the provided summaries.\n",
    "    Returns src_path, dst_path, and dst_path_new for each file.\n",
    "    \"\"\"\n",
    "    # Define the helper function within the task\n",
    "    def find_key(obj: Any, key: str) -> Any:\n",
    "        if isinstance(obj, dict):\n",
    "            if key in obj:\n",
    "                return obj[key]\n",
    "            for value in obj.values():\n",
    "                result = find_key(value, key)\n",
    "                if result is not None:\n",
    "                    return result\n",
    "        elif isinstance(obj, list):\n",
    "            for item in obj:\n",
    "                result = find_key(item, key)\n",
    "                if result is not None:\n",
    "                    return result\n",
    "        return None\n",
    "\n",
    "    # Update the prompt with explicit instructions\n",
    "    PROMPT = f\"\"\"\n",
    "    You will be provided with a list of source files and a summary of their contents. The source files are located in '{source_path}', and the destination directory is '{destination_path}'.\n",
    "    \n",
    "    For each file, propose:\n",
    "    1. 'dst_path': A new file path under the destination directory with the same file name.\n",
    "    2. 'dst_path_new': A new file path under the destination directory with an updated file name (e.g., adding a version number or timestamp).\n",
    "    \n",
    "    Follow good naming conventions and organizational best practices. Here are guidelines:\n",
    "    - Group related files together.\n",
    "    - Incorporate metadata such as date, version, or experiment details into folder names.\n",
    "    - Use clear and descriptive names without spaces or special characters.\n",
    "    - Do not change the file extension.\n",
    "    - If the file is already well-named or follows a known convention, retain its name for 'dst_path'.\n",
    "    \n",
    "    **Example**:\n",
    "    ```json\n",
    "    {{\n",
    "        \"files\": [\n",
    "            {{\n",
    "                \"src_path\": \"/home/user/source/file1.txt\",\n",
    "                \"dst_path\": \"/home/user/destination/2024/04/file1.txt\",\n",
    "                \"dst_path_new\": \"/home/user/destination/2024/04/file1_v2.txt\"\n",
    "            }}\n",
    "        ]\n",
    "    }}\n",
    "    ```\n",
    "    \n",
    "    **Important:** Your response **must** be a JSON object with the following schema **at the top level**:\n",
    "    ```json\n",
    "    {{\n",
    "        \"files\": [\n",
    "            {{\n",
    "                \"src_path\": \"original file path\",\n",
    "                \"dst_path\": \"new file path under destination directory with same file name\",\n",
    "                \"dst_path_new\": \"new file path under destination directory with updated file name\"\n",
    "            }}\n",
    "        ]\n",
    "    }}\n",
    "    ```\n",
    "    \n",
    "    Do **not** wrap the \"files\" key inside any other keys.\n",
    "    \"\"\".strip()\n",
    "\n",
    "    if not api_base:\n",
    "        api_base = f\"http://{host}:{port}\"\n",
    "        logger.info(f\"API Base set to: {api_base}\")\n",
    "        console.print(f\"[bold blue]API Base set to: {api_base}[/bold blue]\")\n",
    "\n",
    "    try:\n",
    "        response = completion(\n",
    "            model=model,\n",
    "            messages=[\n",
    "                {\"role\": \"system\", \"content\": PROMPT},\n",
    "                {\"role\": \"user\", \"content\": json.dumps(summaries)},\n",
    "            ],\n",
    "            response_format={\"type\": \"json_object\"},\n",
    "            api_base=api_base,\n",
    "            stream=stream\n",
    "        )\n",
    "    except Exception as e:\n",
    "        logger.error(f\"LiteLLM Error >>> {e}\")\n",
    "        console.print(f\"[bold red]LiteLLM Error:[/bold red] {e}\")\n",
    "        return []\n",
    "\n",
    "    if response is None:\n",
    "        logger.warning(\"No response received from the API.\")\n",
    "        console.print(\"[bold yellow]No response received from the API.[/bold yellow]\")\n",
    "        return []\n",
    "\n",
    "    try:\n",
    "        response_dict = response.to_dict() if hasattr(response, \"to_dict\") else json.loads(str(response))\n",
    "    except (TypeError, json.JSONDecodeError) as e:\n",
    "        logger.error(f\"Error parsing response: {e}\")\n",
    "        console.print(f\"[bold red]Error parsing response:[/bold red] {e}\")\n",
    "        return []\n",
    "\n",
    "    content = response_dict.get(\"choices\", [{}])[0].get(\"message\", {}).get(\"content\", \"\")\n",
    "\n",
    "    try:\n",
    "        parsed_content = json.loads(content)\n",
    "        file_tree = find_key(parsed_content, \"files\")\n",
    "        if file_tree is None:\n",
    "            raise KeyError(\"'files' key not found in the response.\")\n",
    "    except (json.JSONDecodeError, KeyError) as e:\n",
    "        logger.error(f\"Error decoding JSON content: {e}\")\n",
    "        console.print(f\"[bold red]Error decoding JSON content:[/bold red] {e}\")\n",
    "        # Optionally, print the raw content for debugging\n",
    "        console.print(f\"[bold yellow]Raw Content:[/bold yellow]\\n{content}\")\n",
    "        return []\n",
    "\n",
    "    logger.info(f\"Created file tree for {len(file_tree)} files\")\n",
    "    console.print(f\"[bold green]Created file tree for {len(file_tree)} files[/bold green]\")\n",
    "    return file_tree\n",
    "\n",
    "@task\n",
    "def concatenate_summaries_and_file_tree(\n",
    "    summaries: List[Dict[str, Any]],\n",
    "    file_tree: List[Dict[str, str]]\n",
    ") -> List[Dict[str, Any]]:\n",
    "    \"\"\"\n",
    "    Concatenate summaries and file_tree into a single dictionary for each file.\n",
    "    \"\"\"\n",
    "    concatenated = []\n",
    "    summary_dict = {item['file_path']: item['summary'] for item in summaries}\n",
    "\n",
    "    for item in file_tree:\n",
    "        src_path = item.get(\"src_path\")\n",
    "        dst_path = item.get(\"dst_path\")\n",
    "        dst_path_new = item.get(\"dst_path_new\")\n",
    "        summary = summary_dict.get(src_path, \"No summary available.\")\n",
    "        concatenated.append({\n",
    "            \"file_path\": src_path,\n",
    "            \"summary\": summary,\n",
    "            \"dst_path\": dst_path,\n",
    "            \"dst_path_new\": dst_path_new\n",
    "        })\n",
    "\n",
    "    logger.info(f\"Concatenated summary and file tree for {len(concatenated)} files\")\n",
    "    console.print(f\"[bold green]Concatenated summary and file tree for {len(concatenated)} files[/bold green]\")\n",
    "    return concatenated\n",
    "\n",
    "@task\n",
    "def create_subdirectories(file_tree: List[Dict[str, str]]):\n",
    "    \"\"\"\n",
    "    Create all necessary subdirectories in the destination paths.\n",
    "    \"\"\"\n",
    "    try:\n",
    "        for file in file_tree:\n",
    "            dst_path = file.get(\"dst_path\")\n",
    "            dst_path_new = file.get(\"dst_path_new\")\n",
    "            \n",
    "            # Extract directories from the destination paths\n",
    "            dst_dir = os.path.dirname(dst_path)\n",
    "            dst_new_dir = os.path.dirname(dst_path_new)\n",
    "            \n",
    "            # Create the directories if they don't exist\n",
    "            os.makedirs(dst_dir, exist_ok=True)\n",
    "            os.makedirs(dst_new_dir, exist_ok=True)\n",
    "        \n",
    "        logger.info(\"All necessary subdirectories created.\")\n",
    "        console.print(\"[bold green]All necessary subdirectories created.[/bold green]\")\n",
    "    except Exception as e:\n",
    "        logger.error(f\"Error creating subdirectories: {e}\")\n",
    "        console.print(f\"[bold red]Error creating subdirectories:[/bold red] {e}\")\n",
    "\n",
    "@task\n",
    "def display_organized_files(organized_files: List[Dict[str, str]]):\n",
    "    \"\"\"\n",
    "    Display organized files using Rich Table.\n",
    "    \"\"\"\n",
    "    if not organized_files:\n",
    "        console.print(\"[bold red]No organized files to display.[/bold red]\")\n",
    "        return\n",
    "\n",
    "    table = Table(title=\"Organized Files\", box=box.MINIMAL_DOUBLE_HEAD)\n",
    "    table.add_column(\"Source Path\", style=\"cyan\", no_wrap=True)\n",
    "    table.add_column(\"Destination Path\", style=\"green\")\n",
    "\n",
    "    for file in organized_files:\n",
    "        table.add_row(file.get(\"file_path\", \"\"), file.get(\"dst_path\", \"\"))\n",
    "    \n",
    "    console.print(table)\n",
    "\n",
    "@task\n",
    "def display_concatenated_dict(concatenated_dict: List[Dict[str, Any]]):\n",
    "    \"\"\"\n",
    "    Display concatenated summaries and file tree using Rich Table.\n",
    "    \"\"\"\n",
    "    if not concatenated_dict:\n",
    "        console.print(\"[bold red]No concatenated data to display.[/bold red]\")\n",
    "        return\n",
    "\n",
    "    table = Table(title=\"Summaries and Organized Files\", box=box.MINIMAL_DOUBLE_HEAD)\n",
    "    table.add_column(\"File Path\", style=\"cyan\", no_wrap=True)\n",
    "    table.add_column(\"Summary\", style=\"green\")\n",
    "    table.add_column(\"Destination Path\", style=\"magenta\")\n",
    "    table.add_column(\"Destination Path New\", style=\"yellow\")\n",
    "\n",
    "    for item in concatenated_dict:\n",
    "        table.add_row(\n",
    "            item.get(\"file_path\", \"\"), \n",
    "            item.get(\"summary\", \"\"), \n",
    "            item.get(\"dst_path\", \"\"), \n",
    "            item.get(\"dst_path_new\", \"\")\n",
    "        )\n",
    "    \n",
    "    console.print(table)\n",
    "\n",
    "@flow(name=\"Document Processing Workflow\")\n",
    "def document_processing_workflow(\n",
    "    source_path: str,\n",
    "    destination_path: str,\n",
    "    api_host: str,\n",
    "    api_port: int,\n",
    "    summary_model: str,\n",
    "    tree_model: str,\n",
    "    api_base: str = None,\n",
    "    stream: bool = False\n",
    ") -> Dict[str, Any]:\n",
    "    \"\"\"\n",
    "    Orchestrates the document processing workflow: loading documents, querying summaries, creating a file tree, and concatenating results.\n",
    "\n",
    "    Args:\n",
    "        source_path (str): Path to the source documents directory.\n",
    "        destination_path (str): Path to the destination directory for organized files.\n",
    "        api_host (str): API host address.\n",
    "        api_port (int): API port number.\n",
    "        summary_model (str): Model name for summarizing documents.\n",
    "        tree_model (str): Model name for creating file tree.\n",
    "        api_base (str, optional): Base URL for the API. Defaults to None.\n",
    "        stream (bool, optional): Whether to use streaming. Defaults to False.\n",
    "\n",
    "    Returns:\n",
    "        Dict[str, Any]: Dictionary containing summaries, file_tree, and concatenated data.\n",
    "    \"\"\"\n",
    "    # Initial setup\n",
    "    set_success_callback()\n",
    "    list_ollama_models()\n",
    "\n",
    "    # Load and process documents\n",
    "    loaded_docs = load_documents(source_path)\n",
    "    unique_docs = process_metadata(loaded_docs)\n",
    "\n",
    "    # Generate summaries\n",
    "    summaries = query_summaries(\n",
    "        doc_dicts=unique_docs,\n",
    "        host=api_host,\n",
    "        port=api_port,\n",
    "        model=summary_model,\n",
    "        api_base=api_base,\n",
    "        stream=stream\n",
    "    )\n",
    "\n",
    "    # Create file tree\n",
    "    file_tree = create_file_tree(\n",
    "        summaries=summaries.get(\"files\", []),\n",
    "        host=api_host,\n",
    "        port=api_port,\n",
    "        source_path=source_path,\n",
    "        destination_path=destination_path,\n",
    "        model=tree_model,\n",
    "        api_base=api_base,\n",
    "        stream=stream\n",
    "    )\n",
    "\n",
    "    # Create necessary subdirectories\n",
    "    create_subdirectories(file_tree)\n",
    "\n",
    "    # Concatenate summaries and file_tree\n",
    "    concatenated_dict = concatenate_summaries_and_file_tree(summaries.get(\"files\", []), file_tree)\n",
    "\n",
    "    # Display organized files using Rich\n",
    "    display_organized_files(file_tree)\n",
    "\n",
    "    # Display concatenated summaries and file_tree\n",
    "    display_concatenated_dict(concatenated_dict)\n",
    "\n",
    "    # Return all results\n",
    "    return {\n",
    "        \"summaries\": summaries,\n",
    "        \"file_tree\": file_tree,\n",
    "        \"concatenated_data\": concatenated_dict\n",
    "    }\n"
   ]
  },
  {
   "cell_type": "code",
   "execution_count": 3,
   "metadata": {},
   "outputs": [
    {
     "data": {
      "text/html": [
       "<pre style=\"white-space:pre;overflow-x:auto;line-height:normal;font-family:Menlo,'DejaVu Sans Mono',consolas,'Courier New',monospace\">15:43:23.668 | <span style=\"color: #008080; text-decoration-color: #008080\">INFO</span>    | prefect.engine - Created flow run<span style=\"color: #800080; text-decoration-color: #800080\"> 'lilac-degu'</span> for flow<span style=\"color: #800080; text-decoration-color: #800080; font-weight: bold\"> 'Document Processing Workflow'</span>\n",
       "</pre>\n"
      ],
      "text/plain": [
       "15:43:23.668 | \u001b[36mINFO\u001b[0m    | prefect.engine - Created flow run\u001b[35m 'lilac-degu'\u001b[0m for flow\u001b[1;35m 'Document Processing Workflow'\u001b[0m\n"
      ]
     },
     "metadata": {},
     "output_type": "display_data"
    },
    {
     "data": {
      "text/html": [
       "<pre style=\"white-space:pre;overflow-x:auto;line-height:normal;font-family:Menlo,'DejaVu Sans Mono',consolas,'Courier New',monospace\">15:43:23.740 | <span style=\"color: #008080; text-decoration-color: #008080\">INFO</span>    | prefect - Success callback set successfully.\n",
       "</pre>\n"
      ],
      "text/plain": [
       "15:43:23.740 | \u001b[36mINFO\u001b[0m    | prefect - Success callback set successfully.\n"
      ]
     },
     "metadata": {},
     "output_type": "display_data"
    },
    {
     "data": {
      "text/html": [
       "<pre style=\"white-space:pre;overflow-x:auto;line-height:normal;font-family:Menlo,'DejaVu Sans Mono',consolas,'Courier New',monospace\">15:43:23.745 | <span style=\"color: #008080; text-decoration-color: #008080\">INFO</span>    | Task run 'set_success_callback-40e' - Finished in state <span style=\"color: #008000; text-decoration-color: #008000\">Completed</span>()\n",
       "</pre>\n"
      ],
      "text/plain": [
       "15:43:23.745 | \u001b[36mINFO\u001b[0m    | Task run 'set_success_callback-40e' - Finished in state \u001b[32mCompleted\u001b[0m()\n"
      ]
     },
     "metadata": {},
     "output_type": "display_data"
    },
    {
     "data": {
      "text/html": [
       "<pre style=\"white-space:pre;overflow-x:auto;line-height:normal;font-family:Menlo,'DejaVu Sans Mono',consolas,'Courier New',monospace\"><span style=\"font-style: italic\">                                              Available Ollama Models                                              </span>\n",
       "                   ╷              ╷              ╷              ╷            ╷             ╷        ╷              \n",
       " <span style=\"font-weight: bold\"> Model Name       </span>│<span style=\"font-weight: bold\"> Modified At  </span>│<span style=\"font-weight: bold\"> Digest       </span>│<span style=\"font-weight: bold\"> Size (bytes) </span>│<span style=\"font-weight: bold\"> Param Size </span>│<span style=\"font-weight: bold\"> Quant Level </span>│<span style=\"font-weight: bold\"> Family </span>│<span style=\"font-weight: bold\"> Families    </span> \n",
       " ══════════════════╪══════════════╪══════════════╪══════════════╪════════════╪═════════════╪════════╪═════════════ \n",
       " <span style=\"color: #008080; text-decoration-color: #008080\"> smollm2:135m     </span>│<span style=\"color: #800080; text-decoration-color: #800080\"> 2024-12-18   </span>│<span style=\"color: #008000; text-decoration-color: #008000\"> 9077fe9d2ae… </span>│<span style=\"color: #808000; text-decoration-color: #808000\">    270898672 </span>│<span style=\"color: #808000; text-decoration-color: #808000\">    134.52M </span>│<span style=\"color: #000080; text-decoration-color: #000080\"> F16         </span>│<span style=\"color: #800000; text-decoration-color: #800000\"> llama  </span>│<span style=\"color: #800000; text-decoration-color: #800000\"> llama       </span> \n",
       " <span style=\"color: #008080; text-decoration-color: #008080\">                  </span>│<span style=\"color: #800080; text-decoration-color: #800080\"> 11:49:06.80… </span>│<span style=\"color: #008000; text-decoration-color: #008000\">              </span>│<span style=\"color: #808000; text-decoration-color: #808000\">              </span>│<span style=\"color: #808000; text-decoration-color: #808000\">            </span>│<span style=\"color: #000080; text-decoration-color: #000080\">             </span>│<span style=\"color: #800000; text-decoration-color: #800000\">        </span>│<span style=\"color: #800000; text-decoration-color: #800000\">             </span> \n",
       " <span style=\"color: #008080; text-decoration-color: #008080\"> llava:latest     </span>│<span style=\"color: #800080; text-decoration-color: #800080\"> 2024-12-07   </span>│<span style=\"color: #008000; text-decoration-color: #008000\"> 8dd30f6b0cb… </span>│<span style=\"color: #808000; text-decoration-color: #808000\">   4733363377 </span>│<span style=\"color: #808000; text-decoration-color: #808000\">         7B </span>│<span style=\"color: #000080; text-decoration-color: #000080\"> Q4_0        </span>│<span style=\"color: #800000; text-decoration-color: #800000\"> llama  </span>│<span style=\"color: #800000; text-decoration-color: #800000\"> llama, clip </span> \n",
       " <span style=\"color: #008080; text-decoration-color: #008080\">                  </span>│<span style=\"color: #800080; text-decoration-color: #800080\"> 23:46:35.56… </span>│<span style=\"color: #008000; text-decoration-color: #008000\">              </span>│<span style=\"color: #808000; text-decoration-color: #808000\">              </span>│<span style=\"color: #808000; text-decoration-color: #808000\">            </span>│<span style=\"color: #000080; text-decoration-color: #000080\">             </span>│<span style=\"color: #800000; text-decoration-color: #800000\">        </span>│<span style=\"color: #800000; text-decoration-color: #800000\">             </span> \n",
       " <span style=\"color: #008080; text-decoration-color: #008080\"> moondream:latest </span>│<span style=\"color: #800080; text-decoration-color: #800080\"> 2024-12-07   </span>│<span style=\"color: #008000; text-decoration-color: #008000\"> 55fc3abd386… </span>│<span style=\"color: #808000; text-decoration-color: #808000\">   1738451197 </span>│<span style=\"color: #808000; text-decoration-color: #808000\">         1B </span>│<span style=\"color: #000080; text-decoration-color: #000080\"> Q4_0        </span>│<span style=\"color: #800000; text-decoration-color: #800000\"> phi2   </span>│<span style=\"color: #800000; text-decoration-color: #800000\"> phi2, clip  </span> \n",
       " <span style=\"color: #008080; text-decoration-color: #008080\">                  </span>│<span style=\"color: #800080; text-decoration-color: #800080\"> 22:19:46.41… </span>│<span style=\"color: #008000; text-decoration-color: #008000\">              </span>│<span style=\"color: #808000; text-decoration-color: #808000\">              </span>│<span style=\"color: #808000; text-decoration-color: #808000\">            </span>│<span style=\"color: #000080; text-decoration-color: #000080\">             </span>│<span style=\"color: #800000; text-decoration-color: #800000\">        </span>│<span style=\"color: #800000; text-decoration-color: #800000\">             </span> \n",
       " <span style=\"color: #008080; text-decoration-color: #008080\"> llama3.2:latest  </span>│<span style=\"color: #800080; text-decoration-color: #800080\"> 2024-12-07   </span>│<span style=\"color: #008000; text-decoration-color: #008000\"> a80c4f17acd… </span>│<span style=\"color: #808000; text-decoration-color: #808000\">   2019393189 </span>│<span style=\"color: #808000; text-decoration-color: #808000\">       3.2B </span>│<span style=\"color: #000080; text-decoration-color: #000080\"> Q4_K_M      </span>│<span style=\"color: #800000; text-decoration-color: #800000\"> llama  </span>│<span style=\"color: #800000; text-decoration-color: #800000\"> llama       </span> \n",
       " <span style=\"color: #008080; text-decoration-color: #008080\">                  </span>│<span style=\"color: #800080; text-decoration-color: #800080\"> 22:18:36.84… </span>│<span style=\"color: #008000; text-decoration-color: #008000\">              </span>│<span style=\"color: #808000; text-decoration-color: #808000\">              </span>│<span style=\"color: #808000; text-decoration-color: #808000\">            </span>│<span style=\"color: #000080; text-decoration-color: #000080\">             </span>│<span style=\"color: #800000; text-decoration-color: #800000\">        </span>│<span style=\"color: #800000; text-decoration-color: #800000\">             </span> \n",
       "                   ╵              ╵              ╵              ╵            ╵             ╵        ╵              \n",
       "</pre>\n"
      ],
      "text/plain": [
       "\u001b[3m                                              Available Ollama Models                                              \u001b[0m\n",
       "                   ╷              ╷              ╷              ╷            ╷             ╷        ╷              \n",
       " \u001b[1m \u001b[0m\u001b[1mModel Name      \u001b[0m\u001b[1m \u001b[0m│\u001b[1m \u001b[0m\u001b[1mModified At \u001b[0m\u001b[1m \u001b[0m│\u001b[1m \u001b[0m\u001b[1mDigest      \u001b[0m\u001b[1m \u001b[0m│\u001b[1m \u001b[0m\u001b[1mSize (bytes)\u001b[0m\u001b[1m \u001b[0m│\u001b[1m \u001b[0m\u001b[1mParam Size\u001b[0m\u001b[1m \u001b[0m│\u001b[1m \u001b[0m\u001b[1mQuant Level\u001b[0m\u001b[1m \u001b[0m│\u001b[1m \u001b[0m\u001b[1mFamily\u001b[0m\u001b[1m \u001b[0m│\u001b[1m \u001b[0m\u001b[1mFamilies   \u001b[0m\u001b[1m \u001b[0m \n",
       " ══════════════════╪══════════════╪══════════════╪══════════════╪════════════╪═════════════╪════════╪═════════════ \n",
       " \u001b[36m \u001b[0m\u001b[36msmollm2:135m    \u001b[0m\u001b[36m \u001b[0m│\u001b[35m \u001b[0m\u001b[35m2024-12-18  \u001b[0m\u001b[35m \u001b[0m│\u001b[32m \u001b[0m\u001b[32m9077fe9d2ae…\u001b[0m\u001b[32m \u001b[0m│\u001b[33m \u001b[0m\u001b[33m   270898672\u001b[0m\u001b[33m \u001b[0m│\u001b[33m \u001b[0m\u001b[33m   134.52M\u001b[0m\u001b[33m \u001b[0m│\u001b[34m \u001b[0m\u001b[34mF16        \u001b[0m\u001b[34m \u001b[0m│\u001b[31m \u001b[0m\u001b[31mllama \u001b[0m\u001b[31m \u001b[0m│\u001b[31m \u001b[0m\u001b[31mllama      \u001b[0m\u001b[31m \u001b[0m \n",
       " \u001b[36m                  \u001b[0m│\u001b[35m \u001b[0m\u001b[35m11:49:06.80…\u001b[0m\u001b[35m \u001b[0m│\u001b[32m              \u001b[0m│\u001b[33m              \u001b[0m│\u001b[33m            \u001b[0m│\u001b[34m             \u001b[0m│\u001b[31m        \u001b[0m│\u001b[31m             \u001b[0m \n",
       " \u001b[36m \u001b[0m\u001b[36mllava:latest    \u001b[0m\u001b[36m \u001b[0m│\u001b[35m \u001b[0m\u001b[35m2024-12-07  \u001b[0m\u001b[35m \u001b[0m│\u001b[32m \u001b[0m\u001b[32m8dd30f6b0cb…\u001b[0m\u001b[32m \u001b[0m│\u001b[33m \u001b[0m\u001b[33m  4733363377\u001b[0m\u001b[33m \u001b[0m│\u001b[33m \u001b[0m\u001b[33m        7B\u001b[0m\u001b[33m \u001b[0m│\u001b[34m \u001b[0m\u001b[34mQ4_0       \u001b[0m\u001b[34m \u001b[0m│\u001b[31m \u001b[0m\u001b[31mllama \u001b[0m\u001b[31m \u001b[0m│\u001b[31m \u001b[0m\u001b[31mllama, clip\u001b[0m\u001b[31m \u001b[0m \n",
       " \u001b[36m                  \u001b[0m│\u001b[35m \u001b[0m\u001b[35m23:46:35.56…\u001b[0m\u001b[35m \u001b[0m│\u001b[32m              \u001b[0m│\u001b[33m              \u001b[0m│\u001b[33m            \u001b[0m│\u001b[34m             \u001b[0m│\u001b[31m        \u001b[0m│\u001b[31m             \u001b[0m \n",
       " \u001b[36m \u001b[0m\u001b[36mmoondream:latest\u001b[0m\u001b[36m \u001b[0m│\u001b[35m \u001b[0m\u001b[35m2024-12-07  \u001b[0m\u001b[35m \u001b[0m│\u001b[32m \u001b[0m\u001b[32m55fc3abd386…\u001b[0m\u001b[32m \u001b[0m│\u001b[33m \u001b[0m\u001b[33m  1738451197\u001b[0m\u001b[33m \u001b[0m│\u001b[33m \u001b[0m\u001b[33m        1B\u001b[0m\u001b[33m \u001b[0m│\u001b[34m \u001b[0m\u001b[34mQ4_0       \u001b[0m\u001b[34m \u001b[0m│\u001b[31m \u001b[0m\u001b[31mphi2  \u001b[0m\u001b[31m \u001b[0m│\u001b[31m \u001b[0m\u001b[31mphi2, clip \u001b[0m\u001b[31m \u001b[0m \n",
       " \u001b[36m                  \u001b[0m│\u001b[35m \u001b[0m\u001b[35m22:19:46.41…\u001b[0m\u001b[35m \u001b[0m│\u001b[32m              \u001b[0m│\u001b[33m              \u001b[0m│\u001b[33m            \u001b[0m│\u001b[34m             \u001b[0m│\u001b[31m        \u001b[0m│\u001b[31m             \u001b[0m \n",
       " \u001b[36m \u001b[0m\u001b[36mllama3.2:latest \u001b[0m\u001b[36m \u001b[0m│\u001b[35m \u001b[0m\u001b[35m2024-12-07  \u001b[0m\u001b[35m \u001b[0m│\u001b[32m \u001b[0m\u001b[32ma80c4f17acd…\u001b[0m\u001b[32m \u001b[0m│\u001b[33m \u001b[0m\u001b[33m  2019393189\u001b[0m\u001b[33m \u001b[0m│\u001b[33m \u001b[0m\u001b[33m      3.2B\u001b[0m\u001b[33m \u001b[0m│\u001b[34m \u001b[0m\u001b[34mQ4_K_M     \u001b[0m\u001b[34m \u001b[0m│\u001b[31m \u001b[0m\u001b[31mllama \u001b[0m\u001b[31m \u001b[0m│\u001b[31m \u001b[0m\u001b[31mllama      \u001b[0m\u001b[31m \u001b[0m \n",
       " \u001b[36m                  \u001b[0m│\u001b[35m \u001b[0m\u001b[35m22:18:36.84…\u001b[0m\u001b[35m \u001b[0m│\u001b[32m              \u001b[0m│\u001b[33m              \u001b[0m│\u001b[33m            \u001b[0m│\u001b[34m             \u001b[0m│\u001b[31m        \u001b[0m│\u001b[31m             \u001b[0m \n",
       "                   ╵              ╵              ╵              ╵            ╵             ╵        ╵              \n"
      ]
     },
     "metadata": {},
     "output_type": "display_data"
    },
    {
     "data": {
      "text/html": [
       "<pre style=\"white-space:pre;overflow-x:auto;line-height:normal;font-family:Menlo,'DejaVu Sans Mono',consolas,'Courier New',monospace\">15:43:23.786 | <span style=\"color: #008080; text-decoration-color: #008080\">INFO</span>    | Task run 'list_ollama_models-2c5' - Finished in state <span style=\"color: #008000; text-decoration-color: #008000\">Completed</span>()\n",
       "</pre>\n"
      ],
      "text/plain": [
       "15:43:23.786 | \u001b[36mINFO\u001b[0m    | Task run 'list_ollama_models-2c5' - Finished in state \u001b[32mCompleted\u001b[0m()\n"
      ]
     },
     "metadata": {},
     "output_type": "display_data"
    },
    {
     "data": {
      "text/html": [
       "<pre style=\"white-space:pre;overflow-x:auto;line-height:normal;font-family:Menlo,'DejaVu Sans Mono',consolas,'Courier New',monospace\">15:43:23.812 | <span style=\"color: #008080; text-decoration-color: #008080\">INFO</span>    | prefect - Loaded 3 documents from /home/rakesh/Downloads/sample_data/four/\n",
       "</pre>\n"
      ],
      "text/plain": [
       "15:43:23.812 | \u001b[36mINFO\u001b[0m    | prefect - Loaded 3 documents from /home/rakesh/Downloads/sample_data/four/\n"
      ]
     },
     "metadata": {},
     "output_type": "display_data"
    },
    {
     "data": {
      "text/html": [
       "<pre style=\"white-space:pre;overflow-x:auto;line-height:normal;font-family:Menlo,'DejaVu Sans Mono',consolas,'Courier New',monospace\"><span style=\"color: #008000; text-decoration-color: #008000; font-weight: bold\">Loaded </span><span style=\"color: #008000; text-decoration-color: #008000; font-weight: bold\">3</span><span style=\"color: #008000; text-decoration-color: #008000; font-weight: bold\"> documents from /home/rakesh/Downloads/sample_data/four/</span>\n",
       "</pre>\n"
      ],
      "text/plain": [
       "\u001b[1;32mLoaded \u001b[0m\u001b[1;32m3\u001b[0m\u001b[1;32m documents from \u001b[0m\u001b[1;32m/home/rakesh/Downloads/sample_data/four/\u001b[0m\n"
      ]
     },
     "metadata": {},
     "output_type": "display_data"
    },
    {
     "data": {
      "text/html": [
       "<pre style=\"white-space:pre;overflow-x:auto;line-height:normal;font-family:Menlo,'DejaVu Sans Mono',consolas,'Courier New',monospace\">15:43:23.815 | <span style=\"color: #008080; text-decoration-color: #008080\">INFO</span>    | Task run 'load_documents-a98' - Finished in state <span style=\"color: #008000; text-decoration-color: #008000\">Completed</span>()\n",
       "</pre>\n"
      ],
      "text/plain": [
       "15:43:23.815 | \u001b[36mINFO\u001b[0m    | Task run 'load_documents-a98' - Finished in state \u001b[32mCompleted\u001b[0m()\n"
      ]
     },
     "metadata": {},
     "output_type": "display_data"
    },
    {
     "data": {
      "text/html": [
       "<pre style=\"white-space:pre;overflow-x:auto;line-height:normal;font-family:Menlo,'DejaVu Sans Mono',consolas,'Courier New',monospace\">15:43:23.838 | <span style=\"color: #008080; text-decoration-color: #008080\">INFO</span>    | prefect - Processed metadata: 3 unique documents\n",
       "</pre>\n"
      ],
      "text/plain": [
       "15:43:23.838 | \u001b[36mINFO\u001b[0m    | prefect - Processed metadata: 3 unique documents\n"
      ]
     },
     "metadata": {},
     "output_type": "display_data"
    },
    {
     "data": {
      "text/html": [
       "<pre style=\"white-space:pre;overflow-x:auto;line-height:normal;font-family:Menlo,'DejaVu Sans Mono',consolas,'Courier New',monospace\"><span style=\"color: #008000; text-decoration-color: #008000; font-weight: bold\">Processed metadata: </span><span style=\"color: #008000; text-decoration-color: #008000; font-weight: bold\">3</span><span style=\"color: #008000; text-decoration-color: #008000; font-weight: bold\"> unique documents</span>\n",
       "</pre>\n"
      ],
      "text/plain": [
       "\u001b[1;32mProcessed metadata: \u001b[0m\u001b[1;32m3\u001b[0m\u001b[1;32m unique documents\u001b[0m\n"
      ]
     },
     "metadata": {},
     "output_type": "display_data"
    },
    {
     "data": {
      "text/html": [
       "<pre style=\"white-space:pre;overflow-x:auto;line-height:normal;font-family:Menlo,'DejaVu Sans Mono',consolas,'Courier New',monospace\">15:43:23.842 | <span style=\"color: #008080; text-decoration-color: #008080\">INFO</span>    | Task run 'process_metadata-ab7' - Finished in state <span style=\"color: #008000; text-decoration-color: #008000\">Completed</span>()\n",
       "</pre>\n"
      ],
      "text/plain": [
       "15:43:23.842 | \u001b[36mINFO\u001b[0m    | Task run 'process_metadata-ab7' - Finished in state \u001b[32mCompleted\u001b[0m()\n"
      ]
     },
     "metadata": {},
     "output_type": "display_data"
    },
    {
     "data": {
      "text/html": [
       "<pre style=\"white-space:pre;overflow-x:auto;line-height:normal;font-family:Menlo,'DejaVu Sans Mono',consolas,'Courier New',monospace\">15:43:27.216 | <span style=\"color: #008080; text-decoration-color: #008080\">INFO</span>    | prefect - Generated summaries for 3 files with cost 0.0\n",
       "</pre>\n"
      ],
      "text/plain": [
       "15:43:27.216 | \u001b[36mINFO\u001b[0m    | prefect - Generated summaries for 3 files with cost 0.0\n"
      ]
     },
     "metadata": {},
     "output_type": "display_data"
    },
    {
     "data": {
      "text/html": [
       "<pre style=\"white-space:pre;overflow-x:auto;line-height:normal;font-family:Menlo,'DejaVu Sans Mono',consolas,'Courier New',monospace\"><span style=\"color: #008000; text-decoration-color: #008000; font-weight: bold\">Generated summaries for </span><span style=\"color: #008000; text-decoration-color: #008000; font-weight: bold\">3</span><span style=\"color: #008000; text-decoration-color: #008000; font-weight: bold\"> files with cost </span><span style=\"color: #008000; text-decoration-color: #008000; font-weight: bold\">0.0</span>\n",
       "</pre>\n"
      ],
      "text/plain": [
       "\u001b[1;32mGenerated summaries for \u001b[0m\u001b[1;32m3\u001b[0m\u001b[1;32m files with cost \u001b[0m\u001b[1;32m0.0\u001b[0m\n"
      ]
     },
     "metadata": {},
     "output_type": "display_data"
    },
    {
     "data": {
      "text/html": [
       "<pre style=\"white-space:pre;overflow-x:auto;line-height:normal;font-family:Menlo,'DejaVu Sans Mono',consolas,'Courier New',monospace\">15:43:27.224 | <span style=\"color: #008080; text-decoration-color: #008080\">INFO</span>    | Task run 'query_summaries-456' - Finished in state <span style=\"color: #008000; text-decoration-color: #008000\">Completed</span>()\n",
       "</pre>\n"
      ],
      "text/plain": [
       "15:43:27.224 | \u001b[36mINFO\u001b[0m    | Task run 'query_summaries-456' - Finished in state \u001b[32mCompleted\u001b[0m()\n"
      ]
     },
     "metadata": {},
     "output_type": "display_data"
    },
    {
     "data": {
      "text/html": [
       "<pre style=\"white-space:pre;overflow-x:auto;line-height:normal;font-family:Menlo,'DejaVu Sans Mono',consolas,'Courier New',monospace\">15:43:27.282 | <span style=\"color: #008080; text-decoration-color: #008080\">INFO</span>    | prefect - Calculated cost: 0.006093\n",
       "</pre>\n"
      ],
      "text/plain": [
       "15:43:27.282 | \u001b[36mINFO\u001b[0m    | prefect - Calculated cost: 0.006093\n"
      ]
     },
     "metadata": {},
     "output_type": "display_data"
    },
    {
     "data": {
      "text/html": [
       "<pre style=\"white-space:pre;overflow-x:auto;line-height:normal;font-family:Menlo,'DejaVu Sans Mono',consolas,'Courier New',monospace\"><span style=\"color: #008000; text-decoration-color: #008000; font-weight: bold\">Calculated cost:</span> <span style=\"color: #808000; text-decoration-color: #808000; font-weight: bold\">0.006093</span>\n",
       "</pre>\n"
      ],
      "text/plain": [
       "\u001b[1;32mCalculated cost:\u001b[0m \u001b[1;33m0.006093\u001b[0m\n"
      ]
     },
     "metadata": {},
     "output_type": "display_data"
    },
    {
     "data": {
      "text/html": [
       "<pre style=\"white-space:pre;overflow-x:auto;line-height:normal;font-family:Menlo,'DejaVu Sans Mono',consolas,'Courier New',monospace\">15:43:27.288 | <span style=\"color: #008080; text-decoration-color: #008080\">INFO</span>    | Task run 'track_cost_callback' - Finished in state <span style=\"color: #008000; text-decoration-color: #008000\">Completed</span>()\n",
       "</pre>\n"
      ],
      "text/plain": [
       "15:43:27.288 | \u001b[36mINFO\u001b[0m    | Task run 'track_cost_callback' - Finished in state \u001b[32mCompleted\u001b[0m()\n"
      ]
     },
     "metadata": {},
     "output_type": "display_data"
    },
    {
     "data": {
      "text/html": [
       "<pre style=\"white-space:pre;overflow-x:auto;line-height:normal;font-family:Menlo,'DejaVu Sans Mono',consolas,'Courier New',monospace\">15:43:30.341 | <span style=\"color: #008080; text-decoration-color: #008080\">INFO</span>    | prefect - Created file tree for 3 files\n",
       "</pre>\n"
      ],
      "text/plain": [
       "15:43:30.341 | \u001b[36mINFO\u001b[0m    | prefect - Created file tree for 3 files\n"
      ]
     },
     "metadata": {},
     "output_type": "display_data"
    },
    {
     "data": {
      "text/html": [
       "<pre style=\"white-space:pre;overflow-x:auto;line-height:normal;font-family:Menlo,'DejaVu Sans Mono',consolas,'Courier New',monospace\"><span style=\"color: #008000; text-decoration-color: #008000; font-weight: bold\">Created file tree for </span><span style=\"color: #008000; text-decoration-color: #008000; font-weight: bold\">3</span><span style=\"color: #008000; text-decoration-color: #008000; font-weight: bold\"> files</span>\n",
       "</pre>\n"
      ],
      "text/plain": [
       "\u001b[1;32mCreated file tree for \u001b[0m\u001b[1;32m3\u001b[0m\u001b[1;32m files\u001b[0m\n"
      ]
     },
     "metadata": {},
     "output_type": "display_data"
    },
    {
     "data": {
      "text/html": [
       "<pre style=\"white-space:pre;overflow-x:auto;line-height:normal;font-family:Menlo,'DejaVu Sans Mono',consolas,'Courier New',monospace\">15:43:30.347 | <span style=\"color: #008080; text-decoration-color: #008080\">INFO</span>    | Task run 'create_file_tree-ff6' - Finished in state <span style=\"color: #008000; text-decoration-color: #008000\">Completed</span>()\n",
       "</pre>\n"
      ],
      "text/plain": [
       "15:43:30.347 | \u001b[36mINFO\u001b[0m    | Task run 'create_file_tree-ff6' - Finished in state \u001b[32mCompleted\u001b[0m()\n"
      ]
     },
     "metadata": {},
     "output_type": "display_data"
    },
    {
     "data": {
      "text/html": [
       "<pre style=\"white-space:pre;overflow-x:auto;line-height:normal;font-family:Menlo,'DejaVu Sans Mono',consolas,'Courier New',monospace\">15:43:30.406 | <span style=\"color: #008080; text-decoration-color: #008080\">INFO</span>    | prefect - Calculated cost: 0.004527\n",
       "</pre>\n"
      ],
      "text/plain": [
       "15:43:30.406 | \u001b[36mINFO\u001b[0m    | prefect - Calculated cost: 0.004527\n"
      ]
     },
     "metadata": {},
     "output_type": "display_data"
    },
    {
     "data": {
      "text/html": [
       "<pre style=\"white-space:pre;overflow-x:auto;line-height:normal;font-family:Menlo,'DejaVu Sans Mono',consolas,'Courier New',monospace\"><span style=\"color: #008000; text-decoration-color: #008000; font-weight: bold\">Calculated cost:</span> <span style=\"color: #808000; text-decoration-color: #808000; font-weight: bold\">0.004527</span>\n",
       "</pre>\n"
      ],
      "text/plain": [
       "\u001b[1;32mCalculated cost:\u001b[0m \u001b[1;33m0.004527\u001b[0m\n"
      ]
     },
     "metadata": {},
     "output_type": "display_data"
    },
    {
     "data": {
      "text/html": [
       "<pre style=\"white-space:pre;overflow-x:auto;line-height:normal;font-family:Menlo,'DejaVu Sans Mono',consolas,'Courier New',monospace\">15:43:30.409 | <span style=\"color: #008080; text-decoration-color: #008080\">INFO</span>    | prefect - All necessary subdirectories created.\n",
       "</pre>\n"
      ],
      "text/plain": [
       "15:43:30.409 | \u001b[36mINFO\u001b[0m    | prefect - All necessary subdirectories created.\n"
      ]
     },
     "metadata": {},
     "output_type": "display_data"
    },
    {
     "data": {
      "text/html": [
       "<pre style=\"white-space:pre;overflow-x:auto;line-height:normal;font-family:Menlo,'DejaVu Sans Mono',consolas,'Courier New',monospace\">15:43:30.411 | <span style=\"color: #008080; text-decoration-color: #008080\">INFO</span>    | Task run 'track_cost_callback' - Finished in state <span style=\"color: #008000; text-decoration-color: #008000\">Completed</span>()\n",
       "</pre>\n"
      ],
      "text/plain": [
       "15:43:30.411 | \u001b[36mINFO\u001b[0m    | Task run 'track_cost_callback' - Finished in state \u001b[32mCompleted\u001b[0m()\n"
      ]
     },
     "metadata": {},
     "output_type": "display_data"
    },
    {
     "data": {
      "text/html": [
       "<pre style=\"white-space:pre;overflow-x:auto;line-height:normal;font-family:Menlo,'DejaVu Sans Mono',consolas,'Courier New',monospace\"><span style=\"color: #008000; text-decoration-color: #008000; font-weight: bold\">All necessary subdirectories created.</span>\n",
       "</pre>\n"
      ],
      "text/plain": [
       "\u001b[1;32mAll necessary subdirectories created.\u001b[0m\n"
      ]
     },
     "metadata": {},
     "output_type": "display_data"
    },
    {
     "data": {
      "text/html": [
       "<pre style=\"white-space:pre;overflow-x:auto;line-height:normal;font-family:Menlo,'DejaVu Sans Mono',consolas,'Courier New',monospace\">15:43:30.415 | <span style=\"color: #008080; text-decoration-color: #008080\">INFO</span>    | Task run 'create_subdirectories-388' - Finished in state <span style=\"color: #008000; text-decoration-color: #008000\">Completed</span>()\n",
       "</pre>\n"
      ],
      "text/plain": [
       "15:43:30.415 | \u001b[36mINFO\u001b[0m    | Task run 'create_subdirectories-388' - Finished in state \u001b[32mCompleted\u001b[0m()\n"
      ]
     },
     "metadata": {},
     "output_type": "display_data"
    },
    {
     "data": {
      "text/html": [
       "<pre style=\"white-space:pre;overflow-x:auto;line-height:normal;font-family:Menlo,'DejaVu Sans Mono',consolas,'Courier New',monospace\">15:43:30.439 | <span style=\"color: #008080; text-decoration-color: #008080\">INFO</span>    | prefect - Concatenated summary and file tree for 3 files\n",
       "</pre>\n"
      ],
      "text/plain": [
       "15:43:30.439 | \u001b[36mINFO\u001b[0m    | prefect - Concatenated summary and file tree for 3 files\n"
      ]
     },
     "metadata": {},
     "output_type": "display_data"
    },
    {
     "data": {
      "text/html": [
       "<pre style=\"white-space:pre;overflow-x:auto;line-height:normal;font-family:Menlo,'DejaVu Sans Mono',consolas,'Courier New',monospace\"><span style=\"color: #008000; text-decoration-color: #008000; font-weight: bold\">Concatenated summary and file tree for </span><span style=\"color: #008000; text-decoration-color: #008000; font-weight: bold\">3</span><span style=\"color: #008000; text-decoration-color: #008000; font-weight: bold\"> files</span>\n",
       "</pre>\n"
      ],
      "text/plain": [
       "\u001b[1;32mConcatenated summary and file tree for \u001b[0m\u001b[1;32m3\u001b[0m\u001b[1;32m files\u001b[0m\n"
      ]
     },
     "metadata": {},
     "output_type": "display_data"
    },
    {
     "data": {
      "text/html": [
       "<pre style=\"white-space:pre;overflow-x:auto;line-height:normal;font-family:Menlo,'DejaVu Sans Mono',consolas,'Courier New',monospace\">15:43:30.443 | <span style=\"color: #008080; text-decoration-color: #008080\">INFO</span>    | Task run 'concatenate_summaries_and_file_tree-640' - Finished in state <span style=\"color: #008000; text-decoration-color: #008000\">Completed</span>()\n",
       "</pre>\n"
      ],
      "text/plain": [
       "15:43:30.443 | \u001b[36mINFO\u001b[0m    | Task run 'concatenate_summaries_and_file_tree-640' - Finished in state \u001b[32mCompleted\u001b[0m()\n"
      ]
     },
     "metadata": {},
     "output_type": "display_data"
    },
    {
     "data": {
      "text/html": [
       "<pre style=\"white-space:pre;overflow-x:auto;line-height:normal;font-family:Menlo,'DejaVu Sans Mono',consolas,'Courier New',monospace\"><span style=\"font-style: italic\">                                                Organized Files                                                 </span>\n",
       "              ╷                                                                                                 \n",
       " <span style=\"font-weight: bold\"> Source Path </span>│<span style=\"font-weight: bold\"> Destination Path                                                                               </span> \n",
       " ═════════════╪════════════════════════════════════════════════════════════════════════════════════════════════ \n",
       " <span style=\"color: #008080; text-decoration-color: #008080\">             </span>│<span style=\"color: #008000; text-decoration-color: #008000\"> /home/rakesh/Downloads/sample_data/four_organized/Technology/Vertical_LLM_Agents/dsflsdflj.txt </span> \n",
       " <span style=\"color: #008080; text-decoration-color: #008080\">             </span>│<span style=\"color: #008000; text-decoration-color: #008000\"> /home/rakesh/Downloads/sample_data/four_organized/Miscellaneous/random_file.txt                </span> \n",
       " <span style=\"color: #008080; text-decoration-color: #008080\">             </span>│<span style=\"color: #008000; text-decoration-color: #008000\"> /home/rakesh/Downloads/sample_data/four_organized/Technology/NextJS_Starters/shad.txt          </span> \n",
       "              ╵                                                                                                 \n",
       "</pre>\n"
      ],
      "text/plain": [
       "\u001b[3m                                                Organized Files                                                 \u001b[0m\n",
       "              ╷                                                                                                 \n",
       " \u001b[1m \u001b[0m\u001b[1mSource Path\u001b[0m\u001b[1m \u001b[0m│\u001b[1m \u001b[0m\u001b[1mDestination Path                                                                              \u001b[0m\u001b[1m \u001b[0m \n",
       " ═════════════╪════════════════════════════════════════════════════════════════════════════════════════════════ \n",
       " \u001b[36m \u001b[0m\u001b[36m           \u001b[0m\u001b[36m \u001b[0m│\u001b[32m \u001b[0m\u001b[32m/home/rakesh/Downloads/sample_data/four_organized/Technology/Vertical_LLM_Agents/dsflsdflj.txt\u001b[0m\u001b[32m \u001b[0m \n",
       " \u001b[36m \u001b[0m\u001b[36m           \u001b[0m\u001b[36m \u001b[0m│\u001b[32m \u001b[0m\u001b[32m/home/rakesh/Downloads/sample_data/four_organized/Miscellaneous/random_file.txt               \u001b[0m\u001b[32m \u001b[0m \n",
       " \u001b[36m \u001b[0m\u001b[36m           \u001b[0m\u001b[36m \u001b[0m│\u001b[32m \u001b[0m\u001b[32m/home/rakesh/Downloads/sample_data/four_organized/Technology/NextJS_Starters/shad.txt         \u001b[0m\u001b[32m \u001b[0m \n",
       "              ╵                                                                                                 \n"
      ]
     },
     "metadata": {},
     "output_type": "display_data"
    },
    {
     "data": {
      "text/html": [
       "<pre style=\"white-space:pre;overflow-x:auto;line-height:normal;font-family:Menlo,'DejaVu Sans Mono',consolas,'Courier New',monospace\">15:43:30.480 | <span style=\"color: #008080; text-decoration-color: #008080\">INFO</span>    | Task run 'display_organized_files-7a4' - Finished in state <span style=\"color: #008000; text-decoration-color: #008000\">Completed</span>()\n",
       "</pre>\n"
      ],
      "text/plain": [
       "15:43:30.480 | \u001b[36mINFO\u001b[0m    | Task run 'display_organized_files-7a4' - Finished in state \u001b[32mCompleted\u001b[0m()\n"
      ]
     },
     "metadata": {},
     "output_type": "display_data"
    },
    {
     "data": {
      "text/html": [
       "<pre style=\"white-space:pre;overflow-x:auto;line-height:normal;font-family:Menlo,'DejaVu Sans Mono',consolas,'Courier New',monospace\"><span style=\"font-style: italic\">                                           Summaries and Organized Files                                           </span>\n",
       "                                                          ╷                  ╷                  ╷                  \n",
       " <span style=\"font-weight: bold\">                                                         </span>│<span style=\"font-weight: bold\">                  </span>│<span style=\"font-weight: bold\">                  </span>│<span style=\"font-weight: bold\"> Destination     </span> \n",
       " <span style=\"font-weight: bold\"> File Path                                               </span>│<span style=\"font-weight: bold\"> Summary          </span>│<span style=\"font-weight: bold\"> Destination Path </span>│<span style=\"font-weight: bold\"> Path New        </span> \n",
       " ═════════════════════════════════════════════════════════╪══════════════════╪══════════════════╪═════════════════ \n",
       " <span style=\"color: #008080; text-decoration-color: #008080\"> /home/rakesh/Downloads/sample_data/four/dsflsdflj.txt   </span>│<span style=\"color: #008000; text-decoration-color: #008000\"> This file        </span>│<span style=\"color: #800080; text-decoration-color: #800080\"> /home/rakesh/Do… </span>│<span style=\"color: #808000; text-decoration-color: #808000\"> /home/rakesh/D… </span> \n",
       " <span style=\"color: #008080; text-decoration-color: #008080\">                                                         </span>│<span style=\"color: #008000; text-decoration-color: #008000\"> discusses the    </span>│<span style=\"color: #800080; text-decoration-color: #800080\">                  </span>│<span style=\"color: #808000; text-decoration-color: #808000\">                 </span> \n",
       " <span style=\"color: #008080; text-decoration-color: #008080\">                                                         </span>│<span style=\"color: #008000; text-decoration-color: #008000\"> emergence of     </span>│<span style=\"color: #800080; text-decoration-color: #800080\">                  </span>│<span style=\"color: #808000; text-decoration-color: #808000\">                 </span> \n",
       " <span style=\"color: #008080; text-decoration-color: #008080\">                                                         </span>│<span style=\"color: #008000; text-decoration-color: #008000\"> Vertical Large   </span>│<span style=\"color: #800080; text-decoration-color: #800080\">                  </span>│<span style=\"color: #808000; text-decoration-color: #808000\">                 </span> \n",
       " <span style=\"color: #008080; text-decoration-color: #008080\">                                                         </span>│<span style=\"color: #008000; text-decoration-color: #008000\"> Language Model   </span>│<span style=\"color: #800080; text-decoration-color: #800080\">                  </span>│<span style=\"color: #808000; text-decoration-color: #808000\">                 </span> \n",
       " <span style=\"color: #008080; text-decoration-color: #008080\">                                                         </span>│<span style=\"color: #008000; text-decoration-color: #008000\"> (LLM) Agents as  </span>│<span style=\"color: #800080; text-decoration-color: #800080\">                  </span>│<span style=\"color: #808000; text-decoration-color: #808000\">                 </span> \n",
       " <span style=\"color: #008080; text-decoration-color: #008080\">                                                         </span>│<span style=\"color: #008000; text-decoration-color: #008000\"> a transformative </span>│<span style=\"color: #800080; text-decoration-color: #800080\">                  </span>│<span style=\"color: #808000; text-decoration-color: #808000\">                 </span> \n",
       " <span style=\"color: #008080; text-decoration-color: #008080\">                                                         </span>│<span style=\"color: #008000; text-decoration-color: #008000\"> technology in    </span>│<span style=\"color: #800080; text-decoration-color: #800080\">                  </span>│<span style=\"color: #808000; text-decoration-color: #808000\">                 </span> \n",
       " <span style=\"color: #008080; text-decoration-color: #008080\">                                                         </span>│<span style=\"color: #008000; text-decoration-color: #008000\"> the Software as  </span>│<span style=\"color: #800080; text-decoration-color: #800080\">                  </span>│<span style=\"color: #808000; text-decoration-color: #808000\">                 </span> \n",
       " <span style=\"color: #008080; text-decoration-color: #008080\">                                                         </span>│<span style=\"color: #008000; text-decoration-color: #008000\"> a Service (SaaS) </span>│<span style=\"color: #800080; text-decoration-color: #800080\">                  </span>│<span style=\"color: #808000; text-decoration-color: #808000\">                 </span> \n",
       " <span style=\"color: #008080; text-decoration-color: #008080\">                                                         </span>│<span style=\"color: #008000; text-decoration-color: #008000\"> industry. It     </span>│<span style=\"color: #800080; text-decoration-color: #800080\">                  </span>│<span style=\"color: #808000; text-decoration-color: #808000\">                 </span> \n",
       " <span style=\"color: #008080; text-decoration-color: #008080\">                                                         </span>│<span style=\"color: #008000; text-decoration-color: #008000\"> highlights the   </span>│<span style=\"color: #800080; text-decoration-color: #800080\">                  </span>│<span style=\"color: #808000; text-decoration-color: #808000\">                 </span> \n",
       " <span style=\"color: #008080; text-decoration-color: #008080\">                                                         </span>│<span style=\"color: #008000; text-decoration-color: #008000\"> success story of </span>│<span style=\"color: #800080; text-decoration-color: #800080\">                  </span>│<span style=\"color: #808000; text-decoration-color: #808000\">                 </span> \n",
       " <span style=\"color: #008080; text-decoration-color: #008080\">                                                         </span>│<span style=\"color: #008000; text-decoration-color: #008000\"> Case Text's      </span>│<span style=\"color: #800080; text-decoration-color: #800080\">                  </span>│<span style=\"color: #808000; text-decoration-color: #808000\">                 </span> \n",
       " <span style=\"color: #008080; text-decoration-color: #008080\">                                                         </span>│<span style=\"color: #008000; text-decoration-color: #008000\"> Co-Counsel, an   </span>│<span style=\"color: #800080; text-decoration-color: #800080\">                  </span>│<span style=\"color: #808000; text-decoration-color: #808000\">                 </span> \n",
       " <span style=\"color: #008080; text-decoration-color: #008080\">                                                         </span>│<span style=\"color: #008000; text-decoration-color: #008000\"> AI-driven legal  </span>│<span style=\"color: #800080; text-decoration-color: #800080\">                  </span>│<span style=\"color: #808000; text-decoration-color: #808000\">                 </span> \n",
       " <span style=\"color: #008080; text-decoration-color: #008080\">                                                         </span>│<span style=\"color: #008000; text-decoration-color: #008000\"> assistant that   </span>│<span style=\"color: #800080; text-decoration-color: #800080\">                  </span>│<span style=\"color: #808000; text-decoration-color: #808000\">                 </span> \n",
       " <span style=\"color: #008080; text-decoration-color: #008080\">                                                         </span>│<span style=\"color: #008000; text-decoration-color: #008000\"> dramatically     </span>│<span style=\"color: #800080; text-decoration-color: #800080\">                  </span>│<span style=\"color: #808000; text-decoration-color: #808000\">                 </span> \n",
       " <span style=\"color: #008080; text-decoration-color: #008080\">                                                         </span>│<span style=\"color: #008000; text-decoration-color: #008000\"> increased the    </span>│<span style=\"color: #800080; text-decoration-color: #800080\">                  </span>│<span style=\"color: #808000; text-decoration-color: #808000\">                 </span> \n",
       " <span style=\"color: #008080; text-decoration-color: #008080\">                                                         </span>│<span style=\"color: #008000; text-decoration-color: #008000\"> company's        </span>│<span style=\"color: #800080; text-decoration-color: #800080\">                  </span>│<span style=\"color: #808000; text-decoration-color: #808000\">                 </span> \n",
       " <span style=\"color: #008080; text-decoration-color: #008080\">                                                         </span>│<span style=\"color: #008000; text-decoration-color: #008000\"> valuation, and   </span>│<span style=\"color: #800080; text-decoration-color: #800080\">                  </span>│<span style=\"color: #808000; text-decoration-color: #808000\">                 </span> \n",
       " <span style=\"color: #008080; text-decoration-color: #008080\">                                                         </span>│<span style=\"color: #008000; text-decoration-color: #008000\"> explores how     </span>│<span style=\"color: #800080; text-decoration-color: #800080\">                  </span>│<span style=\"color: #808000; text-decoration-color: #808000\">                 </span> \n",
       " <span style=\"color: #008080; text-decoration-color: #008080\">                                                         </span>│<span style=\"color: #008000; text-decoration-color: #008000\"> organizations    </span>│<span style=\"color: #800080; text-decoration-color: #800080\">                  </span>│<span style=\"color: #808000; text-decoration-color: #808000\">                 </span> \n",
       " <span style=\"color: #008080; text-decoration-color: #008080\">                                                         </span>│<span style=\"color: #008000; text-decoration-color: #008000\"> can leverage     </span>│<span style=\"color: #800080; text-decoration-color: #800080\">                  </span>│<span style=\"color: #808000; text-decoration-color: #808000\">                 </span> \n",
       " <span style=\"color: #008080; text-decoration-color: #008080\">                                                         </span>│<span style=\"color: #008000; text-decoration-color: #008000\"> this technology  </span>│<span style=\"color: #800080; text-decoration-color: #800080\">                  </span>│<span style=\"color: #808000; text-decoration-color: #808000\">                 </span> \n",
       " <span style=\"color: #008080; text-decoration-color: #008080\">                                                         </span>│<span style=\"color: #008000; text-decoration-color: #008000\"> to gain a        </span>│<span style=\"color: #800080; text-decoration-color: #800080\">                  </span>│<span style=\"color: #808000; text-decoration-color: #808000\">                 </span> \n",
       " <span style=\"color: #008080; text-decoration-color: #008080\">                                                         </span>│<span style=\"color: #008000; text-decoration-color: #008000\"> competitive      </span>│<span style=\"color: #800080; text-decoration-color: #800080\">                  </span>│<span style=\"color: #808000; text-decoration-color: #808000\">                 </span> \n",
       " <span style=\"color: #008080; text-decoration-color: #008080\">                                                         </span>│<span style=\"color: #008000; text-decoration-color: #008000\"> advantage.       </span>│<span style=\"color: #800080; text-decoration-color: #800080\">                  </span>│<span style=\"color: #808000; text-decoration-color: #808000\">                 </span> \n",
       " <span style=\"color: #008080; text-decoration-color: #008080\"> /home/rakesh/Downloads/sample_data/four/random_file.txt </span>│<span style=\"color: #008000; text-decoration-color: #008000\"> This file        </span>│<span style=\"color: #800080; text-decoration-color: #800080\"> /home/rakesh/Do… </span>│<span style=\"color: #808000; text-decoration-color: #808000\"> /home/rakesh/D… </span> \n",
       " <span style=\"color: #008080; text-decoration-color: #008080\">                                                         </span>│<span style=\"color: #008000; text-decoration-color: #008000\"> contains a test  </span>│<span style=\"color: #800080; text-decoration-color: #800080\">                  </span>│<span style=\"color: #808000; text-decoration-color: #808000\">                 </span> \n",
       " <span style=\"color: #008080; text-decoration-color: #008080\">                                                         </span>│<span style=\"color: #008000; text-decoration-color: #008000\"> file with some   </span>│<span style=\"color: #800080; text-decoration-color: #800080\">                  </span>│<span style=\"color: #808000; text-decoration-color: #808000\">                 </span> \n",
       " <span style=\"color: #008080; text-decoration-color: #008080\">                                                         </span>│<span style=\"color: #008000; text-decoration-color: #008000\"> basic            </span>│<span style=\"color: #800080; text-decoration-color: #800080\">                  </span>│<span style=\"color: #808000; text-decoration-color: #808000\">                 </span> \n",
       " <span style=\"color: #008080; text-decoration-color: #008080\">                                                         </span>│<span style=\"color: #008000; text-decoration-color: #008000\"> information,     </span>│<span style=\"color: #800080; text-decoration-color: #800080\">                  </span>│<span style=\"color: #808000; text-decoration-color: #808000\">                 </span> \n",
       " <span style=\"color: #008080; text-decoration-color: #008080\">                                                         </span>│<span style=\"color: #008000; text-decoration-color: #008000\"> including a bank </span>│<span style=\"color: #800080; text-decoration-color: #800080\">                  </span>│<span style=\"color: #808000; text-decoration-color: #808000\">                 </span> \n",
       " <span style=\"color: #008080; text-decoration-color: #008080\">                                                         </span>│<span style=\"color: #008000; text-decoration-color: #008000\"> account number.  </span>│<span style=\"color: #800080; text-decoration-color: #800080\">                  </span>│<span style=\"color: #808000; text-decoration-color: #808000\">                 </span> \n",
       " <span style=\"color: #008080; text-decoration-color: #008080\"> /home/rakesh/Downloads/sample_data/four/shad.txt        </span>│<span style=\"color: #008000; text-decoration-color: #008000\"> This file        </span>│<span style=\"color: #800080; text-decoration-color: #800080\"> /home/rakesh/Do… </span>│<span style=\"color: #808000; text-decoration-color: #808000\"> /home/rakesh/D… </span> \n",
       " <span style=\"color: #008080; text-decoration-color: #008080\">                                                         </span>│<span style=\"color: #008000; text-decoration-color: #008000\"> provides an      </span>│<span style=\"color: #800080; text-decoration-color: #800080\">                  </span>│<span style=\"color: #808000; text-decoration-color: #808000\">                 </span> \n",
       " <span style=\"color: #008080; text-decoration-color: #008080\">                                                         </span>│<span style=\"color: #008000; text-decoration-color: #008000\"> overview of      </span>│<span style=\"color: #800080; text-decoration-color: #800080\">                  </span>│<span style=\"color: #808000; text-decoration-color: #808000\">                 </span> \n",
       " <span style=\"color: #008080; text-decoration-color: #008080\">                                                         </span>│<span style=\"color: #008000; text-decoration-color: #008000\"> several          </span>│<span style=\"color: #800080; text-decoration-color: #800080\">                  </span>│<span style=\"color: #808000; text-decoration-color: #808000\">                 </span> \n",
       " <span style=\"color: #008080; text-decoration-color: #008080\">                                                         </span>│<span style=\"color: #008000; text-decoration-color: #008000\"> open-source      </span>│<span style=\"color: #800080; text-decoration-color: #800080\">                  </span>│<span style=\"color: #808000; text-decoration-color: #808000\">                 </span> \n",
       " <span style=\"color: #008080; text-decoration-color: #008080\">                                                         </span>│<span style=\"color: #008000; text-decoration-color: #008000\"> Next.js starter  </span>│<span style=\"color: #800080; text-decoration-color: #800080\">                  </span>│<span style=\"color: #808000; text-decoration-color: #808000\">                 </span> \n",
       " <span style=\"color: #008080; text-decoration-color: #008080\">                                                         </span>│<span style=\"color: #008000; text-decoration-color: #008000\"> projects,        </span>│<span style=\"color: #800080; text-decoration-color: #800080\">                  </span>│<span style=\"color: #808000; text-decoration-color: #808000\">                 </span> \n",
       " <span style=\"color: #008080; text-decoration-color: #008080\">                                                         </span>│<span style=\"color: #008000; text-decoration-color: #008000\"> including        </span>│<span style=\"color: #800080; text-decoration-color: #800080\">                  </span>│<span style=\"color: #808000; text-decoration-color: #808000\">                 </span> \n",
       " <span style=\"color: #008080; text-decoration-color: #008080\">                                                         </span>│<span style=\"color: #008000; text-decoration-color: #008000\"> details on their </span>│<span style=\"color: #800080; text-decoration-color: #800080\">                  </span>│<span style=\"color: #808000; text-decoration-color: #808000\">                 </span> \n",
       " <span style=\"color: #008080; text-decoration-color: #008080\">                                                         </span>│<span style=\"color: #008000; text-decoration-color: #008000\"> features,        </span>│<span style=\"color: #800080; text-decoration-color: #800080\">                  </span>│<span style=\"color: #808000; text-decoration-color: #808000\">                 </span> \n",
       " <span style=\"color: #008080; text-decoration-color: #008080\">                                                         </span>│<span style=\"color: #008000; text-decoration-color: #008000\"> technologies     </span>│<span style=\"color: #800080; text-decoration-color: #800080\">                  </span>│<span style=\"color: #808000; text-decoration-color: #808000\">                 </span> \n",
       " <span style=\"color: #008080; text-decoration-color: #008080\">                                                         </span>│<span style=\"color: #008000; text-decoration-color: #008000\"> used, and use    </span>│<span style=\"color: #800080; text-decoration-color: #800080\">                  </span>│<span style=\"color: #808000; text-decoration-color: #808000\">                 </span> \n",
       " <span style=\"color: #008080; text-decoration-color: #008080\">                                                         </span>│<span style=\"color: #008000; text-decoration-color: #008000\"> cases. The       </span>│<span style=\"color: #800080; text-decoration-color: #800080\">                  </span>│<span style=\"color: #808000; text-decoration-color: #808000\">                 </span> \n",
       " <span style=\"color: #008080; text-decoration-color: #008080\">                                                         </span>│<span style=\"color: #008000; text-decoration-color: #008000\"> projects cover a </span>│<span style=\"color: #800080; text-decoration-color: #800080\">                  </span>│<span style=\"color: #808000; text-decoration-color: #808000\">                 </span> \n",
       " <span style=\"color: #008080; text-decoration-color: #008080\">                                                         </span>│<span style=\"color: #008000; text-decoration-color: #008000\"> wide range of    </span>│<span style=\"color: #800080; text-decoration-color: #800080\">                  </span>│<span style=\"color: #808000; text-decoration-color: #808000\">                 </span> \n",
       " <span style=\"color: #008080; text-decoration-color: #008080\">                                                         </span>│<span style=\"color: #008000; text-decoration-color: #008000\"> functionalities, </span>│<span style=\"color: #800080; text-decoration-color: #800080\">                  </span>│<span style=\"color: #808000; text-decoration-color: #808000\">                 </span> \n",
       " <span style=\"color: #008080; text-decoration-color: #008080\">                                                         </span>│<span style=\"color: #008000; text-decoration-color: #008000\"> from blogging    </span>│<span style=\"color: #800080; text-decoration-color: #800080\">                  </span>│<span style=\"color: #808000; text-decoration-color: #808000\">                 </span> \n",
       " <span style=\"color: #008080; text-decoration-color: #008080\">                                                         </span>│<span style=\"color: #008000; text-decoration-color: #008000\"> platforms to     </span>│<span style=\"color: #800080; text-decoration-color: #800080\">                  </span>│<span style=\"color: #808000; text-decoration-color: #808000\">                 </span> \n",
       " <span style=\"color: #008080; text-decoration-color: #008080\">                                                         </span>│<span style=\"color: #008000; text-decoration-color: #008000\"> admin            </span>│<span style=\"color: #800080; text-decoration-color: #800080\">                  </span>│<span style=\"color: #808000; text-decoration-color: #808000\">                 </span> \n",
       " <span style=\"color: #008080; text-decoration-color: #008080\">                                                         </span>│<span style=\"color: #008000; text-decoration-color: #008000\"> dashboards, and  </span>│<span style=\"color: #800080; text-decoration-color: #800080\">                  </span>│<span style=\"color: #808000; text-decoration-color: #808000\">                 </span> \n",
       " <span style=\"color: #008080; text-decoration-color: #008080\">                                                         </span>│<span style=\"color: #008000; text-decoration-color: #008000\"> aim to           </span>│<span style=\"color: #800080; text-decoration-color: #800080\">                  </span>│<span style=\"color: #808000; text-decoration-color: #808000\">                 </span> \n",
       " <span style=\"color: #008080; text-decoration-color: #008080\">                                                         </span>│<span style=\"color: #008000; text-decoration-color: #008000\"> accelerate the   </span>│<span style=\"color: #800080; text-decoration-color: #800080\">                  </span>│<span style=\"color: #808000; text-decoration-color: #808000\">                 </span> \n",
       " <span style=\"color: #008080; text-decoration-color: #008080\">                                                         </span>│<span style=\"color: #008000; text-decoration-color: #008000\"> development of   </span>│<span style=\"color: #800080; text-decoration-color: #800080\">                  </span>│<span style=\"color: #808000; text-decoration-color: #808000\">                 </span> \n",
       " <span style=\"color: #008080; text-decoration-color: #008080\">                                                         </span>│<span style=\"color: #008000; text-decoration-color: #008000\"> Next.js-based    </span>│<span style=\"color: #800080; text-decoration-color: #800080\">                  </span>│<span style=\"color: #808000; text-decoration-color: #808000\">                 </span> \n",
       " <span style=\"color: #008080; text-decoration-color: #008080\">                                                         </span>│<span style=\"color: #008000; text-decoration-color: #008000\"> applications.    </span>│<span style=\"color: #800080; text-decoration-color: #800080\">                  </span>│<span style=\"color: #808000; text-decoration-color: #808000\">                 </span> \n",
       "                                                          ╵                  ╵                  ╵                  \n",
       "</pre>\n"
      ],
      "text/plain": [
       "\u001b[3m                                           Summaries and Organized Files                                           \u001b[0m\n",
       "                                                          ╷                  ╷                  ╷                  \n",
       " \u001b[1m                                                         \u001b[0m│\u001b[1m                  \u001b[0m│\u001b[1m                  \u001b[0m│\u001b[1m \u001b[0m\u001b[1mDestination    \u001b[0m\u001b[1m \u001b[0m \n",
       " \u001b[1m \u001b[0m\u001b[1mFile Path                                              \u001b[0m\u001b[1m \u001b[0m│\u001b[1m \u001b[0m\u001b[1mSummary         \u001b[0m\u001b[1m \u001b[0m│\u001b[1m \u001b[0m\u001b[1mDestination Path\u001b[0m\u001b[1m \u001b[0m│\u001b[1m \u001b[0m\u001b[1mPath New       \u001b[0m\u001b[1m \u001b[0m \n",
       " ═════════════════════════════════════════════════════════╪══════════════════╪══════════════════╪═════════════════ \n",
       " \u001b[36m \u001b[0m\u001b[36m/home/rakesh/Downloads/sample_data/four/dsflsdflj.txt  \u001b[0m\u001b[36m \u001b[0m│\u001b[32m \u001b[0m\u001b[32mThis file       \u001b[0m\u001b[32m \u001b[0m│\u001b[35m \u001b[0m\u001b[35m/home/rakesh/Do…\u001b[0m\u001b[35m \u001b[0m│\u001b[33m \u001b[0m\u001b[33m/home/rakesh/D…\u001b[0m\u001b[33m \u001b[0m \n",
       " \u001b[36m                                                         \u001b[0m│\u001b[32m \u001b[0m\u001b[32mdiscusses the   \u001b[0m\u001b[32m \u001b[0m│\u001b[35m                  \u001b[0m│\u001b[33m                 \u001b[0m \n",
       " \u001b[36m                                                         \u001b[0m│\u001b[32m \u001b[0m\u001b[32memergence of    \u001b[0m\u001b[32m \u001b[0m│\u001b[35m                  \u001b[0m│\u001b[33m                 \u001b[0m \n",
       " \u001b[36m                                                         \u001b[0m│\u001b[32m \u001b[0m\u001b[32mVertical Large  \u001b[0m\u001b[32m \u001b[0m│\u001b[35m                  \u001b[0m│\u001b[33m                 \u001b[0m \n",
       " \u001b[36m                                                         \u001b[0m│\u001b[32m \u001b[0m\u001b[32mLanguage Model  \u001b[0m\u001b[32m \u001b[0m│\u001b[35m                  \u001b[0m│\u001b[33m                 \u001b[0m \n",
       " \u001b[36m                                                         \u001b[0m│\u001b[32m \u001b[0m\u001b[32m(LLM) Agents as \u001b[0m\u001b[32m \u001b[0m│\u001b[35m                  \u001b[0m│\u001b[33m                 \u001b[0m \n",
       " \u001b[36m                                                         \u001b[0m│\u001b[32m \u001b[0m\u001b[32ma transformative\u001b[0m\u001b[32m \u001b[0m│\u001b[35m                  \u001b[0m│\u001b[33m                 \u001b[0m \n",
       " \u001b[36m                                                         \u001b[0m│\u001b[32m \u001b[0m\u001b[32mtechnology in   \u001b[0m\u001b[32m \u001b[0m│\u001b[35m                  \u001b[0m│\u001b[33m                 \u001b[0m \n",
       " \u001b[36m                                                         \u001b[0m│\u001b[32m \u001b[0m\u001b[32mthe Software as \u001b[0m\u001b[32m \u001b[0m│\u001b[35m                  \u001b[0m│\u001b[33m                 \u001b[0m \n",
       " \u001b[36m                                                         \u001b[0m│\u001b[32m \u001b[0m\u001b[32ma Service (SaaS)\u001b[0m\u001b[32m \u001b[0m│\u001b[35m                  \u001b[0m│\u001b[33m                 \u001b[0m \n",
       " \u001b[36m                                                         \u001b[0m│\u001b[32m \u001b[0m\u001b[32mindustry. It    \u001b[0m\u001b[32m \u001b[0m│\u001b[35m                  \u001b[0m│\u001b[33m                 \u001b[0m \n",
       " \u001b[36m                                                         \u001b[0m│\u001b[32m \u001b[0m\u001b[32mhighlights the  \u001b[0m\u001b[32m \u001b[0m│\u001b[35m                  \u001b[0m│\u001b[33m                 \u001b[0m \n",
       " \u001b[36m                                                         \u001b[0m│\u001b[32m \u001b[0m\u001b[32msuccess story of\u001b[0m\u001b[32m \u001b[0m│\u001b[35m                  \u001b[0m│\u001b[33m                 \u001b[0m \n",
       " \u001b[36m                                                         \u001b[0m│\u001b[32m \u001b[0m\u001b[32mCase Text's     \u001b[0m\u001b[32m \u001b[0m│\u001b[35m                  \u001b[0m│\u001b[33m                 \u001b[0m \n",
       " \u001b[36m                                                         \u001b[0m│\u001b[32m \u001b[0m\u001b[32mCo-Counsel, an  \u001b[0m\u001b[32m \u001b[0m│\u001b[35m                  \u001b[0m│\u001b[33m                 \u001b[0m \n",
       " \u001b[36m                                                         \u001b[0m│\u001b[32m \u001b[0m\u001b[32mAI-driven legal \u001b[0m\u001b[32m \u001b[0m│\u001b[35m                  \u001b[0m│\u001b[33m                 \u001b[0m \n",
       " \u001b[36m                                                         \u001b[0m│\u001b[32m \u001b[0m\u001b[32massistant that  \u001b[0m\u001b[32m \u001b[0m│\u001b[35m                  \u001b[0m│\u001b[33m                 \u001b[0m \n",
       " \u001b[36m                                                         \u001b[0m│\u001b[32m \u001b[0m\u001b[32mdramatically    \u001b[0m\u001b[32m \u001b[0m│\u001b[35m                  \u001b[0m│\u001b[33m                 \u001b[0m \n",
       " \u001b[36m                                                         \u001b[0m│\u001b[32m \u001b[0m\u001b[32mincreased the   \u001b[0m\u001b[32m \u001b[0m│\u001b[35m                  \u001b[0m│\u001b[33m                 \u001b[0m \n",
       " \u001b[36m                                                         \u001b[0m│\u001b[32m \u001b[0m\u001b[32mcompany's       \u001b[0m\u001b[32m \u001b[0m│\u001b[35m                  \u001b[0m│\u001b[33m                 \u001b[0m \n",
       " \u001b[36m                                                         \u001b[0m│\u001b[32m \u001b[0m\u001b[32mvaluation, and  \u001b[0m\u001b[32m \u001b[0m│\u001b[35m                  \u001b[0m│\u001b[33m                 \u001b[0m \n",
       " \u001b[36m                                                         \u001b[0m│\u001b[32m \u001b[0m\u001b[32mexplores how    \u001b[0m\u001b[32m \u001b[0m│\u001b[35m                  \u001b[0m│\u001b[33m                 \u001b[0m \n",
       " \u001b[36m                                                         \u001b[0m│\u001b[32m \u001b[0m\u001b[32morganizations   \u001b[0m\u001b[32m \u001b[0m│\u001b[35m                  \u001b[0m│\u001b[33m                 \u001b[0m \n",
       " \u001b[36m                                                         \u001b[0m│\u001b[32m \u001b[0m\u001b[32mcan leverage    \u001b[0m\u001b[32m \u001b[0m│\u001b[35m                  \u001b[0m│\u001b[33m                 \u001b[0m \n",
       " \u001b[36m                                                         \u001b[0m│\u001b[32m \u001b[0m\u001b[32mthis technology \u001b[0m\u001b[32m \u001b[0m│\u001b[35m                  \u001b[0m│\u001b[33m                 \u001b[0m \n",
       " \u001b[36m                                                         \u001b[0m│\u001b[32m \u001b[0m\u001b[32mto gain a       \u001b[0m\u001b[32m \u001b[0m│\u001b[35m                  \u001b[0m│\u001b[33m                 \u001b[0m \n",
       " \u001b[36m                                                         \u001b[0m│\u001b[32m \u001b[0m\u001b[32mcompetitive     \u001b[0m\u001b[32m \u001b[0m│\u001b[35m                  \u001b[0m│\u001b[33m                 \u001b[0m \n",
       " \u001b[36m                                                         \u001b[0m│\u001b[32m \u001b[0m\u001b[32madvantage.      \u001b[0m\u001b[32m \u001b[0m│\u001b[35m                  \u001b[0m│\u001b[33m                 \u001b[0m \n",
       " \u001b[36m \u001b[0m\u001b[36m/home/rakesh/Downloads/sample_data/four/random_file.txt\u001b[0m\u001b[36m \u001b[0m│\u001b[32m \u001b[0m\u001b[32mThis file       \u001b[0m\u001b[32m \u001b[0m│\u001b[35m \u001b[0m\u001b[35m/home/rakesh/Do…\u001b[0m\u001b[35m \u001b[0m│\u001b[33m \u001b[0m\u001b[33m/home/rakesh/D…\u001b[0m\u001b[33m \u001b[0m \n",
       " \u001b[36m                                                         \u001b[0m│\u001b[32m \u001b[0m\u001b[32mcontains a test \u001b[0m\u001b[32m \u001b[0m│\u001b[35m                  \u001b[0m│\u001b[33m                 \u001b[0m \n",
       " \u001b[36m                                                         \u001b[0m│\u001b[32m \u001b[0m\u001b[32mfile with some  \u001b[0m\u001b[32m \u001b[0m│\u001b[35m                  \u001b[0m│\u001b[33m                 \u001b[0m \n",
       " \u001b[36m                                                         \u001b[0m│\u001b[32m \u001b[0m\u001b[32mbasic           \u001b[0m\u001b[32m \u001b[0m│\u001b[35m                  \u001b[0m│\u001b[33m                 \u001b[0m \n",
       " \u001b[36m                                                         \u001b[0m│\u001b[32m \u001b[0m\u001b[32minformation,    \u001b[0m\u001b[32m \u001b[0m│\u001b[35m                  \u001b[0m│\u001b[33m                 \u001b[0m \n",
       " \u001b[36m                                                         \u001b[0m│\u001b[32m \u001b[0m\u001b[32mincluding a bank\u001b[0m\u001b[32m \u001b[0m│\u001b[35m                  \u001b[0m│\u001b[33m                 \u001b[0m \n",
       " \u001b[36m                                                         \u001b[0m│\u001b[32m \u001b[0m\u001b[32maccount number. \u001b[0m\u001b[32m \u001b[0m│\u001b[35m                  \u001b[0m│\u001b[33m                 \u001b[0m \n",
       " \u001b[36m \u001b[0m\u001b[36m/home/rakesh/Downloads/sample_data/four/shad.txt       \u001b[0m\u001b[36m \u001b[0m│\u001b[32m \u001b[0m\u001b[32mThis file       \u001b[0m\u001b[32m \u001b[0m│\u001b[35m \u001b[0m\u001b[35m/home/rakesh/Do…\u001b[0m\u001b[35m \u001b[0m│\u001b[33m \u001b[0m\u001b[33m/home/rakesh/D…\u001b[0m\u001b[33m \u001b[0m \n",
       " \u001b[36m                                                         \u001b[0m│\u001b[32m \u001b[0m\u001b[32mprovides an     \u001b[0m\u001b[32m \u001b[0m│\u001b[35m                  \u001b[0m│\u001b[33m                 \u001b[0m \n",
       " \u001b[36m                                                         \u001b[0m│\u001b[32m \u001b[0m\u001b[32moverview of     \u001b[0m\u001b[32m \u001b[0m│\u001b[35m                  \u001b[0m│\u001b[33m                 \u001b[0m \n",
       " \u001b[36m                                                         \u001b[0m│\u001b[32m \u001b[0m\u001b[32mseveral         \u001b[0m\u001b[32m \u001b[0m│\u001b[35m                  \u001b[0m│\u001b[33m                 \u001b[0m \n",
       " \u001b[36m                                                         \u001b[0m│\u001b[32m \u001b[0m\u001b[32mopen-source     \u001b[0m\u001b[32m \u001b[0m│\u001b[35m                  \u001b[0m│\u001b[33m                 \u001b[0m \n",
       " \u001b[36m                                                         \u001b[0m│\u001b[32m \u001b[0m\u001b[32mNext.js starter \u001b[0m\u001b[32m \u001b[0m│\u001b[35m                  \u001b[0m│\u001b[33m                 \u001b[0m \n",
       " \u001b[36m                                                         \u001b[0m│\u001b[32m \u001b[0m\u001b[32mprojects,       \u001b[0m\u001b[32m \u001b[0m│\u001b[35m                  \u001b[0m│\u001b[33m                 \u001b[0m \n",
       " \u001b[36m                                                         \u001b[0m│\u001b[32m \u001b[0m\u001b[32mincluding       \u001b[0m\u001b[32m \u001b[0m│\u001b[35m                  \u001b[0m│\u001b[33m                 \u001b[0m \n",
       " \u001b[36m                                                         \u001b[0m│\u001b[32m \u001b[0m\u001b[32mdetails on their\u001b[0m\u001b[32m \u001b[0m│\u001b[35m                  \u001b[0m│\u001b[33m                 \u001b[0m \n",
       " \u001b[36m                                                         \u001b[0m│\u001b[32m \u001b[0m\u001b[32mfeatures,       \u001b[0m\u001b[32m \u001b[0m│\u001b[35m                  \u001b[0m│\u001b[33m                 \u001b[0m \n",
       " \u001b[36m                                                         \u001b[0m│\u001b[32m \u001b[0m\u001b[32mtechnologies    \u001b[0m\u001b[32m \u001b[0m│\u001b[35m                  \u001b[0m│\u001b[33m                 \u001b[0m \n",
       " \u001b[36m                                                         \u001b[0m│\u001b[32m \u001b[0m\u001b[32mused, and use   \u001b[0m\u001b[32m \u001b[0m│\u001b[35m                  \u001b[0m│\u001b[33m                 \u001b[0m \n",
       " \u001b[36m                                                         \u001b[0m│\u001b[32m \u001b[0m\u001b[32mcases. The      \u001b[0m\u001b[32m \u001b[0m│\u001b[35m                  \u001b[0m│\u001b[33m                 \u001b[0m \n",
       " \u001b[36m                                                         \u001b[0m│\u001b[32m \u001b[0m\u001b[32mprojects cover a\u001b[0m\u001b[32m \u001b[0m│\u001b[35m                  \u001b[0m│\u001b[33m                 \u001b[0m \n",
       " \u001b[36m                                                         \u001b[0m│\u001b[32m \u001b[0m\u001b[32mwide range of   \u001b[0m\u001b[32m \u001b[0m│\u001b[35m                  \u001b[0m│\u001b[33m                 \u001b[0m \n",
       " \u001b[36m                                                         \u001b[0m│\u001b[32m \u001b[0m\u001b[32mfunctionalities,\u001b[0m\u001b[32m \u001b[0m│\u001b[35m                  \u001b[0m│\u001b[33m                 \u001b[0m \n",
       " \u001b[36m                                                         \u001b[0m│\u001b[32m \u001b[0m\u001b[32mfrom blogging   \u001b[0m\u001b[32m \u001b[0m│\u001b[35m                  \u001b[0m│\u001b[33m                 \u001b[0m \n",
       " \u001b[36m                                                         \u001b[0m│\u001b[32m \u001b[0m\u001b[32mplatforms to    \u001b[0m\u001b[32m \u001b[0m│\u001b[35m                  \u001b[0m│\u001b[33m                 \u001b[0m \n",
       " \u001b[36m                                                         \u001b[0m│\u001b[32m \u001b[0m\u001b[32madmin           \u001b[0m\u001b[32m \u001b[0m│\u001b[35m                  \u001b[0m│\u001b[33m                 \u001b[0m \n",
       " \u001b[36m                                                         \u001b[0m│\u001b[32m \u001b[0m\u001b[32mdashboards, and \u001b[0m\u001b[32m \u001b[0m│\u001b[35m                  \u001b[0m│\u001b[33m                 \u001b[0m \n",
       " \u001b[36m                                                         \u001b[0m│\u001b[32m \u001b[0m\u001b[32maim to          \u001b[0m\u001b[32m \u001b[0m│\u001b[35m                  \u001b[0m│\u001b[33m                 \u001b[0m \n",
       " \u001b[36m                                                         \u001b[0m│\u001b[32m \u001b[0m\u001b[32maccelerate the  \u001b[0m\u001b[32m \u001b[0m│\u001b[35m                  \u001b[0m│\u001b[33m                 \u001b[0m \n",
       " \u001b[36m                                                         \u001b[0m│\u001b[32m \u001b[0m\u001b[32mdevelopment of  \u001b[0m\u001b[32m \u001b[0m│\u001b[35m                  \u001b[0m│\u001b[33m                 \u001b[0m \n",
       " \u001b[36m                                                         \u001b[0m│\u001b[32m \u001b[0m\u001b[32mNext.js-based   \u001b[0m\u001b[32m \u001b[0m│\u001b[35m                  \u001b[0m│\u001b[33m                 \u001b[0m \n",
       " \u001b[36m                                                         \u001b[0m│\u001b[32m \u001b[0m\u001b[32mapplications.   \u001b[0m\u001b[32m \u001b[0m│\u001b[35m                  \u001b[0m│\u001b[33m                 \u001b[0m \n",
       "                                                          ╵                  ╵                  ╵                  \n"
      ]
     },
     "metadata": {},
     "output_type": "display_data"
    },
    {
     "data": {
      "text/html": [
       "<pre style=\"white-space:pre;overflow-x:auto;line-height:normal;font-family:Menlo,'DejaVu Sans Mono',consolas,'Courier New',monospace\">15:43:30.519 | <span style=\"color: #008080; text-decoration-color: #008080\">INFO</span>    | Task run 'display_concatenated_dict-7dc' - Finished in state <span style=\"color: #008000; text-decoration-color: #008000\">Completed</span>()\n",
       "</pre>\n"
      ],
      "text/plain": [
       "15:43:30.519 | \u001b[36mINFO\u001b[0m    | Task run 'display_concatenated_dict-7dc' - Finished in state \u001b[32mCompleted\u001b[0m()\n"
      ]
     },
     "metadata": {},
     "output_type": "display_data"
    },
    {
     "data": {
      "text/html": [
       "<pre style=\"white-space:pre;overflow-x:auto;line-height:normal;font-family:Menlo,'DejaVu Sans Mono',consolas,'Courier New',monospace\">15:43:30.559 | <span style=\"color: #008080; text-decoration-color: #008080\">INFO</span>    | Flow run<span style=\"color: #800080; text-decoration-color: #800080\"> 'lilac-degu'</span> - Finished in state <span style=\"color: #008000; text-decoration-color: #008000\">Completed</span>()\n",
       "</pre>\n"
      ],
      "text/plain": [
       "15:43:30.559 | \u001b[36mINFO\u001b[0m    | Flow run\u001b[35m 'lilac-degu'\u001b[0m - Finished in state \u001b[32mCompleted\u001b[0m()\n"
      ]
     },
     "metadata": {},
     "output_type": "display_data"
    },
    {
     "data": {
      "text/html": [
       "<pre style=\"white-space:pre;overflow-x:auto;line-height:normal;font-family:Menlo,'DejaVu Sans Mono',consolas,'Courier New',monospace\"><span style=\"color: #808000; text-decoration-color: #808000; font-weight: bold\">Summaries:</span>\n",
       "</pre>\n"
      ],
      "text/plain": [
       "\u001b[1;33mSummaries:\u001b[0m\n"
      ]
     },
     "metadata": {},
     "output_type": "display_data"
    },
    {
     "name": "stdout",
     "output_type": "stream",
     "text": [
      "('{\\n'\n",
      " '    \"files\": [\\n'\n",
      " '        {\\n'\n",
      " '            \"file_path\": '\n",
      " '\"/home/rakesh/Downloads/sample_data/four/dsflsdflj.txt\",\\n'\n",
      " '            \"summary\": \"This file discusses the emergence of Vertical Large '\n",
      " 'Language Model (LLM) Agents as a transformative technology in the Software '\n",
      " \"as a Service (SaaS) industry. It highlights the success story of Case Text's \"\n",
      " 'Co-Counsel, an AI-driven legal assistant that dramatically increased the '\n",
      " \"company's valuation, and explores how organizations can leverage this \"\n",
      " 'technology to gain a competitive advantage.\"\\n'\n",
      " '        },\\n'\n",
      " '        {\\n'\n",
      " '            \"file_path\": '\n",
      " '\"/home/rakesh/Downloads/sample_data/four/random_file.txt\",\\n'\n",
      " '            \"summary\": \"This file contains a test file with some basic '\n",
      " 'information, including a bank account number.\"\\n'\n",
      " '        },\\n'\n",
      " '        {\\n'\n",
      " '            \"file_path\": '\n",
      " '\"/home/rakesh/Downloads/sample_data/four/shad.txt\",\\n'\n",
      " '            \"summary\": \"This file provides an overview of several '\n",
      " 'open-source Next.js starter projects, including details on their features, '\n",
      " 'technologies used, and use cases. The projects cover a wide range of '\n",
      " 'functionalities, from blogging platforms to admin dashboards, and aim to '\n",
      " 'accelerate the development of Next.js-based applications.\"\\n'\n",
      " '        }\\n'\n",
      " '    ],\\n'\n",
      " '    \"usage\": {\\n'\n",
      " '        \"completion_tokens\": 292,\\n'\n",
      " '        \"prompt_tokens\": 1739,\\n'\n",
      " '        \"total_tokens\": 2031\\n'\n",
      " '    },\\n'\n",
      " '    \"cost\": 0.0\\n'\n",
      " '}')\n"
     ]
    },
    {
     "data": {
      "text/html": [
       "<pre style=\"white-space:pre;overflow-x:auto;line-height:normal;font-family:Menlo,'DejaVu Sans Mono',consolas,'Courier New',monospace\">\n",
       "<span style=\"color: #808000; text-decoration-color: #808000; font-weight: bold\">File Tree:</span>\n",
       "</pre>\n"
      ],
      "text/plain": [
       "\n",
       "\u001b[1;33mFile Tree:\u001b[0m\n"
      ]
     },
     "metadata": {},
     "output_type": "display_data"
    },
    {
     "name": "stdout",
     "output_type": "stream",
     "text": [
      "('[\\n'\n",
      " '    {\\n'\n",
      " '        \"src_path\": '\n",
      " '\"/home/rakesh/Downloads/sample_data/four/dsflsdflj.txt\",\\n'\n",
      " '        \"dst_path\": '\n",
      " '\"/home/rakesh/Downloads/sample_data/four_organized/Technology/Vertical_LLM_Agents/dsflsdflj.txt\",\\n'\n",
      " '        \"dst_path_new\": '\n",
      " '\"/home/rakesh/Downloads/sample_data/four_organized/Technology/Vertical_LLM_Agents/dsflsdflj_v1.txt\"\\n'\n",
      " '    },\\n'\n",
      " '    {\\n'\n",
      " '        \"src_path\": '\n",
      " '\"/home/rakesh/Downloads/sample_data/four/random_file.txt\",\\n'\n",
      " '        \"dst_path\": '\n",
      " '\"/home/rakesh/Downloads/sample_data/four_organized/Miscellaneous/random_file.txt\",\\n'\n",
      " '        \"dst_path_new\": '\n",
      " '\"/home/rakesh/Downloads/sample_data/four_organized/Miscellaneous/random_file_v1.txt\"\\n'\n",
      " '    },\\n'\n",
      " '    {\\n'\n",
      " '        \"src_path\": \"/home/rakesh/Downloads/sample_data/four/shad.txt\",\\n'\n",
      " '        \"dst_path\": '\n",
      " '\"/home/rakesh/Downloads/sample_data/four_organized/Technology/NextJS_Starters/shad.txt\",\\n'\n",
      " '        \"dst_path_new\": '\n",
      " '\"/home/rakesh/Downloads/sample_data/four_organized/Technology/NextJS_Starters/shad_v1.txt\"\\n'\n",
      " '    }\\n'\n",
      " ']')\n"
     ]
    },
    {
     "data": {
      "text/html": [
       "<pre style=\"white-space:pre;overflow-x:auto;line-height:normal;font-family:Menlo,'DejaVu Sans Mono',consolas,'Courier New',monospace\">\n",
       "<span style=\"color: #808000; text-decoration-color: #808000; font-weight: bold\">Concatenated Data:</span>\n",
       "</pre>\n"
      ],
      "text/plain": [
       "\n",
       "\u001b[1;33mConcatenated Data:\u001b[0m\n"
      ]
     },
     "metadata": {},
     "output_type": "display_data"
    },
    {
     "name": "stdout",
     "output_type": "stream",
     "text": [
      "('[\\n'\n",
      " '    {\\n'\n",
      " '        \"file_path\": '\n",
      " '\"/home/rakesh/Downloads/sample_data/four/dsflsdflj.txt\",\\n'\n",
      " '        \"summary\": \"This file discusses the emergence of Vertical Large '\n",
      " 'Language Model (LLM) Agents as a transformative technology in the Software '\n",
      " \"as a Service (SaaS) industry. It highlights the success story of Case Text's \"\n",
      " 'Co-Counsel, an AI-driven legal assistant that dramatically increased the '\n",
      " \"company's valuation, and explores how organizations can leverage this \"\n",
      " 'technology to gain a competitive advantage.\",\\n'\n",
      " '        \"dst_path\": '\n",
      " '\"/home/rakesh/Downloads/sample_data/four_organized/Technology/Vertical_LLM_Agents/dsflsdflj.txt\",\\n'\n",
      " '        \"dst_path_new\": '\n",
      " '\"/home/rakesh/Downloads/sample_data/four_organized/Technology/Vertical_LLM_Agents/dsflsdflj_v1.txt\"\\n'\n",
      " '    },\\n'\n",
      " '    {\\n'\n",
      " '        \"file_path\": '\n",
      " '\"/home/rakesh/Downloads/sample_data/four/random_file.txt\",\\n'\n",
      " '        \"summary\": \"This file contains a test file with some basic '\n",
      " 'information, including a bank account number.\",\\n'\n",
      " '        \"dst_path\": '\n",
      " '\"/home/rakesh/Downloads/sample_data/four_organized/Miscellaneous/random_file.txt\",\\n'\n",
      " '        \"dst_path_new\": '\n",
      " '\"/home/rakesh/Downloads/sample_data/four_organized/Miscellaneous/random_file_v1.txt\"\\n'\n",
      " '    },\\n'\n",
      " '    {\\n'\n",
      " '        \"file_path\": \"/home/rakesh/Downloads/sample_data/four/shad.txt\",\\n'\n",
      " '        \"summary\": \"This file provides an overview of several open-source '\n",
      " 'Next.js starter projects, including details on their features, technologies '\n",
      " 'used, and use cases. The projects cover a wide range of functionalities, '\n",
      " 'from blogging platforms to admin dashboards, and aim to accelerate the '\n",
      " 'development of Next.js-based applications.\",\\n'\n",
      " '        \"dst_path\": '\n",
      " '\"/home/rakesh/Downloads/sample_data/four_organized/Technology/NextJS_Starters/shad.txt\",\\n'\n",
      " '        \"dst_path_new\": '\n",
      " '\"/home/rakesh/Downloads/sample_data/four_organized/Technology/NextJS_Starters/shad_v1.txt\"\\n'\n",
      " '    }\\n'\n",
      " ']')\n"
     ]
    }
   ],
   "source": [
    "\n",
    "if __name__ == \"__main__\":\n",
    "    # Define your parameters\n",
    "    source_directory = \"/home/rakesh/Downloads/sample_data/four/\"  # Replace with your actual source documents path\n",
    "    destination_directory = \"/home/rakesh/Downloads/sample_data/four_organized/\"  # Replace with your desired destination path\n",
    "    api_host = \"localhost\"                                         # API host address (not needed if api_base is provided)\n",
    "    api_port = 8111                                                # API port number\n",
    "    summary_model = \"anthropic/claude-3-haiku-20240307\"\n",
    "    tree_model = \"anthropic/claude-3-haiku-20240307\"\n",
    "    api_base_url = \"https://api.anthropic.com\"                     # Base URL for the API\n",
    "    use_streaming = False                                          # Set to True if you want streaming\n",
    "\n",
    "    # Ensure destination directory exists\n",
    "    os.makedirs(destination_directory, exist_ok=True)\n",
    "\n",
    "    # Run the workflow\n",
    "    organized_files_result = document_processing_workflow(\n",
    "        source_path=source_directory,\n",
    "        destination_path=destination_directory,\n",
    "        api_host=api_host,\n",
    "        api_port=api_port,\n",
    "        summary_model=summary_model,\n",
    "        tree_model=tree_model,\n",
    "        api_base=api_base_url,                                  # Providing the API base URL\n",
    "        stream=use_streaming\n",
    "    )\n",
    "\n",
    "    # Extract the results\n",
    "    summaries = organized_files_result.get(\"summaries\", {})\n",
    "    file_tree = organized_files_result.get(\"file_tree\", [])\n",
    "    concatenated_data = organized_files_result.get(\"concatenated_data\", [])\n",
    "\n",
    "    # Optionally, pretty-print the results using Rich\n",
    "    console.print(\"[bold yellow]Summaries:[/bold yellow]\")\n",
    "    pprint(json.dumps(summaries, indent=4))\n",
    "\n",
    "    console.print(\"\\n[bold yellow]File Tree:[/bold yellow]\")\n",
    "    pprint(json.dumps(file_tree, indent=4))\n",
    "\n",
    "    console.print(\"\\n[bold yellow]Concatenated Data:[/bold yellow]\")\n",
    "    pprint(json.dumps(concatenated_data, indent=4))\n"
   ]
  },
  {
   "cell_type": "markdown",
   "metadata": {},
   "source": [
    "# Ollama"
   ]
  },
  {
   "cell_type": "code",
   "execution_count": 4,
   "metadata": {},
   "outputs": [
    {
     "data": {
      "text/html": [
       "<pre style=\"white-space:pre;overflow-x:auto;line-height:normal;font-family:Menlo,'DejaVu Sans Mono',consolas,'Courier New',monospace\">15:53:53.355 | <span style=\"color: #008080; text-decoration-color: #008080\">INFO</span>    | prefect.engine - Created flow run<span style=\"color: #800080; text-decoration-color: #800080\"> 'ochre-sidewinder'</span> for flow<span style=\"color: #800080; text-decoration-color: #800080; font-weight: bold\"> 'Document Processing Workflow'</span>\n",
       "</pre>\n"
      ],
      "text/plain": [
       "15:53:53.355 | \u001b[36mINFO\u001b[0m    | prefect.engine - Created flow run\u001b[35m 'ochre-sidewinder'\u001b[0m for flow\u001b[1;35m 'Document Processing Workflow'\u001b[0m\n"
      ]
     },
     "metadata": {},
     "output_type": "display_data"
    },
    {
     "data": {
      "text/html": [
       "<pre style=\"white-space:pre;overflow-x:auto;line-height:normal;font-family:Menlo,'DejaVu Sans Mono',consolas,'Courier New',monospace\">15:53:53.411 | <span style=\"color: #008080; text-decoration-color: #008080\">INFO</span>    | prefect - Success callback set successfully.\n",
       "</pre>\n"
      ],
      "text/plain": [
       "15:53:53.411 | \u001b[36mINFO\u001b[0m    | prefect - Success callback set successfully.\n"
      ]
     },
     "metadata": {},
     "output_type": "display_data"
    },
    {
     "data": {
      "text/html": [
       "<pre style=\"white-space:pre;overflow-x:auto;line-height:normal;font-family:Menlo,'DejaVu Sans Mono',consolas,'Courier New',monospace\">15:53:53.413 | <span style=\"color: #008080; text-decoration-color: #008080\">INFO</span>    | Task run 'set_success_callback-659' - Finished in state <span style=\"color: #008000; text-decoration-color: #008000\">Completed</span>()\n",
       "</pre>\n"
      ],
      "text/plain": [
       "15:53:53.413 | \u001b[36mINFO\u001b[0m    | Task run 'set_success_callback-659' - Finished in state \u001b[32mCompleted\u001b[0m()\n"
      ]
     },
     "metadata": {},
     "output_type": "display_data"
    },
    {
     "data": {
      "text/html": [
       "<pre style=\"white-space:pre;overflow-x:auto;line-height:normal;font-family:Menlo,'DejaVu Sans Mono',consolas,'Courier New',monospace\"><span style=\"font-style: italic\">                                              Available Ollama Models                                              </span>\n",
       "                   ╷              ╷              ╷              ╷            ╷             ╷        ╷              \n",
       " <span style=\"font-weight: bold\"> Model Name       </span>│<span style=\"font-weight: bold\"> Modified At  </span>│<span style=\"font-weight: bold\"> Digest       </span>│<span style=\"font-weight: bold\"> Size (bytes) </span>│<span style=\"font-weight: bold\"> Param Size </span>│<span style=\"font-weight: bold\"> Quant Level </span>│<span style=\"font-weight: bold\"> Family </span>│<span style=\"font-weight: bold\"> Families    </span> \n",
       " ══════════════════╪══════════════╪══════════════╪══════════════╪════════════╪═════════════╪════════╪═════════════ \n",
       " <span style=\"color: #008080; text-decoration-color: #008080\"> smollm2:135m     </span>│<span style=\"color: #800080; text-decoration-color: #800080\"> 2024-12-18   </span>│<span style=\"color: #008000; text-decoration-color: #008000\"> 9077fe9d2ae… </span>│<span style=\"color: #808000; text-decoration-color: #808000\">    270898672 </span>│<span style=\"color: #808000; text-decoration-color: #808000\">    134.52M </span>│<span style=\"color: #000080; text-decoration-color: #000080\"> F16         </span>│<span style=\"color: #800000; text-decoration-color: #800000\"> llama  </span>│<span style=\"color: #800000; text-decoration-color: #800000\"> llama       </span> \n",
       " <span style=\"color: #008080; text-decoration-color: #008080\">                  </span>│<span style=\"color: #800080; text-decoration-color: #800080\"> 11:49:06.80… </span>│<span style=\"color: #008000; text-decoration-color: #008000\">              </span>│<span style=\"color: #808000; text-decoration-color: #808000\">              </span>│<span style=\"color: #808000; text-decoration-color: #808000\">            </span>│<span style=\"color: #000080; text-decoration-color: #000080\">             </span>│<span style=\"color: #800000; text-decoration-color: #800000\">        </span>│<span style=\"color: #800000; text-decoration-color: #800000\">             </span> \n",
       " <span style=\"color: #008080; text-decoration-color: #008080\"> llava:latest     </span>│<span style=\"color: #800080; text-decoration-color: #800080\"> 2024-12-07   </span>│<span style=\"color: #008000; text-decoration-color: #008000\"> 8dd30f6b0cb… </span>│<span style=\"color: #808000; text-decoration-color: #808000\">   4733363377 </span>│<span style=\"color: #808000; text-decoration-color: #808000\">         7B </span>│<span style=\"color: #000080; text-decoration-color: #000080\"> Q4_0        </span>│<span style=\"color: #800000; text-decoration-color: #800000\"> llama  </span>│<span style=\"color: #800000; text-decoration-color: #800000\"> llama, clip </span> \n",
       " <span style=\"color: #008080; text-decoration-color: #008080\">                  </span>│<span style=\"color: #800080; text-decoration-color: #800080\"> 23:46:35.56… </span>│<span style=\"color: #008000; text-decoration-color: #008000\">              </span>│<span style=\"color: #808000; text-decoration-color: #808000\">              </span>│<span style=\"color: #808000; text-decoration-color: #808000\">            </span>│<span style=\"color: #000080; text-decoration-color: #000080\">             </span>│<span style=\"color: #800000; text-decoration-color: #800000\">        </span>│<span style=\"color: #800000; text-decoration-color: #800000\">             </span> \n",
       " <span style=\"color: #008080; text-decoration-color: #008080\"> moondream:latest </span>│<span style=\"color: #800080; text-decoration-color: #800080\"> 2024-12-07   </span>│<span style=\"color: #008000; text-decoration-color: #008000\"> 55fc3abd386… </span>│<span style=\"color: #808000; text-decoration-color: #808000\">   1738451197 </span>│<span style=\"color: #808000; text-decoration-color: #808000\">         1B </span>│<span style=\"color: #000080; text-decoration-color: #000080\"> Q4_0        </span>│<span style=\"color: #800000; text-decoration-color: #800000\"> phi2   </span>│<span style=\"color: #800000; text-decoration-color: #800000\"> phi2, clip  </span> \n",
       " <span style=\"color: #008080; text-decoration-color: #008080\">                  </span>│<span style=\"color: #800080; text-decoration-color: #800080\"> 22:19:46.41… </span>│<span style=\"color: #008000; text-decoration-color: #008000\">              </span>│<span style=\"color: #808000; text-decoration-color: #808000\">              </span>│<span style=\"color: #808000; text-decoration-color: #808000\">            </span>│<span style=\"color: #000080; text-decoration-color: #000080\">             </span>│<span style=\"color: #800000; text-decoration-color: #800000\">        </span>│<span style=\"color: #800000; text-decoration-color: #800000\">             </span> \n",
       " <span style=\"color: #008080; text-decoration-color: #008080\"> llama3.2:latest  </span>│<span style=\"color: #800080; text-decoration-color: #800080\"> 2024-12-07   </span>│<span style=\"color: #008000; text-decoration-color: #008000\"> a80c4f17acd… </span>│<span style=\"color: #808000; text-decoration-color: #808000\">   2019393189 </span>│<span style=\"color: #808000; text-decoration-color: #808000\">       3.2B </span>│<span style=\"color: #000080; text-decoration-color: #000080\"> Q4_K_M      </span>│<span style=\"color: #800000; text-decoration-color: #800000\"> llama  </span>│<span style=\"color: #800000; text-decoration-color: #800000\"> llama       </span> \n",
       " <span style=\"color: #008080; text-decoration-color: #008080\">                  </span>│<span style=\"color: #800080; text-decoration-color: #800080\"> 22:18:36.84… </span>│<span style=\"color: #008000; text-decoration-color: #008000\">              </span>│<span style=\"color: #808000; text-decoration-color: #808000\">              </span>│<span style=\"color: #808000; text-decoration-color: #808000\">            </span>│<span style=\"color: #000080; text-decoration-color: #000080\">             </span>│<span style=\"color: #800000; text-decoration-color: #800000\">        </span>│<span style=\"color: #800000; text-decoration-color: #800000\">             </span> \n",
       "                   ╵              ╵              ╵              ╵            ╵             ╵        ╵              \n",
       "</pre>\n"
      ],
      "text/plain": [
       "\u001b[3m                                              Available Ollama Models                                              \u001b[0m\n",
       "                   ╷              ╷              ╷              ╷            ╷             ╷        ╷              \n",
       " \u001b[1m \u001b[0m\u001b[1mModel Name      \u001b[0m\u001b[1m \u001b[0m│\u001b[1m \u001b[0m\u001b[1mModified At \u001b[0m\u001b[1m \u001b[0m│\u001b[1m \u001b[0m\u001b[1mDigest      \u001b[0m\u001b[1m \u001b[0m│\u001b[1m \u001b[0m\u001b[1mSize (bytes)\u001b[0m\u001b[1m \u001b[0m│\u001b[1m \u001b[0m\u001b[1mParam Size\u001b[0m\u001b[1m \u001b[0m│\u001b[1m \u001b[0m\u001b[1mQuant Level\u001b[0m\u001b[1m \u001b[0m│\u001b[1m \u001b[0m\u001b[1mFamily\u001b[0m\u001b[1m \u001b[0m│\u001b[1m \u001b[0m\u001b[1mFamilies   \u001b[0m\u001b[1m \u001b[0m \n",
       " ══════════════════╪══════════════╪══════════════╪══════════════╪════════════╪═════════════╪════════╪═════════════ \n",
       " \u001b[36m \u001b[0m\u001b[36msmollm2:135m    \u001b[0m\u001b[36m \u001b[0m│\u001b[35m \u001b[0m\u001b[35m2024-12-18  \u001b[0m\u001b[35m \u001b[0m│\u001b[32m \u001b[0m\u001b[32m9077fe9d2ae…\u001b[0m\u001b[32m \u001b[0m│\u001b[33m \u001b[0m\u001b[33m   270898672\u001b[0m\u001b[33m \u001b[0m│\u001b[33m \u001b[0m\u001b[33m   134.52M\u001b[0m\u001b[33m \u001b[0m│\u001b[34m \u001b[0m\u001b[34mF16        \u001b[0m\u001b[34m \u001b[0m│\u001b[31m \u001b[0m\u001b[31mllama \u001b[0m\u001b[31m \u001b[0m│\u001b[31m \u001b[0m\u001b[31mllama      \u001b[0m\u001b[31m \u001b[0m \n",
       " \u001b[36m                  \u001b[0m│\u001b[35m \u001b[0m\u001b[35m11:49:06.80…\u001b[0m\u001b[35m \u001b[0m│\u001b[32m              \u001b[0m│\u001b[33m              \u001b[0m│\u001b[33m            \u001b[0m│\u001b[34m             \u001b[0m│\u001b[31m        \u001b[0m│\u001b[31m             \u001b[0m \n",
       " \u001b[36m \u001b[0m\u001b[36mllava:latest    \u001b[0m\u001b[36m \u001b[0m│\u001b[35m \u001b[0m\u001b[35m2024-12-07  \u001b[0m\u001b[35m \u001b[0m│\u001b[32m \u001b[0m\u001b[32m8dd30f6b0cb…\u001b[0m\u001b[32m \u001b[0m│\u001b[33m \u001b[0m\u001b[33m  4733363377\u001b[0m\u001b[33m \u001b[0m│\u001b[33m \u001b[0m\u001b[33m        7B\u001b[0m\u001b[33m \u001b[0m│\u001b[34m \u001b[0m\u001b[34mQ4_0       \u001b[0m\u001b[34m \u001b[0m│\u001b[31m \u001b[0m\u001b[31mllama \u001b[0m\u001b[31m \u001b[0m│\u001b[31m \u001b[0m\u001b[31mllama, clip\u001b[0m\u001b[31m \u001b[0m \n",
       " \u001b[36m                  \u001b[0m│\u001b[35m \u001b[0m\u001b[35m23:46:35.56…\u001b[0m\u001b[35m \u001b[0m│\u001b[32m              \u001b[0m│\u001b[33m              \u001b[0m│\u001b[33m            \u001b[0m│\u001b[34m             \u001b[0m│\u001b[31m        \u001b[0m│\u001b[31m             \u001b[0m \n",
       " \u001b[36m \u001b[0m\u001b[36mmoondream:latest\u001b[0m\u001b[36m \u001b[0m│\u001b[35m \u001b[0m\u001b[35m2024-12-07  \u001b[0m\u001b[35m \u001b[0m│\u001b[32m \u001b[0m\u001b[32m55fc3abd386…\u001b[0m\u001b[32m \u001b[0m│\u001b[33m \u001b[0m\u001b[33m  1738451197\u001b[0m\u001b[33m \u001b[0m│\u001b[33m \u001b[0m\u001b[33m        1B\u001b[0m\u001b[33m \u001b[0m│\u001b[34m \u001b[0m\u001b[34mQ4_0       \u001b[0m\u001b[34m \u001b[0m│\u001b[31m \u001b[0m\u001b[31mphi2  \u001b[0m\u001b[31m \u001b[0m│\u001b[31m \u001b[0m\u001b[31mphi2, clip \u001b[0m\u001b[31m \u001b[0m \n",
       " \u001b[36m                  \u001b[0m│\u001b[35m \u001b[0m\u001b[35m22:19:46.41…\u001b[0m\u001b[35m \u001b[0m│\u001b[32m              \u001b[0m│\u001b[33m              \u001b[0m│\u001b[33m            \u001b[0m│\u001b[34m             \u001b[0m│\u001b[31m        \u001b[0m│\u001b[31m             \u001b[0m \n",
       " \u001b[36m \u001b[0m\u001b[36mllama3.2:latest \u001b[0m\u001b[36m \u001b[0m│\u001b[35m \u001b[0m\u001b[35m2024-12-07  \u001b[0m\u001b[35m \u001b[0m│\u001b[32m \u001b[0m\u001b[32ma80c4f17acd…\u001b[0m\u001b[32m \u001b[0m│\u001b[33m \u001b[0m\u001b[33m  2019393189\u001b[0m\u001b[33m \u001b[0m│\u001b[33m \u001b[0m\u001b[33m      3.2B\u001b[0m\u001b[33m \u001b[0m│\u001b[34m \u001b[0m\u001b[34mQ4_K_M     \u001b[0m\u001b[34m \u001b[0m│\u001b[31m \u001b[0m\u001b[31mllama \u001b[0m\u001b[31m \u001b[0m│\u001b[31m \u001b[0m\u001b[31mllama      \u001b[0m\u001b[31m \u001b[0m \n",
       " \u001b[36m                  \u001b[0m│\u001b[35m \u001b[0m\u001b[35m22:18:36.84…\u001b[0m\u001b[35m \u001b[0m│\u001b[32m              \u001b[0m│\u001b[33m              \u001b[0m│\u001b[33m            \u001b[0m│\u001b[34m             \u001b[0m│\u001b[31m        \u001b[0m│\u001b[31m             \u001b[0m \n",
       "                   ╵              ╵              ╵              ╵            ╵             ╵        ╵              \n"
      ]
     },
     "metadata": {},
     "output_type": "display_data"
    },
    {
     "data": {
      "text/html": [
       "<pre style=\"white-space:pre;overflow-x:auto;line-height:normal;font-family:Menlo,'DejaVu Sans Mono',consolas,'Courier New',monospace\">15:53:53.446 | <span style=\"color: #008080; text-decoration-color: #008080\">INFO</span>    | Task run 'list_ollama_models-a28' - Finished in state <span style=\"color: #008000; text-decoration-color: #008000\">Completed</span>()\n",
       "</pre>\n"
      ],
      "text/plain": [
       "15:53:53.446 | \u001b[36mINFO\u001b[0m    | Task run 'list_ollama_models-a28' - Finished in state \u001b[32mCompleted\u001b[0m()\n"
      ]
     },
     "metadata": {},
     "output_type": "display_data"
    },
    {
     "data": {
      "text/html": [
       "<pre style=\"white-space:pre;overflow-x:auto;line-height:normal;font-family:Menlo,'DejaVu Sans Mono',consolas,'Courier New',monospace\">15:53:53.477 | <span style=\"color: #008080; text-decoration-color: #008080\">INFO</span>    | prefect - Loaded 3 documents from /home/rakesh/Downloads/sample_data/four/\n",
       "</pre>\n"
      ],
      "text/plain": [
       "15:53:53.477 | \u001b[36mINFO\u001b[0m    | prefect - Loaded 3 documents from /home/rakesh/Downloads/sample_data/four/\n"
      ]
     },
     "metadata": {},
     "output_type": "display_data"
    },
    {
     "data": {
      "text/html": [
       "<pre style=\"white-space:pre;overflow-x:auto;line-height:normal;font-family:Menlo,'DejaVu Sans Mono',consolas,'Courier New',monospace\"><span style=\"color: #008000; text-decoration-color: #008000; font-weight: bold\">Loaded </span><span style=\"color: #008000; text-decoration-color: #008000; font-weight: bold\">3</span><span style=\"color: #008000; text-decoration-color: #008000; font-weight: bold\"> documents from /home/rakesh/Downloads/sample_data/four/</span>\n",
       "</pre>\n"
      ],
      "text/plain": [
       "\u001b[1;32mLoaded \u001b[0m\u001b[1;32m3\u001b[0m\u001b[1;32m documents from \u001b[0m\u001b[1;32m/home/rakesh/Downloads/sample_data/four/\u001b[0m\n"
      ]
     },
     "metadata": {},
     "output_type": "display_data"
    },
    {
     "data": {
      "text/html": [
       "<pre style=\"white-space:pre;overflow-x:auto;line-height:normal;font-family:Menlo,'DejaVu Sans Mono',consolas,'Courier New',monospace\">15:53:53.481 | <span style=\"color: #008080; text-decoration-color: #008080\">INFO</span>    | Task run 'load_documents-3ab' - Finished in state <span style=\"color: #008000; text-decoration-color: #008000\">Completed</span>()\n",
       "</pre>\n"
      ],
      "text/plain": [
       "15:53:53.481 | \u001b[36mINFO\u001b[0m    | Task run 'load_documents-3ab' - Finished in state \u001b[32mCompleted\u001b[0m()\n"
      ]
     },
     "metadata": {},
     "output_type": "display_data"
    },
    {
     "data": {
      "text/html": [
       "<pre style=\"white-space:pre;overflow-x:auto;line-height:normal;font-family:Menlo,'DejaVu Sans Mono',consolas,'Courier New',monospace\">15:53:53.513 | <span style=\"color: #008080; text-decoration-color: #008080\">INFO</span>    | prefect - Processed metadata: 3 unique documents\n",
       "</pre>\n"
      ],
      "text/plain": [
       "15:53:53.513 | \u001b[36mINFO\u001b[0m    | prefect - Processed metadata: 3 unique documents\n"
      ]
     },
     "metadata": {},
     "output_type": "display_data"
    },
    {
     "data": {
      "text/html": [
       "<pre style=\"white-space:pre;overflow-x:auto;line-height:normal;font-family:Menlo,'DejaVu Sans Mono',consolas,'Courier New',monospace\"><span style=\"color: #008000; text-decoration-color: #008000; font-weight: bold\">Processed metadata: </span><span style=\"color: #008000; text-decoration-color: #008000; font-weight: bold\">3</span><span style=\"color: #008000; text-decoration-color: #008000; font-weight: bold\"> unique documents</span>\n",
       "</pre>\n"
      ],
      "text/plain": [
       "\u001b[1;32mProcessed metadata: \u001b[0m\u001b[1;32m3\u001b[0m\u001b[1;32m unique documents\u001b[0m\n"
      ]
     },
     "metadata": {},
     "output_type": "display_data"
    },
    {
     "data": {
      "text/html": [
       "<pre style=\"white-space:pre;overflow-x:auto;line-height:normal;font-family:Menlo,'DejaVu Sans Mono',consolas,'Courier New',monospace\">15:53:53.520 | <span style=\"color: #008080; text-decoration-color: #008080\">INFO</span>    | Task run 'process_metadata-9f0' - Finished in state <span style=\"color: #008000; text-decoration-color: #008000\">Completed</span>()\n",
       "</pre>\n"
      ],
      "text/plain": [
       "15:53:53.520 | \u001b[36mINFO\u001b[0m    | Task run 'process_metadata-9f0' - Finished in state \u001b[32mCompleted\u001b[0m()\n"
      ]
     },
     "metadata": {},
     "output_type": "display_data"
    },
    {
     "data": {
      "text/html": [
       "<pre style=\"white-space:pre;overflow-x:auto;line-height:normal;font-family:Menlo,'DejaVu Sans Mono',consolas,'Courier New',monospace\">15:54:48.799 | <span style=\"color: #008080; text-decoration-color: #008080\">INFO</span>    | prefect - Generated summaries for 3 files with cost 0.004527\n",
       "</pre>\n"
      ],
      "text/plain": [
       "15:54:48.799 | \u001b[36mINFO\u001b[0m    | prefect - Generated summaries for 3 files with cost 0.004527\n"
      ]
     },
     "metadata": {},
     "output_type": "display_data"
    },
    {
     "data": {
      "text/html": [
       "<pre style=\"white-space:pre;overflow-x:auto;line-height:normal;font-family:Menlo,'DejaVu Sans Mono',consolas,'Courier New',monospace\"><span style=\"color: #008000; text-decoration-color: #008000; font-weight: bold\">Generated summaries for </span><span style=\"color: #008000; text-decoration-color: #008000; font-weight: bold\">3</span><span style=\"color: #008000; text-decoration-color: #008000; font-weight: bold\"> files with cost </span><span style=\"color: #008000; text-decoration-color: #008000; font-weight: bold\">0.004527</span>\n",
       "</pre>\n"
      ],
      "text/plain": [
       "\u001b[1;32mGenerated summaries for \u001b[0m\u001b[1;32m3\u001b[0m\u001b[1;32m files with cost \u001b[0m\u001b[1;32m0.004527\u001b[0m\n"
      ]
     },
     "metadata": {},
     "output_type": "display_data"
    },
    {
     "data": {
      "text/html": [
       "<pre style=\"white-space:pre;overflow-x:auto;line-height:normal;font-family:Menlo,'DejaVu Sans Mono',consolas,'Courier New',monospace\">15:54:48.805 | <span style=\"color: #008080; text-decoration-color: #008080\">INFO</span>    | Task run 'query_summaries-784' - Finished in state <span style=\"color: #008000; text-decoration-color: #008000\">Completed</span>()\n",
       "</pre>\n"
      ],
      "text/plain": [
       "15:54:48.805 | \u001b[36mINFO\u001b[0m    | Task run 'query_summaries-784' - Finished in state \u001b[32mCompleted\u001b[0m()\n"
      ]
     },
     "metadata": {},
     "output_type": "display_data"
    },
    {
     "data": {
      "text/html": [
       "<pre style=\"white-space:pre;overflow-x:auto;line-height:normal;font-family:Menlo,'DejaVu Sans Mono',consolas,'Courier New',monospace\">15:54:48.873 | <span style=\"color: #008080; text-decoration-color: #008080\">INFO</span>    | prefect - Calculated cost: 0.004725\n",
       "</pre>\n"
      ],
      "text/plain": [
       "15:54:48.873 | \u001b[36mINFO\u001b[0m    | prefect - Calculated cost: 0.004725\n"
      ]
     },
     "metadata": {},
     "output_type": "display_data"
    },
    {
     "data": {
      "text/html": [
       "<pre style=\"white-space:pre;overflow-x:auto;line-height:normal;font-family:Menlo,'DejaVu Sans Mono',consolas,'Courier New',monospace\"><span style=\"color: #008000; text-decoration-color: #008000; font-weight: bold\">Calculated cost:</span> <span style=\"color: #808000; text-decoration-color: #808000; font-weight: bold\">0.004725</span>\n",
       "</pre>\n"
      ],
      "text/plain": [
       "\u001b[1;32mCalculated cost:\u001b[0m \u001b[1;33m0.004725\u001b[0m\n"
      ]
     },
     "metadata": {},
     "output_type": "display_data"
    },
    {
     "data": {
      "text/html": [
       "<pre style=\"white-space:pre;overflow-x:auto;line-height:normal;font-family:Menlo,'DejaVu Sans Mono',consolas,'Courier New',monospace\">15:54:48.877 | <span style=\"color: #008080; text-decoration-color: #008080\">INFO</span>    | Task run 'track_cost_callback' - Finished in state <span style=\"color: #008000; text-decoration-color: #008000\">Completed</span>()\n",
       "</pre>\n"
      ],
      "text/plain": [
       "15:54:48.877 | \u001b[36mINFO\u001b[0m    | Task run 'track_cost_callback' - Finished in state \u001b[32mCompleted\u001b[0m()\n"
      ]
     },
     "metadata": {},
     "output_type": "display_data"
    },
    {
     "name": "stdout",
     "output_type": "stream",
     "text": [
      "\n",
      "\u001b[1;31mGive Feedback / Get Help: https://github.com/BerriAI/litellm/issues/new\u001b[0m\n",
      "LiteLLM.Info: If you need to debug this error, use `litellm.set_verbose=True'.\n",
      "\n"
     ]
    },
    {
     "data": {
      "text/html": [
       "<pre style=\"white-space:pre;overflow-x:auto;line-height:normal;font-family:Menlo,'DejaVu Sans Mono',consolas,'Courier New',monospace\">15:55:25.553 | <span style=\"color: #d70000; text-decoration-color: #d70000\">ERROR</span>   | prefect - LiteLLM Error &gt;&gt;&gt; litellm.APIConnectionError: 'name'\n",
       "Traceback (most recent call last):\n",
       "  File \"/home/rakesh/RD/NSRTech/Tauri/NextjsTauriShadCn/nst/.venv/lib/python3.12/site-packages/litellm/main.py\", line 2673, in completion\n",
       "    generator = ollama.get_ollama_response(\n",
       "                ^^^^^^^^^^^^^^^^^^^^^^^^^^^\n",
       "  File \"/home/rakesh/RD/NSRTech/Tauri/NextjsTauriShadCn/nst/.venv/lib/python3.12/site-packages/litellm/llms/ollama/completion/handler.py\", line 166, in get_ollama_response\n",
       "    \"name\": function_call[\"name\"],\n",
       "            ~~~~~~~~~~~~~^^^^^^^^\n",
       "KeyError: 'name'\n",
       "\n",
       "</pre>\n"
      ],
      "text/plain": [
       "15:55:25.553 | \u001b[38;5;160mERROR\u001b[0m   | prefect - LiteLLM Error >>> litellm.APIConnectionError: 'name'\n",
       "Traceback (most recent call last):\n",
       "  File \"/home/rakesh/RD/NSRTech/Tauri/NextjsTauriShadCn/nst/.venv/lib/python3.12/site-packages/litellm/main.py\", line 2673, in completion\n",
       "    generator = ollama.get_ollama_response(\n",
       "                ^^^^^^^^^^^^^^^^^^^^^^^^^^^\n",
       "  File \"/home/rakesh/RD/NSRTech/Tauri/NextjsTauriShadCn/nst/.venv/lib/python3.12/site-packages/litellm/llms/ollama/completion/handler.py\", line 166, in get_ollama_response\n",
       "    \"name\": function_call[\"name\"],\n",
       "            ~~~~~~~~~~~~~^^^^^^^^\n",
       "KeyError: 'name'\n",
       "\n"
      ]
     },
     "metadata": {},
     "output_type": "display_data"
    },
    {
     "data": {
      "text/html": [
       "<pre style=\"white-space:pre;overflow-x:auto;line-height:normal;font-family:Menlo,'DejaVu Sans Mono',consolas,'Courier New',monospace\"><span style=\"color: #800000; text-decoration-color: #800000; font-weight: bold\">LiteLLM Error:</span> litellm.APIConnectionError: <span style=\"color: #008000; text-decoration-color: #008000\">'name'</span>\n",
       "Traceback <span style=\"font-weight: bold\">(</span>most recent call last<span style=\"font-weight: bold\">)</span>:\n",
       "  File <span style=\"color: #008000; text-decoration-color: #008000\">\"/home/rakesh/RD/NSRTech/Tauri/NextjsTauriShadCn/nst/.venv/lib/python3.12/site-packages/litellm/main.py\"</span>, \n",
       "line <span style=\"color: #008080; text-decoration-color: #008080; font-weight: bold\">2673</span>, in completion\n",
       "    generator = <span style=\"color: #800080; text-decoration-color: #800080; font-weight: bold\">ollama.get_ollama_response</span><span style=\"font-weight: bold\">(</span>\n",
       "                ^^^^^^^^^^^^^^^^^^^^^^^^^^^\n",
       "  File \n",
       "<span style=\"color: #008000; text-decoration-color: #008000\">\"/home/rakesh/RD/NSRTech/Tauri/NextjsTauriShadCn/nst/.venv/lib/python3.12/site-packages/litellm/llms/ollama/complet</span>\n",
       "<span style=\"color: #008000; text-decoration-color: #008000\">ion/handler.py\"</span>, line <span style=\"color: #008080; text-decoration-color: #008080; font-weight: bold\">166</span>, in get_ollama_response\n",
       "    <span style=\"color: #008000; text-decoration-color: #008000\">\"name\"</span>: function_call<span style=\"font-weight: bold\">[</span><span style=\"color: #008000; text-decoration-color: #008000\">\"name\"</span><span style=\"font-weight: bold\">]</span>,\n",
       "            ~~~~~~~~~~~~~^^^^^^^^\n",
       "KeyError: <span style=\"color: #008000; text-decoration-color: #008000\">'name'</span>\n",
       "\n",
       "</pre>\n"
      ],
      "text/plain": [
       "\u001b[1;31mLiteLLM Error:\u001b[0m litellm.APIConnectionError: \u001b[32m'name'\u001b[0m\n",
       "Traceback \u001b[1m(\u001b[0mmost recent call last\u001b[1m)\u001b[0m:\n",
       "  File \u001b[32m\"/home/rakesh/RD/NSRTech/Tauri/NextjsTauriShadCn/nst/.venv/lib/python3.12/site-packages/litellm/main.py\"\u001b[0m, \n",
       "line \u001b[1;36m2673\u001b[0m, in completion\n",
       "    generator = \u001b[1;35mollama.get_ollama_response\u001b[0m\u001b[1m(\u001b[0m\n",
       "                ^^^^^^^^^^^^^^^^^^^^^^^^^^^\n",
       "  File \n",
       "\u001b[32m\"/home/rakesh/RD/NSRTech/Tauri/NextjsTauriShadCn/nst/.venv/lib/python3.12/site-packages/litellm/llms/ollama/complet\u001b[0m\n",
       "\u001b[32mion/handler.py\"\u001b[0m, line \u001b[1;36m166\u001b[0m, in get_ollama_response\n",
       "    \u001b[32m\"name\"\u001b[0m: function_call\u001b[1m[\u001b[0m\u001b[32m\"name\"\u001b[0m\u001b[1m]\u001b[0m,\n",
       "            ~~~~~~~~~~~~~^^^^^^^^\n",
       "KeyError: \u001b[32m'name'\u001b[0m\n",
       "\n"
      ]
     },
     "metadata": {},
     "output_type": "display_data"
    },
    {
     "data": {
      "text/html": [
       "<pre style=\"white-space:pre;overflow-x:auto;line-height:normal;font-family:Menlo,'DejaVu Sans Mono',consolas,'Courier New',monospace\">15:55:25.560 | <span style=\"color: #008080; text-decoration-color: #008080\">INFO</span>    | Task run 'create_file_tree-4f5' - Finished in state <span style=\"color: #008000; text-decoration-color: #008000\">Completed</span>()\n",
       "</pre>\n"
      ],
      "text/plain": [
       "15:55:25.560 | \u001b[36mINFO\u001b[0m    | Task run 'create_file_tree-4f5' - Finished in state \u001b[32mCompleted\u001b[0m()\n"
      ]
     },
     "metadata": {},
     "output_type": "display_data"
    },
    {
     "data": {
      "text/html": [
       "<pre style=\"white-space:pre;overflow-x:auto;line-height:normal;font-family:Menlo,'DejaVu Sans Mono',consolas,'Courier New',monospace\">15:55:25.608 | <span style=\"color: #008080; text-decoration-color: #008080\">INFO</span>    | prefect - All necessary subdirectories created.\n",
       "</pre>\n"
      ],
      "text/plain": [
       "15:55:25.608 | \u001b[36mINFO\u001b[0m    | prefect - All necessary subdirectories created.\n"
      ]
     },
     "metadata": {},
     "output_type": "display_data"
    },
    {
     "data": {
      "text/html": [
       "<pre style=\"white-space:pre;overflow-x:auto;line-height:normal;font-family:Menlo,'DejaVu Sans Mono',consolas,'Courier New',monospace\"><span style=\"color: #008000; text-decoration-color: #008000; font-weight: bold\">All necessary subdirectories created.</span>\n",
       "</pre>\n"
      ],
      "text/plain": [
       "\u001b[1;32mAll necessary subdirectories created.\u001b[0m\n"
      ]
     },
     "metadata": {},
     "output_type": "display_data"
    },
    {
     "data": {
      "text/html": [
       "<pre style=\"white-space:pre;overflow-x:auto;line-height:normal;font-family:Menlo,'DejaVu Sans Mono',consolas,'Courier New',monospace\">15:55:25.614 | <span style=\"color: #008080; text-decoration-color: #008080\">INFO</span>    | Task run 'create_subdirectories-68e' - Finished in state <span style=\"color: #008000; text-decoration-color: #008000\">Completed</span>()\n",
       "</pre>\n"
      ],
      "text/plain": [
       "15:55:25.614 | \u001b[36mINFO\u001b[0m    | Task run 'create_subdirectories-68e' - Finished in state \u001b[32mCompleted\u001b[0m()\n"
      ]
     },
     "metadata": {},
     "output_type": "display_data"
    },
    {
     "data": {
      "text/html": [
       "<pre style=\"white-space:pre;overflow-x:auto;line-height:normal;font-family:Menlo,'DejaVu Sans Mono',consolas,'Courier New',monospace\">15:55:25.654 | <span style=\"color: #008080; text-decoration-color: #008080\">INFO</span>    | prefect - Concatenated summary and file tree for 0 files\n",
       "</pre>\n"
      ],
      "text/plain": [
       "15:55:25.654 | \u001b[36mINFO\u001b[0m    | prefect - Concatenated summary and file tree for 0 files\n"
      ]
     },
     "metadata": {},
     "output_type": "display_data"
    },
    {
     "data": {
      "text/html": [
       "<pre style=\"white-space:pre;overflow-x:auto;line-height:normal;font-family:Menlo,'DejaVu Sans Mono',consolas,'Courier New',monospace\"><span style=\"color: #008000; text-decoration-color: #008000; font-weight: bold\">Concatenated summary and file tree for </span><span style=\"color: #008000; text-decoration-color: #008000; font-weight: bold\">0</span><span style=\"color: #008000; text-decoration-color: #008000; font-weight: bold\"> files</span>\n",
       "</pre>\n"
      ],
      "text/plain": [
       "\u001b[1;32mConcatenated summary and file tree for \u001b[0m\u001b[1;32m0\u001b[0m\u001b[1;32m files\u001b[0m\n"
      ]
     },
     "metadata": {},
     "output_type": "display_data"
    },
    {
     "data": {
      "text/html": [
       "<pre style=\"white-space:pre;overflow-x:auto;line-height:normal;font-family:Menlo,'DejaVu Sans Mono',consolas,'Courier New',monospace\">15:55:25.662 | <span style=\"color: #008080; text-decoration-color: #008080\">INFO</span>    | Task run 'concatenate_summaries_and_file_tree-b55' - Finished in state <span style=\"color: #008000; text-decoration-color: #008000\">Completed</span>()\n",
       "</pre>\n"
      ],
      "text/plain": [
       "15:55:25.662 | \u001b[36mINFO\u001b[0m    | Task run 'concatenate_summaries_and_file_tree-b55' - Finished in state \u001b[32mCompleted\u001b[0m()\n"
      ]
     },
     "metadata": {},
     "output_type": "display_data"
    },
    {
     "data": {
      "text/html": [
       "<pre style=\"white-space:pre;overflow-x:auto;line-height:normal;font-family:Menlo,'DejaVu Sans Mono',consolas,'Courier New',monospace\"><span style=\"color: #800000; text-decoration-color: #800000; font-weight: bold\">No organized files to display.</span>\n",
       "</pre>\n"
      ],
      "text/plain": [
       "\u001b[1;31mNo organized files to display.\u001b[0m\n"
      ]
     },
     "metadata": {},
     "output_type": "display_data"
    },
    {
     "data": {
      "text/html": [
       "<pre style=\"white-space:pre;overflow-x:auto;line-height:normal;font-family:Menlo,'DejaVu Sans Mono',consolas,'Courier New',monospace\">15:55:25.694 | <span style=\"color: #008080; text-decoration-color: #008080\">INFO</span>    | Task run 'display_organized_files-100' - Finished in state <span style=\"color: #008000; text-decoration-color: #008000\">Completed</span>()\n",
       "</pre>\n"
      ],
      "text/plain": [
       "15:55:25.694 | \u001b[36mINFO\u001b[0m    | Task run 'display_organized_files-100' - Finished in state \u001b[32mCompleted\u001b[0m()\n"
      ]
     },
     "metadata": {},
     "output_type": "display_data"
    },
    {
     "data": {
      "text/html": [
       "<pre style=\"white-space:pre;overflow-x:auto;line-height:normal;font-family:Menlo,'DejaVu Sans Mono',consolas,'Courier New',monospace\"><span style=\"color: #800000; text-decoration-color: #800000; font-weight: bold\">No concatenated data to display.</span>\n",
       "</pre>\n"
      ],
      "text/plain": [
       "\u001b[1;31mNo concatenated data to display.\u001b[0m\n"
      ]
     },
     "metadata": {},
     "output_type": "display_data"
    },
    {
     "data": {
      "text/html": [
       "<pre style=\"white-space:pre;overflow-x:auto;line-height:normal;font-family:Menlo,'DejaVu Sans Mono',consolas,'Courier New',monospace\">15:55:25.725 | <span style=\"color: #008080; text-decoration-color: #008080\">INFO</span>    | Task run 'display_concatenated_dict-cc7' - Finished in state <span style=\"color: #008000; text-decoration-color: #008000\">Completed</span>()\n",
       "</pre>\n"
      ],
      "text/plain": [
       "15:55:25.725 | \u001b[36mINFO\u001b[0m    | Task run 'display_concatenated_dict-cc7' - Finished in state \u001b[32mCompleted\u001b[0m()\n"
      ]
     },
     "metadata": {},
     "output_type": "display_data"
    },
    {
     "data": {
      "text/html": [
       "<pre style=\"white-space:pre;overflow-x:auto;line-height:normal;font-family:Menlo,'DejaVu Sans Mono',consolas,'Courier New',monospace\">15:55:25.750 | <span style=\"color: #008080; text-decoration-color: #008080\">INFO</span>    | Flow run<span style=\"color: #800080; text-decoration-color: #800080\"> 'ochre-sidewinder'</span> - Finished in state <span style=\"color: #008000; text-decoration-color: #008000\">Completed</span>()\n",
       "</pre>\n"
      ],
      "text/plain": [
       "15:55:25.750 | \u001b[36mINFO\u001b[0m    | Flow run\u001b[35m 'ochre-sidewinder'\u001b[0m - Finished in state \u001b[32mCompleted\u001b[0m()\n"
      ]
     },
     "metadata": {},
     "output_type": "display_data"
    },
    {
     "data": {
      "text/html": [
       "<pre style=\"white-space:pre;overflow-x:auto;line-height:normal;font-family:Menlo,'DejaVu Sans Mono',consolas,'Courier New',monospace\"><span style=\"color: #808000; text-decoration-color: #808000; font-weight: bold\">Summaries:</span>\n",
       "</pre>\n"
      ],
      "text/plain": [
       "\u001b[1;33mSummaries:\u001b[0m\n"
      ]
     },
     "metadata": {},
     "output_type": "display_data"
    },
    {
     "name": "stdout",
     "output_type": "stream",
     "text": [
      "('{\\n'\n",
      " '    \"files\": [\\n'\n",
      " '        {\\n'\n",
      " '            \"file_path\": '\n",
      " '\"/home/rakesh/Downloads/sample_data/four/dsflsdflj.txt\",\\n'\n",
      " '            \"summary\": \"Introduction to Vertical Large Language Model (LLM) '\n",
      " 'Agents and their applications in Software as a Service (SaaS) innovations, '\n",
      " 'including the success story of Case Text\\'s Co-Counsel.\"\\n'\n",
      " '        },\\n'\n",
      " '        {\\n'\n",
      " '            \"file_path\": '\n",
      " '\"/home/rakesh/Downloads/sample_data/four/random_file.txt\",\\n'\n",
      " '            \"summary\": \"A test file containing important information, such '\n",
      " 'as a bank account number.\"\\n'\n",
      " '        },\\n'\n",
      " '        {\\n'\n",
      " '            \"file_path\": '\n",
      " '\"/home/rakesh/Downloads/sample_data/four/shad.txt\",\\n'\n",
      " '            \"summary\": \"Information about Next.js, including its features, '\n",
      " 'technologies used, and recommended boilerplates for development.\"\\n'\n",
      " '        }\\n'\n",
      " '    ],\\n'\n",
      " '    \"usage\": {\\n'\n",
      " '        \"completion_tokens\": 139,\\n'\n",
      " '        \"prompt_tokens\": 1436,\\n'\n",
      " '        \"total_tokens\": 1575\\n'\n",
      " '    },\\n'\n",
      " '    \"cost\": 0.004527\\n'\n",
      " '}')\n"
     ]
    },
    {
     "data": {
      "text/html": [
       "<pre style=\"white-space:pre;overflow-x:auto;line-height:normal;font-family:Menlo,'DejaVu Sans Mono',consolas,'Courier New',monospace\">\n",
       "<span style=\"color: #808000; text-decoration-color: #808000; font-weight: bold\">File Tree:</span>\n",
       "</pre>\n"
      ],
      "text/plain": [
       "\n",
       "\u001b[1;33mFile Tree:\u001b[0m\n"
      ]
     },
     "metadata": {},
     "output_type": "display_data"
    },
    {
     "name": "stdout",
     "output_type": "stream",
     "text": [
      "'[]'\n"
     ]
    },
    {
     "data": {
      "text/html": [
       "<pre style=\"white-space:pre;overflow-x:auto;line-height:normal;font-family:Menlo,'DejaVu Sans Mono',consolas,'Courier New',monospace\">\n",
       "<span style=\"color: #808000; text-decoration-color: #808000; font-weight: bold\">Concatenated Data:</span>\n",
       "</pre>\n"
      ],
      "text/plain": [
       "\n",
       "\u001b[1;33mConcatenated Data:\u001b[0m\n"
      ]
     },
     "metadata": {},
     "output_type": "display_data"
    },
    {
     "name": "stdout",
     "output_type": "stream",
     "text": [
      "'[]'\n"
     ]
    }
   ],
   "source": [
    "\n",
    "if __name__ == \"__main__\":\n",
    "    # Define your parameters\n",
    "    source_directory = \"/home/rakesh/Downloads/sample_data/four/\"  # Replace with your actual source documents path\n",
    "    destination_directory = \"/home/rakesh/Downloads/sample_data/four_organized/\"  # Replace with your desired destination path\n",
    "    api_host = \"localhost\"                                         # API host address (not needed if api_base is provided)\n",
    "    api_port = 8111                                                # API port number\n",
    "    summary_model = \"ollama/llama3.2:latest\"\n",
    "    tree_model = \"ollama/llama3.2:latest\"\n",
    "    api_base_url = \"http://localhost:11434\"                     # Base URL for the API\n",
    "    use_streaming = False                                          # Set to True if you want streaming\n",
    "    # model=\"ollama/smollm2:135m\",\n",
    "\n",
    "    # Ensure destination directory exists\n",
    "    os.makedirs(destination_directory, exist_ok=True)\n",
    "\n",
    "    # Run the workflow\n",
    "    organized_files_result = document_processing_workflow(\n",
    "        source_path=source_directory,\n",
    "        destination_path=destination_directory,\n",
    "        api_host=api_host,\n",
    "        api_port=api_port,\n",
    "        summary_model=summary_model,\n",
    "        tree_model=tree_model,\n",
    "        api_base=api_base_url,                                  # Providing the API base URL\n",
    "        stream=use_streaming\n",
    "    )\n",
    "\n",
    "    # Extract the results\n",
    "    summaries = organized_files_result.get(\"summaries\", {})\n",
    "    file_tree = organized_files_result.get(\"file_tree\", [])\n",
    "    concatenated_data = organized_files_result.get(\"concatenated_data\", [])\n",
    "\n",
    "    # Optionally, pretty-print the results using Rich\n",
    "    console.print(\"[bold yellow]Summaries:[/bold yellow]\")\n",
    "    pprint(json.dumps(summaries, indent=4))\n",
    "\n",
    "    console.print(\"\\n[bold yellow]File Tree:[/bold yellow]\")\n",
    "    pprint(json.dumps(file_tree, indent=4))\n",
    "\n",
    "    console.print(\"\\n[bold yellow]Concatenated Data:[/bold yellow]\")\n",
    "    pprint(json.dumps(concatenated_data, indent=4))\n"
   ]
  },
  {
   "cell_type": "markdown",
   "metadata": {},
   "source": [
    "# Groq"
   ]
  },
  {
   "cell_type": "code",
   "execution_count": 10,
   "metadata": {},
   "outputs": [
    {
     "data": {
      "text/html": [
       "<pre style=\"white-space:pre;overflow-x:auto;line-height:normal;font-family:Menlo,'DejaVu Sans Mono',consolas,'Courier New',monospace\">16:09:16.770 | <span style=\"color: #008080; text-decoration-color: #008080\">INFO</span>    | prefect.engine - Created flow run<span style=\"color: #800080; text-decoration-color: #800080\"> 'dangerous-anaconda'</span> for flow<span style=\"color: #800080; text-decoration-color: #800080; font-weight: bold\"> 'Document Processing Workflow'</span>\n",
       "</pre>\n"
      ],
      "text/plain": [
       "16:09:16.770 | \u001b[36mINFO\u001b[0m    | prefect.engine - Created flow run\u001b[35m 'dangerous-anaconda'\u001b[0m for flow\u001b[1;35m 'Document Processing Workflow'\u001b[0m\n"
      ]
     },
     "metadata": {},
     "output_type": "display_data"
    },
    {
     "data": {
      "text/html": [
       "<pre style=\"white-space:pre;overflow-x:auto;line-height:normal;font-family:Menlo,'DejaVu Sans Mono',consolas,'Courier New',monospace\">16:09:16.826 | <span style=\"color: #008080; text-decoration-color: #008080\">INFO</span>    | prefect - Success callback set successfully.\n",
       "</pre>\n"
      ],
      "text/plain": [
       "16:09:16.826 | \u001b[36mINFO\u001b[0m    | prefect - Success callback set successfully.\n"
      ]
     },
     "metadata": {},
     "output_type": "display_data"
    },
    {
     "data": {
      "text/html": [
       "<pre style=\"white-space:pre;overflow-x:auto;line-height:normal;font-family:Menlo,'DejaVu Sans Mono',consolas,'Courier New',monospace\">16:09:16.829 | <span style=\"color: #008080; text-decoration-color: #008080\">INFO</span>    | Task run 'set_success_callback-d81' - Finished in state <span style=\"color: #008000; text-decoration-color: #008000\">Completed</span>()\n",
       "</pre>\n"
      ],
      "text/plain": [
       "16:09:16.829 | \u001b[36mINFO\u001b[0m    | Task run 'set_success_callback-d81' - Finished in state \u001b[32mCompleted\u001b[0m()\n"
      ]
     },
     "metadata": {},
     "output_type": "display_data"
    },
    {
     "data": {
      "text/html": [
       "<pre style=\"white-space:pre;overflow-x:auto;line-height:normal;font-family:Menlo,'DejaVu Sans Mono',consolas,'Courier New',monospace\"><span style=\"font-style: italic\">                                              Available Ollama Models                                              </span>\n",
       "                   ╷              ╷              ╷              ╷            ╷             ╷        ╷              \n",
       " <span style=\"font-weight: bold\"> Model Name       </span>│<span style=\"font-weight: bold\"> Modified At  </span>│<span style=\"font-weight: bold\"> Digest       </span>│<span style=\"font-weight: bold\"> Size (bytes) </span>│<span style=\"font-weight: bold\"> Param Size </span>│<span style=\"font-weight: bold\"> Quant Level </span>│<span style=\"font-weight: bold\"> Family </span>│<span style=\"font-weight: bold\"> Families    </span> \n",
       " ══════════════════╪══════════════╪══════════════╪══════════════╪════════════╪═════════════╪════════╪═════════════ \n",
       " <span style=\"color: #008080; text-decoration-color: #008080\"> smollm2:135m     </span>│<span style=\"color: #800080; text-decoration-color: #800080\"> 2024-12-18   </span>│<span style=\"color: #008000; text-decoration-color: #008000\"> 9077fe9d2ae… </span>│<span style=\"color: #808000; text-decoration-color: #808000\">    270898672 </span>│<span style=\"color: #808000; text-decoration-color: #808000\">    134.52M </span>│<span style=\"color: #000080; text-decoration-color: #000080\"> F16         </span>│<span style=\"color: #800000; text-decoration-color: #800000\"> llama  </span>│<span style=\"color: #800000; text-decoration-color: #800000\"> llama       </span> \n",
       " <span style=\"color: #008080; text-decoration-color: #008080\">                  </span>│<span style=\"color: #800080; text-decoration-color: #800080\"> 11:49:06.80… </span>│<span style=\"color: #008000; text-decoration-color: #008000\">              </span>│<span style=\"color: #808000; text-decoration-color: #808000\">              </span>│<span style=\"color: #808000; text-decoration-color: #808000\">            </span>│<span style=\"color: #000080; text-decoration-color: #000080\">             </span>│<span style=\"color: #800000; text-decoration-color: #800000\">        </span>│<span style=\"color: #800000; text-decoration-color: #800000\">             </span> \n",
       " <span style=\"color: #008080; text-decoration-color: #008080\"> llava:latest     </span>│<span style=\"color: #800080; text-decoration-color: #800080\"> 2024-12-07   </span>│<span style=\"color: #008000; text-decoration-color: #008000\"> 8dd30f6b0cb… </span>│<span style=\"color: #808000; text-decoration-color: #808000\">   4733363377 </span>│<span style=\"color: #808000; text-decoration-color: #808000\">         7B </span>│<span style=\"color: #000080; text-decoration-color: #000080\"> Q4_0        </span>│<span style=\"color: #800000; text-decoration-color: #800000\"> llama  </span>│<span style=\"color: #800000; text-decoration-color: #800000\"> llama, clip </span> \n",
       " <span style=\"color: #008080; text-decoration-color: #008080\">                  </span>│<span style=\"color: #800080; text-decoration-color: #800080\"> 23:46:35.56… </span>│<span style=\"color: #008000; text-decoration-color: #008000\">              </span>│<span style=\"color: #808000; text-decoration-color: #808000\">              </span>│<span style=\"color: #808000; text-decoration-color: #808000\">            </span>│<span style=\"color: #000080; text-decoration-color: #000080\">             </span>│<span style=\"color: #800000; text-decoration-color: #800000\">        </span>│<span style=\"color: #800000; text-decoration-color: #800000\">             </span> \n",
       " <span style=\"color: #008080; text-decoration-color: #008080\"> moondream:latest </span>│<span style=\"color: #800080; text-decoration-color: #800080\"> 2024-12-07   </span>│<span style=\"color: #008000; text-decoration-color: #008000\"> 55fc3abd386… </span>│<span style=\"color: #808000; text-decoration-color: #808000\">   1738451197 </span>│<span style=\"color: #808000; text-decoration-color: #808000\">         1B </span>│<span style=\"color: #000080; text-decoration-color: #000080\"> Q4_0        </span>│<span style=\"color: #800000; text-decoration-color: #800000\"> phi2   </span>│<span style=\"color: #800000; text-decoration-color: #800000\"> phi2, clip  </span> \n",
       " <span style=\"color: #008080; text-decoration-color: #008080\">                  </span>│<span style=\"color: #800080; text-decoration-color: #800080\"> 22:19:46.41… </span>│<span style=\"color: #008000; text-decoration-color: #008000\">              </span>│<span style=\"color: #808000; text-decoration-color: #808000\">              </span>│<span style=\"color: #808000; text-decoration-color: #808000\">            </span>│<span style=\"color: #000080; text-decoration-color: #000080\">             </span>│<span style=\"color: #800000; text-decoration-color: #800000\">        </span>│<span style=\"color: #800000; text-decoration-color: #800000\">             </span> \n",
       " <span style=\"color: #008080; text-decoration-color: #008080\"> llama3.2:latest  </span>│<span style=\"color: #800080; text-decoration-color: #800080\"> 2024-12-07   </span>│<span style=\"color: #008000; text-decoration-color: #008000\"> a80c4f17acd… </span>│<span style=\"color: #808000; text-decoration-color: #808000\">   2019393189 </span>│<span style=\"color: #808000; text-decoration-color: #808000\">       3.2B </span>│<span style=\"color: #000080; text-decoration-color: #000080\"> Q4_K_M      </span>│<span style=\"color: #800000; text-decoration-color: #800000\"> llama  </span>│<span style=\"color: #800000; text-decoration-color: #800000\"> llama       </span> \n",
       " <span style=\"color: #008080; text-decoration-color: #008080\">                  </span>│<span style=\"color: #800080; text-decoration-color: #800080\"> 22:18:36.84… </span>│<span style=\"color: #008000; text-decoration-color: #008000\">              </span>│<span style=\"color: #808000; text-decoration-color: #808000\">              </span>│<span style=\"color: #808000; text-decoration-color: #808000\">            </span>│<span style=\"color: #000080; text-decoration-color: #000080\">             </span>│<span style=\"color: #800000; text-decoration-color: #800000\">        </span>│<span style=\"color: #800000; text-decoration-color: #800000\">             </span> \n",
       "                   ╵              ╵              ╵              ╵            ╵             ╵        ╵              \n",
       "</pre>\n"
      ],
      "text/plain": [
       "\u001b[3m                                              Available Ollama Models                                              \u001b[0m\n",
       "                   ╷              ╷              ╷              ╷            ╷             ╷        ╷              \n",
       " \u001b[1m \u001b[0m\u001b[1mModel Name      \u001b[0m\u001b[1m \u001b[0m│\u001b[1m \u001b[0m\u001b[1mModified At \u001b[0m\u001b[1m \u001b[0m│\u001b[1m \u001b[0m\u001b[1mDigest      \u001b[0m\u001b[1m \u001b[0m│\u001b[1m \u001b[0m\u001b[1mSize (bytes)\u001b[0m\u001b[1m \u001b[0m│\u001b[1m \u001b[0m\u001b[1mParam Size\u001b[0m\u001b[1m \u001b[0m│\u001b[1m \u001b[0m\u001b[1mQuant Level\u001b[0m\u001b[1m \u001b[0m│\u001b[1m \u001b[0m\u001b[1mFamily\u001b[0m\u001b[1m \u001b[0m│\u001b[1m \u001b[0m\u001b[1mFamilies   \u001b[0m\u001b[1m \u001b[0m \n",
       " ══════════════════╪══════════════╪══════════════╪══════════════╪════════════╪═════════════╪════════╪═════════════ \n",
       " \u001b[36m \u001b[0m\u001b[36msmollm2:135m    \u001b[0m\u001b[36m \u001b[0m│\u001b[35m \u001b[0m\u001b[35m2024-12-18  \u001b[0m\u001b[35m \u001b[0m│\u001b[32m \u001b[0m\u001b[32m9077fe9d2ae…\u001b[0m\u001b[32m \u001b[0m│\u001b[33m \u001b[0m\u001b[33m   270898672\u001b[0m\u001b[33m \u001b[0m│\u001b[33m \u001b[0m\u001b[33m   134.52M\u001b[0m\u001b[33m \u001b[0m│\u001b[34m \u001b[0m\u001b[34mF16        \u001b[0m\u001b[34m \u001b[0m│\u001b[31m \u001b[0m\u001b[31mllama \u001b[0m\u001b[31m \u001b[0m│\u001b[31m \u001b[0m\u001b[31mllama      \u001b[0m\u001b[31m \u001b[0m \n",
       " \u001b[36m                  \u001b[0m│\u001b[35m \u001b[0m\u001b[35m11:49:06.80…\u001b[0m\u001b[35m \u001b[0m│\u001b[32m              \u001b[0m│\u001b[33m              \u001b[0m│\u001b[33m            \u001b[0m│\u001b[34m             \u001b[0m│\u001b[31m        \u001b[0m│\u001b[31m             \u001b[0m \n",
       " \u001b[36m \u001b[0m\u001b[36mllava:latest    \u001b[0m\u001b[36m \u001b[0m│\u001b[35m \u001b[0m\u001b[35m2024-12-07  \u001b[0m\u001b[35m \u001b[0m│\u001b[32m \u001b[0m\u001b[32m8dd30f6b0cb…\u001b[0m\u001b[32m \u001b[0m│\u001b[33m \u001b[0m\u001b[33m  4733363377\u001b[0m\u001b[33m \u001b[0m│\u001b[33m \u001b[0m\u001b[33m        7B\u001b[0m\u001b[33m \u001b[0m│\u001b[34m \u001b[0m\u001b[34mQ4_0       \u001b[0m\u001b[34m \u001b[0m│\u001b[31m \u001b[0m\u001b[31mllama \u001b[0m\u001b[31m \u001b[0m│\u001b[31m \u001b[0m\u001b[31mllama, clip\u001b[0m\u001b[31m \u001b[0m \n",
       " \u001b[36m                  \u001b[0m│\u001b[35m \u001b[0m\u001b[35m23:46:35.56…\u001b[0m\u001b[35m \u001b[0m│\u001b[32m              \u001b[0m│\u001b[33m              \u001b[0m│\u001b[33m            \u001b[0m│\u001b[34m             \u001b[0m│\u001b[31m        \u001b[0m│\u001b[31m             \u001b[0m \n",
       " \u001b[36m \u001b[0m\u001b[36mmoondream:latest\u001b[0m\u001b[36m \u001b[0m│\u001b[35m \u001b[0m\u001b[35m2024-12-07  \u001b[0m\u001b[35m \u001b[0m│\u001b[32m \u001b[0m\u001b[32m55fc3abd386…\u001b[0m\u001b[32m \u001b[0m│\u001b[33m \u001b[0m\u001b[33m  1738451197\u001b[0m\u001b[33m \u001b[0m│\u001b[33m \u001b[0m\u001b[33m        1B\u001b[0m\u001b[33m \u001b[0m│\u001b[34m \u001b[0m\u001b[34mQ4_0       \u001b[0m\u001b[34m \u001b[0m│\u001b[31m \u001b[0m\u001b[31mphi2  \u001b[0m\u001b[31m \u001b[0m│\u001b[31m \u001b[0m\u001b[31mphi2, clip \u001b[0m\u001b[31m \u001b[0m \n",
       " \u001b[36m                  \u001b[0m│\u001b[35m \u001b[0m\u001b[35m22:19:46.41…\u001b[0m\u001b[35m \u001b[0m│\u001b[32m              \u001b[0m│\u001b[33m              \u001b[0m│\u001b[33m            \u001b[0m│\u001b[34m             \u001b[0m│\u001b[31m        \u001b[0m│\u001b[31m             \u001b[0m \n",
       " \u001b[36m \u001b[0m\u001b[36mllama3.2:latest \u001b[0m\u001b[36m \u001b[0m│\u001b[35m \u001b[0m\u001b[35m2024-12-07  \u001b[0m\u001b[35m \u001b[0m│\u001b[32m \u001b[0m\u001b[32ma80c4f17acd…\u001b[0m\u001b[32m \u001b[0m│\u001b[33m \u001b[0m\u001b[33m  2019393189\u001b[0m\u001b[33m \u001b[0m│\u001b[33m \u001b[0m\u001b[33m      3.2B\u001b[0m\u001b[33m \u001b[0m│\u001b[34m \u001b[0m\u001b[34mQ4_K_M     \u001b[0m\u001b[34m \u001b[0m│\u001b[31m \u001b[0m\u001b[31mllama \u001b[0m\u001b[31m \u001b[0m│\u001b[31m \u001b[0m\u001b[31mllama      \u001b[0m\u001b[31m \u001b[0m \n",
       " \u001b[36m                  \u001b[0m│\u001b[35m \u001b[0m\u001b[35m22:18:36.84…\u001b[0m\u001b[35m \u001b[0m│\u001b[32m              \u001b[0m│\u001b[33m              \u001b[0m│\u001b[33m            \u001b[0m│\u001b[34m             \u001b[0m│\u001b[31m        \u001b[0m│\u001b[31m             \u001b[0m \n",
       "                   ╵              ╵              ╵              ╵            ╵             ╵        ╵              \n"
      ]
     },
     "metadata": {},
     "output_type": "display_data"
    },
    {
     "data": {
      "text/html": [
       "<pre style=\"white-space:pre;overflow-x:auto;line-height:normal;font-family:Menlo,'DejaVu Sans Mono',consolas,'Courier New',monospace\">16:09:16.864 | <span style=\"color: #008080; text-decoration-color: #008080\">INFO</span>    | Task run 'list_ollama_models-e7c' - Finished in state <span style=\"color: #008000; text-decoration-color: #008000\">Completed</span>()\n",
       "</pre>\n"
      ],
      "text/plain": [
       "16:09:16.864 | \u001b[36mINFO\u001b[0m    | Task run 'list_ollama_models-e7c' - Finished in state \u001b[32mCompleted\u001b[0m()\n"
      ]
     },
     "metadata": {},
     "output_type": "display_data"
    },
    {
     "data": {
      "text/html": [
       "<pre style=\"white-space:pre;overflow-x:auto;line-height:normal;font-family:Menlo,'DejaVu Sans Mono',consolas,'Courier New',monospace\">16:09:16.890 | <span style=\"color: #008080; text-decoration-color: #008080\">INFO</span>    | prefect - Loaded 3 documents from /home/rakesh/Downloads/sample_data/four/\n",
       "</pre>\n"
      ],
      "text/plain": [
       "16:09:16.890 | \u001b[36mINFO\u001b[0m    | prefect - Loaded 3 documents from /home/rakesh/Downloads/sample_data/four/\n"
      ]
     },
     "metadata": {},
     "output_type": "display_data"
    },
    {
     "data": {
      "text/html": [
       "<pre style=\"white-space:pre;overflow-x:auto;line-height:normal;font-family:Menlo,'DejaVu Sans Mono',consolas,'Courier New',monospace\"><span style=\"color: #008000; text-decoration-color: #008000; font-weight: bold\">Loaded </span><span style=\"color: #008000; text-decoration-color: #008000; font-weight: bold\">3</span><span style=\"color: #008000; text-decoration-color: #008000; font-weight: bold\"> documents from /home/rakesh/Downloads/sample_data/four/</span>\n",
       "</pre>\n"
      ],
      "text/plain": [
       "\u001b[1;32mLoaded \u001b[0m\u001b[1;32m3\u001b[0m\u001b[1;32m documents from \u001b[0m\u001b[1;32m/home/rakesh/Downloads/sample_data/four/\u001b[0m\n"
      ]
     },
     "metadata": {},
     "output_type": "display_data"
    },
    {
     "data": {
      "text/html": [
       "<pre style=\"white-space:pre;overflow-x:auto;line-height:normal;font-family:Menlo,'DejaVu Sans Mono',consolas,'Courier New',monospace\">16:09:16.894 | <span style=\"color: #008080; text-decoration-color: #008080\">INFO</span>    | Task run 'load_documents-067' - Finished in state <span style=\"color: #008000; text-decoration-color: #008000\">Completed</span>()\n",
       "</pre>\n"
      ],
      "text/plain": [
       "16:09:16.894 | \u001b[36mINFO\u001b[0m    | Task run 'load_documents-067' - Finished in state \u001b[32mCompleted\u001b[0m()\n"
      ]
     },
     "metadata": {},
     "output_type": "display_data"
    },
    {
     "data": {
      "text/html": [
       "<pre style=\"white-space:pre;overflow-x:auto;line-height:normal;font-family:Menlo,'DejaVu Sans Mono',consolas,'Courier New',monospace\">16:09:16.922 | <span style=\"color: #008080; text-decoration-color: #008080\">INFO</span>    | prefect - Processed metadata: 3 unique documents\n",
       "</pre>\n"
      ],
      "text/plain": [
       "16:09:16.922 | \u001b[36mINFO\u001b[0m    | prefect - Processed metadata: 3 unique documents\n"
      ]
     },
     "metadata": {},
     "output_type": "display_data"
    },
    {
     "data": {
      "text/html": [
       "<pre style=\"white-space:pre;overflow-x:auto;line-height:normal;font-family:Menlo,'DejaVu Sans Mono',consolas,'Courier New',monospace\"><span style=\"color: #008000; text-decoration-color: #008000; font-weight: bold\">Processed metadata: </span><span style=\"color: #008000; text-decoration-color: #008000; font-weight: bold\">3</span><span style=\"color: #008000; text-decoration-color: #008000; font-weight: bold\"> unique documents</span>\n",
       "</pre>\n"
      ],
      "text/plain": [
       "\u001b[1;32mProcessed metadata: \u001b[0m\u001b[1;32m3\u001b[0m\u001b[1;32m unique documents\u001b[0m\n"
      ]
     },
     "metadata": {},
     "output_type": "display_data"
    },
    {
     "data": {
      "text/html": [
       "<pre style=\"white-space:pre;overflow-x:auto;line-height:normal;font-family:Menlo,'DejaVu Sans Mono',consolas,'Courier New',monospace\">16:09:16.925 | <span style=\"color: #008080; text-decoration-color: #008080\">INFO</span>    | Task run 'process_metadata-0f3' - Finished in state <span style=\"color: #008000; text-decoration-color: #008000\">Completed</span>()\n",
       "</pre>\n"
      ],
      "text/plain": [
       "16:09:16.925 | \u001b[36mINFO\u001b[0m    | Task run 'process_metadata-0f3' - Finished in state \u001b[32mCompleted\u001b[0m()\n"
      ]
     },
     "metadata": {},
     "output_type": "display_data"
    },
    {
     "name": "stdout",
     "output_type": "stream",
     "text": [
      "Summaries:\n",
      "[{'file_path': '/home/rakesh/Downloads/sample_data/four/dsflsdflj.txt',\n",
      "  'summary': 'The article discusses the emergence of Vertical Large Language '\n",
      "             'Model (LLM) Agents as the next big wave in Software as a Service '\n",
      "             '(SaaS) innovations, and describes the success story of Case '\n",
      "             \"Text's Co-Counsel.\"},\n",
      " {'file_path': '/home/rakesh/Downloads/sample_data/four/random_file.txt',\n",
      "  'summary': 'The file contains some important information, including a bank '\n",
      "             'account number.'},\n",
      " {'file_path': '/home/rakesh/Downloads/sample_data/four/shad.txt',\n",
      "  'summary': 'The article is about different open-source Next.js boilerplates '\n",
      "             'and their features, including Next.js, Tailwind CSS, and other '\n",
      "             'technologies.'}]\n"
     ]
    },
    {
     "data": {
      "text/html": [
       "<pre style=\"white-space:pre;overflow-x:auto;line-height:normal;font-family:Menlo,'DejaVu Sans Mono',consolas,'Courier New',monospace\">16:09:17.570 | <span style=\"color: #008080; text-decoration-color: #008080\">INFO</span>    | prefect - Generated summaries for 0 files with cost 0.0\n",
       "</pre>\n"
      ],
      "text/plain": [
       "16:09:17.570 | \u001b[36mINFO\u001b[0m    | prefect - Generated summaries for 0 files with cost 0.0\n"
      ]
     },
     "metadata": {},
     "output_type": "display_data"
    },
    {
     "data": {
      "text/html": [
       "<pre style=\"white-space:pre;overflow-x:auto;line-height:normal;font-family:Menlo,'DejaVu Sans Mono',consolas,'Courier New',monospace\"><span style=\"color: #008000; text-decoration-color: #008000; font-weight: bold\">Generated summaries for </span><span style=\"color: #008000; text-decoration-color: #008000; font-weight: bold\">0</span><span style=\"color: #008000; text-decoration-color: #008000; font-weight: bold\"> files with cost </span><span style=\"color: #008000; text-decoration-color: #008000; font-weight: bold\">0.0</span>\n",
       "</pre>\n"
      ],
      "text/plain": [
       "\u001b[1;32mGenerated summaries for \u001b[0m\u001b[1;32m0\u001b[0m\u001b[1;32m files with cost \u001b[0m\u001b[1;32m0.0\u001b[0m\n"
      ]
     },
     "metadata": {},
     "output_type": "display_data"
    },
    {
     "data": {
      "text/html": [
       "<pre style=\"white-space:pre;overflow-x:auto;line-height:normal;font-family:Menlo,'DejaVu Sans Mono',consolas,'Courier New',monospace\">16:09:17.577 | <span style=\"color: #008080; text-decoration-color: #008080\">INFO</span>    | Task run 'query_summaries-041' - Finished in state <span style=\"color: #008000; text-decoration-color: #008000\">Completed</span>()\n",
       "</pre>\n"
      ],
      "text/plain": [
       "16:09:17.577 | \u001b[36mINFO\u001b[0m    | Task run 'query_summaries-041' - Finished in state \u001b[32mCompleted\u001b[0m()\n"
      ]
     },
     "metadata": {},
     "output_type": "display_data"
    },
    {
     "data": {
      "text/html": [
       "<pre style=\"white-space:pre;overflow-x:auto;line-height:normal;font-family:Menlo,'DejaVu Sans Mono',consolas,'Courier New',monospace\">16:09:17.633 | <span style=\"color: #008080; text-decoration-color: #008080\">INFO</span>    | prefect - Calculated cost: 0.004791\n",
       "</pre>\n"
      ],
      "text/plain": [
       "16:09:17.633 | \u001b[36mINFO\u001b[0m    | prefect - Calculated cost: 0.004791\n"
      ]
     },
     "metadata": {},
     "output_type": "display_data"
    },
    {
     "data": {
      "text/html": [
       "<pre style=\"white-space:pre;overflow-x:auto;line-height:normal;font-family:Menlo,'DejaVu Sans Mono',consolas,'Courier New',monospace\"><span style=\"color: #008000; text-decoration-color: #008000; font-weight: bold\">Calculated cost:</span> <span style=\"color: #808000; text-decoration-color: #808000; font-weight: bold\">0.004791</span>\n",
       "</pre>\n"
      ],
      "text/plain": [
       "\u001b[1;32mCalculated cost:\u001b[0m \u001b[1;33m0.004791\u001b[0m\n"
      ]
     },
     "metadata": {},
     "output_type": "display_data"
    },
    {
     "data": {
      "text/html": [
       "<pre style=\"white-space:pre;overflow-x:auto;line-height:normal;font-family:Menlo,'DejaVu Sans Mono',consolas,'Courier New',monospace\">16:09:17.639 | <span style=\"color: #008080; text-decoration-color: #008080\">INFO</span>    | Task run 'track_cost_callback' - Finished in state <span style=\"color: #008000; text-decoration-color: #008000\">Completed</span>()\n",
       "</pre>\n"
      ],
      "text/plain": [
       "16:09:17.639 | \u001b[36mINFO\u001b[0m    | Task run 'track_cost_callback' - Finished in state \u001b[32mCompleted\u001b[0m()\n"
      ]
     },
     "metadata": {},
     "output_type": "display_data"
    },
    {
     "data": {
      "text/html": [
       "<pre style=\"white-space:pre;overflow-x:auto;line-height:normal;font-family:Menlo,'DejaVu Sans Mono',consolas,'Courier New',monospace\">16:09:18.289 | <span style=\"color: #d70000; text-decoration-color: #d70000\">ERROR</span>   | prefect - Error decoding JSON content: Expecting value: line 1 column 1 (char 0)\n",
       "</pre>\n"
      ],
      "text/plain": [
       "16:09:18.289 | \u001b[38;5;160mERROR\u001b[0m   | prefect - Error decoding JSON content: Expecting value: line 1 column 1 (char 0)\n"
      ]
     },
     "metadata": {},
     "output_type": "display_data"
    },
    {
     "data": {
      "text/html": [
       "<pre style=\"white-space:pre;overflow-x:auto;line-height:normal;font-family:Menlo,'DejaVu Sans Mono',consolas,'Courier New',monospace\"><span style=\"color: #800000; text-decoration-color: #800000; font-weight: bold\">Error decoding JSON content:</span> Expecting value: line <span style=\"color: #008080; text-decoration-color: #008080; font-weight: bold\">1</span> column <span style=\"color: #008080; text-decoration-color: #008080; font-weight: bold\">1</span> <span style=\"font-weight: bold\">(</span>char <span style=\"color: #008080; text-decoration-color: #008080; font-weight: bold\">0</span><span style=\"font-weight: bold\">)</span>\n",
       "</pre>\n"
      ],
      "text/plain": [
       "\u001b[1;31mError decoding JSON content:\u001b[0m Expecting value: line \u001b[1;36m1\u001b[0m column \u001b[1;36m1\u001b[0m \u001b[1m(\u001b[0mchar \u001b[1;36m0\u001b[0m\u001b[1m)\u001b[0m\n"
      ]
     },
     "metadata": {},
     "output_type": "display_data"
    },
    {
     "data": {
      "text/html": [
       "<pre style=\"white-space:pre;overflow-x:auto;line-height:normal;font-family:Menlo,'DejaVu Sans Mono',consolas,'Courier New',monospace\"><span style=\"color: #808000; text-decoration-color: #808000; font-weight: bold\">Raw Content:</span>\n",
       "Here is the proposed JSON object:\n",
       "\n",
       "<span style=\"font-weight: bold\">{</span>\n",
       "    <span style=\"color: #008000; text-decoration-color: #008000\">\"files\"</span>: <span style=\"font-weight: bold\">[</span>\n",
       "        <span style=\"font-weight: bold\">{</span>\n",
       "            <span style=\"color: #008000; text-decoration-color: #008000\">\"src_path\"</span>: <span style=\"color: #008000; text-decoration-color: #008000\">\"/home/rakesh/Downloads/sample_data/four/file1.txt\"</span>,\n",
       "            <span style=\"color: #008000; text-decoration-color: #008000\">\"dst_path\"</span>: <span style=\"color: #008000; text-decoration-color: #008000\">\"/home/rakesh/Downloads/sample_data/four_organized/file1.txt\"</span>,\n",
       "            <span style=\"color: #008000; text-decoration-color: #008000\">\"dst_path_new\"</span>: <span style=\"color: #008000; text-decoration-color: #008000\">\"/home/rakesh/Downloads/sample_data/four_organized/file1_20230310.txt\"</span>\n",
       "        <span style=\"font-weight: bold\">}</span>,\n",
       "        <span style=\"font-weight: bold\">{</span>\n",
       "            <span style=\"color: #008000; text-decoration-color: #008000\">\"src_path\"</span>: <span style=\"color: #008000; text-decoration-color: #008000\">\"/home/rakesh/Downloads/sample_data/four/file2.txt\"</span>,\n",
       "            <span style=\"color: #008000; text-decoration-color: #008000\">\"dst_path\"</span>: <span style=\"color: #008000; text-decoration-color: #008000\">\"/home/rakesh/Downloads/sample_data/four_organized/file2.txt\"</span>,\n",
       "            <span style=\"color: #008000; text-decoration-color: #008000\">\"dst_path_new\"</span>: <span style=\"color: #008000; text-decoration-color: #008000\">\"/home/rakesh/Downloads/sample_data/four_organized/file2_v2.txt\"</span>\n",
       "        <span style=\"font-weight: bold\">}</span>,\n",
       "        <span style=\"font-weight: bold\">{</span>\n",
       "            <span style=\"color: #008000; text-decoration-color: #008000\">\"src_path\"</span>: <span style=\"color: #008000; text-decoration-color: #008000\">\"/home/rakesh/Downloads/sample_data/four/file3.txt\"</span>,\n",
       "            <span style=\"color: #008000; text-decoration-color: #008000\">\"dst_path\"</span>: <span style=\"color: #008000; text-decoration-color: #008000\">\"/home/rakesh/Downloads/sample_data/four_organized/file3.txt\"</span>,\n",
       "            <span style=\"color: #008000; text-decoration-color: #008000\">\"dst_path_new\"</span>: <span style=\"color: #008000; text-decoration-color: #008000\">\"/home/rakesh/Downloads/sample_data/four_organized/file3_20230310.txt\"</span>\n",
       "        <span style=\"font-weight: bold\">}</span>,\n",
       "        <span style=\"font-weight: bold\">{</span>\n",
       "            <span style=\"color: #008000; text-decoration-color: #008000\">\"src_path\"</span>: <span style=\"color: #008000; text-decoration-color: #008000\">\"/home/rakesh/Downloads/sample_data/four/config.txt\"</span>,\n",
       "            <span style=\"color: #008000; text-decoration-color: #008000\">\"dst_path\"</span>: <span style=\"color: #008000; text-decoration-color: #008000\">\"/home/rakesh/Downloads/sample_data/four_organized/config.txt\"</span>,\n",
       "            <span style=\"color: #008000; text-decoration-color: #008000\">\"dst_path_new\"</span>: <span style=\"color: #008000; text-decoration-color: #008000\">\"/home/rakesh/Downloads/sample_data/four_organized/config_v1.txt\"</span>\n",
       "        <span style=\"font-weight: bold\">}</span>\n",
       "    <span style=\"font-weight: bold\">]</span>\n",
       "<span style=\"font-weight: bold\">}</span>\n",
       "</pre>\n"
      ],
      "text/plain": [
       "\u001b[1;33mRaw Content:\u001b[0m\n",
       "Here is the proposed JSON object:\n",
       "\n",
       "\u001b[1m{\u001b[0m\n",
       "    \u001b[32m\"files\"\u001b[0m: \u001b[1m[\u001b[0m\n",
       "        \u001b[1m{\u001b[0m\n",
       "            \u001b[32m\"src_path\"\u001b[0m: \u001b[32m\"/home/rakesh/Downloads/sample_data/four/file1.txt\"\u001b[0m,\n",
       "            \u001b[32m\"dst_path\"\u001b[0m: \u001b[32m\"/home/rakesh/Downloads/sample_data/four_organized/file1.txt\"\u001b[0m,\n",
       "            \u001b[32m\"dst_path_new\"\u001b[0m: \u001b[32m\"/home/rakesh/Downloads/sample_data/four_organized/file1_20230310.txt\"\u001b[0m\n",
       "        \u001b[1m}\u001b[0m,\n",
       "        \u001b[1m{\u001b[0m\n",
       "            \u001b[32m\"src_path\"\u001b[0m: \u001b[32m\"/home/rakesh/Downloads/sample_data/four/file2.txt\"\u001b[0m,\n",
       "            \u001b[32m\"dst_path\"\u001b[0m: \u001b[32m\"/home/rakesh/Downloads/sample_data/four_organized/file2.txt\"\u001b[0m,\n",
       "            \u001b[32m\"dst_path_new\"\u001b[0m: \u001b[32m\"/home/rakesh/Downloads/sample_data/four_organized/file2_v2.txt\"\u001b[0m\n",
       "        \u001b[1m}\u001b[0m,\n",
       "        \u001b[1m{\u001b[0m\n",
       "            \u001b[32m\"src_path\"\u001b[0m: \u001b[32m\"/home/rakesh/Downloads/sample_data/four/file3.txt\"\u001b[0m,\n",
       "            \u001b[32m\"dst_path\"\u001b[0m: \u001b[32m\"/home/rakesh/Downloads/sample_data/four_organized/file3.txt\"\u001b[0m,\n",
       "            \u001b[32m\"dst_path_new\"\u001b[0m: \u001b[32m\"/home/rakesh/Downloads/sample_data/four_organized/file3_20230310.txt\"\u001b[0m\n",
       "        \u001b[1m}\u001b[0m,\n",
       "        \u001b[1m{\u001b[0m\n",
       "            \u001b[32m\"src_path\"\u001b[0m: \u001b[32m\"/home/rakesh/Downloads/sample_data/four/config.txt\"\u001b[0m,\n",
       "            \u001b[32m\"dst_path\"\u001b[0m: \u001b[32m\"/home/rakesh/Downloads/sample_data/four_organized/config.txt\"\u001b[0m,\n",
       "            \u001b[32m\"dst_path_new\"\u001b[0m: \u001b[32m\"/home/rakesh/Downloads/sample_data/four_organized/config_v1.txt\"\u001b[0m\n",
       "        \u001b[1m}\u001b[0m\n",
       "    \u001b[1m]\u001b[0m\n",
       "\u001b[1m}\u001b[0m\n"
      ]
     },
     "metadata": {},
     "output_type": "display_data"
    },
    {
     "data": {
      "text/html": [
       "<pre style=\"white-space:pre;overflow-x:auto;line-height:normal;font-family:Menlo,'DejaVu Sans Mono',consolas,'Courier New',monospace\">16:09:18.297 | <span style=\"color: #008080; text-decoration-color: #008080\">INFO</span>    | Task run 'create_file_tree-464' - Finished in state <span style=\"color: #008000; text-decoration-color: #008000\">Completed</span>()\n",
       "</pre>\n"
      ],
      "text/plain": [
       "16:09:18.297 | \u001b[36mINFO\u001b[0m    | Task run 'create_file_tree-464' - Finished in state \u001b[32mCompleted\u001b[0m()\n"
      ]
     },
     "metadata": {},
     "output_type": "display_data"
    },
    {
     "data": {
      "text/html": [
       "<pre style=\"white-space:pre;overflow-x:auto;line-height:normal;font-family:Menlo,'DejaVu Sans Mono',consolas,'Courier New',monospace\">16:09:18.349 | <span style=\"color: #008080; text-decoration-color: #008080\">INFO</span>    | prefect - All necessary subdirectories created.\n",
       "</pre>\n"
      ],
      "text/plain": [
       "16:09:18.349 | \u001b[36mINFO\u001b[0m    | prefect - All necessary subdirectories created.\n"
      ]
     },
     "metadata": {},
     "output_type": "display_data"
    },
    {
     "data": {
      "text/html": [
       "<pre style=\"white-space:pre;overflow-x:auto;line-height:normal;font-family:Menlo,'DejaVu Sans Mono',consolas,'Courier New',monospace\">16:09:18.353 | <span style=\"color: #008080; text-decoration-color: #008080\">INFO</span>    | prefect - Calculated cost: 0.002133\n",
       "</pre>\n"
      ],
      "text/plain": [
       "16:09:18.353 | \u001b[36mINFO\u001b[0m    | prefect - Calculated cost: 0.002133\n"
      ]
     },
     "metadata": {},
     "output_type": "display_data"
    },
    {
     "data": {
      "text/html": [
       "<pre style=\"white-space:pre;overflow-x:auto;line-height:normal;font-family:Menlo,'DejaVu Sans Mono',consolas,'Courier New',monospace\"><span style=\"color: #008000; text-decoration-color: #008000; font-weight: bold\">All necessary subdirectories created.</span>\n",
       "</pre>\n"
      ],
      "text/plain": [
       "\u001b[1;32mAll necessary subdirectories created.\u001b[0m\n"
      ]
     },
     "metadata": {},
     "output_type": "display_data"
    },
    {
     "data": {
      "text/html": [
       "<pre style=\"white-space:pre;overflow-x:auto;line-height:normal;font-family:Menlo,'DejaVu Sans Mono',consolas,'Courier New',monospace\">16:09:18.356 | <span style=\"color: #008080; text-decoration-color: #008080\">INFO</span>    | Task run 'create_subdirectories-0cb' - Finished in state <span style=\"color: #008000; text-decoration-color: #008000\">Completed</span>()\n",
       "</pre>\n"
      ],
      "text/plain": [
       "16:09:18.356 | \u001b[36mINFO\u001b[0m    | Task run 'create_subdirectories-0cb' - Finished in state \u001b[32mCompleted\u001b[0m()\n"
      ]
     },
     "metadata": {},
     "output_type": "display_data"
    },
    {
     "data": {
      "text/html": [
       "<pre style=\"white-space:pre;overflow-x:auto;line-height:normal;font-family:Menlo,'DejaVu Sans Mono',consolas,'Courier New',monospace\"><span style=\"color: #008000; text-decoration-color: #008000; font-weight: bold\">Calculated cost:</span> <span style=\"color: #808000; text-decoration-color: #808000; font-weight: bold\">0.002133</span>\n",
       "</pre>\n"
      ],
      "text/plain": [
       "\u001b[1;32mCalculated cost:\u001b[0m \u001b[1;33m0.002133\u001b[0m\n"
      ]
     },
     "metadata": {},
     "output_type": "display_data"
    },
    {
     "data": {
      "text/html": [
       "<pre style=\"white-space:pre;overflow-x:auto;line-height:normal;font-family:Menlo,'DejaVu Sans Mono',consolas,'Courier New',monospace\">16:09:18.360 | <span style=\"color: #008080; text-decoration-color: #008080\">INFO</span>    | Task run 'track_cost_callback' - Finished in state <span style=\"color: #008000; text-decoration-color: #008000\">Completed</span>()\n",
       "</pre>\n"
      ],
      "text/plain": [
       "16:09:18.360 | \u001b[36mINFO\u001b[0m    | Task run 'track_cost_callback' - Finished in state \u001b[32mCompleted\u001b[0m()\n"
      ]
     },
     "metadata": {},
     "output_type": "display_data"
    },
    {
     "data": {
      "text/html": [
       "<pre style=\"white-space:pre;overflow-x:auto;line-height:normal;font-family:Menlo,'DejaVu Sans Mono',consolas,'Courier New',monospace\">16:09:18.383 | <span style=\"color: #008080; text-decoration-color: #008080\">INFO</span>    | prefect - Concatenated summary and file tree for 0 files\n",
       "</pre>\n"
      ],
      "text/plain": [
       "16:09:18.383 | \u001b[36mINFO\u001b[0m    | prefect - Concatenated summary and file tree for 0 files\n"
      ]
     },
     "metadata": {},
     "output_type": "display_data"
    },
    {
     "data": {
      "text/html": [
       "<pre style=\"white-space:pre;overflow-x:auto;line-height:normal;font-family:Menlo,'DejaVu Sans Mono',consolas,'Courier New',monospace\"><span style=\"color: #008000; text-decoration-color: #008000; font-weight: bold\">Concatenated summary and file tree for </span><span style=\"color: #008000; text-decoration-color: #008000; font-weight: bold\">0</span><span style=\"color: #008000; text-decoration-color: #008000; font-weight: bold\"> files</span>\n",
       "</pre>\n"
      ],
      "text/plain": [
       "\u001b[1;32mConcatenated summary and file tree for \u001b[0m\u001b[1;32m0\u001b[0m\u001b[1;32m files\u001b[0m\n"
      ]
     },
     "metadata": {},
     "output_type": "display_data"
    },
    {
     "data": {
      "text/html": [
       "<pre style=\"white-space:pre;overflow-x:auto;line-height:normal;font-family:Menlo,'DejaVu Sans Mono',consolas,'Courier New',monospace\">16:09:18.387 | <span style=\"color: #008080; text-decoration-color: #008080\">INFO</span>    | Task run 'concatenate_summaries_and_file_tree-3a5' - Finished in state <span style=\"color: #008000; text-decoration-color: #008000\">Completed</span>()\n",
       "</pre>\n"
      ],
      "text/plain": [
       "16:09:18.387 | \u001b[36mINFO\u001b[0m    | Task run 'concatenate_summaries_and_file_tree-3a5' - Finished in state \u001b[32mCompleted\u001b[0m()\n"
      ]
     },
     "metadata": {},
     "output_type": "display_data"
    },
    {
     "data": {
      "text/html": [
       "<pre style=\"white-space:pre;overflow-x:auto;line-height:normal;font-family:Menlo,'DejaVu Sans Mono',consolas,'Courier New',monospace\"><span style=\"color: #800000; text-decoration-color: #800000; font-weight: bold\">No organized files to display.</span>\n",
       "</pre>\n"
      ],
      "text/plain": [
       "\u001b[1;31mNo organized files to display.\u001b[0m\n"
      ]
     },
     "metadata": {},
     "output_type": "display_data"
    },
    {
     "data": {
      "text/html": [
       "<pre style=\"white-space:pre;overflow-x:auto;line-height:normal;font-family:Menlo,'DejaVu Sans Mono',consolas,'Courier New',monospace\">16:09:18.414 | <span style=\"color: #008080; text-decoration-color: #008080\">INFO</span>    | Task run 'display_organized_files-c76' - Finished in state <span style=\"color: #008000; text-decoration-color: #008000\">Completed</span>()\n",
       "</pre>\n"
      ],
      "text/plain": [
       "16:09:18.414 | \u001b[36mINFO\u001b[0m    | Task run 'display_organized_files-c76' - Finished in state \u001b[32mCompleted\u001b[0m()\n"
      ]
     },
     "metadata": {},
     "output_type": "display_data"
    },
    {
     "data": {
      "text/html": [
       "<pre style=\"white-space:pre;overflow-x:auto;line-height:normal;font-family:Menlo,'DejaVu Sans Mono',consolas,'Courier New',monospace\"><span style=\"color: #800000; text-decoration-color: #800000; font-weight: bold\">No concatenated data to display.</span>\n",
       "</pre>\n"
      ],
      "text/plain": [
       "\u001b[1;31mNo concatenated data to display.\u001b[0m\n"
      ]
     },
     "metadata": {},
     "output_type": "display_data"
    },
    {
     "data": {
      "text/html": [
       "<pre style=\"white-space:pre;overflow-x:auto;line-height:normal;font-family:Menlo,'DejaVu Sans Mono',consolas,'Courier New',monospace\">16:09:18.444 | <span style=\"color: #008080; text-decoration-color: #008080\">INFO</span>    | Task run 'display_concatenated_dict-c78' - Finished in state <span style=\"color: #008000; text-decoration-color: #008000\">Completed</span>()\n",
       "</pre>\n"
      ],
      "text/plain": [
       "16:09:18.444 | \u001b[36mINFO\u001b[0m    | Task run 'display_concatenated_dict-c78' - Finished in state \u001b[32mCompleted\u001b[0m()\n"
      ]
     },
     "metadata": {},
     "output_type": "display_data"
    },
    {
     "data": {
      "text/html": [
       "<pre style=\"white-space:pre;overflow-x:auto;line-height:normal;font-family:Menlo,'DejaVu Sans Mono',consolas,'Courier New',monospace\">16:09:18.488 | <span style=\"color: #008080; text-decoration-color: #008080\">INFO</span>    | Flow run<span style=\"color: #800080; text-decoration-color: #800080\"> 'dangerous-anaconda'</span> - Finished in state <span style=\"color: #008000; text-decoration-color: #008000\">Completed</span>()\n",
       "</pre>\n"
      ],
      "text/plain": [
       "16:09:18.488 | \u001b[36mINFO\u001b[0m    | Flow run\u001b[35m 'dangerous-anaconda'\u001b[0m - Finished in state \u001b[32mCompleted\u001b[0m()\n"
      ]
     },
     "metadata": {},
     "output_type": "display_data"
    },
    {
     "data": {
      "text/html": [
       "<pre style=\"white-space:pre;overflow-x:auto;line-height:normal;font-family:Menlo,'DejaVu Sans Mono',consolas,'Courier New',monospace\"><span style=\"color: #808000; text-decoration-color: #808000; font-weight: bold\">Summaries:</span>\n",
       "</pre>\n"
      ],
      "text/plain": [
       "\u001b[1;33mSummaries:\u001b[0m\n"
      ]
     },
     "metadata": {},
     "output_type": "display_data"
    },
    {
     "name": "stdout",
     "output_type": "stream",
     "text": [
      "('{\\n'\n",
      " '    \"file_path\": \"/home/rakesh/Downloads/sample_data/four/dsflsdflj.txt\",\\n'\n",
      " '    \"summary\": \"The article discusses the emergence of Vertical Large '\n",
      " 'Language Model (LLM) Agents as the next big wave in Software as a Service '\n",
      " \"(SaaS) innovations, and describes the success story of Case Text's \"\n",
      " 'Co-Counsel.\",\\n'\n",
      " '    \"usage\": {\\n'\n",
      " '        \"completion_tokens\": 178,\\n'\n",
      " '        \"prompt_tokens\": 1419,\\n'\n",
      " '        \"total_tokens\": 1597\\n'\n",
      " '    },\\n'\n",
      " '    \"cost\": 0.0\\n'\n",
      " '}')\n"
     ]
    },
    {
     "data": {
      "text/html": [
       "<pre style=\"white-space:pre;overflow-x:auto;line-height:normal;font-family:Menlo,'DejaVu Sans Mono',consolas,'Courier New',monospace\">\n",
       "<span style=\"color: #808000; text-decoration-color: #808000; font-weight: bold\">File Tree:</span>\n",
       "</pre>\n"
      ],
      "text/plain": [
       "\n",
       "\u001b[1;33mFile Tree:\u001b[0m\n"
      ]
     },
     "metadata": {},
     "output_type": "display_data"
    },
    {
     "name": "stdout",
     "output_type": "stream",
     "text": [
      "'[]'\n"
     ]
    },
    {
     "data": {
      "text/html": [
       "<pre style=\"white-space:pre;overflow-x:auto;line-height:normal;font-family:Menlo,'DejaVu Sans Mono',consolas,'Courier New',monospace\">\n",
       "<span style=\"color: #808000; text-decoration-color: #808000; font-weight: bold\">Concatenated Data:</span>\n",
       "</pre>\n"
      ],
      "text/plain": [
       "\n",
       "\u001b[1;33mConcatenated Data:\u001b[0m\n"
      ]
     },
     "metadata": {},
     "output_type": "display_data"
    },
    {
     "name": "stdout",
     "output_type": "stream",
     "text": [
      "'[]'\n"
     ]
    }
   ],
   "source": [
    "\n",
    "if __name__ == \"__main__\":\n",
    "    # Define your parameters\n",
    "    source_directory = \"/home/rakesh/Downloads/sample_data/four/\"  # Replace with your actual source documents path\n",
    "    destination_directory = \"/home/rakesh/Downloads/sample_data/four_organized/\"  # Replace with your desired destination path\n",
    "    api_host = \"localhost\"                                         # API host address (not needed if api_base is provided)\n",
    "    api_port = 8111                                                # API port number\n",
    "    summary_model = \"groq/llama3-8b-8192\"\n",
    "    tree_model = \"groq/llama3-8b-8192\"\n",
    "    api_base_url = \"https://api.groq.com/openai/v1\"                     # Base URL for the API\n",
    "    use_streaming = False                                          # Set to True if you want streaming\n",
    "\n",
    "    # Ensure destination directory exists\n",
    "    os.makedirs(destination_directory, exist_ok=True)\n",
    "\n",
    "    # Run the workflow\n",
    "    organized_files_result = document_processing_workflow(\n",
    "        source_path=source_directory,\n",
    "        destination_path=destination_directory,\n",
    "        api_host=api_host,\n",
    "        api_port=api_port,\n",
    "        summary_model=summary_model,\n",
    "        tree_model=tree_model,\n",
    "        api_base=api_base_url,                                  # Providing the API base URL\n",
    "        stream=use_streaming\n",
    "    )\n",
    "\n",
    "    # Extract the results\n",
    "    summaries = organized_files_result.get(\"summaries\", {})\n",
    "    file_tree = organized_files_result.get(\"file_tree\", [])\n",
    "    concatenated_data = organized_files_result.get(\"concatenated_data\", [])\n",
    "\n",
    "    # Optionally, pretty-print the results using Rich\n",
    "    console.print(\"[bold yellow]Summaries:[/bold yellow]\")\n",
    "    pprint(json.dumps(summaries, indent=4))\n",
    "\n",
    "    console.print(\"\\n[bold yellow]File Tree:[/bold yellow]\")\n",
    "    pprint(json.dumps(file_tree, indent=4))\n",
    "\n",
    "    console.print(\"\\n[bold yellow]Concatenated Data:[/bold yellow]\")\n",
    "    pprint(json.dumps(concatenated_data, indent=4))\n"
   ]
  },
  {
   "cell_type": "code",
   "execution_count": null,
   "metadata": {},
   "outputs": [],
   "source": []
  }
 ],
 "metadata": {
  "kernelspec": {
   "display_name": ".venv",
   "language": "python",
   "name": "python3"
  },
  "language_info": {
   "codemirror_mode": {
    "name": "ipython",
    "version": 3
   },
   "file_extension": ".py",
   "mimetype": "text/x-python",
   "name": "python",
   "nbconvert_exporter": "python",
   "pygments_lexer": "ipython3",
   "version": "3.12.8"
  }
 },
 "nbformat": 4,
 "nbformat_minor": 2
}

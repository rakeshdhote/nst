{
 "cells": [
  {
   "cell_type": "code",
   "execution_count": 5,
   "metadata": {},
   "outputs": [],
   "source": [
    "from prefect import Flow, task\n",
    "from prefect.logging import get_logger\n",
    "import time\n",
    "\n",
    "logger = get_logger()\n"
   ]
  },
  {
   "cell_type": "code",
   "execution_count": 13,
   "metadata": {},
   "outputs": [
    {
     "data": {
      "text/html": [
       "<pre style=\"white-space:pre;overflow-x:auto;line-height:normal;font-family:Menlo,'DejaVu Sans Mono',consolas,'Courier New',monospace\">11:37:46.685 | <span style=\"color: #008080; text-decoration-color: #008080\">INFO</span>    | prefect.engine - Created flow run<span style=\"color: #800080; text-decoration-color: #800080\"> 'cobalt-ibis'</span> for flow<span style=\"color: #800080; text-decoration-color: #800080; font-weight: bold\"> 'Simple Workflow'</span>\n",
       "</pre>\n"
      ],
      "text/plain": [
       "11:37:46.685 | \u001b[36mINFO\u001b[0m    | prefect.engine - Created flow run\u001b[35m 'cobalt-ibis'\u001b[0m for flow\u001b[1;35m 'Simple Workflow'\u001b[0m\n"
      ]
     },
     "metadata": {},
     "output_type": "display_data"
    },
    {
     "data": {
      "text/html": [
       "<pre style=\"white-space:pre;overflow-x:auto;line-height:normal;font-family:Menlo,'DejaVu Sans Mono',consolas,'Courier New',monospace\">11:37:46.736 | <span style=\"color: #008080; text-decoration-color: #008080\">INFO</span>    | prefect - Starting Data Collection\n",
       "</pre>\n"
      ],
      "text/plain": [
       "11:37:46.736 | \u001b[36mINFO\u001b[0m    | prefect - Starting Data Collection\n"
      ]
     },
     "metadata": {},
     "output_type": "display_data"
    },
    {
     "data": {
      "text/html": [
       "<pre style=\"white-space:pre;overflow-x:auto;line-height:normal;font-family:Menlo,'DejaVu Sans Mono',consolas,'Courier New',monospace\">11:37:47.737 | <span style=\"color: #008080; text-decoration-color: #008080\">INFO</span>    | prefect - Data Collection <span style=\"color: #008000; text-decoration-color: #008000\">Completed</span>\n",
       "</pre>\n"
      ],
      "text/plain": [
       "11:37:47.737 | \u001b[36mINFO\u001b[0m    | prefect - Data Collection \u001b[32mCompleted\u001b[0m\n"
      ]
     },
     "metadata": {},
     "output_type": "display_data"
    },
    {
     "data": {
      "text/html": [
       "<pre style=\"white-space:pre;overflow-x:auto;line-height:normal;font-family:Menlo,'DejaVu Sans Mono',consolas,'Courier New',monospace\">11:37:47.747 | <span style=\"color: #008080; text-decoration-color: #008080\">INFO</span>    | Task run 'data_collection-1e8' - Finished in state <span style=\"color: #008000; text-decoration-color: #008000\">Completed</span>()\n",
       "</pre>\n"
      ],
      "text/plain": [
       "11:37:47.747 | \u001b[36mINFO\u001b[0m    | Task run 'data_collection-1e8' - Finished in state \u001b[32mCompleted\u001b[0m()\n"
      ]
     },
     "metadata": {},
     "output_type": "display_data"
    },
    {
     "data": {
      "text/html": [
       "<pre style=\"white-space:pre;overflow-x:auto;line-height:normal;font-family:Menlo,'DejaVu Sans Mono',consolas,'Courier New',monospace\">11:37:47.782 | <span style=\"color: #008080; text-decoration-color: #008080\">INFO</span>    | prefect - Starting Data Cleaning\n",
       "</pre>\n"
      ],
      "text/plain": [
       "11:37:47.782 | \u001b[36mINFO\u001b[0m    | prefect - Starting Data Cleaning\n"
      ]
     },
     "metadata": {},
     "output_type": "display_data"
    },
    {
     "data": {
      "text/html": [
       "<pre style=\"white-space:pre;overflow-x:auto;line-height:normal;font-family:Menlo,'DejaVu Sans Mono',consolas,'Courier New',monospace\">11:37:49.783 | <span style=\"color: #008080; text-decoration-color: #008080\">INFO</span>    | prefect - Data Cleaning <span style=\"color: #008000; text-decoration-color: #008000\">Completed</span>\n",
       "</pre>\n"
      ],
      "text/plain": [
       "11:37:49.783 | \u001b[36mINFO\u001b[0m    | prefect - Data Cleaning \u001b[32mCompleted\u001b[0m\n"
      ]
     },
     "metadata": {},
     "output_type": "display_data"
    },
    {
     "data": {
      "text/html": [
       "<pre style=\"white-space:pre;overflow-x:auto;line-height:normal;font-family:Menlo,'DejaVu Sans Mono',consolas,'Courier New',monospace\">11:37:49.788 | <span style=\"color: #008080; text-decoration-color: #008080\">INFO</span>    | Task run 'data_cleaning-ddc' - Finished in state <span style=\"color: #008000; text-decoration-color: #008000\">Completed</span>()\n",
       "</pre>\n"
      ],
      "text/plain": [
       "11:37:49.788 | \u001b[36mINFO\u001b[0m    | Task run 'data_cleaning-ddc' - Finished in state \u001b[32mCompleted\u001b[0m()\n"
      ]
     },
     "metadata": {},
     "output_type": "display_data"
    },
    {
     "data": {
      "text/html": [
       "<pre style=\"white-space:pre;overflow-x:auto;line-height:normal;font-family:Menlo,'DejaVu Sans Mono',consolas,'Courier New',monospace\">11:37:49.815 | <span style=\"color: #008080; text-decoration-color: #008080\">INFO</span>    | prefect - Starting Data Analysis\n",
       "</pre>\n"
      ],
      "text/plain": [
       "11:37:49.815 | \u001b[36mINFO\u001b[0m    | prefect - Starting Data Analysis\n"
      ]
     },
     "metadata": {},
     "output_type": "display_data"
    },
    {
     "data": {
      "text/html": [
       "<pre style=\"white-space:pre;overflow-x:auto;line-height:normal;font-family:Menlo,'DejaVu Sans Mono',consolas,'Courier New',monospace\">11:37:51.316 | <span style=\"color: #008080; text-decoration-color: #008080\">INFO</span>    | prefect - Data Analysis <span style=\"color: #008000; text-decoration-color: #008000\">Completed</span>\n",
       "</pre>\n"
      ],
      "text/plain": [
       "11:37:51.316 | \u001b[36mINFO\u001b[0m    | prefect - Data Analysis \u001b[32mCompleted\u001b[0m\n"
      ]
     },
     "metadata": {},
     "output_type": "display_data"
    },
    {
     "data": {
      "text/html": [
       "<pre style=\"white-space:pre;overflow-x:auto;line-height:normal;font-family:Menlo,'DejaVu Sans Mono',consolas,'Courier New',monospace\">11:37:51.323 | <span style=\"color: #008080; text-decoration-color: #008080\">INFO</span>    | Task run 'data_analysis-784' - Finished in state <span style=\"color: #008000; text-decoration-color: #008000\">Completed</span>()\n",
       "</pre>\n"
      ],
      "text/plain": [
       "11:37:51.323 | \u001b[36mINFO\u001b[0m    | Task run 'data_analysis-784' - Finished in state \u001b[32mCompleted\u001b[0m()\n"
      ]
     },
     "metadata": {},
     "output_type": "display_data"
    },
    {
     "data": {
      "text/html": [
       "<pre style=\"white-space:pre;overflow-x:auto;line-height:normal;font-family:Menlo,'DejaVu Sans Mono',consolas,'Courier New',monospace\">11:37:51.356 | <span style=\"color: #008080; text-decoration-color: #008080\">INFO</span>    | prefect - Starting Reporting Results\n",
       "</pre>\n"
      ],
      "text/plain": [
       "11:37:51.356 | \u001b[36mINFO\u001b[0m    | prefect - Starting Reporting Results\n"
      ]
     },
     "metadata": {},
     "output_type": "display_data"
    },
    {
     "data": {
      "text/html": [
       "<pre style=\"white-space:pre;overflow-x:auto;line-height:normal;font-family:Menlo,'DejaVu Sans Mono',consolas,'Courier New',monospace\">11:37:52.357 | <span style=\"color: #008080; text-decoration-color: #008080\">INFO</span>    | prefect - Reporting Results <span style=\"color: #008000; text-decoration-color: #008000\">Completed</span>\n",
       "</pre>\n"
      ],
      "text/plain": [
       "11:37:52.357 | \u001b[36mINFO\u001b[0m    | prefect - Reporting Results \u001b[32mCompleted\u001b[0m\n"
      ]
     },
     "metadata": {},
     "output_type": "display_data"
    },
    {
     "data": {
      "text/html": [
       "<pre style=\"white-space:pre;overflow-x:auto;line-height:normal;font-family:Menlo,'DejaVu Sans Mono',consolas,'Courier New',monospace\">11:37:52.363 | <span style=\"color: #008080; text-decoration-color: #008080\">INFO</span>    | Task run 'reporting_results-e8c' - Finished in state <span style=\"color: #008000; text-decoration-color: #008000\">Completed</span>()\n",
       "</pre>\n"
      ],
      "text/plain": [
       "11:37:52.363 | \u001b[36mINFO\u001b[0m    | Task run 'reporting_results-e8c' - Finished in state \u001b[32mCompleted\u001b[0m()\n"
      ]
     },
     "metadata": {},
     "output_type": "display_data"
    },
    {
     "data": {
      "text/html": [
       "<pre style=\"white-space:pre;overflow-x:auto;line-height:normal;font-family:Menlo,'DejaVu Sans Mono',consolas,'Courier New',monospace\">11:37:52.399 | <span style=\"color: #008080; text-decoration-color: #008080\">INFO</span>    | Flow run<span style=\"color: #800080; text-decoration-color: #800080\"> 'cobalt-ibis'</span> - Finished in state <span style=\"color: #008000; text-decoration-color: #008000\">Completed</span>()\n",
       "</pre>\n"
      ],
      "text/plain": [
       "11:37:52.399 | \u001b[36mINFO\u001b[0m    | Flow run\u001b[35m 'cobalt-ibis'\u001b[0m - Finished in state \u001b[32mCompleted\u001b[0m()\n"
      ]
     },
     "metadata": {},
     "output_type": "display_data"
    },
    {
     "name": "stdout",
     "output_type": "stream",
     "text": [
      "ABCDEF\n"
     ]
    }
   ],
   "source": [
    "@task\n",
    "def data_collection():\n",
    "    logger.info(\"Starting Data Collection\")\n",
    "    time.sleep(1)\n",
    "    logger.info(\"Data Collection Completed\")\n",
    "    return \"collected_data\"\n",
    "\n",
    "@task\n",
    "def data_cleaning(collected_data):\n",
    "    logger.info(\"Starting Data Cleaning\")\n",
    "    time.sleep(2)\n",
    "    logger.info(\"Data Cleaning Completed\")\n",
    "    return \"cleaned_data\"\n",
    "\n",
    "@task\n",
    "def data_analysis(cleaned_data):\n",
    "    logger.info(\"Starting Data Analysis\")\n",
    "    time.sleep(1.5)\n",
    "    logger.info(\"Data Analysis Completed\")\n",
    "    return \"analyzed_data\"\n",
    "\n",
    "@task\n",
    "def reporting_results(analyzed_data):\n",
    "    logger.info(\"Starting Reporting Results\")\n",
    "    time.sleep(1)\n",
    "    logger.info(\"Reporting Results Completed\")\n",
    "    return \"ABCDEF\"\n",
    "\n",
    "@flow(name=\"Simple Workflow\")\n",
    "def simple_workflow():\n",
    "    collected = data_collection()\n",
    "    cleaned = data_cleaning(collected)\n",
    "    analyzed = data_analysis(cleaned)\n",
    "    reporting = reporting_results(analyzed)\n",
    "    return reporting\n",
    "\n",
    "if __name__ == \"__main__\":\n",
    "    a = simple_workflow()\n",
    "    print(a)\n"
   ]
  },
  {
   "cell_type": "code",
   "execution_count": 11,
   "metadata": {},
   "outputs": [],
   "source": [
    "a"
   ]
  },
  {
   "cell_type": "code",
   "execution_count": null,
   "metadata": {},
   "outputs": [],
   "source": []
  }
 ],
 "metadata": {
  "kernelspec": {
   "display_name": ".venv",
   "language": "python",
   "name": "python3"
  },
  "language_info": {
   "codemirror_mode": {
    "name": "ipython",
    "version": 3
   },
   "file_extension": ".py",
   "mimetype": "text/x-python",
   "name": "python",
   "nbconvert_exporter": "python",
   "pygments_lexer": "ipython3",
   "version": "3.12.8"
  }
 },
 "nbformat": 4,
 "nbformat_minor": 2
}

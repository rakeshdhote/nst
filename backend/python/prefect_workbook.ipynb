{
 "cells": [
  {
   "cell_type": "markdown",
   "metadata": {},
   "source": [
    "# Original"
   ]
  },
  {
   "cell_type": "markdown",
   "metadata": {},
   "source": [
    "## Code"
   ]
  },
  {
   "cell_type": "code",
   "execution_count": 25,
   "metadata": {},
   "outputs": [],
   "source": [
    "import json\n",
    "import os\n",
    "from typing import List, Dict, Any\n",
    "\n",
    "from dotenv import load_dotenv\n",
    "from llama_index.core import SimpleDirectoryReader\n",
    "import ollama\n",
    "from litellm import completion, success_callback\n",
    "\n",
    "from prefect import flow, task\n",
    "from prefect.logging import get_logger\n",
    "\n",
    "# Import Rich components\n",
    "from rich.console import Console\n",
    "from rich.table import Table\n",
    "from rich import box\n",
    "from pprint import pprint\n",
    "\n",
    "# Initialize Rich console\n",
    "console = Console()\n",
    "\n",
    "# Initialize Prefect logger\n",
    "logger = get_logger()\n",
    "\n",
    "# Load environment variables\n",
    "load_dotenv('.env.local') \n",
    "\n",
    "# Define model-related classes (unchanged)\n",
    "class ModelDetails:\n",
    "    def __init__(self, parent_model, format, family, families, parameter_size, quantization_level):\n",
    "        self.parent_model = parent_model\n",
    "        self.format = format\n",
    "        self.family = family\n",
    "        self.families = families\n",
    "        self.parameter_size = parameter_size\n",
    "        self.quantization_level = quantization_level\n",
    "\n",
    "class Model:\n",
    "    def __init__(self, model, modified_at, digest, size, details):\n",
    "        self.model = model\n",
    "        self.modified_at = modified_at\n",
    "        self.digest = digest\n",
    "        self.size = size\n",
    "        self.details = details\n",
    "\n",
    "class ListResponse:\n",
    "    def __init__(self, models):\n",
    "        self.models = models\n",
    "\n",
    "# Global cost tracker\n",
    "COST_TRACKER = {\"cost\": 0.0}\n",
    "\n",
    "@task\n",
    "def list_ollama_models():\n",
    "    \"\"\"\n",
    "    Fetch and display Ollama models using Rich Table.\n",
    "    \"\"\"\n",
    "    try:\n",
    "        ollama_models = ollama.list()\n",
    "        if not ollama_models.models:\n",
    "            logger.warning(\"No Ollama models found.\")\n",
    "            console.print(\"[bold yellow]No Ollama models found.[/bold yellow]\")\n",
    "            return\n",
    "        \n",
    "        # Create a Rich table\n",
    "        table = Table(title=\"Available Ollama Models\", box=box.MINIMAL_DOUBLE_HEAD)\n",
    "        table.add_column(\"Model Name\", style=\"cyan\", no_wrap=True)\n",
    "        table.add_column(\"Modified At\", style=\"magenta\")\n",
    "        table.add_column(\"Digest\", style=\"green\")\n",
    "        table.add_column(\"Size (bytes)\", justify=\"right\", style=\"yellow\")\n",
    "        table.add_column(\"Param Size\", justify=\"right\", style=\"yellow\")\n",
    "        table.add_column(\"Quant Level\", style=\"blue\")\n",
    "        table.add_column(\"Family\", style=\"red\")\n",
    "        table.add_column(\"Families\", style=\"red\")\n",
    "\n",
    "        for model in ollama_models.models:\n",
    "            table.add_row(\n",
    "                model.model,\n",
    "                str(model.modified_at),\n",
    "                model.digest,\n",
    "                str(model.size),\n",
    "                str(model.details.parameter_size),\n",
    "                model.details.quantization_level,\n",
    "                model.details.family,\n",
    "                \", \".join(model.details.families)\n",
    "            )\n",
    "        \n",
    "        console.print(table)\n",
    "    except Exception as e:\n",
    "        logger.error(f\"Error fetching Ollama models: {e}\")\n",
    "        console.print(f\"[bold red]Error fetching Ollama models:[/bold red] {e}\")\n",
    "\n",
    "@task\n",
    "def track_cost_callback(kwargs, completion_response, start_time, end_time, stream=False):\n",
    "    \"\"\"\n",
    "    Callback function to track and calculate the cost based on token usage.\n",
    "    \"\"\"\n",
    "    try:\n",
    "        response_dict = completion_response.to_dict() if hasattr(completion_response, \"to_dict\") else json.loads(str(completion_response))\n",
    "        usage = response_dict.get(\"usage\", {})\n",
    "        total_tokens = usage.get(\"total_tokens\", 0)\n",
    "        COST_TRACKER[\"cost\"] = (total_tokens / 1000.0) * 0.003  # Example cost calculation\n",
    "        logger.info(f\"Calculated cost: {COST_TRACKER['cost']}\")\n",
    "        console.print(f\"[bold green]Calculated cost:[/bold green] [yellow]{COST_TRACKER['cost']}[/yellow]\")\n",
    "    except Exception as e:\n",
    "        logger.error(f\"Error in track_cost_callback: {e}\")\n",
    "        console.print(f\"[bold red]Error in track_cost_callback:[/bold red] {e}\")\n",
    "\n",
    "@task\n",
    "def set_success_callback():\n",
    "    \"\"\"\n",
    "    Set the global success callback for cost tracking.\n",
    "    \"\"\"\n",
    "    try:\n",
    "        success_callback[:] = [track_cost_callback]\n",
    "        logger.info(\"Success callback set successfully.\")\n",
    "    except Exception as e:\n",
    "        logger.error(f\"Error setting success callback: {e}\")\n",
    "        console.print(f\"[bold red]Error setting success callback:[/bold red] {e}\")\n",
    "\n",
    "@task\n",
    "def load_documents(path: str) -> List[Dict[str, Any]]:\n",
    "    \"\"\"\n",
    "    Load documents from the specified path.\n",
    "    \"\"\"\n",
    "    try:\n",
    "        reader = SimpleDirectoryReader(input_dir=path)\n",
    "        documents = reader.load_data()\n",
    "        logger.info(f\"Loaded {len(documents)} documents from {path}\")\n",
    "        console.print(f\"[bold green]Loaded {len(documents)} documents from {path}[/bold green]\")\n",
    "        return [{\"content\": d.text, **d.metadata} for d in documents]\n",
    "    except Exception as e:\n",
    "        logger.error(f\"Error loading documents from {path}: {e}\")\n",
    "        console.print(f\"[bold red]Error loading documents from {path}:[/bold red] {e}\")\n",
    "        return []\n",
    "\n",
    "@task\n",
    "def process_metadata(doc_dicts: List[Dict[str, Any]]) -> List[Dict[str, Any]]:\n",
    "    \"\"\"\n",
    "    Process metadata to remove duplicate file entries.\n",
    "    \"\"\"\n",
    "    try:\n",
    "        file_seen = set()\n",
    "        metadata_list = []\n",
    "        for doc in doc_dicts:\n",
    "            if doc[\"file_path\"] not in file_seen:\n",
    "                file_seen.add(doc[\"file_path\"])\n",
    "                metadata_list.append(doc)\n",
    "        logger.info(f\"Processed metadata: {len(metadata_list)} unique documents\")\n",
    "        console.print(f\"[bold green]Processed metadata: {len(metadata_list)} unique documents[/bold green]\")\n",
    "        return metadata_list\n",
    "    except Exception as e:\n",
    "        logger.error(f\"Error processing metadata: {e}\")\n",
    "        console.print(f\"[bold red]Error processing metadata:[/bold red] {e}\")\n",
    "        return []\n",
    "\n",
    "@task\n",
    "def query_summaries(\n",
    "    doc_dicts: List[Dict[str, Any]],\n",
    "    host: str,\n",
    "    port: int,\n",
    "    model: str,\n",
    "    api_base: str = None,\n",
    "    stream: bool = False\n",
    ") -> Dict[str, Any]:\n",
    "    \"\"\"\n",
    "    Generate summaries for the provided document dictionaries.\n",
    "    \"\"\"\n",
    "    PROMPT = f\"\"\" \n",
    "    The following is a list of file contents, along with their metadata. For each file, provide a summary of the contents. The purpose of the summary is to organize files based on their content. To this end provide a concise but informative summary. Try to make the summary as specific to the file as possible. {doc_dicts}\n",
    "    \n",
    "    Return a JSON object with the following schema:\n",
    "    \n",
    "    ```json\n",
    "    {{\n",
    "      \"files\": [\n",
    "        {{\n",
    "          \"file_path\": \"path to the file including name\",\n",
    "          \"summary\": \"summary of the content\"\n",
    "        }}\n",
    "      ]\n",
    "    }}\n",
    "    ```\n",
    "    \"\"\".strip()\n",
    "\n",
    "    if not api_base:\n",
    "        api_base = f\"http://{host}:{port}\"\n",
    "        logger.info(f\"API Base set to: {api_base}\")\n",
    "        console.print(f\"[bold blue]API Base set to: {api_base}[/bold blue]\")\n",
    "\n",
    "    try:\n",
    "        response = completion(\n",
    "            model=model, \n",
    "            messages=[\n",
    "                {\n",
    "                    \"role\": \"system\", \n",
    "                    \"content\": \"Always return JSON. Do not include any other text or formatting characters.\"\n",
    "                },\n",
    "                {\n",
    "                    \"role\": \"user\", \n",
    "                    \"content\": PROMPT\n",
    "                }\n",
    "            ],\n",
    "            api_base=api_base,\n",
    "            stream=stream\n",
    "        )\n",
    "    except Exception as e:\n",
    "        logger.error(f\"LiteLLM Error >>> {e}\")\n",
    "        console.print(f\"[bold red]LiteLLM Error:[/bold red] {e}\")\n",
    "        return {\"files\": [], \"cost\": COST_TRACKER[\"cost\"]}\n",
    "\n",
    "    if response is None:\n",
    "        logger.warning(\"No response received from the API.\")\n",
    "        console.print(\"[bold yellow]No response received from the API.[/bold yellow]\")\n",
    "        return {\"files\": [], \"cost\": COST_TRACKER[\"cost\"]}\n",
    "\n",
    "    try:\n",
    "        response_dict = response.to_dict() if hasattr(response, \"to_dict\") else json.loads(str(response))\n",
    "    except (TypeError, json.JSONDecodeError) as e:\n",
    "        logger.error(f\"Error parsing response: {e}\")\n",
    "        console.print(f\"[bold red]Error parsing response:[/bold red] {e}\")\n",
    "        return {\"files\": [], \"cost\": COST_TRACKER[\"cost\"]}\n",
    "\n",
    "    content = response_dict.get(\"choices\", [{}])[0].get(\"message\", {}).get(\"content\", \"\")\n",
    "    print(\">>>> Content summary:\")\n",
    "    print(content)\n",
    "\n",
    "    try:\n",
    "        summaries = json.loads(content)\n",
    "        print(\"Summaries:\")\n",
    "        pprint(summaries)\n",
    "    except json.JSONDecodeError:\n",
    "        logger.error(\"Error decoding JSON content from summaries.\")\n",
    "        console.print(\"[bold red]Error decoding JSON content from summaries.[/bold red]\")\n",
    "        summaries = {\"files\": []}\n",
    "\n",
    "    if isinstance(summaries, list) and summaries and isinstance(summaries[0], dict):\n",
    "        summaries = summaries[0]\n",
    "\n",
    "    usage = response_dict.get(\"usage\", {})\n",
    "\n",
    "    if usage and isinstance(summaries, dict):\n",
    "        summaries[\"usage\"] = {\n",
    "            \"completion_tokens\": usage.get(\"completion_tokens\"),\n",
    "            \"prompt_tokens\": usage.get(\"prompt_tokens\"),\n",
    "            \"total_tokens\": usage.get(\"total_tokens\")\n",
    "        }\n",
    "\n",
    "    if isinstance(summaries, dict):\n",
    "        summaries[\"cost\"] = COST_TRACKER[\"cost\"]\n",
    "    else:\n",
    "        summaries = {\n",
    "            \"files\": [],\n",
    "            \"cost\": COST_TRACKER[\"cost\"]\n",
    "        }\n",
    "\n",
    "    logger.info(f\"Generated summaries for {len(summaries.get('files', []))} files with cost {summaries.get('cost')}\")\n",
    "    console.print(f\"[bold green]Generated summaries for {len(summaries.get('files', []))} files with cost {summaries.get('cost')}[/bold green]\")\n",
    "    return summaries\n",
    "\n",
    "@task\n",
    "def create_file_tree(\n",
    "    summaries: List[Dict[str, Any]],\n",
    "    host: str,\n",
    "    port: int,\n",
    "    source_path: str,\n",
    "    destination_path: str,\n",
    "    model: str = \"llama-3.1-70b-versatile\",\n",
    "    api_base: str = None,\n",
    "    stream: bool = False\n",
    ") -> List[Dict[str, str]]:\n",
    "    \"\"\"\n",
    "    Create a file tree based on the provided summaries.\n",
    "    Returns src_path, dst_path, and dst_path_new for each file.\n",
    "    \"\"\"\n",
    "    # Define the helper function within the task\n",
    "    def find_key(obj: Any, key: str) -> Any:\n",
    "        if isinstance(obj, dict):\n",
    "            if key in obj:\n",
    "                return obj[key]\n",
    "            for value in obj.values():\n",
    "                result = find_key(value, key)\n",
    "                if result is not None:\n",
    "                    return result\n",
    "        elif isinstance(obj, list):\n",
    "            for item in obj:\n",
    "                result = find_key(item, key)\n",
    "                if result is not None:\n",
    "                    return result\n",
    "        return None\n",
    "\n",
    "    # Update the prompt with explicit instructions\n",
    "    PROMPT = f\"\"\"\n",
    "    You will be provided with a list of source files and a summary of their contents. The source files are located in '{source_path}', and the destination directory is '{destination_path}'.\n",
    "    \n",
    "    For each file, propose:\n",
    "    1. 'dst_path': A new file path under the destination directory with the same file name.\n",
    "    2. 'dst_path_new': A new file path under the destination directory with an updated file name (e.g., adding a version number or timestamp).\n",
    "    \n",
    "    Follow good naming conventions and organizational best practices. Here are guidelines:\n",
    "    - Group related files together.\n",
    "    - Incorporate metadata such as date, version, or experiment details into folder names.\n",
    "    - Use clear and descriptive names without spaces or special characters.\n",
    "    - Do not change the file extension.\n",
    "    - If the file is already well-named or follows a known convention, retain its name for 'dst_path'.\n",
    "    \n",
    "    **Example**:\n",
    "    ```json\n",
    "    {{\n",
    "        \"files\": [\n",
    "            {{\n",
    "                \"src_path\": \"/home/user/source/file1.txt\",\n",
    "                \"dst_path\": \"/home/user/destination/2024/04/file1.txt\",\n",
    "                \"dst_path_new\": \"/home/user/destination/2024/04/file1_v2.txt\"\n",
    "            }}\n",
    "        ]\n",
    "    }}\n",
    "    ```\n",
    "    \n",
    "    **Important:** Your response **must** be a JSON object with the following schema **at the top level**:\n",
    "    ```json\n",
    "    {{\n",
    "        \"files\": [\n",
    "            {{\n",
    "                \"src_path\": \"original file path\",\n",
    "                \"dst_path\": \"new file path under destination directory with same file name\",\n",
    "                \"dst_path_new\": \"new file path under destination directory with updated file name\"\n",
    "            }}\n",
    "        ]\n",
    "    }}\n",
    "    ```\n",
    "    \n",
    "    Do **not** wrap the \"files\" key inside any other keys.\n",
    "    \"\"\".strip()\n",
    "\n",
    "    if not api_base:\n",
    "        api_base = f\"http://{host}:{port}\"\n",
    "        logger.info(f\"API Base set to: {api_base}\")\n",
    "        console.print(f\"[bold blue]API Base set to: {api_base}[/bold blue]\")\n",
    "\n",
    "    try:\n",
    "        response = completion(\n",
    "            model=model,\n",
    "            messages=[\n",
    "                {\"role\": \"system\", \"content\": PROMPT},\n",
    "                {\"role\": \"user\", \"content\": json.dumps(summaries)},\n",
    "            ],\n",
    "            response_format={\"type\": \"json_object\"},\n",
    "            api_base=api_base,\n",
    "            stream=stream\n",
    "        )\n",
    "    except Exception as e:\n",
    "        logger.error(f\"LiteLLM Error >>> {e}\")\n",
    "        console.print(f\"[bold red]LiteLLM Error:[/bold red] {e}\")\n",
    "        return []\n",
    "\n",
    "    if response is None:\n",
    "        logger.warning(\"No response received from the API.\")\n",
    "        console.print(\"[bold yellow]No response received from the API.[/bold yellow]\")\n",
    "        return []\n",
    "\n",
    "    try:\n",
    "        response_dict = response.to_dict() if hasattr(response, \"to_dict\") else json.loads(str(response))\n",
    "    except (TypeError, json.JSONDecodeError) as e:\n",
    "        logger.error(f\"Error parsing response: {e}\")\n",
    "        console.print(f\"[bold red]Error parsing response:[/bold red] {e}\")\n",
    "        return []\n",
    "\n",
    "    content = response_dict.get(\"choices\", [{}])[0].get(\"message\", {}).get(\"content\", \"\")\n",
    "\n",
    "    try:\n",
    "        parsed_content = json.loads(content)\n",
    "        file_tree = find_key(parsed_content, \"files\")\n",
    "        if file_tree is None:\n",
    "            raise KeyError(\"'files' key not found in the response.\")\n",
    "    except (json.JSONDecodeError, KeyError) as e:\n",
    "        logger.error(f\"Error decoding JSON content: {e}\")\n",
    "        console.print(f\"[bold red]Error decoding JSON content:[/bold red] {e}\")\n",
    "        # Optionally, print the raw content for debugging\n",
    "        console.print(f\"[bold yellow]Raw Content:[/bold yellow]\\n{content}\")\n",
    "        return []\n",
    "\n",
    "    logger.info(f\"Created file tree for {len(file_tree)} files\")\n",
    "    console.print(f\"[bold green]Created file tree for {len(file_tree)} files[/bold green]\")\n",
    "    return file_tree\n",
    "\n",
    "@task\n",
    "def concatenate_summaries_and_file_tree(\n",
    "    summaries: List[Dict[str, Any]],\n",
    "    file_tree: List[Dict[str, str]]\n",
    ") -> List[Dict[str, Any]]:\n",
    "    \"\"\"\n",
    "    Concatenate summaries and file_tree into a single dictionary for each file.\n",
    "    \"\"\"\n",
    "    concatenated = []\n",
    "    summary_dict = {item['file_path']: item['summary'] for item in summaries}\n",
    "\n",
    "    for item in file_tree:\n",
    "        src_path = item.get(\"src_path\")\n",
    "        dst_path = item.get(\"dst_path\")\n",
    "        dst_path_new = item.get(\"dst_path_new\")\n",
    "        summary = summary_dict.get(src_path, \"No summary available.\")\n",
    "        concatenated.append({\n",
    "            \"file_path\": src_path,\n",
    "            \"summary\": summary,\n",
    "            \"dst_path\": dst_path,\n",
    "            \"dst_path_new\": dst_path_new\n",
    "        })\n",
    "\n",
    "    logger.info(f\"Concatenated summary and file tree for {len(concatenated)} files\")\n",
    "    console.print(f\"[bold green]Concatenated summary and file tree for {len(concatenated)} files[/bold green]\")\n",
    "    return concatenated\n",
    "\n",
    "@task\n",
    "def create_subdirectories(file_tree: List[Dict[str, str]]):\n",
    "    \"\"\"\n",
    "    Create all necessary subdirectories in the destination paths.\n",
    "    \"\"\"\n",
    "    try:\n",
    "        for file in file_tree:\n",
    "            dst_path = file.get(\"dst_path\")\n",
    "            dst_path_new = file.get(\"dst_path_new\")\n",
    "            \n",
    "            # Extract directories from the destination paths\n",
    "            dst_dir = os.path.dirname(dst_path)\n",
    "            dst_new_dir = os.path.dirname(dst_path_new)\n",
    "            \n",
    "            # Create the directories if they don't exist\n",
    "            os.makedirs(dst_dir, exist_ok=True)\n",
    "            os.makedirs(dst_new_dir, exist_ok=True)\n",
    "        \n",
    "        logger.info(\"All necessary subdirectories created.\")\n",
    "        console.print(\"[bold green]All necessary subdirectories created.[/bold green]\")\n",
    "    except Exception as e:\n",
    "        logger.error(f\"Error creating subdirectories: {e}\")\n",
    "        console.print(f\"[bold red]Error creating subdirectories:[/bold red] {e}\")\n",
    "\n",
    "@task\n",
    "def display_organized_files(organized_files: List[Dict[str, str]]):\n",
    "    \"\"\"\n",
    "    Display organized files using Rich Table.\n",
    "    \"\"\"\n",
    "    if not organized_files:\n",
    "        console.print(\"[bold red]No organized files to display.[/bold red]\")\n",
    "        return\n",
    "\n",
    "    table = Table(title=\"Organized Files\", box=box.MINIMAL_DOUBLE_HEAD)\n",
    "    table.add_column(\"Source Path\", style=\"cyan\", no_wrap=True)\n",
    "    table.add_column(\"Destination Path\", style=\"green\")\n",
    "\n",
    "    for file in organized_files:\n",
    "        table.add_row(file.get(\"file_path\", \"\"), file.get(\"dst_path\", \"\"))\n",
    "    \n",
    "    console.print(table)\n",
    "\n",
    "@task\n",
    "def display_concatenated_dict(concatenated_dict: List[Dict[str, Any]]):\n",
    "    \"\"\"\n",
    "    Display concatenated summaries and file tree using Rich Table.\n",
    "    \"\"\"\n",
    "    if not concatenated_dict:\n",
    "        console.print(\"[bold red]No concatenated data to display.[/bold red]\")\n",
    "        return\n",
    "\n",
    "    table = Table(title=\"Summaries and Organized Files\", box=box.MINIMAL_DOUBLE_HEAD)\n",
    "    table.add_column(\"File Path\", style=\"cyan\", no_wrap=True)\n",
    "    table.add_column(\"Summary\", style=\"green\")\n",
    "    table.add_column(\"Destination Path\", style=\"magenta\")\n",
    "    table.add_column(\"Destination Path New\", style=\"yellow\")\n",
    "\n",
    "    for item in concatenated_dict:\n",
    "        table.add_row(\n",
    "            item.get(\"file_path\", \"\"), \n",
    "            item.get(\"summary\", \"\"), \n",
    "            item.get(\"dst_path\", \"\"), \n",
    "            item.get(\"dst_path_new\", \"\")\n",
    "        )\n",
    "    \n",
    "    console.print(table)\n",
    "\n",
    "@flow(name=\"Document Processing Workflow\")\n",
    "def document_processing_workflow(\n",
    "    source_path: str,\n",
    "    destination_path: str,\n",
    "    api_host: str,\n",
    "    api_port: int,\n",
    "    summary_model: str,\n",
    "    tree_model: str,\n",
    "    api_base: str = None,\n",
    "    stream: bool = False\n",
    ") -> Dict[str, Any]:\n",
    "    \"\"\"\n",
    "    Orchestrates the document processing workflow: loading documents, querying summaries, creating a file tree, and concatenating results.\n",
    "\n",
    "    Args:\n",
    "        source_path (str): Path to the source documents directory.\n",
    "        destination_path (str): Path to the destination directory for organized files.\n",
    "        api_host (str): API host address.\n",
    "        api_port (int): API port number.\n",
    "        summary_model (str): Model name for summarizing documents.\n",
    "        tree_model (str): Model name for creating file tree.\n",
    "        api_base (str, optional): Base URL for the API. Defaults to None.\n",
    "        stream (bool, optional): Whether to use streaming. Defaults to False.\n",
    "\n",
    "    Returns:\n",
    "        Dict[str, Any]: Dictionary containing summaries, file_tree, and concatenated data.\n",
    "    \"\"\"\n",
    "    # Initial setup\n",
    "    set_success_callback()\n",
    "    list_ollama_models()\n",
    "\n",
    "    # Load and process documents\n",
    "    loaded_docs = load_documents(source_path)\n",
    "    unique_docs = process_metadata(loaded_docs)\n",
    "\n",
    "    # Generate summaries\n",
    "    summaries = query_summaries(\n",
    "        doc_dicts=unique_docs,\n",
    "        host=api_host,\n",
    "        port=api_port,\n",
    "        model=summary_model,\n",
    "        api_base=api_base,\n",
    "        stream=stream\n",
    "    )\n",
    "\n",
    "    # Create file tree\n",
    "    file_tree = create_file_tree(\n",
    "        summaries=summaries.get(\"files\", []),\n",
    "        host=api_host,\n",
    "        port=api_port,\n",
    "        source_path=source_path,\n",
    "        destination_path=destination_path,\n",
    "        model=tree_model,\n",
    "        api_base=api_base,\n",
    "        stream=stream\n",
    "    )\n",
    "\n",
    "    # Create necessary subdirectories\n",
    "    create_subdirectories(file_tree)\n",
    "\n",
    "    # Concatenate summaries and file_tree\n",
    "    concatenated_dict = concatenate_summaries_and_file_tree(summaries.get(\"files\", []), file_tree)\n",
    "\n",
    "    # Display organized files using Rich\n",
    "    display_organized_files(file_tree)\n",
    "\n",
    "    # Display concatenated summaries and file_tree\n",
    "    display_concatenated_dict(concatenated_dict)\n",
    "\n",
    "    # Return all results\n",
    "    return {\n",
    "        \"summaries\": summaries,\n",
    "        \"file_tree\": file_tree,\n",
    "        \"concatenated_data\": concatenated_dict\n",
    "    }\n"
   ]
  },
  {
   "cell_type": "markdown",
   "metadata": {},
   "source": [
    "## >>>>> LLM Tests"
   ]
  },
  {
   "cell_type": "markdown",
   "metadata": {},
   "source": [
    "### Anthropic - claude-3-haiku-20240307"
   ]
  },
  {
   "cell_type": "code",
   "execution_count": 2,
   "metadata": {},
   "outputs": [
    {
     "data": {
      "text/html": [
       "<pre style=\"white-space:pre;overflow-x:auto;line-height:normal;font-family:Menlo,'DejaVu Sans Mono',consolas,'Courier New',monospace\">22:09:45.996 | <span style=\"color: #008080; text-decoration-color: #008080\">INFO</span>    | prefect - Starting temporary server on <span style=\"color: #0000ff; text-decoration-color: #0000ff\">http://127.0.0.1:8241</span>\n",
       "See <span style=\"color: #0000ff; text-decoration-color: #0000ff\">https://docs.prefect.io/3.0/manage/self-host#self-host-a-prefect-server</span> for more information on running a dedicated Prefect server.\n",
       "</pre>\n"
      ],
      "text/plain": [
       "22:09:45.996 | \u001b[36mINFO\u001b[0m    | prefect - Starting temporary server on \u001b[94mhttp://127.0.0.1:8241\u001b[0m\n",
       "See \u001b[94mhttps://docs.prefect.io/3.0/manage/self-host#self-host-a-prefect-server\u001b[0m for more information on running a dedicated Prefect server.\n"
      ]
     },
     "metadata": {},
     "output_type": "display_data"
    },
    {
     "data": {
      "text/html": [
       "<pre style=\"white-space:pre;overflow-x:auto;line-height:normal;font-family:Menlo,'DejaVu Sans Mono',consolas,'Courier New',monospace\">22:09:49.588 | <span style=\"color: #008080; text-decoration-color: #008080\">INFO</span>    | prefect.engine - Created flow run<span style=\"color: #800080; text-decoration-color: #800080\"> 'peculiar-bear'</span> for flow<span style=\"color: #800080; text-decoration-color: #800080; font-weight: bold\"> 'Document Processing Workflow'</span>\n",
       "</pre>\n"
      ],
      "text/plain": [
       "22:09:49.588 | \u001b[36mINFO\u001b[0m    | prefect.engine - Created flow run\u001b[35m 'peculiar-bear'\u001b[0m for flow\u001b[1;35m 'Document Processing Workflow'\u001b[0m\n"
      ]
     },
     "metadata": {},
     "output_type": "display_data"
    },
    {
     "data": {
      "text/html": [
       "<pre style=\"white-space:pre;overflow-x:auto;line-height:normal;font-family:Menlo,'DejaVu Sans Mono',consolas,'Courier New',monospace\">22:09:49.683 | <span style=\"color: #008080; text-decoration-color: #008080\">INFO</span>    | prefect - Success callback set successfully.\n",
       "</pre>\n"
      ],
      "text/plain": [
       "22:09:49.683 | \u001b[36mINFO\u001b[0m    | prefect - Success callback set successfully.\n"
      ]
     },
     "metadata": {},
     "output_type": "display_data"
    },
    {
     "data": {
      "text/html": [
       "<pre style=\"white-space:pre;overflow-x:auto;line-height:normal;font-family:Menlo,'DejaVu Sans Mono',consolas,'Courier New',monospace\">22:09:49.685 | <span style=\"color: #008080; text-decoration-color: #008080\">INFO</span>    | Task run 'set_success_callback-3e0' - Finished in state <span style=\"color: #008000; text-decoration-color: #008000\">Completed</span>()\n",
       "</pre>\n"
      ],
      "text/plain": [
       "22:09:49.685 | \u001b[36mINFO\u001b[0m    | Task run 'set_success_callback-3e0' - Finished in state \u001b[32mCompleted\u001b[0m()\n"
      ]
     },
     "metadata": {},
     "output_type": "display_data"
    },
    {
     "data": {
      "text/html": [
       "<pre style=\"white-space:pre;overflow-x:auto;line-height:normal;font-family:Menlo,'DejaVu Sans Mono',consolas,'Courier New',monospace\"><span style=\"font-style: italic\">                                              Available Ollama Models                                              </span>\n",
       "                   ╷              ╷              ╷              ╷            ╷             ╷        ╷              \n",
       " <span style=\"font-weight: bold\"> Model Name       </span>│<span style=\"font-weight: bold\"> Modified At  </span>│<span style=\"font-weight: bold\"> Digest       </span>│<span style=\"font-weight: bold\"> Size (bytes) </span>│<span style=\"font-weight: bold\"> Param Size </span>│<span style=\"font-weight: bold\"> Quant Level </span>│<span style=\"font-weight: bold\"> Family </span>│<span style=\"font-weight: bold\"> Families    </span> \n",
       " ══════════════════╪══════════════╪══════════════╪══════════════╪════════════╪═════════════╪════════╪═════════════ \n",
       " <span style=\"color: #008080; text-decoration-color: #008080\"> smollm2:135m     </span>│<span style=\"color: #800080; text-decoration-color: #800080\"> 2024-12-18   </span>│<span style=\"color: #008000; text-decoration-color: #008000\"> 9077fe9d2ae… </span>│<span style=\"color: #808000; text-decoration-color: #808000\">    270898672 </span>│<span style=\"color: #808000; text-decoration-color: #808000\">    134.52M </span>│<span style=\"color: #000080; text-decoration-color: #000080\"> F16         </span>│<span style=\"color: #800000; text-decoration-color: #800000\"> llama  </span>│<span style=\"color: #800000; text-decoration-color: #800000\"> llama       </span> \n",
       " <span style=\"color: #008080; text-decoration-color: #008080\">                  </span>│<span style=\"color: #800080; text-decoration-color: #800080\"> 11:49:06.80… </span>│<span style=\"color: #008000; text-decoration-color: #008000\">              </span>│<span style=\"color: #808000; text-decoration-color: #808000\">              </span>│<span style=\"color: #808000; text-decoration-color: #808000\">            </span>│<span style=\"color: #000080; text-decoration-color: #000080\">             </span>│<span style=\"color: #800000; text-decoration-color: #800000\">        </span>│<span style=\"color: #800000; text-decoration-color: #800000\">             </span> \n",
       " <span style=\"color: #008080; text-decoration-color: #008080\"> llava:latest     </span>│<span style=\"color: #800080; text-decoration-color: #800080\"> 2024-12-07   </span>│<span style=\"color: #008000; text-decoration-color: #008000\"> 8dd30f6b0cb… </span>│<span style=\"color: #808000; text-decoration-color: #808000\">   4733363377 </span>│<span style=\"color: #808000; text-decoration-color: #808000\">         7B </span>│<span style=\"color: #000080; text-decoration-color: #000080\"> Q4_0        </span>│<span style=\"color: #800000; text-decoration-color: #800000\"> llama  </span>│<span style=\"color: #800000; text-decoration-color: #800000\"> llama, clip </span> \n",
       " <span style=\"color: #008080; text-decoration-color: #008080\">                  </span>│<span style=\"color: #800080; text-decoration-color: #800080\"> 23:46:35.56… </span>│<span style=\"color: #008000; text-decoration-color: #008000\">              </span>│<span style=\"color: #808000; text-decoration-color: #808000\">              </span>│<span style=\"color: #808000; text-decoration-color: #808000\">            </span>│<span style=\"color: #000080; text-decoration-color: #000080\">             </span>│<span style=\"color: #800000; text-decoration-color: #800000\">        </span>│<span style=\"color: #800000; text-decoration-color: #800000\">             </span> \n",
       " <span style=\"color: #008080; text-decoration-color: #008080\"> moondream:latest </span>│<span style=\"color: #800080; text-decoration-color: #800080\"> 2024-12-07   </span>│<span style=\"color: #008000; text-decoration-color: #008000\"> 55fc3abd386… </span>│<span style=\"color: #808000; text-decoration-color: #808000\">   1738451197 </span>│<span style=\"color: #808000; text-decoration-color: #808000\">         1B </span>│<span style=\"color: #000080; text-decoration-color: #000080\"> Q4_0        </span>│<span style=\"color: #800000; text-decoration-color: #800000\"> phi2   </span>│<span style=\"color: #800000; text-decoration-color: #800000\"> phi2, clip  </span> \n",
       " <span style=\"color: #008080; text-decoration-color: #008080\">                  </span>│<span style=\"color: #800080; text-decoration-color: #800080\"> 22:19:46.41… </span>│<span style=\"color: #008000; text-decoration-color: #008000\">              </span>│<span style=\"color: #808000; text-decoration-color: #808000\">              </span>│<span style=\"color: #808000; text-decoration-color: #808000\">            </span>│<span style=\"color: #000080; text-decoration-color: #000080\">             </span>│<span style=\"color: #800000; text-decoration-color: #800000\">        </span>│<span style=\"color: #800000; text-decoration-color: #800000\">             </span> \n",
       " <span style=\"color: #008080; text-decoration-color: #008080\"> llama3.2:latest  </span>│<span style=\"color: #800080; text-decoration-color: #800080\"> 2024-12-07   </span>│<span style=\"color: #008000; text-decoration-color: #008000\"> a80c4f17acd… </span>│<span style=\"color: #808000; text-decoration-color: #808000\">   2019393189 </span>│<span style=\"color: #808000; text-decoration-color: #808000\">       3.2B </span>│<span style=\"color: #000080; text-decoration-color: #000080\"> Q4_K_M      </span>│<span style=\"color: #800000; text-decoration-color: #800000\"> llama  </span>│<span style=\"color: #800000; text-decoration-color: #800000\"> llama       </span> \n",
       " <span style=\"color: #008080; text-decoration-color: #008080\">                  </span>│<span style=\"color: #800080; text-decoration-color: #800080\"> 22:18:36.84… </span>│<span style=\"color: #008000; text-decoration-color: #008000\">              </span>│<span style=\"color: #808000; text-decoration-color: #808000\">              </span>│<span style=\"color: #808000; text-decoration-color: #808000\">            </span>│<span style=\"color: #000080; text-decoration-color: #000080\">             </span>│<span style=\"color: #800000; text-decoration-color: #800000\">        </span>│<span style=\"color: #800000; text-decoration-color: #800000\">             </span> \n",
       "                   ╵              ╵              ╵              ╵            ╵             ╵        ╵              \n",
       "</pre>\n"
      ],
      "text/plain": [
       "\u001b[3m                                              Available Ollama Models                                              \u001b[0m\n",
       "                   ╷              ╷              ╷              ╷            ╷             ╷        ╷              \n",
       " \u001b[1m \u001b[0m\u001b[1mModel Name      \u001b[0m\u001b[1m \u001b[0m│\u001b[1m \u001b[0m\u001b[1mModified At \u001b[0m\u001b[1m \u001b[0m│\u001b[1m \u001b[0m\u001b[1mDigest      \u001b[0m\u001b[1m \u001b[0m│\u001b[1m \u001b[0m\u001b[1mSize (bytes)\u001b[0m\u001b[1m \u001b[0m│\u001b[1m \u001b[0m\u001b[1mParam Size\u001b[0m\u001b[1m \u001b[0m│\u001b[1m \u001b[0m\u001b[1mQuant Level\u001b[0m\u001b[1m \u001b[0m│\u001b[1m \u001b[0m\u001b[1mFamily\u001b[0m\u001b[1m \u001b[0m│\u001b[1m \u001b[0m\u001b[1mFamilies   \u001b[0m\u001b[1m \u001b[0m \n",
       " ══════════════════╪══════════════╪══════════════╪══════════════╪════════════╪═════════════╪════════╪═════════════ \n",
       " \u001b[36m \u001b[0m\u001b[36msmollm2:135m    \u001b[0m\u001b[36m \u001b[0m│\u001b[35m \u001b[0m\u001b[35m2024-12-18  \u001b[0m\u001b[35m \u001b[0m│\u001b[32m \u001b[0m\u001b[32m9077fe9d2ae…\u001b[0m\u001b[32m \u001b[0m│\u001b[33m \u001b[0m\u001b[33m   270898672\u001b[0m\u001b[33m \u001b[0m│\u001b[33m \u001b[0m\u001b[33m   134.52M\u001b[0m\u001b[33m \u001b[0m│\u001b[34m \u001b[0m\u001b[34mF16        \u001b[0m\u001b[34m \u001b[0m│\u001b[31m \u001b[0m\u001b[31mllama \u001b[0m\u001b[31m \u001b[0m│\u001b[31m \u001b[0m\u001b[31mllama      \u001b[0m\u001b[31m \u001b[0m \n",
       " \u001b[36m                  \u001b[0m│\u001b[35m \u001b[0m\u001b[35m11:49:06.80…\u001b[0m\u001b[35m \u001b[0m│\u001b[32m              \u001b[0m│\u001b[33m              \u001b[0m│\u001b[33m            \u001b[0m│\u001b[34m             \u001b[0m│\u001b[31m        \u001b[0m│\u001b[31m             \u001b[0m \n",
       " \u001b[36m \u001b[0m\u001b[36mllava:latest    \u001b[0m\u001b[36m \u001b[0m│\u001b[35m \u001b[0m\u001b[35m2024-12-07  \u001b[0m\u001b[35m \u001b[0m│\u001b[32m \u001b[0m\u001b[32m8dd30f6b0cb…\u001b[0m\u001b[32m \u001b[0m│\u001b[33m \u001b[0m\u001b[33m  4733363377\u001b[0m\u001b[33m \u001b[0m│\u001b[33m \u001b[0m\u001b[33m        7B\u001b[0m\u001b[33m \u001b[0m│\u001b[34m \u001b[0m\u001b[34mQ4_0       \u001b[0m\u001b[34m \u001b[0m│\u001b[31m \u001b[0m\u001b[31mllama \u001b[0m\u001b[31m \u001b[0m│\u001b[31m \u001b[0m\u001b[31mllama, clip\u001b[0m\u001b[31m \u001b[0m \n",
       " \u001b[36m                  \u001b[0m│\u001b[35m \u001b[0m\u001b[35m23:46:35.56…\u001b[0m\u001b[35m \u001b[0m│\u001b[32m              \u001b[0m│\u001b[33m              \u001b[0m│\u001b[33m            \u001b[0m│\u001b[34m             \u001b[0m│\u001b[31m        \u001b[0m│\u001b[31m             \u001b[0m \n",
       " \u001b[36m \u001b[0m\u001b[36mmoondream:latest\u001b[0m\u001b[36m \u001b[0m│\u001b[35m \u001b[0m\u001b[35m2024-12-07  \u001b[0m\u001b[35m \u001b[0m│\u001b[32m \u001b[0m\u001b[32m55fc3abd386…\u001b[0m\u001b[32m \u001b[0m│\u001b[33m \u001b[0m\u001b[33m  1738451197\u001b[0m\u001b[33m \u001b[0m│\u001b[33m \u001b[0m\u001b[33m        1B\u001b[0m\u001b[33m \u001b[0m│\u001b[34m \u001b[0m\u001b[34mQ4_0       \u001b[0m\u001b[34m \u001b[0m│\u001b[31m \u001b[0m\u001b[31mphi2  \u001b[0m\u001b[31m \u001b[0m│\u001b[31m \u001b[0m\u001b[31mphi2, clip \u001b[0m\u001b[31m \u001b[0m \n",
       " \u001b[36m                  \u001b[0m│\u001b[35m \u001b[0m\u001b[35m22:19:46.41…\u001b[0m\u001b[35m \u001b[0m│\u001b[32m              \u001b[0m│\u001b[33m              \u001b[0m│\u001b[33m            \u001b[0m│\u001b[34m             \u001b[0m│\u001b[31m        \u001b[0m│\u001b[31m             \u001b[0m \n",
       " \u001b[36m \u001b[0m\u001b[36mllama3.2:latest \u001b[0m\u001b[36m \u001b[0m│\u001b[35m \u001b[0m\u001b[35m2024-12-07  \u001b[0m\u001b[35m \u001b[0m│\u001b[32m \u001b[0m\u001b[32ma80c4f17acd…\u001b[0m\u001b[32m \u001b[0m│\u001b[33m \u001b[0m\u001b[33m  2019393189\u001b[0m\u001b[33m \u001b[0m│\u001b[33m \u001b[0m\u001b[33m      3.2B\u001b[0m\u001b[33m \u001b[0m│\u001b[34m \u001b[0m\u001b[34mQ4_K_M     \u001b[0m\u001b[34m \u001b[0m│\u001b[31m \u001b[0m\u001b[31mllama \u001b[0m\u001b[31m \u001b[0m│\u001b[31m \u001b[0m\u001b[31mllama      \u001b[0m\u001b[31m \u001b[0m \n",
       " \u001b[36m                  \u001b[0m│\u001b[35m \u001b[0m\u001b[35m22:18:36.84…\u001b[0m\u001b[35m \u001b[0m│\u001b[32m              \u001b[0m│\u001b[33m              \u001b[0m│\u001b[33m            \u001b[0m│\u001b[34m             \u001b[0m│\u001b[31m        \u001b[0m│\u001b[31m             \u001b[0m \n",
       "                   ╵              ╵              ╵              ╵            ╵             ╵        ╵              \n"
      ]
     },
     "metadata": {},
     "output_type": "display_data"
    },
    {
     "data": {
      "text/html": [
       "<pre style=\"white-space:pre;overflow-x:auto;line-height:normal;font-family:Menlo,'DejaVu Sans Mono',consolas,'Courier New',monospace\">22:09:49.757 | <span style=\"color: #008080; text-decoration-color: #008080\">INFO</span>    | Task run 'list_ollama_models-92f' - Finished in state <span style=\"color: #008000; text-decoration-color: #008000\">Completed</span>()\n",
       "</pre>\n"
      ],
      "text/plain": [
       "22:09:49.757 | \u001b[36mINFO\u001b[0m    | Task run 'list_ollama_models-92f' - Finished in state \u001b[32mCompleted\u001b[0m()\n"
      ]
     },
     "metadata": {},
     "output_type": "display_data"
    },
    {
     "data": {
      "text/html": [
       "<pre style=\"white-space:pre;overflow-x:auto;line-height:normal;font-family:Menlo,'DejaVu Sans Mono',consolas,'Courier New',monospace\">22:09:50.592 | <span style=\"color: #008080; text-decoration-color: #008080\">INFO</span>    | prefect - Loaded 3 documents from /home/rakesh/Downloads/sample_data/four/\n",
       "</pre>\n"
      ],
      "text/plain": [
       "22:09:50.592 | \u001b[36mINFO\u001b[0m    | prefect - Loaded 3 documents from /home/rakesh/Downloads/sample_data/four/\n"
      ]
     },
     "metadata": {},
     "output_type": "display_data"
    },
    {
     "data": {
      "text/html": [
       "<pre style=\"white-space:pre;overflow-x:auto;line-height:normal;font-family:Menlo,'DejaVu Sans Mono',consolas,'Courier New',monospace\"><span style=\"color: #008000; text-decoration-color: #008000; font-weight: bold\">Loaded </span><span style=\"color: #008000; text-decoration-color: #008000; font-weight: bold\">3</span><span style=\"color: #008000; text-decoration-color: #008000; font-weight: bold\"> documents from /home/rakesh/Downloads/sample_data/four/</span>\n",
       "</pre>\n"
      ],
      "text/plain": [
       "\u001b[1;32mLoaded \u001b[0m\u001b[1;32m3\u001b[0m\u001b[1;32m documents from \u001b[0m\u001b[1;32m/home/rakesh/Downloads/sample_data/four/\u001b[0m\n"
      ]
     },
     "metadata": {},
     "output_type": "display_data"
    },
    {
     "data": {
      "text/html": [
       "<pre style=\"white-space:pre;overflow-x:auto;line-height:normal;font-family:Menlo,'DejaVu Sans Mono',consolas,'Courier New',monospace\">22:09:50.597 | <span style=\"color: #008080; text-decoration-color: #008080\">INFO</span>    | Task run 'load_documents-536' - Finished in state <span style=\"color: #008000; text-decoration-color: #008000\">Completed</span>()\n",
       "</pre>\n"
      ],
      "text/plain": [
       "22:09:50.597 | \u001b[36mINFO\u001b[0m    | Task run 'load_documents-536' - Finished in state \u001b[32mCompleted\u001b[0m()\n"
      ]
     },
     "metadata": {},
     "output_type": "display_data"
    },
    {
     "data": {
      "text/html": [
       "<pre style=\"white-space:pre;overflow-x:auto;line-height:normal;font-family:Menlo,'DejaVu Sans Mono',consolas,'Courier New',monospace\">22:09:50.632 | <span style=\"color: #008080; text-decoration-color: #008080\">INFO</span>    | prefect - Processed metadata: 3 unique documents\n",
       "</pre>\n"
      ],
      "text/plain": [
       "22:09:50.632 | \u001b[36mINFO\u001b[0m    | prefect - Processed metadata: 3 unique documents\n"
      ]
     },
     "metadata": {},
     "output_type": "display_data"
    },
    {
     "data": {
      "text/html": [
       "<pre style=\"white-space:pre;overflow-x:auto;line-height:normal;font-family:Menlo,'DejaVu Sans Mono',consolas,'Courier New',monospace\"><span style=\"color: #008000; text-decoration-color: #008000; font-weight: bold\">Processed metadata: </span><span style=\"color: #008000; text-decoration-color: #008000; font-weight: bold\">3</span><span style=\"color: #008000; text-decoration-color: #008000; font-weight: bold\"> unique documents</span>\n",
       "</pre>\n"
      ],
      "text/plain": [
       "\u001b[1;32mProcessed metadata: \u001b[0m\u001b[1;32m3\u001b[0m\u001b[1;32m unique documents\u001b[0m\n"
      ]
     },
     "metadata": {},
     "output_type": "display_data"
    },
    {
     "data": {
      "text/html": [
       "<pre style=\"white-space:pre;overflow-x:auto;line-height:normal;font-family:Menlo,'DejaVu Sans Mono',consolas,'Courier New',monospace\">22:09:50.635 | <span style=\"color: #008080; text-decoration-color: #008080\">INFO</span>    | Task run 'process_metadata-9c2' - Finished in state <span style=\"color: #008000; text-decoration-color: #008000\">Completed</span>()\n",
       "</pre>\n"
      ],
      "text/plain": [
       "22:09:50.635 | \u001b[36mINFO\u001b[0m    | Task run 'process_metadata-9c2' - Finished in state \u001b[32mCompleted\u001b[0m()\n"
      ]
     },
     "metadata": {},
     "output_type": "display_data"
    },
    {
     "name": "stdout",
     "output_type": "stream",
     "text": [
      "Summaries:\n",
      "{'files': [{'file_path': '/home/rakesh/Downloads/sample_data/four/dsflsdflj.txt',\n",
      "            'summary': 'This file discusses the rise of Vertical Large '\n",
      "                       'Language Model (LLM) Agents as the next big wave in '\n",
      "                       'Software as a Service (SaaS) innovations. It '\n",
      "                       'highlights how these AI agents tailored to specific '\n",
      "                       'industries can revolutionize workflows and complex '\n",
      "                       \"tasks, using the success story of Case Text's \"\n",
      "                       'Co-Counsel as an example.'},\n",
      "           {'file_path': '/home/rakesh/Downloads/sample_data/four/random_file.txt',\n",
      "            'summary': 'This file contains a test file with some basic '\n",
      "                       'information, including a bank account number.'},\n",
      "           {'file_path': '/home/rakesh/Downloads/sample_data/four/shad.txt',\n",
      "            'summary': 'This file provides an overview of various Next.js '\n",
      "                       'starter projects, including information about their '\n",
      "                       'features, tech stacks, and GitHub repository details. '\n",
      "                       'It covers 8 different Next.js boilerplates recommended '\n",
      "                       'by the Next.js Starter Directory website.'}]}\n"
     ]
    },
    {
     "data": {
      "text/html": [
       "<pre style=\"white-space:pre;overflow-x:auto;line-height:normal;font-family:Menlo,'DejaVu Sans Mono',consolas,'Courier New',monospace\">22:09:53.634 | <span style=\"color: #008080; text-decoration-color: #008080\">INFO</span>    | prefect - Generated summaries for 3 files with cost 0.0\n",
       "</pre>\n"
      ],
      "text/plain": [
       "22:09:53.634 | \u001b[36mINFO\u001b[0m    | prefect - Generated summaries for 3 files with cost 0.0\n"
      ]
     },
     "metadata": {},
     "output_type": "display_data"
    },
    {
     "data": {
      "text/html": [
       "<pre style=\"white-space:pre;overflow-x:auto;line-height:normal;font-family:Menlo,'DejaVu Sans Mono',consolas,'Courier New',monospace\"><span style=\"color: #008000; text-decoration-color: #008000; font-weight: bold\">Generated summaries for </span><span style=\"color: #008000; text-decoration-color: #008000; font-weight: bold\">3</span><span style=\"color: #008000; text-decoration-color: #008000; font-weight: bold\"> files with cost </span><span style=\"color: #008000; text-decoration-color: #008000; font-weight: bold\">0.0</span>\n",
       "</pre>\n"
      ],
      "text/plain": [
       "\u001b[1;32mGenerated summaries for \u001b[0m\u001b[1;32m3\u001b[0m\u001b[1;32m files with cost \u001b[0m\u001b[1;32m0.0\u001b[0m\n"
      ]
     },
     "metadata": {},
     "output_type": "display_data"
    },
    {
     "data": {
      "text/html": [
       "<pre style=\"white-space:pre;overflow-x:auto;line-height:normal;font-family:Menlo,'DejaVu Sans Mono',consolas,'Courier New',monospace\">22:09:53.641 | <span style=\"color: #008080; text-decoration-color: #008080\">INFO</span>    | Task run 'query_summaries-a4d' - Finished in state <span style=\"color: #008000; text-decoration-color: #008000\">Completed</span>()\n",
       "</pre>\n"
      ],
      "text/plain": [
       "22:09:53.641 | \u001b[36mINFO\u001b[0m    | Task run 'query_summaries-a4d' - Finished in state \u001b[32mCompleted\u001b[0m()\n"
      ]
     },
     "metadata": {},
     "output_type": "display_data"
    },
    {
     "data": {
      "text/html": [
       "<pre style=\"white-space:pre;overflow-x:auto;line-height:normal;font-family:Menlo,'DejaVu Sans Mono',consolas,'Courier New',monospace\">22:09:53.705 | <span style=\"color: #008080; text-decoration-color: #008080\">INFO</span>    | prefect - Calculated cost: 0.0060360000000000006\n",
       "</pre>\n"
      ],
      "text/plain": [
       "22:09:53.705 | \u001b[36mINFO\u001b[0m    | prefect - Calculated cost: 0.0060360000000000006\n"
      ]
     },
     "metadata": {},
     "output_type": "display_data"
    },
    {
     "data": {
      "text/html": [
       "<pre style=\"white-space:pre;overflow-x:auto;line-height:normal;font-family:Menlo,'DejaVu Sans Mono',consolas,'Courier New',monospace\"><span style=\"color: #008000; text-decoration-color: #008000; font-weight: bold\">Calculated cost:</span> <span style=\"color: #808000; text-decoration-color: #808000; font-weight: bold\">0.0060360000000000006</span>\n",
       "</pre>\n"
      ],
      "text/plain": [
       "\u001b[1;32mCalculated cost:\u001b[0m \u001b[1;33m0.0060360000000000006\u001b[0m\n"
      ]
     },
     "metadata": {},
     "output_type": "display_data"
    },
    {
     "data": {
      "text/html": [
       "<pre style=\"white-space:pre;overflow-x:auto;line-height:normal;font-family:Menlo,'DejaVu Sans Mono',consolas,'Courier New',monospace\">22:09:53.709 | <span style=\"color: #008080; text-decoration-color: #008080\">INFO</span>    | Task run 'track_cost_callback' - Finished in state <span style=\"color: #008000; text-decoration-color: #008000\">Completed</span>()\n",
       "</pre>\n"
      ],
      "text/plain": [
       "22:09:53.709 | \u001b[36mINFO\u001b[0m    | Task run 'track_cost_callback' - Finished in state \u001b[32mCompleted\u001b[0m()\n"
      ]
     },
     "metadata": {},
     "output_type": "display_data"
    },
    {
     "data": {
      "text/html": [
       "<pre style=\"white-space:pre;overflow-x:auto;line-height:normal;font-family:Menlo,'DejaVu Sans Mono',consolas,'Courier New',monospace\">22:09:56.900 | <span style=\"color: #008080; text-decoration-color: #008080\">INFO</span>    | prefect - Created file tree for 3 files\n",
       "</pre>\n"
      ],
      "text/plain": [
       "22:09:56.900 | \u001b[36mINFO\u001b[0m    | prefect - Created file tree for 3 files\n"
      ]
     },
     "metadata": {},
     "output_type": "display_data"
    },
    {
     "data": {
      "text/html": [
       "<pre style=\"white-space:pre;overflow-x:auto;line-height:normal;font-family:Menlo,'DejaVu Sans Mono',consolas,'Courier New',monospace\"><span style=\"color: #008000; text-decoration-color: #008000; font-weight: bold\">Created file tree for </span><span style=\"color: #008000; text-decoration-color: #008000; font-weight: bold\">3</span><span style=\"color: #008000; text-decoration-color: #008000; font-weight: bold\"> files</span>\n",
       "</pre>\n"
      ],
      "text/plain": [
       "\u001b[1;32mCreated file tree for \u001b[0m\u001b[1;32m3\u001b[0m\u001b[1;32m files\u001b[0m\n"
      ]
     },
     "metadata": {},
     "output_type": "display_data"
    },
    {
     "data": {
      "text/html": [
       "<pre style=\"white-space:pre;overflow-x:auto;line-height:normal;font-family:Menlo,'DejaVu Sans Mono',consolas,'Courier New',monospace\">22:09:56.903 | <span style=\"color: #008080; text-decoration-color: #008080\">INFO</span>    | Task run 'create_file_tree-d49' - Finished in state <span style=\"color: #008000; text-decoration-color: #008000\">Completed</span>()\n",
       "</pre>\n"
      ],
      "text/plain": [
       "22:09:56.903 | \u001b[36mINFO\u001b[0m    | Task run 'create_file_tree-d49' - Finished in state \u001b[32mCompleted\u001b[0m()\n"
      ]
     },
     "metadata": {},
     "output_type": "display_data"
    },
    {
     "data": {
      "text/html": [
       "<pre style=\"white-space:pre;overflow-x:auto;line-height:normal;font-family:Menlo,'DejaVu Sans Mono',consolas,'Courier New',monospace\">22:09:56.967 | <span style=\"color: #008080; text-decoration-color: #008080\">INFO</span>    | prefect - Calculated cost: 0.004416\n",
       "</pre>\n"
      ],
      "text/plain": [
       "22:09:56.967 | \u001b[36mINFO\u001b[0m    | prefect - Calculated cost: 0.004416\n"
      ]
     },
     "metadata": {},
     "output_type": "display_data"
    },
    {
     "data": {
      "text/html": [
       "<pre style=\"white-space:pre;overflow-x:auto;line-height:normal;font-family:Menlo,'DejaVu Sans Mono',consolas,'Courier New',monospace\"><span style=\"color: #008000; text-decoration-color: #008000; font-weight: bold\">Calculated cost:</span> <span style=\"color: #808000; text-decoration-color: #808000; font-weight: bold\">0.004416</span>\n",
       "</pre>\n"
      ],
      "text/plain": [
       "\u001b[1;32mCalculated cost:\u001b[0m \u001b[1;33m0.004416\u001b[0m\n"
      ]
     },
     "metadata": {},
     "output_type": "display_data"
    },
    {
     "data": {
      "text/html": [
       "<pre style=\"white-space:pre;overflow-x:auto;line-height:normal;font-family:Menlo,'DejaVu Sans Mono',consolas,'Courier New',monospace\">22:09:56.968 | <span style=\"color: #008080; text-decoration-color: #008080\">INFO</span>    | prefect - All necessary subdirectories created.\n",
       "</pre>\n"
      ],
      "text/plain": [
       "22:09:56.968 | \u001b[36mINFO\u001b[0m    | prefect - All necessary subdirectories created.\n"
      ]
     },
     "metadata": {},
     "output_type": "display_data"
    },
    {
     "data": {
      "text/html": [
       "<pre style=\"white-space:pre;overflow-x:auto;line-height:normal;font-family:Menlo,'DejaVu Sans Mono',consolas,'Courier New',monospace\">22:09:56.972 | <span style=\"color: #008080; text-decoration-color: #008080\">INFO</span>    | Task run 'track_cost_callback' - Finished in state <span style=\"color: #008000; text-decoration-color: #008000\">Completed</span>()\n",
       "</pre>\n"
      ],
      "text/plain": [
       "22:09:56.972 | \u001b[36mINFO\u001b[0m    | Task run 'track_cost_callback' - Finished in state \u001b[32mCompleted\u001b[0m()\n"
      ]
     },
     "metadata": {},
     "output_type": "display_data"
    },
    {
     "data": {
      "text/html": [
       "<pre style=\"white-space:pre;overflow-x:auto;line-height:normal;font-family:Menlo,'DejaVu Sans Mono',consolas,'Courier New',monospace\"><span style=\"color: #008000; text-decoration-color: #008000; font-weight: bold\">All necessary subdirectories created.</span>\n",
       "</pre>\n"
      ],
      "text/plain": [
       "\u001b[1;32mAll necessary subdirectories created.\u001b[0m\n"
      ]
     },
     "metadata": {},
     "output_type": "display_data"
    },
    {
     "data": {
      "text/html": [
       "<pre style=\"white-space:pre;overflow-x:auto;line-height:normal;font-family:Menlo,'DejaVu Sans Mono',consolas,'Courier New',monospace\">22:09:56.977 | <span style=\"color: #008080; text-decoration-color: #008080\">INFO</span>    | Task run 'create_subdirectories-548' - Finished in state <span style=\"color: #008000; text-decoration-color: #008000\">Completed</span>()\n",
       "</pre>\n"
      ],
      "text/plain": [
       "22:09:56.977 | \u001b[36mINFO\u001b[0m    | Task run 'create_subdirectories-548' - Finished in state \u001b[32mCompleted\u001b[0m()\n"
      ]
     },
     "metadata": {},
     "output_type": "display_data"
    },
    {
     "data": {
      "text/html": [
       "<pre style=\"white-space:pre;overflow-x:auto;line-height:normal;font-family:Menlo,'DejaVu Sans Mono',consolas,'Courier New',monospace\">22:09:57.005 | <span style=\"color: #008080; text-decoration-color: #008080\">INFO</span>    | prefect - Concatenated summary and file tree for 3 files\n",
       "</pre>\n"
      ],
      "text/plain": [
       "22:09:57.005 | \u001b[36mINFO\u001b[0m    | prefect - Concatenated summary and file tree for 3 files\n"
      ]
     },
     "metadata": {},
     "output_type": "display_data"
    },
    {
     "data": {
      "text/html": [
       "<pre style=\"white-space:pre;overflow-x:auto;line-height:normal;font-family:Menlo,'DejaVu Sans Mono',consolas,'Courier New',monospace\"><span style=\"color: #008000; text-decoration-color: #008000; font-weight: bold\">Concatenated summary and file tree for </span><span style=\"color: #008000; text-decoration-color: #008000; font-weight: bold\">3</span><span style=\"color: #008000; text-decoration-color: #008000; font-weight: bold\"> files</span>\n",
       "</pre>\n"
      ],
      "text/plain": [
       "\u001b[1;32mConcatenated summary and file tree for \u001b[0m\u001b[1;32m3\u001b[0m\u001b[1;32m files\u001b[0m\n"
      ]
     },
     "metadata": {},
     "output_type": "display_data"
    },
    {
     "data": {
      "text/html": [
       "<pre style=\"white-space:pre;overflow-x:auto;line-height:normal;font-family:Menlo,'DejaVu Sans Mono',consolas,'Courier New',monospace\">22:09:57.007 | <span style=\"color: #008080; text-decoration-color: #008080\">INFO</span>    | Task run 'concatenate_summaries_and_file_tree-4ce' - Finished in state <span style=\"color: #008000; text-decoration-color: #008000\">Completed</span>()\n",
       "</pre>\n"
      ],
      "text/plain": [
       "22:09:57.007 | \u001b[36mINFO\u001b[0m    | Task run 'concatenate_summaries_and_file_tree-4ce' - Finished in state \u001b[32mCompleted\u001b[0m()\n"
      ]
     },
     "metadata": {},
     "output_type": "display_data"
    },
    {
     "data": {
      "text/html": [
       "<pre style=\"white-space:pre;overflow-x:auto;line-height:normal;font-family:Menlo,'DejaVu Sans Mono',consolas,'Courier New',monospace\"><span style=\"font-style: italic\">                                             Organized Files                                              </span>\n",
       "              ╷                                                                                           \n",
       " <span style=\"font-weight: bold\"> Source Path </span>│<span style=\"font-weight: bold\"> Destination Path                                                                         </span> \n",
       " ═════════════╪══════════════════════════════════════════════════════════════════════════════════════════ \n",
       " <span style=\"color: #008080; text-decoration-color: #008080\">             </span>│<span style=\"color: #008000; text-decoration-color: #008000\"> /home/rakesh/Downloads/sample_data/four_organized/technology/vertical_llms/dsflsdflj.txt </span> \n",
       " <span style=\"color: #008080; text-decoration-color: #008080\">             </span>│<span style=\"color: #008000; text-decoration-color: #008000\"> /home/rakesh/Downloads/sample_data/four_organized/misc/random_file.txt                   </span> \n",
       " <span style=\"color: #008080; text-decoration-color: #008080\">             </span>│<span style=\"color: #008000; text-decoration-color: #008000\"> /home/rakesh/Downloads/sample_data/four_organized/technology/nextjs_starters/shad.txt    </span> \n",
       "              ╵                                                                                           \n",
       "</pre>\n"
      ],
      "text/plain": [
       "\u001b[3m                                             Organized Files                                              \u001b[0m\n",
       "              ╷                                                                                           \n",
       " \u001b[1m \u001b[0m\u001b[1mSource Path\u001b[0m\u001b[1m \u001b[0m│\u001b[1m \u001b[0m\u001b[1mDestination Path                                                                        \u001b[0m\u001b[1m \u001b[0m \n",
       " ═════════════╪══════════════════════════════════════════════════════════════════════════════════════════ \n",
       " \u001b[36m \u001b[0m\u001b[36m           \u001b[0m\u001b[36m \u001b[0m│\u001b[32m \u001b[0m\u001b[32m/home/rakesh/Downloads/sample_data/four_organized/technology/vertical_llms/dsflsdflj.txt\u001b[0m\u001b[32m \u001b[0m \n",
       " \u001b[36m \u001b[0m\u001b[36m           \u001b[0m\u001b[36m \u001b[0m│\u001b[32m \u001b[0m\u001b[32m/home/rakesh/Downloads/sample_data/four_organized/misc/random_file.txt                  \u001b[0m\u001b[32m \u001b[0m \n",
       " \u001b[36m \u001b[0m\u001b[36m           \u001b[0m\u001b[36m \u001b[0m│\u001b[32m \u001b[0m\u001b[32m/home/rakesh/Downloads/sample_data/four_organized/technology/nextjs_starters/shad.txt   \u001b[0m\u001b[32m \u001b[0m \n",
       "              ╵                                                                                           \n"
      ]
     },
     "metadata": {},
     "output_type": "display_data"
    },
    {
     "data": {
      "text/html": [
       "<pre style=\"white-space:pre;overflow-x:auto;line-height:normal;font-family:Menlo,'DejaVu Sans Mono',consolas,'Courier New',monospace\">22:09:57.037 | <span style=\"color: #008080; text-decoration-color: #008080\">INFO</span>    | Task run 'display_organized_files-b11' - Finished in state <span style=\"color: #008000; text-decoration-color: #008000\">Completed</span>()\n",
       "</pre>\n"
      ],
      "text/plain": [
       "22:09:57.037 | \u001b[36mINFO\u001b[0m    | Task run 'display_organized_files-b11' - Finished in state \u001b[32mCompleted\u001b[0m()\n"
      ]
     },
     "metadata": {},
     "output_type": "display_data"
    },
    {
     "data": {
      "text/html": [
       "<pre style=\"white-space:pre;overflow-x:auto;line-height:normal;font-family:Menlo,'DejaVu Sans Mono',consolas,'Courier New',monospace\"><span style=\"font-style: italic\">                                           Summaries and Organized Files                                           </span>\n",
       "                                                          ╷                  ╷                  ╷                  \n",
       " <span style=\"font-weight: bold\">                                                         </span>│<span style=\"font-weight: bold\">                  </span>│<span style=\"font-weight: bold\">                  </span>│<span style=\"font-weight: bold\"> Destination     </span> \n",
       " <span style=\"font-weight: bold\"> File Path                                               </span>│<span style=\"font-weight: bold\"> Summary          </span>│<span style=\"font-weight: bold\"> Destination Path </span>│<span style=\"font-weight: bold\"> Path New        </span> \n",
       " ═════════════════════════════════════════════════════════╪══════════════════╪══════════════════╪═════════════════ \n",
       " <span style=\"color: #008080; text-decoration-color: #008080\"> /home/rakesh/Downloads/sample_data/four/dsflsdflj.txt   </span>│<span style=\"color: #008000; text-decoration-color: #008000\"> This file        </span>│<span style=\"color: #800080; text-decoration-color: #800080\"> /home/rakesh/Do… </span>│<span style=\"color: #808000; text-decoration-color: #808000\"> /home/rakesh/D… </span> \n",
       " <span style=\"color: #008080; text-decoration-color: #008080\">                                                         </span>│<span style=\"color: #008000; text-decoration-color: #008000\"> discusses the    </span>│<span style=\"color: #800080; text-decoration-color: #800080\">                  </span>│<span style=\"color: #808000; text-decoration-color: #808000\">                 </span> \n",
       " <span style=\"color: #008080; text-decoration-color: #008080\">                                                         </span>│<span style=\"color: #008000; text-decoration-color: #008000\"> rise of Vertical </span>│<span style=\"color: #800080; text-decoration-color: #800080\">                  </span>│<span style=\"color: #808000; text-decoration-color: #808000\">                 </span> \n",
       " <span style=\"color: #008080; text-decoration-color: #008080\">                                                         </span>│<span style=\"color: #008000; text-decoration-color: #008000\"> Large Language   </span>│<span style=\"color: #800080; text-decoration-color: #800080\">                  </span>│<span style=\"color: #808000; text-decoration-color: #808000\">                 </span> \n",
       " <span style=\"color: #008080; text-decoration-color: #008080\">                                                         </span>│<span style=\"color: #008000; text-decoration-color: #008000\"> Model (LLM)      </span>│<span style=\"color: #800080; text-decoration-color: #800080\">                  </span>│<span style=\"color: #808000; text-decoration-color: #808000\">                 </span> \n",
       " <span style=\"color: #008080; text-decoration-color: #008080\">                                                         </span>│<span style=\"color: #008000; text-decoration-color: #008000\"> Agents as the    </span>│<span style=\"color: #800080; text-decoration-color: #800080\">                  </span>│<span style=\"color: #808000; text-decoration-color: #808000\">                 </span> \n",
       " <span style=\"color: #008080; text-decoration-color: #008080\">                                                         </span>│<span style=\"color: #008000; text-decoration-color: #008000\"> next big wave in </span>│<span style=\"color: #800080; text-decoration-color: #800080\">                  </span>│<span style=\"color: #808000; text-decoration-color: #808000\">                 </span> \n",
       " <span style=\"color: #008080; text-decoration-color: #008080\">                                                         </span>│<span style=\"color: #008000; text-decoration-color: #008000\"> Software as a    </span>│<span style=\"color: #800080; text-decoration-color: #800080\">                  </span>│<span style=\"color: #808000; text-decoration-color: #808000\">                 </span> \n",
       " <span style=\"color: #008080; text-decoration-color: #008080\">                                                         </span>│<span style=\"color: #008000; text-decoration-color: #008000\"> Service (SaaS)   </span>│<span style=\"color: #800080; text-decoration-color: #800080\">                  </span>│<span style=\"color: #808000; text-decoration-color: #808000\">                 </span> \n",
       " <span style=\"color: #008080; text-decoration-color: #008080\">                                                         </span>│<span style=\"color: #008000; text-decoration-color: #008000\"> innovations. It  </span>│<span style=\"color: #800080; text-decoration-color: #800080\">                  </span>│<span style=\"color: #808000; text-decoration-color: #808000\">                 </span> \n",
       " <span style=\"color: #008080; text-decoration-color: #008080\">                                                         </span>│<span style=\"color: #008000; text-decoration-color: #008000\"> highlights how   </span>│<span style=\"color: #800080; text-decoration-color: #800080\">                  </span>│<span style=\"color: #808000; text-decoration-color: #808000\">                 </span> \n",
       " <span style=\"color: #008080; text-decoration-color: #008080\">                                                         </span>│<span style=\"color: #008000; text-decoration-color: #008000\"> these AI agents  </span>│<span style=\"color: #800080; text-decoration-color: #800080\">                  </span>│<span style=\"color: #808000; text-decoration-color: #808000\">                 </span> \n",
       " <span style=\"color: #008080; text-decoration-color: #008080\">                                                         </span>│<span style=\"color: #008000; text-decoration-color: #008000\"> tailored to      </span>│<span style=\"color: #800080; text-decoration-color: #800080\">                  </span>│<span style=\"color: #808000; text-decoration-color: #808000\">                 </span> \n",
       " <span style=\"color: #008080; text-decoration-color: #008080\">                                                         </span>│<span style=\"color: #008000; text-decoration-color: #008000\"> specific         </span>│<span style=\"color: #800080; text-decoration-color: #800080\">                  </span>│<span style=\"color: #808000; text-decoration-color: #808000\">                 </span> \n",
       " <span style=\"color: #008080; text-decoration-color: #008080\">                                                         </span>│<span style=\"color: #008000; text-decoration-color: #008000\"> industries can   </span>│<span style=\"color: #800080; text-decoration-color: #800080\">                  </span>│<span style=\"color: #808000; text-decoration-color: #808000\">                 </span> \n",
       " <span style=\"color: #008080; text-decoration-color: #008080\">                                                         </span>│<span style=\"color: #008000; text-decoration-color: #008000\"> revolutionize    </span>│<span style=\"color: #800080; text-decoration-color: #800080\">                  </span>│<span style=\"color: #808000; text-decoration-color: #808000\">                 </span> \n",
       " <span style=\"color: #008080; text-decoration-color: #008080\">                                                         </span>│<span style=\"color: #008000; text-decoration-color: #008000\"> workflows and    </span>│<span style=\"color: #800080; text-decoration-color: #800080\">                  </span>│<span style=\"color: #808000; text-decoration-color: #808000\">                 </span> \n",
       " <span style=\"color: #008080; text-decoration-color: #008080\">                                                         </span>│<span style=\"color: #008000; text-decoration-color: #008000\"> complex tasks,   </span>│<span style=\"color: #800080; text-decoration-color: #800080\">                  </span>│<span style=\"color: #808000; text-decoration-color: #808000\">                 </span> \n",
       " <span style=\"color: #008080; text-decoration-color: #008080\">                                                         </span>│<span style=\"color: #008000; text-decoration-color: #008000\"> using the        </span>│<span style=\"color: #800080; text-decoration-color: #800080\">                  </span>│<span style=\"color: #808000; text-decoration-color: #808000\">                 </span> \n",
       " <span style=\"color: #008080; text-decoration-color: #008080\">                                                         </span>│<span style=\"color: #008000; text-decoration-color: #008000\"> success story of </span>│<span style=\"color: #800080; text-decoration-color: #800080\">                  </span>│<span style=\"color: #808000; text-decoration-color: #808000\">                 </span> \n",
       " <span style=\"color: #008080; text-decoration-color: #008080\">                                                         </span>│<span style=\"color: #008000; text-decoration-color: #008000\"> Case Text's      </span>│<span style=\"color: #800080; text-decoration-color: #800080\">                  </span>│<span style=\"color: #808000; text-decoration-color: #808000\">                 </span> \n",
       " <span style=\"color: #008080; text-decoration-color: #008080\">                                                         </span>│<span style=\"color: #008000; text-decoration-color: #008000\"> Co-Counsel as an </span>│<span style=\"color: #800080; text-decoration-color: #800080\">                  </span>│<span style=\"color: #808000; text-decoration-color: #808000\">                 </span> \n",
       " <span style=\"color: #008080; text-decoration-color: #008080\">                                                         </span>│<span style=\"color: #008000; text-decoration-color: #008000\"> example.         </span>│<span style=\"color: #800080; text-decoration-color: #800080\">                  </span>│<span style=\"color: #808000; text-decoration-color: #808000\">                 </span> \n",
       " <span style=\"color: #008080; text-decoration-color: #008080\"> /home/rakesh/Downloads/sample_data/four/random_file.txt </span>│<span style=\"color: #008000; text-decoration-color: #008000\"> This file        </span>│<span style=\"color: #800080; text-decoration-color: #800080\"> /home/rakesh/Do… </span>│<span style=\"color: #808000; text-decoration-color: #808000\"> /home/rakesh/D… </span> \n",
       " <span style=\"color: #008080; text-decoration-color: #008080\">                                                         </span>│<span style=\"color: #008000; text-decoration-color: #008000\"> contains a test  </span>│<span style=\"color: #800080; text-decoration-color: #800080\">                  </span>│<span style=\"color: #808000; text-decoration-color: #808000\">                 </span> \n",
       " <span style=\"color: #008080; text-decoration-color: #008080\">                                                         </span>│<span style=\"color: #008000; text-decoration-color: #008000\"> file with some   </span>│<span style=\"color: #800080; text-decoration-color: #800080\">                  </span>│<span style=\"color: #808000; text-decoration-color: #808000\">                 </span> \n",
       " <span style=\"color: #008080; text-decoration-color: #008080\">                                                         </span>│<span style=\"color: #008000; text-decoration-color: #008000\"> basic            </span>│<span style=\"color: #800080; text-decoration-color: #800080\">                  </span>│<span style=\"color: #808000; text-decoration-color: #808000\">                 </span> \n",
       " <span style=\"color: #008080; text-decoration-color: #008080\">                                                         </span>│<span style=\"color: #008000; text-decoration-color: #008000\"> information,     </span>│<span style=\"color: #800080; text-decoration-color: #800080\">                  </span>│<span style=\"color: #808000; text-decoration-color: #808000\">                 </span> \n",
       " <span style=\"color: #008080; text-decoration-color: #008080\">                                                         </span>│<span style=\"color: #008000; text-decoration-color: #008000\"> including a bank </span>│<span style=\"color: #800080; text-decoration-color: #800080\">                  </span>│<span style=\"color: #808000; text-decoration-color: #808000\">                 </span> \n",
       " <span style=\"color: #008080; text-decoration-color: #008080\">                                                         </span>│<span style=\"color: #008000; text-decoration-color: #008000\"> account number.  </span>│<span style=\"color: #800080; text-decoration-color: #800080\">                  </span>│<span style=\"color: #808000; text-decoration-color: #808000\">                 </span> \n",
       " <span style=\"color: #008080; text-decoration-color: #008080\"> /home/rakesh/Downloads/sample_data/four/shad.txt        </span>│<span style=\"color: #008000; text-decoration-color: #008000\"> This file        </span>│<span style=\"color: #800080; text-decoration-color: #800080\"> /home/rakesh/Do… </span>│<span style=\"color: #808000; text-decoration-color: #808000\"> /home/rakesh/D… </span> \n",
       " <span style=\"color: #008080; text-decoration-color: #008080\">                                                         </span>│<span style=\"color: #008000; text-decoration-color: #008000\"> provides an      </span>│<span style=\"color: #800080; text-decoration-color: #800080\">                  </span>│<span style=\"color: #808000; text-decoration-color: #808000\">                 </span> \n",
       " <span style=\"color: #008080; text-decoration-color: #008080\">                                                         </span>│<span style=\"color: #008000; text-decoration-color: #008000\"> overview of      </span>│<span style=\"color: #800080; text-decoration-color: #800080\">                  </span>│<span style=\"color: #808000; text-decoration-color: #808000\">                 </span> \n",
       " <span style=\"color: #008080; text-decoration-color: #008080\">                                                         </span>│<span style=\"color: #008000; text-decoration-color: #008000\"> various Next.js  </span>│<span style=\"color: #800080; text-decoration-color: #800080\">                  </span>│<span style=\"color: #808000; text-decoration-color: #808000\">                 </span> \n",
       " <span style=\"color: #008080; text-decoration-color: #008080\">                                                         </span>│<span style=\"color: #008000; text-decoration-color: #008000\"> starter          </span>│<span style=\"color: #800080; text-decoration-color: #800080\">                  </span>│<span style=\"color: #808000; text-decoration-color: #808000\">                 </span> \n",
       " <span style=\"color: #008080; text-decoration-color: #008080\">                                                         </span>│<span style=\"color: #008000; text-decoration-color: #008000\"> projects,        </span>│<span style=\"color: #800080; text-decoration-color: #800080\">                  </span>│<span style=\"color: #808000; text-decoration-color: #808000\">                 </span> \n",
       " <span style=\"color: #008080; text-decoration-color: #008080\">                                                         </span>│<span style=\"color: #008000; text-decoration-color: #008000\"> including        </span>│<span style=\"color: #800080; text-decoration-color: #800080\">                  </span>│<span style=\"color: #808000; text-decoration-color: #808000\">                 </span> \n",
       " <span style=\"color: #008080; text-decoration-color: #008080\">                                                         </span>│<span style=\"color: #008000; text-decoration-color: #008000\"> information      </span>│<span style=\"color: #800080; text-decoration-color: #800080\">                  </span>│<span style=\"color: #808000; text-decoration-color: #808000\">                 </span> \n",
       " <span style=\"color: #008080; text-decoration-color: #008080\">                                                         </span>│<span style=\"color: #008000; text-decoration-color: #008000\"> about their      </span>│<span style=\"color: #800080; text-decoration-color: #800080\">                  </span>│<span style=\"color: #808000; text-decoration-color: #808000\">                 </span> \n",
       " <span style=\"color: #008080; text-decoration-color: #008080\">                                                         </span>│<span style=\"color: #008000; text-decoration-color: #008000\"> features, tech   </span>│<span style=\"color: #800080; text-decoration-color: #800080\">                  </span>│<span style=\"color: #808000; text-decoration-color: #808000\">                 </span> \n",
       " <span style=\"color: #008080; text-decoration-color: #008080\">                                                         </span>│<span style=\"color: #008000; text-decoration-color: #008000\"> stacks, and      </span>│<span style=\"color: #800080; text-decoration-color: #800080\">                  </span>│<span style=\"color: #808000; text-decoration-color: #808000\">                 </span> \n",
       " <span style=\"color: #008080; text-decoration-color: #008080\">                                                         </span>│<span style=\"color: #008000; text-decoration-color: #008000\"> GitHub           </span>│<span style=\"color: #800080; text-decoration-color: #800080\">                  </span>│<span style=\"color: #808000; text-decoration-color: #808000\">                 </span> \n",
       " <span style=\"color: #008080; text-decoration-color: #008080\">                                                         </span>│<span style=\"color: #008000; text-decoration-color: #008000\"> repository       </span>│<span style=\"color: #800080; text-decoration-color: #800080\">                  </span>│<span style=\"color: #808000; text-decoration-color: #808000\">                 </span> \n",
       " <span style=\"color: #008080; text-decoration-color: #008080\">                                                         </span>│<span style=\"color: #008000; text-decoration-color: #008000\"> details. It      </span>│<span style=\"color: #800080; text-decoration-color: #800080\">                  </span>│<span style=\"color: #808000; text-decoration-color: #808000\">                 </span> \n",
       " <span style=\"color: #008080; text-decoration-color: #008080\">                                                         </span>│<span style=\"color: #008000; text-decoration-color: #008000\"> covers 8         </span>│<span style=\"color: #800080; text-decoration-color: #800080\">                  </span>│<span style=\"color: #808000; text-decoration-color: #808000\">                 </span> \n",
       " <span style=\"color: #008080; text-decoration-color: #008080\">                                                         </span>│<span style=\"color: #008000; text-decoration-color: #008000\"> different        </span>│<span style=\"color: #800080; text-decoration-color: #800080\">                  </span>│<span style=\"color: #808000; text-decoration-color: #808000\">                 </span> \n",
       " <span style=\"color: #008080; text-decoration-color: #008080\">                                                         </span>│<span style=\"color: #008000; text-decoration-color: #008000\"> Next.js          </span>│<span style=\"color: #800080; text-decoration-color: #800080\">                  </span>│<span style=\"color: #808000; text-decoration-color: #808000\">                 </span> \n",
       " <span style=\"color: #008080; text-decoration-color: #008080\">                                                         </span>│<span style=\"color: #008000; text-decoration-color: #008000\"> boilerplates     </span>│<span style=\"color: #800080; text-decoration-color: #800080\">                  </span>│<span style=\"color: #808000; text-decoration-color: #808000\">                 </span> \n",
       " <span style=\"color: #008080; text-decoration-color: #008080\">                                                         </span>│<span style=\"color: #008000; text-decoration-color: #008000\"> recommended by   </span>│<span style=\"color: #800080; text-decoration-color: #800080\">                  </span>│<span style=\"color: #808000; text-decoration-color: #808000\">                 </span> \n",
       " <span style=\"color: #008080; text-decoration-color: #008080\">                                                         </span>│<span style=\"color: #008000; text-decoration-color: #008000\"> the Next.js      </span>│<span style=\"color: #800080; text-decoration-color: #800080\">                  </span>│<span style=\"color: #808000; text-decoration-color: #808000\">                 </span> \n",
       " <span style=\"color: #008080; text-decoration-color: #008080\">                                                         </span>│<span style=\"color: #008000; text-decoration-color: #008000\"> Starter          </span>│<span style=\"color: #800080; text-decoration-color: #800080\">                  </span>│<span style=\"color: #808000; text-decoration-color: #808000\">                 </span> \n",
       " <span style=\"color: #008080; text-decoration-color: #008080\">                                                         </span>│<span style=\"color: #008000; text-decoration-color: #008000\"> Directory        </span>│<span style=\"color: #800080; text-decoration-color: #800080\">                  </span>│<span style=\"color: #808000; text-decoration-color: #808000\">                 </span> \n",
       " <span style=\"color: #008080; text-decoration-color: #008080\">                                                         </span>│<span style=\"color: #008000; text-decoration-color: #008000\"> website.         </span>│<span style=\"color: #800080; text-decoration-color: #800080\">                  </span>│<span style=\"color: #808000; text-decoration-color: #808000\">                 </span> \n",
       "                                                          ╵                  ╵                  ╵                  \n",
       "</pre>\n"
      ],
      "text/plain": [
       "\u001b[3m                                           Summaries and Organized Files                                           \u001b[0m\n",
       "                                                          ╷                  ╷                  ╷                  \n",
       " \u001b[1m                                                         \u001b[0m│\u001b[1m                  \u001b[0m│\u001b[1m                  \u001b[0m│\u001b[1m \u001b[0m\u001b[1mDestination    \u001b[0m\u001b[1m \u001b[0m \n",
       " \u001b[1m \u001b[0m\u001b[1mFile Path                                              \u001b[0m\u001b[1m \u001b[0m│\u001b[1m \u001b[0m\u001b[1mSummary         \u001b[0m\u001b[1m \u001b[0m│\u001b[1m \u001b[0m\u001b[1mDestination Path\u001b[0m\u001b[1m \u001b[0m│\u001b[1m \u001b[0m\u001b[1mPath New       \u001b[0m\u001b[1m \u001b[0m \n",
       " ═════════════════════════════════════════════════════════╪══════════════════╪══════════════════╪═════════════════ \n",
       " \u001b[36m \u001b[0m\u001b[36m/home/rakesh/Downloads/sample_data/four/dsflsdflj.txt  \u001b[0m\u001b[36m \u001b[0m│\u001b[32m \u001b[0m\u001b[32mThis file       \u001b[0m\u001b[32m \u001b[0m│\u001b[35m \u001b[0m\u001b[35m/home/rakesh/Do…\u001b[0m\u001b[35m \u001b[0m│\u001b[33m \u001b[0m\u001b[33m/home/rakesh/D…\u001b[0m\u001b[33m \u001b[0m \n",
       " \u001b[36m                                                         \u001b[0m│\u001b[32m \u001b[0m\u001b[32mdiscusses the   \u001b[0m\u001b[32m \u001b[0m│\u001b[35m                  \u001b[0m│\u001b[33m                 \u001b[0m \n",
       " \u001b[36m                                                         \u001b[0m│\u001b[32m \u001b[0m\u001b[32mrise of Vertical\u001b[0m\u001b[32m \u001b[0m│\u001b[35m                  \u001b[0m│\u001b[33m                 \u001b[0m \n",
       " \u001b[36m                                                         \u001b[0m│\u001b[32m \u001b[0m\u001b[32mLarge Language  \u001b[0m\u001b[32m \u001b[0m│\u001b[35m                  \u001b[0m│\u001b[33m                 \u001b[0m \n",
       " \u001b[36m                                                         \u001b[0m│\u001b[32m \u001b[0m\u001b[32mModel (LLM)     \u001b[0m\u001b[32m \u001b[0m│\u001b[35m                  \u001b[0m│\u001b[33m                 \u001b[0m \n",
       " \u001b[36m                                                         \u001b[0m│\u001b[32m \u001b[0m\u001b[32mAgents as the   \u001b[0m\u001b[32m \u001b[0m│\u001b[35m                  \u001b[0m│\u001b[33m                 \u001b[0m \n",
       " \u001b[36m                                                         \u001b[0m│\u001b[32m \u001b[0m\u001b[32mnext big wave in\u001b[0m\u001b[32m \u001b[0m│\u001b[35m                  \u001b[0m│\u001b[33m                 \u001b[0m \n",
       " \u001b[36m                                                         \u001b[0m│\u001b[32m \u001b[0m\u001b[32mSoftware as a   \u001b[0m\u001b[32m \u001b[0m│\u001b[35m                  \u001b[0m│\u001b[33m                 \u001b[0m \n",
       " \u001b[36m                                                         \u001b[0m│\u001b[32m \u001b[0m\u001b[32mService (SaaS)  \u001b[0m\u001b[32m \u001b[0m│\u001b[35m                  \u001b[0m│\u001b[33m                 \u001b[0m \n",
       " \u001b[36m                                                         \u001b[0m│\u001b[32m \u001b[0m\u001b[32minnovations. It \u001b[0m\u001b[32m \u001b[0m│\u001b[35m                  \u001b[0m│\u001b[33m                 \u001b[0m \n",
       " \u001b[36m                                                         \u001b[0m│\u001b[32m \u001b[0m\u001b[32mhighlights how  \u001b[0m\u001b[32m \u001b[0m│\u001b[35m                  \u001b[0m│\u001b[33m                 \u001b[0m \n",
       " \u001b[36m                                                         \u001b[0m│\u001b[32m \u001b[0m\u001b[32mthese AI agents \u001b[0m\u001b[32m \u001b[0m│\u001b[35m                  \u001b[0m│\u001b[33m                 \u001b[0m \n",
       " \u001b[36m                                                         \u001b[0m│\u001b[32m \u001b[0m\u001b[32mtailored to     \u001b[0m\u001b[32m \u001b[0m│\u001b[35m                  \u001b[0m│\u001b[33m                 \u001b[0m \n",
       " \u001b[36m                                                         \u001b[0m│\u001b[32m \u001b[0m\u001b[32mspecific        \u001b[0m\u001b[32m \u001b[0m│\u001b[35m                  \u001b[0m│\u001b[33m                 \u001b[0m \n",
       " \u001b[36m                                                         \u001b[0m│\u001b[32m \u001b[0m\u001b[32mindustries can  \u001b[0m\u001b[32m \u001b[0m│\u001b[35m                  \u001b[0m│\u001b[33m                 \u001b[0m \n",
       " \u001b[36m                                                         \u001b[0m│\u001b[32m \u001b[0m\u001b[32mrevolutionize   \u001b[0m\u001b[32m \u001b[0m│\u001b[35m                  \u001b[0m│\u001b[33m                 \u001b[0m \n",
       " \u001b[36m                                                         \u001b[0m│\u001b[32m \u001b[0m\u001b[32mworkflows and   \u001b[0m\u001b[32m \u001b[0m│\u001b[35m                  \u001b[0m│\u001b[33m                 \u001b[0m \n",
       " \u001b[36m                                                         \u001b[0m│\u001b[32m \u001b[0m\u001b[32mcomplex tasks,  \u001b[0m\u001b[32m \u001b[0m│\u001b[35m                  \u001b[0m│\u001b[33m                 \u001b[0m \n",
       " \u001b[36m                                                         \u001b[0m│\u001b[32m \u001b[0m\u001b[32musing the       \u001b[0m\u001b[32m \u001b[0m│\u001b[35m                  \u001b[0m│\u001b[33m                 \u001b[0m \n",
       " \u001b[36m                                                         \u001b[0m│\u001b[32m \u001b[0m\u001b[32msuccess story of\u001b[0m\u001b[32m \u001b[0m│\u001b[35m                  \u001b[0m│\u001b[33m                 \u001b[0m \n",
       " \u001b[36m                                                         \u001b[0m│\u001b[32m \u001b[0m\u001b[32mCase Text's     \u001b[0m\u001b[32m \u001b[0m│\u001b[35m                  \u001b[0m│\u001b[33m                 \u001b[0m \n",
       " \u001b[36m                                                         \u001b[0m│\u001b[32m \u001b[0m\u001b[32mCo-Counsel as an\u001b[0m\u001b[32m \u001b[0m│\u001b[35m                  \u001b[0m│\u001b[33m                 \u001b[0m \n",
       " \u001b[36m                                                         \u001b[0m│\u001b[32m \u001b[0m\u001b[32mexample.        \u001b[0m\u001b[32m \u001b[0m│\u001b[35m                  \u001b[0m│\u001b[33m                 \u001b[0m \n",
       " \u001b[36m \u001b[0m\u001b[36m/home/rakesh/Downloads/sample_data/four/random_file.txt\u001b[0m\u001b[36m \u001b[0m│\u001b[32m \u001b[0m\u001b[32mThis file       \u001b[0m\u001b[32m \u001b[0m│\u001b[35m \u001b[0m\u001b[35m/home/rakesh/Do…\u001b[0m\u001b[35m \u001b[0m│\u001b[33m \u001b[0m\u001b[33m/home/rakesh/D…\u001b[0m\u001b[33m \u001b[0m \n",
       " \u001b[36m                                                         \u001b[0m│\u001b[32m \u001b[0m\u001b[32mcontains a test \u001b[0m\u001b[32m \u001b[0m│\u001b[35m                  \u001b[0m│\u001b[33m                 \u001b[0m \n",
       " \u001b[36m                                                         \u001b[0m│\u001b[32m \u001b[0m\u001b[32mfile with some  \u001b[0m\u001b[32m \u001b[0m│\u001b[35m                  \u001b[0m│\u001b[33m                 \u001b[0m \n",
       " \u001b[36m                                                         \u001b[0m│\u001b[32m \u001b[0m\u001b[32mbasic           \u001b[0m\u001b[32m \u001b[0m│\u001b[35m                  \u001b[0m│\u001b[33m                 \u001b[0m \n",
       " \u001b[36m                                                         \u001b[0m│\u001b[32m \u001b[0m\u001b[32minformation,    \u001b[0m\u001b[32m \u001b[0m│\u001b[35m                  \u001b[0m│\u001b[33m                 \u001b[0m \n",
       " \u001b[36m                                                         \u001b[0m│\u001b[32m \u001b[0m\u001b[32mincluding a bank\u001b[0m\u001b[32m \u001b[0m│\u001b[35m                  \u001b[0m│\u001b[33m                 \u001b[0m \n",
       " \u001b[36m                                                         \u001b[0m│\u001b[32m \u001b[0m\u001b[32maccount number. \u001b[0m\u001b[32m \u001b[0m│\u001b[35m                  \u001b[0m│\u001b[33m                 \u001b[0m \n",
       " \u001b[36m \u001b[0m\u001b[36m/home/rakesh/Downloads/sample_data/four/shad.txt       \u001b[0m\u001b[36m \u001b[0m│\u001b[32m \u001b[0m\u001b[32mThis file       \u001b[0m\u001b[32m \u001b[0m│\u001b[35m \u001b[0m\u001b[35m/home/rakesh/Do…\u001b[0m\u001b[35m \u001b[0m│\u001b[33m \u001b[0m\u001b[33m/home/rakesh/D…\u001b[0m\u001b[33m \u001b[0m \n",
       " \u001b[36m                                                         \u001b[0m│\u001b[32m \u001b[0m\u001b[32mprovides an     \u001b[0m\u001b[32m \u001b[0m│\u001b[35m                  \u001b[0m│\u001b[33m                 \u001b[0m \n",
       " \u001b[36m                                                         \u001b[0m│\u001b[32m \u001b[0m\u001b[32moverview of     \u001b[0m\u001b[32m \u001b[0m│\u001b[35m                  \u001b[0m│\u001b[33m                 \u001b[0m \n",
       " \u001b[36m                                                         \u001b[0m│\u001b[32m \u001b[0m\u001b[32mvarious Next.js \u001b[0m\u001b[32m \u001b[0m│\u001b[35m                  \u001b[0m│\u001b[33m                 \u001b[0m \n",
       " \u001b[36m                                                         \u001b[0m│\u001b[32m \u001b[0m\u001b[32mstarter         \u001b[0m\u001b[32m \u001b[0m│\u001b[35m                  \u001b[0m│\u001b[33m                 \u001b[0m \n",
       " \u001b[36m                                                         \u001b[0m│\u001b[32m \u001b[0m\u001b[32mprojects,       \u001b[0m\u001b[32m \u001b[0m│\u001b[35m                  \u001b[0m│\u001b[33m                 \u001b[0m \n",
       " \u001b[36m                                                         \u001b[0m│\u001b[32m \u001b[0m\u001b[32mincluding       \u001b[0m\u001b[32m \u001b[0m│\u001b[35m                  \u001b[0m│\u001b[33m                 \u001b[0m \n",
       " \u001b[36m                                                         \u001b[0m│\u001b[32m \u001b[0m\u001b[32minformation     \u001b[0m\u001b[32m \u001b[0m│\u001b[35m                  \u001b[0m│\u001b[33m                 \u001b[0m \n",
       " \u001b[36m                                                         \u001b[0m│\u001b[32m \u001b[0m\u001b[32mabout their     \u001b[0m\u001b[32m \u001b[0m│\u001b[35m                  \u001b[0m│\u001b[33m                 \u001b[0m \n",
       " \u001b[36m                                                         \u001b[0m│\u001b[32m \u001b[0m\u001b[32mfeatures, tech  \u001b[0m\u001b[32m \u001b[0m│\u001b[35m                  \u001b[0m│\u001b[33m                 \u001b[0m \n",
       " \u001b[36m                                                         \u001b[0m│\u001b[32m \u001b[0m\u001b[32mstacks, and     \u001b[0m\u001b[32m \u001b[0m│\u001b[35m                  \u001b[0m│\u001b[33m                 \u001b[0m \n",
       " \u001b[36m                                                         \u001b[0m│\u001b[32m \u001b[0m\u001b[32mGitHub          \u001b[0m\u001b[32m \u001b[0m│\u001b[35m                  \u001b[0m│\u001b[33m                 \u001b[0m \n",
       " \u001b[36m                                                         \u001b[0m│\u001b[32m \u001b[0m\u001b[32mrepository      \u001b[0m\u001b[32m \u001b[0m│\u001b[35m                  \u001b[0m│\u001b[33m                 \u001b[0m \n",
       " \u001b[36m                                                         \u001b[0m│\u001b[32m \u001b[0m\u001b[32mdetails. It     \u001b[0m\u001b[32m \u001b[0m│\u001b[35m                  \u001b[0m│\u001b[33m                 \u001b[0m \n",
       " \u001b[36m                                                         \u001b[0m│\u001b[32m \u001b[0m\u001b[32mcovers 8        \u001b[0m\u001b[32m \u001b[0m│\u001b[35m                  \u001b[0m│\u001b[33m                 \u001b[0m \n",
       " \u001b[36m                                                         \u001b[0m│\u001b[32m \u001b[0m\u001b[32mdifferent       \u001b[0m\u001b[32m \u001b[0m│\u001b[35m                  \u001b[0m│\u001b[33m                 \u001b[0m \n",
       " \u001b[36m                                                         \u001b[0m│\u001b[32m \u001b[0m\u001b[32mNext.js         \u001b[0m\u001b[32m \u001b[0m│\u001b[35m                  \u001b[0m│\u001b[33m                 \u001b[0m \n",
       " \u001b[36m                                                         \u001b[0m│\u001b[32m \u001b[0m\u001b[32mboilerplates    \u001b[0m\u001b[32m \u001b[0m│\u001b[35m                  \u001b[0m│\u001b[33m                 \u001b[0m \n",
       " \u001b[36m                                                         \u001b[0m│\u001b[32m \u001b[0m\u001b[32mrecommended by  \u001b[0m\u001b[32m \u001b[0m│\u001b[35m                  \u001b[0m│\u001b[33m                 \u001b[0m \n",
       " \u001b[36m                                                         \u001b[0m│\u001b[32m \u001b[0m\u001b[32mthe Next.js     \u001b[0m\u001b[32m \u001b[0m│\u001b[35m                  \u001b[0m│\u001b[33m                 \u001b[0m \n",
       " \u001b[36m                                                         \u001b[0m│\u001b[32m \u001b[0m\u001b[32mStarter         \u001b[0m\u001b[32m \u001b[0m│\u001b[35m                  \u001b[0m│\u001b[33m                 \u001b[0m \n",
       " \u001b[36m                                                         \u001b[0m│\u001b[32m \u001b[0m\u001b[32mDirectory       \u001b[0m\u001b[32m \u001b[0m│\u001b[35m                  \u001b[0m│\u001b[33m                 \u001b[0m \n",
       " \u001b[36m                                                         \u001b[0m│\u001b[32m \u001b[0m\u001b[32mwebsite.        \u001b[0m\u001b[32m \u001b[0m│\u001b[35m                  \u001b[0m│\u001b[33m                 \u001b[0m \n",
       "                                                          ╵                  ╵                  ╵                  \n"
      ]
     },
     "metadata": {},
     "output_type": "display_data"
    },
    {
     "data": {
      "text/html": [
       "<pre style=\"white-space:pre;overflow-x:auto;line-height:normal;font-family:Menlo,'DejaVu Sans Mono',consolas,'Courier New',monospace\">22:09:57.073 | <span style=\"color: #008080; text-decoration-color: #008080\">INFO</span>    | Task run 'display_concatenated_dict-f79' - Finished in state <span style=\"color: #008000; text-decoration-color: #008000\">Completed</span>()\n",
       "</pre>\n"
      ],
      "text/plain": [
       "22:09:57.073 | \u001b[36mINFO\u001b[0m    | Task run 'display_concatenated_dict-f79' - Finished in state \u001b[32mCompleted\u001b[0m()\n"
      ]
     },
     "metadata": {},
     "output_type": "display_data"
    },
    {
     "data": {
      "text/html": [
       "<pre style=\"white-space:pre;overflow-x:auto;line-height:normal;font-family:Menlo,'DejaVu Sans Mono',consolas,'Courier New',monospace\">22:09:57.106 | <span style=\"color: #008080; text-decoration-color: #008080\">INFO</span>    | Flow run<span style=\"color: #800080; text-decoration-color: #800080\"> 'peculiar-bear'</span> - Finished in state <span style=\"color: #008000; text-decoration-color: #008000\">Completed</span>()\n",
       "</pre>\n"
      ],
      "text/plain": [
       "22:09:57.106 | \u001b[36mINFO\u001b[0m    | Flow run\u001b[35m 'peculiar-bear'\u001b[0m - Finished in state \u001b[32mCompleted\u001b[0m()\n"
      ]
     },
     "metadata": {},
     "output_type": "display_data"
    },
    {
     "data": {
      "text/html": [
       "<pre style=\"white-space:pre;overflow-x:auto;line-height:normal;font-family:Menlo,'DejaVu Sans Mono',consolas,'Courier New',monospace\"><span style=\"color: #808000; text-decoration-color: #808000; font-weight: bold\">Summaries:</span>\n",
       "</pre>\n"
      ],
      "text/plain": [
       "\u001b[1;33mSummaries:\u001b[0m\n"
      ]
     },
     "metadata": {},
     "output_type": "display_data"
    },
    {
     "name": "stdout",
     "output_type": "stream",
     "text": [
      "('{\\n'\n",
      " '    \"files\": [\\n'\n",
      " '        {\\n'\n",
      " '            \"file_path\": '\n",
      " '\"/home/rakesh/Downloads/sample_data/four/dsflsdflj.txt\",\\n'\n",
      " '            \"summary\": \"This file discusses the rise of Vertical Large '\n",
      " 'Language Model (LLM) Agents as the next big wave in Software as a Service '\n",
      " '(SaaS) innovations. It highlights how these AI agents tailored to specific '\n",
      " 'industries can revolutionize workflows and complex tasks, using the success '\n",
      " 'story of Case Text\\'s Co-Counsel as an example.\"\\n'\n",
      " '        },\\n'\n",
      " '        {\\n'\n",
      " '            \"file_path\": '\n",
      " '\"/home/rakesh/Downloads/sample_data/four/random_file.txt\",\\n'\n",
      " '            \"summary\": \"This file contains a test file with some basic '\n",
      " 'information, including a bank account number.\"\\n'\n",
      " '        },\\n'\n",
      " '        {\\n'\n",
      " '            \"file_path\": '\n",
      " '\"/home/rakesh/Downloads/sample_data/four/shad.txt\",\\n'\n",
      " '            \"summary\": \"This file provides an overview of various Next.js '\n",
      " 'starter projects, including information about their features, tech stacks, '\n",
      " 'and GitHub repository details. It covers 8 different Next.js boilerplates '\n",
      " 'recommended by the Next.js Starter Directory website.\"\\n'\n",
      " '        }\\n'\n",
      " '    ],\\n'\n",
      " '    \"usage\": {\\n'\n",
      " '        \"completion_tokens\": 273,\\n'\n",
      " '        \"prompt_tokens\": 1739,\\n'\n",
      " '        \"total_tokens\": 2012\\n'\n",
      " '    },\\n'\n",
      " '    \"cost\": 0.0\\n'\n",
      " '}')\n"
     ]
    },
    {
     "data": {
      "text/html": [
       "<pre style=\"white-space:pre;overflow-x:auto;line-height:normal;font-family:Menlo,'DejaVu Sans Mono',consolas,'Courier New',monospace\">\n",
       "<span style=\"color: #808000; text-decoration-color: #808000; font-weight: bold\">File Tree:</span>\n",
       "</pre>\n"
      ],
      "text/plain": [
       "\n",
       "\u001b[1;33mFile Tree:\u001b[0m\n"
      ]
     },
     "metadata": {},
     "output_type": "display_data"
    },
    {
     "name": "stdout",
     "output_type": "stream",
     "text": [
      "('[\\n'\n",
      " '    {\\n'\n",
      " '        \"src_path\": '\n",
      " '\"/home/rakesh/Downloads/sample_data/four/dsflsdflj.txt\",\\n'\n",
      " '        \"dst_path\": '\n",
      " '\"/home/rakesh/Downloads/sample_data/four_organized/technology/vertical_llms/dsflsdflj.txt\",\\n'\n",
      " '        \"dst_path_new\": '\n",
      " '\"/home/rakesh/Downloads/sample_data/four_organized/technology/vertical_llms/dsflsdflj_v1.txt\"\\n'\n",
      " '    },\\n'\n",
      " '    {\\n'\n",
      " '        \"src_path\": '\n",
      " '\"/home/rakesh/Downloads/sample_data/four/random_file.txt\",\\n'\n",
      " '        \"dst_path\": '\n",
      " '\"/home/rakesh/Downloads/sample_data/four_organized/misc/random_file.txt\",\\n'\n",
      " '        \"dst_path_new\": '\n",
      " '\"/home/rakesh/Downloads/sample_data/four_organized/misc/random_file_v1.txt\"\\n'\n",
      " '    },\\n'\n",
      " '    {\\n'\n",
      " '        \"src_path\": \"/home/rakesh/Downloads/sample_data/four/shad.txt\",\\n'\n",
      " '        \"dst_path\": '\n",
      " '\"/home/rakesh/Downloads/sample_data/four_organized/technology/nextjs_starters/shad.txt\",\\n'\n",
      " '        \"dst_path_new\": '\n",
      " '\"/home/rakesh/Downloads/sample_data/four_organized/technology/nextjs_starters/shad_v1.txt\"\\n'\n",
      " '    }\\n'\n",
      " ']')\n"
     ]
    },
    {
     "data": {
      "text/html": [
       "<pre style=\"white-space:pre;overflow-x:auto;line-height:normal;font-family:Menlo,'DejaVu Sans Mono',consolas,'Courier New',monospace\">\n",
       "<span style=\"color: #808000; text-decoration-color: #808000; font-weight: bold\">Concatenated Data:</span>\n",
       "</pre>\n"
      ],
      "text/plain": [
       "\n",
       "\u001b[1;33mConcatenated Data:\u001b[0m\n"
      ]
     },
     "metadata": {},
     "output_type": "display_data"
    },
    {
     "name": "stdout",
     "output_type": "stream",
     "text": [
      "('[\\n'\n",
      " '    {\\n'\n",
      " '        \"file_path\": '\n",
      " '\"/home/rakesh/Downloads/sample_data/four/dsflsdflj.txt\",\\n'\n",
      " '        \"summary\": \"This file discusses the rise of Vertical Large Language '\n",
      " 'Model (LLM) Agents as the next big wave in Software as a Service (SaaS) '\n",
      " 'innovations. It highlights how these AI agents tailored to specific '\n",
      " 'industries can revolutionize workflows and complex tasks, using the success '\n",
      " 'story of Case Text\\'s Co-Counsel as an example.\",\\n'\n",
      " '        \"dst_path\": '\n",
      " '\"/home/rakesh/Downloads/sample_data/four_organized/technology/vertical_llms/dsflsdflj.txt\",\\n'\n",
      " '        \"dst_path_new\": '\n",
      " '\"/home/rakesh/Downloads/sample_data/four_organized/technology/vertical_llms/dsflsdflj_v1.txt\"\\n'\n",
      " '    },\\n'\n",
      " '    {\\n'\n",
      " '        \"file_path\": '\n",
      " '\"/home/rakesh/Downloads/sample_data/four/random_file.txt\",\\n'\n",
      " '        \"summary\": \"This file contains a test file with some basic '\n",
      " 'information, including a bank account number.\",\\n'\n",
      " '        \"dst_path\": '\n",
      " '\"/home/rakesh/Downloads/sample_data/four_organized/misc/random_file.txt\",\\n'\n",
      " '        \"dst_path_new\": '\n",
      " '\"/home/rakesh/Downloads/sample_data/four_organized/misc/random_file_v1.txt\"\\n'\n",
      " '    },\\n'\n",
      " '    {\\n'\n",
      " '        \"file_path\": \"/home/rakesh/Downloads/sample_data/four/shad.txt\",\\n'\n",
      " '        \"summary\": \"This file provides an overview of various Next.js '\n",
      " 'starter projects, including information about their features, tech stacks, '\n",
      " 'and GitHub repository details. It covers 8 different Next.js boilerplates '\n",
      " 'recommended by the Next.js Starter Directory website.\",\\n'\n",
      " '        \"dst_path\": '\n",
      " '\"/home/rakesh/Downloads/sample_data/four_organized/technology/nextjs_starters/shad.txt\",\\n'\n",
      " '        \"dst_path_new\": '\n",
      " '\"/home/rakesh/Downloads/sample_data/four_organized/technology/nextjs_starters/shad_v1.txt\"\\n'\n",
      " '    }\\n'\n",
      " ']')\n"
     ]
    }
   ],
   "source": [
    "\n",
    "if __name__ == \"__main__\":\n",
    "    # Define your parameters\n",
    "    source_directory = \"/home/rakesh/Downloads/sample_data/four/\"  # Replace with your actual source documents path\n",
    "    destination_directory = \"/home/rakesh/Downloads/sample_data/four_organized/\"  # Replace with your desired destination path\n",
    "    api_host = \"localhost\"                                         # API host address (not needed if api_base is provided)\n",
    "    api_port = 8111                                                # API port number\n",
    "    summary_model = \"anthropic/claude-3-haiku-20240307\"\n",
    "    tree_model = \"anthropic/claude-3-haiku-20240307\"\n",
    "    api_base_url = \"https://api.anthropic.com\"                     # Base URL for the API\n",
    "    use_streaming = False                                          # Set to True if you want streaming\n",
    "\n",
    "    # Ensure destination directory exists\n",
    "    os.makedirs(destination_directory, exist_ok=True)\n",
    "\n",
    "    # Run the workflow\n",
    "    organized_files_result = document_processing_workflow(\n",
    "        source_path=source_directory,\n",
    "        destination_path=destination_directory,\n",
    "        api_host=api_host,\n",
    "        api_port=api_port,\n",
    "        summary_model=summary_model,\n",
    "        tree_model=tree_model,\n",
    "        api_base=api_base_url,                                  # Providing the API base URL\n",
    "        stream=use_streaming\n",
    "    )\n",
    "\n",
    "    # Extract the results\n",
    "    summaries = organized_files_result.get(\"summaries\", {})\n",
    "    file_tree = organized_files_result.get(\"file_tree\", [])\n",
    "    concatenated_data = organized_files_result.get(\"concatenated_data\", [])\n",
    "\n",
    "    # Optionally, pretty-print the results using Rich\n",
    "    console.print(\"[bold yellow]Summaries:[/bold yellow]\")\n",
    "    pprint(json.dumps(summaries, indent=4))\n",
    "\n",
    "    console.print(\"\\n[bold yellow]File Tree:[/bold yellow]\")\n",
    "    pprint(json.dumps(file_tree, indent=4))\n",
    "\n",
    "    console.print(\"\\n[bold yellow]Concatenated Data:[/bold yellow]\")\n",
    "    pprint(json.dumps(concatenated_data, indent=4))\n"
   ]
  },
  {
   "cell_type": "markdown",
   "metadata": {},
   "source": [
    "### Openrouter - gemini-2.0-flash-exp:free"
   ]
  },
  {
   "cell_type": "code",
   "execution_count": 26,
   "metadata": {},
   "outputs": [
    {
     "data": {
      "text/html": [
       "<pre style=\"white-space:pre;overflow-x:auto;line-height:normal;font-family:Menlo,'DejaVu Sans Mono',consolas,'Courier New',monospace\">23:16:49.917 | <span style=\"color: #008080; text-decoration-color: #008080\">INFO</span>    | prefect.engine - Created flow run<span style=\"color: #800080; text-decoration-color: #800080\"> 'married-woodlouse'</span> for flow<span style=\"color: #800080; text-decoration-color: #800080; font-weight: bold\"> 'Document Processing Workflow'</span>\n",
       "</pre>\n"
      ],
      "text/plain": [
       "23:16:49.917 | \u001b[36mINFO\u001b[0m    | prefect.engine - Created flow run\u001b[35m 'married-woodlouse'\u001b[0m for flow\u001b[1;35m 'Document Processing Workflow'\u001b[0m\n"
      ]
     },
     "metadata": {},
     "output_type": "display_data"
    },
    {
     "data": {
      "text/html": [
       "<pre style=\"white-space:pre;overflow-x:auto;line-height:normal;font-family:Menlo,'DejaVu Sans Mono',consolas,'Courier New',monospace\">23:16:49.969 | <span style=\"color: #008080; text-decoration-color: #008080\">INFO</span>    | prefect - Success callback set successfully.\n",
       "</pre>\n"
      ],
      "text/plain": [
       "23:16:49.969 | \u001b[36mINFO\u001b[0m    | prefect - Success callback set successfully.\n"
      ]
     },
     "metadata": {},
     "output_type": "display_data"
    },
    {
     "data": {
      "text/html": [
       "<pre style=\"white-space:pre;overflow-x:auto;line-height:normal;font-family:Menlo,'DejaVu Sans Mono',consolas,'Courier New',monospace\">23:16:49.971 | <span style=\"color: #008080; text-decoration-color: #008080\">INFO</span>    | Task run 'set_success_callback-105' - Finished in state <span style=\"color: #008000; text-decoration-color: #008000\">Completed</span>()\n",
       "</pre>\n"
      ],
      "text/plain": [
       "23:16:49.971 | \u001b[36mINFO\u001b[0m    | Task run 'set_success_callback-105' - Finished in state \u001b[32mCompleted\u001b[0m()\n"
      ]
     },
     "metadata": {},
     "output_type": "display_data"
    },
    {
     "data": {
      "text/html": [
       "<pre style=\"white-space:pre;overflow-x:auto;line-height:normal;font-family:Menlo,'DejaVu Sans Mono',consolas,'Courier New',monospace\"><span style=\"font-style: italic\">                                              Available Ollama Models                                              </span>\n",
       "                   ╷              ╷              ╷              ╷            ╷             ╷        ╷              \n",
       " <span style=\"font-weight: bold\"> Model Name       </span>│<span style=\"font-weight: bold\"> Modified At  </span>│<span style=\"font-weight: bold\"> Digest       </span>│<span style=\"font-weight: bold\"> Size (bytes) </span>│<span style=\"font-weight: bold\"> Param Size </span>│<span style=\"font-weight: bold\"> Quant Level </span>│<span style=\"font-weight: bold\"> Family </span>│<span style=\"font-weight: bold\"> Families    </span> \n",
       " ══════════════════╪══════════════╪══════════════╪══════════════╪════════════╪═════════════╪════════╪═════════════ \n",
       " <span style=\"color: #008080; text-decoration-color: #008080\"> smollm2:135m     </span>│<span style=\"color: #800080; text-decoration-color: #800080\"> 2024-12-18   </span>│<span style=\"color: #008000; text-decoration-color: #008000\"> 9077fe9d2ae… </span>│<span style=\"color: #808000; text-decoration-color: #808000\">    270898672 </span>│<span style=\"color: #808000; text-decoration-color: #808000\">    134.52M </span>│<span style=\"color: #000080; text-decoration-color: #000080\"> F16         </span>│<span style=\"color: #800000; text-decoration-color: #800000\"> llama  </span>│<span style=\"color: #800000; text-decoration-color: #800000\"> llama       </span> \n",
       " <span style=\"color: #008080; text-decoration-color: #008080\">                  </span>│<span style=\"color: #800080; text-decoration-color: #800080\"> 11:49:06.80… </span>│<span style=\"color: #008000; text-decoration-color: #008000\">              </span>│<span style=\"color: #808000; text-decoration-color: #808000\">              </span>│<span style=\"color: #808000; text-decoration-color: #808000\">            </span>│<span style=\"color: #000080; text-decoration-color: #000080\">             </span>│<span style=\"color: #800000; text-decoration-color: #800000\">        </span>│<span style=\"color: #800000; text-decoration-color: #800000\">             </span> \n",
       " <span style=\"color: #008080; text-decoration-color: #008080\"> llava:latest     </span>│<span style=\"color: #800080; text-decoration-color: #800080\"> 2024-12-07   </span>│<span style=\"color: #008000; text-decoration-color: #008000\"> 8dd30f6b0cb… </span>│<span style=\"color: #808000; text-decoration-color: #808000\">   4733363377 </span>│<span style=\"color: #808000; text-decoration-color: #808000\">         7B </span>│<span style=\"color: #000080; text-decoration-color: #000080\"> Q4_0        </span>│<span style=\"color: #800000; text-decoration-color: #800000\"> llama  </span>│<span style=\"color: #800000; text-decoration-color: #800000\"> llama, clip </span> \n",
       " <span style=\"color: #008080; text-decoration-color: #008080\">                  </span>│<span style=\"color: #800080; text-decoration-color: #800080\"> 23:46:35.56… </span>│<span style=\"color: #008000; text-decoration-color: #008000\">              </span>│<span style=\"color: #808000; text-decoration-color: #808000\">              </span>│<span style=\"color: #808000; text-decoration-color: #808000\">            </span>│<span style=\"color: #000080; text-decoration-color: #000080\">             </span>│<span style=\"color: #800000; text-decoration-color: #800000\">        </span>│<span style=\"color: #800000; text-decoration-color: #800000\">             </span> \n",
       " <span style=\"color: #008080; text-decoration-color: #008080\"> moondream:latest </span>│<span style=\"color: #800080; text-decoration-color: #800080\"> 2024-12-07   </span>│<span style=\"color: #008000; text-decoration-color: #008000\"> 55fc3abd386… </span>│<span style=\"color: #808000; text-decoration-color: #808000\">   1738451197 </span>│<span style=\"color: #808000; text-decoration-color: #808000\">         1B </span>│<span style=\"color: #000080; text-decoration-color: #000080\"> Q4_0        </span>│<span style=\"color: #800000; text-decoration-color: #800000\"> phi2   </span>│<span style=\"color: #800000; text-decoration-color: #800000\"> phi2, clip  </span> \n",
       " <span style=\"color: #008080; text-decoration-color: #008080\">                  </span>│<span style=\"color: #800080; text-decoration-color: #800080\"> 22:19:46.41… </span>│<span style=\"color: #008000; text-decoration-color: #008000\">              </span>│<span style=\"color: #808000; text-decoration-color: #808000\">              </span>│<span style=\"color: #808000; text-decoration-color: #808000\">            </span>│<span style=\"color: #000080; text-decoration-color: #000080\">             </span>│<span style=\"color: #800000; text-decoration-color: #800000\">        </span>│<span style=\"color: #800000; text-decoration-color: #800000\">             </span> \n",
       " <span style=\"color: #008080; text-decoration-color: #008080\"> llama3.2:latest  </span>│<span style=\"color: #800080; text-decoration-color: #800080\"> 2024-12-07   </span>│<span style=\"color: #008000; text-decoration-color: #008000\"> a80c4f17acd… </span>│<span style=\"color: #808000; text-decoration-color: #808000\">   2019393189 </span>│<span style=\"color: #808000; text-decoration-color: #808000\">       3.2B </span>│<span style=\"color: #000080; text-decoration-color: #000080\"> Q4_K_M      </span>│<span style=\"color: #800000; text-decoration-color: #800000\"> llama  </span>│<span style=\"color: #800000; text-decoration-color: #800000\"> llama       </span> \n",
       " <span style=\"color: #008080; text-decoration-color: #008080\">                  </span>│<span style=\"color: #800080; text-decoration-color: #800080\"> 22:18:36.84… </span>│<span style=\"color: #008000; text-decoration-color: #008000\">              </span>│<span style=\"color: #808000; text-decoration-color: #808000\">              </span>│<span style=\"color: #808000; text-decoration-color: #808000\">            </span>│<span style=\"color: #000080; text-decoration-color: #000080\">             </span>│<span style=\"color: #800000; text-decoration-color: #800000\">        </span>│<span style=\"color: #800000; text-decoration-color: #800000\">             </span> \n",
       "                   ╵              ╵              ╵              ╵            ╵             ╵        ╵              \n",
       "</pre>\n"
      ],
      "text/plain": [
       "\u001b[3m                                              Available Ollama Models                                              \u001b[0m\n",
       "                   ╷              ╷              ╷              ╷            ╷             ╷        ╷              \n",
       " \u001b[1m \u001b[0m\u001b[1mModel Name      \u001b[0m\u001b[1m \u001b[0m│\u001b[1m \u001b[0m\u001b[1mModified At \u001b[0m\u001b[1m \u001b[0m│\u001b[1m \u001b[0m\u001b[1mDigest      \u001b[0m\u001b[1m \u001b[0m│\u001b[1m \u001b[0m\u001b[1mSize (bytes)\u001b[0m\u001b[1m \u001b[0m│\u001b[1m \u001b[0m\u001b[1mParam Size\u001b[0m\u001b[1m \u001b[0m│\u001b[1m \u001b[0m\u001b[1mQuant Level\u001b[0m\u001b[1m \u001b[0m│\u001b[1m \u001b[0m\u001b[1mFamily\u001b[0m\u001b[1m \u001b[0m│\u001b[1m \u001b[0m\u001b[1mFamilies   \u001b[0m\u001b[1m \u001b[0m \n",
       " ══════════════════╪══════════════╪══════════════╪══════════════╪════════════╪═════════════╪════════╪═════════════ \n",
       " \u001b[36m \u001b[0m\u001b[36msmollm2:135m    \u001b[0m\u001b[36m \u001b[0m│\u001b[35m \u001b[0m\u001b[35m2024-12-18  \u001b[0m\u001b[35m \u001b[0m│\u001b[32m \u001b[0m\u001b[32m9077fe9d2ae…\u001b[0m\u001b[32m \u001b[0m│\u001b[33m \u001b[0m\u001b[33m   270898672\u001b[0m\u001b[33m \u001b[0m│\u001b[33m \u001b[0m\u001b[33m   134.52M\u001b[0m\u001b[33m \u001b[0m│\u001b[34m \u001b[0m\u001b[34mF16        \u001b[0m\u001b[34m \u001b[0m│\u001b[31m \u001b[0m\u001b[31mllama \u001b[0m\u001b[31m \u001b[0m│\u001b[31m \u001b[0m\u001b[31mllama      \u001b[0m\u001b[31m \u001b[0m \n",
       " \u001b[36m                  \u001b[0m│\u001b[35m \u001b[0m\u001b[35m11:49:06.80…\u001b[0m\u001b[35m \u001b[0m│\u001b[32m              \u001b[0m│\u001b[33m              \u001b[0m│\u001b[33m            \u001b[0m│\u001b[34m             \u001b[0m│\u001b[31m        \u001b[0m│\u001b[31m             \u001b[0m \n",
       " \u001b[36m \u001b[0m\u001b[36mllava:latest    \u001b[0m\u001b[36m \u001b[0m│\u001b[35m \u001b[0m\u001b[35m2024-12-07  \u001b[0m\u001b[35m \u001b[0m│\u001b[32m \u001b[0m\u001b[32m8dd30f6b0cb…\u001b[0m\u001b[32m \u001b[0m│\u001b[33m \u001b[0m\u001b[33m  4733363377\u001b[0m\u001b[33m \u001b[0m│\u001b[33m \u001b[0m\u001b[33m        7B\u001b[0m\u001b[33m \u001b[0m│\u001b[34m \u001b[0m\u001b[34mQ4_0       \u001b[0m\u001b[34m \u001b[0m│\u001b[31m \u001b[0m\u001b[31mllama \u001b[0m\u001b[31m \u001b[0m│\u001b[31m \u001b[0m\u001b[31mllama, clip\u001b[0m\u001b[31m \u001b[0m \n",
       " \u001b[36m                  \u001b[0m│\u001b[35m \u001b[0m\u001b[35m23:46:35.56…\u001b[0m\u001b[35m \u001b[0m│\u001b[32m              \u001b[0m│\u001b[33m              \u001b[0m│\u001b[33m            \u001b[0m│\u001b[34m             \u001b[0m│\u001b[31m        \u001b[0m│\u001b[31m             \u001b[0m \n",
       " \u001b[36m \u001b[0m\u001b[36mmoondream:latest\u001b[0m\u001b[36m \u001b[0m│\u001b[35m \u001b[0m\u001b[35m2024-12-07  \u001b[0m\u001b[35m \u001b[0m│\u001b[32m \u001b[0m\u001b[32m55fc3abd386…\u001b[0m\u001b[32m \u001b[0m│\u001b[33m \u001b[0m\u001b[33m  1738451197\u001b[0m\u001b[33m \u001b[0m│\u001b[33m \u001b[0m\u001b[33m        1B\u001b[0m\u001b[33m \u001b[0m│\u001b[34m \u001b[0m\u001b[34mQ4_0       \u001b[0m\u001b[34m \u001b[0m│\u001b[31m \u001b[0m\u001b[31mphi2  \u001b[0m\u001b[31m \u001b[0m│\u001b[31m \u001b[0m\u001b[31mphi2, clip \u001b[0m\u001b[31m \u001b[0m \n",
       " \u001b[36m                  \u001b[0m│\u001b[35m \u001b[0m\u001b[35m22:19:46.41…\u001b[0m\u001b[35m \u001b[0m│\u001b[32m              \u001b[0m│\u001b[33m              \u001b[0m│\u001b[33m            \u001b[0m│\u001b[34m             \u001b[0m│\u001b[31m        \u001b[0m│\u001b[31m             \u001b[0m \n",
       " \u001b[36m \u001b[0m\u001b[36mllama3.2:latest \u001b[0m\u001b[36m \u001b[0m│\u001b[35m \u001b[0m\u001b[35m2024-12-07  \u001b[0m\u001b[35m \u001b[0m│\u001b[32m \u001b[0m\u001b[32ma80c4f17acd…\u001b[0m\u001b[32m \u001b[0m│\u001b[33m \u001b[0m\u001b[33m  2019393189\u001b[0m\u001b[33m \u001b[0m│\u001b[33m \u001b[0m\u001b[33m      3.2B\u001b[0m\u001b[33m \u001b[0m│\u001b[34m \u001b[0m\u001b[34mQ4_K_M     \u001b[0m\u001b[34m \u001b[0m│\u001b[31m \u001b[0m\u001b[31mllama \u001b[0m\u001b[31m \u001b[0m│\u001b[31m \u001b[0m\u001b[31mllama      \u001b[0m\u001b[31m \u001b[0m \n",
       " \u001b[36m                  \u001b[0m│\u001b[35m \u001b[0m\u001b[35m22:18:36.84…\u001b[0m\u001b[35m \u001b[0m│\u001b[32m              \u001b[0m│\u001b[33m              \u001b[0m│\u001b[33m            \u001b[0m│\u001b[34m             \u001b[0m│\u001b[31m        \u001b[0m│\u001b[31m             \u001b[0m \n",
       "                   ╵              ╵              ╵              ╵            ╵             ╵        ╵              \n"
      ]
     },
     "metadata": {},
     "output_type": "display_data"
    },
    {
     "data": {
      "text/html": [
       "<pre style=\"white-space:pre;overflow-x:auto;line-height:normal;font-family:Menlo,'DejaVu Sans Mono',consolas,'Courier New',monospace\">23:16:50.004 | <span style=\"color: #008080; text-decoration-color: #008080\">INFO</span>    | Task run 'list_ollama_models-4d8' - Finished in state <span style=\"color: #008000; text-decoration-color: #008000\">Completed</span>()\n",
       "</pre>\n"
      ],
      "text/plain": [
       "23:16:50.004 | \u001b[36mINFO\u001b[0m    | Task run 'list_ollama_models-4d8' - Finished in state \u001b[32mCompleted\u001b[0m()\n"
      ]
     },
     "metadata": {},
     "output_type": "display_data"
    },
    {
     "data": {
      "text/html": [
       "<pre style=\"white-space:pre;overflow-x:auto;line-height:normal;font-family:Menlo,'DejaVu Sans Mono',consolas,'Courier New',monospace\">23:16:50.030 | <span style=\"color: #008080; text-decoration-color: #008080\">INFO</span>    | prefect - Loaded 3 documents from /home/rakesh/Downloads/sample_data/four/\n",
       "</pre>\n"
      ],
      "text/plain": [
       "23:16:50.030 | \u001b[36mINFO\u001b[0m    | prefect - Loaded 3 documents from /home/rakesh/Downloads/sample_data/four/\n"
      ]
     },
     "metadata": {},
     "output_type": "display_data"
    },
    {
     "data": {
      "text/html": [
       "<pre style=\"white-space:pre;overflow-x:auto;line-height:normal;font-family:Menlo,'DejaVu Sans Mono',consolas,'Courier New',monospace\"><span style=\"color: #008000; text-decoration-color: #008000; font-weight: bold\">Loaded </span><span style=\"color: #008000; text-decoration-color: #008000; font-weight: bold\">3</span><span style=\"color: #008000; text-decoration-color: #008000; font-weight: bold\"> documents from /home/rakesh/Downloads/sample_data/four/</span>\n",
       "</pre>\n"
      ],
      "text/plain": [
       "\u001b[1;32mLoaded \u001b[0m\u001b[1;32m3\u001b[0m\u001b[1;32m documents from \u001b[0m\u001b[1;32m/home/rakesh/Downloads/sample_data/four/\u001b[0m\n"
      ]
     },
     "metadata": {},
     "output_type": "display_data"
    },
    {
     "data": {
      "text/html": [
       "<pre style=\"white-space:pre;overflow-x:auto;line-height:normal;font-family:Menlo,'DejaVu Sans Mono',consolas,'Courier New',monospace\">23:16:50.034 | <span style=\"color: #008080; text-decoration-color: #008080\">INFO</span>    | Task run 'load_documents-807' - Finished in state <span style=\"color: #008000; text-decoration-color: #008000\">Completed</span>()\n",
       "</pre>\n"
      ],
      "text/plain": [
       "23:16:50.034 | \u001b[36mINFO\u001b[0m    | Task run 'load_documents-807' - Finished in state \u001b[32mCompleted\u001b[0m()\n"
      ]
     },
     "metadata": {},
     "output_type": "display_data"
    },
    {
     "data": {
      "text/html": [
       "<pre style=\"white-space:pre;overflow-x:auto;line-height:normal;font-family:Menlo,'DejaVu Sans Mono',consolas,'Courier New',monospace\">23:16:50.061 | <span style=\"color: #008080; text-decoration-color: #008080\">INFO</span>    | prefect - Processed metadata: 3 unique documents\n",
       "</pre>\n"
      ],
      "text/plain": [
       "23:16:50.061 | \u001b[36mINFO\u001b[0m    | prefect - Processed metadata: 3 unique documents\n"
      ]
     },
     "metadata": {},
     "output_type": "display_data"
    },
    {
     "data": {
      "text/html": [
       "<pre style=\"white-space:pre;overflow-x:auto;line-height:normal;font-family:Menlo,'DejaVu Sans Mono',consolas,'Courier New',monospace\"><span style=\"color: #008000; text-decoration-color: #008000; font-weight: bold\">Processed metadata: </span><span style=\"color: #008000; text-decoration-color: #008000; font-weight: bold\">3</span><span style=\"color: #008000; text-decoration-color: #008000; font-weight: bold\"> unique documents</span>\n",
       "</pre>\n"
      ],
      "text/plain": [
       "\u001b[1;32mProcessed metadata: \u001b[0m\u001b[1;32m3\u001b[0m\u001b[1;32m unique documents\u001b[0m\n"
      ]
     },
     "metadata": {},
     "output_type": "display_data"
    },
    {
     "data": {
      "text/html": [
       "<pre style=\"white-space:pre;overflow-x:auto;line-height:normal;font-family:Menlo,'DejaVu Sans Mono',consolas,'Courier New',monospace\">23:16:50.065 | <span style=\"color: #008080; text-decoration-color: #008080\">INFO</span>    | Task run 'process_metadata-47a' - Finished in state <span style=\"color: #008000; text-decoration-color: #008000\">Completed</span>()\n",
       "</pre>\n"
      ],
      "text/plain": [
       "23:16:50.065 | \u001b[36mINFO\u001b[0m    | Task run 'process_metadata-47a' - Finished in state \u001b[32mCompleted\u001b[0m()\n"
      ]
     },
     "metadata": {},
     "output_type": "display_data"
    },
    {
     "name": "stdout",
     "output_type": "stream",
     "text": [
      ">>>> Content summary:\n",
      "```json\n",
      "{\n",
      "  \"files\": [\n",
      "    {\n",
      "      \"file_path\": \"/home/rakesh/Downloads/sample_data/four/dsflsdflj.txt\",\n",
      "      \"summary\": \"Discusses the emergence of Vertical Large Language Model (LLM) Agents in SaaS, using Case Text's Co-Counsel as an example of success in the legal industry.\"\n",
      "    },\n",
      "    {\n",
      "      \"file_path\": \"/home/rakesh/Downloads/sample_data/four/random_file.txt\",\n",
      "      \"summary\": \"Contains a short text with a bank account number: 1234567890.\"\n",
      "    },\n",
      "    {\n",
      "      \"file_path\": \"/home/rakesh/Downloads/sample_data/four/shad.txt\",\n",
      "      \"summary\": \"Lists and describes 8 Next.js starter projects, including their tech stacks (framework, styling, UI libraries, databases, and other features)\"\n",
      "    }\n",
      "  ]\n",
      "}\n",
      "```\n",
      "\n"
     ]
    },
    {
     "data": {
      "text/html": [
       "<pre style=\"white-space:pre;overflow-x:auto;line-height:normal;font-family:Menlo,'DejaVu Sans Mono',consolas,'Courier New',monospace\">23:16:54.016 | <span style=\"color: #d70000; text-decoration-color: #d70000\">ERROR</span>   | prefect - Error decoding JSON content from summaries.\n",
       "</pre>\n"
      ],
      "text/plain": [
       "23:16:54.016 | \u001b[38;5;160mERROR\u001b[0m   | prefect - Error decoding JSON content from summaries.\n"
      ]
     },
     "metadata": {},
     "output_type": "display_data"
    },
    {
     "data": {
      "text/html": [
       "<pre style=\"white-space:pre;overflow-x:auto;line-height:normal;font-family:Menlo,'DejaVu Sans Mono',consolas,'Courier New',monospace\"><span style=\"color: #800000; text-decoration-color: #800000; font-weight: bold\">Error decoding JSON content from summaries.</span>\n",
       "</pre>\n"
      ],
      "text/plain": [
       "\u001b[1;31mError decoding JSON content from summaries.\u001b[0m\n"
      ]
     },
     "metadata": {},
     "output_type": "display_data"
    },
    {
     "data": {
      "text/html": [
       "<pre style=\"white-space:pre;overflow-x:auto;line-height:normal;font-family:Menlo,'DejaVu Sans Mono',consolas,'Courier New',monospace\">23:16:54.020 | <span style=\"color: #008080; text-decoration-color: #008080\">INFO</span>    | prefect - Generated summaries for 0 files with cost 0.0\n",
       "</pre>\n"
      ],
      "text/plain": [
       "23:16:54.020 | \u001b[36mINFO\u001b[0m    | prefect - Generated summaries for 0 files with cost 0.0\n"
      ]
     },
     "metadata": {},
     "output_type": "display_data"
    },
    {
     "data": {
      "text/html": [
       "<pre style=\"white-space:pre;overflow-x:auto;line-height:normal;font-family:Menlo,'DejaVu Sans Mono',consolas,'Courier New',monospace\"><span style=\"color: #008000; text-decoration-color: #008000; font-weight: bold\">Generated summaries for </span><span style=\"color: #008000; text-decoration-color: #008000; font-weight: bold\">0</span><span style=\"color: #008000; text-decoration-color: #008000; font-weight: bold\"> files with cost </span><span style=\"color: #008000; text-decoration-color: #008000; font-weight: bold\">0.0</span>\n",
       "</pre>\n"
      ],
      "text/plain": [
       "\u001b[1;32mGenerated summaries for \u001b[0m\u001b[1;32m0\u001b[0m\u001b[1;32m files with cost \u001b[0m\u001b[1;32m0.0\u001b[0m\n"
      ]
     },
     "metadata": {},
     "output_type": "display_data"
    },
    {
     "data": {
      "text/html": [
       "<pre style=\"white-space:pre;overflow-x:auto;line-height:normal;font-family:Menlo,'DejaVu Sans Mono',consolas,'Courier New',monospace\">23:16:54.024 | <span style=\"color: #008080; text-decoration-color: #008080\">INFO</span>    | Task run 'query_summaries-9f1' - Finished in state <span style=\"color: #008000; text-decoration-color: #008000\">Completed</span>()\n",
       "</pre>\n"
      ],
      "text/plain": [
       "23:16:54.024 | \u001b[36mINFO\u001b[0m    | Task run 'query_summaries-9f1' - Finished in state \u001b[32mCompleted\u001b[0m()\n"
      ]
     },
     "metadata": {},
     "output_type": "display_data"
    },
    {
     "data": {
      "text/html": [
       "<pre style=\"white-space:pre;overflow-x:auto;line-height:normal;font-family:Menlo,'DejaVu Sans Mono',consolas,'Courier New',monospace\">23:16:54.091 | <span style=\"color: #008080; text-decoration-color: #008080\">INFO</span>    | prefect - Calculated cost: 0.00555\n",
       "</pre>\n"
      ],
      "text/plain": [
       "23:16:54.091 | \u001b[36mINFO\u001b[0m    | prefect - Calculated cost: 0.00555\n"
      ]
     },
     "metadata": {},
     "output_type": "display_data"
    },
    {
     "data": {
      "text/html": [
       "<pre style=\"white-space:pre;overflow-x:auto;line-height:normal;font-family:Menlo,'DejaVu Sans Mono',consolas,'Courier New',monospace\"><span style=\"color: #008000; text-decoration-color: #008000; font-weight: bold\">Calculated cost:</span> <span style=\"color: #808000; text-decoration-color: #808000; font-weight: bold\">0.00555</span>\n",
       "</pre>\n"
      ],
      "text/plain": [
       "\u001b[1;32mCalculated cost:\u001b[0m \u001b[1;33m0.00555\u001b[0m\n"
      ]
     },
     "metadata": {},
     "output_type": "display_data"
    },
    {
     "data": {
      "text/html": [
       "<pre style=\"white-space:pre;overflow-x:auto;line-height:normal;font-family:Menlo,'DejaVu Sans Mono',consolas,'Courier New',monospace\">23:16:54.102 | <span style=\"color: #008080; text-decoration-color: #008080\">INFO</span>    | Task run 'track_cost_callback' - Finished in state <span style=\"color: #008000; text-decoration-color: #008000\">Completed</span>()\n",
       "</pre>\n"
      ],
      "text/plain": [
       "23:16:54.102 | \u001b[36mINFO\u001b[0m    | Task run 'track_cost_callback' - Finished in state \u001b[32mCompleted\u001b[0m()\n"
      ]
     },
     "metadata": {},
     "output_type": "display_data"
    },
    {
     "data": {
      "text/html": [
       "<pre style=\"white-space:pre;overflow-x:auto;line-height:normal;font-family:Menlo,'DejaVu Sans Mono',consolas,'Courier New',monospace\">23:16:55.041 | <span style=\"color: #008080; text-decoration-color: #008080\">INFO</span>    | prefect - Created file tree for 0 files\n",
       "</pre>\n"
      ],
      "text/plain": [
       "23:16:55.041 | \u001b[36mINFO\u001b[0m    | prefect - Created file tree for 0 files\n"
      ]
     },
     "metadata": {},
     "output_type": "display_data"
    },
    {
     "data": {
      "text/html": [
       "<pre style=\"white-space:pre;overflow-x:auto;line-height:normal;font-family:Menlo,'DejaVu Sans Mono',consolas,'Courier New',monospace\"><span style=\"color: #008000; text-decoration-color: #008000; font-weight: bold\">Created file tree for </span><span style=\"color: #008000; text-decoration-color: #008000; font-weight: bold\">0</span><span style=\"color: #008000; text-decoration-color: #008000; font-weight: bold\"> files</span>\n",
       "</pre>\n"
      ],
      "text/plain": [
       "\u001b[1;32mCreated file tree for \u001b[0m\u001b[1;32m0\u001b[0m\u001b[1;32m files\u001b[0m\n"
      ]
     },
     "metadata": {},
     "output_type": "display_data"
    },
    {
     "data": {
      "text/html": [
       "<pre style=\"white-space:pre;overflow-x:auto;line-height:normal;font-family:Menlo,'DejaVu Sans Mono',consolas,'Courier New',monospace\">23:16:55.047 | <span style=\"color: #008080; text-decoration-color: #008080\">INFO</span>    | Task run 'create_file_tree-744' - Finished in state <span style=\"color: #008000; text-decoration-color: #008000\">Completed</span>()\n",
       "</pre>\n"
      ],
      "text/plain": [
       "23:16:55.047 | \u001b[36mINFO\u001b[0m    | Task run 'create_file_tree-744' - Finished in state \u001b[32mCompleted\u001b[0m()\n"
      ]
     },
     "metadata": {},
     "output_type": "display_data"
    },
    {
     "data": {
      "text/html": [
       "<pre style=\"white-space:pre;overflow-x:auto;line-height:normal;font-family:Menlo,'DejaVu Sans Mono',consolas,'Courier New',monospace\">23:16:55.108 | <span style=\"color: #008080; text-decoration-color: #008080\">INFO</span>    | prefect - All necessary subdirectories created.\n",
       "</pre>\n"
      ],
      "text/plain": [
       "23:16:55.108 | \u001b[36mINFO\u001b[0m    | prefect - All necessary subdirectories created.\n"
      ]
     },
     "metadata": {},
     "output_type": "display_data"
    },
    {
     "data": {
      "text/html": [
       "<pre style=\"white-space:pre;overflow-x:auto;line-height:normal;font-family:Menlo,'DejaVu Sans Mono',consolas,'Courier New',monospace\"><span style=\"color: #008000; text-decoration-color: #008000; font-weight: bold\">All necessary subdirectories created.</span>\n",
       "</pre>\n"
      ],
      "text/plain": [
       "\u001b[1;32mAll necessary subdirectories created.\u001b[0m\n"
      ]
     },
     "metadata": {},
     "output_type": "display_data"
    },
    {
     "data": {
      "text/html": [
       "<pre style=\"white-space:pre;overflow-x:auto;line-height:normal;font-family:Menlo,'DejaVu Sans Mono',consolas,'Courier New',monospace\">23:16:55.111 | <span style=\"color: #008080; text-decoration-color: #008080\">INFO</span>    | prefect - Calculated cost: 0.001419\n",
       "</pre>\n"
      ],
      "text/plain": [
       "23:16:55.111 | \u001b[36mINFO\u001b[0m    | prefect - Calculated cost: 0.001419\n"
      ]
     },
     "metadata": {},
     "output_type": "display_data"
    },
    {
     "data": {
      "text/html": [
       "<pre style=\"white-space:pre;overflow-x:auto;line-height:normal;font-family:Menlo,'DejaVu Sans Mono',consolas,'Courier New',monospace\"><span style=\"color: #008000; text-decoration-color: #008000; font-weight: bold\">Calculated cost:</span> <span style=\"color: #808000; text-decoration-color: #808000; font-weight: bold\">0.001419</span>\n",
       "</pre>\n"
      ],
      "text/plain": [
       "\u001b[1;32mCalculated cost:\u001b[0m \u001b[1;33m0.001419\u001b[0m\n"
      ]
     },
     "metadata": {},
     "output_type": "display_data"
    },
    {
     "data": {
      "text/html": [
       "<pre style=\"white-space:pre;overflow-x:auto;line-height:normal;font-family:Menlo,'DejaVu Sans Mono',consolas,'Courier New',monospace\">23:16:55.114 | <span style=\"color: #008080; text-decoration-color: #008080\">INFO</span>    | Task run 'create_subdirectories-38a' - Finished in state <span style=\"color: #008000; text-decoration-color: #008000\">Completed</span>()\n",
       "</pre>\n"
      ],
      "text/plain": [
       "23:16:55.114 | \u001b[36mINFO\u001b[0m    | Task run 'create_subdirectories-38a' - Finished in state \u001b[32mCompleted\u001b[0m()\n"
      ]
     },
     "metadata": {},
     "output_type": "display_data"
    },
    {
     "data": {
      "text/html": [
       "<pre style=\"white-space:pre;overflow-x:auto;line-height:normal;font-family:Menlo,'DejaVu Sans Mono',consolas,'Courier New',monospace\">23:16:55.118 | <span style=\"color: #008080; text-decoration-color: #008080\">INFO</span>    | Task run 'track_cost_callback' - Finished in state <span style=\"color: #008000; text-decoration-color: #008000\">Completed</span>()\n",
       "</pre>\n"
      ],
      "text/plain": [
       "23:16:55.118 | \u001b[36mINFO\u001b[0m    | Task run 'track_cost_callback' - Finished in state \u001b[32mCompleted\u001b[0m()\n"
      ]
     },
     "metadata": {},
     "output_type": "display_data"
    },
    {
     "data": {
      "text/html": [
       "<pre style=\"white-space:pre;overflow-x:auto;line-height:normal;font-family:Menlo,'DejaVu Sans Mono',consolas,'Courier New',monospace\">23:16:55.140 | <span style=\"color: #008080; text-decoration-color: #008080\">INFO</span>    | prefect - Concatenated summary and file tree for 0 files\n",
       "</pre>\n"
      ],
      "text/plain": [
       "23:16:55.140 | \u001b[36mINFO\u001b[0m    | prefect - Concatenated summary and file tree for 0 files\n"
      ]
     },
     "metadata": {},
     "output_type": "display_data"
    },
    {
     "data": {
      "text/html": [
       "<pre style=\"white-space:pre;overflow-x:auto;line-height:normal;font-family:Menlo,'DejaVu Sans Mono',consolas,'Courier New',monospace\"><span style=\"color: #008000; text-decoration-color: #008000; font-weight: bold\">Concatenated summary and file tree for </span><span style=\"color: #008000; text-decoration-color: #008000; font-weight: bold\">0</span><span style=\"color: #008000; text-decoration-color: #008000; font-weight: bold\"> files</span>\n",
       "</pre>\n"
      ],
      "text/plain": [
       "\u001b[1;32mConcatenated summary and file tree for \u001b[0m\u001b[1;32m0\u001b[0m\u001b[1;32m files\u001b[0m\n"
      ]
     },
     "metadata": {},
     "output_type": "display_data"
    },
    {
     "data": {
      "text/html": [
       "<pre style=\"white-space:pre;overflow-x:auto;line-height:normal;font-family:Menlo,'DejaVu Sans Mono',consolas,'Courier New',monospace\">23:16:55.143 | <span style=\"color: #008080; text-decoration-color: #008080\">INFO</span>    | Task run 'concatenate_summaries_and_file_tree-a6a' - Finished in state <span style=\"color: #008000; text-decoration-color: #008000\">Completed</span>()\n",
       "</pre>\n"
      ],
      "text/plain": [
       "23:16:55.143 | \u001b[36mINFO\u001b[0m    | Task run 'concatenate_summaries_and_file_tree-a6a' - Finished in state \u001b[32mCompleted\u001b[0m()\n"
      ]
     },
     "metadata": {},
     "output_type": "display_data"
    },
    {
     "data": {
      "text/html": [
       "<pre style=\"white-space:pre;overflow-x:auto;line-height:normal;font-family:Menlo,'DejaVu Sans Mono',consolas,'Courier New',monospace\"><span style=\"color: #800000; text-decoration-color: #800000; font-weight: bold\">No organized files to display.</span>\n",
       "</pre>\n"
      ],
      "text/plain": [
       "\u001b[1;31mNo organized files to display.\u001b[0m\n"
      ]
     },
     "metadata": {},
     "output_type": "display_data"
    },
    {
     "data": {
      "text/html": [
       "<pre style=\"white-space:pre;overflow-x:auto;line-height:normal;font-family:Menlo,'DejaVu Sans Mono',consolas,'Courier New',monospace\">23:16:55.168 | <span style=\"color: #008080; text-decoration-color: #008080\">INFO</span>    | Task run 'display_organized_files-b8f' - Finished in state <span style=\"color: #008000; text-decoration-color: #008000\">Completed</span>()\n",
       "</pre>\n"
      ],
      "text/plain": [
       "23:16:55.168 | \u001b[36mINFO\u001b[0m    | Task run 'display_organized_files-b8f' - Finished in state \u001b[32mCompleted\u001b[0m()\n"
      ]
     },
     "metadata": {},
     "output_type": "display_data"
    },
    {
     "data": {
      "text/html": [
       "<pre style=\"white-space:pre;overflow-x:auto;line-height:normal;font-family:Menlo,'DejaVu Sans Mono',consolas,'Courier New',monospace\"><span style=\"color: #800000; text-decoration-color: #800000; font-weight: bold\">No concatenated data to display.</span>\n",
       "</pre>\n"
      ],
      "text/plain": [
       "\u001b[1;31mNo concatenated data to display.\u001b[0m\n"
      ]
     },
     "metadata": {},
     "output_type": "display_data"
    },
    {
     "data": {
      "text/html": [
       "<pre style=\"white-space:pre;overflow-x:auto;line-height:normal;font-family:Menlo,'DejaVu Sans Mono',consolas,'Courier New',monospace\">23:16:55.193 | <span style=\"color: #008080; text-decoration-color: #008080\">INFO</span>    | Task run 'display_concatenated_dict-1cd' - Finished in state <span style=\"color: #008000; text-decoration-color: #008000\">Completed</span>()\n",
       "</pre>\n"
      ],
      "text/plain": [
       "23:16:55.193 | \u001b[36mINFO\u001b[0m    | Task run 'display_concatenated_dict-1cd' - Finished in state \u001b[32mCompleted\u001b[0m()\n"
      ]
     },
     "metadata": {},
     "output_type": "display_data"
    },
    {
     "data": {
      "text/html": [
       "<pre style=\"white-space:pre;overflow-x:auto;line-height:normal;font-family:Menlo,'DejaVu Sans Mono',consolas,'Courier New',monospace\">23:16:55.227 | <span style=\"color: #008080; text-decoration-color: #008080\">INFO</span>    | Flow run<span style=\"color: #800080; text-decoration-color: #800080\"> 'married-woodlouse'</span> - Finished in state <span style=\"color: #008000; text-decoration-color: #008000\">Completed</span>()\n",
       "</pre>\n"
      ],
      "text/plain": [
       "23:16:55.227 | \u001b[36mINFO\u001b[0m    | Flow run\u001b[35m 'married-woodlouse'\u001b[0m - Finished in state \u001b[32mCompleted\u001b[0m()\n"
      ]
     },
     "metadata": {},
     "output_type": "display_data"
    },
    {
     "data": {
      "text/html": [
       "<pre style=\"white-space:pre;overflow-x:auto;line-height:normal;font-family:Menlo,'DejaVu Sans Mono',consolas,'Courier New',monospace\"><span style=\"color: #808000; text-decoration-color: #808000; font-weight: bold\">Summaries:</span>\n",
       "</pre>\n"
      ],
      "text/plain": [
       "\u001b[1;33mSummaries:\u001b[0m\n"
      ]
     },
     "metadata": {},
     "output_type": "display_data"
    },
    {
     "name": "stdout",
     "output_type": "stream",
     "text": [
      "('{\\n'\n",
      " '    \"files\": [],\\n'\n",
      " '    \"usage\": {\\n'\n",
      " '        \"completion_tokens\": 221,\\n'\n",
      " '        \"prompt_tokens\": 1629,\\n'\n",
      " '        \"total_tokens\": 1850\\n'\n",
      " '    },\\n'\n",
      " '    \"cost\": 0.0\\n'\n",
      " '}')\n"
     ]
    },
    {
     "data": {
      "text/html": [
       "<pre style=\"white-space:pre;overflow-x:auto;line-height:normal;font-family:Menlo,'DejaVu Sans Mono',consolas,'Courier New',monospace\">\n",
       "<span style=\"color: #808000; text-decoration-color: #808000; font-weight: bold\">File Tree:</span>\n",
       "</pre>\n"
      ],
      "text/plain": [
       "\n",
       "\u001b[1;33mFile Tree:\u001b[0m\n"
      ]
     },
     "metadata": {},
     "output_type": "display_data"
    },
    {
     "name": "stdout",
     "output_type": "stream",
     "text": [
      "'[]'\n"
     ]
    },
    {
     "data": {
      "text/html": [
       "<pre style=\"white-space:pre;overflow-x:auto;line-height:normal;font-family:Menlo,'DejaVu Sans Mono',consolas,'Courier New',monospace\">\n",
       "<span style=\"color: #808000; text-decoration-color: #808000; font-weight: bold\">Concatenated Data:</span>\n",
       "</pre>\n"
      ],
      "text/plain": [
       "\n",
       "\u001b[1;33mConcatenated Data:\u001b[0m\n"
      ]
     },
     "metadata": {},
     "output_type": "display_data"
    },
    {
     "name": "stdout",
     "output_type": "stream",
     "text": [
      "'[]'\n"
     ]
    }
   ],
   "source": [
    "\n",
    "if __name__ == \"__main__\":\n",
    "    # Define your parameters\n",
    "    source_directory = \"/home/rakesh/Downloads/sample_data/four/\"  # Replace with your actual source documents path\n",
    "    destination_directory = \"/home/rakesh/Downloads/sample_data/four_organized_or/\"  # Replace with your desired destination path\n",
    "    api_host = \"localhost\"                                         # API host address (not needed if api_base is provided)\n",
    "    api_port = 8111                                                # API port number\n",
    "    summary_model = \"openrouter/google/gemini-2.0-flash-exp:free\"\n",
    "    tree_model = \"openrouter/google/gemini-2.0-flash-exp:free\"\n",
    "    api_base_url = \"https://openrouter.ai/api/v1\"                     # Base URL for the API\n",
    "    use_streaming = False                                          # Set to True if you want streaming\n",
    "    # model=\"ollama/smollm2:135m\",\n",
    "\n",
    "    # Ensure destination directory exists\n",
    "    os.makedirs(destination_directory, exist_ok=True)\n",
    "\n",
    "    # Run the workflow\n",
    "    organized_files_result = document_processing_workflow(\n",
    "        source_path=source_directory,\n",
    "        destination_path=destination_directory,\n",
    "        api_host=api_host,\n",
    "        api_port=api_port,\n",
    "        summary_model=summary_model,\n",
    "        tree_model=tree_model,\n",
    "        api_base=api_base_url,                                  # Providing the API base URL\n",
    "        stream=use_streaming\n",
    "    )\n",
    "\n",
    "    # Extract the results\n",
    "    summaries = organized_files_result.get(\"summaries\", {})\n",
    "    file_tree = organized_files_result.get(\"file_tree\", [])\n",
    "    concatenated_data = organized_files_result.get(\"concatenated_data\", [])\n",
    "\n",
    "    # Optionally, pretty-print the results using Rich\n",
    "    console.print(\"[bold yellow]Summaries:[/bold yellow]\")\n",
    "    pprint(json.dumps(summaries, indent=4))\n",
    "\n",
    "    console.print(\"\\n[bold yellow]File Tree:[/bold yellow]\")\n",
    "    pprint(json.dumps(file_tree, indent=4))\n",
    "\n",
    "    console.print(\"\\n[bold yellow]Concatenated Data:[/bold yellow]\")\n",
    "    pprint(json.dumps(concatenated_data, indent=4))\n"
   ]
  },
  {
   "cell_type": "markdown",
   "metadata": {},
   "source": [
    "### Ollama"
   ]
  },
  {
   "cell_type": "code",
   "execution_count": 7,
   "metadata": {},
   "outputs": [
    {
     "data": {
      "text/html": [
       "<pre style=\"white-space:pre;overflow-x:auto;line-height:normal;font-family:Menlo,'DejaVu Sans Mono',consolas,'Courier New',monospace\">22:23:53.892 | <span style=\"color: #008080; text-decoration-color: #008080\">INFO</span>    | prefect.engine - Created flow run<span style=\"color: #800080; text-decoration-color: #800080\"> 'cream-snake'</span> for flow<span style=\"color: #800080; text-decoration-color: #800080; font-weight: bold\"> 'Document Processing Workflow'</span>\n",
       "</pre>\n"
      ],
      "text/plain": [
       "22:23:53.892 | \u001b[36mINFO\u001b[0m    | prefect.engine - Created flow run\u001b[35m 'cream-snake'\u001b[0m for flow\u001b[1;35m 'Document Processing Workflow'\u001b[0m\n"
      ]
     },
     "metadata": {},
     "output_type": "display_data"
    },
    {
     "data": {
      "text/html": [
       "<pre style=\"white-space:pre;overflow-x:auto;line-height:normal;font-family:Menlo,'DejaVu Sans Mono',consolas,'Courier New',monospace\">22:23:53.945 | <span style=\"color: #008080; text-decoration-color: #008080\">INFO</span>    | prefect - Success callback set successfully.\n",
       "</pre>\n"
      ],
      "text/plain": [
       "22:23:53.945 | \u001b[36mINFO\u001b[0m    | prefect - Success callback set successfully.\n"
      ]
     },
     "metadata": {},
     "output_type": "display_data"
    },
    {
     "data": {
      "text/html": [
       "<pre style=\"white-space:pre;overflow-x:auto;line-height:normal;font-family:Menlo,'DejaVu Sans Mono',consolas,'Courier New',monospace\">22:23:53.947 | <span style=\"color: #008080; text-decoration-color: #008080\">INFO</span>    | Task run 'set_success_callback-551' - Finished in state <span style=\"color: #008000; text-decoration-color: #008000\">Completed</span>()\n",
       "</pre>\n"
      ],
      "text/plain": [
       "22:23:53.947 | \u001b[36mINFO\u001b[0m    | Task run 'set_success_callback-551' - Finished in state \u001b[32mCompleted\u001b[0m()\n"
      ]
     },
     "metadata": {},
     "output_type": "display_data"
    },
    {
     "data": {
      "text/html": [
       "<pre style=\"white-space:pre;overflow-x:auto;line-height:normal;font-family:Menlo,'DejaVu Sans Mono',consolas,'Courier New',monospace\"><span style=\"font-style: italic\">                                              Available Ollama Models                                              </span>\n",
       "                   ╷              ╷              ╷              ╷            ╷             ╷        ╷              \n",
       " <span style=\"font-weight: bold\"> Model Name       </span>│<span style=\"font-weight: bold\"> Modified At  </span>│<span style=\"font-weight: bold\"> Digest       </span>│<span style=\"font-weight: bold\"> Size (bytes) </span>│<span style=\"font-weight: bold\"> Param Size </span>│<span style=\"font-weight: bold\"> Quant Level </span>│<span style=\"font-weight: bold\"> Family </span>│<span style=\"font-weight: bold\"> Families    </span> \n",
       " ══════════════════╪══════════════╪══════════════╪══════════════╪════════════╪═════════════╪════════╪═════════════ \n",
       " <span style=\"color: #008080; text-decoration-color: #008080\"> smollm2:135m     </span>│<span style=\"color: #800080; text-decoration-color: #800080\"> 2024-12-18   </span>│<span style=\"color: #008000; text-decoration-color: #008000\"> 9077fe9d2ae… </span>│<span style=\"color: #808000; text-decoration-color: #808000\">    270898672 </span>│<span style=\"color: #808000; text-decoration-color: #808000\">    134.52M </span>│<span style=\"color: #000080; text-decoration-color: #000080\"> F16         </span>│<span style=\"color: #800000; text-decoration-color: #800000\"> llama  </span>│<span style=\"color: #800000; text-decoration-color: #800000\"> llama       </span> \n",
       " <span style=\"color: #008080; text-decoration-color: #008080\">                  </span>│<span style=\"color: #800080; text-decoration-color: #800080\"> 11:49:06.80… </span>│<span style=\"color: #008000; text-decoration-color: #008000\">              </span>│<span style=\"color: #808000; text-decoration-color: #808000\">              </span>│<span style=\"color: #808000; text-decoration-color: #808000\">            </span>│<span style=\"color: #000080; text-decoration-color: #000080\">             </span>│<span style=\"color: #800000; text-decoration-color: #800000\">        </span>│<span style=\"color: #800000; text-decoration-color: #800000\">             </span> \n",
       " <span style=\"color: #008080; text-decoration-color: #008080\"> llava:latest     </span>│<span style=\"color: #800080; text-decoration-color: #800080\"> 2024-12-07   </span>│<span style=\"color: #008000; text-decoration-color: #008000\"> 8dd30f6b0cb… </span>│<span style=\"color: #808000; text-decoration-color: #808000\">   4733363377 </span>│<span style=\"color: #808000; text-decoration-color: #808000\">         7B </span>│<span style=\"color: #000080; text-decoration-color: #000080\"> Q4_0        </span>│<span style=\"color: #800000; text-decoration-color: #800000\"> llama  </span>│<span style=\"color: #800000; text-decoration-color: #800000\"> llama, clip </span> \n",
       " <span style=\"color: #008080; text-decoration-color: #008080\">                  </span>│<span style=\"color: #800080; text-decoration-color: #800080\"> 23:46:35.56… </span>│<span style=\"color: #008000; text-decoration-color: #008000\">              </span>│<span style=\"color: #808000; text-decoration-color: #808000\">              </span>│<span style=\"color: #808000; text-decoration-color: #808000\">            </span>│<span style=\"color: #000080; text-decoration-color: #000080\">             </span>│<span style=\"color: #800000; text-decoration-color: #800000\">        </span>│<span style=\"color: #800000; text-decoration-color: #800000\">             </span> \n",
       " <span style=\"color: #008080; text-decoration-color: #008080\"> moondream:latest </span>│<span style=\"color: #800080; text-decoration-color: #800080\"> 2024-12-07   </span>│<span style=\"color: #008000; text-decoration-color: #008000\"> 55fc3abd386… </span>│<span style=\"color: #808000; text-decoration-color: #808000\">   1738451197 </span>│<span style=\"color: #808000; text-decoration-color: #808000\">         1B </span>│<span style=\"color: #000080; text-decoration-color: #000080\"> Q4_0        </span>│<span style=\"color: #800000; text-decoration-color: #800000\"> phi2   </span>│<span style=\"color: #800000; text-decoration-color: #800000\"> phi2, clip  </span> \n",
       " <span style=\"color: #008080; text-decoration-color: #008080\">                  </span>│<span style=\"color: #800080; text-decoration-color: #800080\"> 22:19:46.41… </span>│<span style=\"color: #008000; text-decoration-color: #008000\">              </span>│<span style=\"color: #808000; text-decoration-color: #808000\">              </span>│<span style=\"color: #808000; text-decoration-color: #808000\">            </span>│<span style=\"color: #000080; text-decoration-color: #000080\">             </span>│<span style=\"color: #800000; text-decoration-color: #800000\">        </span>│<span style=\"color: #800000; text-decoration-color: #800000\">             </span> \n",
       " <span style=\"color: #008080; text-decoration-color: #008080\"> llama3.2:latest  </span>│<span style=\"color: #800080; text-decoration-color: #800080\"> 2024-12-07   </span>│<span style=\"color: #008000; text-decoration-color: #008000\"> a80c4f17acd… </span>│<span style=\"color: #808000; text-decoration-color: #808000\">   2019393189 </span>│<span style=\"color: #808000; text-decoration-color: #808000\">       3.2B </span>│<span style=\"color: #000080; text-decoration-color: #000080\"> Q4_K_M      </span>│<span style=\"color: #800000; text-decoration-color: #800000\"> llama  </span>│<span style=\"color: #800000; text-decoration-color: #800000\"> llama       </span> \n",
       " <span style=\"color: #008080; text-decoration-color: #008080\">                  </span>│<span style=\"color: #800080; text-decoration-color: #800080\"> 22:18:36.84… </span>│<span style=\"color: #008000; text-decoration-color: #008000\">              </span>│<span style=\"color: #808000; text-decoration-color: #808000\">              </span>│<span style=\"color: #808000; text-decoration-color: #808000\">            </span>│<span style=\"color: #000080; text-decoration-color: #000080\">             </span>│<span style=\"color: #800000; text-decoration-color: #800000\">        </span>│<span style=\"color: #800000; text-decoration-color: #800000\">             </span> \n",
       "                   ╵              ╵              ╵              ╵            ╵             ╵        ╵              \n",
       "</pre>\n"
      ],
      "text/plain": [
       "\u001b[3m                                              Available Ollama Models                                              \u001b[0m\n",
       "                   ╷              ╷              ╷              ╷            ╷             ╷        ╷              \n",
       " \u001b[1m \u001b[0m\u001b[1mModel Name      \u001b[0m\u001b[1m \u001b[0m│\u001b[1m \u001b[0m\u001b[1mModified At \u001b[0m\u001b[1m \u001b[0m│\u001b[1m \u001b[0m\u001b[1mDigest      \u001b[0m\u001b[1m \u001b[0m│\u001b[1m \u001b[0m\u001b[1mSize (bytes)\u001b[0m\u001b[1m \u001b[0m│\u001b[1m \u001b[0m\u001b[1mParam Size\u001b[0m\u001b[1m \u001b[0m│\u001b[1m \u001b[0m\u001b[1mQuant Level\u001b[0m\u001b[1m \u001b[0m│\u001b[1m \u001b[0m\u001b[1mFamily\u001b[0m\u001b[1m \u001b[0m│\u001b[1m \u001b[0m\u001b[1mFamilies   \u001b[0m\u001b[1m \u001b[0m \n",
       " ══════════════════╪══════════════╪══════════════╪══════════════╪════════════╪═════════════╪════════╪═════════════ \n",
       " \u001b[36m \u001b[0m\u001b[36msmollm2:135m    \u001b[0m\u001b[36m \u001b[0m│\u001b[35m \u001b[0m\u001b[35m2024-12-18  \u001b[0m\u001b[35m \u001b[0m│\u001b[32m \u001b[0m\u001b[32m9077fe9d2ae…\u001b[0m\u001b[32m \u001b[0m│\u001b[33m \u001b[0m\u001b[33m   270898672\u001b[0m\u001b[33m \u001b[0m│\u001b[33m \u001b[0m\u001b[33m   134.52M\u001b[0m\u001b[33m \u001b[0m│\u001b[34m \u001b[0m\u001b[34mF16        \u001b[0m\u001b[34m \u001b[0m│\u001b[31m \u001b[0m\u001b[31mllama \u001b[0m\u001b[31m \u001b[0m│\u001b[31m \u001b[0m\u001b[31mllama      \u001b[0m\u001b[31m \u001b[0m \n",
       " \u001b[36m                  \u001b[0m│\u001b[35m \u001b[0m\u001b[35m11:49:06.80…\u001b[0m\u001b[35m \u001b[0m│\u001b[32m              \u001b[0m│\u001b[33m              \u001b[0m│\u001b[33m            \u001b[0m│\u001b[34m             \u001b[0m│\u001b[31m        \u001b[0m│\u001b[31m             \u001b[0m \n",
       " \u001b[36m \u001b[0m\u001b[36mllava:latest    \u001b[0m\u001b[36m \u001b[0m│\u001b[35m \u001b[0m\u001b[35m2024-12-07  \u001b[0m\u001b[35m \u001b[0m│\u001b[32m \u001b[0m\u001b[32m8dd30f6b0cb…\u001b[0m\u001b[32m \u001b[0m│\u001b[33m \u001b[0m\u001b[33m  4733363377\u001b[0m\u001b[33m \u001b[0m│\u001b[33m \u001b[0m\u001b[33m        7B\u001b[0m\u001b[33m \u001b[0m│\u001b[34m \u001b[0m\u001b[34mQ4_0       \u001b[0m\u001b[34m \u001b[0m│\u001b[31m \u001b[0m\u001b[31mllama \u001b[0m\u001b[31m \u001b[0m│\u001b[31m \u001b[0m\u001b[31mllama, clip\u001b[0m\u001b[31m \u001b[0m \n",
       " \u001b[36m                  \u001b[0m│\u001b[35m \u001b[0m\u001b[35m23:46:35.56…\u001b[0m\u001b[35m \u001b[0m│\u001b[32m              \u001b[0m│\u001b[33m              \u001b[0m│\u001b[33m            \u001b[0m│\u001b[34m             \u001b[0m│\u001b[31m        \u001b[0m│\u001b[31m             \u001b[0m \n",
       " \u001b[36m \u001b[0m\u001b[36mmoondream:latest\u001b[0m\u001b[36m \u001b[0m│\u001b[35m \u001b[0m\u001b[35m2024-12-07  \u001b[0m\u001b[35m \u001b[0m│\u001b[32m \u001b[0m\u001b[32m55fc3abd386…\u001b[0m\u001b[32m \u001b[0m│\u001b[33m \u001b[0m\u001b[33m  1738451197\u001b[0m\u001b[33m \u001b[0m│\u001b[33m \u001b[0m\u001b[33m        1B\u001b[0m\u001b[33m \u001b[0m│\u001b[34m \u001b[0m\u001b[34mQ4_0       \u001b[0m\u001b[34m \u001b[0m│\u001b[31m \u001b[0m\u001b[31mphi2  \u001b[0m\u001b[31m \u001b[0m│\u001b[31m \u001b[0m\u001b[31mphi2, clip \u001b[0m\u001b[31m \u001b[0m \n",
       " \u001b[36m                  \u001b[0m│\u001b[35m \u001b[0m\u001b[35m22:19:46.41…\u001b[0m\u001b[35m \u001b[0m│\u001b[32m              \u001b[0m│\u001b[33m              \u001b[0m│\u001b[33m            \u001b[0m│\u001b[34m             \u001b[0m│\u001b[31m        \u001b[0m│\u001b[31m             \u001b[0m \n",
       " \u001b[36m \u001b[0m\u001b[36mllama3.2:latest \u001b[0m\u001b[36m \u001b[0m│\u001b[35m \u001b[0m\u001b[35m2024-12-07  \u001b[0m\u001b[35m \u001b[0m│\u001b[32m \u001b[0m\u001b[32ma80c4f17acd…\u001b[0m\u001b[32m \u001b[0m│\u001b[33m \u001b[0m\u001b[33m  2019393189\u001b[0m\u001b[33m \u001b[0m│\u001b[33m \u001b[0m\u001b[33m      3.2B\u001b[0m\u001b[33m \u001b[0m│\u001b[34m \u001b[0m\u001b[34mQ4_K_M     \u001b[0m\u001b[34m \u001b[0m│\u001b[31m \u001b[0m\u001b[31mllama \u001b[0m\u001b[31m \u001b[0m│\u001b[31m \u001b[0m\u001b[31mllama      \u001b[0m\u001b[31m \u001b[0m \n",
       " \u001b[36m                  \u001b[0m│\u001b[35m \u001b[0m\u001b[35m22:18:36.84…\u001b[0m\u001b[35m \u001b[0m│\u001b[32m              \u001b[0m│\u001b[33m              \u001b[0m│\u001b[33m            \u001b[0m│\u001b[34m             \u001b[0m│\u001b[31m        \u001b[0m│\u001b[31m             \u001b[0m \n",
       "                   ╵              ╵              ╵              ╵            ╵             ╵        ╵              \n"
      ]
     },
     "metadata": {},
     "output_type": "display_data"
    },
    {
     "data": {
      "text/html": [
       "<pre style=\"white-space:pre;overflow-x:auto;line-height:normal;font-family:Menlo,'DejaVu Sans Mono',consolas,'Courier New',monospace\">22:23:53.979 | <span style=\"color: #008080; text-decoration-color: #008080\">INFO</span>    | Task run 'list_ollama_models-6bb' - Finished in state <span style=\"color: #008000; text-decoration-color: #008000\">Completed</span>()\n",
       "</pre>\n"
      ],
      "text/plain": [
       "22:23:53.979 | \u001b[36mINFO\u001b[0m    | Task run 'list_ollama_models-6bb' - Finished in state \u001b[32mCompleted\u001b[0m()\n"
      ]
     },
     "metadata": {},
     "output_type": "display_data"
    },
    {
     "data": {
      "text/html": [
       "<pre style=\"white-space:pre;overflow-x:auto;line-height:normal;font-family:Menlo,'DejaVu Sans Mono',consolas,'Courier New',monospace\">22:23:54.003 | <span style=\"color: #008080; text-decoration-color: #008080\">INFO</span>    | prefect - Loaded 3 documents from /home/rakesh/Downloads/sample_data/four/\n",
       "</pre>\n"
      ],
      "text/plain": [
       "22:23:54.003 | \u001b[36mINFO\u001b[0m    | prefect - Loaded 3 documents from /home/rakesh/Downloads/sample_data/four/\n"
      ]
     },
     "metadata": {},
     "output_type": "display_data"
    },
    {
     "data": {
      "text/html": [
       "<pre style=\"white-space:pre;overflow-x:auto;line-height:normal;font-family:Menlo,'DejaVu Sans Mono',consolas,'Courier New',monospace\"><span style=\"color: #008000; text-decoration-color: #008000; font-weight: bold\">Loaded </span><span style=\"color: #008000; text-decoration-color: #008000; font-weight: bold\">3</span><span style=\"color: #008000; text-decoration-color: #008000; font-weight: bold\"> documents from /home/rakesh/Downloads/sample_data/four/</span>\n",
       "</pre>\n"
      ],
      "text/plain": [
       "\u001b[1;32mLoaded \u001b[0m\u001b[1;32m3\u001b[0m\u001b[1;32m documents from \u001b[0m\u001b[1;32m/home/rakesh/Downloads/sample_data/four/\u001b[0m\n"
      ]
     },
     "metadata": {},
     "output_type": "display_data"
    },
    {
     "data": {
      "text/html": [
       "<pre style=\"white-space:pre;overflow-x:auto;line-height:normal;font-family:Menlo,'DejaVu Sans Mono',consolas,'Courier New',monospace\">22:23:54.006 | <span style=\"color: #008080; text-decoration-color: #008080\">INFO</span>    | Task run 'load_documents-dc9' - Finished in state <span style=\"color: #008000; text-decoration-color: #008000\">Completed</span>()\n",
       "</pre>\n"
      ],
      "text/plain": [
       "22:23:54.006 | \u001b[36mINFO\u001b[0m    | Task run 'load_documents-dc9' - Finished in state \u001b[32mCompleted\u001b[0m()\n"
      ]
     },
     "metadata": {},
     "output_type": "display_data"
    },
    {
     "data": {
      "text/html": [
       "<pre style=\"white-space:pre;overflow-x:auto;line-height:normal;font-family:Menlo,'DejaVu Sans Mono',consolas,'Courier New',monospace\">22:23:54.034 | <span style=\"color: #008080; text-decoration-color: #008080\">INFO</span>    | prefect - Processed metadata: 3 unique documents\n",
       "</pre>\n"
      ],
      "text/plain": [
       "22:23:54.034 | \u001b[36mINFO\u001b[0m    | prefect - Processed metadata: 3 unique documents\n"
      ]
     },
     "metadata": {},
     "output_type": "display_data"
    },
    {
     "data": {
      "text/html": [
       "<pre style=\"white-space:pre;overflow-x:auto;line-height:normal;font-family:Menlo,'DejaVu Sans Mono',consolas,'Courier New',monospace\"><span style=\"color: #008000; text-decoration-color: #008000; font-weight: bold\">Processed metadata: </span><span style=\"color: #008000; text-decoration-color: #008000; font-weight: bold\">3</span><span style=\"color: #008000; text-decoration-color: #008000; font-weight: bold\"> unique documents</span>\n",
       "</pre>\n"
      ],
      "text/plain": [
       "\u001b[1;32mProcessed metadata: \u001b[0m\u001b[1;32m3\u001b[0m\u001b[1;32m unique documents\u001b[0m\n"
      ]
     },
     "metadata": {},
     "output_type": "display_data"
    },
    {
     "data": {
      "text/html": [
       "<pre style=\"white-space:pre;overflow-x:auto;line-height:normal;font-family:Menlo,'DejaVu Sans Mono',consolas,'Courier New',monospace\">22:23:54.037 | <span style=\"color: #008080; text-decoration-color: #008080\">INFO</span>    | Task run 'process_metadata-1ec' - Finished in state <span style=\"color: #008000; text-decoration-color: #008000\">Completed</span>()\n",
       "</pre>\n"
      ],
      "text/plain": [
       "22:23:54.037 | \u001b[36mINFO\u001b[0m    | Task run 'process_metadata-1ec' - Finished in state \u001b[32mCompleted\u001b[0m()\n"
      ]
     },
     "metadata": {},
     "output_type": "display_data"
    },
    {
     "data": {
      "text/html": [
       "<pre style=\"white-space:pre;overflow-x:auto;line-height:normal;font-family:Menlo,'DejaVu Sans Mono',consolas,'Courier New',monospace\">22:24:48.933 | <span style=\"color: #d70000; text-decoration-color: #d70000\">ERROR</span>   | prefect - Error decoding JSON content from summaries.\n",
       "</pre>\n"
      ],
      "text/plain": [
       "22:24:48.933 | \u001b[38;5;160mERROR\u001b[0m   | prefect - Error decoding JSON content from summaries.\n"
      ]
     },
     "metadata": {},
     "output_type": "display_data"
    },
    {
     "data": {
      "text/html": [
       "<pre style=\"white-space:pre;overflow-x:auto;line-height:normal;font-family:Menlo,'DejaVu Sans Mono',consolas,'Courier New',monospace\"><span style=\"color: #800000; text-decoration-color: #800000; font-weight: bold\">Error decoding JSON content from summaries.</span>\n",
       "</pre>\n"
      ],
      "text/plain": [
       "\u001b[1;31mError decoding JSON content from summaries.\u001b[0m\n"
      ]
     },
     "metadata": {},
     "output_type": "display_data"
    },
    {
     "data": {
      "text/html": [
       "<pre style=\"white-space:pre;overflow-x:auto;line-height:normal;font-family:Menlo,'DejaVu Sans Mono',consolas,'Courier New',monospace\">22:24:48.935 | <span style=\"color: #008080; text-decoration-color: #008080\">INFO</span>    | prefect - Generated summaries for 0 files with cost 0.0\n",
       "</pre>\n"
      ],
      "text/plain": [
       "22:24:48.935 | \u001b[36mINFO\u001b[0m    | prefect - Generated summaries for 0 files with cost 0.0\n"
      ]
     },
     "metadata": {},
     "output_type": "display_data"
    },
    {
     "data": {
      "text/html": [
       "<pre style=\"white-space:pre;overflow-x:auto;line-height:normal;font-family:Menlo,'DejaVu Sans Mono',consolas,'Courier New',monospace\"><span style=\"color: #008000; text-decoration-color: #008000; font-weight: bold\">Generated summaries for </span><span style=\"color: #008000; text-decoration-color: #008000; font-weight: bold\">0</span><span style=\"color: #008000; text-decoration-color: #008000; font-weight: bold\"> files with cost </span><span style=\"color: #008000; text-decoration-color: #008000; font-weight: bold\">0.0</span>\n",
       "</pre>\n"
      ],
      "text/plain": [
       "\u001b[1;32mGenerated summaries for \u001b[0m\u001b[1;32m0\u001b[0m\u001b[1;32m files with cost \u001b[0m\u001b[1;32m0.0\u001b[0m\n"
      ]
     },
     "metadata": {},
     "output_type": "display_data"
    },
    {
     "data": {
      "text/html": [
       "<pre style=\"white-space:pre;overflow-x:auto;line-height:normal;font-family:Menlo,'DejaVu Sans Mono',consolas,'Courier New',monospace\">22:24:48.938 | <span style=\"color: #008080; text-decoration-color: #008080\">INFO</span>    | Task run 'query_summaries-ddb' - Finished in state <span style=\"color: #008000; text-decoration-color: #008000\">Completed</span>()\n",
       "</pre>\n"
      ],
      "text/plain": [
       "22:24:48.938 | \u001b[36mINFO\u001b[0m    | Task run 'query_summaries-ddb' - Finished in state \u001b[32mCompleted\u001b[0m()\n"
      ]
     },
     "metadata": {},
     "output_type": "display_data"
    },
    {
     "data": {
      "text/html": [
       "<pre style=\"white-space:pre;overflow-x:auto;line-height:normal;font-family:Menlo,'DejaVu Sans Mono',consolas,'Courier New',monospace\">22:24:49.011 | <span style=\"color: #008080; text-decoration-color: #008080\">INFO</span>    | prefect - Calculated cost: 0.004728\n",
       "</pre>\n"
      ],
      "text/plain": [
       "22:24:49.011 | \u001b[36mINFO\u001b[0m    | prefect - Calculated cost: 0.004728\n"
      ]
     },
     "metadata": {},
     "output_type": "display_data"
    },
    {
     "data": {
      "text/html": [
       "<pre style=\"white-space:pre;overflow-x:auto;line-height:normal;font-family:Menlo,'DejaVu Sans Mono',consolas,'Courier New',monospace\"><span style=\"color: #008000; text-decoration-color: #008000; font-weight: bold\">Calculated cost:</span> <span style=\"color: #808000; text-decoration-color: #808000; font-weight: bold\">0.004728</span>\n",
       "</pre>\n"
      ],
      "text/plain": [
       "\u001b[1;32mCalculated cost:\u001b[0m \u001b[1;33m0.004728\u001b[0m\n"
      ]
     },
     "metadata": {},
     "output_type": "display_data"
    },
    {
     "data": {
      "text/html": [
       "<pre style=\"white-space:pre;overflow-x:auto;line-height:normal;font-family:Menlo,'DejaVu Sans Mono',consolas,'Courier New',monospace\">22:24:49.017 | <span style=\"color: #008080; text-decoration-color: #008080\">INFO</span>    | Task run 'track_cost_callback' - Finished in state <span style=\"color: #008000; text-decoration-color: #008000\">Completed</span>()\n",
       "</pre>\n"
      ],
      "text/plain": [
       "22:24:49.017 | \u001b[36mINFO\u001b[0m    | Task run 'track_cost_callback' - Finished in state \u001b[32mCompleted\u001b[0m()\n"
      ]
     },
     "metadata": {},
     "output_type": "display_data"
    },
    {
     "name": "stdout",
     "output_type": "stream",
     "text": [
      "\n",
      "\u001b[1;31mGive Feedback / Get Help: https://github.com/BerriAI/litellm/issues/new\u001b[0m\n",
      "LiteLLM.Info: If you need to debug this error, use `litellm.set_verbose=True'.\n",
      "\n"
     ]
    },
    {
     "data": {
      "text/html": [
       "<pre style=\"white-space:pre;overflow-x:auto;line-height:normal;font-family:Menlo,'DejaVu Sans Mono',consolas,'Courier New',monospace\">22:25:20.464 | <span style=\"color: #d70000; text-decoration-color: #d70000\">ERROR</span>   | prefect - LiteLLM Error &gt;&gt;&gt; litellm.APIConnectionError: 'name'\n",
       "Traceback (most recent call last):\n",
       "  File \"/home/rakesh/RD/NSRTech/Tauri/NextjsTauriShadCn/nst/.venv/lib/python3.12/site-packages/litellm/main.py\", line 2673, in completion\n",
       "    generator = ollama.get_ollama_response(\n",
       "                ^^^^^^^^^^^^^^^^^^^^^^^^^^^\n",
       "  File \"/home/rakesh/RD/NSRTech/Tauri/NextjsTauriShadCn/nst/.venv/lib/python3.12/site-packages/litellm/llms/ollama/completion/handler.py\", line 166, in get_ollama_response\n",
       "    \"name\": function_call[\"name\"],\n",
       "            ~~~~~~~~~~~~~^^^^^^^^\n",
       "KeyError: 'name'\n",
       "\n",
       "</pre>\n"
      ],
      "text/plain": [
       "22:25:20.464 | \u001b[38;5;160mERROR\u001b[0m   | prefect - LiteLLM Error >>> litellm.APIConnectionError: 'name'\n",
       "Traceback (most recent call last):\n",
       "  File \"/home/rakesh/RD/NSRTech/Tauri/NextjsTauriShadCn/nst/.venv/lib/python3.12/site-packages/litellm/main.py\", line 2673, in completion\n",
       "    generator = ollama.get_ollama_response(\n",
       "                ^^^^^^^^^^^^^^^^^^^^^^^^^^^\n",
       "  File \"/home/rakesh/RD/NSRTech/Tauri/NextjsTauriShadCn/nst/.venv/lib/python3.12/site-packages/litellm/llms/ollama/completion/handler.py\", line 166, in get_ollama_response\n",
       "    \"name\": function_call[\"name\"],\n",
       "            ~~~~~~~~~~~~~^^^^^^^^\n",
       "KeyError: 'name'\n",
       "\n"
      ]
     },
     "metadata": {},
     "output_type": "display_data"
    },
    {
     "data": {
      "text/html": [
       "<pre style=\"white-space:pre;overflow-x:auto;line-height:normal;font-family:Menlo,'DejaVu Sans Mono',consolas,'Courier New',monospace\"><span style=\"color: #800000; text-decoration-color: #800000; font-weight: bold\">LiteLLM Error:</span> litellm.APIConnectionError: <span style=\"color: #008000; text-decoration-color: #008000\">'name'</span>\n",
       "Traceback <span style=\"font-weight: bold\">(</span>most recent call last<span style=\"font-weight: bold\">)</span>:\n",
       "  File <span style=\"color: #008000; text-decoration-color: #008000\">\"/home/rakesh/RD/NSRTech/Tauri/NextjsTauriShadCn/nst/.venv/lib/python3.12/site-packages/litellm/main.py\"</span>, \n",
       "line <span style=\"color: #008080; text-decoration-color: #008080; font-weight: bold\">2673</span>, in completion\n",
       "    generator = <span style=\"color: #800080; text-decoration-color: #800080; font-weight: bold\">ollama.get_ollama_response</span><span style=\"font-weight: bold\">(</span>\n",
       "                ^^^^^^^^^^^^^^^^^^^^^^^^^^^\n",
       "  File \n",
       "<span style=\"color: #008000; text-decoration-color: #008000\">\"/home/rakesh/RD/NSRTech/Tauri/NextjsTauriShadCn/nst/.venv/lib/python3.12/site-packages/litellm/llms/ollama/complet</span>\n",
       "<span style=\"color: #008000; text-decoration-color: #008000\">ion/handler.py\"</span>, line <span style=\"color: #008080; text-decoration-color: #008080; font-weight: bold\">166</span>, in get_ollama_response\n",
       "    <span style=\"color: #008000; text-decoration-color: #008000\">\"name\"</span>: function_call<span style=\"font-weight: bold\">[</span><span style=\"color: #008000; text-decoration-color: #008000\">\"name\"</span><span style=\"font-weight: bold\">]</span>,\n",
       "            ~~~~~~~~~~~~~^^^^^^^^\n",
       "KeyError: <span style=\"color: #008000; text-decoration-color: #008000\">'name'</span>\n",
       "\n",
       "</pre>\n"
      ],
      "text/plain": [
       "\u001b[1;31mLiteLLM Error:\u001b[0m litellm.APIConnectionError: \u001b[32m'name'\u001b[0m\n",
       "Traceback \u001b[1m(\u001b[0mmost recent call last\u001b[1m)\u001b[0m:\n",
       "  File \u001b[32m\"/home/rakesh/RD/NSRTech/Tauri/NextjsTauriShadCn/nst/.venv/lib/python3.12/site-packages/litellm/main.py\"\u001b[0m, \n",
       "line \u001b[1;36m2673\u001b[0m, in completion\n",
       "    generator = \u001b[1;35mollama.get_ollama_response\u001b[0m\u001b[1m(\u001b[0m\n",
       "                ^^^^^^^^^^^^^^^^^^^^^^^^^^^\n",
       "  File \n",
       "\u001b[32m\"/home/rakesh/RD/NSRTech/Tauri/NextjsTauriShadCn/nst/.venv/lib/python3.12/site-packages/litellm/llms/ollama/complet\u001b[0m\n",
       "\u001b[32mion/handler.py\"\u001b[0m, line \u001b[1;36m166\u001b[0m, in get_ollama_response\n",
       "    \u001b[32m\"name\"\u001b[0m: function_call\u001b[1m[\u001b[0m\u001b[32m\"name\"\u001b[0m\u001b[1m]\u001b[0m,\n",
       "            ~~~~~~~~~~~~~^^^^^^^^\n",
       "KeyError: \u001b[32m'name'\u001b[0m\n",
       "\n"
      ]
     },
     "metadata": {},
     "output_type": "display_data"
    },
    {
     "data": {
      "text/html": [
       "<pre style=\"white-space:pre;overflow-x:auto;line-height:normal;font-family:Menlo,'DejaVu Sans Mono',consolas,'Courier New',monospace\">22:25:20.470 | <span style=\"color: #008080; text-decoration-color: #008080\">INFO</span>    | Task run 'create_file_tree-e3f' - Finished in state <span style=\"color: #008000; text-decoration-color: #008000\">Completed</span>()\n",
       "</pre>\n"
      ],
      "text/plain": [
       "22:25:20.470 | \u001b[36mINFO\u001b[0m    | Task run 'create_file_tree-e3f' - Finished in state \u001b[32mCompleted\u001b[0m()\n"
      ]
     },
     "metadata": {},
     "output_type": "display_data"
    },
    {
     "data": {
      "text/html": [
       "<pre style=\"white-space:pre;overflow-x:auto;line-height:normal;font-family:Menlo,'DejaVu Sans Mono',consolas,'Courier New',monospace\">22:25:20.502 | <span style=\"color: #008080; text-decoration-color: #008080\">INFO</span>    | prefect - All necessary subdirectories created.\n",
       "</pre>\n"
      ],
      "text/plain": [
       "22:25:20.502 | \u001b[36mINFO\u001b[0m    | prefect - All necessary subdirectories created.\n"
      ]
     },
     "metadata": {},
     "output_type": "display_data"
    },
    {
     "data": {
      "text/html": [
       "<pre style=\"white-space:pre;overflow-x:auto;line-height:normal;font-family:Menlo,'DejaVu Sans Mono',consolas,'Courier New',monospace\"><span style=\"color: #008000; text-decoration-color: #008000; font-weight: bold\">All necessary subdirectories created.</span>\n",
       "</pre>\n"
      ],
      "text/plain": [
       "\u001b[1;32mAll necessary subdirectories created.\u001b[0m\n"
      ]
     },
     "metadata": {},
     "output_type": "display_data"
    },
    {
     "data": {
      "text/html": [
       "<pre style=\"white-space:pre;overflow-x:auto;line-height:normal;font-family:Menlo,'DejaVu Sans Mono',consolas,'Courier New',monospace\">22:25:20.507 | <span style=\"color: #008080; text-decoration-color: #008080\">INFO</span>    | Task run 'create_subdirectories-b6b' - Finished in state <span style=\"color: #008000; text-decoration-color: #008000\">Completed</span>()\n",
       "</pre>\n"
      ],
      "text/plain": [
       "22:25:20.507 | \u001b[36mINFO\u001b[0m    | Task run 'create_subdirectories-b6b' - Finished in state \u001b[32mCompleted\u001b[0m()\n"
      ]
     },
     "metadata": {},
     "output_type": "display_data"
    },
    {
     "data": {
      "text/html": [
       "<pre style=\"white-space:pre;overflow-x:auto;line-height:normal;font-family:Menlo,'DejaVu Sans Mono',consolas,'Courier New',monospace\">22:25:20.533 | <span style=\"color: #008080; text-decoration-color: #008080\">INFO</span>    | prefect - Concatenated summary and file tree for 0 files\n",
       "</pre>\n"
      ],
      "text/plain": [
       "22:25:20.533 | \u001b[36mINFO\u001b[0m    | prefect - Concatenated summary and file tree for 0 files\n"
      ]
     },
     "metadata": {},
     "output_type": "display_data"
    },
    {
     "data": {
      "text/html": [
       "<pre style=\"white-space:pre;overflow-x:auto;line-height:normal;font-family:Menlo,'DejaVu Sans Mono',consolas,'Courier New',monospace\"><span style=\"color: #008000; text-decoration-color: #008000; font-weight: bold\">Concatenated summary and file tree for </span><span style=\"color: #008000; text-decoration-color: #008000; font-weight: bold\">0</span><span style=\"color: #008000; text-decoration-color: #008000; font-weight: bold\"> files</span>\n",
       "</pre>\n"
      ],
      "text/plain": [
       "\u001b[1;32mConcatenated summary and file tree for \u001b[0m\u001b[1;32m0\u001b[0m\u001b[1;32m files\u001b[0m\n"
      ]
     },
     "metadata": {},
     "output_type": "display_data"
    },
    {
     "data": {
      "text/html": [
       "<pre style=\"white-space:pre;overflow-x:auto;line-height:normal;font-family:Menlo,'DejaVu Sans Mono',consolas,'Courier New',monospace\">22:25:20.536 | <span style=\"color: #008080; text-decoration-color: #008080\">INFO</span>    | Task run 'concatenate_summaries_and_file_tree-6e6' - Finished in state <span style=\"color: #008000; text-decoration-color: #008000\">Completed</span>()\n",
       "</pre>\n"
      ],
      "text/plain": [
       "22:25:20.536 | \u001b[36mINFO\u001b[0m    | Task run 'concatenate_summaries_and_file_tree-6e6' - Finished in state \u001b[32mCompleted\u001b[0m()\n"
      ]
     },
     "metadata": {},
     "output_type": "display_data"
    },
    {
     "data": {
      "text/html": [
       "<pre style=\"white-space:pre;overflow-x:auto;line-height:normal;font-family:Menlo,'DejaVu Sans Mono',consolas,'Courier New',monospace\"><span style=\"color: #800000; text-decoration-color: #800000; font-weight: bold\">No organized files to display.</span>\n",
       "</pre>\n"
      ],
      "text/plain": [
       "\u001b[1;31mNo organized files to display.\u001b[0m\n"
      ]
     },
     "metadata": {},
     "output_type": "display_data"
    },
    {
     "data": {
      "text/html": [
       "<pre style=\"white-space:pre;overflow-x:auto;line-height:normal;font-family:Menlo,'DejaVu Sans Mono',consolas,'Courier New',monospace\">22:25:20.561 | <span style=\"color: #008080; text-decoration-color: #008080\">INFO</span>    | Task run 'display_organized_files-bd7' - Finished in state <span style=\"color: #008000; text-decoration-color: #008000\">Completed</span>()\n",
       "</pre>\n"
      ],
      "text/plain": [
       "22:25:20.561 | \u001b[36mINFO\u001b[0m    | Task run 'display_organized_files-bd7' - Finished in state \u001b[32mCompleted\u001b[0m()\n"
      ]
     },
     "metadata": {},
     "output_type": "display_data"
    },
    {
     "data": {
      "text/html": [
       "<pre style=\"white-space:pre;overflow-x:auto;line-height:normal;font-family:Menlo,'DejaVu Sans Mono',consolas,'Courier New',monospace\"><span style=\"color: #800000; text-decoration-color: #800000; font-weight: bold\">No concatenated data to display.</span>\n",
       "</pre>\n"
      ],
      "text/plain": [
       "\u001b[1;31mNo concatenated data to display.\u001b[0m\n"
      ]
     },
     "metadata": {},
     "output_type": "display_data"
    },
    {
     "data": {
      "text/html": [
       "<pre style=\"white-space:pre;overflow-x:auto;line-height:normal;font-family:Menlo,'DejaVu Sans Mono',consolas,'Courier New',monospace\">22:25:20.587 | <span style=\"color: #008080; text-decoration-color: #008080\">INFO</span>    | Task run 'display_concatenated_dict-91d' - Finished in state <span style=\"color: #008000; text-decoration-color: #008000\">Completed</span>()\n",
       "</pre>\n"
      ],
      "text/plain": [
       "22:25:20.587 | \u001b[36mINFO\u001b[0m    | Task run 'display_concatenated_dict-91d' - Finished in state \u001b[32mCompleted\u001b[0m()\n"
      ]
     },
     "metadata": {},
     "output_type": "display_data"
    },
    {
     "data": {
      "text/html": [
       "<pre style=\"white-space:pre;overflow-x:auto;line-height:normal;font-family:Menlo,'DejaVu Sans Mono',consolas,'Courier New',monospace\">22:25:20.623 | <span style=\"color: #008080; text-decoration-color: #008080\">INFO</span>    | Flow run<span style=\"color: #800080; text-decoration-color: #800080\"> 'cream-snake'</span> - Finished in state <span style=\"color: #008000; text-decoration-color: #008000\">Completed</span>()\n",
       "</pre>\n"
      ],
      "text/plain": [
       "22:25:20.623 | \u001b[36mINFO\u001b[0m    | Flow run\u001b[35m 'cream-snake'\u001b[0m - Finished in state \u001b[32mCompleted\u001b[0m()\n"
      ]
     },
     "metadata": {},
     "output_type": "display_data"
    },
    {
     "data": {
      "text/html": [
       "<pre style=\"white-space:pre;overflow-x:auto;line-height:normal;font-family:Menlo,'DejaVu Sans Mono',consolas,'Courier New',monospace\"><span style=\"color: #808000; text-decoration-color: #808000; font-weight: bold\">Summaries:</span>\n",
       "</pre>\n"
      ],
      "text/plain": [
       "\u001b[1;33mSummaries:\u001b[0m\n"
      ]
     },
     "metadata": {},
     "output_type": "display_data"
    },
    {
     "name": "stdout",
     "output_type": "stream",
     "text": [
      "('{\\n'\n",
      " '    \"files\": [],\\n'\n",
      " '    \"usage\": {\\n'\n",
      " '        \"completion_tokens\": 140,\\n'\n",
      " '        \"prompt_tokens\": 1436,\\n'\n",
      " '        \"total_tokens\": 1576\\n'\n",
      " '    },\\n'\n",
      " '    \"cost\": 0.0\\n'\n",
      " '}')\n"
     ]
    },
    {
     "data": {
      "text/html": [
       "<pre style=\"white-space:pre;overflow-x:auto;line-height:normal;font-family:Menlo,'DejaVu Sans Mono',consolas,'Courier New',monospace\">\n",
       "<span style=\"color: #808000; text-decoration-color: #808000; font-weight: bold\">File Tree:</span>\n",
       "</pre>\n"
      ],
      "text/plain": [
       "\n",
       "\u001b[1;33mFile Tree:\u001b[0m\n"
      ]
     },
     "metadata": {},
     "output_type": "display_data"
    },
    {
     "name": "stdout",
     "output_type": "stream",
     "text": [
      "'[]'\n"
     ]
    },
    {
     "data": {
      "text/html": [
       "<pre style=\"white-space:pre;overflow-x:auto;line-height:normal;font-family:Menlo,'DejaVu Sans Mono',consolas,'Courier New',monospace\">\n",
       "<span style=\"color: #808000; text-decoration-color: #808000; font-weight: bold\">Concatenated Data:</span>\n",
       "</pre>\n"
      ],
      "text/plain": [
       "\n",
       "\u001b[1;33mConcatenated Data:\u001b[0m\n"
      ]
     },
     "metadata": {},
     "output_type": "display_data"
    },
    {
     "name": "stdout",
     "output_type": "stream",
     "text": [
      "'[]'\n"
     ]
    }
   ],
   "source": [
    "\n",
    "if __name__ == \"__main__\":\n",
    "    # Define your parameters\n",
    "    source_directory = \"/home/rakesh/Downloads/sample_data/four/\"  # Replace with your actual source documents path\n",
    "    destination_directory = \"/home/rakesh/Downloads/sample_data/four_organized_o/\"  # Replace with your desired destination path\n",
    "    api_host = \"localhost\"                                         # API host address (not needed if api_base is provided)\n",
    "    api_port = 8111                                                # API port number\n",
    "    summary_model = \"ollama/llama3.2:latest\"\n",
    "    tree_model = \"ollama/llama3.2:latest\"\n",
    "    api_base_url = \"http://localhost:11434\"                     # Base URL for the API\n",
    "    use_streaming = False                                          # Set to True if you want streaming\n",
    "    # model=\"ollama/smollm2:135m\",\n",
    "\n",
    "    # Ensure destination directory exists\n",
    "    os.makedirs(destination_directory, exist_ok=True)\n",
    "\n",
    "    # Run the workflow\n",
    "    organized_files_result = document_processing_workflow(\n",
    "        source_path=source_directory,\n",
    "        destination_path=destination_directory,\n",
    "        api_host=api_host,\n",
    "        api_port=api_port,\n",
    "        summary_model=summary_model,\n",
    "        tree_model=tree_model,\n",
    "        api_base=api_base_url,                                  # Providing the API base URL\n",
    "        stream=use_streaming\n",
    "    )\n",
    "\n",
    "    # Extract the results\n",
    "    summaries = organized_files_result.get(\"summaries\", {})\n",
    "    file_tree = organized_files_result.get(\"file_tree\", [])\n",
    "    concatenated_data = organized_files_result.get(\"concatenated_data\", [])\n",
    "\n",
    "    # Optionally, pretty-print the results using Rich\n",
    "    console.print(\"[bold yellow]Summaries:[/bold yellow]\")\n",
    "    pprint(json.dumps(summaries, indent=4))\n",
    "\n",
    "    console.print(\"\\n[bold yellow]File Tree:[/bold yellow]\")\n",
    "    pprint(json.dumps(file_tree, indent=4))\n",
    "\n",
    "    console.print(\"\\n[bold yellow]Concatenated Data:[/bold yellow]\")\n",
    "    pprint(json.dumps(concatenated_data, indent=4))\n"
   ]
  },
  {
   "cell_type": "markdown",
   "metadata": {},
   "source": [
    "### Groq"
   ]
  },
  {
   "cell_type": "code",
   "execution_count": null,
   "metadata": {},
   "outputs": [],
   "source": [
    "\n",
    "if __name__ == \"__main__\":\n",
    "    # Define your parameters\n",
    "    source_directory = \"/home/rakesh/Downloads/sample_data/four/\"  # Replace with your actual source documents path\n",
    "    destination_directory = \"/home/rakesh/Downloads/sample_data/four_organized/\"  # Replace with your desired destination path\n",
    "    api_host = \"localhost\"                                         # API host address (not needed if api_base is provided)\n",
    "    api_port = 8111                                                # API port number\n",
    "    summary_model = \"groq/llama3-8b-8192\"\n",
    "    tree_model = \"groq/llama3-8b-8192\"\n",
    "    api_base_url = \"https://api.groq.com/openai/v1\"                     # Base URL for the API\n",
    "    use_streaming = False                                          # Set to True if you want streaming\n",
    "\n",
    "    # Ensure destination directory exists\n",
    "    os.makedirs(destination_directory, exist_ok=True)\n",
    "\n",
    "    # Run the workflow\n",
    "    organized_files_result = document_processing_workflow(\n",
    "        source_path=source_directory,\n",
    "        destination_path=destination_directory,\n",
    "        api_host=api_host,\n",
    "        api_port=api_port,\n",
    "        summary_model=summary_model,\n",
    "        tree_model=tree_model,\n",
    "        api_base=api_base_url,                                  # Providing the API base URL\n",
    "        stream=use_streaming\n",
    "    )\n",
    "\n",
    "    # Extract the results\n",
    "    summaries = organized_files_result.get(\"summaries\", {})\n",
    "    file_tree = organized_files_result.get(\"file_tree\", [])\n",
    "    concatenated_data = organized_files_result.get(\"concatenated_data\", [])\n",
    "\n",
    "    # Optionally, pretty-print the results using Rich\n",
    "    console.print(\"[bold yellow]Summaries:[/bold yellow]\")\n",
    "    pprint(json.dumps(summaries, indent=4))\n",
    "\n",
    "    console.print(\"\\n[bold yellow]File Tree:[/bold yellow]\")\n",
    "    pprint(json.dumps(file_tree, indent=4))\n",
    "\n",
    "    console.print(\"\\n[bold yellow]Concatenated Data:[/bold yellow]\")\n",
    "    pprint(json.dumps(concatenated_data, indent=4))\n"
   ]
  },
  {
   "cell_type": "markdown",
   "metadata": {},
   "source": [
    "# OLLAMA TEST"
   ]
  },
  {
   "cell_type": "code",
   "execution_count": 27,
   "metadata": {},
   "outputs": [],
   "source": [
    "import json\n",
    "import os\n",
    "from typing import List, Dict, Any\n",
    "\n",
    "from dotenv import load_dotenv\n",
    "from llama_index.core import SimpleDirectoryReader\n",
    "import ollama\n",
    "from litellm import completion, success_callback\n",
    "\n",
    "from prefect import flow, task\n",
    "from prefect.logging import get_logger\n",
    "\n",
    "# Import Rich components\n",
    "from rich.console import Console\n",
    "from rich.table import Table\n",
    "from rich import box\n",
    "from pprint import pprint\n",
    "\n",
    "# Initialize Rich console\n",
    "console = Console()\n",
    "\n",
    "# Initialize Prefect logger\n",
    "logger = get_logger()\n",
    "\n",
    "# Load environment variables\n",
    "load_dotenv('.env.local') \n",
    "\n",
    "# Define model-related classes (unchanged)\n",
    "class ModelDetails:\n",
    "    def __init__(self, parent_model, format, family, families, parameter_size, quantization_level):\n",
    "        self.parent_model = parent_model\n",
    "        self.format = format\n",
    "        self.family = family\n",
    "        self.families = families\n",
    "        self.parameter_size = parameter_size\n",
    "        self.quantization_level = quantization_level\n",
    "\n",
    "class Model:\n",
    "    def __init__(self, model, modified_at, digest, size, details):\n",
    "        self.model = model\n",
    "        self.modified_at = modified_at\n",
    "        self.digest = digest\n",
    "        self.size = size\n",
    "        self.details = details\n",
    "\n",
    "class ListResponse:\n",
    "    def __init__(self, models):\n",
    "        self.models = models\n",
    "\n",
    "# Global cost tracker\n",
    "COST_TRACKER = {\"cost\": 0.0}\n",
    "\n",
    "@task\n",
    "def list_ollama_models():\n",
    "    \"\"\"\n",
    "    Fetch and display Ollama models using Rich Table.\n",
    "    \"\"\"\n",
    "    try:\n",
    "        ollama_models = ollama.list()\n",
    "        if not ollama_models.models:\n",
    "            logger.warning(\"No Ollama models found.\")\n",
    "            console.print(\"[bold yellow]No Ollama models found.[/bold yellow]\")\n",
    "            return\n",
    "        \n",
    "        # Create a Rich table\n",
    "        table = Table(title=\"Available Ollama Models\", box=box.MINIMAL_DOUBLE_HEAD)\n",
    "        table.add_column(\"Model Name\", style=\"cyan\", no_wrap=True)\n",
    "        table.add_column(\"Modified At\", style=\"magenta\")\n",
    "        table.add_column(\"Digest\", style=\"green\")\n",
    "        table.add_column(\"Size (bytes)\", justify=\"right\", style=\"yellow\")\n",
    "        table.add_column(\"Param Size\", justify=\"right\", style=\"yellow\")\n",
    "        table.add_column(\"Quant Level\", style=\"blue\")\n",
    "        table.add_column(\"Family\", style=\"red\")\n",
    "        table.add_column(\"Families\", style=\"red\")\n",
    "\n",
    "        for model in ollama_models.models:\n",
    "            table.add_row(\n",
    "                model.model,\n",
    "                str(model.modified_at),\n",
    "                model.digest,\n",
    "                str(model.size),\n",
    "                str(model.details.parameter_size),\n",
    "                model.details.quantization_level,\n",
    "                model.details.family,\n",
    "                \", \".join(model.details.families)\n",
    "            )\n",
    "        \n",
    "        console.print(table)\n",
    "    except Exception as e:\n",
    "        logger.error(f\"Error fetching Ollama models: {e}\")\n",
    "        console.print(f\"[bold red]Error fetching Ollama models:[/bold red] {e}\")\n",
    "\n",
    "@task\n",
    "def track_cost_callback(kwargs, completion_response, start_time, end_time, stream=False):\n",
    "    \"\"\"\n",
    "    Callback function to track and calculate the cost based on token usage.\n",
    "    \"\"\"\n",
    "    try:\n",
    "        if hasattr(completion_response, \"to_dict\"):\n",
    "            response_dict = completion_response.to_dict()\n",
    "        elif isinstance(completion_response, dict):\n",
    "            response_dict = completion_response\n",
    "        else:\n",
    "            response_dict = json.loads(str(completion_response))\n",
    "\n",
    "        usage = response_dict.get(\"usage\", {})\n",
    "        total_tokens = usage.get(\"total_tokens\", 0)\n",
    "        COST_TRACKER[\"cost\"] = (total_tokens / 1000.0) * 0.003  # Example cost calculation\n",
    "        logger.info(f\"Calculated cost: {COST_TRACKER['cost']}\")\n",
    "        console.print(f\"[bold green]Calculated cost:[/bold green] [yellow]{COST_TRACKER['cost']}[/yellow]\")\n",
    "    except Exception as e:\n",
    "        logger.error(f\"Error in track_cost_callback: {e}\")\n",
    "        console.print(f\"[bold red]Error in track_cost_callback:[/bold red] {e}\")\n",
    "\n",
    "@task\n",
    "def set_success_callback():\n",
    "    \"\"\"\n",
    "    Set the global success callback for cost tracking.\n",
    "    \"\"\"\n",
    "    try:\n",
    "        # Ensure success_callback is treated as a list\n",
    "        # If success_callback is a list-like structure from litellm, we can do this:\n",
    "        success_callback.clear()\n",
    "        success_callback.append(track_cost_callback)\n",
    "        logger.info(\"Success callback set successfully.\")\n",
    "    except Exception as e:\n",
    "        logger.error(f\"Error setting success callback: {e}\")\n",
    "        console.print(f\"[bold red]Error setting success callback:[/bold red] {e}\")\n",
    "\n",
    "@task\n",
    "def load_documents(path: str) -> List[Dict[str, Any]]:\n",
    "    \"\"\"\n",
    "    Load documents from the specified path.\n",
    "    \"\"\"\n",
    "    try:\n",
    "        reader = SimpleDirectoryReader(input_dir=path)\n",
    "        documents = reader.load_data()\n",
    "        logger.info(f\"Loaded {len(documents)} documents from {path}\")\n",
    "        console.print(f\"[bold green]Loaded {len(documents)} documents from {path}[/bold green]\")\n",
    "        return [{\"content\": d.text, **d.metadata} for d in documents]\n",
    "    except Exception as e:\n",
    "        logger.error(f\"Error loading documents from {path}: {e}\")\n",
    "        console.print(f\"[bold red]Error loading documents from {path}:[/bold red] {e}\")\n",
    "        return []\n",
    "\n",
    "@task\n",
    "def process_metadata(doc_dicts: List[Dict[str, Any]]) -> List[Dict[str, Any]]:\n",
    "    \"\"\"\n",
    "    Process metadata to remove duplicate file entries.\n",
    "    \"\"\"\n",
    "    try:\n",
    "        file_seen = set()\n",
    "        metadata_list = []\n",
    "        for doc in doc_dicts:\n",
    "            if doc[\"file_path\"] not in file_seen:\n",
    "                file_seen.add(doc[\"file_path\"])\n",
    "                metadata_list.append(doc)\n",
    "        logger.info(f\"Processed metadata: {len(metadata_list)} unique documents\")\n",
    "        console.print(f\"[bold green]Processed metadata: {len(metadata_list)} unique documents[/bold green]\")\n",
    "        return metadata_list\n",
    "    except Exception as e:\n",
    "        logger.error(f\"Error processing metadata: {e}\")\n",
    "        console.print(f\"[bold red]Error processing metadata:[/bold red] {e}\")\n",
    "        return []\n",
    "\n",
    "@task\n",
    "def query_summaries(\n",
    "    doc_dicts: List[Dict[str, Any]],\n",
    "    host: str,\n",
    "    port: int,\n",
    "    model: str,\n",
    "    api_base: str = None,\n",
    "    stream: bool = False\n",
    ") -> Dict[str, Any]:\n",
    "    PROMPT = f\"\"\" \n",
    "    The following is a list of file contents, along with their metadata. For each file, provide a summary of the contents. The purpose of the summary is to organize files based on their content. To this end provide a concise but informative summary. Try to make the summary as specific to the file as possible. {doc_dicts}\n",
    "    \n",
    "    Do not call any functions. Do not return a function call. Only return the requested JSON.\n",
    "    Return a JSON object with the following schema:\n",
    "    \n",
    "    ```json\n",
    "    {{\n",
    "      \"files\": [\n",
    "        {{\n",
    "          \"file_path\": \"path to the file including name\",\n",
    "          \"summary\": \"summary of the content\"\n",
    "        }}\n",
    "      ]\n",
    "    }}\n",
    "    ```\n",
    "    \"\"\".strip()\n",
    "\n",
    "    if not api_base:\n",
    "        api_base = f\"http://{host}:{port}\"\n",
    "        logger.info(f\"API Base set to: {api_base}\")\n",
    "        console.print(f\"[bold blue]API Base set to: {api_base}[/bold blue]\")\n",
    "\n",
    "    try:\n",
    "        response = completion(\n",
    "            model=model, \n",
    "            messages=[\n",
    "                {\n",
    "                    \"role\": \"system\", \n",
    "                    \"content\": \"Always return JSON. Do not include any other text or formatting characters.\"\n",
    "                },\n",
    "                {\n",
    "                    \"role\": \"user\", \n",
    "                    \"content\": PROMPT\n",
    "                }\n",
    "            ],\n",
    "            api_base=api_base,\n",
    "            stream=stream,\n",
    "            response_format={\"type\": \"json_object\"},  # Ensures the response is JSON\n",
    "            # functions=[],  # Disable function calls\n",
    "            # function_call=\"none\"  # Do not allow the LLM to return a function call\n",
    "        )\n",
    "    except Exception as e:\n",
    "        logger.error(f\"LiteLLM Error >>> {e}\")\n",
    "        console.print(f\"[bold red]LiteLLM Error:[/bold red] {e}\")\n",
    "        return {\"files\": [], \"cost\": COST_TRACKER[\"cost\"]}\n",
    "\n",
    "    if response is None:\n",
    "        logger.warning(\"No response received from the API.\")\n",
    "        console.print(\"[bold yellow]No response received from the API.[/bold yellow]\")\n",
    "        return {\"files\": [], \"cost\": COST_TRACKER[\"cost\"]}\n",
    "\n",
    "    try:\n",
    "        response_dict = response.to_dict() if hasattr(response, \"to_dict\") else json.loads(str(response))\n",
    "    except (TypeError, json.JSONDecodeError) as e:\n",
    "        logger.error(f\"Error parsing response: {e}\")\n",
    "        console.print(f\"[bold red]Error parsing response:[/bold red] {e}\")\n",
    "        return {\"files\": [], \"cost\": COST_TRACKER[\"cost\"]}\n",
    "\n",
    "    content = response_dict.get(\"choices\", [{}])[0].get(\"message\", {}).get(\"content\", \"\")\n",
    "    print(\">>>> Content summary:\")\n",
    "    print(content)\n",
    "\n",
    "    try:\n",
    "        summaries = json.loads(content)\n",
    "        print(\"Summaries:\")\n",
    "        print(summaries)\n",
    "    except json.JSONDecodeError:\n",
    "        logger.error(\"Error decoding JSON content from summaries.\")\n",
    "        console.print(\"[bold red]Error decoding JSON content from summaries.[/bold red]\")\n",
    "        summaries = {\"files\": []}\n",
    "\n",
    "    if isinstance(summaries, list) and summaries and isinstance(summaries[0], dict):\n",
    "        summaries = summaries[0]\n",
    "\n",
    "    usage = response_dict.get(\"usage\", {})\n",
    "    if usage and isinstance(summaries, dict):\n",
    "        summaries[\"usage\"] = {\n",
    "            \"completion_tokens\": usage.get(\"completion_tokens\"),\n",
    "            \"prompt_tokens\": usage.get(\"prompt_tokens\"),\n",
    "            \"total_tokens\": usage.get(\"total_tokens\")\n",
    "        }\n",
    "\n",
    "    if isinstance(summaries, dict):\n",
    "        summaries[\"cost\"] = COST_TRACKER[\"cost\"]\n",
    "    else:\n",
    "        summaries = {\"files\": [], \"cost\": COST_TRACKER[\"cost\"]}\n",
    "\n",
    "    logger.info(f\"Generated summaries for {len(summaries.get('files', []))} files with cost {summaries.get('cost')}\")\n",
    "    console.print(f\"[bold green]Generated summaries for {len(summaries.get('files', []))} files with cost {summaries.get('cost')}[/bold green]\")\n",
    "    return summaries\n",
    "\n",
    "\n",
    "@task\n",
    "def create_file_tree(\n",
    "    summaries: List[Dict[str, Any]],\n",
    "    host: str,\n",
    "    port: int,\n",
    "    source_path: str,\n",
    "    destination_path: str,\n",
    "    model: str = \"llama-3.1-70b-versatile\",\n",
    "    api_base: str = None,\n",
    "    stream: bool = False\n",
    ") -> List[Dict[str, str]]:\n",
    "    # Define the helper function within the task\n",
    "    def find_key(obj: Any, key: str) -> Any:\n",
    "        if isinstance(obj, dict):\n",
    "            if key in obj:\n",
    "                return obj[key]\n",
    "            for value in obj.values():\n",
    "                result = find_key(value, key)\n",
    "                if result is not None:\n",
    "                    return result\n",
    "        elif isinstance(obj, list):\n",
    "            for item in obj:\n",
    "                result = find_key(item, key)\n",
    "                if result is not None:\n",
    "                    return result\n",
    "        return None\n",
    "\n",
    "    PROMPT = f\"\"\"\n",
    "    You will be provided with a list of source files and a summary of their contents. The source files are located in '{source_path}', and the destination directory is '{destination_path}'.\n",
    "    \n",
    "    For each file, propose:\n",
    "    1. 'dst_path': A new file path under the destination directory with the same file name.\n",
    "    2. 'dst_path_new': A new file path under the destination directory with an updated file name (e.g., adding a version number or timestamp).\n",
    "    \n",
    "    Follow good naming conventions and organizational best practices. Here are guidelines:\n",
    "    - Group related files together.\n",
    "    - Incorporate metadata such as date, version, or experiment details into folder names.\n",
    "    - Use clear and descriptive names without spaces or special characters.\n",
    "    - Do not change the file extension.\n",
    "    - If the file is already well-named or follows a known convention, retain its name for 'dst_path'.\n",
    "    \n",
    "    **Example**:\n",
    "    ```json\n",
    "    {{\n",
    "        \"files\": [\n",
    "            {{\n",
    "                \"src_path\": \"/home/user/source/file1.txt\",\n",
    "                \"dst_path\": \"/home/user/destination/2024/04/file1.txt\",\n",
    "                \"dst_path_new\": \"/home/user/destination/2024/04/file1_v2.txt\"\n",
    "            }}\n",
    "        ]\n",
    "    }}\n",
    "    ```\n",
    "    \n",
    "    **Important:** Your response **must** be a JSON object with the following schema **at the top level**:\n",
    "    ```json\n",
    "    {{\n",
    "        \"files\": [\n",
    "            {{\n",
    "                \"src_path\": \"original file path\",\n",
    "                \"dst_path\": \"new file path under destination directory with same file name\",\n",
    "                \"dst_path_new\": \"new file path under destination directory with updated file name\"\n",
    "            }}\n",
    "        ]\n",
    "    }}\n",
    "    ```\n",
    "    \n",
    "    Do **not** wrap the \"files\" key inside any other keys.\n",
    "    \"\"\".strip()\n",
    "\n",
    "    if not api_base:\n",
    "        api_base = f\"http://{host}:{port}\"\n",
    "        logger.info(f\"API Base set to: {api_base}\")\n",
    "        console.print(f\"[bold blue]API Base set to: {api_base}[/bold blue]\")\n",
    "\n",
    "    try:\n",
    "        response = completion(\n",
    "            model=model,\n",
    "            messages=[\n",
    "                {\"role\": \"system\", \"content\": PROMPT},\n",
    "                {\"role\": \"user\", \"content\": json.dumps(summaries)},\n",
    "            ],\n",
    "            api_base=api_base,\n",
    "            stream=stream,\n",
    "            response_format={\"type\": \"json_object\"}  # Ensures the response is JSON\n",
    "        )\n",
    "    except Exception as e:\n",
    "        logger.error(f\"LiteLLM Error >>> {e}\")\n",
    "        console.print(f\"[bold red]LiteLLM Error:[/bold red] {e}\")\n",
    "        return []\n",
    "\n",
    "    if response is None:\n",
    "        logger.warning(\"No response received from the API.\")\n",
    "        console.print(\"[bold yellow]No response received from the API.[/bold yellow]\")\n",
    "        return []\n",
    "\n",
    "    try:\n",
    "        response_dict = response.to_dict() if hasattr(response, \"to_dict\") else json.loads(str(response))\n",
    "    except (TypeError, json.JSONDecodeError) as e:\n",
    "        logger.error(f\"Error parsing response: {e}\")\n",
    "        console.print(f\"[bold red]Error parsing response:[/bold red] {e}\")\n",
    "        return []\n",
    "\n",
    "    content = response_dict.get(\"choices\", [{}])[0].get(\"message\", {}).get(\"content\", \"\")\n",
    "\n",
    "    try:\n",
    "        parsed_content = json.loads(content)\n",
    "        file_tree = find_key(parsed_content, \"files\")\n",
    "        if file_tree is None:\n",
    "            raise KeyError(\"'files' key not found in the response.\")\n",
    "    except (json.JSONDecodeError, KeyError) as e:\n",
    "        logger.error(f\"Error decoding JSON content: {e}\")\n",
    "        console.print(f\"[bold red]Error decoding JSON content:[/bold red] {e}\")\n",
    "        console.print(f\"[bold yellow]Raw Content:[/bold yellow]\\n{content}\")\n",
    "        return []\n",
    "\n",
    "    logger.info(f\"Created file tree for {len(file_tree)} files\")\n",
    "    console.print(f\"[bold green]Created file tree for {len(file_tree)} files[/bold green]\")\n",
    "    return file_tree\n",
    "\n",
    "    \"\"\"\n",
    "    Create a file tree based on the provided summaries.\n",
    "    Returns src_path, dst_path, and dst_path_new for each file.\n",
    "    \"\"\"\n",
    "    # Define the helper function within the task\n",
    "    def find_key(obj: Any, key: str) -> Any:\n",
    "        if isinstance(obj, dict):\n",
    "            if key in obj:\n",
    "                return obj[key]\n",
    "            for value in obj.values():\n",
    "                result = find_key(value, key)\n",
    "                if result is not None:\n",
    "                    return result\n",
    "        elif isinstance(obj, list):\n",
    "            for item in obj:\n",
    "                result = find_key(item, key)\n",
    "                if result is not None:\n",
    "                    return result\n",
    "        return None\n",
    "\n",
    "    PROMPT = f\"\"\"\n",
    "    You will be provided with a list of source files and a summary of their contents. The source files are located in '{source_path}', and the destination directory is '{destination_path}'.\n",
    "    \n",
    "    For each file, propose:\n",
    "    1. 'dst_path': A new file path under the destination directory with the same file name.\n",
    "    2. 'dst_path_new': A new file path under the destination directory with an updated file name (e.g., adding a version number or timestamp).\n",
    "    \n",
    "    Follow good naming conventions and organizational best practices. Here are guidelines:\n",
    "    - Group related files together.\n",
    "    - Incorporate metadata such as date, version, or experiment details into folder names.\n",
    "    - Use clear and descriptive names without spaces or special characters.\n",
    "    - Do not change the file extension.\n",
    "    - If the file is already well-named or follows a known convention, retain its name for 'dst_path'.\n",
    "    \n",
    "    **Example**:\n",
    "    ```json\n",
    "    {{\n",
    "        \"files\": [\n",
    "            {{\n",
    "                \"src_path\": \"/home/user/source/file1.txt\",\n",
    "                \"dst_path\": \"/home/user/destination/2024/04/file1.txt\",\n",
    "                \"dst_path_new\": \"/home/user/destination/2024/04/file1_v2.txt\"\n",
    "            }}\n",
    "        ]\n",
    "    }}\n",
    "    ```\n",
    "    \n",
    "    **Important:** Your response **must** be a JSON object with the following schema **at the top level**:\n",
    "    ```json\n",
    "    {{\n",
    "        \"files\": [\n",
    "            {{\n",
    "                \"src_path\": \"original file path\",\n",
    "                \"dst_path\": \"new file path under destination directory with same file name\",\n",
    "                \"dst_path_new\": \"new file path under destination directory with updated file name\"\n",
    "            }}\n",
    "        ]\n",
    "    }}\n",
    "    ```\n",
    "    \n",
    "    Do **not** wrap the \"files\" key inside any other keys.\n",
    "    \"\"\".strip()\n",
    "\n",
    "    if not api_base:\n",
    "        api_base = f\"http://{host}:{port}\"\n",
    "        logger.info(f\"API Base set to: {api_base}\")\n",
    "        console.print(f\"[bold blue]API Base set to: {api_base}[/bold blue]\")\n",
    "\n",
    "    try:\n",
    "        response = completion(\n",
    "            model=model,\n",
    "            messages=[\n",
    "                {\"role\": \"system\", \"content\": PROMPT},\n",
    "                {\"role\": \"user\", \"content\": json.dumps(summaries)},\n",
    "            ],\n",
    "            api_base=api_base,\n",
    "            stream=stream\n",
    "        )\n",
    "    except Exception as e:\n",
    "        logger.error(f\"LiteLLM Error >>> {e}\")\n",
    "        console.print(f\"[bold red]LiteLLM Error:[/bold red] {e}\")\n",
    "        return []\n",
    "\n",
    "    if response is None:\n",
    "        logger.warning(\"No response received from the API.\")\n",
    "        console.print(\"[bold yellow]No response received from the API.[/bold yellow]\")\n",
    "        return []\n",
    "\n",
    "    try:\n",
    "        if hasattr(response, \"to_dict\"):\n",
    "            response_dict = response.to_dict()\n",
    "        elif isinstance(response, dict):\n",
    "            response_dict = response\n",
    "        else:\n",
    "            response_dict = json.loads(str(response))\n",
    "    except (TypeError, json.JSONDecodeError) as e:\n",
    "        logger.error(f\"Error parsing response: {e}\")\n",
    "        console.print(f\"[bold red]Error parsing response:[/bold red] {e}\")\n",
    "        return []\n",
    "\n",
    "    content = response_dict.get(\"choices\", [{}])[0].get(\"message\", {}).get(\"content\", \"\")\n",
    "\n",
    "    try:\n",
    "        parsed_content = json.loads(content)\n",
    "        file_tree = find_key(parsed_content, \"files\")\n",
    "        if file_tree is None:\n",
    "            raise KeyError(\"'files' key not found in the response.\")\n",
    "    except (json.JSONDecodeError, KeyError) as e:\n",
    "        logger.error(f\"Error decoding JSON content: {e}\")\n",
    "        console.print(f\"[bold red]Error decoding JSON content:[/bold red] {e}\")\n",
    "        console.print(f\"[bold yellow]Raw Content:[/bold yellow]\\n{content}\")\n",
    "        return []\n",
    "\n",
    "    logger.info(f\"Created file tree for {len(file_tree)} files\")\n",
    "    console.print(f\"[bold green]Created file tree for {len(file_tree)} files[/bold green]\")\n",
    "    return file_tree\n",
    "\n",
    "@task\n",
    "def concatenate_summaries_and_file_tree(\n",
    "    summaries: List[Dict[str, Any]],\n",
    "    file_tree: List[Dict[str, str]]\n",
    ") -> List[Dict[str, Any]]:\n",
    "    \"\"\"\n",
    "    Concatenate summaries and file_tree into a single dictionary for each file.\n",
    "    \"\"\"\n",
    "    concatenated = []\n",
    "    summary_dict = {item['file_path']: item['summary'] for item in summaries}\n",
    "\n",
    "    for item in file_tree:\n",
    "        src_path = item.get(\"src_path\")\n",
    "        dst_path = item.get(\"dst_path\")\n",
    "        dst_path_new = item.get(\"dst_path_new\")\n",
    "        summary = summary_dict.get(src_path, \"No summary available.\")\n",
    "        concatenated.append({\n",
    "            \"file_path\": src_path,\n",
    "            \"summary\": summary,\n",
    "            \"dst_path\": dst_path,\n",
    "            \"dst_path_new\": dst_path_new\n",
    "        })\n",
    "\n",
    "    logger.info(f\"Concatenated summary and file tree for {len(concatenated)} files\")\n",
    "    console.print(f\"[bold green]Concatenated summary and file tree for {len(concatenated)} files[/bold green]\")\n",
    "    return concatenated\n",
    "\n",
    "@task\n",
    "def create_subdirectories(file_tree: List[Dict[str, str]]):\n",
    "    \"\"\"\n",
    "    Create all necessary subdirectories in the destination paths.\n",
    "    \"\"\"\n",
    "    try:\n",
    "        for file in file_tree:\n",
    "            dst_path = file.get(\"dst_path\")\n",
    "            dst_path_new = file.get(\"dst_path_new\")\n",
    "            \n",
    "            # Extract directories from the destination paths\n",
    "            dst_dir = os.path.dirname(dst_path)\n",
    "            dst_new_dir = os.path.dirname(dst_path_new)\n",
    "            \n",
    "            # Create the directories if they don't exist\n",
    "            os.makedirs(dst_dir, exist_ok=True)\n",
    "            os.makedirs(dst_new_dir, exist_ok=True)\n",
    "        \n",
    "        logger.info(\"All necessary subdirectories created.\")\n",
    "        console.print(\"[bold green]All necessary subdirectories created.[/bold green]\")\n",
    "    except Exception as e:\n",
    "        logger.error(f\"Error creating subdirectories: {e}\")\n",
    "        console.print(f\"[bold red]Error creating subdirectories:[/bold red] {e}\")\n",
    "\n",
    "@task\n",
    "def display_organized_files(organized_files: List[Dict[str, str]]):\n",
    "    \"\"\"\n",
    "    Display organized files using Rich Table.\n",
    "    \"\"\"\n",
    "    if not organized_files:\n",
    "        console.print(\"[bold red]No organized files to display.[/bold red]\")\n",
    "        return\n",
    "\n",
    "    table = Table(title=\"Organized Files\", box=box.MINIMAL_DOUBLE_HEAD)\n",
    "    table.add_column(\"Source Path\", style=\"cyan\", no_wrap=True)\n",
    "    table.add_column(\"Destination Path\", style=\"green\")\n",
    "\n",
    "    for file in organized_files:\n",
    "        table.add_row(file.get(\"file_path\", \"\"), file.get(\"dst_path\", \"\"))\n",
    "    \n",
    "    console.print(table)\n",
    "\n",
    "@task\n",
    "def display_concatenated_dict(concatenated_dict: List[Dict[str, Any]]):\n",
    "    \"\"\"\n",
    "    Display concatenated summaries and file tree using Rich Table.\n",
    "    \"\"\"\n",
    "    if not concatenated_dict:\n",
    "        console.print(\"[bold red]No concatenated data to display.[/bold red]\")\n",
    "        return\n",
    "\n",
    "    table = Table(title=\"Summaries and Organized Files\", box=box.MINIMAL_DOUBLE_HEAD)\n",
    "    table.add_column(\"File Path\", style=\"cyan\", no_wrap=True)\n",
    "    table.add_column(\"Summary\", style=\"green\")\n",
    "    table.add_column(\"Destination Path\", style=\"magenta\")\n",
    "    table.add_column(\"Destination Path New\", style=\"yellow\")\n",
    "\n",
    "    for item in concatenated_dict:\n",
    "        table.add_row(\n",
    "            item.get(\"file_path\", \"\"), \n",
    "            item.get(\"summary\", \"\"), \n",
    "            item.get(\"dst_path\", \"\"), \n",
    "            item.get(\"dst_path_new\", \"\")\n",
    "        )\n",
    "    \n",
    "    console.print(table)\n",
    "\n",
    "@flow(name=\"Document Processing Workflow\")\n",
    "def document_processing_workflow(\n",
    "    source_path: str,\n",
    "    destination_path: str,\n",
    "    api_host: str,\n",
    "    api_port: int,\n",
    "    summary_model: str,\n",
    "    tree_model: str,\n",
    "    api_base: str = None,\n",
    "    stream: bool = False\n",
    ") -> Dict[str, Any]:\n",
    "    \"\"\"\n",
    "    Orchestrates the document processing workflow: loading documents, querying summaries, creating a file tree, and concatenating results.\n",
    "\n",
    "    Args:\n",
    "        source_path (str): Path to the source documents directory.\n",
    "        destination_path (str): Path to the destination directory for organized files.\n",
    "        api_host (str): API host address.\n",
    "        api_port (int): API port number.\n",
    "        summary_model (str): Model name for summarizing documents.\n",
    "        tree_model (str): Model name for creating file tree.\n",
    "        api_base (str, optional): Base URL for the API. Defaults to None.\n",
    "        stream (bool, optional): Whether to use streaming. Defaults to False.\n",
    "\n",
    "    Returns:\n",
    "        Dict[str, Any]: Dictionary containing summaries, file_tree, and concatenated data.\n",
    "    \"\"\"\n",
    "    # Initial setup\n",
    "    set_success_callback()\n",
    "    list_ollama_models()\n",
    "\n",
    "    # Load and process documents\n",
    "    loaded_docs = load_documents(source_path)\n",
    "    unique_docs = process_metadata(loaded_docs)\n",
    "\n",
    "    # Generate summaries\n",
    "    summaries = query_summaries(\n",
    "        doc_dicts=unique_docs,\n",
    "        host=api_host,\n",
    "        port=api_port,\n",
    "        model=summary_model,\n",
    "        api_base=api_base,\n",
    "        stream=stream\n",
    "    )\n",
    "\n",
    "    # Create file tree\n",
    "    file_tree = create_file_tree(\n",
    "        summaries=summaries.get(\"files\", []),\n",
    "        host=api_host,\n",
    "        port=api_port,\n",
    "        source_path=source_path,\n",
    "        destination_path=destination_path,\n",
    "        model=tree_model,\n",
    "        api_base=api_base,\n",
    "        stream=stream\n",
    "    )\n",
    "\n",
    "    # Create necessary subdirectories\n",
    "    create_subdirectories(file_tree)\n",
    "\n",
    "    # Concatenate summaries and file_tree\n",
    "    concatenated_dict = concatenate_summaries_and_file_tree(summaries.get(\"files\", []), file_tree)\n",
    "\n",
    "    # Display organized files using Rich\n",
    "    display_organized_files(file_tree)\n",
    "\n",
    "    # Display concatenated summaries and file_tree\n",
    "    display_concatenated_dict(concatenated_dict)\n",
    "\n",
    "    # Return all results\n",
    "    return {\n",
    "        \"summaries\": summaries,\n",
    "        \"file_tree\": file_tree,\n",
    "        \"concatenated_data\": concatenated_dict\n",
    "    }\n"
   ]
  },
  {
   "cell_type": "markdown",
   "metadata": {},
   "source": [
    "## LLM Tests"
   ]
  },
  {
   "cell_type": "markdown",
   "metadata": {},
   "source": [
    "### OLLama "
   ]
  },
  {
   "cell_type": "code",
   "execution_count": 30,
   "metadata": {},
   "outputs": [
    {
     "data": {
      "text/html": [
       "<pre style=\"white-space:pre;overflow-x:auto;line-height:normal;font-family:Menlo,'DejaVu Sans Mono',consolas,'Courier New',monospace\">23:21:20.918 | <span style=\"color: #008080; text-decoration-color: #008080\">INFO</span>    | prefect.engine - Created flow run<span style=\"color: #800080; text-decoration-color: #800080\"> 'sociable-coua'</span> for flow<span style=\"color: #800080; text-decoration-color: #800080; font-weight: bold\"> 'Document Processing Workflow'</span>\n",
       "</pre>\n"
      ],
      "text/plain": [
       "23:21:20.918 | \u001b[36mINFO\u001b[0m    | prefect.engine - Created flow run\u001b[35m 'sociable-coua'\u001b[0m for flow\u001b[1;35m 'Document Processing Workflow'\u001b[0m\n"
      ]
     },
     "metadata": {},
     "output_type": "display_data"
    },
    {
     "data": {
      "text/html": [
       "<pre style=\"white-space:pre;overflow-x:auto;line-height:normal;font-family:Menlo,'DejaVu Sans Mono',consolas,'Courier New',monospace\">23:21:20.974 | <span style=\"color: #008080; text-decoration-color: #008080\">INFO</span>    | prefect - Success callback set successfully.\n",
       "</pre>\n"
      ],
      "text/plain": [
       "23:21:20.974 | \u001b[36mINFO\u001b[0m    | prefect - Success callback set successfully.\n"
      ]
     },
     "metadata": {},
     "output_type": "display_data"
    },
    {
     "data": {
      "text/html": [
       "<pre style=\"white-space:pre;overflow-x:auto;line-height:normal;font-family:Menlo,'DejaVu Sans Mono',consolas,'Courier New',monospace\">23:21:20.975 | <span style=\"color: #008080; text-decoration-color: #008080\">INFO</span>    | Task run 'set_success_callback-a65' - Finished in state <span style=\"color: #008000; text-decoration-color: #008000\">Completed</span>()\n",
       "</pre>\n"
      ],
      "text/plain": [
       "23:21:20.975 | \u001b[36mINFO\u001b[0m    | Task run 'set_success_callback-a65' - Finished in state \u001b[32mCompleted\u001b[0m()\n"
      ]
     },
     "metadata": {},
     "output_type": "display_data"
    },
    {
     "data": {
      "text/html": [
       "<pre style=\"white-space:pre;overflow-x:auto;line-height:normal;font-family:Menlo,'DejaVu Sans Mono',consolas,'Courier New',monospace\"><span style=\"font-style: italic\">                                              Available Ollama Models                                              </span>\n",
       "                   ╷              ╷              ╷              ╷            ╷             ╷        ╷              \n",
       " <span style=\"font-weight: bold\"> Model Name       </span>│<span style=\"font-weight: bold\"> Modified At  </span>│<span style=\"font-weight: bold\"> Digest       </span>│<span style=\"font-weight: bold\"> Size (bytes) </span>│<span style=\"font-weight: bold\"> Param Size </span>│<span style=\"font-weight: bold\"> Quant Level </span>│<span style=\"font-weight: bold\"> Family </span>│<span style=\"font-weight: bold\"> Families    </span> \n",
       " ══════════════════╪══════════════╪══════════════╪══════════════╪════════════╪═════════════╪════════╪═════════════ \n",
       " <span style=\"color: #008080; text-decoration-color: #008080\"> smollm2:135m     </span>│<span style=\"color: #800080; text-decoration-color: #800080\"> 2024-12-18   </span>│<span style=\"color: #008000; text-decoration-color: #008000\"> 9077fe9d2ae… </span>│<span style=\"color: #808000; text-decoration-color: #808000\">    270898672 </span>│<span style=\"color: #808000; text-decoration-color: #808000\">    134.52M </span>│<span style=\"color: #000080; text-decoration-color: #000080\"> F16         </span>│<span style=\"color: #800000; text-decoration-color: #800000\"> llama  </span>│<span style=\"color: #800000; text-decoration-color: #800000\"> llama       </span> \n",
       " <span style=\"color: #008080; text-decoration-color: #008080\">                  </span>│<span style=\"color: #800080; text-decoration-color: #800080\"> 11:49:06.80… </span>│<span style=\"color: #008000; text-decoration-color: #008000\">              </span>│<span style=\"color: #808000; text-decoration-color: #808000\">              </span>│<span style=\"color: #808000; text-decoration-color: #808000\">            </span>│<span style=\"color: #000080; text-decoration-color: #000080\">             </span>│<span style=\"color: #800000; text-decoration-color: #800000\">        </span>│<span style=\"color: #800000; text-decoration-color: #800000\">             </span> \n",
       " <span style=\"color: #008080; text-decoration-color: #008080\"> llava:latest     </span>│<span style=\"color: #800080; text-decoration-color: #800080\"> 2024-12-07   </span>│<span style=\"color: #008000; text-decoration-color: #008000\"> 8dd30f6b0cb… </span>│<span style=\"color: #808000; text-decoration-color: #808000\">   4733363377 </span>│<span style=\"color: #808000; text-decoration-color: #808000\">         7B </span>│<span style=\"color: #000080; text-decoration-color: #000080\"> Q4_0        </span>│<span style=\"color: #800000; text-decoration-color: #800000\"> llama  </span>│<span style=\"color: #800000; text-decoration-color: #800000\"> llama, clip </span> \n",
       " <span style=\"color: #008080; text-decoration-color: #008080\">                  </span>│<span style=\"color: #800080; text-decoration-color: #800080\"> 23:46:35.56… </span>│<span style=\"color: #008000; text-decoration-color: #008000\">              </span>│<span style=\"color: #808000; text-decoration-color: #808000\">              </span>│<span style=\"color: #808000; text-decoration-color: #808000\">            </span>│<span style=\"color: #000080; text-decoration-color: #000080\">             </span>│<span style=\"color: #800000; text-decoration-color: #800000\">        </span>│<span style=\"color: #800000; text-decoration-color: #800000\">             </span> \n",
       " <span style=\"color: #008080; text-decoration-color: #008080\"> moondream:latest </span>│<span style=\"color: #800080; text-decoration-color: #800080\"> 2024-12-07   </span>│<span style=\"color: #008000; text-decoration-color: #008000\"> 55fc3abd386… </span>│<span style=\"color: #808000; text-decoration-color: #808000\">   1738451197 </span>│<span style=\"color: #808000; text-decoration-color: #808000\">         1B </span>│<span style=\"color: #000080; text-decoration-color: #000080\"> Q4_0        </span>│<span style=\"color: #800000; text-decoration-color: #800000\"> phi2   </span>│<span style=\"color: #800000; text-decoration-color: #800000\"> phi2, clip  </span> \n",
       " <span style=\"color: #008080; text-decoration-color: #008080\">                  </span>│<span style=\"color: #800080; text-decoration-color: #800080\"> 22:19:46.41… </span>│<span style=\"color: #008000; text-decoration-color: #008000\">              </span>│<span style=\"color: #808000; text-decoration-color: #808000\">              </span>│<span style=\"color: #808000; text-decoration-color: #808000\">            </span>│<span style=\"color: #000080; text-decoration-color: #000080\">             </span>│<span style=\"color: #800000; text-decoration-color: #800000\">        </span>│<span style=\"color: #800000; text-decoration-color: #800000\">             </span> \n",
       " <span style=\"color: #008080; text-decoration-color: #008080\"> llama3.2:latest  </span>│<span style=\"color: #800080; text-decoration-color: #800080\"> 2024-12-07   </span>│<span style=\"color: #008000; text-decoration-color: #008000\"> a80c4f17acd… </span>│<span style=\"color: #808000; text-decoration-color: #808000\">   2019393189 </span>│<span style=\"color: #808000; text-decoration-color: #808000\">       3.2B </span>│<span style=\"color: #000080; text-decoration-color: #000080\"> Q4_K_M      </span>│<span style=\"color: #800000; text-decoration-color: #800000\"> llama  </span>│<span style=\"color: #800000; text-decoration-color: #800000\"> llama       </span> \n",
       " <span style=\"color: #008080; text-decoration-color: #008080\">                  </span>│<span style=\"color: #800080; text-decoration-color: #800080\"> 22:18:36.84… </span>│<span style=\"color: #008000; text-decoration-color: #008000\">              </span>│<span style=\"color: #808000; text-decoration-color: #808000\">              </span>│<span style=\"color: #808000; text-decoration-color: #808000\">            </span>│<span style=\"color: #000080; text-decoration-color: #000080\">             </span>│<span style=\"color: #800000; text-decoration-color: #800000\">        </span>│<span style=\"color: #800000; text-decoration-color: #800000\">             </span> \n",
       "                   ╵              ╵              ╵              ╵            ╵             ╵        ╵              \n",
       "</pre>\n"
      ],
      "text/plain": [
       "\u001b[3m                                              Available Ollama Models                                              \u001b[0m\n",
       "                   ╷              ╷              ╷              ╷            ╷             ╷        ╷              \n",
       " \u001b[1m \u001b[0m\u001b[1mModel Name      \u001b[0m\u001b[1m \u001b[0m│\u001b[1m \u001b[0m\u001b[1mModified At \u001b[0m\u001b[1m \u001b[0m│\u001b[1m \u001b[0m\u001b[1mDigest      \u001b[0m\u001b[1m \u001b[0m│\u001b[1m \u001b[0m\u001b[1mSize (bytes)\u001b[0m\u001b[1m \u001b[0m│\u001b[1m \u001b[0m\u001b[1mParam Size\u001b[0m\u001b[1m \u001b[0m│\u001b[1m \u001b[0m\u001b[1mQuant Level\u001b[0m\u001b[1m \u001b[0m│\u001b[1m \u001b[0m\u001b[1mFamily\u001b[0m\u001b[1m \u001b[0m│\u001b[1m \u001b[0m\u001b[1mFamilies   \u001b[0m\u001b[1m \u001b[0m \n",
       " ══════════════════╪══════════════╪══════════════╪══════════════╪════════════╪═════════════╪════════╪═════════════ \n",
       " \u001b[36m \u001b[0m\u001b[36msmollm2:135m    \u001b[0m\u001b[36m \u001b[0m│\u001b[35m \u001b[0m\u001b[35m2024-12-18  \u001b[0m\u001b[35m \u001b[0m│\u001b[32m \u001b[0m\u001b[32m9077fe9d2ae…\u001b[0m\u001b[32m \u001b[0m│\u001b[33m \u001b[0m\u001b[33m   270898672\u001b[0m\u001b[33m \u001b[0m│\u001b[33m \u001b[0m\u001b[33m   134.52M\u001b[0m\u001b[33m \u001b[0m│\u001b[34m \u001b[0m\u001b[34mF16        \u001b[0m\u001b[34m \u001b[0m│\u001b[31m \u001b[0m\u001b[31mllama \u001b[0m\u001b[31m \u001b[0m│\u001b[31m \u001b[0m\u001b[31mllama      \u001b[0m\u001b[31m \u001b[0m \n",
       " \u001b[36m                  \u001b[0m│\u001b[35m \u001b[0m\u001b[35m11:49:06.80…\u001b[0m\u001b[35m \u001b[0m│\u001b[32m              \u001b[0m│\u001b[33m              \u001b[0m│\u001b[33m            \u001b[0m│\u001b[34m             \u001b[0m│\u001b[31m        \u001b[0m│\u001b[31m             \u001b[0m \n",
       " \u001b[36m \u001b[0m\u001b[36mllava:latest    \u001b[0m\u001b[36m \u001b[0m│\u001b[35m \u001b[0m\u001b[35m2024-12-07  \u001b[0m\u001b[35m \u001b[0m│\u001b[32m \u001b[0m\u001b[32m8dd30f6b0cb…\u001b[0m\u001b[32m \u001b[0m│\u001b[33m \u001b[0m\u001b[33m  4733363377\u001b[0m\u001b[33m \u001b[0m│\u001b[33m \u001b[0m\u001b[33m        7B\u001b[0m\u001b[33m \u001b[0m│\u001b[34m \u001b[0m\u001b[34mQ4_0       \u001b[0m\u001b[34m \u001b[0m│\u001b[31m \u001b[0m\u001b[31mllama \u001b[0m\u001b[31m \u001b[0m│\u001b[31m \u001b[0m\u001b[31mllama, clip\u001b[0m\u001b[31m \u001b[0m \n",
       " \u001b[36m                  \u001b[0m│\u001b[35m \u001b[0m\u001b[35m23:46:35.56…\u001b[0m\u001b[35m \u001b[0m│\u001b[32m              \u001b[0m│\u001b[33m              \u001b[0m│\u001b[33m            \u001b[0m│\u001b[34m             \u001b[0m│\u001b[31m        \u001b[0m│\u001b[31m             \u001b[0m \n",
       " \u001b[36m \u001b[0m\u001b[36mmoondream:latest\u001b[0m\u001b[36m \u001b[0m│\u001b[35m \u001b[0m\u001b[35m2024-12-07  \u001b[0m\u001b[35m \u001b[0m│\u001b[32m \u001b[0m\u001b[32m55fc3abd386…\u001b[0m\u001b[32m \u001b[0m│\u001b[33m \u001b[0m\u001b[33m  1738451197\u001b[0m\u001b[33m \u001b[0m│\u001b[33m \u001b[0m\u001b[33m        1B\u001b[0m\u001b[33m \u001b[0m│\u001b[34m \u001b[0m\u001b[34mQ4_0       \u001b[0m\u001b[34m \u001b[0m│\u001b[31m \u001b[0m\u001b[31mphi2  \u001b[0m\u001b[31m \u001b[0m│\u001b[31m \u001b[0m\u001b[31mphi2, clip \u001b[0m\u001b[31m \u001b[0m \n",
       " \u001b[36m                  \u001b[0m│\u001b[35m \u001b[0m\u001b[35m22:19:46.41…\u001b[0m\u001b[35m \u001b[0m│\u001b[32m              \u001b[0m│\u001b[33m              \u001b[0m│\u001b[33m            \u001b[0m│\u001b[34m             \u001b[0m│\u001b[31m        \u001b[0m│\u001b[31m             \u001b[0m \n",
       " \u001b[36m \u001b[0m\u001b[36mllama3.2:latest \u001b[0m\u001b[36m \u001b[0m│\u001b[35m \u001b[0m\u001b[35m2024-12-07  \u001b[0m\u001b[35m \u001b[0m│\u001b[32m \u001b[0m\u001b[32ma80c4f17acd…\u001b[0m\u001b[32m \u001b[0m│\u001b[33m \u001b[0m\u001b[33m  2019393189\u001b[0m\u001b[33m \u001b[0m│\u001b[33m \u001b[0m\u001b[33m      3.2B\u001b[0m\u001b[33m \u001b[0m│\u001b[34m \u001b[0m\u001b[34mQ4_K_M     \u001b[0m\u001b[34m \u001b[0m│\u001b[31m \u001b[0m\u001b[31mllama \u001b[0m\u001b[31m \u001b[0m│\u001b[31m \u001b[0m\u001b[31mllama      \u001b[0m\u001b[31m \u001b[0m \n",
       " \u001b[36m                  \u001b[0m│\u001b[35m \u001b[0m\u001b[35m22:18:36.84…\u001b[0m\u001b[35m \u001b[0m│\u001b[32m              \u001b[0m│\u001b[33m              \u001b[0m│\u001b[33m            \u001b[0m│\u001b[34m             \u001b[0m│\u001b[31m        \u001b[0m│\u001b[31m             \u001b[0m \n",
       "                   ╵              ╵              ╵              ╵            ╵             ╵        ╵              \n"
      ]
     },
     "metadata": {},
     "output_type": "display_data"
    },
    {
     "data": {
      "text/html": [
       "<pre style=\"white-space:pre;overflow-x:auto;line-height:normal;font-family:Menlo,'DejaVu Sans Mono',consolas,'Courier New',monospace\">23:21:21.008 | <span style=\"color: #008080; text-decoration-color: #008080\">INFO</span>    | Task run 'list_ollama_models-fb3' - Finished in state <span style=\"color: #008000; text-decoration-color: #008000\">Completed</span>()\n",
       "</pre>\n"
      ],
      "text/plain": [
       "23:21:21.008 | \u001b[36mINFO\u001b[0m    | Task run 'list_ollama_models-fb3' - Finished in state \u001b[32mCompleted\u001b[0m()\n"
      ]
     },
     "metadata": {},
     "output_type": "display_data"
    },
    {
     "data": {
      "text/html": [
       "<pre style=\"white-space:pre;overflow-x:auto;line-height:normal;font-family:Menlo,'DejaVu Sans Mono',consolas,'Courier New',monospace\">23:21:21.039 | <span style=\"color: #008080; text-decoration-color: #008080\">INFO</span>    | prefect - Loaded 3 documents from /home/rakesh/Downloads/sample_data/four/\n",
       "</pre>\n"
      ],
      "text/plain": [
       "23:21:21.039 | \u001b[36mINFO\u001b[0m    | prefect - Loaded 3 documents from /home/rakesh/Downloads/sample_data/four/\n"
      ]
     },
     "metadata": {},
     "output_type": "display_data"
    },
    {
     "data": {
      "text/html": [
       "<pre style=\"white-space:pre;overflow-x:auto;line-height:normal;font-family:Menlo,'DejaVu Sans Mono',consolas,'Courier New',monospace\"><span style=\"color: #008000; text-decoration-color: #008000; font-weight: bold\">Loaded </span><span style=\"color: #008000; text-decoration-color: #008000; font-weight: bold\">3</span><span style=\"color: #008000; text-decoration-color: #008000; font-weight: bold\"> documents from /home/rakesh/Downloads/sample_data/four/</span>\n",
       "</pre>\n"
      ],
      "text/plain": [
       "\u001b[1;32mLoaded \u001b[0m\u001b[1;32m3\u001b[0m\u001b[1;32m documents from \u001b[0m\u001b[1;32m/home/rakesh/Downloads/sample_data/four/\u001b[0m\n"
      ]
     },
     "metadata": {},
     "output_type": "display_data"
    },
    {
     "data": {
      "text/html": [
       "<pre style=\"white-space:pre;overflow-x:auto;line-height:normal;font-family:Menlo,'DejaVu Sans Mono',consolas,'Courier New',monospace\">23:21:21.043 | <span style=\"color: #008080; text-decoration-color: #008080\">INFO</span>    | Task run 'load_documents-75b' - Finished in state <span style=\"color: #008000; text-decoration-color: #008000\">Completed</span>()\n",
       "</pre>\n"
      ],
      "text/plain": [
       "23:21:21.043 | \u001b[36mINFO\u001b[0m    | Task run 'load_documents-75b' - Finished in state \u001b[32mCompleted\u001b[0m()\n"
      ]
     },
     "metadata": {},
     "output_type": "display_data"
    },
    {
     "data": {
      "text/html": [
       "<pre style=\"white-space:pre;overflow-x:auto;line-height:normal;font-family:Menlo,'DejaVu Sans Mono',consolas,'Courier New',monospace\">23:21:21.073 | <span style=\"color: #008080; text-decoration-color: #008080\">INFO</span>    | prefect - Processed metadata: 3 unique documents\n",
       "</pre>\n"
      ],
      "text/plain": [
       "23:21:21.073 | \u001b[36mINFO\u001b[0m    | prefect - Processed metadata: 3 unique documents\n"
      ]
     },
     "metadata": {},
     "output_type": "display_data"
    },
    {
     "data": {
      "text/html": [
       "<pre style=\"white-space:pre;overflow-x:auto;line-height:normal;font-family:Menlo,'DejaVu Sans Mono',consolas,'Courier New',monospace\"><span style=\"color: #008000; text-decoration-color: #008000; font-weight: bold\">Processed metadata: </span><span style=\"color: #008000; text-decoration-color: #008000; font-weight: bold\">3</span><span style=\"color: #008000; text-decoration-color: #008000; font-weight: bold\"> unique documents</span>\n",
       "</pre>\n"
      ],
      "text/plain": [
       "\u001b[1;32mProcessed metadata: \u001b[0m\u001b[1;32m3\u001b[0m\u001b[1;32m unique documents\u001b[0m\n"
      ]
     },
     "metadata": {},
     "output_type": "display_data"
    },
    {
     "data": {
      "text/html": [
       "<pre style=\"white-space:pre;overflow-x:auto;line-height:normal;font-family:Menlo,'DejaVu Sans Mono',consolas,'Courier New',monospace\">23:21:21.076 | <span style=\"color: #008080; text-decoration-color: #008080\">INFO</span>    | Task run 'process_metadata-197' - Finished in state <span style=\"color: #008000; text-decoration-color: #008000\">Completed</span>()\n",
       "</pre>\n"
      ],
      "text/plain": [
       "23:21:21.076 | \u001b[36mINFO\u001b[0m    | Task run 'process_metadata-197' - Finished in state \u001b[32mCompleted\u001b[0m()\n"
      ]
     },
     "metadata": {},
     "output_type": "display_data"
    },
    {
     "name": "stdout",
     "output_type": "stream",
     "text": [
      "\n",
      "\u001b[1;31mGive Feedback / Get Help: https://github.com/BerriAI/litellm/issues/new\u001b[0m\n",
      "LiteLLM.Info: If you need to debug this error, use `litellm.set_verbose=True'.\n",
      "\n"
     ]
    },
    {
     "data": {
      "text/html": [
       "<pre style=\"white-space:pre;overflow-x:auto;line-height:normal;font-family:Menlo,'DejaVu Sans Mono',consolas,'Courier New',monospace\">23:21:31.870 | <span style=\"color: #d70000; text-decoration-color: #d70000\">ERROR</span>   | prefect - LiteLLM Error &gt;&gt;&gt; litellm.APIConnectionError: 'name'\n",
       "Traceback (most recent call last):\n",
       "  File \"/home/rakesh/RD/NSRTech/Tauri/NextjsTauriShadCn/nst/.venv/lib/python3.12/site-packages/litellm/main.py\", line 2673, in completion\n",
       "    generator = ollama.get_ollama_response(\n",
       "                ^^^^^^^^^^^^^^^^^^^^^^^^^^^\n",
       "  File \"/home/rakesh/RD/NSRTech/Tauri/NextjsTauriShadCn/nst/.venv/lib/python3.12/site-packages/litellm/llms/ollama/completion/handler.py\", line 166, in get_ollama_response\n",
       "    \"name\": function_call[\"name\"],\n",
       "            ~~~~~~~~~~~~~^^^^^^^^\n",
       "KeyError: 'name'\n",
       "\n",
       "</pre>\n"
      ],
      "text/plain": [
       "23:21:31.870 | \u001b[38;5;160mERROR\u001b[0m   | prefect - LiteLLM Error >>> litellm.APIConnectionError: 'name'\n",
       "Traceback (most recent call last):\n",
       "  File \"/home/rakesh/RD/NSRTech/Tauri/NextjsTauriShadCn/nst/.venv/lib/python3.12/site-packages/litellm/main.py\", line 2673, in completion\n",
       "    generator = ollama.get_ollama_response(\n",
       "                ^^^^^^^^^^^^^^^^^^^^^^^^^^^\n",
       "  File \"/home/rakesh/RD/NSRTech/Tauri/NextjsTauriShadCn/nst/.venv/lib/python3.12/site-packages/litellm/llms/ollama/completion/handler.py\", line 166, in get_ollama_response\n",
       "    \"name\": function_call[\"name\"],\n",
       "            ~~~~~~~~~~~~~^^^^^^^^\n",
       "KeyError: 'name'\n",
       "\n"
      ]
     },
     "metadata": {},
     "output_type": "display_data"
    },
    {
     "data": {
      "text/html": [
       "<pre style=\"white-space:pre;overflow-x:auto;line-height:normal;font-family:Menlo,'DejaVu Sans Mono',consolas,'Courier New',monospace\"><span style=\"color: #800000; text-decoration-color: #800000; font-weight: bold\">LiteLLM Error:</span> litellm.APIConnectionError: <span style=\"color: #008000; text-decoration-color: #008000\">'name'</span>\n",
       "Traceback <span style=\"font-weight: bold\">(</span>most recent call last<span style=\"font-weight: bold\">)</span>:\n",
       "  File <span style=\"color: #008000; text-decoration-color: #008000\">\"/home/rakesh/RD/NSRTech/Tauri/NextjsTauriShadCn/nst/.venv/lib/python3.12/site-packages/litellm/main.py\"</span>, \n",
       "line <span style=\"color: #008080; text-decoration-color: #008080; font-weight: bold\">2673</span>, in completion\n",
       "    generator = <span style=\"color: #800080; text-decoration-color: #800080; font-weight: bold\">ollama.get_ollama_response</span><span style=\"font-weight: bold\">(</span>\n",
       "                ^^^^^^^^^^^^^^^^^^^^^^^^^^^\n",
       "  File \n",
       "<span style=\"color: #008000; text-decoration-color: #008000\">\"/home/rakesh/RD/NSRTech/Tauri/NextjsTauriShadCn/nst/.venv/lib/python3.12/site-packages/litellm/llms/ollama/complet</span>\n",
       "<span style=\"color: #008000; text-decoration-color: #008000\">ion/handler.py\"</span>, line <span style=\"color: #008080; text-decoration-color: #008080; font-weight: bold\">166</span>, in get_ollama_response\n",
       "    <span style=\"color: #008000; text-decoration-color: #008000\">\"name\"</span>: function_call<span style=\"font-weight: bold\">[</span><span style=\"color: #008000; text-decoration-color: #008000\">\"name\"</span><span style=\"font-weight: bold\">]</span>,\n",
       "            ~~~~~~~~~~~~~^^^^^^^^\n",
       "KeyError: <span style=\"color: #008000; text-decoration-color: #008000\">'name'</span>\n",
       "\n",
       "</pre>\n"
      ],
      "text/plain": [
       "\u001b[1;31mLiteLLM Error:\u001b[0m litellm.APIConnectionError: \u001b[32m'name'\u001b[0m\n",
       "Traceback \u001b[1m(\u001b[0mmost recent call last\u001b[1m)\u001b[0m:\n",
       "  File \u001b[32m\"/home/rakesh/RD/NSRTech/Tauri/NextjsTauriShadCn/nst/.venv/lib/python3.12/site-packages/litellm/main.py\"\u001b[0m, \n",
       "line \u001b[1;36m2673\u001b[0m, in completion\n",
       "    generator = \u001b[1;35mollama.get_ollama_response\u001b[0m\u001b[1m(\u001b[0m\n",
       "                ^^^^^^^^^^^^^^^^^^^^^^^^^^^\n",
       "  File \n",
       "\u001b[32m\"/home/rakesh/RD/NSRTech/Tauri/NextjsTauriShadCn/nst/.venv/lib/python3.12/site-packages/litellm/llms/ollama/complet\u001b[0m\n",
       "\u001b[32mion/handler.py\"\u001b[0m, line \u001b[1;36m166\u001b[0m, in get_ollama_response\n",
       "    \u001b[32m\"name\"\u001b[0m: function_call\u001b[1m[\u001b[0m\u001b[32m\"name\"\u001b[0m\u001b[1m]\u001b[0m,\n",
       "            ~~~~~~~~~~~~~^^^^^^^^\n",
       "KeyError: \u001b[32m'name'\u001b[0m\n",
       "\n"
      ]
     },
     "metadata": {},
     "output_type": "display_data"
    },
    {
     "data": {
      "text/html": [
       "<pre style=\"white-space:pre;overflow-x:auto;line-height:normal;font-family:Menlo,'DejaVu Sans Mono',consolas,'Courier New',monospace\">23:21:31.876 | <span style=\"color: #008080; text-decoration-color: #008080\">INFO</span>    | Task run 'query_summaries-ecf' - Finished in state <span style=\"color: #008000; text-decoration-color: #008000\">Completed</span>()\n",
       "</pre>\n"
      ],
      "text/plain": [
       "23:21:31.876 | \u001b[36mINFO\u001b[0m    | Task run 'query_summaries-ecf' - Finished in state \u001b[32mCompleted\u001b[0m()\n"
      ]
     },
     "metadata": {},
     "output_type": "display_data"
    },
    {
     "name": "stdout",
     "output_type": "stream",
     "text": [
      "\n",
      "\u001b[1;31mGive Feedback / Get Help: https://github.com/BerriAI/litellm/issues/new\u001b[0m\n",
      "LiteLLM.Info: If you need to debug this error, use `litellm.set_verbose=True'.\n",
      "\n"
     ]
    },
    {
     "data": {
      "text/html": [
       "<pre style=\"white-space:pre;overflow-x:auto;line-height:normal;font-family:Menlo,'DejaVu Sans Mono',consolas,'Courier New',monospace\">23:21:34.146 | <span style=\"color: #d70000; text-decoration-color: #d70000\">ERROR</span>   | prefect - LiteLLM Error &gt;&gt;&gt; litellm.APIConnectionError: 'name'\n",
       "Traceback (most recent call last):\n",
       "  File \"/home/rakesh/RD/NSRTech/Tauri/NextjsTauriShadCn/nst/.venv/lib/python3.12/site-packages/litellm/main.py\", line 2673, in completion\n",
       "    generator = ollama.get_ollama_response(\n",
       "                ^^^^^^^^^^^^^^^^^^^^^^^^^^^\n",
       "  File \"/home/rakesh/RD/NSRTech/Tauri/NextjsTauriShadCn/nst/.venv/lib/python3.12/site-packages/litellm/llms/ollama/completion/handler.py\", line 166, in get_ollama_response\n",
       "    \"name\": function_call[\"name\"],\n",
       "            ~~~~~~~~~~~~~^^^^^^^^\n",
       "KeyError: 'name'\n",
       "\n",
       "</pre>\n"
      ],
      "text/plain": [
       "23:21:34.146 | \u001b[38;5;160mERROR\u001b[0m   | prefect - LiteLLM Error >>> litellm.APIConnectionError: 'name'\n",
       "Traceback (most recent call last):\n",
       "  File \"/home/rakesh/RD/NSRTech/Tauri/NextjsTauriShadCn/nst/.venv/lib/python3.12/site-packages/litellm/main.py\", line 2673, in completion\n",
       "    generator = ollama.get_ollama_response(\n",
       "                ^^^^^^^^^^^^^^^^^^^^^^^^^^^\n",
       "  File \"/home/rakesh/RD/NSRTech/Tauri/NextjsTauriShadCn/nst/.venv/lib/python3.12/site-packages/litellm/llms/ollama/completion/handler.py\", line 166, in get_ollama_response\n",
       "    \"name\": function_call[\"name\"],\n",
       "            ~~~~~~~~~~~~~^^^^^^^^\n",
       "KeyError: 'name'\n",
       "\n"
      ]
     },
     "metadata": {},
     "output_type": "display_data"
    },
    {
     "data": {
      "text/html": [
       "<pre style=\"white-space:pre;overflow-x:auto;line-height:normal;font-family:Menlo,'DejaVu Sans Mono',consolas,'Courier New',monospace\"><span style=\"color: #800000; text-decoration-color: #800000; font-weight: bold\">LiteLLM Error:</span> litellm.APIConnectionError: <span style=\"color: #008000; text-decoration-color: #008000\">'name'</span>\n",
       "Traceback <span style=\"font-weight: bold\">(</span>most recent call last<span style=\"font-weight: bold\">)</span>:\n",
       "  File <span style=\"color: #008000; text-decoration-color: #008000\">\"/home/rakesh/RD/NSRTech/Tauri/NextjsTauriShadCn/nst/.venv/lib/python3.12/site-packages/litellm/main.py\"</span>, \n",
       "line <span style=\"color: #008080; text-decoration-color: #008080; font-weight: bold\">2673</span>, in completion\n",
       "    generator = <span style=\"color: #800080; text-decoration-color: #800080; font-weight: bold\">ollama.get_ollama_response</span><span style=\"font-weight: bold\">(</span>\n",
       "                ^^^^^^^^^^^^^^^^^^^^^^^^^^^\n",
       "  File \n",
       "<span style=\"color: #008000; text-decoration-color: #008000\">\"/home/rakesh/RD/NSRTech/Tauri/NextjsTauriShadCn/nst/.venv/lib/python3.12/site-packages/litellm/llms/ollama/complet</span>\n",
       "<span style=\"color: #008000; text-decoration-color: #008000\">ion/handler.py\"</span>, line <span style=\"color: #008080; text-decoration-color: #008080; font-weight: bold\">166</span>, in get_ollama_response\n",
       "    <span style=\"color: #008000; text-decoration-color: #008000\">\"name\"</span>: function_call<span style=\"font-weight: bold\">[</span><span style=\"color: #008000; text-decoration-color: #008000\">\"name\"</span><span style=\"font-weight: bold\">]</span>,\n",
       "            ~~~~~~~~~~~~~^^^^^^^^\n",
       "KeyError: <span style=\"color: #008000; text-decoration-color: #008000\">'name'</span>\n",
       "\n",
       "</pre>\n"
      ],
      "text/plain": [
       "\u001b[1;31mLiteLLM Error:\u001b[0m litellm.APIConnectionError: \u001b[32m'name'\u001b[0m\n",
       "Traceback \u001b[1m(\u001b[0mmost recent call last\u001b[1m)\u001b[0m:\n",
       "  File \u001b[32m\"/home/rakesh/RD/NSRTech/Tauri/NextjsTauriShadCn/nst/.venv/lib/python3.12/site-packages/litellm/main.py\"\u001b[0m, \n",
       "line \u001b[1;36m2673\u001b[0m, in completion\n",
       "    generator = \u001b[1;35mollama.get_ollama_response\u001b[0m\u001b[1m(\u001b[0m\n",
       "                ^^^^^^^^^^^^^^^^^^^^^^^^^^^\n",
       "  File \n",
       "\u001b[32m\"/home/rakesh/RD/NSRTech/Tauri/NextjsTauriShadCn/nst/.venv/lib/python3.12/site-packages/litellm/llms/ollama/complet\u001b[0m\n",
       "\u001b[32mion/handler.py\"\u001b[0m, line \u001b[1;36m166\u001b[0m, in get_ollama_response\n",
       "    \u001b[32m\"name\"\u001b[0m: function_call\u001b[1m[\u001b[0m\u001b[32m\"name\"\u001b[0m\u001b[1m]\u001b[0m,\n",
       "            ~~~~~~~~~~~~~^^^^^^^^\n",
       "KeyError: \u001b[32m'name'\u001b[0m\n",
       "\n"
      ]
     },
     "metadata": {},
     "output_type": "display_data"
    },
    {
     "data": {
      "text/html": [
       "<pre style=\"white-space:pre;overflow-x:auto;line-height:normal;font-family:Menlo,'DejaVu Sans Mono',consolas,'Courier New',monospace\">23:21:34.150 | <span style=\"color: #008080; text-decoration-color: #008080\">INFO</span>    | Task run 'create_file_tree-d5f' - Finished in state <span style=\"color: #008000; text-decoration-color: #008000\">Completed</span>()\n",
       "</pre>\n"
      ],
      "text/plain": [
       "23:21:34.150 | \u001b[36mINFO\u001b[0m    | Task run 'create_file_tree-d5f' - Finished in state \u001b[32mCompleted\u001b[0m()\n"
      ]
     },
     "metadata": {},
     "output_type": "display_data"
    },
    {
     "data": {
      "text/html": [
       "<pre style=\"white-space:pre;overflow-x:auto;line-height:normal;font-family:Menlo,'DejaVu Sans Mono',consolas,'Courier New',monospace\">23:21:34.176 | <span style=\"color: #008080; text-decoration-color: #008080\">INFO</span>    | prefect - All necessary subdirectories created.\n",
       "</pre>\n"
      ],
      "text/plain": [
       "23:21:34.176 | \u001b[36mINFO\u001b[0m    | prefect - All necessary subdirectories created.\n"
      ]
     },
     "metadata": {},
     "output_type": "display_data"
    },
    {
     "data": {
      "text/html": [
       "<pre style=\"white-space:pre;overflow-x:auto;line-height:normal;font-family:Menlo,'DejaVu Sans Mono',consolas,'Courier New',monospace\"><span style=\"color: #008000; text-decoration-color: #008000; font-weight: bold\">All necessary subdirectories created.</span>\n",
       "</pre>\n"
      ],
      "text/plain": [
       "\u001b[1;32mAll necessary subdirectories created.\u001b[0m\n"
      ]
     },
     "metadata": {},
     "output_type": "display_data"
    },
    {
     "data": {
      "text/html": [
       "<pre style=\"white-space:pre;overflow-x:auto;line-height:normal;font-family:Menlo,'DejaVu Sans Mono',consolas,'Courier New',monospace\">23:21:34.179 | <span style=\"color: #008080; text-decoration-color: #008080\">INFO</span>    | Task run 'create_subdirectories-8fd' - Finished in state <span style=\"color: #008000; text-decoration-color: #008000\">Completed</span>()\n",
       "</pre>\n"
      ],
      "text/plain": [
       "23:21:34.179 | \u001b[36mINFO\u001b[0m    | Task run 'create_subdirectories-8fd' - Finished in state \u001b[32mCompleted\u001b[0m()\n"
      ]
     },
     "metadata": {},
     "output_type": "display_data"
    },
    {
     "data": {
      "text/html": [
       "<pre style=\"white-space:pre;overflow-x:auto;line-height:normal;font-family:Menlo,'DejaVu Sans Mono',consolas,'Courier New',monospace\">23:21:34.204 | <span style=\"color: #008080; text-decoration-color: #008080\">INFO</span>    | prefect - Concatenated summary and file tree for 0 files\n",
       "</pre>\n"
      ],
      "text/plain": [
       "23:21:34.204 | \u001b[36mINFO\u001b[0m    | prefect - Concatenated summary and file tree for 0 files\n"
      ]
     },
     "metadata": {},
     "output_type": "display_data"
    },
    {
     "data": {
      "text/html": [
       "<pre style=\"white-space:pre;overflow-x:auto;line-height:normal;font-family:Menlo,'DejaVu Sans Mono',consolas,'Courier New',monospace\"><span style=\"color: #008000; text-decoration-color: #008000; font-weight: bold\">Concatenated summary and file tree for </span><span style=\"color: #008000; text-decoration-color: #008000; font-weight: bold\">0</span><span style=\"color: #008000; text-decoration-color: #008000; font-weight: bold\"> files</span>\n",
       "</pre>\n"
      ],
      "text/plain": [
       "\u001b[1;32mConcatenated summary and file tree for \u001b[0m\u001b[1;32m0\u001b[0m\u001b[1;32m files\u001b[0m\n"
      ]
     },
     "metadata": {},
     "output_type": "display_data"
    },
    {
     "data": {
      "text/html": [
       "<pre style=\"white-space:pre;overflow-x:auto;line-height:normal;font-family:Menlo,'DejaVu Sans Mono',consolas,'Courier New',monospace\">23:21:34.206 | <span style=\"color: #008080; text-decoration-color: #008080\">INFO</span>    | Task run 'concatenate_summaries_and_file_tree-b64' - Finished in state <span style=\"color: #008000; text-decoration-color: #008000\">Completed</span>()\n",
       "</pre>\n"
      ],
      "text/plain": [
       "23:21:34.206 | \u001b[36mINFO\u001b[0m    | Task run 'concatenate_summaries_and_file_tree-b64' - Finished in state \u001b[32mCompleted\u001b[0m()\n"
      ]
     },
     "metadata": {},
     "output_type": "display_data"
    },
    {
     "data": {
      "text/html": [
       "<pre style=\"white-space:pre;overflow-x:auto;line-height:normal;font-family:Menlo,'DejaVu Sans Mono',consolas,'Courier New',monospace\"><span style=\"color: #800000; text-decoration-color: #800000; font-weight: bold\">No organized files to display.</span>\n",
       "</pre>\n"
      ],
      "text/plain": [
       "\u001b[1;31mNo organized files to display.\u001b[0m\n"
      ]
     },
     "metadata": {},
     "output_type": "display_data"
    },
    {
     "data": {
      "text/html": [
       "<pre style=\"white-space:pre;overflow-x:auto;line-height:normal;font-family:Menlo,'DejaVu Sans Mono',consolas,'Courier New',monospace\">23:21:34.233 | <span style=\"color: #008080; text-decoration-color: #008080\">INFO</span>    | Task run 'display_organized_files-c73' - Finished in state <span style=\"color: #008000; text-decoration-color: #008000\">Completed</span>()\n",
       "</pre>\n"
      ],
      "text/plain": [
       "23:21:34.233 | \u001b[36mINFO\u001b[0m    | Task run 'display_organized_files-c73' - Finished in state \u001b[32mCompleted\u001b[0m()\n"
      ]
     },
     "metadata": {},
     "output_type": "display_data"
    },
    {
     "data": {
      "text/html": [
       "<pre style=\"white-space:pre;overflow-x:auto;line-height:normal;font-family:Menlo,'DejaVu Sans Mono',consolas,'Courier New',monospace\"><span style=\"color: #800000; text-decoration-color: #800000; font-weight: bold\">No concatenated data to display.</span>\n",
       "</pre>\n"
      ],
      "text/plain": [
       "\u001b[1;31mNo concatenated data to display.\u001b[0m\n"
      ]
     },
     "metadata": {},
     "output_type": "display_data"
    },
    {
     "data": {
      "text/html": [
       "<pre style=\"white-space:pre;overflow-x:auto;line-height:normal;font-family:Menlo,'DejaVu Sans Mono',consolas,'Courier New',monospace\">23:21:34.259 | <span style=\"color: #008080; text-decoration-color: #008080\">INFO</span>    | Task run 'display_concatenated_dict-252' - Finished in state <span style=\"color: #008000; text-decoration-color: #008000\">Completed</span>()\n",
       "</pre>\n"
      ],
      "text/plain": [
       "23:21:34.259 | \u001b[36mINFO\u001b[0m    | Task run 'display_concatenated_dict-252' - Finished in state \u001b[32mCompleted\u001b[0m()\n"
      ]
     },
     "metadata": {},
     "output_type": "display_data"
    },
    {
     "data": {
      "text/html": [
       "<pre style=\"white-space:pre;overflow-x:auto;line-height:normal;font-family:Menlo,'DejaVu Sans Mono',consolas,'Courier New',monospace\">23:21:34.285 | <span style=\"color: #008080; text-decoration-color: #008080\">INFO</span>    | Flow run<span style=\"color: #800080; text-decoration-color: #800080\"> 'sociable-coua'</span> - Finished in state <span style=\"color: #008000; text-decoration-color: #008000\">Completed</span>()\n",
       "</pre>\n"
      ],
      "text/plain": [
       "23:21:34.285 | \u001b[36mINFO\u001b[0m    | Flow run\u001b[35m 'sociable-coua'\u001b[0m - Finished in state \u001b[32mCompleted\u001b[0m()\n"
      ]
     },
     "metadata": {},
     "output_type": "display_data"
    },
    {
     "data": {
      "text/html": [
       "<pre style=\"white-space:pre;overflow-x:auto;line-height:normal;font-family:Menlo,'DejaVu Sans Mono',consolas,'Courier New',monospace\"><span style=\"color: #808000; text-decoration-color: #808000; font-weight: bold\">Summaries:</span>\n",
       "</pre>\n"
      ],
      "text/plain": [
       "\u001b[1;33mSummaries:\u001b[0m\n"
      ]
     },
     "metadata": {},
     "output_type": "display_data"
    },
    {
     "name": "stdout",
     "output_type": "stream",
     "text": [
      "'{\\n    \"files\": [],\\n    \"cost\": 0.003129\\n}'\n"
     ]
    },
    {
     "data": {
      "text/html": [
       "<pre style=\"white-space:pre;overflow-x:auto;line-height:normal;font-family:Menlo,'DejaVu Sans Mono',consolas,'Courier New',monospace\">\n",
       "<span style=\"color: #808000; text-decoration-color: #808000; font-weight: bold\">File Tree:</span>\n",
       "</pre>\n"
      ],
      "text/plain": [
       "\n",
       "\u001b[1;33mFile Tree:\u001b[0m\n"
      ]
     },
     "metadata": {},
     "output_type": "display_data"
    },
    {
     "name": "stdout",
     "output_type": "stream",
     "text": [
      "'[]'\n"
     ]
    },
    {
     "data": {
      "text/html": [
       "<pre style=\"white-space:pre;overflow-x:auto;line-height:normal;font-family:Menlo,'DejaVu Sans Mono',consolas,'Courier New',monospace\">\n",
       "<span style=\"color: #808000; text-decoration-color: #808000; font-weight: bold\">Concatenated Data:</span>\n",
       "</pre>\n"
      ],
      "text/plain": [
       "\n",
       "\u001b[1;33mConcatenated Data:\u001b[0m\n"
      ]
     },
     "metadata": {},
     "output_type": "display_data"
    },
    {
     "name": "stdout",
     "output_type": "stream",
     "text": [
      "'[]'\n"
     ]
    }
   ],
   "source": [
    "\n",
    "if __name__ == \"__main__\":\n",
    "    # Define your parameters\n",
    "    source_directory = \"/home/rakesh/Downloads/sample_data/four/\"  # Replace with your actual source documents path\n",
    "    destination_directory = \"/home/rakesh/Downloads/sample_data/four_organized_o/\"  # Replace with your desired destination path\n",
    "    api_host = \"localhost\"                                         # API host address (not needed if api_base is provided)\n",
    "    api_port = 8111                                                # API port number\n",
    "    summary_model = \"ollama/smollm2:135m\"\n",
    "    # tree_model = \"ollama/llama3.2:latest\"\n",
    "    tree_model = \"ollama/smollm2:135m\"\n",
    "    api_base_url = \"http://localhost:11434\"                        # Base URL for the API\n",
    "    use_streaming = False                                          # Set to True if you want streaming\n",
    "\n",
    "    # Ensure destination directory exists\n",
    "    os.makedirs(destination_directory, exist_ok=True)\n",
    "\n",
    "    # Run the workflow\n",
    "    organized_files_result = document_processing_workflow(\n",
    "        source_path=source_directory,\n",
    "        destination_path=destination_directory,\n",
    "        api_host=api_host,\n",
    "        api_port=api_port,\n",
    "        summary_model=summary_model,\n",
    "        tree_model=tree_model,\n",
    "        api_base=api_base_url,\n",
    "        stream=use_streaming\n",
    "    )\n",
    "\n",
    "    # Extract the results\n",
    "    summaries = organized_files_result.get(\"summaries\", {})\n",
    "    file_tree = organized_files_result.get(\"file_tree\", [])\n",
    "    concatenated_data = organized_files_result.get(\"concatenated_data\", [])\n",
    "\n",
    "    # Optionally, pretty-print the results using Rich\n",
    "    console.print(\"[bold yellow]Summaries:[/bold yellow]\")\n",
    "    pprint(json.dumps(summaries, indent=4))\n",
    "\n",
    "    console.print(\"\\n[bold yellow]File Tree:[/bold yellow]\")\n",
    "    pprint(json.dumps(file_tree, indent=4))\n",
    "\n",
    "    console.print(\"\\n[bold yellow]Concatenated Data:[/bold yellow]\")\n",
    "    pprint(json.dumps(concatenated_data, indent=4))\n"
   ]
  },
  {
   "cell_type": "markdown",
   "metadata": {},
   "source": [
    "### OpenRouter - gemini-2.0-flash-exp:free"
   ]
  },
  {
   "cell_type": "code",
   "execution_count": 28,
   "metadata": {},
   "outputs": [
    {
     "data": {
      "text/html": [
       "<pre style=\"white-space:pre;overflow-x:auto;line-height:normal;font-family:Menlo,'DejaVu Sans Mono',consolas,'Courier New',monospace\">23:18:40.511 | <span style=\"color: #008080; text-decoration-color: #008080\">INFO</span>    | prefect.engine - Created flow run<span style=\"color: #800080; text-decoration-color: #800080\"> 'petite-caracal'</span> for flow<span style=\"color: #800080; text-decoration-color: #800080; font-weight: bold\"> 'Document Processing Workflow'</span>\n",
       "</pre>\n"
      ],
      "text/plain": [
       "23:18:40.511 | \u001b[36mINFO\u001b[0m    | prefect.engine - Created flow run\u001b[35m 'petite-caracal'\u001b[0m for flow\u001b[1;35m 'Document Processing Workflow'\u001b[0m\n"
      ]
     },
     "metadata": {},
     "output_type": "display_data"
    },
    {
     "data": {
      "text/html": [
       "<pre style=\"white-space:pre;overflow-x:auto;line-height:normal;font-family:Menlo,'DejaVu Sans Mono',consolas,'Courier New',monospace\">23:18:40.567 | <span style=\"color: #008080; text-decoration-color: #008080\">INFO</span>    | prefect - Success callback set successfully.\n",
       "</pre>\n"
      ],
      "text/plain": [
       "23:18:40.567 | \u001b[36mINFO\u001b[0m    | prefect - Success callback set successfully.\n"
      ]
     },
     "metadata": {},
     "output_type": "display_data"
    },
    {
     "data": {
      "text/html": [
       "<pre style=\"white-space:pre;overflow-x:auto;line-height:normal;font-family:Menlo,'DejaVu Sans Mono',consolas,'Courier New',monospace\">23:18:40.569 | <span style=\"color: #008080; text-decoration-color: #008080\">INFO</span>    | Task run 'set_success_callback-088' - Finished in state <span style=\"color: #008000; text-decoration-color: #008000\">Completed</span>()\n",
       "</pre>\n"
      ],
      "text/plain": [
       "23:18:40.569 | \u001b[36mINFO\u001b[0m    | Task run 'set_success_callback-088' - Finished in state \u001b[32mCompleted\u001b[0m()\n"
      ]
     },
     "metadata": {},
     "output_type": "display_data"
    },
    {
     "data": {
      "text/html": [
       "<pre style=\"white-space:pre;overflow-x:auto;line-height:normal;font-family:Menlo,'DejaVu Sans Mono',consolas,'Courier New',monospace\"><span style=\"font-style: italic\">                                              Available Ollama Models                                              </span>\n",
       "                   ╷              ╷              ╷              ╷            ╷             ╷        ╷              \n",
       " <span style=\"font-weight: bold\"> Model Name       </span>│<span style=\"font-weight: bold\"> Modified At  </span>│<span style=\"font-weight: bold\"> Digest       </span>│<span style=\"font-weight: bold\"> Size (bytes) </span>│<span style=\"font-weight: bold\"> Param Size </span>│<span style=\"font-weight: bold\"> Quant Level </span>│<span style=\"font-weight: bold\"> Family </span>│<span style=\"font-weight: bold\"> Families    </span> \n",
       " ══════════════════╪══════════════╪══════════════╪══════════════╪════════════╪═════════════╪════════╪═════════════ \n",
       " <span style=\"color: #008080; text-decoration-color: #008080\"> smollm2:135m     </span>│<span style=\"color: #800080; text-decoration-color: #800080\"> 2024-12-18   </span>│<span style=\"color: #008000; text-decoration-color: #008000\"> 9077fe9d2ae… </span>│<span style=\"color: #808000; text-decoration-color: #808000\">    270898672 </span>│<span style=\"color: #808000; text-decoration-color: #808000\">    134.52M </span>│<span style=\"color: #000080; text-decoration-color: #000080\"> F16         </span>│<span style=\"color: #800000; text-decoration-color: #800000\"> llama  </span>│<span style=\"color: #800000; text-decoration-color: #800000\"> llama       </span> \n",
       " <span style=\"color: #008080; text-decoration-color: #008080\">                  </span>│<span style=\"color: #800080; text-decoration-color: #800080\"> 11:49:06.80… </span>│<span style=\"color: #008000; text-decoration-color: #008000\">              </span>│<span style=\"color: #808000; text-decoration-color: #808000\">              </span>│<span style=\"color: #808000; text-decoration-color: #808000\">            </span>│<span style=\"color: #000080; text-decoration-color: #000080\">             </span>│<span style=\"color: #800000; text-decoration-color: #800000\">        </span>│<span style=\"color: #800000; text-decoration-color: #800000\">             </span> \n",
       " <span style=\"color: #008080; text-decoration-color: #008080\"> llava:latest     </span>│<span style=\"color: #800080; text-decoration-color: #800080\"> 2024-12-07   </span>│<span style=\"color: #008000; text-decoration-color: #008000\"> 8dd30f6b0cb… </span>│<span style=\"color: #808000; text-decoration-color: #808000\">   4733363377 </span>│<span style=\"color: #808000; text-decoration-color: #808000\">         7B </span>│<span style=\"color: #000080; text-decoration-color: #000080\"> Q4_0        </span>│<span style=\"color: #800000; text-decoration-color: #800000\"> llama  </span>│<span style=\"color: #800000; text-decoration-color: #800000\"> llama, clip </span> \n",
       " <span style=\"color: #008080; text-decoration-color: #008080\">                  </span>│<span style=\"color: #800080; text-decoration-color: #800080\"> 23:46:35.56… </span>│<span style=\"color: #008000; text-decoration-color: #008000\">              </span>│<span style=\"color: #808000; text-decoration-color: #808000\">              </span>│<span style=\"color: #808000; text-decoration-color: #808000\">            </span>│<span style=\"color: #000080; text-decoration-color: #000080\">             </span>│<span style=\"color: #800000; text-decoration-color: #800000\">        </span>│<span style=\"color: #800000; text-decoration-color: #800000\">             </span> \n",
       " <span style=\"color: #008080; text-decoration-color: #008080\"> moondream:latest </span>│<span style=\"color: #800080; text-decoration-color: #800080\"> 2024-12-07   </span>│<span style=\"color: #008000; text-decoration-color: #008000\"> 55fc3abd386… </span>│<span style=\"color: #808000; text-decoration-color: #808000\">   1738451197 </span>│<span style=\"color: #808000; text-decoration-color: #808000\">         1B </span>│<span style=\"color: #000080; text-decoration-color: #000080\"> Q4_0        </span>│<span style=\"color: #800000; text-decoration-color: #800000\"> phi2   </span>│<span style=\"color: #800000; text-decoration-color: #800000\"> phi2, clip  </span> \n",
       " <span style=\"color: #008080; text-decoration-color: #008080\">                  </span>│<span style=\"color: #800080; text-decoration-color: #800080\"> 22:19:46.41… </span>│<span style=\"color: #008000; text-decoration-color: #008000\">              </span>│<span style=\"color: #808000; text-decoration-color: #808000\">              </span>│<span style=\"color: #808000; text-decoration-color: #808000\">            </span>│<span style=\"color: #000080; text-decoration-color: #000080\">             </span>│<span style=\"color: #800000; text-decoration-color: #800000\">        </span>│<span style=\"color: #800000; text-decoration-color: #800000\">             </span> \n",
       " <span style=\"color: #008080; text-decoration-color: #008080\"> llama3.2:latest  </span>│<span style=\"color: #800080; text-decoration-color: #800080\"> 2024-12-07   </span>│<span style=\"color: #008000; text-decoration-color: #008000\"> a80c4f17acd… </span>│<span style=\"color: #808000; text-decoration-color: #808000\">   2019393189 </span>│<span style=\"color: #808000; text-decoration-color: #808000\">       3.2B </span>│<span style=\"color: #000080; text-decoration-color: #000080\"> Q4_K_M      </span>│<span style=\"color: #800000; text-decoration-color: #800000\"> llama  </span>│<span style=\"color: #800000; text-decoration-color: #800000\"> llama       </span> \n",
       " <span style=\"color: #008080; text-decoration-color: #008080\">                  </span>│<span style=\"color: #800080; text-decoration-color: #800080\"> 22:18:36.84… </span>│<span style=\"color: #008000; text-decoration-color: #008000\">              </span>│<span style=\"color: #808000; text-decoration-color: #808000\">              </span>│<span style=\"color: #808000; text-decoration-color: #808000\">            </span>│<span style=\"color: #000080; text-decoration-color: #000080\">             </span>│<span style=\"color: #800000; text-decoration-color: #800000\">        </span>│<span style=\"color: #800000; text-decoration-color: #800000\">             </span> \n",
       "                   ╵              ╵              ╵              ╵            ╵             ╵        ╵              \n",
       "</pre>\n"
      ],
      "text/plain": [
       "\u001b[3m                                              Available Ollama Models                                              \u001b[0m\n",
       "                   ╷              ╷              ╷              ╷            ╷             ╷        ╷              \n",
       " \u001b[1m \u001b[0m\u001b[1mModel Name      \u001b[0m\u001b[1m \u001b[0m│\u001b[1m \u001b[0m\u001b[1mModified At \u001b[0m\u001b[1m \u001b[0m│\u001b[1m \u001b[0m\u001b[1mDigest      \u001b[0m\u001b[1m \u001b[0m│\u001b[1m \u001b[0m\u001b[1mSize (bytes)\u001b[0m\u001b[1m \u001b[0m│\u001b[1m \u001b[0m\u001b[1mParam Size\u001b[0m\u001b[1m \u001b[0m│\u001b[1m \u001b[0m\u001b[1mQuant Level\u001b[0m\u001b[1m \u001b[0m│\u001b[1m \u001b[0m\u001b[1mFamily\u001b[0m\u001b[1m \u001b[0m│\u001b[1m \u001b[0m\u001b[1mFamilies   \u001b[0m\u001b[1m \u001b[0m \n",
       " ══════════════════╪══════════════╪══════════════╪══════════════╪════════════╪═════════════╪════════╪═════════════ \n",
       " \u001b[36m \u001b[0m\u001b[36msmollm2:135m    \u001b[0m\u001b[36m \u001b[0m│\u001b[35m \u001b[0m\u001b[35m2024-12-18  \u001b[0m\u001b[35m \u001b[0m│\u001b[32m \u001b[0m\u001b[32m9077fe9d2ae…\u001b[0m\u001b[32m \u001b[0m│\u001b[33m \u001b[0m\u001b[33m   270898672\u001b[0m\u001b[33m \u001b[0m│\u001b[33m \u001b[0m\u001b[33m   134.52M\u001b[0m\u001b[33m \u001b[0m│\u001b[34m \u001b[0m\u001b[34mF16        \u001b[0m\u001b[34m \u001b[0m│\u001b[31m \u001b[0m\u001b[31mllama \u001b[0m\u001b[31m \u001b[0m│\u001b[31m \u001b[0m\u001b[31mllama      \u001b[0m\u001b[31m \u001b[0m \n",
       " \u001b[36m                  \u001b[0m│\u001b[35m \u001b[0m\u001b[35m11:49:06.80…\u001b[0m\u001b[35m \u001b[0m│\u001b[32m              \u001b[0m│\u001b[33m              \u001b[0m│\u001b[33m            \u001b[0m│\u001b[34m             \u001b[0m│\u001b[31m        \u001b[0m│\u001b[31m             \u001b[0m \n",
       " \u001b[36m \u001b[0m\u001b[36mllava:latest    \u001b[0m\u001b[36m \u001b[0m│\u001b[35m \u001b[0m\u001b[35m2024-12-07  \u001b[0m\u001b[35m \u001b[0m│\u001b[32m \u001b[0m\u001b[32m8dd30f6b0cb…\u001b[0m\u001b[32m \u001b[0m│\u001b[33m \u001b[0m\u001b[33m  4733363377\u001b[0m\u001b[33m \u001b[0m│\u001b[33m \u001b[0m\u001b[33m        7B\u001b[0m\u001b[33m \u001b[0m│\u001b[34m \u001b[0m\u001b[34mQ4_0       \u001b[0m\u001b[34m \u001b[0m│\u001b[31m \u001b[0m\u001b[31mllama \u001b[0m\u001b[31m \u001b[0m│\u001b[31m \u001b[0m\u001b[31mllama, clip\u001b[0m\u001b[31m \u001b[0m \n",
       " \u001b[36m                  \u001b[0m│\u001b[35m \u001b[0m\u001b[35m23:46:35.56…\u001b[0m\u001b[35m \u001b[0m│\u001b[32m              \u001b[0m│\u001b[33m              \u001b[0m│\u001b[33m            \u001b[0m│\u001b[34m             \u001b[0m│\u001b[31m        \u001b[0m│\u001b[31m             \u001b[0m \n",
       " \u001b[36m \u001b[0m\u001b[36mmoondream:latest\u001b[0m\u001b[36m \u001b[0m│\u001b[35m \u001b[0m\u001b[35m2024-12-07  \u001b[0m\u001b[35m \u001b[0m│\u001b[32m \u001b[0m\u001b[32m55fc3abd386…\u001b[0m\u001b[32m \u001b[0m│\u001b[33m \u001b[0m\u001b[33m  1738451197\u001b[0m\u001b[33m \u001b[0m│\u001b[33m \u001b[0m\u001b[33m        1B\u001b[0m\u001b[33m \u001b[0m│\u001b[34m \u001b[0m\u001b[34mQ4_0       \u001b[0m\u001b[34m \u001b[0m│\u001b[31m \u001b[0m\u001b[31mphi2  \u001b[0m\u001b[31m \u001b[0m│\u001b[31m \u001b[0m\u001b[31mphi2, clip \u001b[0m\u001b[31m \u001b[0m \n",
       " \u001b[36m                  \u001b[0m│\u001b[35m \u001b[0m\u001b[35m22:19:46.41…\u001b[0m\u001b[35m \u001b[0m│\u001b[32m              \u001b[0m│\u001b[33m              \u001b[0m│\u001b[33m            \u001b[0m│\u001b[34m             \u001b[0m│\u001b[31m        \u001b[0m│\u001b[31m             \u001b[0m \n",
       " \u001b[36m \u001b[0m\u001b[36mllama3.2:latest \u001b[0m\u001b[36m \u001b[0m│\u001b[35m \u001b[0m\u001b[35m2024-12-07  \u001b[0m\u001b[35m \u001b[0m│\u001b[32m \u001b[0m\u001b[32ma80c4f17acd…\u001b[0m\u001b[32m \u001b[0m│\u001b[33m \u001b[0m\u001b[33m  2019393189\u001b[0m\u001b[33m \u001b[0m│\u001b[33m \u001b[0m\u001b[33m      3.2B\u001b[0m\u001b[33m \u001b[0m│\u001b[34m \u001b[0m\u001b[34mQ4_K_M     \u001b[0m\u001b[34m \u001b[0m│\u001b[31m \u001b[0m\u001b[31mllama \u001b[0m\u001b[31m \u001b[0m│\u001b[31m \u001b[0m\u001b[31mllama      \u001b[0m\u001b[31m \u001b[0m \n",
       " \u001b[36m                  \u001b[0m│\u001b[35m \u001b[0m\u001b[35m22:18:36.84…\u001b[0m\u001b[35m \u001b[0m│\u001b[32m              \u001b[0m│\u001b[33m              \u001b[0m│\u001b[33m            \u001b[0m│\u001b[34m             \u001b[0m│\u001b[31m        \u001b[0m│\u001b[31m             \u001b[0m \n",
       "                   ╵              ╵              ╵              ╵            ╵             ╵        ╵              \n"
      ]
     },
     "metadata": {},
     "output_type": "display_data"
    },
    {
     "data": {
      "text/html": [
       "<pre style=\"white-space:pre;overflow-x:auto;line-height:normal;font-family:Menlo,'DejaVu Sans Mono',consolas,'Courier New',monospace\">23:18:40.602 | <span style=\"color: #008080; text-decoration-color: #008080\">INFO</span>    | Task run 'list_ollama_models-0cd' - Finished in state <span style=\"color: #008000; text-decoration-color: #008000\">Completed</span>()\n",
       "</pre>\n"
      ],
      "text/plain": [
       "23:18:40.602 | \u001b[36mINFO\u001b[0m    | Task run 'list_ollama_models-0cd' - Finished in state \u001b[32mCompleted\u001b[0m()\n"
      ]
     },
     "metadata": {},
     "output_type": "display_data"
    },
    {
     "data": {
      "text/html": [
       "<pre style=\"white-space:pre;overflow-x:auto;line-height:normal;font-family:Menlo,'DejaVu Sans Mono',consolas,'Courier New',monospace\">23:18:40.630 | <span style=\"color: #008080; text-decoration-color: #008080\">INFO</span>    | prefect - Loaded 3 documents from /home/rakesh/Downloads/sample_data/four/\n",
       "</pre>\n"
      ],
      "text/plain": [
       "23:18:40.630 | \u001b[36mINFO\u001b[0m    | prefect - Loaded 3 documents from /home/rakesh/Downloads/sample_data/four/\n"
      ]
     },
     "metadata": {},
     "output_type": "display_data"
    },
    {
     "data": {
      "text/html": [
       "<pre style=\"white-space:pre;overflow-x:auto;line-height:normal;font-family:Menlo,'DejaVu Sans Mono',consolas,'Courier New',monospace\"><span style=\"color: #008000; text-decoration-color: #008000; font-weight: bold\">Loaded </span><span style=\"color: #008000; text-decoration-color: #008000; font-weight: bold\">3</span><span style=\"color: #008000; text-decoration-color: #008000; font-weight: bold\"> documents from /home/rakesh/Downloads/sample_data/four/</span>\n",
       "</pre>\n"
      ],
      "text/plain": [
       "\u001b[1;32mLoaded \u001b[0m\u001b[1;32m3\u001b[0m\u001b[1;32m documents from \u001b[0m\u001b[1;32m/home/rakesh/Downloads/sample_data/four/\u001b[0m\n"
      ]
     },
     "metadata": {},
     "output_type": "display_data"
    },
    {
     "data": {
      "text/html": [
       "<pre style=\"white-space:pre;overflow-x:auto;line-height:normal;font-family:Menlo,'DejaVu Sans Mono',consolas,'Courier New',monospace\">23:18:40.634 | <span style=\"color: #008080; text-decoration-color: #008080\">INFO</span>    | Task run 'load_documents-ed8' - Finished in state <span style=\"color: #008000; text-decoration-color: #008000\">Completed</span>()\n",
       "</pre>\n"
      ],
      "text/plain": [
       "23:18:40.634 | \u001b[36mINFO\u001b[0m    | Task run 'load_documents-ed8' - Finished in state \u001b[32mCompleted\u001b[0m()\n"
      ]
     },
     "metadata": {},
     "output_type": "display_data"
    },
    {
     "data": {
      "text/html": [
       "<pre style=\"white-space:pre;overflow-x:auto;line-height:normal;font-family:Menlo,'DejaVu Sans Mono',consolas,'Courier New',monospace\">23:18:40.659 | <span style=\"color: #008080; text-decoration-color: #008080\">INFO</span>    | prefect - Processed metadata: 3 unique documents\n",
       "</pre>\n"
      ],
      "text/plain": [
       "23:18:40.659 | \u001b[36mINFO\u001b[0m    | prefect - Processed metadata: 3 unique documents\n"
      ]
     },
     "metadata": {},
     "output_type": "display_data"
    },
    {
     "data": {
      "text/html": [
       "<pre style=\"white-space:pre;overflow-x:auto;line-height:normal;font-family:Menlo,'DejaVu Sans Mono',consolas,'Courier New',monospace\"><span style=\"color: #008000; text-decoration-color: #008000; font-weight: bold\">Processed metadata: </span><span style=\"color: #008000; text-decoration-color: #008000; font-weight: bold\">3</span><span style=\"color: #008000; text-decoration-color: #008000; font-weight: bold\"> unique documents</span>\n",
       "</pre>\n"
      ],
      "text/plain": [
       "\u001b[1;32mProcessed metadata: \u001b[0m\u001b[1;32m3\u001b[0m\u001b[1;32m unique documents\u001b[0m\n"
      ]
     },
     "metadata": {},
     "output_type": "display_data"
    },
    {
     "data": {
      "text/html": [
       "<pre style=\"white-space:pre;overflow-x:auto;line-height:normal;font-family:Menlo,'DejaVu Sans Mono',consolas,'Courier New',monospace\">23:18:40.662 | <span style=\"color: #008080; text-decoration-color: #008080\">INFO</span>    | Task run 'process_metadata-3a3' - Finished in state <span style=\"color: #008000; text-decoration-color: #008000\">Completed</span>()\n",
       "</pre>\n"
      ],
      "text/plain": [
       "23:18:40.662 | \u001b[36mINFO\u001b[0m    | Task run 'process_metadata-3a3' - Finished in state \u001b[32mCompleted\u001b[0m()\n"
      ]
     },
     "metadata": {},
     "output_type": "display_data"
    },
    {
     "name": "stdout",
     "output_type": "stream",
     "text": [
      ">>>> Content summary:\n",
      "{\n",
      "\"files\": [\n",
      "    {\n",
      "        \"file_path\": \"/home/rakesh/Downloads/sample_data/four/dsflsdflj.txt\",\n",
      "        \"summary\": \"This article discusses the rise of Vertical Large Language Model (LLM) Agents in SaaS, highlighting Case Text’s Co-Counsel as a successful example. It explains why these agents are becoming billion-dollar opportunities and how organizations can use them.\"\n",
      "    },\n",
      "    {\n",
      "        \"file_path\": \"/home/rakesh/Downloads/sample_data/four/random_file.txt\",\n",
      "        \"summary\": \"This is a test file containing a bank account number: 1234567890.\"\n",
      "    },\n",
      "    {\n",
      "        \"file_path\": \"/home/rakesh/Downloads/sample_data/four/shad.txt\",\n",
      "        \"summary\": \"This article introduces Next.js and discusses several open-source Next.js starter projects for web development, including tailwind-nextjs-starter-blog, Vercel Platforms, next-forge, fragments, next-shadcn-dashboard-starter, langchain-nextjs-template, and nextjs-starter-kit. It details the tech stack for each project.\"\n",
      "    }\n",
      "  ]\n",
      "}\n",
      "Summaries:\n",
      "{'files': [{'file_path': '/home/rakesh/Downloads/sample_data/four/dsflsdflj.txt', 'summary': 'This article discusses the rise of Vertical Large Language Model (LLM) Agents in SaaS, highlighting Case Text’s Co-Counsel as a successful example. It explains why these agents are becoming billion-dollar opportunities and how organizations can use them.'}, {'file_path': '/home/rakesh/Downloads/sample_data/four/random_file.txt', 'summary': 'This is a test file containing a bank account number: 1234567890.'}, {'file_path': '/home/rakesh/Downloads/sample_data/four/shad.txt', 'summary': 'This article introduces Next.js and discusses several open-source Next.js starter projects for web development, including tailwind-nextjs-starter-blog, Vercel Platforms, next-forge, fragments, next-shadcn-dashboard-starter, langchain-nextjs-template, and nextjs-starter-kit. It details the tech stack for each project.'}]}\n"
     ]
    },
    {
     "data": {
      "text/html": [
       "<pre style=\"white-space:pre;overflow-x:auto;line-height:normal;font-family:Menlo,'DejaVu Sans Mono',consolas,'Courier New',monospace\">23:18:43.831 | <span style=\"color: #008080; text-decoration-color: #008080\">INFO</span>    | prefect - Generated summaries for 3 files with cost 0.0\n",
       "</pre>\n"
      ],
      "text/plain": [
       "23:18:43.831 | \u001b[36mINFO\u001b[0m    | prefect - Generated summaries for 3 files with cost 0.0\n"
      ]
     },
     "metadata": {},
     "output_type": "display_data"
    },
    {
     "data": {
      "text/html": [
       "<pre style=\"white-space:pre;overflow-x:auto;line-height:normal;font-family:Menlo,'DejaVu Sans Mono',consolas,'Courier New',monospace\"><span style=\"color: #008000; text-decoration-color: #008000; font-weight: bold\">Generated summaries for </span><span style=\"color: #008000; text-decoration-color: #008000; font-weight: bold\">3</span><span style=\"color: #008000; text-decoration-color: #008000; font-weight: bold\"> files with cost </span><span style=\"color: #008000; text-decoration-color: #008000; font-weight: bold\">0.0</span>\n",
       "</pre>\n"
      ],
      "text/plain": [
       "\u001b[1;32mGenerated summaries for \u001b[0m\u001b[1;32m3\u001b[0m\u001b[1;32m files with cost \u001b[0m\u001b[1;32m0.0\u001b[0m\n"
      ]
     },
     "metadata": {},
     "output_type": "display_data"
    },
    {
     "data": {
      "text/html": [
       "<pre style=\"white-space:pre;overflow-x:auto;line-height:normal;font-family:Menlo,'DejaVu Sans Mono',consolas,'Courier New',monospace\">23:18:43.838 | <span style=\"color: #008080; text-decoration-color: #008080\">INFO</span>    | Task run 'query_summaries-d03' - Finished in state <span style=\"color: #008000; text-decoration-color: #008000\">Completed</span>()\n",
       "</pre>\n"
      ],
      "text/plain": [
       "23:18:43.838 | \u001b[36mINFO\u001b[0m    | Task run 'query_summaries-d03' - Finished in state \u001b[32mCompleted\u001b[0m()\n"
      ]
     },
     "metadata": {},
     "output_type": "display_data"
    },
    {
     "data": {
      "text/html": [
       "<pre style=\"white-space:pre;overflow-x:auto;line-height:normal;font-family:Menlo,'DejaVu Sans Mono',consolas,'Courier New',monospace\">23:18:43.897 | <span style=\"color: #008080; text-decoration-color: #008080\">INFO</span>    | prefect - Calculated cost: 0.0057810000000000005\n",
       "</pre>\n"
      ],
      "text/plain": [
       "23:18:43.897 | \u001b[36mINFO\u001b[0m    | prefect - Calculated cost: 0.0057810000000000005\n"
      ]
     },
     "metadata": {},
     "output_type": "display_data"
    },
    {
     "data": {
      "text/html": [
       "<pre style=\"white-space:pre;overflow-x:auto;line-height:normal;font-family:Menlo,'DejaVu Sans Mono',consolas,'Courier New',monospace\"><span style=\"color: #008000; text-decoration-color: #008000; font-weight: bold\">Calculated cost:</span> <span style=\"color: #808000; text-decoration-color: #808000; font-weight: bold\">0.0057810000000000005</span>\n",
       "</pre>\n"
      ],
      "text/plain": [
       "\u001b[1;32mCalculated cost:\u001b[0m \u001b[1;33m0.0057810000000000005\u001b[0m\n"
      ]
     },
     "metadata": {},
     "output_type": "display_data"
    },
    {
     "data": {
      "text/html": [
       "<pre style=\"white-space:pre;overflow-x:auto;line-height:normal;font-family:Menlo,'DejaVu Sans Mono',consolas,'Courier New',monospace\">23:18:43.900 | <span style=\"color: #008080; text-decoration-color: #008080\">INFO</span>    | Task run 'track_cost_callback' - Finished in state <span style=\"color: #008000; text-decoration-color: #008000\">Completed</span>()\n",
       "</pre>\n"
      ],
      "text/plain": [
       "23:18:43.900 | \u001b[36mINFO\u001b[0m    | Task run 'track_cost_callback' - Finished in state \u001b[32mCompleted\u001b[0m()\n"
      ]
     },
     "metadata": {},
     "output_type": "display_data"
    },
    {
     "data": {
      "text/html": [
       "<pre style=\"white-space:pre;overflow-x:auto;line-height:normal;font-family:Menlo,'DejaVu Sans Mono',consolas,'Courier New',monospace\">23:18:47.490 | <span style=\"color: #008080; text-decoration-color: #008080\">INFO</span>    | prefect - Created file tree for 3 files\n",
       "</pre>\n"
      ],
      "text/plain": [
       "23:18:47.490 | \u001b[36mINFO\u001b[0m    | prefect - Created file tree for 3 files\n"
      ]
     },
     "metadata": {},
     "output_type": "display_data"
    },
    {
     "data": {
      "text/html": [
       "<pre style=\"white-space:pre;overflow-x:auto;line-height:normal;font-family:Menlo,'DejaVu Sans Mono',consolas,'Courier New',monospace\"><span style=\"color: #008000; text-decoration-color: #008000; font-weight: bold\">Created file tree for </span><span style=\"color: #008000; text-decoration-color: #008000; font-weight: bold\">3</span><span style=\"color: #008000; text-decoration-color: #008000; font-weight: bold\"> files</span>\n",
       "</pre>\n"
      ],
      "text/plain": [
       "\u001b[1;32mCreated file tree for \u001b[0m\u001b[1;32m3\u001b[0m\u001b[1;32m files\u001b[0m\n"
      ]
     },
     "metadata": {},
     "output_type": "display_data"
    },
    {
     "data": {
      "text/html": [
       "<pre style=\"white-space:pre;overflow-x:auto;line-height:normal;font-family:Menlo,'DejaVu Sans Mono',consolas,'Courier New',monospace\">23:18:47.494 | <span style=\"color: #008080; text-decoration-color: #008080\">INFO</span>    | Task run 'create_file_tree-6b2' - Finished in state <span style=\"color: #008000; text-decoration-color: #008000\">Completed</span>()\n",
       "</pre>\n"
      ],
      "text/plain": [
       "23:18:47.494 | \u001b[36mINFO\u001b[0m    | Task run 'create_file_tree-6b2' - Finished in state \u001b[32mCompleted\u001b[0m()\n"
      ]
     },
     "metadata": {},
     "output_type": "display_data"
    },
    {
     "data": {
      "text/html": [
       "<pre style=\"white-space:pre;overflow-x:auto;line-height:normal;font-family:Menlo,'DejaVu Sans Mono',consolas,'Courier New',monospace\">23:18:47.555 | <span style=\"color: #008080; text-decoration-color: #008080\">INFO</span>    | prefect - Calculated cost: 0.003129\n",
       "</pre>\n"
      ],
      "text/plain": [
       "23:18:47.555 | \u001b[36mINFO\u001b[0m    | prefect - Calculated cost: 0.003129\n"
      ]
     },
     "metadata": {},
     "output_type": "display_data"
    },
    {
     "data": {
      "text/html": [
       "<pre style=\"white-space:pre;overflow-x:auto;line-height:normal;font-family:Menlo,'DejaVu Sans Mono',consolas,'Courier New',monospace\">23:18:47.556 | <span style=\"color: #008080; text-decoration-color: #008080\">INFO</span>    | prefect - All necessary subdirectories created.\n",
       "</pre>\n"
      ],
      "text/plain": [
       "23:18:47.556 | \u001b[36mINFO\u001b[0m    | prefect - All necessary subdirectories created.\n"
      ]
     },
     "metadata": {},
     "output_type": "display_data"
    },
    {
     "data": {
      "text/html": [
       "<pre style=\"white-space:pre;overflow-x:auto;line-height:normal;font-family:Menlo,'DejaVu Sans Mono',consolas,'Courier New',monospace\"><span style=\"color: #008000; text-decoration-color: #008000; font-weight: bold\">Calculated cost:</span> <span style=\"color: #808000; text-decoration-color: #808000; font-weight: bold\">0.003129</span>\n",
       "</pre>\n"
      ],
      "text/plain": [
       "\u001b[1;32mCalculated cost:\u001b[0m \u001b[1;33m0.003129\u001b[0m\n"
      ]
     },
     "metadata": {},
     "output_type": "display_data"
    },
    {
     "data": {
      "text/html": [
       "<pre style=\"white-space:pre;overflow-x:auto;line-height:normal;font-family:Menlo,'DejaVu Sans Mono',consolas,'Courier New',monospace\">23:18:47.559 | <span style=\"color: #008080; text-decoration-color: #008080\">INFO</span>    | Task run 'track_cost_callback' - Finished in state <span style=\"color: #008000; text-decoration-color: #008000\">Completed</span>()\n",
       "</pre>\n"
      ],
      "text/plain": [
       "23:18:47.559 | \u001b[36mINFO\u001b[0m    | Task run 'track_cost_callback' - Finished in state \u001b[32mCompleted\u001b[0m()\n"
      ]
     },
     "metadata": {},
     "output_type": "display_data"
    },
    {
     "data": {
      "text/html": [
       "<pre style=\"white-space:pre;overflow-x:auto;line-height:normal;font-family:Menlo,'DejaVu Sans Mono',consolas,'Courier New',monospace\"><span style=\"color: #008000; text-decoration-color: #008000; font-weight: bold\">All necessary subdirectories created.</span>\n",
       "</pre>\n"
      ],
      "text/plain": [
       "\u001b[1;32mAll necessary subdirectories created.\u001b[0m\n"
      ]
     },
     "metadata": {},
     "output_type": "display_data"
    },
    {
     "data": {
      "text/html": [
       "<pre style=\"white-space:pre;overflow-x:auto;line-height:normal;font-family:Menlo,'DejaVu Sans Mono',consolas,'Courier New',monospace\">23:18:47.563 | <span style=\"color: #008080; text-decoration-color: #008080\">INFO</span>    | Task run 'create_subdirectories-cc3' - Finished in state <span style=\"color: #008000; text-decoration-color: #008000\">Completed</span>()\n",
       "</pre>\n"
      ],
      "text/plain": [
       "23:18:47.563 | \u001b[36mINFO\u001b[0m    | Task run 'create_subdirectories-cc3' - Finished in state \u001b[32mCompleted\u001b[0m()\n"
      ]
     },
     "metadata": {},
     "output_type": "display_data"
    },
    {
     "data": {
      "text/html": [
       "<pre style=\"white-space:pre;overflow-x:auto;line-height:normal;font-family:Menlo,'DejaVu Sans Mono',consolas,'Courier New',monospace\">23:18:47.589 | <span style=\"color: #008080; text-decoration-color: #008080\">INFO</span>    | prefect - Concatenated summary and file tree for 3 files\n",
       "</pre>\n"
      ],
      "text/plain": [
       "23:18:47.589 | \u001b[36mINFO\u001b[0m    | prefect - Concatenated summary and file tree for 3 files\n"
      ]
     },
     "metadata": {},
     "output_type": "display_data"
    },
    {
     "data": {
      "text/html": [
       "<pre style=\"white-space:pre;overflow-x:auto;line-height:normal;font-family:Menlo,'DejaVu Sans Mono',consolas,'Courier New',monospace\"><span style=\"color: #008000; text-decoration-color: #008000; font-weight: bold\">Concatenated summary and file tree for </span><span style=\"color: #008000; text-decoration-color: #008000; font-weight: bold\">3</span><span style=\"color: #008000; text-decoration-color: #008000; font-weight: bold\"> files</span>\n",
       "</pre>\n"
      ],
      "text/plain": [
       "\u001b[1;32mConcatenated summary and file tree for \u001b[0m\u001b[1;32m3\u001b[0m\u001b[1;32m files\u001b[0m\n"
      ]
     },
     "metadata": {},
     "output_type": "display_data"
    },
    {
     "data": {
      "text/html": [
       "<pre style=\"white-space:pre;overflow-x:auto;line-height:normal;font-family:Menlo,'DejaVu Sans Mono',consolas,'Courier New',monospace\">23:18:47.593 | <span style=\"color: #008080; text-decoration-color: #008080\">INFO</span>    | Task run 'concatenate_summaries_and_file_tree-730' - Finished in state <span style=\"color: #008000; text-decoration-color: #008000\">Completed</span>()\n",
       "</pre>\n"
      ],
      "text/plain": [
       "23:18:47.593 | \u001b[36mINFO\u001b[0m    | Task run 'concatenate_summaries_and_file_tree-730' - Finished in state \u001b[32mCompleted\u001b[0m()\n"
      ]
     },
     "metadata": {},
     "output_type": "display_data"
    },
    {
     "data": {
      "text/html": [
       "<pre style=\"white-space:pre;overflow-x:auto;line-height:normal;font-family:Menlo,'DejaVu Sans Mono',consolas,'Courier New',monospace\"><span style=\"font-style: italic\">                                        Organized Files                                        </span>\n",
       "              ╷                                                                                \n",
       " <span style=\"font-weight: bold\"> Source Path </span>│<span style=\"font-weight: bold\"> Destination Path                                                              </span> \n",
       " ═════════════╪═══════════════════════════════════════════════════════════════════════════════ \n",
       " <span style=\"color: #008080; text-decoration-color: #008080\">             </span>│<span style=\"color: #008000; text-decoration-color: #008000\"> /home/rakesh/Downloads/sample_data/four_organized_or/llm_agents/dsflsdflj.txt </span> \n",
       " <span style=\"color: #008080; text-decoration-color: #008080\">             </span>│<span style=\"color: #008000; text-decoration-color: #008000\"> /home/rakesh/Downloads/sample_data/four_organized_or/misc/random_file.txt     </span> \n",
       " <span style=\"color: #008080; text-decoration-color: #008080\">             </span>│<span style=\"color: #008000; text-decoration-color: #008000\"> /home/rakesh/Downloads/sample_data/four_organized_or/nextjs_projects/shad.txt </span> \n",
       "              ╵                                                                                \n",
       "</pre>\n"
      ],
      "text/plain": [
       "\u001b[3m                                        Organized Files                                        \u001b[0m\n",
       "              ╷                                                                                \n",
       " \u001b[1m \u001b[0m\u001b[1mSource Path\u001b[0m\u001b[1m \u001b[0m│\u001b[1m \u001b[0m\u001b[1mDestination Path                                                             \u001b[0m\u001b[1m \u001b[0m \n",
       " ═════════════╪═══════════════════════════════════════════════════════════════════════════════ \n",
       " \u001b[36m \u001b[0m\u001b[36m           \u001b[0m\u001b[36m \u001b[0m│\u001b[32m \u001b[0m\u001b[32m/home/rakesh/Downloads/sample_data/four_organized_or/llm_agents/dsflsdflj.txt\u001b[0m\u001b[32m \u001b[0m \n",
       " \u001b[36m \u001b[0m\u001b[36m           \u001b[0m\u001b[36m \u001b[0m│\u001b[32m \u001b[0m\u001b[32m/home/rakesh/Downloads/sample_data/four_organized_or/misc/random_file.txt    \u001b[0m\u001b[32m \u001b[0m \n",
       " \u001b[36m \u001b[0m\u001b[36m           \u001b[0m\u001b[36m \u001b[0m│\u001b[32m \u001b[0m\u001b[32m/home/rakesh/Downloads/sample_data/four_organized_or/nextjs_projects/shad.txt\u001b[0m\u001b[32m \u001b[0m \n",
       "              ╵                                                                                \n"
      ]
     },
     "metadata": {},
     "output_type": "display_data"
    },
    {
     "data": {
      "text/html": [
       "<pre style=\"white-space:pre;overflow-x:auto;line-height:normal;font-family:Menlo,'DejaVu Sans Mono',consolas,'Courier New',monospace\">23:18:47.622 | <span style=\"color: #008080; text-decoration-color: #008080\">INFO</span>    | Task run 'display_organized_files-784' - Finished in state <span style=\"color: #008000; text-decoration-color: #008000\">Completed</span>()\n",
       "</pre>\n"
      ],
      "text/plain": [
       "23:18:47.622 | \u001b[36mINFO\u001b[0m    | Task run 'display_organized_files-784' - Finished in state \u001b[32mCompleted\u001b[0m()\n"
      ]
     },
     "metadata": {},
     "output_type": "display_data"
    },
    {
     "data": {
      "text/html": [
       "<pre style=\"white-space:pre;overflow-x:auto;line-height:normal;font-family:Menlo,'DejaVu Sans Mono',consolas,'Courier New',monospace\"><span style=\"font-style: italic\">                                           Summaries and Organized Files                                           </span>\n",
       "                                                          ╷                  ╷                 ╷                   \n",
       " <span style=\"font-weight: bold\">                                                         </span>│<span style=\"font-weight: bold\">                  </span>│<span style=\"font-weight: bold\"> Destination     </span>│<span style=\"font-weight: bold\"> Destination Path </span> \n",
       " <span style=\"font-weight: bold\"> File Path                                               </span>│<span style=\"font-weight: bold\"> Summary          </span>│<span style=\"font-weight: bold\"> Path            </span>│<span style=\"font-weight: bold\"> New              </span> \n",
       " ═════════════════════════════════════════════════════════╪══════════════════╪═════════════════╪══════════════════ \n",
       " <span style=\"color: #008080; text-decoration-color: #008080\"> /home/rakesh/Downloads/sample_data/four/dsflsdflj.txt   </span>│<span style=\"color: #008000; text-decoration-color: #008000\"> This article     </span>│<span style=\"color: #800080; text-decoration-color: #800080\"> /home/rakesh/D… </span>│<span style=\"color: #808000; text-decoration-color: #808000\"> /home/rakesh/Do… </span> \n",
       " <span style=\"color: #008080; text-decoration-color: #008080\">                                                         </span>│<span style=\"color: #008000; text-decoration-color: #008000\"> discusses the    </span>│<span style=\"color: #800080; text-decoration-color: #800080\">                 </span>│<span style=\"color: #808000; text-decoration-color: #808000\">                  </span> \n",
       " <span style=\"color: #008080; text-decoration-color: #008080\">                                                         </span>│<span style=\"color: #008000; text-decoration-color: #008000\"> rise of Vertical </span>│<span style=\"color: #800080; text-decoration-color: #800080\">                 </span>│<span style=\"color: #808000; text-decoration-color: #808000\">                  </span> \n",
       " <span style=\"color: #008080; text-decoration-color: #008080\">                                                         </span>│<span style=\"color: #008000; text-decoration-color: #008000\"> Large Language   </span>│<span style=\"color: #800080; text-decoration-color: #800080\">                 </span>│<span style=\"color: #808000; text-decoration-color: #808000\">                  </span> \n",
       " <span style=\"color: #008080; text-decoration-color: #008080\">                                                         </span>│<span style=\"color: #008000; text-decoration-color: #008000\"> Model (LLM)      </span>│<span style=\"color: #800080; text-decoration-color: #800080\">                 </span>│<span style=\"color: #808000; text-decoration-color: #808000\">                  </span> \n",
       " <span style=\"color: #008080; text-decoration-color: #008080\">                                                         </span>│<span style=\"color: #008000; text-decoration-color: #008000\"> Agents in SaaS,  </span>│<span style=\"color: #800080; text-decoration-color: #800080\">                 </span>│<span style=\"color: #808000; text-decoration-color: #808000\">                  </span> \n",
       " <span style=\"color: #008080; text-decoration-color: #008080\">                                                         </span>│<span style=\"color: #008000; text-decoration-color: #008000\"> highlighting     </span>│<span style=\"color: #800080; text-decoration-color: #800080\">                 </span>│<span style=\"color: #808000; text-decoration-color: #808000\">                  </span> \n",
       " <span style=\"color: #008080; text-decoration-color: #008080\">                                                         </span>│<span style=\"color: #008000; text-decoration-color: #008000\"> Case Text’s      </span>│<span style=\"color: #800080; text-decoration-color: #800080\">                 </span>│<span style=\"color: #808000; text-decoration-color: #808000\">                  </span> \n",
       " <span style=\"color: #008080; text-decoration-color: #008080\">                                                         </span>│<span style=\"color: #008000; text-decoration-color: #008000\"> Co-Counsel as a  </span>│<span style=\"color: #800080; text-decoration-color: #800080\">                 </span>│<span style=\"color: #808000; text-decoration-color: #808000\">                  </span> \n",
       " <span style=\"color: #008080; text-decoration-color: #008080\">                                                         </span>│<span style=\"color: #008000; text-decoration-color: #008000\"> successful       </span>│<span style=\"color: #800080; text-decoration-color: #800080\">                 </span>│<span style=\"color: #808000; text-decoration-color: #808000\">                  </span> \n",
       " <span style=\"color: #008080; text-decoration-color: #008080\">                                                         </span>│<span style=\"color: #008000; text-decoration-color: #008000\"> example. It      </span>│<span style=\"color: #800080; text-decoration-color: #800080\">                 </span>│<span style=\"color: #808000; text-decoration-color: #808000\">                  </span> \n",
       " <span style=\"color: #008080; text-decoration-color: #008080\">                                                         </span>│<span style=\"color: #008000; text-decoration-color: #008000\"> explains why     </span>│<span style=\"color: #800080; text-decoration-color: #800080\">                 </span>│<span style=\"color: #808000; text-decoration-color: #808000\">                  </span> \n",
       " <span style=\"color: #008080; text-decoration-color: #008080\">                                                         </span>│<span style=\"color: #008000; text-decoration-color: #008000\"> these agents are </span>│<span style=\"color: #800080; text-decoration-color: #800080\">                 </span>│<span style=\"color: #808000; text-decoration-color: #808000\">                  </span> \n",
       " <span style=\"color: #008080; text-decoration-color: #008080\">                                                         </span>│<span style=\"color: #008000; text-decoration-color: #008000\"> becoming         </span>│<span style=\"color: #800080; text-decoration-color: #800080\">                 </span>│<span style=\"color: #808000; text-decoration-color: #808000\">                  </span> \n",
       " <span style=\"color: #008080; text-decoration-color: #008080\">                                                         </span>│<span style=\"color: #008000; text-decoration-color: #008000\"> billion-dollar   </span>│<span style=\"color: #800080; text-decoration-color: #800080\">                 </span>│<span style=\"color: #808000; text-decoration-color: #808000\">                  </span> \n",
       " <span style=\"color: #008080; text-decoration-color: #008080\">                                                         </span>│<span style=\"color: #008000; text-decoration-color: #008000\"> opportunities    </span>│<span style=\"color: #800080; text-decoration-color: #800080\">                 </span>│<span style=\"color: #808000; text-decoration-color: #808000\">                  </span> \n",
       " <span style=\"color: #008080; text-decoration-color: #008080\">                                                         </span>│<span style=\"color: #008000; text-decoration-color: #008000\"> and how          </span>│<span style=\"color: #800080; text-decoration-color: #800080\">                 </span>│<span style=\"color: #808000; text-decoration-color: #808000\">                  </span> \n",
       " <span style=\"color: #008080; text-decoration-color: #008080\">                                                         </span>│<span style=\"color: #008000; text-decoration-color: #008000\"> organizations    </span>│<span style=\"color: #800080; text-decoration-color: #800080\">                 </span>│<span style=\"color: #808000; text-decoration-color: #808000\">                  </span> \n",
       " <span style=\"color: #008080; text-decoration-color: #008080\">                                                         </span>│<span style=\"color: #008000; text-decoration-color: #008000\"> can use them.    </span>│<span style=\"color: #800080; text-decoration-color: #800080\">                 </span>│<span style=\"color: #808000; text-decoration-color: #808000\">                  </span> \n",
       " <span style=\"color: #008080; text-decoration-color: #008080\"> /home/rakesh/Downloads/sample_data/four/random_file.txt </span>│<span style=\"color: #008000; text-decoration-color: #008000\"> This is a test   </span>│<span style=\"color: #800080; text-decoration-color: #800080\"> /home/rakesh/D… </span>│<span style=\"color: #808000; text-decoration-color: #808000\"> /home/rakesh/Do… </span> \n",
       " <span style=\"color: #008080; text-decoration-color: #008080\">                                                         </span>│<span style=\"color: #008000; text-decoration-color: #008000\"> file containing  </span>│<span style=\"color: #800080; text-decoration-color: #800080\">                 </span>│<span style=\"color: #808000; text-decoration-color: #808000\">                  </span> \n",
       " <span style=\"color: #008080; text-decoration-color: #008080\">                                                         </span>│<span style=\"color: #008000; text-decoration-color: #008000\"> a bank account   </span>│<span style=\"color: #800080; text-decoration-color: #800080\">                 </span>│<span style=\"color: #808000; text-decoration-color: #808000\">                  </span> \n",
       " <span style=\"color: #008080; text-decoration-color: #008080\">                                                         </span>│<span style=\"color: #008000; text-decoration-color: #008000\"> number:          </span>│<span style=\"color: #800080; text-decoration-color: #800080\">                 </span>│<span style=\"color: #808000; text-decoration-color: #808000\">                  </span> \n",
       " <span style=\"color: #008080; text-decoration-color: #008080\">                                                         </span>│<span style=\"color: #008000; text-decoration-color: #008000\"> 1234567890.      </span>│<span style=\"color: #800080; text-decoration-color: #800080\">                 </span>│<span style=\"color: #808000; text-decoration-color: #808000\">                  </span> \n",
       " <span style=\"color: #008080; text-decoration-color: #008080\"> /home/rakesh/Downloads/sample_data/four/shad.txt        </span>│<span style=\"color: #008000; text-decoration-color: #008000\"> This article     </span>│<span style=\"color: #800080; text-decoration-color: #800080\"> /home/rakesh/D… </span>│<span style=\"color: #808000; text-decoration-color: #808000\"> /home/rakesh/Do… </span> \n",
       " <span style=\"color: #008080; text-decoration-color: #008080\">                                                         </span>│<span style=\"color: #008000; text-decoration-color: #008000\"> introduces       </span>│<span style=\"color: #800080; text-decoration-color: #800080\">                 </span>│<span style=\"color: #808000; text-decoration-color: #808000\">                  </span> \n",
       " <span style=\"color: #008080; text-decoration-color: #008080\">                                                         </span>│<span style=\"color: #008000; text-decoration-color: #008000\"> Next.js and      </span>│<span style=\"color: #800080; text-decoration-color: #800080\">                 </span>│<span style=\"color: #808000; text-decoration-color: #808000\">                  </span> \n",
       " <span style=\"color: #008080; text-decoration-color: #008080\">                                                         </span>│<span style=\"color: #008000; text-decoration-color: #008000\"> discusses        </span>│<span style=\"color: #800080; text-decoration-color: #800080\">                 </span>│<span style=\"color: #808000; text-decoration-color: #808000\">                  </span> \n",
       " <span style=\"color: #008080; text-decoration-color: #008080\">                                                         </span>│<span style=\"color: #008000; text-decoration-color: #008000\"> several          </span>│<span style=\"color: #800080; text-decoration-color: #800080\">                 </span>│<span style=\"color: #808000; text-decoration-color: #808000\">                  </span> \n",
       " <span style=\"color: #008080; text-decoration-color: #008080\">                                                         </span>│<span style=\"color: #008000; text-decoration-color: #008000\"> open-source      </span>│<span style=\"color: #800080; text-decoration-color: #800080\">                 </span>│<span style=\"color: #808000; text-decoration-color: #808000\">                  </span> \n",
       " <span style=\"color: #008080; text-decoration-color: #008080\">                                                         </span>│<span style=\"color: #008000; text-decoration-color: #008000\"> Next.js starter  </span>│<span style=\"color: #800080; text-decoration-color: #800080\">                 </span>│<span style=\"color: #808000; text-decoration-color: #808000\">                  </span> \n",
       " <span style=\"color: #008080; text-decoration-color: #008080\">                                                         </span>│<span style=\"color: #008000; text-decoration-color: #008000\"> projects for web </span>│<span style=\"color: #800080; text-decoration-color: #800080\">                 </span>│<span style=\"color: #808000; text-decoration-color: #808000\">                  </span> \n",
       " <span style=\"color: #008080; text-decoration-color: #008080\">                                                         </span>│<span style=\"color: #008000; text-decoration-color: #008000\"> development,     </span>│<span style=\"color: #800080; text-decoration-color: #800080\">                 </span>│<span style=\"color: #808000; text-decoration-color: #808000\">                  </span> \n",
       " <span style=\"color: #008080; text-decoration-color: #008080\">                                                         </span>│<span style=\"color: #008000; text-decoration-color: #008000\"> including        </span>│<span style=\"color: #800080; text-decoration-color: #800080\">                 </span>│<span style=\"color: #808000; text-decoration-color: #808000\">                  </span> \n",
       " <span style=\"color: #008080; text-decoration-color: #008080\">                                                         </span>│<span style=\"color: #008000; text-decoration-color: #008000\"> tailwind-nextjs… </span>│<span style=\"color: #800080; text-decoration-color: #800080\">                 </span>│<span style=\"color: #808000; text-decoration-color: #808000\">                  </span> \n",
       " <span style=\"color: #008080; text-decoration-color: #008080\">                                                         </span>│<span style=\"color: #008000; text-decoration-color: #008000\"> Vercel           </span>│<span style=\"color: #800080; text-decoration-color: #800080\">                 </span>│<span style=\"color: #808000; text-decoration-color: #808000\">                  </span> \n",
       " <span style=\"color: #008080; text-decoration-color: #008080\">                                                         </span>│<span style=\"color: #008000; text-decoration-color: #008000\"> Platforms,       </span>│<span style=\"color: #800080; text-decoration-color: #800080\">                 </span>│<span style=\"color: #808000; text-decoration-color: #808000\">                  </span> \n",
       " <span style=\"color: #008080; text-decoration-color: #008080\">                                                         </span>│<span style=\"color: #008000; text-decoration-color: #008000\"> next-forge,      </span>│<span style=\"color: #800080; text-decoration-color: #800080\">                 </span>│<span style=\"color: #808000; text-decoration-color: #808000\">                  </span> \n",
       " <span style=\"color: #008080; text-decoration-color: #008080\">                                                         </span>│<span style=\"color: #008000; text-decoration-color: #008000\"> fragments,       </span>│<span style=\"color: #800080; text-decoration-color: #800080\">                 </span>│<span style=\"color: #808000; text-decoration-color: #808000\">                  </span> \n",
       " <span style=\"color: #008080; text-decoration-color: #008080\">                                                         </span>│<span style=\"color: #008000; text-decoration-color: #008000\"> next-shadcn-das… </span>│<span style=\"color: #800080; text-decoration-color: #800080\">                 </span>│<span style=\"color: #808000; text-decoration-color: #808000\">                  </span> \n",
       " <span style=\"color: #008080; text-decoration-color: #008080\">                                                         </span>│<span style=\"color: #008000; text-decoration-color: #008000\"> langchain-nextj… </span>│<span style=\"color: #800080; text-decoration-color: #800080\">                 </span>│<span style=\"color: #808000; text-decoration-color: #808000\">                  </span> \n",
       " <span style=\"color: #008080; text-decoration-color: #008080\">                                                         </span>│<span style=\"color: #008000; text-decoration-color: #008000\"> and              </span>│<span style=\"color: #800080; text-decoration-color: #800080\">                 </span>│<span style=\"color: #808000; text-decoration-color: #808000\">                  </span> \n",
       " <span style=\"color: #008080; text-decoration-color: #008080\">                                                         </span>│<span style=\"color: #008000; text-decoration-color: #008000\"> nextjs-starter-… </span>│<span style=\"color: #800080; text-decoration-color: #800080\">                 </span>│<span style=\"color: #808000; text-decoration-color: #808000\">                  </span> \n",
       " <span style=\"color: #008080; text-decoration-color: #008080\">                                                         </span>│<span style=\"color: #008000; text-decoration-color: #008000\"> It details the   </span>│<span style=\"color: #800080; text-decoration-color: #800080\">                 </span>│<span style=\"color: #808000; text-decoration-color: #808000\">                  </span> \n",
       " <span style=\"color: #008080; text-decoration-color: #008080\">                                                         </span>│<span style=\"color: #008000; text-decoration-color: #008000\"> tech stack for   </span>│<span style=\"color: #800080; text-decoration-color: #800080\">                 </span>│<span style=\"color: #808000; text-decoration-color: #808000\">                  </span> \n",
       " <span style=\"color: #008080; text-decoration-color: #008080\">                                                         </span>│<span style=\"color: #008000; text-decoration-color: #008000\"> each project.    </span>│<span style=\"color: #800080; text-decoration-color: #800080\">                 </span>│<span style=\"color: #808000; text-decoration-color: #808000\">                  </span> \n",
       "                                                          ╵                  ╵                 ╵                   \n",
       "</pre>\n"
      ],
      "text/plain": [
       "\u001b[3m                                           Summaries and Organized Files                                           \u001b[0m\n",
       "                                                          ╷                  ╷                 ╷                   \n",
       " \u001b[1m                                                         \u001b[0m│\u001b[1m                  \u001b[0m│\u001b[1m \u001b[0m\u001b[1mDestination    \u001b[0m\u001b[1m \u001b[0m│\u001b[1m \u001b[0m\u001b[1mDestination Path\u001b[0m\u001b[1m \u001b[0m \n",
       " \u001b[1m \u001b[0m\u001b[1mFile Path                                              \u001b[0m\u001b[1m \u001b[0m│\u001b[1m \u001b[0m\u001b[1mSummary         \u001b[0m\u001b[1m \u001b[0m│\u001b[1m \u001b[0m\u001b[1mPath           \u001b[0m\u001b[1m \u001b[0m│\u001b[1m \u001b[0m\u001b[1mNew             \u001b[0m\u001b[1m \u001b[0m \n",
       " ═════════════════════════════════════════════════════════╪══════════════════╪═════════════════╪══════════════════ \n",
       " \u001b[36m \u001b[0m\u001b[36m/home/rakesh/Downloads/sample_data/four/dsflsdflj.txt  \u001b[0m\u001b[36m \u001b[0m│\u001b[32m \u001b[0m\u001b[32mThis article    \u001b[0m\u001b[32m \u001b[0m│\u001b[35m \u001b[0m\u001b[35m/home/rakesh/D…\u001b[0m\u001b[35m \u001b[0m│\u001b[33m \u001b[0m\u001b[33m/home/rakesh/Do…\u001b[0m\u001b[33m \u001b[0m \n",
       " \u001b[36m                                                         \u001b[0m│\u001b[32m \u001b[0m\u001b[32mdiscusses the   \u001b[0m\u001b[32m \u001b[0m│\u001b[35m                 \u001b[0m│\u001b[33m                  \u001b[0m \n",
       " \u001b[36m                                                         \u001b[0m│\u001b[32m \u001b[0m\u001b[32mrise of Vertical\u001b[0m\u001b[32m \u001b[0m│\u001b[35m                 \u001b[0m│\u001b[33m                  \u001b[0m \n",
       " \u001b[36m                                                         \u001b[0m│\u001b[32m \u001b[0m\u001b[32mLarge Language  \u001b[0m\u001b[32m \u001b[0m│\u001b[35m                 \u001b[0m│\u001b[33m                  \u001b[0m \n",
       " \u001b[36m                                                         \u001b[0m│\u001b[32m \u001b[0m\u001b[32mModel (LLM)     \u001b[0m\u001b[32m \u001b[0m│\u001b[35m                 \u001b[0m│\u001b[33m                  \u001b[0m \n",
       " \u001b[36m                                                         \u001b[0m│\u001b[32m \u001b[0m\u001b[32mAgents in SaaS, \u001b[0m\u001b[32m \u001b[0m│\u001b[35m                 \u001b[0m│\u001b[33m                  \u001b[0m \n",
       " \u001b[36m                                                         \u001b[0m│\u001b[32m \u001b[0m\u001b[32mhighlighting    \u001b[0m\u001b[32m \u001b[0m│\u001b[35m                 \u001b[0m│\u001b[33m                  \u001b[0m \n",
       " \u001b[36m                                                         \u001b[0m│\u001b[32m \u001b[0m\u001b[32mCase Text’s     \u001b[0m\u001b[32m \u001b[0m│\u001b[35m                 \u001b[0m│\u001b[33m                  \u001b[0m \n",
       " \u001b[36m                                                         \u001b[0m│\u001b[32m \u001b[0m\u001b[32mCo-Counsel as a \u001b[0m\u001b[32m \u001b[0m│\u001b[35m                 \u001b[0m│\u001b[33m                  \u001b[0m \n",
       " \u001b[36m                                                         \u001b[0m│\u001b[32m \u001b[0m\u001b[32msuccessful      \u001b[0m\u001b[32m \u001b[0m│\u001b[35m                 \u001b[0m│\u001b[33m                  \u001b[0m \n",
       " \u001b[36m                                                         \u001b[0m│\u001b[32m \u001b[0m\u001b[32mexample. It     \u001b[0m\u001b[32m \u001b[0m│\u001b[35m                 \u001b[0m│\u001b[33m                  \u001b[0m \n",
       " \u001b[36m                                                         \u001b[0m│\u001b[32m \u001b[0m\u001b[32mexplains why    \u001b[0m\u001b[32m \u001b[0m│\u001b[35m                 \u001b[0m│\u001b[33m                  \u001b[0m \n",
       " \u001b[36m                                                         \u001b[0m│\u001b[32m \u001b[0m\u001b[32mthese agents are\u001b[0m\u001b[32m \u001b[0m│\u001b[35m                 \u001b[0m│\u001b[33m                  \u001b[0m \n",
       " \u001b[36m                                                         \u001b[0m│\u001b[32m \u001b[0m\u001b[32mbecoming        \u001b[0m\u001b[32m \u001b[0m│\u001b[35m                 \u001b[0m│\u001b[33m                  \u001b[0m \n",
       " \u001b[36m                                                         \u001b[0m│\u001b[32m \u001b[0m\u001b[32mbillion-dollar  \u001b[0m\u001b[32m \u001b[0m│\u001b[35m                 \u001b[0m│\u001b[33m                  \u001b[0m \n",
       " \u001b[36m                                                         \u001b[0m│\u001b[32m \u001b[0m\u001b[32mopportunities   \u001b[0m\u001b[32m \u001b[0m│\u001b[35m                 \u001b[0m│\u001b[33m                  \u001b[0m \n",
       " \u001b[36m                                                         \u001b[0m│\u001b[32m \u001b[0m\u001b[32mand how         \u001b[0m\u001b[32m \u001b[0m│\u001b[35m                 \u001b[0m│\u001b[33m                  \u001b[0m \n",
       " \u001b[36m                                                         \u001b[0m│\u001b[32m \u001b[0m\u001b[32morganizations   \u001b[0m\u001b[32m \u001b[0m│\u001b[35m                 \u001b[0m│\u001b[33m                  \u001b[0m \n",
       " \u001b[36m                                                         \u001b[0m│\u001b[32m \u001b[0m\u001b[32mcan use them.   \u001b[0m\u001b[32m \u001b[0m│\u001b[35m                 \u001b[0m│\u001b[33m                  \u001b[0m \n",
       " \u001b[36m \u001b[0m\u001b[36m/home/rakesh/Downloads/sample_data/four/random_file.txt\u001b[0m\u001b[36m \u001b[0m│\u001b[32m \u001b[0m\u001b[32mThis is a test  \u001b[0m\u001b[32m \u001b[0m│\u001b[35m \u001b[0m\u001b[35m/home/rakesh/D…\u001b[0m\u001b[35m \u001b[0m│\u001b[33m \u001b[0m\u001b[33m/home/rakesh/Do…\u001b[0m\u001b[33m \u001b[0m \n",
       " \u001b[36m                                                         \u001b[0m│\u001b[32m \u001b[0m\u001b[32mfile containing \u001b[0m\u001b[32m \u001b[0m│\u001b[35m                 \u001b[0m│\u001b[33m                  \u001b[0m \n",
       " \u001b[36m                                                         \u001b[0m│\u001b[32m \u001b[0m\u001b[32ma bank account  \u001b[0m\u001b[32m \u001b[0m│\u001b[35m                 \u001b[0m│\u001b[33m                  \u001b[0m \n",
       " \u001b[36m                                                         \u001b[0m│\u001b[32m \u001b[0m\u001b[32mnumber:         \u001b[0m\u001b[32m \u001b[0m│\u001b[35m                 \u001b[0m│\u001b[33m                  \u001b[0m \n",
       " \u001b[36m                                                         \u001b[0m│\u001b[32m \u001b[0m\u001b[32m1234567890.     \u001b[0m\u001b[32m \u001b[0m│\u001b[35m                 \u001b[0m│\u001b[33m                  \u001b[0m \n",
       " \u001b[36m \u001b[0m\u001b[36m/home/rakesh/Downloads/sample_data/four/shad.txt       \u001b[0m\u001b[36m \u001b[0m│\u001b[32m \u001b[0m\u001b[32mThis article    \u001b[0m\u001b[32m \u001b[0m│\u001b[35m \u001b[0m\u001b[35m/home/rakesh/D…\u001b[0m\u001b[35m \u001b[0m│\u001b[33m \u001b[0m\u001b[33m/home/rakesh/Do…\u001b[0m\u001b[33m \u001b[0m \n",
       " \u001b[36m                                                         \u001b[0m│\u001b[32m \u001b[0m\u001b[32mintroduces      \u001b[0m\u001b[32m \u001b[0m│\u001b[35m                 \u001b[0m│\u001b[33m                  \u001b[0m \n",
       " \u001b[36m                                                         \u001b[0m│\u001b[32m \u001b[0m\u001b[32mNext.js and     \u001b[0m\u001b[32m \u001b[0m│\u001b[35m                 \u001b[0m│\u001b[33m                  \u001b[0m \n",
       " \u001b[36m                                                         \u001b[0m│\u001b[32m \u001b[0m\u001b[32mdiscusses       \u001b[0m\u001b[32m \u001b[0m│\u001b[35m                 \u001b[0m│\u001b[33m                  \u001b[0m \n",
       " \u001b[36m                                                         \u001b[0m│\u001b[32m \u001b[0m\u001b[32mseveral         \u001b[0m\u001b[32m \u001b[0m│\u001b[35m                 \u001b[0m│\u001b[33m                  \u001b[0m \n",
       " \u001b[36m                                                         \u001b[0m│\u001b[32m \u001b[0m\u001b[32mopen-source     \u001b[0m\u001b[32m \u001b[0m│\u001b[35m                 \u001b[0m│\u001b[33m                  \u001b[0m \n",
       " \u001b[36m                                                         \u001b[0m│\u001b[32m \u001b[0m\u001b[32mNext.js starter \u001b[0m\u001b[32m \u001b[0m│\u001b[35m                 \u001b[0m│\u001b[33m                  \u001b[0m \n",
       " \u001b[36m                                                         \u001b[0m│\u001b[32m \u001b[0m\u001b[32mprojects for web\u001b[0m\u001b[32m \u001b[0m│\u001b[35m                 \u001b[0m│\u001b[33m                  \u001b[0m \n",
       " \u001b[36m                                                         \u001b[0m│\u001b[32m \u001b[0m\u001b[32mdevelopment,    \u001b[0m\u001b[32m \u001b[0m│\u001b[35m                 \u001b[0m│\u001b[33m                  \u001b[0m \n",
       " \u001b[36m                                                         \u001b[0m│\u001b[32m \u001b[0m\u001b[32mincluding       \u001b[0m\u001b[32m \u001b[0m│\u001b[35m                 \u001b[0m│\u001b[33m                  \u001b[0m \n",
       " \u001b[36m                                                         \u001b[0m│\u001b[32m \u001b[0m\u001b[32mtailwind-nextjs…\u001b[0m\u001b[32m \u001b[0m│\u001b[35m                 \u001b[0m│\u001b[33m                  \u001b[0m \n",
       " \u001b[36m                                                         \u001b[0m│\u001b[32m \u001b[0m\u001b[32mVercel          \u001b[0m\u001b[32m \u001b[0m│\u001b[35m                 \u001b[0m│\u001b[33m                  \u001b[0m \n",
       " \u001b[36m                                                         \u001b[0m│\u001b[32m \u001b[0m\u001b[32mPlatforms,      \u001b[0m\u001b[32m \u001b[0m│\u001b[35m                 \u001b[0m│\u001b[33m                  \u001b[0m \n",
       " \u001b[36m                                                         \u001b[0m│\u001b[32m \u001b[0m\u001b[32mnext-forge,     \u001b[0m\u001b[32m \u001b[0m│\u001b[35m                 \u001b[0m│\u001b[33m                  \u001b[0m \n",
       " \u001b[36m                                                         \u001b[0m│\u001b[32m \u001b[0m\u001b[32mfragments,      \u001b[0m\u001b[32m \u001b[0m│\u001b[35m                 \u001b[0m│\u001b[33m                  \u001b[0m \n",
       " \u001b[36m                                                         \u001b[0m│\u001b[32m \u001b[0m\u001b[32mnext-shadcn-das…\u001b[0m\u001b[32m \u001b[0m│\u001b[35m                 \u001b[0m│\u001b[33m                  \u001b[0m \n",
       " \u001b[36m                                                         \u001b[0m│\u001b[32m \u001b[0m\u001b[32mlangchain-nextj…\u001b[0m\u001b[32m \u001b[0m│\u001b[35m                 \u001b[0m│\u001b[33m                  \u001b[0m \n",
       " \u001b[36m                                                         \u001b[0m│\u001b[32m \u001b[0m\u001b[32mand             \u001b[0m\u001b[32m \u001b[0m│\u001b[35m                 \u001b[0m│\u001b[33m                  \u001b[0m \n",
       " \u001b[36m                                                         \u001b[0m│\u001b[32m \u001b[0m\u001b[32mnextjs-starter-…\u001b[0m\u001b[32m \u001b[0m│\u001b[35m                 \u001b[0m│\u001b[33m                  \u001b[0m \n",
       " \u001b[36m                                                         \u001b[0m│\u001b[32m \u001b[0m\u001b[32mIt details the  \u001b[0m\u001b[32m \u001b[0m│\u001b[35m                 \u001b[0m│\u001b[33m                  \u001b[0m \n",
       " \u001b[36m                                                         \u001b[0m│\u001b[32m \u001b[0m\u001b[32mtech stack for  \u001b[0m\u001b[32m \u001b[0m│\u001b[35m                 \u001b[0m│\u001b[33m                  \u001b[0m \n",
       " \u001b[36m                                                         \u001b[0m│\u001b[32m \u001b[0m\u001b[32meach project.   \u001b[0m\u001b[32m \u001b[0m│\u001b[35m                 \u001b[0m│\u001b[33m                  \u001b[0m \n",
       "                                                          ╵                  ╵                 ╵                   \n"
      ]
     },
     "metadata": {},
     "output_type": "display_data"
    },
    {
     "data": {
      "text/html": [
       "<pre style=\"white-space:pre;overflow-x:auto;line-height:normal;font-family:Menlo,'DejaVu Sans Mono',consolas,'Courier New',monospace\">23:18:47.655 | <span style=\"color: #008080; text-decoration-color: #008080\">INFO</span>    | Task run 'display_concatenated_dict-d58' - Finished in state <span style=\"color: #008000; text-decoration-color: #008000\">Completed</span>()\n",
       "</pre>\n"
      ],
      "text/plain": [
       "23:18:47.655 | \u001b[36mINFO\u001b[0m    | Task run 'display_concatenated_dict-d58' - Finished in state \u001b[32mCompleted\u001b[0m()\n"
      ]
     },
     "metadata": {},
     "output_type": "display_data"
    },
    {
     "data": {
      "text/html": [
       "<pre style=\"white-space:pre;overflow-x:auto;line-height:normal;font-family:Menlo,'DejaVu Sans Mono',consolas,'Courier New',monospace\">23:18:47.683 | <span style=\"color: #008080; text-decoration-color: #008080\">INFO</span>    | Flow run<span style=\"color: #800080; text-decoration-color: #800080\"> 'petite-caracal'</span> - Finished in state <span style=\"color: #008000; text-decoration-color: #008000\">Completed</span>()\n",
       "</pre>\n"
      ],
      "text/plain": [
       "23:18:47.683 | \u001b[36mINFO\u001b[0m    | Flow run\u001b[35m 'petite-caracal'\u001b[0m - Finished in state \u001b[32mCompleted\u001b[0m()\n"
      ]
     },
     "metadata": {},
     "output_type": "display_data"
    },
    {
     "data": {
      "text/html": [
       "<pre style=\"white-space:pre;overflow-x:auto;line-height:normal;font-family:Menlo,'DejaVu Sans Mono',consolas,'Courier New',monospace\"><span style=\"color: #808000; text-decoration-color: #808000; font-weight: bold\">Summaries:</span>\n",
       "</pre>\n"
      ],
      "text/plain": [
       "\u001b[1;33mSummaries:\u001b[0m\n"
      ]
     },
     "metadata": {},
     "output_type": "display_data"
    },
    {
     "name": "stdout",
     "output_type": "stream",
     "text": [
      "('{\\n'\n",
      " '    \"files\": [\\n'\n",
      " '        {\\n'\n",
      " '            \"file_path\": '\n",
      " '\"/home/rakesh/Downloads/sample_data/four/dsflsdflj.txt\",\\n'\n",
      " '            \"summary\": \"This article discusses the rise of Vertical Large '\n",
      " 'Language Model (LLM) Agents in SaaS, highlighting Case Text\\\\u2019s '\n",
      " 'Co-Counsel as a successful example. It explains why these agents are '\n",
      " 'becoming billion-dollar opportunities and how organizations can use them.\"\\n'\n",
      " '        },\\n'\n",
      " '        {\\n'\n",
      " '            \"file_path\": '\n",
      " '\"/home/rakesh/Downloads/sample_data/four/random_file.txt\",\\n'\n",
      " '            \"summary\": \"This is a test file containing a bank account '\n",
      " 'number: 1234567890.\"\\n'\n",
      " '        },\\n'\n",
      " '        {\\n'\n",
      " '            \"file_path\": '\n",
      " '\"/home/rakesh/Downloads/sample_data/four/shad.txt\",\\n'\n",
      " '            \"summary\": \"This article introduces Next.js and discusses '\n",
      " 'several open-source Next.js starter projects for web development, including '\n",
      " 'tailwind-nextjs-starter-blog, Vercel Platforms, next-forge, fragments, '\n",
      " 'next-shadcn-dashboard-starter, langchain-nextjs-template, and '\n",
      " 'nextjs-starter-kit. It details the tech stack for each project.\"\\n'\n",
      " '        }\\n'\n",
      " '    ],\\n'\n",
      " '    \"usage\": {\\n'\n",
      " '        \"completion_tokens\": 277,\\n'\n",
      " '        \"prompt_tokens\": 1650,\\n'\n",
      " '        \"total_tokens\": 1927\\n'\n",
      " '    },\\n'\n",
      " '    \"cost\": 0.0\\n'\n",
      " '}')\n"
     ]
    },
    {
     "data": {
      "text/html": [
       "<pre style=\"white-space:pre;overflow-x:auto;line-height:normal;font-family:Menlo,'DejaVu Sans Mono',consolas,'Courier New',monospace\">\n",
       "<span style=\"color: #808000; text-decoration-color: #808000; font-weight: bold\">File Tree:</span>\n",
       "</pre>\n"
      ],
      "text/plain": [
       "\n",
       "\u001b[1;33mFile Tree:\u001b[0m\n"
      ]
     },
     "metadata": {},
     "output_type": "display_data"
    },
    {
     "name": "stdout",
     "output_type": "stream",
     "text": [
      "('[\\n'\n",
      " '    {\\n'\n",
      " '        \"src_path\": '\n",
      " '\"/home/rakesh/Downloads/sample_data/four/dsflsdflj.txt\",\\n'\n",
      " '        \"dst_path\": '\n",
      " '\"/home/rakesh/Downloads/sample_data/four_organized_or/llm_agents/dsflsdflj.txt\",\\n'\n",
      " '        \"dst_path_new\": '\n",
      " '\"/home/rakesh/Downloads/sample_data/four_organized_or/llm_agents/dsflsdflj_v1.txt\"\\n'\n",
      " '    },\\n'\n",
      " '    {\\n'\n",
      " '        \"src_path\": '\n",
      " '\"/home/rakesh/Downloads/sample_data/four/random_file.txt\",\\n'\n",
      " '        \"dst_path\": '\n",
      " '\"/home/rakesh/Downloads/sample_data/four_organized_or/misc/random_file.txt\",\\n'\n",
      " '        \"dst_path_new\": '\n",
      " '\"/home/rakesh/Downloads/sample_data/four_organized_or/misc/random_file_sensitive.txt\"\\n'\n",
      " '    },\\n'\n",
      " '    {\\n'\n",
      " '        \"src_path\": \"/home/rakesh/Downloads/sample_data/four/shad.txt\",\\n'\n",
      " '        \"dst_path\": '\n",
      " '\"/home/rakesh/Downloads/sample_data/four_organized_or/nextjs_projects/shad.txt\",\\n'\n",
      " '        \"dst_path_new\": '\n",
      " '\"/home/rakesh/Downloads/sample_data/four_organized_or/nextjs_projects/shad_project_list.txt\"\\n'\n",
      " '    }\\n'\n",
      " ']')\n"
     ]
    },
    {
     "data": {
      "text/html": [
       "<pre style=\"white-space:pre;overflow-x:auto;line-height:normal;font-family:Menlo,'DejaVu Sans Mono',consolas,'Courier New',monospace\">\n",
       "<span style=\"color: #808000; text-decoration-color: #808000; font-weight: bold\">Concatenated Data:</span>\n",
       "</pre>\n"
      ],
      "text/plain": [
       "\n",
       "\u001b[1;33mConcatenated Data:\u001b[0m\n"
      ]
     },
     "metadata": {},
     "output_type": "display_data"
    },
    {
     "name": "stdout",
     "output_type": "stream",
     "text": [
      "('[\\n'\n",
      " '    {\\n'\n",
      " '        \"file_path\": '\n",
      " '\"/home/rakesh/Downloads/sample_data/four/dsflsdflj.txt\",\\n'\n",
      " '        \"summary\": \"This article discusses the rise of Vertical Large '\n",
      " 'Language Model (LLM) Agents in SaaS, highlighting Case Text\\\\u2019s '\n",
      " 'Co-Counsel as a successful example. It explains why these agents are '\n",
      " 'becoming billion-dollar opportunities and how organizations can use them.\",\\n'\n",
      " '        \"dst_path\": '\n",
      " '\"/home/rakesh/Downloads/sample_data/four_organized_or/llm_agents/dsflsdflj.txt\",\\n'\n",
      " '        \"dst_path_new\": '\n",
      " '\"/home/rakesh/Downloads/sample_data/four_organized_or/llm_agents/dsflsdflj_v1.txt\"\\n'\n",
      " '    },\\n'\n",
      " '    {\\n'\n",
      " '        \"file_path\": '\n",
      " '\"/home/rakesh/Downloads/sample_data/four/random_file.txt\",\\n'\n",
      " '        \"summary\": \"This is a test file containing a bank account number: '\n",
      " '1234567890.\",\\n'\n",
      " '        \"dst_path\": '\n",
      " '\"/home/rakesh/Downloads/sample_data/four_organized_or/misc/random_file.txt\",\\n'\n",
      " '        \"dst_path_new\": '\n",
      " '\"/home/rakesh/Downloads/sample_data/four_organized_or/misc/random_file_sensitive.txt\"\\n'\n",
      " '    },\\n'\n",
      " '    {\\n'\n",
      " '        \"file_path\": \"/home/rakesh/Downloads/sample_data/four/shad.txt\",\\n'\n",
      " '        \"summary\": \"This article introduces Next.js and discusses several '\n",
      " 'open-source Next.js starter projects for web development, including '\n",
      " 'tailwind-nextjs-starter-blog, Vercel Platforms, next-forge, fragments, '\n",
      " 'next-shadcn-dashboard-starter, langchain-nextjs-template, and '\n",
      " 'nextjs-starter-kit. It details the tech stack for each project.\",\\n'\n",
      " '        \"dst_path\": '\n",
      " '\"/home/rakesh/Downloads/sample_data/four_organized_or/nextjs_projects/shad.txt\",\\n'\n",
      " '        \"dst_path_new\": '\n",
      " '\"/home/rakesh/Downloads/sample_data/four_organized_or/nextjs_projects/shad_project_list.txt\"\\n'\n",
      " '    }\\n'\n",
      " ']')\n"
     ]
    }
   ],
   "source": [
    "if __name__ == \"__main__\":\n",
    "    # Define your parameters\n",
    "    source_directory = \"/home/rakesh/Downloads/sample_data/four/\"  # Replace with your actual source documents path\n",
    "    destination_directory = \"/home/rakesh/Downloads/sample_data/four_organized_or/\"  # Replace with your desired destination path\n",
    "    api_host = \"localhost\"                                         # API host address (not needed if api_base is provided)\n",
    "    api_port = 8111                                                # API port number\n",
    "    summary_model = \"openrouter/google/gemini-2.0-flash-exp:free\"\n",
    "    tree_model = \"openrouter/google/gemini-2.0-flash-exp:free\"\n",
    "    api_base_url = \"https://openrouter.ai/api/v1\"                     # Base URL for the API\n",
    "    use_streaming = False                                          # Set to True if you want streaming\n",
    "    # model=\"ollama/smollm2:135m\",\n",
    "\n",
    "    # Ensure destination directory exists\n",
    "    os.makedirs(destination_directory, exist_ok=True)\n",
    "\n",
    "    # Run the workflow\n",
    "    organized_files_result = document_processing_workflow(\n",
    "        source_path=source_directory,\n",
    "        destination_path=destination_directory,\n",
    "        api_host=api_host,\n",
    "        api_port=api_port,\n",
    "        summary_model=summary_model,\n",
    "        tree_model=tree_model,\n",
    "        api_base=api_base_url,                                  # Providing the API base URL\n",
    "        stream=use_streaming\n",
    "    )\n",
    "\n",
    "    # Extract the results\n",
    "    summaries = organized_files_result.get(\"summaries\", {})\n",
    "    file_tree = organized_files_result.get(\"file_tree\", [])\n",
    "    concatenated_data = organized_files_result.get(\"concatenated_data\", [])\n",
    "\n",
    "    # Optionally, pretty-print the results using Rich\n",
    "    console.print(\"[bold yellow]Summaries:[/bold yellow]\")\n",
    "    pprint(json.dumps(summaries, indent=4))\n",
    "\n",
    "    console.print(\"\\n[bold yellow]File Tree:[/bold yellow]\")\n",
    "    pprint(json.dumps(file_tree, indent=4))\n",
    "\n",
    "    console.print(\"\\n[bold yellow]Concatenated Data:[/bold yellow]\")\n",
    "    pprint(json.dumps(concatenated_data, indent=4))\n"
   ]
  },
  {
   "cell_type": "markdown",
   "metadata": {},
   "source": [
    "### OpenRouter - gpt-4o-mini"
   ]
  },
  {
   "cell_type": "code",
   "execution_count": 31,
   "metadata": {},
   "outputs": [
    {
     "data": {
      "text/html": [
       "<pre style=\"white-space:pre;overflow-x:auto;line-height:normal;font-family:Menlo,'DejaVu Sans Mono',consolas,'Courier New',monospace\">23:28:35.260 | <span style=\"color: #008080; text-decoration-color: #008080\">INFO</span>    | prefect.engine - Created flow run<span style=\"color: #800080; text-decoration-color: #800080\"> 'accurate-panda'</span> for flow<span style=\"color: #800080; text-decoration-color: #800080; font-weight: bold\"> 'Document Processing Workflow'</span>\n",
       "</pre>\n"
      ],
      "text/plain": [
       "23:28:35.260 | \u001b[36mINFO\u001b[0m    | prefect.engine - Created flow run\u001b[35m 'accurate-panda'\u001b[0m for flow\u001b[1;35m 'Document Processing Workflow'\u001b[0m\n"
      ]
     },
     "metadata": {},
     "output_type": "display_data"
    },
    {
     "data": {
      "text/html": [
       "<pre style=\"white-space:pre;overflow-x:auto;line-height:normal;font-family:Menlo,'DejaVu Sans Mono',consolas,'Courier New',monospace\">23:28:35.318 | <span style=\"color: #008080; text-decoration-color: #008080\">INFO</span>    | prefect - Success callback set successfully.\n",
       "</pre>\n"
      ],
      "text/plain": [
       "23:28:35.318 | \u001b[36mINFO\u001b[0m    | prefect - Success callback set successfully.\n"
      ]
     },
     "metadata": {},
     "output_type": "display_data"
    },
    {
     "data": {
      "text/html": [
       "<pre style=\"white-space:pre;overflow-x:auto;line-height:normal;font-family:Menlo,'DejaVu Sans Mono',consolas,'Courier New',monospace\">23:28:35.320 | <span style=\"color: #008080; text-decoration-color: #008080\">INFO</span>    | Task run 'set_success_callback-30e' - Finished in state <span style=\"color: #008000; text-decoration-color: #008000\">Completed</span>()\n",
       "</pre>\n"
      ],
      "text/plain": [
       "23:28:35.320 | \u001b[36mINFO\u001b[0m    | Task run 'set_success_callback-30e' - Finished in state \u001b[32mCompleted\u001b[0m()\n"
      ]
     },
     "metadata": {},
     "output_type": "display_data"
    },
    {
     "data": {
      "text/html": [
       "<pre style=\"white-space:pre;overflow-x:auto;line-height:normal;font-family:Menlo,'DejaVu Sans Mono',consolas,'Courier New',monospace\"><span style=\"font-style: italic\">                                              Available Ollama Models                                              </span>\n",
       "                   ╷              ╷              ╷              ╷            ╷             ╷        ╷              \n",
       " <span style=\"font-weight: bold\"> Model Name       </span>│<span style=\"font-weight: bold\"> Modified At  </span>│<span style=\"font-weight: bold\"> Digest       </span>│<span style=\"font-weight: bold\"> Size (bytes) </span>│<span style=\"font-weight: bold\"> Param Size </span>│<span style=\"font-weight: bold\"> Quant Level </span>│<span style=\"font-weight: bold\"> Family </span>│<span style=\"font-weight: bold\"> Families    </span> \n",
       " ══════════════════╪══════════════╪══════════════╪══════════════╪════════════╪═════════════╪════════╪═════════════ \n",
       " <span style=\"color: #008080; text-decoration-color: #008080\"> smollm2:135m     </span>│<span style=\"color: #800080; text-decoration-color: #800080\"> 2024-12-18   </span>│<span style=\"color: #008000; text-decoration-color: #008000\"> 9077fe9d2ae… </span>│<span style=\"color: #808000; text-decoration-color: #808000\">    270898672 </span>│<span style=\"color: #808000; text-decoration-color: #808000\">    134.52M </span>│<span style=\"color: #000080; text-decoration-color: #000080\"> F16         </span>│<span style=\"color: #800000; text-decoration-color: #800000\"> llama  </span>│<span style=\"color: #800000; text-decoration-color: #800000\"> llama       </span> \n",
       " <span style=\"color: #008080; text-decoration-color: #008080\">                  </span>│<span style=\"color: #800080; text-decoration-color: #800080\"> 11:49:06.80… </span>│<span style=\"color: #008000; text-decoration-color: #008000\">              </span>│<span style=\"color: #808000; text-decoration-color: #808000\">              </span>│<span style=\"color: #808000; text-decoration-color: #808000\">            </span>│<span style=\"color: #000080; text-decoration-color: #000080\">             </span>│<span style=\"color: #800000; text-decoration-color: #800000\">        </span>│<span style=\"color: #800000; text-decoration-color: #800000\">             </span> \n",
       " <span style=\"color: #008080; text-decoration-color: #008080\"> llava:latest     </span>│<span style=\"color: #800080; text-decoration-color: #800080\"> 2024-12-07   </span>│<span style=\"color: #008000; text-decoration-color: #008000\"> 8dd30f6b0cb… </span>│<span style=\"color: #808000; text-decoration-color: #808000\">   4733363377 </span>│<span style=\"color: #808000; text-decoration-color: #808000\">         7B </span>│<span style=\"color: #000080; text-decoration-color: #000080\"> Q4_0        </span>│<span style=\"color: #800000; text-decoration-color: #800000\"> llama  </span>│<span style=\"color: #800000; text-decoration-color: #800000\"> llama, clip </span> \n",
       " <span style=\"color: #008080; text-decoration-color: #008080\">                  </span>│<span style=\"color: #800080; text-decoration-color: #800080\"> 23:46:35.56… </span>│<span style=\"color: #008000; text-decoration-color: #008000\">              </span>│<span style=\"color: #808000; text-decoration-color: #808000\">              </span>│<span style=\"color: #808000; text-decoration-color: #808000\">            </span>│<span style=\"color: #000080; text-decoration-color: #000080\">             </span>│<span style=\"color: #800000; text-decoration-color: #800000\">        </span>│<span style=\"color: #800000; text-decoration-color: #800000\">             </span> \n",
       " <span style=\"color: #008080; text-decoration-color: #008080\"> moondream:latest </span>│<span style=\"color: #800080; text-decoration-color: #800080\"> 2024-12-07   </span>│<span style=\"color: #008000; text-decoration-color: #008000\"> 55fc3abd386… </span>│<span style=\"color: #808000; text-decoration-color: #808000\">   1738451197 </span>│<span style=\"color: #808000; text-decoration-color: #808000\">         1B </span>│<span style=\"color: #000080; text-decoration-color: #000080\"> Q4_0        </span>│<span style=\"color: #800000; text-decoration-color: #800000\"> phi2   </span>│<span style=\"color: #800000; text-decoration-color: #800000\"> phi2, clip  </span> \n",
       " <span style=\"color: #008080; text-decoration-color: #008080\">                  </span>│<span style=\"color: #800080; text-decoration-color: #800080\"> 22:19:46.41… </span>│<span style=\"color: #008000; text-decoration-color: #008000\">              </span>│<span style=\"color: #808000; text-decoration-color: #808000\">              </span>│<span style=\"color: #808000; text-decoration-color: #808000\">            </span>│<span style=\"color: #000080; text-decoration-color: #000080\">             </span>│<span style=\"color: #800000; text-decoration-color: #800000\">        </span>│<span style=\"color: #800000; text-decoration-color: #800000\">             </span> \n",
       " <span style=\"color: #008080; text-decoration-color: #008080\"> llama3.2:latest  </span>│<span style=\"color: #800080; text-decoration-color: #800080\"> 2024-12-07   </span>│<span style=\"color: #008000; text-decoration-color: #008000\"> a80c4f17acd… </span>│<span style=\"color: #808000; text-decoration-color: #808000\">   2019393189 </span>│<span style=\"color: #808000; text-decoration-color: #808000\">       3.2B </span>│<span style=\"color: #000080; text-decoration-color: #000080\"> Q4_K_M      </span>│<span style=\"color: #800000; text-decoration-color: #800000\"> llama  </span>│<span style=\"color: #800000; text-decoration-color: #800000\"> llama       </span> \n",
       " <span style=\"color: #008080; text-decoration-color: #008080\">                  </span>│<span style=\"color: #800080; text-decoration-color: #800080\"> 22:18:36.84… </span>│<span style=\"color: #008000; text-decoration-color: #008000\">              </span>│<span style=\"color: #808000; text-decoration-color: #808000\">              </span>│<span style=\"color: #808000; text-decoration-color: #808000\">            </span>│<span style=\"color: #000080; text-decoration-color: #000080\">             </span>│<span style=\"color: #800000; text-decoration-color: #800000\">        </span>│<span style=\"color: #800000; text-decoration-color: #800000\">             </span> \n",
       "                   ╵              ╵              ╵              ╵            ╵             ╵        ╵              \n",
       "</pre>\n"
      ],
      "text/plain": [
       "\u001b[3m                                              Available Ollama Models                                              \u001b[0m\n",
       "                   ╷              ╷              ╷              ╷            ╷             ╷        ╷              \n",
       " \u001b[1m \u001b[0m\u001b[1mModel Name      \u001b[0m\u001b[1m \u001b[0m│\u001b[1m \u001b[0m\u001b[1mModified At \u001b[0m\u001b[1m \u001b[0m│\u001b[1m \u001b[0m\u001b[1mDigest      \u001b[0m\u001b[1m \u001b[0m│\u001b[1m \u001b[0m\u001b[1mSize (bytes)\u001b[0m\u001b[1m \u001b[0m│\u001b[1m \u001b[0m\u001b[1mParam Size\u001b[0m\u001b[1m \u001b[0m│\u001b[1m \u001b[0m\u001b[1mQuant Level\u001b[0m\u001b[1m \u001b[0m│\u001b[1m \u001b[0m\u001b[1mFamily\u001b[0m\u001b[1m \u001b[0m│\u001b[1m \u001b[0m\u001b[1mFamilies   \u001b[0m\u001b[1m \u001b[0m \n",
       " ══════════════════╪══════════════╪══════════════╪══════════════╪════════════╪═════════════╪════════╪═════════════ \n",
       " \u001b[36m \u001b[0m\u001b[36msmollm2:135m    \u001b[0m\u001b[36m \u001b[0m│\u001b[35m \u001b[0m\u001b[35m2024-12-18  \u001b[0m\u001b[35m \u001b[0m│\u001b[32m \u001b[0m\u001b[32m9077fe9d2ae…\u001b[0m\u001b[32m \u001b[0m│\u001b[33m \u001b[0m\u001b[33m   270898672\u001b[0m\u001b[33m \u001b[0m│\u001b[33m \u001b[0m\u001b[33m   134.52M\u001b[0m\u001b[33m \u001b[0m│\u001b[34m \u001b[0m\u001b[34mF16        \u001b[0m\u001b[34m \u001b[0m│\u001b[31m \u001b[0m\u001b[31mllama \u001b[0m\u001b[31m \u001b[0m│\u001b[31m \u001b[0m\u001b[31mllama      \u001b[0m\u001b[31m \u001b[0m \n",
       " \u001b[36m                  \u001b[0m│\u001b[35m \u001b[0m\u001b[35m11:49:06.80…\u001b[0m\u001b[35m \u001b[0m│\u001b[32m              \u001b[0m│\u001b[33m              \u001b[0m│\u001b[33m            \u001b[0m│\u001b[34m             \u001b[0m│\u001b[31m        \u001b[0m│\u001b[31m             \u001b[0m \n",
       " \u001b[36m \u001b[0m\u001b[36mllava:latest    \u001b[0m\u001b[36m \u001b[0m│\u001b[35m \u001b[0m\u001b[35m2024-12-07  \u001b[0m\u001b[35m \u001b[0m│\u001b[32m \u001b[0m\u001b[32m8dd30f6b0cb…\u001b[0m\u001b[32m \u001b[0m│\u001b[33m \u001b[0m\u001b[33m  4733363377\u001b[0m\u001b[33m \u001b[0m│\u001b[33m \u001b[0m\u001b[33m        7B\u001b[0m\u001b[33m \u001b[0m│\u001b[34m \u001b[0m\u001b[34mQ4_0       \u001b[0m\u001b[34m \u001b[0m│\u001b[31m \u001b[0m\u001b[31mllama \u001b[0m\u001b[31m \u001b[0m│\u001b[31m \u001b[0m\u001b[31mllama, clip\u001b[0m\u001b[31m \u001b[0m \n",
       " \u001b[36m                  \u001b[0m│\u001b[35m \u001b[0m\u001b[35m23:46:35.56…\u001b[0m\u001b[35m \u001b[0m│\u001b[32m              \u001b[0m│\u001b[33m              \u001b[0m│\u001b[33m            \u001b[0m│\u001b[34m             \u001b[0m│\u001b[31m        \u001b[0m│\u001b[31m             \u001b[0m \n",
       " \u001b[36m \u001b[0m\u001b[36mmoondream:latest\u001b[0m\u001b[36m \u001b[0m│\u001b[35m \u001b[0m\u001b[35m2024-12-07  \u001b[0m\u001b[35m \u001b[0m│\u001b[32m \u001b[0m\u001b[32m55fc3abd386…\u001b[0m\u001b[32m \u001b[0m│\u001b[33m \u001b[0m\u001b[33m  1738451197\u001b[0m\u001b[33m \u001b[0m│\u001b[33m \u001b[0m\u001b[33m        1B\u001b[0m\u001b[33m \u001b[0m│\u001b[34m \u001b[0m\u001b[34mQ4_0       \u001b[0m\u001b[34m \u001b[0m│\u001b[31m \u001b[0m\u001b[31mphi2  \u001b[0m\u001b[31m \u001b[0m│\u001b[31m \u001b[0m\u001b[31mphi2, clip \u001b[0m\u001b[31m \u001b[0m \n",
       " \u001b[36m                  \u001b[0m│\u001b[35m \u001b[0m\u001b[35m22:19:46.41…\u001b[0m\u001b[35m \u001b[0m│\u001b[32m              \u001b[0m│\u001b[33m              \u001b[0m│\u001b[33m            \u001b[0m│\u001b[34m             \u001b[0m│\u001b[31m        \u001b[0m│\u001b[31m             \u001b[0m \n",
       " \u001b[36m \u001b[0m\u001b[36mllama3.2:latest \u001b[0m\u001b[36m \u001b[0m│\u001b[35m \u001b[0m\u001b[35m2024-12-07  \u001b[0m\u001b[35m \u001b[0m│\u001b[32m \u001b[0m\u001b[32ma80c4f17acd…\u001b[0m\u001b[32m \u001b[0m│\u001b[33m \u001b[0m\u001b[33m  2019393189\u001b[0m\u001b[33m \u001b[0m│\u001b[33m \u001b[0m\u001b[33m      3.2B\u001b[0m\u001b[33m \u001b[0m│\u001b[34m \u001b[0m\u001b[34mQ4_K_M     \u001b[0m\u001b[34m \u001b[0m│\u001b[31m \u001b[0m\u001b[31mllama \u001b[0m\u001b[31m \u001b[0m│\u001b[31m \u001b[0m\u001b[31mllama      \u001b[0m\u001b[31m \u001b[0m \n",
       " \u001b[36m                  \u001b[0m│\u001b[35m \u001b[0m\u001b[35m22:18:36.84…\u001b[0m\u001b[35m \u001b[0m│\u001b[32m              \u001b[0m│\u001b[33m              \u001b[0m│\u001b[33m            \u001b[0m│\u001b[34m             \u001b[0m│\u001b[31m        \u001b[0m│\u001b[31m             \u001b[0m \n",
       "                   ╵              ╵              ╵              ╵            ╵             ╵        ╵              \n"
      ]
     },
     "metadata": {},
     "output_type": "display_data"
    },
    {
     "data": {
      "text/html": [
       "<pre style=\"white-space:pre;overflow-x:auto;line-height:normal;font-family:Menlo,'DejaVu Sans Mono',consolas,'Courier New',monospace\">23:28:35.352 | <span style=\"color: #008080; text-decoration-color: #008080\">INFO</span>    | Task run 'list_ollama_models-0f2' - Finished in state <span style=\"color: #008000; text-decoration-color: #008000\">Completed</span>()\n",
       "</pre>\n"
      ],
      "text/plain": [
       "23:28:35.352 | \u001b[36mINFO\u001b[0m    | Task run 'list_ollama_models-0f2' - Finished in state \u001b[32mCompleted\u001b[0m()\n"
      ]
     },
     "metadata": {},
     "output_type": "display_data"
    },
    {
     "data": {
      "text/html": [
       "<pre style=\"white-space:pre;overflow-x:auto;line-height:normal;font-family:Menlo,'DejaVu Sans Mono',consolas,'Courier New',monospace\">23:28:35.377 | <span style=\"color: #008080; text-decoration-color: #008080\">INFO</span>    | prefect - Loaded 3 documents from /home/rakesh/Downloads/sample_data/four/\n",
       "</pre>\n"
      ],
      "text/plain": [
       "23:28:35.377 | \u001b[36mINFO\u001b[0m    | prefect - Loaded 3 documents from /home/rakesh/Downloads/sample_data/four/\n"
      ]
     },
     "metadata": {},
     "output_type": "display_data"
    },
    {
     "data": {
      "text/html": [
       "<pre style=\"white-space:pre;overflow-x:auto;line-height:normal;font-family:Menlo,'DejaVu Sans Mono',consolas,'Courier New',monospace\"><span style=\"color: #008000; text-decoration-color: #008000; font-weight: bold\">Loaded </span><span style=\"color: #008000; text-decoration-color: #008000; font-weight: bold\">3</span><span style=\"color: #008000; text-decoration-color: #008000; font-weight: bold\"> documents from /home/rakesh/Downloads/sample_data/four/</span>\n",
       "</pre>\n"
      ],
      "text/plain": [
       "\u001b[1;32mLoaded \u001b[0m\u001b[1;32m3\u001b[0m\u001b[1;32m documents from \u001b[0m\u001b[1;32m/home/rakesh/Downloads/sample_data/four/\u001b[0m\n"
      ]
     },
     "metadata": {},
     "output_type": "display_data"
    },
    {
     "data": {
      "text/html": [
       "<pre style=\"white-space:pre;overflow-x:auto;line-height:normal;font-family:Menlo,'DejaVu Sans Mono',consolas,'Courier New',monospace\">23:28:35.380 | <span style=\"color: #008080; text-decoration-color: #008080\">INFO</span>    | Task run 'load_documents-9b3' - Finished in state <span style=\"color: #008000; text-decoration-color: #008000\">Completed</span>()\n",
       "</pre>\n"
      ],
      "text/plain": [
       "23:28:35.380 | \u001b[36mINFO\u001b[0m    | Task run 'load_documents-9b3' - Finished in state \u001b[32mCompleted\u001b[0m()\n"
      ]
     },
     "metadata": {},
     "output_type": "display_data"
    },
    {
     "data": {
      "text/html": [
       "<pre style=\"white-space:pre;overflow-x:auto;line-height:normal;font-family:Menlo,'DejaVu Sans Mono',consolas,'Courier New',monospace\">23:28:35.407 | <span style=\"color: #008080; text-decoration-color: #008080\">INFO</span>    | prefect - Processed metadata: 3 unique documents\n",
       "</pre>\n"
      ],
      "text/plain": [
       "23:28:35.407 | \u001b[36mINFO\u001b[0m    | prefect - Processed metadata: 3 unique documents\n"
      ]
     },
     "metadata": {},
     "output_type": "display_data"
    },
    {
     "data": {
      "text/html": [
       "<pre style=\"white-space:pre;overflow-x:auto;line-height:normal;font-family:Menlo,'DejaVu Sans Mono',consolas,'Courier New',monospace\"><span style=\"color: #008000; text-decoration-color: #008000; font-weight: bold\">Processed metadata: </span><span style=\"color: #008000; text-decoration-color: #008000; font-weight: bold\">3</span><span style=\"color: #008000; text-decoration-color: #008000; font-weight: bold\"> unique documents</span>\n",
       "</pre>\n"
      ],
      "text/plain": [
       "\u001b[1;32mProcessed metadata: \u001b[0m\u001b[1;32m3\u001b[0m\u001b[1;32m unique documents\u001b[0m\n"
      ]
     },
     "metadata": {},
     "output_type": "display_data"
    },
    {
     "data": {
      "text/html": [
       "<pre style=\"white-space:pre;overflow-x:auto;line-height:normal;font-family:Menlo,'DejaVu Sans Mono',consolas,'Courier New',monospace\">23:28:35.410 | <span style=\"color: #008080; text-decoration-color: #008080\">INFO</span>    | Task run 'process_metadata-33b' - Finished in state <span style=\"color: #008000; text-decoration-color: #008000\">Completed</span>()\n",
       "</pre>\n"
      ],
      "text/plain": [
       "23:28:35.410 | \u001b[36mINFO\u001b[0m    | Task run 'process_metadata-33b' - Finished in state \u001b[32mCompleted\u001b[0m()\n"
      ]
     },
     "metadata": {},
     "output_type": "display_data"
    },
    {
     "name": "stdout",
     "output_type": "stream",
     "text": [
      ">>>> Content summary:\n",
      "{\n",
      "  \"files\": [\n",
      "    {\n",
      "      \"file_path\": \"/home/rakesh/Downloads/sample_data/four/dsflsdflj.txt\",\n",
      "      \"summary\": \"This file discusses the rise of Vertical Large Language Model (LLM) Agents in the SaaS space, highlighting the success of Case Text’s AI-driven legal assistant, Co-Counsel, and the potential for billion-dollar opportunities in this technology.\"\n",
      "    },\n",
      "    {\n",
      "      \"file_path\": \"/home/rakesh/Downloads/sample_data/four/random_file.txt\",\n",
      "      \"summary\": \"This is a test file containing critical information, including a bank account number, which should be handled with care.\"\n",
      "    },\n",
      "    {\n",
      "      \"file_path\": \"/home/rakesh/Downloads/sample_data/four/shad.txt\",\n",
      "      \"summary\": \"The file provides a detailed overview of Next.js, an open source web development framework, along with a list of eight recommended boilerplates for building Next.js applications, including features and technology stacks for each starter project.\"\n",
      "    }\n",
      "  ]\n",
      "}\n",
      "Summaries:\n",
      "{'files': [{'file_path': '/home/rakesh/Downloads/sample_data/four/dsflsdflj.txt', 'summary': 'This file discusses the rise of Vertical Large Language Model (LLM) Agents in the SaaS space, highlighting the success of Case Text’s AI-driven legal assistant, Co-Counsel, and the potential for billion-dollar opportunities in this technology.'}, {'file_path': '/home/rakesh/Downloads/sample_data/four/random_file.txt', 'summary': 'This is a test file containing critical information, including a bank account number, which should be handled with care.'}, {'file_path': '/home/rakesh/Downloads/sample_data/four/shad.txt', 'summary': 'The file provides a detailed overview of Next.js, an open source web development framework, along with a list of eight recommended boilerplates for building Next.js applications, including features and technology stacks for each starter project.'}]}\n"
     ]
    },
    {
     "data": {
      "text/html": [
       "<pre style=\"white-space:pre;overflow-x:auto;line-height:normal;font-family:Menlo,'DejaVu Sans Mono',consolas,'Courier New',monospace\">23:28:39.665 | <span style=\"color: #008080; text-decoration-color: #008080\">INFO</span>    | prefect - Generated summaries for 3 files with cost 0.003129\n",
       "</pre>\n"
      ],
      "text/plain": [
       "23:28:39.665 | \u001b[36mINFO\u001b[0m    | prefect - Generated summaries for 3 files with cost 0.003129\n"
      ]
     },
     "metadata": {},
     "output_type": "display_data"
    },
    {
     "data": {
      "text/html": [
       "<pre style=\"white-space:pre;overflow-x:auto;line-height:normal;font-family:Menlo,'DejaVu Sans Mono',consolas,'Courier New',monospace\"><span style=\"color: #008000; text-decoration-color: #008000; font-weight: bold\">Generated summaries for </span><span style=\"color: #008000; text-decoration-color: #008000; font-weight: bold\">3</span><span style=\"color: #008000; text-decoration-color: #008000; font-weight: bold\"> files with cost </span><span style=\"color: #008000; text-decoration-color: #008000; font-weight: bold\">0.003129</span>\n",
       "</pre>\n"
      ],
      "text/plain": [
       "\u001b[1;32mGenerated summaries for \u001b[0m\u001b[1;32m3\u001b[0m\u001b[1;32m files with cost \u001b[0m\u001b[1;32m0.003129\u001b[0m\n"
      ]
     },
     "metadata": {},
     "output_type": "display_data"
    },
    {
     "data": {
      "text/html": [
       "<pre style=\"white-space:pre;overflow-x:auto;line-height:normal;font-family:Menlo,'DejaVu Sans Mono',consolas,'Courier New',monospace\">23:28:39.673 | <span style=\"color: #008080; text-decoration-color: #008080\">INFO</span>    | Task run 'query_summaries-db2' - Finished in state <span style=\"color: #008000; text-decoration-color: #008000\">Completed</span>()\n",
       "</pre>\n"
      ],
      "text/plain": [
       "23:28:39.673 | \u001b[36mINFO\u001b[0m    | Task run 'query_summaries-db2' - Finished in state \u001b[32mCompleted\u001b[0m()\n"
      ]
     },
     "metadata": {},
     "output_type": "display_data"
    },
    {
     "data": {
      "text/html": [
       "<pre style=\"white-space:pre;overflow-x:auto;line-height:normal;font-family:Menlo,'DejaVu Sans Mono',consolas,'Courier New',monospace\">23:28:39.740 | <span style=\"color: #008080; text-decoration-color: #008080\">INFO</span>    | prefect - Calculated cost: 0.004917\n",
       "</pre>\n"
      ],
      "text/plain": [
       "23:28:39.740 | \u001b[36mINFO\u001b[0m    | prefect - Calculated cost: 0.004917\n"
      ]
     },
     "metadata": {},
     "output_type": "display_data"
    },
    {
     "data": {
      "text/html": [
       "<pre style=\"white-space:pre;overflow-x:auto;line-height:normal;font-family:Menlo,'DejaVu Sans Mono',consolas,'Courier New',monospace\"><span style=\"color: #008000; text-decoration-color: #008000; font-weight: bold\">Calculated cost:</span> <span style=\"color: #808000; text-decoration-color: #808000; font-weight: bold\">0.004917</span>\n",
       "</pre>\n"
      ],
      "text/plain": [
       "\u001b[1;32mCalculated cost:\u001b[0m \u001b[1;33m0.004917\u001b[0m\n"
      ]
     },
     "metadata": {},
     "output_type": "display_data"
    },
    {
     "data": {
      "text/html": [
       "<pre style=\"white-space:pre;overflow-x:auto;line-height:normal;font-family:Menlo,'DejaVu Sans Mono',consolas,'Courier New',monospace\">23:28:39.742 | <span style=\"color: #008080; text-decoration-color: #008080\">INFO</span>    | Task run 'track_cost_callback' - Finished in state <span style=\"color: #008000; text-decoration-color: #008000\">Completed</span>()\n",
       "</pre>\n"
      ],
      "text/plain": [
       "23:28:39.742 | \u001b[36mINFO\u001b[0m    | Task run 'track_cost_callback' - Finished in state \u001b[32mCompleted\u001b[0m()\n"
      ]
     },
     "metadata": {},
     "output_type": "display_data"
    },
    {
     "data": {
      "text/html": [
       "<pre style=\"white-space:pre;overflow-x:auto;line-height:normal;font-family:Menlo,'DejaVu Sans Mono',consolas,'Courier New',monospace\">23:28:44.553 | <span style=\"color: #008080; text-decoration-color: #008080\">INFO</span>    | prefect - Created file tree for 3 files\n",
       "</pre>\n"
      ],
      "text/plain": [
       "23:28:44.553 | \u001b[36mINFO\u001b[0m    | prefect - Created file tree for 3 files\n"
      ]
     },
     "metadata": {},
     "output_type": "display_data"
    },
    {
     "data": {
      "text/html": [
       "<pre style=\"white-space:pre;overflow-x:auto;line-height:normal;font-family:Menlo,'DejaVu Sans Mono',consolas,'Courier New',monospace\"><span style=\"color: #008000; text-decoration-color: #008000; font-weight: bold\">Created file tree for </span><span style=\"color: #008000; text-decoration-color: #008000; font-weight: bold\">3</span><span style=\"color: #008000; text-decoration-color: #008000; font-weight: bold\"> files</span>\n",
       "</pre>\n"
      ],
      "text/plain": [
       "\u001b[1;32mCreated file tree for \u001b[0m\u001b[1;32m3\u001b[0m\u001b[1;32m files\u001b[0m\n"
      ]
     },
     "metadata": {},
     "output_type": "display_data"
    },
    {
     "data": {
      "text/html": [
       "<pre style=\"white-space:pre;overflow-x:auto;line-height:normal;font-family:Menlo,'DejaVu Sans Mono',consolas,'Courier New',monospace\">23:28:44.558 | <span style=\"color: #008080; text-decoration-color: #008080\">INFO</span>    | Task run 'create_file_tree-f0b' - Finished in state <span style=\"color: #008000; text-decoration-color: #008000\">Completed</span>()\n",
       "</pre>\n"
      ],
      "text/plain": [
       "23:28:44.558 | \u001b[36mINFO\u001b[0m    | Task run 'create_file_tree-f0b' - Finished in state \u001b[32mCompleted\u001b[0m()\n"
      ]
     },
     "metadata": {},
     "output_type": "display_data"
    },
    {
     "data": {
      "text/html": [
       "<pre style=\"white-space:pre;overflow-x:auto;line-height:normal;font-family:Menlo,'DejaVu Sans Mono',consolas,'Courier New',monospace\">23:28:44.601 | <span style=\"color: #008080; text-decoration-color: #008080\">INFO</span>    | prefect - All necessary subdirectories created.\n",
       "</pre>\n"
      ],
      "text/plain": [
       "23:28:44.601 | \u001b[36mINFO\u001b[0m    | prefect - All necessary subdirectories created.\n"
      ]
     },
     "metadata": {},
     "output_type": "display_data"
    },
    {
     "data": {
      "text/html": [
       "<pre style=\"white-space:pre;overflow-x:auto;line-height:normal;font-family:Menlo,'DejaVu Sans Mono',consolas,'Courier New',monospace\"><span style=\"color: #008000; text-decoration-color: #008000; font-weight: bold\">All necessary subdirectories created.</span>\n",
       "</pre>\n"
      ],
      "text/plain": [
       "\u001b[1;32mAll necessary subdirectories created.\u001b[0m\n"
      ]
     },
     "metadata": {},
     "output_type": "display_data"
    },
    {
     "data": {
      "text/html": [
       "<pre style=\"white-space:pre;overflow-x:auto;line-height:normal;font-family:Menlo,'DejaVu Sans Mono',consolas,'Courier New',monospace\">23:28:44.627 | <span style=\"color: #008080; text-decoration-color: #008080\">INFO</span>    | Task run 'create_subdirectories-4b4' - Finished in state <span style=\"color: #008000; text-decoration-color: #008000\">Completed</span>()\n",
       "</pre>\n"
      ],
      "text/plain": [
       "23:28:44.627 | \u001b[36mINFO\u001b[0m    | Task run 'create_subdirectories-4b4' - Finished in state \u001b[32mCompleted\u001b[0m()\n"
      ]
     },
     "metadata": {},
     "output_type": "display_data"
    },
    {
     "data": {
      "text/html": [
       "<pre style=\"white-space:pre;overflow-x:auto;line-height:normal;font-family:Menlo,'DejaVu Sans Mono',consolas,'Courier New',monospace\">23:28:44.650 | <span style=\"color: #008080; text-decoration-color: #008080\">INFO</span>    | prefect - Calculated cost: 0.0026850000000000003\n",
       "</pre>\n"
      ],
      "text/plain": [
       "23:28:44.650 | \u001b[36mINFO\u001b[0m    | prefect - Calculated cost: 0.0026850000000000003\n"
      ]
     },
     "metadata": {},
     "output_type": "display_data"
    },
    {
     "data": {
      "text/html": [
       "<pre style=\"white-space:pre;overflow-x:auto;line-height:normal;font-family:Menlo,'DejaVu Sans Mono',consolas,'Courier New',monospace\"><span style=\"color: #008000; text-decoration-color: #008000; font-weight: bold\">Calculated cost:</span> <span style=\"color: #808000; text-decoration-color: #808000; font-weight: bold\">0.0026850000000000003</span>\n",
       "</pre>\n"
      ],
      "text/plain": [
       "\u001b[1;32mCalculated cost:\u001b[0m \u001b[1;33m0.0026850000000000003\u001b[0m\n"
      ]
     },
     "metadata": {},
     "output_type": "display_data"
    },
    {
     "data": {
      "text/html": [
       "<pre style=\"white-space:pre;overflow-x:auto;line-height:normal;font-family:Menlo,'DejaVu Sans Mono',consolas,'Courier New',monospace\">23:28:44.655 | <span style=\"color: #008080; text-decoration-color: #008080\">INFO</span>    | prefect - Concatenated summary and file tree for 3 files\n",
       "</pre>\n"
      ],
      "text/plain": [
       "23:28:44.655 | \u001b[36mINFO\u001b[0m    | prefect - Concatenated summary and file tree for 3 files\n"
      ]
     },
     "metadata": {},
     "output_type": "display_data"
    },
    {
     "data": {
      "text/html": [
       "<pre style=\"white-space:pre;overflow-x:auto;line-height:normal;font-family:Menlo,'DejaVu Sans Mono',consolas,'Courier New',monospace\"><span style=\"color: #008000; text-decoration-color: #008000; font-weight: bold\">Concatenated summary and file tree for </span><span style=\"color: #008000; text-decoration-color: #008000; font-weight: bold\">3</span><span style=\"color: #008000; text-decoration-color: #008000; font-weight: bold\"> files</span>\n",
       "</pre>\n"
      ],
      "text/plain": [
       "\u001b[1;32mConcatenated summary and file tree for \u001b[0m\u001b[1;32m3\u001b[0m\u001b[1;32m files\u001b[0m\n"
      ]
     },
     "metadata": {},
     "output_type": "display_data"
    },
    {
     "data": {
      "text/html": [
       "<pre style=\"white-space:pre;overflow-x:auto;line-height:normal;font-family:Menlo,'DejaVu Sans Mono',consolas,'Courier New',monospace\">23:28:44.658 | <span style=\"color: #008080; text-decoration-color: #008080\">INFO</span>    | Task run 'track_cost_callback' - Finished in state <span style=\"color: #008000; text-decoration-color: #008000\">Completed</span>()\n",
       "</pre>\n"
      ],
      "text/plain": [
       "23:28:44.658 | \u001b[36mINFO\u001b[0m    | Task run 'track_cost_callback' - Finished in state \u001b[32mCompleted\u001b[0m()\n"
      ]
     },
     "metadata": {},
     "output_type": "display_data"
    },
    {
     "data": {
      "text/html": [
       "<pre style=\"white-space:pre;overflow-x:auto;line-height:normal;font-family:Menlo,'DejaVu Sans Mono',consolas,'Courier New',monospace\">23:28:44.660 | <span style=\"color: #008080; text-decoration-color: #008080\">INFO</span>    | Task run 'concatenate_summaries_and_file_tree-5cf' - Finished in state <span style=\"color: #008000; text-decoration-color: #008000\">Completed</span>()\n",
       "</pre>\n"
      ],
      "text/plain": [
       "23:28:44.660 | \u001b[36mINFO\u001b[0m    | Task run 'concatenate_summaries_and_file_tree-5cf' - Finished in state \u001b[32mCompleted\u001b[0m()\n"
      ]
     },
     "metadata": {},
     "output_type": "display_data"
    },
    {
     "data": {
      "text/html": [
       "<pre style=\"white-space:pre;overflow-x:auto;line-height:normal;font-family:Menlo,'DejaVu Sans Mono',consolas,'Courier New',monospace\"><span style=\"font-style: italic\">                                                  Organized Files                                                  </span>\n",
       "              ╷                                                                                                    \n",
       " <span style=\"font-weight: bold\"> Source Path </span>│<span style=\"font-weight: bold\"> Destination Path                                                                                  </span> \n",
       " ═════════════╪═══════════════════════════════════════════════════════════════════════════════════════════════════ \n",
       " <span style=\"color: #008080; text-decoration-color: #008080\">             </span>│<span style=\"color: #008000; text-decoration-color: #008000\"> /home/rakesh/Downloads/sample_data/four_organized_or/2023/10/Vertical_Large_Language_Model_LLM_A… </span> \n",
       " <span style=\"color: #008080; text-decoration-color: #008080\">             </span>│<span style=\"color: #008000; text-decoration-color: #008000\"> /home/rakesh/Downloads/sample_data/four_organized_or/2023/10/Critical_Information_Test_File.txt   </span> \n",
       " <span style=\"color: #008080; text-decoration-color: #008080\">             </span>│<span style=\"color: #008000; text-decoration-color: #008000\"> /home/rakesh/Downloads/sample_data/four_organized_or/2023/10/Next.js_Overview.txt                 </span> \n",
       "              ╵                                                                                                    \n",
       "</pre>\n"
      ],
      "text/plain": [
       "\u001b[3m                                                  Organized Files                                                  \u001b[0m\n",
       "              ╷                                                                                                    \n",
       " \u001b[1m \u001b[0m\u001b[1mSource Path\u001b[0m\u001b[1m \u001b[0m│\u001b[1m \u001b[0m\u001b[1mDestination Path                                                                                 \u001b[0m\u001b[1m \u001b[0m \n",
       " ═════════════╪═══════════════════════════════════════════════════════════════════════════════════════════════════ \n",
       " \u001b[36m \u001b[0m\u001b[36m           \u001b[0m\u001b[36m \u001b[0m│\u001b[32m \u001b[0m\u001b[32m/home/rakesh/Downloads/sample_data/four_organized_or/2023/10/Vertical_Large_Language_Model_LLM_A…\u001b[0m\u001b[32m \u001b[0m \n",
       " \u001b[36m \u001b[0m\u001b[36m           \u001b[0m\u001b[36m \u001b[0m│\u001b[32m \u001b[0m\u001b[32m/home/rakesh/Downloads/sample_data/four_organized_or/2023/10/Critical_Information_Test_File.txt  \u001b[0m\u001b[32m \u001b[0m \n",
       " \u001b[36m \u001b[0m\u001b[36m           \u001b[0m\u001b[36m \u001b[0m│\u001b[32m \u001b[0m\u001b[32m/home/rakesh/Downloads/sample_data/four_organized_or/2023/10/Next.js_Overview.txt                \u001b[0m\u001b[32m \u001b[0m \n",
       "              ╵                                                                                                    \n"
      ]
     },
     "metadata": {},
     "output_type": "display_data"
    },
    {
     "data": {
      "text/html": [
       "<pre style=\"white-space:pre;overflow-x:auto;line-height:normal;font-family:Menlo,'DejaVu Sans Mono',consolas,'Courier New',monospace\">23:28:44.689 | <span style=\"color: #008080; text-decoration-color: #008080\">INFO</span>    | Task run 'display_organized_files-aa2' - Finished in state <span style=\"color: #008000; text-decoration-color: #008000\">Completed</span>()\n",
       "</pre>\n"
      ],
      "text/plain": [
       "23:28:44.689 | \u001b[36mINFO\u001b[0m    | Task run 'display_organized_files-aa2' - Finished in state \u001b[32mCompleted\u001b[0m()\n"
      ]
     },
     "metadata": {},
     "output_type": "display_data"
    },
    {
     "data": {
      "text/html": [
       "<pre style=\"white-space:pre;overflow-x:auto;line-height:normal;font-family:Menlo,'DejaVu Sans Mono',consolas,'Courier New',monospace\"><span style=\"font-style: italic\">                                           Summaries and Organized Files                                           </span>\n",
       "                                                          ╷                  ╷                 ╷                   \n",
       " <span style=\"font-weight: bold\">                                                         </span>│<span style=\"font-weight: bold\">                  </span>│<span style=\"font-weight: bold\"> Destination     </span>│<span style=\"font-weight: bold\"> Destination Path </span> \n",
       " <span style=\"font-weight: bold\"> File Path                                               </span>│<span style=\"font-weight: bold\"> Summary          </span>│<span style=\"font-weight: bold\"> Path            </span>│<span style=\"font-weight: bold\"> New              </span> \n",
       " ═════════════════════════════════════════════════════════╪══════════════════╪═════════════════╪══════════════════ \n",
       " <span style=\"color: #008080; text-decoration-color: #008080\"> /home/rakesh/Downloads/sample_data/four/dsflsdflj.txt   </span>│<span style=\"color: #008000; text-decoration-color: #008000\"> This file        </span>│<span style=\"color: #800080; text-decoration-color: #800080\"> /home/rakesh/D… </span>│<span style=\"color: #808000; text-decoration-color: #808000\"> /home/rakesh/Do… </span> \n",
       " <span style=\"color: #008080; text-decoration-color: #008080\">                                                         </span>│<span style=\"color: #008000; text-decoration-color: #008000\"> discusses the    </span>│<span style=\"color: #800080; text-decoration-color: #800080\">                 </span>│<span style=\"color: #808000; text-decoration-color: #808000\">                  </span> \n",
       " <span style=\"color: #008080; text-decoration-color: #008080\">                                                         </span>│<span style=\"color: #008000; text-decoration-color: #008000\"> rise of Vertical </span>│<span style=\"color: #800080; text-decoration-color: #800080\">                 </span>│<span style=\"color: #808000; text-decoration-color: #808000\">                  </span> \n",
       " <span style=\"color: #008080; text-decoration-color: #008080\">                                                         </span>│<span style=\"color: #008000; text-decoration-color: #008000\"> Large Language   </span>│<span style=\"color: #800080; text-decoration-color: #800080\">                 </span>│<span style=\"color: #808000; text-decoration-color: #808000\">                  </span> \n",
       " <span style=\"color: #008080; text-decoration-color: #008080\">                                                         </span>│<span style=\"color: #008000; text-decoration-color: #008000\"> Model (LLM)      </span>│<span style=\"color: #800080; text-decoration-color: #800080\">                 </span>│<span style=\"color: #808000; text-decoration-color: #808000\">                  </span> \n",
       " <span style=\"color: #008080; text-decoration-color: #008080\">                                                         </span>│<span style=\"color: #008000; text-decoration-color: #008000\"> Agents in the    </span>│<span style=\"color: #800080; text-decoration-color: #800080\">                 </span>│<span style=\"color: #808000; text-decoration-color: #808000\">                  </span> \n",
       " <span style=\"color: #008080; text-decoration-color: #008080\">                                                         </span>│<span style=\"color: #008000; text-decoration-color: #008000\"> SaaS space,      </span>│<span style=\"color: #800080; text-decoration-color: #800080\">                 </span>│<span style=\"color: #808000; text-decoration-color: #808000\">                  </span> \n",
       " <span style=\"color: #008080; text-decoration-color: #008080\">                                                         </span>│<span style=\"color: #008000; text-decoration-color: #008000\"> highlighting the </span>│<span style=\"color: #800080; text-decoration-color: #800080\">                 </span>│<span style=\"color: #808000; text-decoration-color: #808000\">                  </span> \n",
       " <span style=\"color: #008080; text-decoration-color: #008080\">                                                         </span>│<span style=\"color: #008000; text-decoration-color: #008000\"> success of Case  </span>│<span style=\"color: #800080; text-decoration-color: #800080\">                 </span>│<span style=\"color: #808000; text-decoration-color: #808000\">                  </span> \n",
       " <span style=\"color: #008080; text-decoration-color: #008080\">                                                         </span>│<span style=\"color: #008000; text-decoration-color: #008000\"> Text’s AI-driven </span>│<span style=\"color: #800080; text-decoration-color: #800080\">                 </span>│<span style=\"color: #808000; text-decoration-color: #808000\">                  </span> \n",
       " <span style=\"color: #008080; text-decoration-color: #008080\">                                                         </span>│<span style=\"color: #008000; text-decoration-color: #008000\"> legal assistant, </span>│<span style=\"color: #800080; text-decoration-color: #800080\">                 </span>│<span style=\"color: #808000; text-decoration-color: #808000\">                  </span> \n",
       " <span style=\"color: #008080; text-decoration-color: #008080\">                                                         </span>│<span style=\"color: #008000; text-decoration-color: #008000\"> Co-Counsel, and  </span>│<span style=\"color: #800080; text-decoration-color: #800080\">                 </span>│<span style=\"color: #808000; text-decoration-color: #808000\">                  </span> \n",
       " <span style=\"color: #008080; text-decoration-color: #008080\">                                                         </span>│<span style=\"color: #008000; text-decoration-color: #008000\"> the potential    </span>│<span style=\"color: #800080; text-decoration-color: #800080\">                 </span>│<span style=\"color: #808000; text-decoration-color: #808000\">                  </span> \n",
       " <span style=\"color: #008080; text-decoration-color: #008080\">                                                         </span>│<span style=\"color: #008000; text-decoration-color: #008000\"> for              </span>│<span style=\"color: #800080; text-decoration-color: #800080\">                 </span>│<span style=\"color: #808000; text-decoration-color: #808000\">                  </span> \n",
       " <span style=\"color: #008080; text-decoration-color: #008080\">                                                         </span>│<span style=\"color: #008000; text-decoration-color: #008000\"> billion-dollar   </span>│<span style=\"color: #800080; text-decoration-color: #800080\">                 </span>│<span style=\"color: #808000; text-decoration-color: #808000\">                  </span> \n",
       " <span style=\"color: #008080; text-decoration-color: #008080\">                                                         </span>│<span style=\"color: #008000; text-decoration-color: #008000\"> opportunities in </span>│<span style=\"color: #800080; text-decoration-color: #800080\">                 </span>│<span style=\"color: #808000; text-decoration-color: #808000\">                  </span> \n",
       " <span style=\"color: #008080; text-decoration-color: #008080\">                                                         </span>│<span style=\"color: #008000; text-decoration-color: #008000\"> this technology. </span>│<span style=\"color: #800080; text-decoration-color: #800080\">                 </span>│<span style=\"color: #808000; text-decoration-color: #808000\">                  </span> \n",
       " <span style=\"color: #008080; text-decoration-color: #008080\"> /home/rakesh/Downloads/sample_data/four/random_file.txt </span>│<span style=\"color: #008000; text-decoration-color: #008000\"> This is a test   </span>│<span style=\"color: #800080; text-decoration-color: #800080\"> /home/rakesh/D… </span>│<span style=\"color: #808000; text-decoration-color: #808000\"> /home/rakesh/Do… </span> \n",
       " <span style=\"color: #008080; text-decoration-color: #008080\">                                                         </span>│<span style=\"color: #008000; text-decoration-color: #008000\"> file containing  </span>│<span style=\"color: #800080; text-decoration-color: #800080\">                 </span>│<span style=\"color: #808000; text-decoration-color: #808000\">                  </span> \n",
       " <span style=\"color: #008080; text-decoration-color: #008080\">                                                         </span>│<span style=\"color: #008000; text-decoration-color: #008000\"> critical         </span>│<span style=\"color: #800080; text-decoration-color: #800080\">                 </span>│<span style=\"color: #808000; text-decoration-color: #808000\">                  </span> \n",
       " <span style=\"color: #008080; text-decoration-color: #008080\">                                                         </span>│<span style=\"color: #008000; text-decoration-color: #008000\"> information,     </span>│<span style=\"color: #800080; text-decoration-color: #800080\">                 </span>│<span style=\"color: #808000; text-decoration-color: #808000\">                  </span> \n",
       " <span style=\"color: #008080; text-decoration-color: #008080\">                                                         </span>│<span style=\"color: #008000; text-decoration-color: #008000\"> including a bank </span>│<span style=\"color: #800080; text-decoration-color: #800080\">                 </span>│<span style=\"color: #808000; text-decoration-color: #808000\">                  </span> \n",
       " <span style=\"color: #008080; text-decoration-color: #008080\">                                                         </span>│<span style=\"color: #008000; text-decoration-color: #008000\"> account number,  </span>│<span style=\"color: #800080; text-decoration-color: #800080\">                 </span>│<span style=\"color: #808000; text-decoration-color: #808000\">                  </span> \n",
       " <span style=\"color: #008080; text-decoration-color: #008080\">                                                         </span>│<span style=\"color: #008000; text-decoration-color: #008000\"> which should be  </span>│<span style=\"color: #800080; text-decoration-color: #800080\">                 </span>│<span style=\"color: #808000; text-decoration-color: #808000\">                  </span> \n",
       " <span style=\"color: #008080; text-decoration-color: #008080\">                                                         </span>│<span style=\"color: #008000; text-decoration-color: #008000\"> handled with     </span>│<span style=\"color: #800080; text-decoration-color: #800080\">                 </span>│<span style=\"color: #808000; text-decoration-color: #808000\">                  </span> \n",
       " <span style=\"color: #008080; text-decoration-color: #008080\">                                                         </span>│<span style=\"color: #008000; text-decoration-color: #008000\"> care.            </span>│<span style=\"color: #800080; text-decoration-color: #800080\">                 </span>│<span style=\"color: #808000; text-decoration-color: #808000\">                  </span> \n",
       " <span style=\"color: #008080; text-decoration-color: #008080\"> /home/rakesh/Downloads/sample_data/four/shad.txt        </span>│<span style=\"color: #008000; text-decoration-color: #008000\"> The file         </span>│<span style=\"color: #800080; text-decoration-color: #800080\"> /home/rakesh/D… </span>│<span style=\"color: #808000; text-decoration-color: #808000\"> /home/rakesh/Do… </span> \n",
       " <span style=\"color: #008080; text-decoration-color: #008080\">                                                         </span>│<span style=\"color: #008000; text-decoration-color: #008000\"> provides a       </span>│<span style=\"color: #800080; text-decoration-color: #800080\">                 </span>│<span style=\"color: #808000; text-decoration-color: #808000\">                  </span> \n",
       " <span style=\"color: #008080; text-decoration-color: #008080\">                                                         </span>│<span style=\"color: #008000; text-decoration-color: #008000\"> detailed         </span>│<span style=\"color: #800080; text-decoration-color: #800080\">                 </span>│<span style=\"color: #808000; text-decoration-color: #808000\">                  </span> \n",
       " <span style=\"color: #008080; text-decoration-color: #008080\">                                                         </span>│<span style=\"color: #008000; text-decoration-color: #008000\"> overview of      </span>│<span style=\"color: #800080; text-decoration-color: #800080\">                 </span>│<span style=\"color: #808000; text-decoration-color: #808000\">                  </span> \n",
       " <span style=\"color: #008080; text-decoration-color: #008080\">                                                         </span>│<span style=\"color: #008000; text-decoration-color: #008000\"> Next.js, an open </span>│<span style=\"color: #800080; text-decoration-color: #800080\">                 </span>│<span style=\"color: #808000; text-decoration-color: #808000\">                  </span> \n",
       " <span style=\"color: #008080; text-decoration-color: #008080\">                                                         </span>│<span style=\"color: #008000; text-decoration-color: #008000\"> source web       </span>│<span style=\"color: #800080; text-decoration-color: #800080\">                 </span>│<span style=\"color: #808000; text-decoration-color: #808000\">                  </span> \n",
       " <span style=\"color: #008080; text-decoration-color: #008080\">                                                         </span>│<span style=\"color: #008000; text-decoration-color: #008000\"> development      </span>│<span style=\"color: #800080; text-decoration-color: #800080\">                 </span>│<span style=\"color: #808000; text-decoration-color: #808000\">                  </span> \n",
       " <span style=\"color: #008080; text-decoration-color: #008080\">                                                         </span>│<span style=\"color: #008000; text-decoration-color: #008000\"> framework, along </span>│<span style=\"color: #800080; text-decoration-color: #800080\">                 </span>│<span style=\"color: #808000; text-decoration-color: #808000\">                  </span> \n",
       " <span style=\"color: #008080; text-decoration-color: #008080\">                                                         </span>│<span style=\"color: #008000; text-decoration-color: #008000\"> with a list of   </span>│<span style=\"color: #800080; text-decoration-color: #800080\">                 </span>│<span style=\"color: #808000; text-decoration-color: #808000\">                  </span> \n",
       " <span style=\"color: #008080; text-decoration-color: #008080\">                                                         </span>│<span style=\"color: #008000; text-decoration-color: #008000\"> eight            </span>│<span style=\"color: #800080; text-decoration-color: #800080\">                 </span>│<span style=\"color: #808000; text-decoration-color: #808000\">                  </span> \n",
       " <span style=\"color: #008080; text-decoration-color: #008080\">                                                         </span>│<span style=\"color: #008000; text-decoration-color: #008000\"> recommended      </span>│<span style=\"color: #800080; text-decoration-color: #800080\">                 </span>│<span style=\"color: #808000; text-decoration-color: #808000\">                  </span> \n",
       " <span style=\"color: #008080; text-decoration-color: #008080\">                                                         </span>│<span style=\"color: #008000; text-decoration-color: #008000\"> boilerplates for </span>│<span style=\"color: #800080; text-decoration-color: #800080\">                 </span>│<span style=\"color: #808000; text-decoration-color: #808000\">                  </span> \n",
       " <span style=\"color: #008080; text-decoration-color: #008080\">                                                         </span>│<span style=\"color: #008000; text-decoration-color: #008000\"> building Next.js </span>│<span style=\"color: #800080; text-decoration-color: #800080\">                 </span>│<span style=\"color: #808000; text-decoration-color: #808000\">                  </span> \n",
       " <span style=\"color: #008080; text-decoration-color: #008080\">                                                         </span>│<span style=\"color: #008000; text-decoration-color: #008000\"> applications,    </span>│<span style=\"color: #800080; text-decoration-color: #800080\">                 </span>│<span style=\"color: #808000; text-decoration-color: #808000\">                  </span> \n",
       " <span style=\"color: #008080; text-decoration-color: #008080\">                                                         </span>│<span style=\"color: #008000; text-decoration-color: #008000\"> including        </span>│<span style=\"color: #800080; text-decoration-color: #800080\">                 </span>│<span style=\"color: #808000; text-decoration-color: #808000\">                  </span> \n",
       " <span style=\"color: #008080; text-decoration-color: #008080\">                                                         </span>│<span style=\"color: #008000; text-decoration-color: #008000\"> features and     </span>│<span style=\"color: #800080; text-decoration-color: #800080\">                 </span>│<span style=\"color: #808000; text-decoration-color: #808000\">                  </span> \n",
       " <span style=\"color: #008080; text-decoration-color: #008080\">                                                         </span>│<span style=\"color: #008000; text-decoration-color: #008000\"> technology       </span>│<span style=\"color: #800080; text-decoration-color: #800080\">                 </span>│<span style=\"color: #808000; text-decoration-color: #808000\">                  </span> \n",
       " <span style=\"color: #008080; text-decoration-color: #008080\">                                                         </span>│<span style=\"color: #008000; text-decoration-color: #008000\"> stacks for each  </span>│<span style=\"color: #800080; text-decoration-color: #800080\">                 </span>│<span style=\"color: #808000; text-decoration-color: #808000\">                  </span> \n",
       " <span style=\"color: #008080; text-decoration-color: #008080\">                                                         </span>│<span style=\"color: #008000; text-decoration-color: #008000\"> starter project. </span>│<span style=\"color: #800080; text-decoration-color: #800080\">                 </span>│<span style=\"color: #808000; text-decoration-color: #808000\">                  </span> \n",
       "                                                          ╵                  ╵                 ╵                   \n",
       "</pre>\n"
      ],
      "text/plain": [
       "\u001b[3m                                           Summaries and Organized Files                                           \u001b[0m\n",
       "                                                          ╷                  ╷                 ╷                   \n",
       " \u001b[1m                                                         \u001b[0m│\u001b[1m                  \u001b[0m│\u001b[1m \u001b[0m\u001b[1mDestination    \u001b[0m\u001b[1m \u001b[0m│\u001b[1m \u001b[0m\u001b[1mDestination Path\u001b[0m\u001b[1m \u001b[0m \n",
       " \u001b[1m \u001b[0m\u001b[1mFile Path                                              \u001b[0m\u001b[1m \u001b[0m│\u001b[1m \u001b[0m\u001b[1mSummary         \u001b[0m\u001b[1m \u001b[0m│\u001b[1m \u001b[0m\u001b[1mPath           \u001b[0m\u001b[1m \u001b[0m│\u001b[1m \u001b[0m\u001b[1mNew             \u001b[0m\u001b[1m \u001b[0m \n",
       " ═════════════════════════════════════════════════════════╪══════════════════╪═════════════════╪══════════════════ \n",
       " \u001b[36m \u001b[0m\u001b[36m/home/rakesh/Downloads/sample_data/four/dsflsdflj.txt  \u001b[0m\u001b[36m \u001b[0m│\u001b[32m \u001b[0m\u001b[32mThis file       \u001b[0m\u001b[32m \u001b[0m│\u001b[35m \u001b[0m\u001b[35m/home/rakesh/D…\u001b[0m\u001b[35m \u001b[0m│\u001b[33m \u001b[0m\u001b[33m/home/rakesh/Do…\u001b[0m\u001b[33m \u001b[0m \n",
       " \u001b[36m                                                         \u001b[0m│\u001b[32m \u001b[0m\u001b[32mdiscusses the   \u001b[0m\u001b[32m \u001b[0m│\u001b[35m                 \u001b[0m│\u001b[33m                  \u001b[0m \n",
       " \u001b[36m                                                         \u001b[0m│\u001b[32m \u001b[0m\u001b[32mrise of Vertical\u001b[0m\u001b[32m \u001b[0m│\u001b[35m                 \u001b[0m│\u001b[33m                  \u001b[0m \n",
       " \u001b[36m                                                         \u001b[0m│\u001b[32m \u001b[0m\u001b[32mLarge Language  \u001b[0m\u001b[32m \u001b[0m│\u001b[35m                 \u001b[0m│\u001b[33m                  \u001b[0m \n",
       " \u001b[36m                                                         \u001b[0m│\u001b[32m \u001b[0m\u001b[32mModel (LLM)     \u001b[0m\u001b[32m \u001b[0m│\u001b[35m                 \u001b[0m│\u001b[33m                  \u001b[0m \n",
       " \u001b[36m                                                         \u001b[0m│\u001b[32m \u001b[0m\u001b[32mAgents in the   \u001b[0m\u001b[32m \u001b[0m│\u001b[35m                 \u001b[0m│\u001b[33m                  \u001b[0m \n",
       " \u001b[36m                                                         \u001b[0m│\u001b[32m \u001b[0m\u001b[32mSaaS space,     \u001b[0m\u001b[32m \u001b[0m│\u001b[35m                 \u001b[0m│\u001b[33m                  \u001b[0m \n",
       " \u001b[36m                                                         \u001b[0m│\u001b[32m \u001b[0m\u001b[32mhighlighting the\u001b[0m\u001b[32m \u001b[0m│\u001b[35m                 \u001b[0m│\u001b[33m                  \u001b[0m \n",
       " \u001b[36m                                                         \u001b[0m│\u001b[32m \u001b[0m\u001b[32msuccess of Case \u001b[0m\u001b[32m \u001b[0m│\u001b[35m                 \u001b[0m│\u001b[33m                  \u001b[0m \n",
       " \u001b[36m                                                         \u001b[0m│\u001b[32m \u001b[0m\u001b[32mText’s AI-driven\u001b[0m\u001b[32m \u001b[0m│\u001b[35m                 \u001b[0m│\u001b[33m                  \u001b[0m \n",
       " \u001b[36m                                                         \u001b[0m│\u001b[32m \u001b[0m\u001b[32mlegal assistant,\u001b[0m\u001b[32m \u001b[0m│\u001b[35m                 \u001b[0m│\u001b[33m                  \u001b[0m \n",
       " \u001b[36m                                                         \u001b[0m│\u001b[32m \u001b[0m\u001b[32mCo-Counsel, and \u001b[0m\u001b[32m \u001b[0m│\u001b[35m                 \u001b[0m│\u001b[33m                  \u001b[0m \n",
       " \u001b[36m                                                         \u001b[0m│\u001b[32m \u001b[0m\u001b[32mthe potential   \u001b[0m\u001b[32m \u001b[0m│\u001b[35m                 \u001b[0m│\u001b[33m                  \u001b[0m \n",
       " \u001b[36m                                                         \u001b[0m│\u001b[32m \u001b[0m\u001b[32mfor             \u001b[0m\u001b[32m \u001b[0m│\u001b[35m                 \u001b[0m│\u001b[33m                  \u001b[0m \n",
       " \u001b[36m                                                         \u001b[0m│\u001b[32m \u001b[0m\u001b[32mbillion-dollar  \u001b[0m\u001b[32m \u001b[0m│\u001b[35m                 \u001b[0m│\u001b[33m                  \u001b[0m \n",
       " \u001b[36m                                                         \u001b[0m│\u001b[32m \u001b[0m\u001b[32mopportunities in\u001b[0m\u001b[32m \u001b[0m│\u001b[35m                 \u001b[0m│\u001b[33m                  \u001b[0m \n",
       " \u001b[36m                                                         \u001b[0m│\u001b[32m \u001b[0m\u001b[32mthis technology.\u001b[0m\u001b[32m \u001b[0m│\u001b[35m                 \u001b[0m│\u001b[33m                  \u001b[0m \n",
       " \u001b[36m \u001b[0m\u001b[36m/home/rakesh/Downloads/sample_data/four/random_file.txt\u001b[0m\u001b[36m \u001b[0m│\u001b[32m \u001b[0m\u001b[32mThis is a test  \u001b[0m\u001b[32m \u001b[0m│\u001b[35m \u001b[0m\u001b[35m/home/rakesh/D…\u001b[0m\u001b[35m \u001b[0m│\u001b[33m \u001b[0m\u001b[33m/home/rakesh/Do…\u001b[0m\u001b[33m \u001b[0m \n",
       " \u001b[36m                                                         \u001b[0m│\u001b[32m \u001b[0m\u001b[32mfile containing \u001b[0m\u001b[32m \u001b[0m│\u001b[35m                 \u001b[0m│\u001b[33m                  \u001b[0m \n",
       " \u001b[36m                                                         \u001b[0m│\u001b[32m \u001b[0m\u001b[32mcritical        \u001b[0m\u001b[32m \u001b[0m│\u001b[35m                 \u001b[0m│\u001b[33m                  \u001b[0m \n",
       " \u001b[36m                                                         \u001b[0m│\u001b[32m \u001b[0m\u001b[32minformation,    \u001b[0m\u001b[32m \u001b[0m│\u001b[35m                 \u001b[0m│\u001b[33m                  \u001b[0m \n",
       " \u001b[36m                                                         \u001b[0m│\u001b[32m \u001b[0m\u001b[32mincluding a bank\u001b[0m\u001b[32m \u001b[0m│\u001b[35m                 \u001b[0m│\u001b[33m                  \u001b[0m \n",
       " \u001b[36m                                                         \u001b[0m│\u001b[32m \u001b[0m\u001b[32maccount number, \u001b[0m\u001b[32m \u001b[0m│\u001b[35m                 \u001b[0m│\u001b[33m                  \u001b[0m \n",
       " \u001b[36m                                                         \u001b[0m│\u001b[32m \u001b[0m\u001b[32mwhich should be \u001b[0m\u001b[32m \u001b[0m│\u001b[35m                 \u001b[0m│\u001b[33m                  \u001b[0m \n",
       " \u001b[36m                                                         \u001b[0m│\u001b[32m \u001b[0m\u001b[32mhandled with    \u001b[0m\u001b[32m \u001b[0m│\u001b[35m                 \u001b[0m│\u001b[33m                  \u001b[0m \n",
       " \u001b[36m                                                         \u001b[0m│\u001b[32m \u001b[0m\u001b[32mcare.           \u001b[0m\u001b[32m \u001b[0m│\u001b[35m                 \u001b[0m│\u001b[33m                  \u001b[0m \n",
       " \u001b[36m \u001b[0m\u001b[36m/home/rakesh/Downloads/sample_data/four/shad.txt       \u001b[0m\u001b[36m \u001b[0m│\u001b[32m \u001b[0m\u001b[32mThe file        \u001b[0m\u001b[32m \u001b[0m│\u001b[35m \u001b[0m\u001b[35m/home/rakesh/D…\u001b[0m\u001b[35m \u001b[0m│\u001b[33m \u001b[0m\u001b[33m/home/rakesh/Do…\u001b[0m\u001b[33m \u001b[0m \n",
       " \u001b[36m                                                         \u001b[0m│\u001b[32m \u001b[0m\u001b[32mprovides a      \u001b[0m\u001b[32m \u001b[0m│\u001b[35m                 \u001b[0m│\u001b[33m                  \u001b[0m \n",
       " \u001b[36m                                                         \u001b[0m│\u001b[32m \u001b[0m\u001b[32mdetailed        \u001b[0m\u001b[32m \u001b[0m│\u001b[35m                 \u001b[0m│\u001b[33m                  \u001b[0m \n",
       " \u001b[36m                                                         \u001b[0m│\u001b[32m \u001b[0m\u001b[32moverview of     \u001b[0m\u001b[32m \u001b[0m│\u001b[35m                 \u001b[0m│\u001b[33m                  \u001b[0m \n",
       " \u001b[36m                                                         \u001b[0m│\u001b[32m \u001b[0m\u001b[32mNext.js, an open\u001b[0m\u001b[32m \u001b[0m│\u001b[35m                 \u001b[0m│\u001b[33m                  \u001b[0m \n",
       " \u001b[36m                                                         \u001b[0m│\u001b[32m \u001b[0m\u001b[32msource web      \u001b[0m\u001b[32m \u001b[0m│\u001b[35m                 \u001b[0m│\u001b[33m                  \u001b[0m \n",
       " \u001b[36m                                                         \u001b[0m│\u001b[32m \u001b[0m\u001b[32mdevelopment     \u001b[0m\u001b[32m \u001b[0m│\u001b[35m                 \u001b[0m│\u001b[33m                  \u001b[0m \n",
       " \u001b[36m                                                         \u001b[0m│\u001b[32m \u001b[0m\u001b[32mframework, along\u001b[0m\u001b[32m \u001b[0m│\u001b[35m                 \u001b[0m│\u001b[33m                  \u001b[0m \n",
       " \u001b[36m                                                         \u001b[0m│\u001b[32m \u001b[0m\u001b[32mwith a list of  \u001b[0m\u001b[32m \u001b[0m│\u001b[35m                 \u001b[0m│\u001b[33m                  \u001b[0m \n",
       " \u001b[36m                                                         \u001b[0m│\u001b[32m \u001b[0m\u001b[32meight           \u001b[0m\u001b[32m \u001b[0m│\u001b[35m                 \u001b[0m│\u001b[33m                  \u001b[0m \n",
       " \u001b[36m                                                         \u001b[0m│\u001b[32m \u001b[0m\u001b[32mrecommended     \u001b[0m\u001b[32m \u001b[0m│\u001b[35m                 \u001b[0m│\u001b[33m                  \u001b[0m \n",
       " \u001b[36m                                                         \u001b[0m│\u001b[32m \u001b[0m\u001b[32mboilerplates for\u001b[0m\u001b[32m \u001b[0m│\u001b[35m                 \u001b[0m│\u001b[33m                  \u001b[0m \n",
       " \u001b[36m                                                         \u001b[0m│\u001b[32m \u001b[0m\u001b[32mbuilding Next.js\u001b[0m\u001b[32m \u001b[0m│\u001b[35m                 \u001b[0m│\u001b[33m                  \u001b[0m \n",
       " \u001b[36m                                                         \u001b[0m│\u001b[32m \u001b[0m\u001b[32mapplications,   \u001b[0m\u001b[32m \u001b[0m│\u001b[35m                 \u001b[0m│\u001b[33m                  \u001b[0m \n",
       " \u001b[36m                                                         \u001b[0m│\u001b[32m \u001b[0m\u001b[32mincluding       \u001b[0m\u001b[32m \u001b[0m│\u001b[35m                 \u001b[0m│\u001b[33m                  \u001b[0m \n",
       " \u001b[36m                                                         \u001b[0m│\u001b[32m \u001b[0m\u001b[32mfeatures and    \u001b[0m\u001b[32m \u001b[0m│\u001b[35m                 \u001b[0m│\u001b[33m                  \u001b[0m \n",
       " \u001b[36m                                                         \u001b[0m│\u001b[32m \u001b[0m\u001b[32mtechnology      \u001b[0m\u001b[32m \u001b[0m│\u001b[35m                 \u001b[0m│\u001b[33m                  \u001b[0m \n",
       " \u001b[36m                                                         \u001b[0m│\u001b[32m \u001b[0m\u001b[32mstacks for each \u001b[0m\u001b[32m \u001b[0m│\u001b[35m                 \u001b[0m│\u001b[33m                  \u001b[0m \n",
       " \u001b[36m                                                         \u001b[0m│\u001b[32m \u001b[0m\u001b[32mstarter project.\u001b[0m\u001b[32m \u001b[0m│\u001b[35m                 \u001b[0m│\u001b[33m                  \u001b[0m \n",
       "                                                          ╵                  ╵                 ╵                   \n"
      ]
     },
     "metadata": {},
     "output_type": "display_data"
    },
    {
     "data": {
      "text/html": [
       "<pre style=\"white-space:pre;overflow-x:auto;line-height:normal;font-family:Menlo,'DejaVu Sans Mono',consolas,'Courier New',monospace\">23:28:44.719 | <span style=\"color: #008080; text-decoration-color: #008080\">INFO</span>    | Task run 'display_concatenated_dict-be5' - Finished in state <span style=\"color: #008000; text-decoration-color: #008000\">Completed</span>()\n",
       "</pre>\n"
      ],
      "text/plain": [
       "23:28:44.719 | \u001b[36mINFO\u001b[0m    | Task run 'display_concatenated_dict-be5' - Finished in state \u001b[32mCompleted\u001b[0m()\n"
      ]
     },
     "metadata": {},
     "output_type": "display_data"
    },
    {
     "data": {
      "text/html": [
       "<pre style=\"white-space:pre;overflow-x:auto;line-height:normal;font-family:Menlo,'DejaVu Sans Mono',consolas,'Courier New',monospace\">23:28:44.757 | <span style=\"color: #008080; text-decoration-color: #008080\">INFO</span>    | Flow run<span style=\"color: #800080; text-decoration-color: #800080\"> 'accurate-panda'</span> - Finished in state <span style=\"color: #008000; text-decoration-color: #008000\">Completed</span>()\n",
       "</pre>\n"
      ],
      "text/plain": [
       "23:28:44.757 | \u001b[36mINFO\u001b[0m    | Flow run\u001b[35m 'accurate-panda'\u001b[0m - Finished in state \u001b[32mCompleted\u001b[0m()\n"
      ]
     },
     "metadata": {},
     "output_type": "display_data"
    },
    {
     "data": {
      "text/html": [
       "<pre style=\"white-space:pre;overflow-x:auto;line-height:normal;font-family:Menlo,'DejaVu Sans Mono',consolas,'Courier New',monospace\"><span style=\"color: #808000; text-decoration-color: #808000; font-weight: bold\">Summaries:</span>\n",
       "</pre>\n"
      ],
      "text/plain": [
       "\u001b[1;33mSummaries:\u001b[0m\n"
      ]
     },
     "metadata": {},
     "output_type": "display_data"
    },
    {
     "name": "stdout",
     "output_type": "stream",
     "text": [
      "('{\\n'\n",
      " '    \"files\": [\\n'\n",
      " '        {\\n'\n",
      " '            \"file_path\": '\n",
      " '\"/home/rakesh/Downloads/sample_data/four/dsflsdflj.txt\",\\n'\n",
      " '            \"summary\": \"This file discusses the rise of Vertical Large '\n",
      " 'Language Model (LLM) Agents in the SaaS space, highlighting the success of '\n",
      " 'Case Text\\\\u2019s AI-driven legal assistant, Co-Counsel, and the potential '\n",
      " 'for billion-dollar opportunities in this technology.\"\\n'\n",
      " '        },\\n'\n",
      " '        {\\n'\n",
      " '            \"file_path\": '\n",
      " '\"/home/rakesh/Downloads/sample_data/four/random_file.txt\",\\n'\n",
      " '            \"summary\": \"This is a test file containing critical information, '\n",
      " 'including a bank account number, which should be handled with care.\"\\n'\n",
      " '        },\\n'\n",
      " '        {\\n'\n",
      " '            \"file_path\": '\n",
      " '\"/home/rakesh/Downloads/sample_data/four/shad.txt\",\\n'\n",
      " '            \"summary\": \"The file provides a detailed overview of Next.js, an '\n",
      " 'open source web development framework, along with a list of eight '\n",
      " 'recommended boilerplates for building Next.js applications, including '\n",
      " 'features and technology stacks for each starter project.\"\\n'\n",
      " '        }\\n'\n",
      " '    ],\\n'\n",
      " '    \"usage\": {\\n'\n",
      " '        \"completion_tokens\": 214,\\n'\n",
      " '        \"prompt_tokens\": 1425,\\n'\n",
      " '        \"total_tokens\": 1639\\n'\n",
      " '    },\\n'\n",
      " '    \"cost\": 0.003129\\n'\n",
      " '}')\n"
     ]
    },
    {
     "data": {
      "text/html": [
       "<pre style=\"white-space:pre;overflow-x:auto;line-height:normal;font-family:Menlo,'DejaVu Sans Mono',consolas,'Courier New',monospace\">\n",
       "<span style=\"color: #808000; text-decoration-color: #808000; font-weight: bold\">File Tree:</span>\n",
       "</pre>\n"
      ],
      "text/plain": [
       "\n",
       "\u001b[1;33mFile Tree:\u001b[0m\n"
      ]
     },
     "metadata": {},
     "output_type": "display_data"
    },
    {
     "name": "stdout",
     "output_type": "stream",
     "text": [
      "('[\\n'\n",
      " '    {\\n'\n",
      " '        \"src_path\": '\n",
      " '\"/home/rakesh/Downloads/sample_data/four/dsflsdflj.txt\",\\n'\n",
      " '        \"dst_path\": '\n",
      " '\"/home/rakesh/Downloads/sample_data/four_organized_or/2023/10/Vertical_Large_Language_Model_LLM_Agents.txt\",\\n'\n",
      " '        \"dst_path_new\": '\n",
      " '\"/home/rakesh/Downloads/sample_data/four_organized_or/2023/10/Vertical_Large_Language_Model_LLM_Agents_v1.txt\"\\n'\n",
      " '    },\\n'\n",
      " '    {\\n'\n",
      " '        \"src_path\": '\n",
      " '\"/home/rakesh/Downloads/sample_data/four/random_file.txt\",\\n'\n",
      " '        \"dst_path\": '\n",
      " '\"/home/rakesh/Downloads/sample_data/four_organized_or/2023/10/Critical_Information_Test_File.txt\",\\n'\n",
      " '        \"dst_path_new\": '\n",
      " '\"/home/rakesh/Downloads/sample_data/four_organized_or/2023/10/Critical_Information_Test_File_v1.txt\"\\n'\n",
      " '    },\\n'\n",
      " '    {\\n'\n",
      " '        \"src_path\": \"/home/rakesh/Downloads/sample_data/four/shad.txt\",\\n'\n",
      " '        \"dst_path\": '\n",
      " '\"/home/rakesh/Downloads/sample_data/four_organized_or/2023/10/Next.js_Overview.txt\",\\n'\n",
      " '        \"dst_path_new\": '\n",
      " '\"/home/rakesh/Downloads/sample_data/four_organized_or/2023/10/Next.js_Overview_v1.txt\"\\n'\n",
      " '    }\\n'\n",
      " ']')\n"
     ]
    },
    {
     "data": {
      "text/html": [
       "<pre style=\"white-space:pre;overflow-x:auto;line-height:normal;font-family:Menlo,'DejaVu Sans Mono',consolas,'Courier New',monospace\">\n",
       "<span style=\"color: #808000; text-decoration-color: #808000; font-weight: bold\">Concatenated Data:</span>\n",
       "</pre>\n"
      ],
      "text/plain": [
       "\n",
       "\u001b[1;33mConcatenated Data:\u001b[0m\n"
      ]
     },
     "metadata": {},
     "output_type": "display_data"
    },
    {
     "name": "stdout",
     "output_type": "stream",
     "text": [
      "('[\\n'\n",
      " '    {\\n'\n",
      " '        \"file_path\": '\n",
      " '\"/home/rakesh/Downloads/sample_data/four/dsflsdflj.txt\",\\n'\n",
      " '        \"summary\": \"This file discusses the rise of Vertical Large Language '\n",
      " 'Model (LLM) Agents in the SaaS space, highlighting the success of Case '\n",
      " 'Text\\\\u2019s AI-driven legal assistant, Co-Counsel, and the potential for '\n",
      " 'billion-dollar opportunities in this technology.\",\\n'\n",
      " '        \"dst_path\": '\n",
      " '\"/home/rakesh/Downloads/sample_data/four_organized_or/2023/10/Vertical_Large_Language_Model_LLM_Agents.txt\",\\n'\n",
      " '        \"dst_path_new\": '\n",
      " '\"/home/rakesh/Downloads/sample_data/four_organized_or/2023/10/Vertical_Large_Language_Model_LLM_Agents_v1.txt\"\\n'\n",
      " '    },\\n'\n",
      " '    {\\n'\n",
      " '        \"file_path\": '\n",
      " '\"/home/rakesh/Downloads/sample_data/four/random_file.txt\",\\n'\n",
      " '        \"summary\": \"This is a test file containing critical information, '\n",
      " 'including a bank account number, which should be handled with care.\",\\n'\n",
      " '        \"dst_path\": '\n",
      " '\"/home/rakesh/Downloads/sample_data/four_organized_or/2023/10/Critical_Information_Test_File.txt\",\\n'\n",
      " '        \"dst_path_new\": '\n",
      " '\"/home/rakesh/Downloads/sample_data/four_organized_or/2023/10/Critical_Information_Test_File_v1.txt\"\\n'\n",
      " '    },\\n'\n",
      " '    {\\n'\n",
      " '        \"file_path\": \"/home/rakesh/Downloads/sample_data/four/shad.txt\",\\n'\n",
      " '        \"summary\": \"The file provides a detailed overview of Next.js, an '\n",
      " 'open source web development framework, along with a list of eight '\n",
      " 'recommended boilerplates for building Next.js applications, including '\n",
      " 'features and technology stacks for each starter project.\",\\n'\n",
      " '        \"dst_path\": '\n",
      " '\"/home/rakesh/Downloads/sample_data/four_organized_or/2023/10/Next.js_Overview.txt\",\\n'\n",
      " '        \"dst_path_new\": '\n",
      " '\"/home/rakesh/Downloads/sample_data/four_organized_or/2023/10/Next.js_Overview_v1.txt\"\\n'\n",
      " '    }\\n'\n",
      " ']')\n"
     ]
    }
   ],
   "source": [
    "if __name__ == \"__main__\":\n",
    "    # Define your parameters\n",
    "    source_directory = \"/home/rakesh/Downloads/sample_data/four/\"  # Replace with your actual source documents path\n",
    "    destination_directory = \"/home/rakesh/Downloads/sample_data/four_organized_or/\"  # Replace with your desired destination path\n",
    "    api_host = \"localhost\"                                         # API host address (not needed if api_base is provided)\n",
    "    api_port = 8111                                                # API port number\n",
    "    summary_model = \"openrouter/openai/gpt-4o-mini\"\n",
    "    tree_model = \"openrouter/openai/gpt-4o-mini\"\n",
    "    api_base_url = \"https://openrouter.ai/api/v1\"                     # Base URL for the API\n",
    "    use_streaming = False                                          # Set to True if you want streaming\n",
    "    # model=\"ollama/smollm2:135m\",\n",
    "\n",
    "    # Ensure destination directory exists\n",
    "    os.makedirs(destination_directory, exist_ok=True)\n",
    "\n",
    "    # Run the workflow\n",
    "    organized_files_result = document_processing_workflow(\n",
    "        source_path=source_directory,\n",
    "        destination_path=destination_directory,\n",
    "        api_host=api_host,\n",
    "        api_port=api_port,\n",
    "        summary_model=summary_model,\n",
    "        tree_model=tree_model,\n",
    "        api_base=api_base_url,                                  # Providing the API base URL\n",
    "        stream=use_streaming\n",
    "    )\n",
    "\n",
    "    # Extract the results\n",
    "    summaries = organized_files_result.get(\"summaries\", {})\n",
    "    file_tree = organized_files_result.get(\"file_tree\", [])\n",
    "    concatenated_data = organized_files_result.get(\"concatenated_data\", [])\n",
    "\n",
    "    # Optionally, pretty-print the results using Rich\n",
    "    console.print(\"[bold yellow]Summaries:[/bold yellow]\")\n",
    "    pprint(json.dumps(summaries, indent=4))\n",
    "\n",
    "    console.print(\"\\n[bold yellow]File Tree:[/bold yellow]\")\n",
    "    pprint(json.dumps(file_tree, indent=4))\n",
    "\n",
    "    console.print(\"\\n[bold yellow]Concatenated Data:[/bold yellow]\")\n",
    "    pprint(json.dumps(concatenated_data, indent=4))\n"
   ]
  }
 ],
 "metadata": {
  "kernelspec": {
   "display_name": ".venv",
   "language": "python",
   "name": "python3"
  },
  "language_info": {
   "codemirror_mode": {
    "name": "ipython",
    "version": 3
   },
   "file_extension": ".py",
   "mimetype": "text/x-python",
   "name": "python",
   "nbconvert_exporter": "python",
   "pygments_lexer": "ipython3",
   "version": "3.12.8"
  }
 },
 "nbformat": 4,
 "nbformat_minor": 2
}

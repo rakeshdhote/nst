{
 "cells": [
  {
   "cell_type": "markdown",
   "metadata": {},
   "source": [
    "# Original"
   ]
  },
  {
   "cell_type": "markdown",
   "metadata": {},
   "source": [
    "## Code"
   ]
  },
  {
   "cell_type": "code",
   "execution_count": 25,
   "metadata": {},
   "outputs": [],
   "source": [
    "import json\n",
    "import os\n",
    "from typing import List, Dict, Any\n",
    "\n",
    "from dotenv import load_dotenv\n",
    "from llama_index.core import SimpleDirectoryReader\n",
    "import ollama\n",
    "from litellm import completion, success_callback\n",
    "\n",
    "from prefect import flow, task\n",
    "from prefect.logging import get_logger\n",
    "\n",
    "# Import Rich components\n",
    "from rich.console import Console\n",
    "from rich.table import Table\n",
    "from rich import box\n",
    "from pprint import pprint\n",
    "\n",
    "# Initialize Rich console\n",
    "console = Console()\n",
    "\n",
    "# Initialize Prefect logger\n",
    "logger = get_logger()\n",
    "\n",
    "# Load environment variables\n",
    "load_dotenv('.env.local') \n",
    "\n",
    "# Define model-related classes (unchanged)\n",
    "class ModelDetails:\n",
    "    def __init__(self, parent_model, format, family, families, parameter_size, quantization_level):\n",
    "        self.parent_model = parent_model\n",
    "        self.format = format\n",
    "        self.family = family\n",
    "        self.families = families\n",
    "        self.parameter_size = parameter_size\n",
    "        self.quantization_level = quantization_level\n",
    "\n",
    "class Model:\n",
    "    def __init__(self, model, modified_at, digest, size, details):\n",
    "        self.model = model\n",
    "        self.modified_at = modified_at\n",
    "        self.digest = digest\n",
    "        self.size = size\n",
    "        self.details = details\n",
    "\n",
    "class ListResponse:\n",
    "    def __init__(self, models):\n",
    "        self.models = models\n",
    "\n",
    "# Global cost tracker\n",
    "COST_TRACKER = {\"cost\": 0.0}\n",
    "\n",
    "@task\n",
    "def list_ollama_models():\n",
    "    \"\"\"\n",
    "    Fetch and display Ollama models using Rich Table.\n",
    "    \"\"\"\n",
    "    try:\n",
    "        ollama_models = ollama.list()\n",
    "        if not ollama_models.models:\n",
    "            logger.warning(\"No Ollama models found.\")\n",
    "            console.print(\"[bold yellow]No Ollama models found.[/bold yellow]\")\n",
    "            return\n",
    "        \n",
    "        # Create a Rich table\n",
    "        table = Table(title=\"Available Ollama Models\", box=box.MINIMAL_DOUBLE_HEAD)\n",
    "        table.add_column(\"Model Name\", style=\"cyan\", no_wrap=True)\n",
    "        table.add_column(\"Modified At\", style=\"magenta\")\n",
    "        table.add_column(\"Digest\", style=\"green\")\n",
    "        table.add_column(\"Size (bytes)\", justify=\"right\", style=\"yellow\")\n",
    "        table.add_column(\"Param Size\", justify=\"right\", style=\"yellow\")\n",
    "        table.add_column(\"Quant Level\", style=\"blue\")\n",
    "        table.add_column(\"Family\", style=\"red\")\n",
    "        table.add_column(\"Families\", style=\"red\")\n",
    "\n",
    "        for model in ollama_models.models:\n",
    "            table.add_row(\n",
    "                model.model,\n",
    "                str(model.modified_at),\n",
    "                model.digest,\n",
    "                str(model.size),\n",
    "                str(model.details.parameter_size),\n",
    "                model.details.quantization_level,\n",
    "                model.details.family,\n",
    "                \", \".join(model.details.families)\n",
    "            )\n",
    "        \n",
    "        console.print(table)\n",
    "    except Exception as e:\n",
    "        logger.error(f\"Error fetching Ollama models: {e}\")\n",
    "        console.print(f\"[bold red]Error fetching Ollama models:[/bold red] {e}\")\n",
    "\n",
    "@task\n",
    "def track_cost_callback(kwargs, completion_response, start_time, end_time, stream=False):\n",
    "    \"\"\"\n",
    "    Callback function to track and calculate the cost based on token usage.\n",
    "    \"\"\"\n",
    "    try:\n",
    "        response_dict = completion_response.to_dict() if hasattr(completion_response, \"to_dict\") else json.loads(str(completion_response))\n",
    "        usage = response_dict.get(\"usage\", {})\n",
    "        total_tokens = usage.get(\"total_tokens\", 0)\n",
    "        COST_TRACKER[\"cost\"] = (total_tokens / 1000.0) * 0.003  # Example cost calculation\n",
    "        logger.info(f\"Calculated cost: {COST_TRACKER['cost']}\")\n",
    "        console.print(f\"[bold green]Calculated cost:[/bold green] [yellow]{COST_TRACKER['cost']}[/yellow]\")\n",
    "    except Exception as e:\n",
    "        logger.error(f\"Error in track_cost_callback: {e}\")\n",
    "        console.print(f\"[bold red]Error in track_cost_callback:[/bold red] {e}\")\n",
    "\n",
    "@task\n",
    "def set_success_callback():\n",
    "    \"\"\"\n",
    "    Set the global success callback for cost tracking.\n",
    "    \"\"\"\n",
    "    try:\n",
    "        success_callback[:] = [track_cost_callback]\n",
    "        logger.info(\"Success callback set successfully.\")\n",
    "    except Exception as e:\n",
    "        logger.error(f\"Error setting success callback: {e}\")\n",
    "        console.print(f\"[bold red]Error setting success callback:[/bold red] {e}\")\n",
    "\n",
    "@task\n",
    "def load_documents(path: str) -> List[Dict[str, Any]]:\n",
    "    \"\"\"\n",
    "    Load documents from the specified path.\n",
    "    \"\"\"\n",
    "    try:\n",
    "        reader = SimpleDirectoryReader(input_dir=path)\n",
    "        documents = reader.load_data()\n",
    "        logger.info(f\"Loaded {len(documents)} documents from {path}\")\n",
    "        console.print(f\"[bold green]Loaded {len(documents)} documents from {path}[/bold green]\")\n",
    "        return [{\"content\": d.text, **d.metadata} for d in documents]\n",
    "    except Exception as e:\n",
    "        logger.error(f\"Error loading documents from {path}: {e}\")\n",
    "        console.print(f\"[bold red]Error loading documents from {path}:[/bold red] {e}\")\n",
    "        return []\n",
    "\n",
    "@task\n",
    "def process_metadata(doc_dicts: List[Dict[str, Any]]) -> List[Dict[str, Any]]:\n",
    "    \"\"\"\n",
    "    Process metadata to remove duplicate file entries.\n",
    "    \"\"\"\n",
    "    try:\n",
    "        file_seen = set()\n",
    "        metadata_list = []\n",
    "        for doc in doc_dicts:\n",
    "            if doc[\"file_path\"] not in file_seen:\n",
    "                file_seen.add(doc[\"file_path\"])\n",
    "                metadata_list.append(doc)\n",
    "        logger.info(f\"Processed metadata: {len(metadata_list)} unique documents\")\n",
    "        console.print(f\"[bold green]Processed metadata: {len(metadata_list)} unique documents[/bold green]\")\n",
    "        return metadata_list\n",
    "    except Exception as e:\n",
    "        logger.error(f\"Error processing metadata: {e}\")\n",
    "        console.print(f\"[bold red]Error processing metadata:[/bold red] {e}\")\n",
    "        return []\n",
    "\n",
    "@task\n",
    "def query_summaries(\n",
    "    doc_dicts: List[Dict[str, Any]],\n",
    "    host: str,\n",
    "    port: int,\n",
    "    model: str,\n",
    "    api_base: str = None,\n",
    "    stream: bool = False\n",
    ") -> Dict[str, Any]:\n",
    "    \"\"\"\n",
    "    Generate summaries for the provided document dictionaries.\n",
    "    \"\"\"\n",
    "    PROMPT = f\"\"\" \n",
    "    The following is a list of file contents, along with their metadata. For each file, provide a summary of the contents. The purpose of the summary is to organize files based on their content. To this end provide a concise but informative summary. Try to make the summary as specific to the file as possible. {doc_dicts}\n",
    "    \n",
    "    Return a JSON object with the following schema:\n",
    "    \n",
    "    ```json\n",
    "    {{\n",
    "      \"files\": [\n",
    "        {{\n",
    "          \"file_path\": \"path to the file including name\",\n",
    "          \"summary\": \"summary of the content\"\n",
    "        }}\n",
    "      ]\n",
    "    }}\n",
    "    ```\n",
    "    \"\"\".strip()\n",
    "\n",
    "    if not api_base:\n",
    "        api_base = f\"http://{host}:{port}\"\n",
    "        logger.info(f\"API Base set to: {api_base}\")\n",
    "        console.print(f\"[bold blue]API Base set to: {api_base}[/bold blue]\")\n",
    "\n",
    "    try:\n",
    "        response = completion(\n",
    "            model=model, \n",
    "            messages=[\n",
    "                {\n",
    "                    \"role\": \"system\", \n",
    "                    \"content\": \"Always return JSON. Do not include any other text or formatting characters.\"\n",
    "                },\n",
    "                {\n",
    "                    \"role\": \"user\", \n",
    "                    \"content\": PROMPT\n",
    "                }\n",
    "            ],\n",
    "            api_base=api_base,\n",
    "            stream=stream\n",
    "        )\n",
    "    except Exception as e:\n",
    "        logger.error(f\"LiteLLM Error >>> {e}\")\n",
    "        console.print(f\"[bold red]LiteLLM Error:[/bold red] {e}\")\n",
    "        return {\"files\": [], \"cost\": COST_TRACKER[\"cost\"]}\n",
    "\n",
    "    if response is None:\n",
    "        logger.warning(\"No response received from the API.\")\n",
    "        console.print(\"[bold yellow]No response received from the API.[/bold yellow]\")\n",
    "        return {\"files\": [], \"cost\": COST_TRACKER[\"cost\"]}\n",
    "\n",
    "    try:\n",
    "        response_dict = response.to_dict() if hasattr(response, \"to_dict\") else json.loads(str(response))\n",
    "    except (TypeError, json.JSONDecodeError) as e:\n",
    "        logger.error(f\"Error parsing response: {e}\")\n",
    "        console.print(f\"[bold red]Error parsing response:[/bold red] {e}\")\n",
    "        return {\"files\": [], \"cost\": COST_TRACKER[\"cost\"]}\n",
    "\n",
    "    content = response_dict.get(\"choices\", [{}])[0].get(\"message\", {}).get(\"content\", \"\")\n",
    "    print(\">>>> Content summary:\")\n",
    "    print(content)\n",
    "\n",
    "    try:\n",
    "        summaries = json.loads(content)\n",
    "        print(\"Summaries:\")\n",
    "        pprint(summaries)\n",
    "    except json.JSONDecodeError:\n",
    "        logger.error(\"Error decoding JSON content from summaries.\")\n",
    "        console.print(\"[bold red]Error decoding JSON content from summaries.[/bold red]\")\n",
    "        summaries = {\"files\": []}\n",
    "\n",
    "    if isinstance(summaries, list) and summaries and isinstance(summaries[0], dict):\n",
    "        summaries = summaries[0]\n",
    "\n",
    "    usage = response_dict.get(\"usage\", {})\n",
    "\n",
    "    if usage and isinstance(summaries, dict):\n",
    "        summaries[\"usage\"] = {\n",
    "            \"completion_tokens\": usage.get(\"completion_tokens\"),\n",
    "            \"prompt_tokens\": usage.get(\"prompt_tokens\"),\n",
    "            \"total_tokens\": usage.get(\"total_tokens\")\n",
    "        }\n",
    "\n",
    "    if isinstance(summaries, dict):\n",
    "        summaries[\"cost\"] = COST_TRACKER[\"cost\"]\n",
    "    else:\n",
    "        summaries = {\n",
    "            \"files\": [],\n",
    "            \"cost\": COST_TRACKER[\"cost\"]\n",
    "        }\n",
    "\n",
    "    logger.info(f\"Generated summaries for {len(summaries.get('files', []))} files with cost {summaries.get('cost')}\")\n",
    "    console.print(f\"[bold green]Generated summaries for {len(summaries.get('files', []))} files with cost {summaries.get('cost')}[/bold green]\")\n",
    "    return summaries\n",
    "\n",
    "@task\n",
    "def create_file_tree(\n",
    "    summaries: List[Dict[str, Any]],\n",
    "    host: str,\n",
    "    port: int,\n",
    "    source_path: str,\n",
    "    destination_path: str,\n",
    "    model: str = \"llama-3.1-70b-versatile\",\n",
    "    api_base: str = None,\n",
    "    stream: bool = False\n",
    ") -> List[Dict[str, str]]:\n",
    "    \"\"\"\n",
    "    Create a file tree based on the provided summaries.\n",
    "    Returns src_path, dst_path, and dst_path_new for each file.\n",
    "    \"\"\"\n",
    "    # Define the helper function within the task\n",
    "    def find_key(obj: Any, key: str) -> Any:\n",
    "        if isinstance(obj, dict):\n",
    "            if key in obj:\n",
    "                return obj[key]\n",
    "            for value in obj.values():\n",
    "                result = find_key(value, key)\n",
    "                if result is not None:\n",
    "                    return result\n",
    "        elif isinstance(obj, list):\n",
    "            for item in obj:\n",
    "                result = find_key(item, key)\n",
    "                if result is not None:\n",
    "                    return result\n",
    "        return None\n",
    "\n",
    "    # Update the prompt with explicit instructions\n",
    "    PROMPT = f\"\"\"\n",
    "    You will be provided with a list of source files and a summary of their contents. The source files are located in '{source_path}', and the destination directory is '{destination_path}'.\n",
    "    \n",
    "    For each file, propose:\n",
    "    1. 'dst_path': A new file path under the destination directory with the same file name.\n",
    "    2. 'dst_path_new': A new file path under the destination directory with an updated file name (e.g., adding a version number or timestamp).\n",
    "    \n",
    "    Follow good naming conventions and organizational best practices. Here are guidelines:\n",
    "    - Group related files together.\n",
    "    - Incorporate metadata such as date, version, or experiment details into folder names.\n",
    "    - Use clear and descriptive names without spaces or special characters.\n",
    "    - Do not change the file extension.\n",
    "    - If the file is already well-named or follows a known convention, retain its name for 'dst_path'.\n",
    "    \n",
    "    **Example**:\n",
    "    ```json\n",
    "    {{\n",
    "        \"files\": [\n",
    "            {{\n",
    "                \"src_path\": \"/home/user/source/file1.txt\",\n",
    "                \"dst_path\": \"/home/user/destination/2024/04/file1.txt\",\n",
    "                \"dst_path_new\": \"/home/user/destination/2024/04/file1_v2.txt\"\n",
    "            }}\n",
    "        ]\n",
    "    }}\n",
    "    ```\n",
    "    \n",
    "    **Important:** Your response **must** be a JSON object with the following schema **at the top level**:\n",
    "    ```json\n",
    "    {{\n",
    "        \"files\": [\n",
    "            {{\n",
    "                \"src_path\": \"original file path\",\n",
    "                \"dst_path\": \"new file path under destination directory with same file name\",\n",
    "                \"dst_path_new\": \"new file path under destination directory with updated file name\"\n",
    "            }}\n",
    "        ]\n",
    "    }}\n",
    "    ```\n",
    "    \n",
    "    Do **not** wrap the \"files\" key inside any other keys.\n",
    "    \"\"\".strip()\n",
    "\n",
    "    if not api_base:\n",
    "        api_base = f\"http://{host}:{port}\"\n",
    "        logger.info(f\"API Base set to: {api_base}\")\n",
    "        console.print(f\"[bold blue]API Base set to: {api_base}[/bold blue]\")\n",
    "\n",
    "    try:\n",
    "        response = completion(\n",
    "            model=model,\n",
    "            messages=[\n",
    "                {\"role\": \"system\", \"content\": PROMPT},\n",
    "                {\"role\": \"user\", \"content\": json.dumps(summaries)},\n",
    "            ],\n",
    "            response_format={\"type\": \"json_object\"},\n",
    "            api_base=api_base,\n",
    "            stream=stream\n",
    "        )\n",
    "    except Exception as e:\n",
    "        logger.error(f\"LiteLLM Error >>> {e}\")\n",
    "        console.print(f\"[bold red]LiteLLM Error:[/bold red] {e}\")\n",
    "        return []\n",
    "\n",
    "    if response is None:\n",
    "        logger.warning(\"No response received from the API.\")\n",
    "        console.print(\"[bold yellow]No response received from the API.[/bold yellow]\")\n",
    "        return []\n",
    "\n",
    "    try:\n",
    "        response_dict = response.to_dict() if hasattr(response, \"to_dict\") else json.loads(str(response))\n",
    "    except (TypeError, json.JSONDecodeError) as e:\n",
    "        logger.error(f\"Error parsing response: {e}\")\n",
    "        console.print(f\"[bold red]Error parsing response:[/bold red] {e}\")\n",
    "        return []\n",
    "\n",
    "    content = response_dict.get(\"choices\", [{}])[0].get(\"message\", {}).get(\"content\", \"\")\n",
    "\n",
    "    try:\n",
    "        parsed_content = json.loads(content)\n",
    "        file_tree = find_key(parsed_content, \"files\")\n",
    "        if file_tree is None:\n",
    "            raise KeyError(\"'files' key not found in the response.\")\n",
    "    except (json.JSONDecodeError, KeyError) as e:\n",
    "        logger.error(f\"Error decoding JSON content: {e}\")\n",
    "        console.print(f\"[bold red]Error decoding JSON content:[/bold red] {e}\")\n",
    "        # Optionally, print the raw content for debugging\n",
    "        console.print(f\"[bold yellow]Raw Content:[/bold yellow]\\n{content}\")\n",
    "        return []\n",
    "\n",
    "    logger.info(f\"Created file tree for {len(file_tree)} files\")\n",
    "    console.print(f\"[bold green]Created file tree for {len(file_tree)} files[/bold green]\")\n",
    "    return file_tree\n",
    "\n",
    "@task\n",
    "def concatenate_summaries_and_file_tree(\n",
    "    summaries: List[Dict[str, Any]],\n",
    "    file_tree: List[Dict[str, str]]\n",
    ") -> List[Dict[str, Any]]:\n",
    "    \"\"\"\n",
    "    Concatenate summaries and file_tree into a single dictionary for each file.\n",
    "    \"\"\"\n",
    "    concatenated = []\n",
    "    summary_dict = {item['file_path']: item['summary'] for item in summaries}\n",
    "\n",
    "    for item in file_tree:\n",
    "        src_path = item.get(\"src_path\")\n",
    "        dst_path = item.get(\"dst_path\")\n",
    "        dst_path_new = item.get(\"dst_path_new\")\n",
    "        summary = summary_dict.get(src_path, \"No summary available.\")\n",
    "        concatenated.append({\n",
    "            \"file_path\": src_path,\n",
    "            \"summary\": summary,\n",
    "            \"dst_path\": dst_path,\n",
    "            \"dst_path_new\": dst_path_new\n",
    "        })\n",
    "\n",
    "    logger.info(f\"Concatenated summary and file tree for {len(concatenated)} files\")\n",
    "    console.print(f\"[bold green]Concatenated summary and file tree for {len(concatenated)} files[/bold green]\")\n",
    "    return concatenated\n",
    "\n",
    "@task\n",
    "def create_subdirectories(file_tree: List[Dict[str, str]]):\n",
    "    \"\"\"\n",
    "    Create all necessary subdirectories in the destination paths.\n",
    "    \"\"\"\n",
    "    try:\n",
    "        for file in file_tree:\n",
    "            dst_path = file.get(\"dst_path\")\n",
    "            dst_path_new = file.get(\"dst_path_new\")\n",
    "            \n",
    "            # Extract directories from the destination paths\n",
    "            dst_dir = os.path.dirname(dst_path)\n",
    "            dst_new_dir = os.path.dirname(dst_path_new)\n",
    "            \n",
    "            # Create the directories if they don't exist\n",
    "            os.makedirs(dst_dir, exist_ok=True)\n",
    "            os.makedirs(dst_new_dir, exist_ok=True)\n",
    "        \n",
    "        logger.info(\"All necessary subdirectories created.\")\n",
    "        console.print(\"[bold green]All necessary subdirectories created.[/bold green]\")\n",
    "    except Exception as e:\n",
    "        logger.error(f\"Error creating subdirectories: {e}\")\n",
    "        console.print(f\"[bold red]Error creating subdirectories:[/bold red] {e}\")\n",
    "\n",
    "@task\n",
    "def display_organized_files(organized_files: List[Dict[str, str]]):\n",
    "    \"\"\"\n",
    "    Display organized files using Rich Table.\n",
    "    \"\"\"\n",
    "    if not organized_files:\n",
    "        console.print(\"[bold red]No organized files to display.[/bold red]\")\n",
    "        return\n",
    "\n",
    "    table = Table(title=\"Organized Files\", box=box.MINIMAL_DOUBLE_HEAD)\n",
    "    table.add_column(\"Source Path\", style=\"cyan\", no_wrap=True)\n",
    "    table.add_column(\"Destination Path\", style=\"green\")\n",
    "\n",
    "    for file in organized_files:\n",
    "        table.add_row(file.get(\"file_path\", \"\"), file.get(\"dst_path\", \"\"))\n",
    "    \n",
    "    console.print(table)\n",
    "\n",
    "@task\n",
    "def display_concatenated_dict(concatenated_dict: List[Dict[str, Any]]):\n",
    "    \"\"\"\n",
    "    Display concatenated summaries and file tree using Rich Table.\n",
    "    \"\"\"\n",
    "    if not concatenated_dict:\n",
    "        console.print(\"[bold red]No concatenated data to display.[/bold red]\")\n",
    "        return\n",
    "\n",
    "    table = Table(title=\"Summaries and Organized Files\", box=box.MINIMAL_DOUBLE_HEAD)\n",
    "    table.add_column(\"File Path\", style=\"cyan\", no_wrap=True)\n",
    "    table.add_column(\"Summary\", style=\"green\")\n",
    "    table.add_column(\"Destination Path\", style=\"magenta\")\n",
    "    table.add_column(\"Destination Path New\", style=\"yellow\")\n",
    "\n",
    "    for item in concatenated_dict:\n",
    "        table.add_row(\n",
    "            item.get(\"file_path\", \"\"), \n",
    "            item.get(\"summary\", \"\"), \n",
    "            item.get(\"dst_path\", \"\"), \n",
    "            item.get(\"dst_path_new\", \"\")\n",
    "        )\n",
    "    \n",
    "    console.print(table)\n",
    "\n",
    "@flow(name=\"Document Processing Workflow\")\n",
    "def document_processing_workflow(\n",
    "    source_path: str,\n",
    "    destination_path: str,\n",
    "    api_host: str,\n",
    "    api_port: int,\n",
    "    summary_model: str,\n",
    "    tree_model: str,\n",
    "    api_base: str = None,\n",
    "    stream: bool = False\n",
    ") -> Dict[str, Any]:\n",
    "    \"\"\"\n",
    "    Orchestrates the document processing workflow: loading documents, querying summaries, creating a file tree, and concatenating results.\n",
    "\n",
    "    Args:\n",
    "        source_path (str): Path to the source documents directory.\n",
    "        destination_path (str): Path to the destination directory for organized files.\n",
    "        api_host (str): API host address.\n",
    "        api_port (int): API port number.\n",
    "        summary_model (str): Model name for summarizing documents.\n",
    "        tree_model (str): Model name for creating file tree.\n",
    "        api_base (str, optional): Base URL for the API. Defaults to None.\n",
    "        stream (bool, optional): Whether to use streaming. Defaults to False.\n",
    "\n",
    "    Returns:\n",
    "        Dict[str, Any]: Dictionary containing summaries, file_tree, and concatenated data.\n",
    "    \"\"\"\n",
    "    # Initial setup\n",
    "    set_success_callback()\n",
    "    list_ollama_models()\n",
    "\n",
    "    # Load and process documents\n",
    "    loaded_docs = load_documents(source_path)\n",
    "    unique_docs = process_metadata(loaded_docs)\n",
    "\n",
    "    # Generate summaries\n",
    "    summaries = query_summaries(\n",
    "        doc_dicts=unique_docs,\n",
    "        host=api_host,\n",
    "        port=api_port,\n",
    "        model=summary_model,\n",
    "        api_base=api_base,\n",
    "        stream=stream\n",
    "    )\n",
    "\n",
    "    # Create file tree\n",
    "    file_tree = create_file_tree(\n",
    "        summaries=summaries.get(\"files\", []),\n",
    "        host=api_host,\n",
    "        port=api_port,\n",
    "        source_path=source_path,\n",
    "        destination_path=destination_path,\n",
    "        model=tree_model,\n",
    "        api_base=api_base,\n",
    "        stream=stream\n",
    "    )\n",
    "\n",
    "    # Create necessary subdirectories\n",
    "    create_subdirectories(file_tree)\n",
    "\n",
    "    # Concatenate summaries and file_tree\n",
    "    concatenated_dict = concatenate_summaries_and_file_tree(summaries.get(\"files\", []), file_tree)\n",
    "\n",
    "    # Display organized files using Rich\n",
    "    display_organized_files(file_tree)\n",
    "\n",
    "    # Display concatenated summaries and file_tree\n",
    "    display_concatenated_dict(concatenated_dict)\n",
    "\n",
    "    # Return all results\n",
    "    return {\n",
    "        \"summaries\": summaries,\n",
    "        \"file_tree\": file_tree,\n",
    "        \"concatenated_data\": concatenated_dict\n",
    "    }\n"
   ]
  },
  {
   "cell_type": "markdown",
   "metadata": {},
   "source": [
    "## >>>>> LLM Tests"
   ]
  },
  {
   "cell_type": "markdown",
   "metadata": {},
   "source": [
    "### Anthropic - claude-3-haiku-20240307"
   ]
  },
  {
   "cell_type": "code",
   "execution_count": null,
   "metadata": {},
   "outputs": [],
   "source": [
    "\n",
    "if __name__ == \"__main__\":\n",
    "    # Define your parameters\n",
    "    source_directory = \"/home/rakesh/Downloads/sample_data/four/\"  # Replace with your actual source documents path\n",
    "    destination_directory = \"/home/rakesh/Downloads/sample_data/four_organized/\"  # Replace with your desired destination path\n",
    "    api_host = \"localhost\"                                         # API host address (not needed if api_base is provided)\n",
    "    api_port = 8111                                                # API port number\n",
    "    summary_model = \"anthropic/claude-3-haiku-20240307\"\n",
    "    tree_model = \"anthropic/claude-3-haiku-20240307\"\n",
    "    api_base_url = \"https://api.anthropic.com\"                     # Base URL for the API\n",
    "    use_streaming = False                                          # Set to True if you want streaming\n",
    "\n",
    "    # Ensure destination directory exists\n",
    "    os.makedirs(destination_directory, exist_ok=True)\n",
    "\n",
    "    # Run the workflow\n",
    "    organized_files_result = document_processing_workflow(\n",
    "        source_path=source_directory,\n",
    "        destination_path=destination_directory,\n",
    "        api_host=api_host,\n",
    "        api_port=api_port,\n",
    "        summary_model=summary_model,\n",
    "        tree_model=tree_model,\n",
    "        api_base=api_base_url,                                  # Providing the API base URL\n",
    "        stream=use_streaming\n",
    "    )\n",
    "\n",
    "    # Extract the results\n",
    "    summaries = organized_files_result.get(\"summaries\", {})\n",
    "    file_tree = organized_files_result.get(\"file_tree\", [])\n",
    "    concatenated_data = organized_files_result.get(\"concatenated_data\", [])\n",
    "\n",
    "    # Optionally, pretty-print the results using Rich\n",
    "    console.print(\"[bold yellow]Summaries:[/bold yellow]\")\n",
    "    pprint(json.dumps(summaries, indent=4))\n",
    "\n",
    "    console.print(\"\\n[bold yellow]File Tree:[/bold yellow]\")\n",
    "    pprint(json.dumps(file_tree, indent=4))\n",
    "\n",
    "    console.print(\"\\n[bold yellow]Concatenated Data:[/bold yellow]\")\n",
    "    pprint(json.dumps(concatenated_data, indent=4))\n"
   ]
  },
  {
   "cell_type": "markdown",
   "metadata": {},
   "source": [
    "### Openrouter - gemini-2.0-flash-exp:free"
   ]
  },
  {
   "cell_type": "code",
   "execution_count": null,
   "metadata": {},
   "outputs": [],
   "source": [
    "\n",
    "if __name__ == \"__main__\":\n",
    "    # Define your parameters\n",
    "    source_directory = \"/home/rakesh/Downloads/sample_data/four/\"  # Replace with your actual source documents path\n",
    "    destination_directory = \"/home/rakesh/Downloads/sample_data/four_organized_or/\"  # Replace with your desired destination path\n",
    "    api_host = \"localhost\"                                         # API host address (not needed if api_base is provided)\n",
    "    api_port = 8111                                                # API port number\n",
    "    summary_model = \"openrouter/google/gemini-2.0-flash-exp:free\"\n",
    "    tree_model = \"openrouter/google/gemini-2.0-flash-exp:free\"\n",
    "    api_base_url = \"https://openrouter.ai/api/v1\"                     # Base URL for the API\n",
    "    use_streaming = False                                          # Set to True if you want streaming\n",
    "    # model=\"ollama/smollm2:135m\",\n",
    "\n",
    "    # Ensure destination directory exists\n",
    "    os.makedirs(destination_directory, exist_ok=True)\n",
    "\n",
    "    # Run the workflow\n",
    "    organized_files_result = document_processing_workflow(\n",
    "        source_path=source_directory,\n",
    "        destination_path=destination_directory,\n",
    "        api_host=api_host,\n",
    "        api_port=api_port,\n",
    "        summary_model=summary_model,\n",
    "        tree_model=tree_model,\n",
    "        api_base=api_base_url,                                  # Providing the API base URL\n",
    "        stream=use_streaming\n",
    "    )\n",
    "\n",
    "    # Extract the results\n",
    "    summaries = organized_files_result.get(\"summaries\", {})\n",
    "    file_tree = organized_files_result.get(\"file_tree\", [])\n",
    "    concatenated_data = organized_files_result.get(\"concatenated_data\", [])\n",
    "\n",
    "    # Optionally, pretty-print the results using Rich\n",
    "    console.print(\"[bold yellow]Summaries:[/bold yellow]\")\n",
    "    pprint(json.dumps(summaries, indent=4))\n",
    "\n",
    "    console.print(\"\\n[bold yellow]File Tree:[/bold yellow]\")\n",
    "    pprint(json.dumps(file_tree, indent=4))\n",
    "\n",
    "    console.print(\"\\n[bold yellow]Concatenated Data:[/bold yellow]\")\n",
    "    pprint(json.dumps(concatenated_data, indent=4))\n"
   ]
  },
  {
   "cell_type": "markdown",
   "metadata": {},
   "source": [
    "### Ollama"
   ]
  },
  {
   "cell_type": "code",
   "execution_count": null,
   "metadata": {},
   "outputs": [],
   "source": [
    "\n",
    "if __name__ == \"__main__\":\n",
    "    # Define your parameters\n",
    "    source_directory = \"/home/rakesh/Downloads/sample_data/four/\"  # Replace with your actual source documents path\n",
    "    destination_directory = \"/home/rakesh/Downloads/sample_data/four_organized_o/\"  # Replace with your desired destination path\n",
    "    api_host = \"localhost\"                                         # API host address (not needed if api_base is provided)\n",
    "    api_port = 8111                                                # API port number\n",
    "    summary_model = \"ollama/llama3.2:latest\"\n",
    "    tree_model = \"ollama/llama3.2:latest\"\n",
    "    api_base_url = \"http://localhost:11434\"                     # Base URL for the API\n",
    "    use_streaming = False                                          # Set to True if you want streaming\n",
    "    # model=\"ollama/smollm2:135m\",\n",
    "\n",
    "    # Ensure destination directory exists\n",
    "    os.makedirs(destination_directory, exist_ok=True)\n",
    "\n",
    "    # Run the workflow\n",
    "    organized_files_result = document_processing_workflow(\n",
    "        source_path=source_directory,\n",
    "        destination_path=destination_directory,\n",
    "        api_host=api_host,\n",
    "        api_port=api_port,\n",
    "        summary_model=summary_model,\n",
    "        tree_model=tree_model,\n",
    "        api_base=api_base_url,                                  # Providing the API base URL\n",
    "        stream=use_streaming\n",
    "    )\n",
    "\n",
    "    # Extract the results\n",
    "    summaries = organized_files_result.get(\"summaries\", {})\n",
    "    file_tree = organized_files_result.get(\"file_tree\", [])\n",
    "    concatenated_data = organized_files_result.get(\"concatenated_data\", [])\n",
    "\n",
    "    # Optionally, pretty-print the results using Rich\n",
    "    console.print(\"[bold yellow]Summaries:[/bold yellow]\")\n",
    "    pprint(json.dumps(summaries, indent=4))\n",
    "\n",
    "    console.print(\"\\n[bold yellow]File Tree:[/bold yellow]\")\n",
    "    pprint(json.dumps(file_tree, indent=4))\n",
    "\n",
    "    console.print(\"\\n[bold yellow]Concatenated Data:[/bold yellow]\")\n",
    "    pprint(json.dumps(concatenated_data, indent=4))\n"
   ]
  },
  {
   "cell_type": "markdown",
   "metadata": {},
   "source": [
    "### Groq"
   ]
  },
  {
   "cell_type": "code",
   "execution_count": null,
   "metadata": {},
   "outputs": [],
   "source": [
    "\n",
    "if __name__ == \"__main__\":\n",
    "    # Define your parameters\n",
    "    source_directory = \"/home/rakesh/Downloads/sample_data/four/\"  # Replace with your actual source documents path\n",
    "    destination_directory = \"/home/rakesh/Downloads/sample_data/four_organized/\"  # Replace with your desired destination path\n",
    "    api_host = \"localhost\"                                         # API host address (not needed if api_base is provided)\n",
    "    api_port = 8111                                                # API port number\n",
    "    summary_model = \"groq/llama3-8b-8192\"\n",
    "    tree_model = \"groq/llama3-8b-8192\"\n",
    "    api_base_url = \"https://api.groq.com/openai/v1\"                     # Base URL for the API\n",
    "    use_streaming = False                                          # Set to True if you want streaming\n",
    "\n",
    "    # Ensure destination directory exists\n",
    "    os.makedirs(destination_directory, exist_ok=True)\n",
    "\n",
    "    # Run the workflow\n",
    "    organized_files_result = document_processing_workflow(\n",
    "        source_path=source_directory,\n",
    "        destination_path=destination_directory,\n",
    "        api_host=api_host,\n",
    "        api_port=api_port,\n",
    "        summary_model=summary_model,\n",
    "        tree_model=tree_model,\n",
    "        api_base=api_base_url,                                  # Providing the API base URL\n",
    "        stream=use_streaming\n",
    "    )\n",
    "\n",
    "    # Extract the results\n",
    "    summaries = organized_files_result.get(\"summaries\", {})\n",
    "    file_tree = organized_files_result.get(\"file_tree\", [])\n",
    "    concatenated_data = organized_files_result.get(\"concatenated_data\", [])\n",
    "\n",
    "    # Optionally, pretty-print the results using Rich\n",
    "    console.print(\"[bold yellow]Summaries:[/bold yellow]\")\n",
    "    pprint(json.dumps(summaries, indent=4))\n",
    "\n",
    "    console.print(\"\\n[bold yellow]File Tree:[/bold yellow]\")\n",
    "    pprint(json.dumps(file_tree, indent=4))\n",
    "\n",
    "    console.print(\"\\n[bold yellow]Concatenated Data:[/bold yellow]\")\n",
    "    pprint(json.dumps(concatenated_data, indent=4))\n"
   ]
  },
  {
   "cell_type": "markdown",
   "metadata": {},
   "source": [
    "# OLLAMA TEST"
   ]
  },
  {
   "cell_type": "code",
   "execution_count": 34,
   "metadata": {},
   "outputs": [],
   "source": [
    "import json\n",
    "import os\n",
    "from typing import List, Dict, Any\n",
    "\n",
    "from dotenv import load_dotenv\n",
    "from llama_index.core import SimpleDirectoryReader\n",
    "import ollama\n",
    "from litellm import completion, success_callback\n",
    "\n",
    "from prefect import flow, task\n",
    "from prefect.logging import get_logger\n",
    "\n",
    "# Import Rich components\n",
    "from rich.console import Console\n",
    "from rich.table import Table\n",
    "from rich import box\n",
    "from pprint import pprint\n",
    "\n",
    "# Initialize Rich console\n",
    "console = Console()\n",
    "\n",
    "# Initialize Prefect logger\n",
    "logger = get_logger()\n",
    "\n",
    "# Load environment variables\n",
    "load_dotenv('.env.local') \n",
    "\n",
    "# Define model-related classes (unchanged)\n",
    "class ModelDetails:\n",
    "    def __init__(self, parent_model, format, family, families, parameter_size, quantization_level):\n",
    "        self.parent_model = parent_model\n",
    "        self.format = format\n",
    "        self.family = family\n",
    "        self.families = families\n",
    "        self.parameter_size = parameter_size\n",
    "        self.quantization_level = quantization_level\n",
    "\n",
    "class Model:\n",
    "    def __init__(self, model, modified_at, digest, size, details):\n",
    "        self.model = model\n",
    "        self.modified_at = modified_at\n",
    "        self.digest = digest\n",
    "        self.size = size\n",
    "        self.details = details\n",
    "\n",
    "class ListResponse:\n",
    "    def __init__(self, models):\n",
    "        self.models = models\n",
    "\n",
    "# Global cost tracker\n",
    "COST_TRACKER = {\"cost\": 0.0}\n",
    "\n",
    "@task\n",
    "def list_ollama_models():\n",
    "    \"\"\"\n",
    "    Fetch and display Ollama models using Rich Table.\n",
    "    \"\"\"\n",
    "    try:\n",
    "        ollama_models = ollama.list()\n",
    "        if not ollama_models.models:\n",
    "            logger.warning(\"No Ollama models found.\")\n",
    "            console.print(\"[bold yellow]No Ollama models found.[/bold yellow]\")\n",
    "            return\n",
    "        \n",
    "        # Create a Rich table\n",
    "        table = Table(title=\"Available Ollama Models\", box=box.MINIMAL_DOUBLE_HEAD)\n",
    "        table.add_column(\"Model Name\", style=\"cyan\", no_wrap=True)\n",
    "        table.add_column(\"Modified At\", style=\"magenta\")\n",
    "        table.add_column(\"Digest\", style=\"green\")\n",
    "        table.add_column(\"Size (bytes)\", justify=\"right\", style=\"yellow\")\n",
    "        table.add_column(\"Param Size\", justify=\"right\", style=\"yellow\")\n",
    "        table.add_column(\"Quant Level\", style=\"blue\")\n",
    "        table.add_column(\"Family\", style=\"red\")\n",
    "        table.add_column(\"Families\", style=\"red\")\n",
    "\n",
    "        for model in ollama_models.models:\n",
    "            table.add_row(\n",
    "                model.model,\n",
    "                str(model.modified_at),\n",
    "                model.digest,\n",
    "                str(model.size),\n",
    "                str(model.details.parameter_size),\n",
    "                model.details.quantization_level,\n",
    "                model.details.family,\n",
    "                \", \".join(model.details.families)\n",
    "            )\n",
    "        \n",
    "        console.print(table)\n",
    "    except Exception as e:\n",
    "        logger.error(f\"Error fetching Ollama models: {e}\")\n",
    "        console.print(f\"[bold red]Error fetching Ollama models:[/bold red] {e}\")\n",
    "\n",
    "@task\n",
    "def track_cost_callback(kwargs, completion_response, start_time, end_time, stream=False):\n",
    "    \"\"\"\n",
    "    Callback function to track and calculate the cost based on token usage.\n",
    "    \"\"\"\n",
    "    try:\n",
    "        if hasattr(completion_response, \"to_dict\"):\n",
    "            response_dict = completion_response.to_dict()\n",
    "        elif isinstance(completion_response, dict):\n",
    "            response_dict = completion_response\n",
    "        else:\n",
    "            response_dict = json.loads(str(completion_response))\n",
    "\n",
    "        usage = response_dict.get(\"usage\", {})\n",
    "        total_tokens = usage.get(\"total_tokens\", 0)\n",
    "        COST_TRACKER[\"cost\"] = (total_tokens / 1000.0) * 0.003  # Example cost calculation\n",
    "        logger.info(f\"Calculated cost: {COST_TRACKER['cost']}\")\n",
    "        console.print(f\"[bold green]Calculated cost:[/bold green] [yellow]{COST_TRACKER['cost']}[/yellow]\")\n",
    "    except Exception as e:\n",
    "        logger.error(f\"Error in track_cost_callback: {e}\")\n",
    "        console.print(f\"[bold red]Error in track_cost_callback:[/bold red] {e}\")\n",
    "\n",
    "@task\n",
    "def set_success_callback():\n",
    "    \"\"\"\n",
    "    Set the global success callback for cost tracking.\n",
    "    \"\"\"\n",
    "    try:\n",
    "        # Ensure success_callback is treated as a list\n",
    "        # If success_callback is a list-like structure from litellm, we can do this:\n",
    "        success_callback.clear()\n",
    "        success_callback.append(track_cost_callback)\n",
    "        logger.info(\"Success callback set successfully.\")\n",
    "    except Exception as e:\n",
    "        logger.error(f\"Error setting success callback: {e}\")\n",
    "        console.print(f\"[bold red]Error setting success callback:[/bold red] {e}\")\n",
    "\n",
    "@task\n",
    "def load_documents(path: str) -> List[Dict[str, Any]]:\n",
    "    \"\"\"\n",
    "    Load documents from the specified path.\n",
    "    \"\"\"\n",
    "    try:\n",
    "        reader = SimpleDirectoryReader(input_dir=path)\n",
    "        documents = reader.load_data()\n",
    "        logger.info(f\"Loaded {len(documents)} documents from {path}\")\n",
    "        console.print(f\"[bold green]Loaded {len(documents)} documents from {path}[/bold green]\")\n",
    "        return [{\"content\": d.text, **d.metadata} for d in documents]\n",
    "    except Exception as e:\n",
    "        logger.error(f\"Error loading documents from {path}: {e}\")\n",
    "        console.print(f\"[bold red]Error loading documents from {path}:[/bold red] {e}\")\n",
    "        return []\n",
    "\n",
    "@task\n",
    "def process_metadata(doc_dicts: List[Dict[str, Any]]) -> List[Dict[str, Any]]:\n",
    "    \"\"\"\n",
    "    Process metadata to remove duplicate file entries.\n",
    "    \"\"\"\n",
    "    try:\n",
    "        file_seen = set()\n",
    "        metadata_list = []\n",
    "        for doc in doc_dicts:\n",
    "            if doc[\"file_path\"] not in file_seen:\n",
    "                file_seen.add(doc[\"file_path\"])\n",
    "                metadata_list.append(doc)\n",
    "        logger.info(f\"Processed metadata: {len(metadata_list)} unique documents\")\n",
    "        console.print(f\"[bold green]Processed metadata: {len(metadata_list)} unique documents[/bold green]\")\n",
    "        return metadata_list\n",
    "    except Exception as e:\n",
    "        logger.error(f\"Error processing metadata: {e}\")\n",
    "        console.print(f\"[bold red]Error processing metadata:[/bold red] {e}\")\n",
    "        return []\n",
    "\n",
    "@task\n",
    "def query_summaries(\n",
    "    doc_dicts: List[Dict[str, Any]],\n",
    "    host: str,\n",
    "    port: int,\n",
    "    model: str,\n",
    "    api_base: str = None,\n",
    "    stream: bool = False\n",
    ") -> Dict[str, Any]:\n",
    "    PROMPT = f\"\"\" \n",
    "    The following is a list of file contents, along with their metadata. For each file, provide a summary of the contents. The purpose of the summary is to organize files based on their content. To this end provide a concise but informative summary. Try to make the summary as specific to the file as possible. {doc_dicts}\n",
    "    \n",
    "    Do not call any functions. Do not return a function call. Only return the requested JSON.\n",
    "    Return a JSON object with the following schema:\n",
    "    \n",
    "    ```json\n",
    "    {{\n",
    "      \"files\": [\n",
    "        {{\n",
    "          \"file_path\": \"path to the file including name\",\n",
    "          \"summary\": \"summary of the content\"\n",
    "        }}\n",
    "      ]\n",
    "    }}\n",
    "    ```\n",
    "    \"\"\".strip()\n",
    "\n",
    "    if not api_base:\n",
    "        api_base = f\"http://{host}:{port}\"\n",
    "        logger.info(f\"API Base set to: {api_base}\")\n",
    "        console.print(f\"[bold blue]API Base set to: {api_base}[/bold blue]\")\n",
    "\n",
    "    try:\n",
    "        response = completion(\n",
    "            model=model, \n",
    "            messages=[\n",
    "                {\n",
    "                    \"role\": \"system\", \n",
    "                    \"content\": \"Always return JSON. Do not include any other text or formatting characters.\"\n",
    "                },\n",
    "                {\n",
    "                    \"role\": \"user\", \n",
    "                    \"content\": PROMPT\n",
    "                }\n",
    "            ],\n",
    "            api_base=api_base,\n",
    "            stream=stream,\n",
    "            response_format={\"type\": \"json_object\"},  # Ensures the response is JSON\n",
    "            # functions=[],  # Disable function calls\n",
    "            # function_call=\"none\"  # Do not allow the LLM to return a function call\n",
    "        )\n",
    "    except Exception as e:\n",
    "        logger.error(f\"LiteLLM Error >>> {e}\")\n",
    "        console.print(f\"[bold red]LiteLLM Error:[/bold red] {e}\")\n",
    "        return {\"files\": [], \"cost\": COST_TRACKER[\"cost\"]}\n",
    "\n",
    "    if response is None:\n",
    "        logger.warning(\"No response received from the API.\")\n",
    "        console.print(\"[bold yellow]No response received from the API.[/bold yellow]\")\n",
    "        return {\"files\": [], \"cost\": COST_TRACKER[\"cost\"]}\n",
    "\n",
    "    try:\n",
    "        response_dict = response.to_dict() if hasattr(response, \"to_dict\") else json.loads(str(response))\n",
    "    except (TypeError, json.JSONDecodeError) as e:\n",
    "        logger.error(f\"Error parsing response: {e}\")\n",
    "        console.print(f\"[bold red]Error parsing response:[/bold red] {e}\")\n",
    "        return {\"files\": [], \"cost\": COST_TRACKER[\"cost\"]}\n",
    "\n",
    "    content = response_dict.get(\"choices\", [{}])[0].get(\"message\", {}).get(\"content\", \"\")\n",
    "    print(\">>>> Content summary:\")\n",
    "    print(content)\n",
    "\n",
    "    try:\n",
    "        summaries = json.loads(content)\n",
    "        print(\"Summaries:\")\n",
    "        print(summaries)\n",
    "    except json.JSONDecodeError:\n",
    "        logger.error(\"Error decoding JSON content from summaries.\")\n",
    "        console.print(\"[bold red]Error decoding JSON content from summaries.[/bold red]\")\n",
    "        summaries = {\"files\": []}\n",
    "\n",
    "    if isinstance(summaries, list) and summaries and isinstance(summaries[0], dict):\n",
    "        summaries = summaries[0]\n",
    "\n",
    "    usage = response_dict.get(\"usage\", {})\n",
    "    if usage and isinstance(summaries, dict):\n",
    "        summaries[\"usage\"] = {\n",
    "            \"completion_tokens\": usage.get(\"completion_tokens\"),\n",
    "            \"prompt_tokens\": usage.get(\"prompt_tokens\"),\n",
    "            \"total_tokens\": usage.get(\"total_tokens\")\n",
    "        }\n",
    "\n",
    "    if isinstance(summaries, dict):\n",
    "        summaries[\"cost\"] = COST_TRACKER[\"cost\"]\n",
    "    else:\n",
    "        summaries = {\"files\": [], \"cost\": COST_TRACKER[\"cost\"]}\n",
    "\n",
    "    logger.info(f\"Generated summaries for {len(summaries.get('files', []))} files with cost {summaries.get('cost')}\")\n",
    "    console.print(f\"[bold green]Generated summaries for {len(summaries.get('files', []))} files with cost {summaries.get('cost')}[/bold green]\")\n",
    "    return summaries\n",
    "\n",
    "\n",
    "@task\n",
    "def create_file_tree(\n",
    "    summaries: List[Dict[str, Any]],\n",
    "    host: str,\n",
    "    port: int,\n",
    "    source_path: str,\n",
    "    destination_path: str,\n",
    "    model: str = \"llama-3.1-70b-versatile\",\n",
    "    api_base: str = None,\n",
    "    stream: bool = False\n",
    ") -> List[Dict[str, str]]:\n",
    "    # Define the helper function within the task\n",
    "    def find_key(obj: Any, key: str) -> Any:\n",
    "        if isinstance(obj, dict):\n",
    "            if key in obj:\n",
    "                return obj[key]\n",
    "            for value in obj.values():\n",
    "                result = find_key(value, key)\n",
    "                if result is not None:\n",
    "                    return result\n",
    "        elif isinstance(obj, list):\n",
    "            for item in obj:\n",
    "                result = find_key(item, key)\n",
    "                if result is not None:\n",
    "                    return result\n",
    "        return None\n",
    "\n",
    "    PROMPT = f\"\"\"\n",
    "    You will be provided with a list of source files and a summary of their contents. The source files are located in '{source_path}', and the destination directory is '{destination_path}'.\n",
    "    \n",
    "    For each file, propose:\n",
    "    1. 'dst_path': A new file path under the destination directory with the same file name.\n",
    "    2. 'dst_path_new': A new file path under the destination directory with an updated file name (e.g., adding a version number or timestamp).\n",
    "    \n",
    "    Follow good naming conventions and organizational best practices. Here are guidelines:\n",
    "    - Group related files together.\n",
    "    - Incorporate metadata such as date, version, or experiment details into folder names.\n",
    "    - Use clear and descriptive names without spaces or special characters.\n",
    "    - Do not change the file extension.\n",
    "    - If the file is already well-named or follows a known convention, retain its name for 'dst_path'.\n",
    "    \n",
    "    **Example**:\n",
    "    ```json\n",
    "    {{\n",
    "        \"files\": [\n",
    "            {{\n",
    "                \"src_path\": \"/home/user/source/file1.txt\",\n",
    "                \"dst_path\": \"/home/user/destination/2024/04/file1.txt\",\n",
    "                \"dst_path_new\": \"/home/user/destination/2024/04/file1_v2.txt\"\n",
    "            }}\n",
    "        ]\n",
    "    }}\n",
    "    ```\n",
    "    \n",
    "    **Important:** Your response **must** be a JSON object with the following schema **at the top level**:\n",
    "    ```json\n",
    "    {{\n",
    "        \"files\": [\n",
    "            {{\n",
    "                \"src_path\": \"original file path\",\n",
    "                \"dst_path\": \"new file path under destination directory with same file name\",\n",
    "                \"dst_path_new\": \"new file path under destination directory with updated file name\"\n",
    "            }}\n",
    "        ]\n",
    "    }}\n",
    "    ```\n",
    "    \n",
    "    Do **not** wrap the \"files\" key inside any other keys.\n",
    "    \"\"\".strip()\n",
    "\n",
    "    if not api_base:\n",
    "        api_base = f\"http://{host}:{port}\"\n",
    "        logger.info(f\"API Base set to: {api_base}\")\n",
    "        console.print(f\"[bold blue]API Base set to: {api_base}[/bold blue]\")\n",
    "\n",
    "    try:\n",
    "        response = completion(\n",
    "            model=model,\n",
    "            messages=[\n",
    "                {\"role\": \"system\", \"content\": PROMPT},\n",
    "                {\"role\": \"user\", \"content\": json.dumps(summaries)},\n",
    "            ],\n",
    "            api_base=api_base,\n",
    "            stream=stream,\n",
    "            response_format={\"type\": \"json_object\"}  # Ensures the response is JSON\n",
    "        )\n",
    "    except Exception as e:\n",
    "        logger.error(f\"LiteLLM Error >>> {e}\")\n",
    "        console.print(f\"[bold red]LiteLLM Error:[/bold red] {e}\")\n",
    "        return []\n",
    "\n",
    "    if response is None:\n",
    "        logger.warning(\"No response received from the API.\")\n",
    "        console.print(\"[bold yellow]No response received from the API.[/bold yellow]\")\n",
    "        return []\n",
    "\n",
    "    try:\n",
    "        response_dict = response.to_dict() if hasattr(response, \"to_dict\") else json.loads(str(response))\n",
    "    except (TypeError, json.JSONDecodeError) as e:\n",
    "        logger.error(f\"Error parsing response: {e}\")\n",
    "        console.print(f\"[bold red]Error parsing response:[/bold red] {e}\")\n",
    "        return []\n",
    "\n",
    "    content = response_dict.get(\"choices\", [{}])[0].get(\"message\", {}).get(\"content\", \"\")\n",
    "\n",
    "    try:\n",
    "        parsed_content = json.loads(content)\n",
    "        file_tree = find_key(parsed_content, \"files\")\n",
    "        if file_tree is None:\n",
    "            raise KeyError(\"'files' key not found in the response.\")\n",
    "    except (json.JSONDecodeError, KeyError) as e:\n",
    "        logger.error(f\"Error decoding JSON content: {e}\")\n",
    "        console.print(f\"[bold red]Error decoding JSON content:[/bold red] {e}\")\n",
    "        console.print(f\"[bold yellow]Raw Content:[/bold yellow]\\n{content}\")\n",
    "        return []\n",
    "\n",
    "    logger.info(f\"Created file tree for {len(file_tree)} files\")\n",
    "    console.print(f\"[bold green]Created file tree for {len(file_tree)} files[/bold green]\")\n",
    "    return file_tree\n",
    "\n",
    "    \"\"\"\n",
    "    Create a file tree based on the provided summaries.\n",
    "    Returns src_path, dst_path, and dst_path_new for each file.\n",
    "    \"\"\"\n",
    "    # Define the helper function within the task\n",
    "    def find_key(obj: Any, key: str) -> Any:\n",
    "        if isinstance(obj, dict):\n",
    "            if key in obj:\n",
    "                return obj[key]\n",
    "            for value in obj.values():\n",
    "                result = find_key(value, key)\n",
    "                if result is not None:\n",
    "                    return result\n",
    "        elif isinstance(obj, list):\n",
    "            for item in obj:\n",
    "                result = find_key(item, key)\n",
    "                if result is not None:\n",
    "                    return result\n",
    "        return None\n",
    "\n",
    "    PROMPT = f\"\"\"\n",
    "    You will be provided with a list of source files and a summary of their contents. The source files are located in '{source_path}', and the destination directory is '{destination_path}'.\n",
    "    \n",
    "    For each file, propose:\n",
    "    1. 'dst_path': A new file path under the destination directory with the same file name.\n",
    "    2. 'dst_path_new': A new file path under the destination directory with an updated file name (e.g., adding a version number or timestamp).\n",
    "    \n",
    "    Follow good naming conventions and organizational best practices. Here are guidelines:\n",
    "    - Group related files together.\n",
    "    - Incorporate metadata such as date, version, or experiment details into folder names.\n",
    "    - Use clear and descriptive names without spaces or special characters.\n",
    "    - Do not change the file extension.\n",
    "    - If the file is already well-named or follows a known convention, retain its name for 'dst_path'.\n",
    "    \n",
    "    **Example**:\n",
    "    ```json\n",
    "    {{\n",
    "        \"files\": [\n",
    "            {{\n",
    "                \"src_path\": \"/home/user/source/file1.txt\",\n",
    "                \"dst_path\": \"/home/user/destination/2024/04/file1.txt\",\n",
    "                \"dst_path_new\": \"/home/user/destination/2024/04/file1_v2.txt\"\n",
    "            }}\n",
    "        ]\n",
    "    }}\n",
    "    ```\n",
    "    \n",
    "    **Important:** Your response **must** be a JSON object with the following schema **at the top level**:\n",
    "    ```json\n",
    "    {{\n",
    "        \"files\": [\n",
    "            {{\n",
    "                \"src_path\": \"original file path\",\n",
    "                \"dst_path\": \"new file path under destination directory with same file name\",\n",
    "                \"dst_path_new\": \"new file path under destination directory with updated file name\"\n",
    "            }}\n",
    "        ]\n",
    "    }}\n",
    "    ```\n",
    "    \n",
    "    Do **not** wrap the \"files\" key inside any other keys.\n",
    "    \"\"\".strip()\n",
    "\n",
    "    if not api_base:\n",
    "        api_base = f\"http://{host}:{port}\"\n",
    "        logger.info(f\"API Base set to: {api_base}\")\n",
    "        console.print(f\"[bold blue]API Base set to: {api_base}[/bold blue]\")\n",
    "\n",
    "    try:\n",
    "        response = completion(\n",
    "            model=model,\n",
    "            messages=[\n",
    "                {\"role\": \"system\", \"content\": PROMPT},\n",
    "                {\"role\": \"user\", \"content\": json.dumps(summaries)},\n",
    "            ],\n",
    "            api_base=api_base,\n",
    "            stream=stream\n",
    "        )\n",
    "    except Exception as e:\n",
    "        logger.error(f\"LiteLLM Error >>> {e}\")\n",
    "        console.print(f\"[bold red]LiteLLM Error:[/bold red] {e}\")\n",
    "        return []\n",
    "\n",
    "    if response is None:\n",
    "        logger.warning(\"No response received from the API.\")\n",
    "        console.print(\"[bold yellow]No response received from the API.[/bold yellow]\")\n",
    "        return []\n",
    "\n",
    "    try:\n",
    "        if hasattr(response, \"to_dict\"):\n",
    "            response_dict = response.to_dict()\n",
    "        elif isinstance(response, dict):\n",
    "            response_dict = response\n",
    "        else:\n",
    "            response_dict = json.loads(str(response))\n",
    "    except (TypeError, json.JSONDecodeError) as e:\n",
    "        logger.error(f\"Error parsing response: {e}\")\n",
    "        console.print(f\"[bold red]Error parsing response:[/bold red] {e}\")\n",
    "        return []\n",
    "\n",
    "    content = response_dict.get(\"choices\", [{}])[0].get(\"message\", {}).get(\"content\", \"\")\n",
    "\n",
    "    try:\n",
    "        parsed_content = json.loads(content)\n",
    "        file_tree = find_key(parsed_content, \"files\")\n",
    "        if file_tree is None:\n",
    "            raise KeyError(\"'files' key not found in the response.\")\n",
    "    except (json.JSONDecodeError, KeyError) as e:\n",
    "        logger.error(f\"Error decoding JSON content: {e}\")\n",
    "        console.print(f\"[bold red]Error decoding JSON content:[/bold red] {e}\")\n",
    "        console.print(f\"[bold yellow]Raw Content:[/bold yellow]\\n{content}\")\n",
    "        return []\n",
    "\n",
    "    logger.info(f\"Created file tree for {len(file_tree)} files\")\n",
    "    console.print(f\"[bold green]Created file tree for {len(file_tree)} files[/bold green]\")\n",
    "    return file_tree\n",
    "\n",
    "@task\n",
    "def concatenate_summaries_and_file_tree(\n",
    "    summaries: List[Dict[str, Any]],\n",
    "    file_tree: List[Dict[str, str]]\n",
    ") -> List[Dict[str, Any]]:\n",
    "    \"\"\"\n",
    "    Concatenate summaries and file_tree into a single dictionary for each file.\n",
    "    \"\"\"\n",
    "    concatenated = []\n",
    "    summary_dict = {item['file_path']: item['summary'] for item in summaries}\n",
    "\n",
    "    for item in file_tree:\n",
    "        src_path = item.get(\"src_path\")\n",
    "        dst_path = item.get(\"dst_path\")\n",
    "        dst_path_new = item.get(\"dst_path_new\")\n",
    "        summary = summary_dict.get(src_path, \"No summary available.\")\n",
    "        concatenated.append({\n",
    "            \"file_path\": src_path,\n",
    "            \"summary\": summary,\n",
    "            \"dst_path\": dst_path,\n",
    "            \"dst_path_new\": dst_path_new\n",
    "        })\n",
    "\n",
    "    logger.info(f\"Concatenated summary and file tree for {len(concatenated)} files\")\n",
    "    console.print(f\"[bold green]Concatenated summary and file tree for {len(concatenated)} files[/bold green]\")\n",
    "    return concatenated\n",
    "\n",
    "@task\n",
    "def create_subdirectories(file_tree: List[Dict[str, str]]):\n",
    "    \"\"\"\n",
    "    Create all necessary subdirectories in the destination paths.\n",
    "    \"\"\"\n",
    "    try:\n",
    "        for file in file_tree:\n",
    "            dst_path = file.get(\"dst_path\")\n",
    "            dst_path_new = file.get(\"dst_path_new\")\n",
    "            \n",
    "            # Extract directories from the destination paths\n",
    "            dst_dir = os.path.dirname(dst_path)\n",
    "            dst_new_dir = os.path.dirname(dst_path_new)\n",
    "            \n",
    "            # Create the directories if they don't exist\n",
    "            os.makedirs(dst_dir, exist_ok=True)\n",
    "            os.makedirs(dst_new_dir, exist_ok=True)\n",
    "        \n",
    "        logger.info(\"All necessary subdirectories created.\")\n",
    "        console.print(\"[bold green]All necessary subdirectories created.[/bold green]\")\n",
    "    except Exception as e:\n",
    "        logger.error(f\"Error creating subdirectories: {e}\")\n",
    "        console.print(f\"[bold red]Error creating subdirectories:[/bold red] {e}\")\n",
    "\n",
    "@task\n",
    "def display_organized_files(organized_files: List[Dict[str, str]]):\n",
    "    \"\"\"\n",
    "    Display organized files using Rich Table.\n",
    "    \"\"\"\n",
    "    if not organized_files:\n",
    "        console.print(\"[bold red]No organized files to display.[/bold red]\")\n",
    "        return\n",
    "\n",
    "    table = Table(title=\"Organized Files\", box=box.MINIMAL_DOUBLE_HEAD)\n",
    "    table.add_column(\"Source Path\", style=\"cyan\", no_wrap=True)\n",
    "    table.add_column(\"Destination Path\", style=\"green\")\n",
    "\n",
    "    for file in organized_files:\n",
    "        table.add_row(file.get(\"file_path\", \"\"), file.get(\"dst_path\", \"\"))\n",
    "    \n",
    "    console.print(table)\n",
    "\n",
    "@task\n",
    "def display_concatenated_dict(concatenated_dict: List[Dict[str, Any]]):\n",
    "    \"\"\"\n",
    "    Display concatenated summaries and file tree using Rich Table.\n",
    "    \"\"\"\n",
    "    if not concatenated_dict:\n",
    "        console.print(\"[bold red]No concatenated data to display.[/bold red]\")\n",
    "        return\n",
    "\n",
    "    table = Table(title=\"Summaries and Organized Files\", box=box.MINIMAL_DOUBLE_HEAD)\n",
    "    table.add_column(\"File Path\", style=\"cyan\", no_wrap=True)\n",
    "    table.add_column(\"Summary\", style=\"green\")\n",
    "    table.add_column(\"Destination Path\", style=\"magenta\")\n",
    "    table.add_column(\"Destination Path New\", style=\"yellow\")\n",
    "\n",
    "    for item in concatenated_dict:\n",
    "        table.add_row(\n",
    "            item.get(\"file_path\", \"\"), \n",
    "            item.get(\"summary\", \"\"), \n",
    "            item.get(\"dst_path\", \"\"), \n",
    "            item.get(\"dst_path_new\", \"\")\n",
    "        )\n",
    "    \n",
    "    console.print(table)\n",
    "\n",
    "@flow(name=\"Document Processing Workflow\")\n",
    "def document_processing_workflow(\n",
    "    source_path: str,\n",
    "    destination_path: str,\n",
    "    api_host: str,\n",
    "    api_port: int,\n",
    "    summary_model: str,\n",
    "    tree_model: str,\n",
    "    api_base: str = None,\n",
    "    stream: bool = False\n",
    ") -> Dict[str, Any]:\n",
    "    \"\"\"\n",
    "    Orchestrates the document processing workflow: loading documents, querying summaries, creating a file tree, and concatenating results.\n",
    "\n",
    "    Args:\n",
    "        source_path (str): Path to the source documents directory.\n",
    "        destination_path (str): Path to the destination directory for organized files.\n",
    "        api_host (str): API host address.\n",
    "        api_port (int): API port number.\n",
    "        summary_model (str): Model name for summarizing documents.\n",
    "        tree_model (str): Model name for creating file tree.\n",
    "        api_base (str, optional): Base URL for the API. Defaults to None.\n",
    "        stream (bool, optional): Whether to use streaming. Defaults to False.\n",
    "\n",
    "    Returns:\n",
    "        Dict[str, Any]: Dictionary containing summaries, file_tree, and concatenated data.\n",
    "    \"\"\"\n",
    "    # Initial setup\n",
    "    set_success_callback()\n",
    "    list_ollama_models()\n",
    "\n",
    "    # Load and process documents\n",
    "    loaded_docs = load_documents(source_path)\n",
    "    unique_docs = process_metadata(loaded_docs)\n",
    "\n",
    "    # Generate summaries\n",
    "    summaries = query_summaries(\n",
    "        doc_dicts=unique_docs,\n",
    "        host=api_host,\n",
    "        port=api_port,\n",
    "        model=summary_model,\n",
    "        api_base=api_base,\n",
    "        stream=stream\n",
    "    )\n",
    "\n",
    "    # Create file tree\n",
    "    file_tree = create_file_tree(\n",
    "        summaries=summaries.get(\"files\", []),\n",
    "        host=api_host,\n",
    "        port=api_port,\n",
    "        source_path=source_path,\n",
    "        destination_path=destination_path,\n",
    "        model=tree_model,\n",
    "        api_base=api_base,\n",
    "        stream=stream\n",
    "    )\n",
    "\n",
    "    # Create necessary subdirectories\n",
    "    create_subdirectories(file_tree)\n",
    "\n",
    "    # Concatenate summaries and file_tree\n",
    "    concatenated_dict = concatenate_summaries_and_file_tree(summaries.get(\"files\", []), file_tree)\n",
    "\n",
    "    # Display organized files using Rich\n",
    "    display_organized_files(file_tree)\n",
    "\n",
    "    # Display concatenated summaries and file_tree\n",
    "    display_concatenated_dict(concatenated_dict)\n",
    "\n",
    "    # Return all results\n",
    "    return {\n",
    "        \"summaries\": summaries,\n",
    "        \"file_tree\": file_tree,\n",
    "        \"concatenated_data\": concatenated_dict\n",
    "    }\n"
   ]
  },
  {
   "cell_type": "markdown",
   "metadata": {},
   "source": [
    "## LLM Tests"
   ]
  },
  {
   "cell_type": "markdown",
   "metadata": {},
   "source": [
    "### OLLama "
   ]
  },
  {
   "cell_type": "code",
   "execution_count": 35,
   "metadata": {},
   "outputs": [
    {
     "data": {
      "text/html": [
       "<pre style=\"white-space:pre;overflow-x:auto;line-height:normal;font-family:Menlo,'DejaVu Sans Mono',consolas,'Courier New',monospace\">23:59:29.574 | <span style=\"color: #008080; text-decoration-color: #008080\">INFO</span>    | prefect.engine - Created flow run<span style=\"color: #800080; text-decoration-color: #800080\"> 'adept-pelican'</span> for flow<span style=\"color: #800080; text-decoration-color: #800080; font-weight: bold\"> 'Document Processing Workflow'</span>\n",
       "</pre>\n"
      ],
      "text/plain": [
       "23:59:29.574 | \u001b[36mINFO\u001b[0m    | prefect.engine - Created flow run\u001b[35m 'adept-pelican'\u001b[0m for flow\u001b[1;35m 'Document Processing Workflow'\u001b[0m\n"
      ]
     },
     "metadata": {},
     "output_type": "display_data"
    },
    {
     "data": {
      "text/html": [
       "<pre style=\"white-space:pre;overflow-x:auto;line-height:normal;font-family:Menlo,'DejaVu Sans Mono',consolas,'Courier New',monospace\">23:59:29.627 | <span style=\"color: #008080; text-decoration-color: #008080\">INFO</span>    | prefect - Success callback set successfully.\n",
       "</pre>\n"
      ],
      "text/plain": [
       "23:59:29.627 | \u001b[36mINFO\u001b[0m    | prefect - Success callback set successfully.\n"
      ]
     },
     "metadata": {},
     "output_type": "display_data"
    },
    {
     "data": {
      "text/html": [
       "<pre style=\"white-space:pre;overflow-x:auto;line-height:normal;font-family:Menlo,'DejaVu Sans Mono',consolas,'Courier New',monospace\">23:59:29.629 | <span style=\"color: #008080; text-decoration-color: #008080\">INFO</span>    | Task run 'set_success_callback-839' - Finished in state <span style=\"color: #008000; text-decoration-color: #008000\">Completed</span>()\n",
       "</pre>\n"
      ],
      "text/plain": [
       "23:59:29.629 | \u001b[36mINFO\u001b[0m    | Task run 'set_success_callback-839' - Finished in state \u001b[32mCompleted\u001b[0m()\n"
      ]
     },
     "metadata": {},
     "output_type": "display_data"
    },
    {
     "data": {
      "text/html": [
       "<pre style=\"white-space:pre;overflow-x:auto;line-height:normal;font-family:Menlo,'DejaVu Sans Mono',consolas,'Courier New',monospace\"><span style=\"font-style: italic\">                                              Available Ollama Models                                              </span>\n",
       "                   ╷              ╷              ╷              ╷            ╷             ╷        ╷              \n",
       " <span style=\"font-weight: bold\"> Model Name       </span>│<span style=\"font-weight: bold\"> Modified At  </span>│<span style=\"font-weight: bold\"> Digest       </span>│<span style=\"font-weight: bold\"> Size (bytes) </span>│<span style=\"font-weight: bold\"> Param Size </span>│<span style=\"font-weight: bold\"> Quant Level </span>│<span style=\"font-weight: bold\"> Family </span>│<span style=\"font-weight: bold\"> Families    </span> \n",
       " ══════════════════╪══════════════╪══════════════╪══════════════╪════════════╪═════════════╪════════╪═════════════ \n",
       " <span style=\"color: #008080; text-decoration-color: #008080\"> smollm2:135m     </span>│<span style=\"color: #800080; text-decoration-color: #800080\"> 2024-12-18   </span>│<span style=\"color: #008000; text-decoration-color: #008000\"> 9077fe9d2ae… </span>│<span style=\"color: #808000; text-decoration-color: #808000\">    270898672 </span>│<span style=\"color: #808000; text-decoration-color: #808000\">    134.52M </span>│<span style=\"color: #000080; text-decoration-color: #000080\"> F16         </span>│<span style=\"color: #800000; text-decoration-color: #800000\"> llama  </span>│<span style=\"color: #800000; text-decoration-color: #800000\"> llama       </span> \n",
       " <span style=\"color: #008080; text-decoration-color: #008080\">                  </span>│<span style=\"color: #800080; text-decoration-color: #800080\"> 11:49:06.80… </span>│<span style=\"color: #008000; text-decoration-color: #008000\">              </span>│<span style=\"color: #808000; text-decoration-color: #808000\">              </span>│<span style=\"color: #808000; text-decoration-color: #808000\">            </span>│<span style=\"color: #000080; text-decoration-color: #000080\">             </span>│<span style=\"color: #800000; text-decoration-color: #800000\">        </span>│<span style=\"color: #800000; text-decoration-color: #800000\">             </span> \n",
       " <span style=\"color: #008080; text-decoration-color: #008080\"> llava:latest     </span>│<span style=\"color: #800080; text-decoration-color: #800080\"> 2024-12-07   </span>│<span style=\"color: #008000; text-decoration-color: #008000\"> 8dd30f6b0cb… </span>│<span style=\"color: #808000; text-decoration-color: #808000\">   4733363377 </span>│<span style=\"color: #808000; text-decoration-color: #808000\">         7B </span>│<span style=\"color: #000080; text-decoration-color: #000080\"> Q4_0        </span>│<span style=\"color: #800000; text-decoration-color: #800000\"> llama  </span>│<span style=\"color: #800000; text-decoration-color: #800000\"> llama, clip </span> \n",
       " <span style=\"color: #008080; text-decoration-color: #008080\">                  </span>│<span style=\"color: #800080; text-decoration-color: #800080\"> 23:46:35.56… </span>│<span style=\"color: #008000; text-decoration-color: #008000\">              </span>│<span style=\"color: #808000; text-decoration-color: #808000\">              </span>│<span style=\"color: #808000; text-decoration-color: #808000\">            </span>│<span style=\"color: #000080; text-decoration-color: #000080\">             </span>│<span style=\"color: #800000; text-decoration-color: #800000\">        </span>│<span style=\"color: #800000; text-decoration-color: #800000\">             </span> \n",
       " <span style=\"color: #008080; text-decoration-color: #008080\"> moondream:latest </span>│<span style=\"color: #800080; text-decoration-color: #800080\"> 2024-12-07   </span>│<span style=\"color: #008000; text-decoration-color: #008000\"> 55fc3abd386… </span>│<span style=\"color: #808000; text-decoration-color: #808000\">   1738451197 </span>│<span style=\"color: #808000; text-decoration-color: #808000\">         1B </span>│<span style=\"color: #000080; text-decoration-color: #000080\"> Q4_0        </span>│<span style=\"color: #800000; text-decoration-color: #800000\"> phi2   </span>│<span style=\"color: #800000; text-decoration-color: #800000\"> phi2, clip  </span> \n",
       " <span style=\"color: #008080; text-decoration-color: #008080\">                  </span>│<span style=\"color: #800080; text-decoration-color: #800080\"> 22:19:46.41… </span>│<span style=\"color: #008000; text-decoration-color: #008000\">              </span>│<span style=\"color: #808000; text-decoration-color: #808000\">              </span>│<span style=\"color: #808000; text-decoration-color: #808000\">            </span>│<span style=\"color: #000080; text-decoration-color: #000080\">             </span>│<span style=\"color: #800000; text-decoration-color: #800000\">        </span>│<span style=\"color: #800000; text-decoration-color: #800000\">             </span> \n",
       " <span style=\"color: #008080; text-decoration-color: #008080\"> llama3.2:latest  </span>│<span style=\"color: #800080; text-decoration-color: #800080\"> 2024-12-07   </span>│<span style=\"color: #008000; text-decoration-color: #008000\"> a80c4f17acd… </span>│<span style=\"color: #808000; text-decoration-color: #808000\">   2019393189 </span>│<span style=\"color: #808000; text-decoration-color: #808000\">       3.2B </span>│<span style=\"color: #000080; text-decoration-color: #000080\"> Q4_K_M      </span>│<span style=\"color: #800000; text-decoration-color: #800000\"> llama  </span>│<span style=\"color: #800000; text-decoration-color: #800000\"> llama       </span> \n",
       " <span style=\"color: #008080; text-decoration-color: #008080\">                  </span>│<span style=\"color: #800080; text-decoration-color: #800080\"> 22:18:36.84… </span>│<span style=\"color: #008000; text-decoration-color: #008000\">              </span>│<span style=\"color: #808000; text-decoration-color: #808000\">              </span>│<span style=\"color: #808000; text-decoration-color: #808000\">            </span>│<span style=\"color: #000080; text-decoration-color: #000080\">             </span>│<span style=\"color: #800000; text-decoration-color: #800000\">        </span>│<span style=\"color: #800000; text-decoration-color: #800000\">             </span> \n",
       "                   ╵              ╵              ╵              ╵            ╵             ╵        ╵              \n",
       "</pre>\n"
      ],
      "text/plain": [
       "\u001b[3m                                              Available Ollama Models                                              \u001b[0m\n",
       "                   ╷              ╷              ╷              ╷            ╷             ╷        ╷              \n",
       " \u001b[1m \u001b[0m\u001b[1mModel Name      \u001b[0m\u001b[1m \u001b[0m│\u001b[1m \u001b[0m\u001b[1mModified At \u001b[0m\u001b[1m \u001b[0m│\u001b[1m \u001b[0m\u001b[1mDigest      \u001b[0m\u001b[1m \u001b[0m│\u001b[1m \u001b[0m\u001b[1mSize (bytes)\u001b[0m\u001b[1m \u001b[0m│\u001b[1m \u001b[0m\u001b[1mParam Size\u001b[0m\u001b[1m \u001b[0m│\u001b[1m \u001b[0m\u001b[1mQuant Level\u001b[0m\u001b[1m \u001b[0m│\u001b[1m \u001b[0m\u001b[1mFamily\u001b[0m\u001b[1m \u001b[0m│\u001b[1m \u001b[0m\u001b[1mFamilies   \u001b[0m\u001b[1m \u001b[0m \n",
       " ══════════════════╪══════════════╪══════════════╪══════════════╪════════════╪═════════════╪════════╪═════════════ \n",
       " \u001b[36m \u001b[0m\u001b[36msmollm2:135m    \u001b[0m\u001b[36m \u001b[0m│\u001b[35m \u001b[0m\u001b[35m2024-12-18  \u001b[0m\u001b[35m \u001b[0m│\u001b[32m \u001b[0m\u001b[32m9077fe9d2ae…\u001b[0m\u001b[32m \u001b[0m│\u001b[33m \u001b[0m\u001b[33m   270898672\u001b[0m\u001b[33m \u001b[0m│\u001b[33m \u001b[0m\u001b[33m   134.52M\u001b[0m\u001b[33m \u001b[0m│\u001b[34m \u001b[0m\u001b[34mF16        \u001b[0m\u001b[34m \u001b[0m│\u001b[31m \u001b[0m\u001b[31mllama \u001b[0m\u001b[31m \u001b[0m│\u001b[31m \u001b[0m\u001b[31mllama      \u001b[0m\u001b[31m \u001b[0m \n",
       " \u001b[36m                  \u001b[0m│\u001b[35m \u001b[0m\u001b[35m11:49:06.80…\u001b[0m\u001b[35m \u001b[0m│\u001b[32m              \u001b[0m│\u001b[33m              \u001b[0m│\u001b[33m            \u001b[0m│\u001b[34m             \u001b[0m│\u001b[31m        \u001b[0m│\u001b[31m             \u001b[0m \n",
       " \u001b[36m \u001b[0m\u001b[36mllava:latest    \u001b[0m\u001b[36m \u001b[0m│\u001b[35m \u001b[0m\u001b[35m2024-12-07  \u001b[0m\u001b[35m \u001b[0m│\u001b[32m \u001b[0m\u001b[32m8dd30f6b0cb…\u001b[0m\u001b[32m \u001b[0m│\u001b[33m \u001b[0m\u001b[33m  4733363377\u001b[0m\u001b[33m \u001b[0m│\u001b[33m \u001b[0m\u001b[33m        7B\u001b[0m\u001b[33m \u001b[0m│\u001b[34m \u001b[0m\u001b[34mQ4_0       \u001b[0m\u001b[34m \u001b[0m│\u001b[31m \u001b[0m\u001b[31mllama \u001b[0m\u001b[31m \u001b[0m│\u001b[31m \u001b[0m\u001b[31mllama, clip\u001b[0m\u001b[31m \u001b[0m \n",
       " \u001b[36m                  \u001b[0m│\u001b[35m \u001b[0m\u001b[35m23:46:35.56…\u001b[0m\u001b[35m \u001b[0m│\u001b[32m              \u001b[0m│\u001b[33m              \u001b[0m│\u001b[33m            \u001b[0m│\u001b[34m             \u001b[0m│\u001b[31m        \u001b[0m│\u001b[31m             \u001b[0m \n",
       " \u001b[36m \u001b[0m\u001b[36mmoondream:latest\u001b[0m\u001b[36m \u001b[0m│\u001b[35m \u001b[0m\u001b[35m2024-12-07  \u001b[0m\u001b[35m \u001b[0m│\u001b[32m \u001b[0m\u001b[32m55fc3abd386…\u001b[0m\u001b[32m \u001b[0m│\u001b[33m \u001b[0m\u001b[33m  1738451197\u001b[0m\u001b[33m \u001b[0m│\u001b[33m \u001b[0m\u001b[33m        1B\u001b[0m\u001b[33m \u001b[0m│\u001b[34m \u001b[0m\u001b[34mQ4_0       \u001b[0m\u001b[34m \u001b[0m│\u001b[31m \u001b[0m\u001b[31mphi2  \u001b[0m\u001b[31m \u001b[0m│\u001b[31m \u001b[0m\u001b[31mphi2, clip \u001b[0m\u001b[31m \u001b[0m \n",
       " \u001b[36m                  \u001b[0m│\u001b[35m \u001b[0m\u001b[35m22:19:46.41…\u001b[0m\u001b[35m \u001b[0m│\u001b[32m              \u001b[0m│\u001b[33m              \u001b[0m│\u001b[33m            \u001b[0m│\u001b[34m             \u001b[0m│\u001b[31m        \u001b[0m│\u001b[31m             \u001b[0m \n",
       " \u001b[36m \u001b[0m\u001b[36mllama3.2:latest \u001b[0m\u001b[36m \u001b[0m│\u001b[35m \u001b[0m\u001b[35m2024-12-07  \u001b[0m\u001b[35m \u001b[0m│\u001b[32m \u001b[0m\u001b[32ma80c4f17acd…\u001b[0m\u001b[32m \u001b[0m│\u001b[33m \u001b[0m\u001b[33m  2019393189\u001b[0m\u001b[33m \u001b[0m│\u001b[33m \u001b[0m\u001b[33m      3.2B\u001b[0m\u001b[33m \u001b[0m│\u001b[34m \u001b[0m\u001b[34mQ4_K_M     \u001b[0m\u001b[34m \u001b[0m│\u001b[31m \u001b[0m\u001b[31mllama \u001b[0m\u001b[31m \u001b[0m│\u001b[31m \u001b[0m\u001b[31mllama      \u001b[0m\u001b[31m \u001b[0m \n",
       " \u001b[36m                  \u001b[0m│\u001b[35m \u001b[0m\u001b[35m22:18:36.84…\u001b[0m\u001b[35m \u001b[0m│\u001b[32m              \u001b[0m│\u001b[33m              \u001b[0m│\u001b[33m            \u001b[0m│\u001b[34m             \u001b[0m│\u001b[31m        \u001b[0m│\u001b[31m             \u001b[0m \n",
       "                   ╵              ╵              ╵              ╵            ╵             ╵        ╵              \n"
      ]
     },
     "metadata": {},
     "output_type": "display_data"
    },
    {
     "data": {
      "text/html": [
       "<pre style=\"white-space:pre;overflow-x:auto;line-height:normal;font-family:Menlo,'DejaVu Sans Mono',consolas,'Courier New',monospace\">23:59:29.658 | <span style=\"color: #008080; text-decoration-color: #008080\">INFO</span>    | Task run 'list_ollama_models-485' - Finished in state <span style=\"color: #008000; text-decoration-color: #008000\">Completed</span>()\n",
       "</pre>\n"
      ],
      "text/plain": [
       "23:59:29.658 | \u001b[36mINFO\u001b[0m    | Task run 'list_ollama_models-485' - Finished in state \u001b[32mCompleted\u001b[0m()\n"
      ]
     },
     "metadata": {},
     "output_type": "display_data"
    },
    {
     "data": {
      "text/html": [
       "<pre style=\"white-space:pre;overflow-x:auto;line-height:normal;font-family:Menlo,'DejaVu Sans Mono',consolas,'Courier New',monospace\">23:59:29.681 | <span style=\"color: #008080; text-decoration-color: #008080\">INFO</span>    | prefect - Loaded 3 documents from /home/rakesh/Downloads/sample_data/four/\n",
       "</pre>\n"
      ],
      "text/plain": [
       "23:59:29.681 | \u001b[36mINFO\u001b[0m    | prefect - Loaded 3 documents from /home/rakesh/Downloads/sample_data/four/\n"
      ]
     },
     "metadata": {},
     "output_type": "display_data"
    },
    {
     "data": {
      "text/html": [
       "<pre style=\"white-space:pre;overflow-x:auto;line-height:normal;font-family:Menlo,'DejaVu Sans Mono',consolas,'Courier New',monospace\"><span style=\"color: #008000; text-decoration-color: #008000; font-weight: bold\">Loaded </span><span style=\"color: #008000; text-decoration-color: #008000; font-weight: bold\">3</span><span style=\"color: #008000; text-decoration-color: #008000; font-weight: bold\"> documents from /home/rakesh/Downloads/sample_data/four/</span>\n",
       "</pre>\n"
      ],
      "text/plain": [
       "\u001b[1;32mLoaded \u001b[0m\u001b[1;32m3\u001b[0m\u001b[1;32m documents from \u001b[0m\u001b[1;32m/home/rakesh/Downloads/sample_data/four/\u001b[0m\n"
      ]
     },
     "metadata": {},
     "output_type": "display_data"
    },
    {
     "data": {
      "text/html": [
       "<pre style=\"white-space:pre;overflow-x:auto;line-height:normal;font-family:Menlo,'DejaVu Sans Mono',consolas,'Courier New',monospace\">23:59:29.684 | <span style=\"color: #008080; text-decoration-color: #008080\">INFO</span>    | Task run 'load_documents-057' - Finished in state <span style=\"color: #008000; text-decoration-color: #008000\">Completed</span>()\n",
       "</pre>\n"
      ],
      "text/plain": [
       "23:59:29.684 | \u001b[36mINFO\u001b[0m    | Task run 'load_documents-057' - Finished in state \u001b[32mCompleted\u001b[0m()\n"
      ]
     },
     "metadata": {},
     "output_type": "display_data"
    },
    {
     "data": {
      "text/html": [
       "<pre style=\"white-space:pre;overflow-x:auto;line-height:normal;font-family:Menlo,'DejaVu Sans Mono',consolas,'Courier New',monospace\">23:59:29.708 | <span style=\"color: #008080; text-decoration-color: #008080\">INFO</span>    | prefect - Processed metadata: 3 unique documents\n",
       "</pre>\n"
      ],
      "text/plain": [
       "23:59:29.708 | \u001b[36mINFO\u001b[0m    | prefect - Processed metadata: 3 unique documents\n"
      ]
     },
     "metadata": {},
     "output_type": "display_data"
    },
    {
     "data": {
      "text/html": [
       "<pre style=\"white-space:pre;overflow-x:auto;line-height:normal;font-family:Menlo,'DejaVu Sans Mono',consolas,'Courier New',monospace\"><span style=\"color: #008000; text-decoration-color: #008000; font-weight: bold\">Processed metadata: </span><span style=\"color: #008000; text-decoration-color: #008000; font-weight: bold\">3</span><span style=\"color: #008000; text-decoration-color: #008000; font-weight: bold\"> unique documents</span>\n",
       "</pre>\n"
      ],
      "text/plain": [
       "\u001b[1;32mProcessed metadata: \u001b[0m\u001b[1;32m3\u001b[0m\u001b[1;32m unique documents\u001b[0m\n"
      ]
     },
     "metadata": {},
     "output_type": "display_data"
    },
    {
     "data": {
      "text/html": [
       "<pre style=\"white-space:pre;overflow-x:auto;line-height:normal;font-family:Menlo,'DejaVu Sans Mono',consolas,'Courier New',monospace\">23:59:29.710 | <span style=\"color: #008080; text-decoration-color: #008080\">INFO</span>    | Task run 'process_metadata-f0b' - Finished in state <span style=\"color: #008000; text-decoration-color: #008000\">Completed</span>()\n",
       "</pre>\n"
      ],
      "text/plain": [
       "23:59:29.710 | \u001b[36mINFO\u001b[0m    | Task run 'process_metadata-f0b' - Finished in state \u001b[32mCompleted\u001b[0m()\n"
      ]
     },
     "metadata": {},
     "output_type": "display_data"
    },
    {
     "name": "stdout",
     "output_type": "stream",
     "text": [
      "\n",
      "\u001b[1;31mGive Feedback / Get Help: https://github.com/BerriAI/litellm/issues/new\u001b[0m\n",
      "LiteLLM.Info: If you need to debug this error, use `litellm.set_verbose=True'.\n",
      "\n"
     ]
    },
    {
     "data": {
      "text/html": [
       "<pre style=\"white-space:pre;overflow-x:auto;line-height:normal;font-family:Menlo,'DejaVu Sans Mono',consolas,'Courier New',monospace\">23:59:34.225 | <span style=\"color: #d70000; text-decoration-color: #d70000\">ERROR</span>   | prefect - LiteLLM Error &gt;&gt;&gt; litellm.APIConnectionError: 'name'\n",
       "Traceback (most recent call last):\n",
       "  File \"/home/rakesh/RD/NSRTech/Tauri/NextjsTauriShadCn/nst/.venv/lib/python3.12/site-packages/litellm/main.py\", line 2673, in completion\n",
       "    generator = ollama.get_ollama_response(\n",
       "                ^^^^^^^^^^^^^^^^^^^^^^^^^^^\n",
       "  File \"/home/rakesh/RD/NSRTech/Tauri/NextjsTauriShadCn/nst/.venv/lib/python3.12/site-packages/litellm/llms/ollama/completion/handler.py\", line 166, in get_ollama_response\n",
       "    \"name\": function_call[\"name\"],\n",
       "            ~~~~~~~~~~~~~^^^^^^^^\n",
       "KeyError: 'name'\n",
       "\n",
       "</pre>\n"
      ],
      "text/plain": [
       "23:59:34.225 | \u001b[38;5;160mERROR\u001b[0m   | prefect - LiteLLM Error >>> litellm.APIConnectionError: 'name'\n",
       "Traceback (most recent call last):\n",
       "  File \"/home/rakesh/RD/NSRTech/Tauri/NextjsTauriShadCn/nst/.venv/lib/python3.12/site-packages/litellm/main.py\", line 2673, in completion\n",
       "    generator = ollama.get_ollama_response(\n",
       "                ^^^^^^^^^^^^^^^^^^^^^^^^^^^\n",
       "  File \"/home/rakesh/RD/NSRTech/Tauri/NextjsTauriShadCn/nst/.venv/lib/python3.12/site-packages/litellm/llms/ollama/completion/handler.py\", line 166, in get_ollama_response\n",
       "    \"name\": function_call[\"name\"],\n",
       "            ~~~~~~~~~~~~~^^^^^^^^\n",
       "KeyError: 'name'\n",
       "\n"
      ]
     },
     "metadata": {},
     "output_type": "display_data"
    },
    {
     "data": {
      "text/html": [
       "<pre style=\"white-space:pre;overflow-x:auto;line-height:normal;font-family:Menlo,'DejaVu Sans Mono',consolas,'Courier New',monospace\"><span style=\"color: #800000; text-decoration-color: #800000; font-weight: bold\">LiteLLM Error:</span> litellm.APIConnectionError: <span style=\"color: #008000; text-decoration-color: #008000\">'name'</span>\n",
       "Traceback <span style=\"font-weight: bold\">(</span>most recent call last<span style=\"font-weight: bold\">)</span>:\n",
       "  File <span style=\"color: #008000; text-decoration-color: #008000\">\"/home/rakesh/RD/NSRTech/Tauri/NextjsTauriShadCn/nst/.venv/lib/python3.12/site-packages/litellm/main.py\"</span>, \n",
       "line <span style=\"color: #008080; text-decoration-color: #008080; font-weight: bold\">2673</span>, in completion\n",
       "    generator = <span style=\"color: #800080; text-decoration-color: #800080; font-weight: bold\">ollama.get_ollama_response</span><span style=\"font-weight: bold\">(</span>\n",
       "                ^^^^^^^^^^^^^^^^^^^^^^^^^^^\n",
       "  File \n",
       "<span style=\"color: #008000; text-decoration-color: #008000\">\"/home/rakesh/RD/NSRTech/Tauri/NextjsTauriShadCn/nst/.venv/lib/python3.12/site-packages/litellm/llms/ollama/complet</span>\n",
       "<span style=\"color: #008000; text-decoration-color: #008000\">ion/handler.py\"</span>, line <span style=\"color: #008080; text-decoration-color: #008080; font-weight: bold\">166</span>, in get_ollama_response\n",
       "    <span style=\"color: #008000; text-decoration-color: #008000\">\"name\"</span>: function_call<span style=\"font-weight: bold\">[</span><span style=\"color: #008000; text-decoration-color: #008000\">\"name\"</span><span style=\"font-weight: bold\">]</span>,\n",
       "            ~~~~~~~~~~~~~^^^^^^^^\n",
       "KeyError: <span style=\"color: #008000; text-decoration-color: #008000\">'name'</span>\n",
       "\n",
       "</pre>\n"
      ],
      "text/plain": [
       "\u001b[1;31mLiteLLM Error:\u001b[0m litellm.APIConnectionError: \u001b[32m'name'\u001b[0m\n",
       "Traceback \u001b[1m(\u001b[0mmost recent call last\u001b[1m)\u001b[0m:\n",
       "  File \u001b[32m\"/home/rakesh/RD/NSRTech/Tauri/NextjsTauriShadCn/nst/.venv/lib/python3.12/site-packages/litellm/main.py\"\u001b[0m, \n",
       "line \u001b[1;36m2673\u001b[0m, in completion\n",
       "    generator = \u001b[1;35mollama.get_ollama_response\u001b[0m\u001b[1m(\u001b[0m\n",
       "                ^^^^^^^^^^^^^^^^^^^^^^^^^^^\n",
       "  File \n",
       "\u001b[32m\"/home/rakesh/RD/NSRTech/Tauri/NextjsTauriShadCn/nst/.venv/lib/python3.12/site-packages/litellm/llms/ollama/complet\u001b[0m\n",
       "\u001b[32mion/handler.py\"\u001b[0m, line \u001b[1;36m166\u001b[0m, in get_ollama_response\n",
       "    \u001b[32m\"name\"\u001b[0m: function_call\u001b[1m[\u001b[0m\u001b[32m\"name\"\u001b[0m\u001b[1m]\u001b[0m,\n",
       "            ~~~~~~~~~~~~~^^^^^^^^\n",
       "KeyError: \u001b[32m'name'\u001b[0m\n",
       "\n"
      ]
     },
     "metadata": {},
     "output_type": "display_data"
    },
    {
     "data": {
      "text/html": [
       "<pre style=\"white-space:pre;overflow-x:auto;line-height:normal;font-family:Menlo,'DejaVu Sans Mono',consolas,'Courier New',monospace\">23:59:34.232 | <span style=\"color: #008080; text-decoration-color: #008080\">INFO</span>    | Task run 'query_summaries-f7d' - Finished in state <span style=\"color: #008000; text-decoration-color: #008000\">Completed</span>()\n",
       "</pre>\n"
      ],
      "text/plain": [
       "23:59:34.232 | \u001b[36mINFO\u001b[0m    | Task run 'query_summaries-f7d' - Finished in state \u001b[32mCompleted\u001b[0m()\n"
      ]
     },
     "metadata": {},
     "output_type": "display_data"
    },
    {
     "name": "stdout",
     "output_type": "stream",
     "text": [
      "\n",
      "\u001b[1;31mGive Feedback / Get Help: https://github.com/BerriAI/litellm/issues/new\u001b[0m\n",
      "LiteLLM.Info: If you need to debug this error, use `litellm.set_verbose=True'.\n",
      "\n"
     ]
    },
    {
     "data": {
      "text/html": [
       "<pre style=\"white-space:pre;overflow-x:auto;line-height:normal;font-family:Menlo,'DejaVu Sans Mono',consolas,'Courier New',monospace\">23:59:35.930 | <span style=\"color: #d70000; text-decoration-color: #d70000\">ERROR</span>   | prefect - LiteLLM Error &gt;&gt;&gt; litellm.APIConnectionError: 'name'\n",
       "Traceback (most recent call last):\n",
       "  File \"/home/rakesh/RD/NSRTech/Tauri/NextjsTauriShadCn/nst/.venv/lib/python3.12/site-packages/litellm/main.py\", line 2673, in completion\n",
       "    generator = ollama.get_ollama_response(\n",
       "                ^^^^^^^^^^^^^^^^^^^^^^^^^^^\n",
       "  File \"/home/rakesh/RD/NSRTech/Tauri/NextjsTauriShadCn/nst/.venv/lib/python3.12/site-packages/litellm/llms/ollama/completion/handler.py\", line 166, in get_ollama_response\n",
       "    \"name\": function_call[\"name\"],\n",
       "            ~~~~~~~~~~~~~^^^^^^^^\n",
       "KeyError: 'name'\n",
       "\n",
       "</pre>\n"
      ],
      "text/plain": [
       "23:59:35.930 | \u001b[38;5;160mERROR\u001b[0m   | prefect - LiteLLM Error >>> litellm.APIConnectionError: 'name'\n",
       "Traceback (most recent call last):\n",
       "  File \"/home/rakesh/RD/NSRTech/Tauri/NextjsTauriShadCn/nst/.venv/lib/python3.12/site-packages/litellm/main.py\", line 2673, in completion\n",
       "    generator = ollama.get_ollama_response(\n",
       "                ^^^^^^^^^^^^^^^^^^^^^^^^^^^\n",
       "  File \"/home/rakesh/RD/NSRTech/Tauri/NextjsTauriShadCn/nst/.venv/lib/python3.12/site-packages/litellm/llms/ollama/completion/handler.py\", line 166, in get_ollama_response\n",
       "    \"name\": function_call[\"name\"],\n",
       "            ~~~~~~~~~~~~~^^^^^^^^\n",
       "KeyError: 'name'\n",
       "\n"
      ]
     },
     "metadata": {},
     "output_type": "display_data"
    },
    {
     "data": {
      "text/html": [
       "<pre style=\"white-space:pre;overflow-x:auto;line-height:normal;font-family:Menlo,'DejaVu Sans Mono',consolas,'Courier New',monospace\"><span style=\"color: #800000; text-decoration-color: #800000; font-weight: bold\">LiteLLM Error:</span> litellm.APIConnectionError: <span style=\"color: #008000; text-decoration-color: #008000\">'name'</span>\n",
       "Traceback <span style=\"font-weight: bold\">(</span>most recent call last<span style=\"font-weight: bold\">)</span>:\n",
       "  File <span style=\"color: #008000; text-decoration-color: #008000\">\"/home/rakesh/RD/NSRTech/Tauri/NextjsTauriShadCn/nst/.venv/lib/python3.12/site-packages/litellm/main.py\"</span>, \n",
       "line <span style=\"color: #008080; text-decoration-color: #008080; font-weight: bold\">2673</span>, in completion\n",
       "    generator = <span style=\"color: #800080; text-decoration-color: #800080; font-weight: bold\">ollama.get_ollama_response</span><span style=\"font-weight: bold\">(</span>\n",
       "                ^^^^^^^^^^^^^^^^^^^^^^^^^^^\n",
       "  File \n",
       "<span style=\"color: #008000; text-decoration-color: #008000\">\"/home/rakesh/RD/NSRTech/Tauri/NextjsTauriShadCn/nst/.venv/lib/python3.12/site-packages/litellm/llms/ollama/complet</span>\n",
       "<span style=\"color: #008000; text-decoration-color: #008000\">ion/handler.py\"</span>, line <span style=\"color: #008080; text-decoration-color: #008080; font-weight: bold\">166</span>, in get_ollama_response\n",
       "    <span style=\"color: #008000; text-decoration-color: #008000\">\"name\"</span>: function_call<span style=\"font-weight: bold\">[</span><span style=\"color: #008000; text-decoration-color: #008000\">\"name\"</span><span style=\"font-weight: bold\">]</span>,\n",
       "            ~~~~~~~~~~~~~^^^^^^^^\n",
       "KeyError: <span style=\"color: #008000; text-decoration-color: #008000\">'name'</span>\n",
       "\n",
       "</pre>\n"
      ],
      "text/plain": [
       "\u001b[1;31mLiteLLM Error:\u001b[0m litellm.APIConnectionError: \u001b[32m'name'\u001b[0m\n",
       "Traceback \u001b[1m(\u001b[0mmost recent call last\u001b[1m)\u001b[0m:\n",
       "  File \u001b[32m\"/home/rakesh/RD/NSRTech/Tauri/NextjsTauriShadCn/nst/.venv/lib/python3.12/site-packages/litellm/main.py\"\u001b[0m, \n",
       "line \u001b[1;36m2673\u001b[0m, in completion\n",
       "    generator = \u001b[1;35mollama.get_ollama_response\u001b[0m\u001b[1m(\u001b[0m\n",
       "                ^^^^^^^^^^^^^^^^^^^^^^^^^^^\n",
       "  File \n",
       "\u001b[32m\"/home/rakesh/RD/NSRTech/Tauri/NextjsTauriShadCn/nst/.venv/lib/python3.12/site-packages/litellm/llms/ollama/complet\u001b[0m\n",
       "\u001b[32mion/handler.py\"\u001b[0m, line \u001b[1;36m166\u001b[0m, in get_ollama_response\n",
       "    \u001b[32m\"name\"\u001b[0m: function_call\u001b[1m[\u001b[0m\u001b[32m\"name\"\u001b[0m\u001b[1m]\u001b[0m,\n",
       "            ~~~~~~~~~~~~~^^^^^^^^\n",
       "KeyError: \u001b[32m'name'\u001b[0m\n",
       "\n"
      ]
     },
     "metadata": {},
     "output_type": "display_data"
    },
    {
     "data": {
      "text/html": [
       "<pre style=\"white-space:pre;overflow-x:auto;line-height:normal;font-family:Menlo,'DejaVu Sans Mono',consolas,'Courier New',monospace\">23:59:35.935 | <span style=\"color: #008080; text-decoration-color: #008080\">INFO</span>    | Task run 'create_file_tree-d04' - Finished in state <span style=\"color: #008000; text-decoration-color: #008000\">Completed</span>()\n",
       "</pre>\n"
      ],
      "text/plain": [
       "23:59:35.935 | \u001b[36mINFO\u001b[0m    | Task run 'create_file_tree-d04' - Finished in state \u001b[32mCompleted\u001b[0m()\n"
      ]
     },
     "metadata": {},
     "output_type": "display_data"
    },
    {
     "data": {
      "text/html": [
       "<pre style=\"white-space:pre;overflow-x:auto;line-height:normal;font-family:Menlo,'DejaVu Sans Mono',consolas,'Courier New',monospace\">23:59:35.962 | <span style=\"color: #008080; text-decoration-color: #008080\">INFO</span>    | prefect - All necessary subdirectories created.\n",
       "</pre>\n"
      ],
      "text/plain": [
       "23:59:35.962 | \u001b[36mINFO\u001b[0m    | prefect - All necessary subdirectories created.\n"
      ]
     },
     "metadata": {},
     "output_type": "display_data"
    },
    {
     "data": {
      "text/html": [
       "<pre style=\"white-space:pre;overflow-x:auto;line-height:normal;font-family:Menlo,'DejaVu Sans Mono',consolas,'Courier New',monospace\"><span style=\"color: #008000; text-decoration-color: #008000; font-weight: bold\">All necessary subdirectories created.</span>\n",
       "</pre>\n"
      ],
      "text/plain": [
       "\u001b[1;32mAll necessary subdirectories created.\u001b[0m\n"
      ]
     },
     "metadata": {},
     "output_type": "display_data"
    },
    {
     "data": {
      "text/html": [
       "<pre style=\"white-space:pre;overflow-x:auto;line-height:normal;font-family:Menlo,'DejaVu Sans Mono',consolas,'Courier New',monospace\">23:59:35.965 | <span style=\"color: #008080; text-decoration-color: #008080\">INFO</span>    | Task run 'create_subdirectories-164' - Finished in state <span style=\"color: #008000; text-decoration-color: #008000\">Completed</span>()\n",
       "</pre>\n"
      ],
      "text/plain": [
       "23:59:35.965 | \u001b[36mINFO\u001b[0m    | Task run 'create_subdirectories-164' - Finished in state \u001b[32mCompleted\u001b[0m()\n"
      ]
     },
     "metadata": {},
     "output_type": "display_data"
    },
    {
     "data": {
      "text/html": [
       "<pre style=\"white-space:pre;overflow-x:auto;line-height:normal;font-family:Menlo,'DejaVu Sans Mono',consolas,'Courier New',monospace\">23:59:35.994 | <span style=\"color: #008080; text-decoration-color: #008080\">INFO</span>    | prefect - Concatenated summary and file tree for 0 files\n",
       "</pre>\n"
      ],
      "text/plain": [
       "23:59:35.994 | \u001b[36mINFO\u001b[0m    | prefect - Concatenated summary and file tree for 0 files\n"
      ]
     },
     "metadata": {},
     "output_type": "display_data"
    },
    {
     "data": {
      "text/html": [
       "<pre style=\"white-space:pre;overflow-x:auto;line-height:normal;font-family:Menlo,'DejaVu Sans Mono',consolas,'Courier New',monospace\"><span style=\"color: #008000; text-decoration-color: #008000; font-weight: bold\">Concatenated summary and file tree for </span><span style=\"color: #008000; text-decoration-color: #008000; font-weight: bold\">0</span><span style=\"color: #008000; text-decoration-color: #008000; font-weight: bold\"> files</span>\n",
       "</pre>\n"
      ],
      "text/plain": [
       "\u001b[1;32mConcatenated summary and file tree for \u001b[0m\u001b[1;32m0\u001b[0m\u001b[1;32m files\u001b[0m\n"
      ]
     },
     "metadata": {},
     "output_type": "display_data"
    },
    {
     "data": {
      "text/html": [
       "<pre style=\"white-space:pre;overflow-x:auto;line-height:normal;font-family:Menlo,'DejaVu Sans Mono',consolas,'Courier New',monospace\">23:59:36.000 | <span style=\"color: #008080; text-decoration-color: #008080\">INFO</span>    | Task run 'concatenate_summaries_and_file_tree-2ae' - Finished in state <span style=\"color: #008000; text-decoration-color: #008000\">Completed</span>()\n",
       "</pre>\n"
      ],
      "text/plain": [
       "23:59:36.000 | \u001b[36mINFO\u001b[0m    | Task run 'concatenate_summaries_and_file_tree-2ae' - Finished in state \u001b[32mCompleted\u001b[0m()\n"
      ]
     },
     "metadata": {},
     "output_type": "display_data"
    },
    {
     "data": {
      "text/html": [
       "<pre style=\"white-space:pre;overflow-x:auto;line-height:normal;font-family:Menlo,'DejaVu Sans Mono',consolas,'Courier New',monospace\"><span style=\"color: #800000; text-decoration-color: #800000; font-weight: bold\">No organized files to display.</span>\n",
       "</pre>\n"
      ],
      "text/plain": [
       "\u001b[1;31mNo organized files to display.\u001b[0m\n"
      ]
     },
     "metadata": {},
     "output_type": "display_data"
    },
    {
     "data": {
      "text/html": [
       "<pre style=\"white-space:pre;overflow-x:auto;line-height:normal;font-family:Menlo,'DejaVu Sans Mono',consolas,'Courier New',monospace\">23:59:36.038 | <span style=\"color: #008080; text-decoration-color: #008080\">INFO</span>    | Task run 'display_organized_files-2aa' - Finished in state <span style=\"color: #008000; text-decoration-color: #008000\">Completed</span>()\n",
       "</pre>\n"
      ],
      "text/plain": [
       "23:59:36.038 | \u001b[36mINFO\u001b[0m    | Task run 'display_organized_files-2aa' - Finished in state \u001b[32mCompleted\u001b[0m()\n"
      ]
     },
     "metadata": {},
     "output_type": "display_data"
    },
    {
     "data": {
      "text/html": [
       "<pre style=\"white-space:pre;overflow-x:auto;line-height:normal;font-family:Menlo,'DejaVu Sans Mono',consolas,'Courier New',monospace\"><span style=\"color: #800000; text-decoration-color: #800000; font-weight: bold\">No concatenated data to display.</span>\n",
       "</pre>\n"
      ],
      "text/plain": [
       "\u001b[1;31mNo concatenated data to display.\u001b[0m\n"
      ]
     },
     "metadata": {},
     "output_type": "display_data"
    },
    {
     "data": {
      "text/html": [
       "<pre style=\"white-space:pre;overflow-x:auto;line-height:normal;font-family:Menlo,'DejaVu Sans Mono',consolas,'Courier New',monospace\">23:59:36.061 | <span style=\"color: #008080; text-decoration-color: #008080\">INFO</span>    | Task run 'display_concatenated_dict-3a3' - Finished in state <span style=\"color: #008000; text-decoration-color: #008000\">Completed</span>()\n",
       "</pre>\n"
      ],
      "text/plain": [
       "23:59:36.061 | \u001b[36mINFO\u001b[0m    | Task run 'display_concatenated_dict-3a3' - Finished in state \u001b[32mCompleted\u001b[0m()\n"
      ]
     },
     "metadata": {},
     "output_type": "display_data"
    },
    {
     "data": {
      "text/html": [
       "<pre style=\"white-space:pre;overflow-x:auto;line-height:normal;font-family:Menlo,'DejaVu Sans Mono',consolas,'Courier New',monospace\">23:59:36.087 | <span style=\"color: #008080; text-decoration-color: #008080\">INFO</span>    | Flow run<span style=\"color: #800080; text-decoration-color: #800080\"> 'adept-pelican'</span> - Finished in state <span style=\"color: #008000; text-decoration-color: #008000\">Completed</span>()\n",
       "</pre>\n"
      ],
      "text/plain": [
       "23:59:36.087 | \u001b[36mINFO\u001b[0m    | Flow run\u001b[35m 'adept-pelican'\u001b[0m - Finished in state \u001b[32mCompleted\u001b[0m()\n"
      ]
     },
     "metadata": {},
     "output_type": "display_data"
    },
    {
     "data": {
      "text/html": [
       "<pre style=\"white-space:pre;overflow-x:auto;line-height:normal;font-family:Menlo,'DejaVu Sans Mono',consolas,'Courier New',monospace\"><span style=\"color: #808000; text-decoration-color: #808000; font-weight: bold\">Summaries:</span>\n",
       "</pre>\n"
      ],
      "text/plain": [
       "\u001b[1;33mSummaries:\u001b[0m\n"
      ]
     },
     "metadata": {},
     "output_type": "display_data"
    },
    {
     "name": "stdout",
     "output_type": "stream",
     "text": [
      "'{\\n    \"files\": [],\\n    \"cost\": 0.0\\n}'\n"
     ]
    },
    {
     "data": {
      "text/html": [
       "<pre style=\"white-space:pre;overflow-x:auto;line-height:normal;font-family:Menlo,'DejaVu Sans Mono',consolas,'Courier New',monospace\">\n",
       "<span style=\"color: #808000; text-decoration-color: #808000; font-weight: bold\">File Tree:</span>\n",
       "</pre>\n"
      ],
      "text/plain": [
       "\n",
       "\u001b[1;33mFile Tree:\u001b[0m\n"
      ]
     },
     "metadata": {},
     "output_type": "display_data"
    },
    {
     "name": "stdout",
     "output_type": "stream",
     "text": [
      "'[]'\n"
     ]
    },
    {
     "data": {
      "text/html": [
       "<pre style=\"white-space:pre;overflow-x:auto;line-height:normal;font-family:Menlo,'DejaVu Sans Mono',consolas,'Courier New',monospace\">\n",
       "<span style=\"color: #808000; text-decoration-color: #808000; font-weight: bold\">Concatenated Data:</span>\n",
       "</pre>\n"
      ],
      "text/plain": [
       "\n",
       "\u001b[1;33mConcatenated Data:\u001b[0m\n"
      ]
     },
     "metadata": {},
     "output_type": "display_data"
    },
    {
     "name": "stdout",
     "output_type": "stream",
     "text": [
      "'[]'\n"
     ]
    }
   ],
   "source": [
    "\n",
    "if __name__ == \"__main__\":\n",
    "    # Define your parameters\n",
    "    source_directory = \"/home/rakesh/Downloads/sample_data/four/\"  # Replace with your actual source documents path\n",
    "    destination_directory = \"/home/rakesh/Downloads/sample_data/four_organized_o/\"  # Replace with your desired destination path\n",
    "    api_host = \"localhost\"                                         # API host address (not needed if api_base is provided)\n",
    "    api_port = 8111                                                # API port number\n",
    "    summary_model = \"ollama/smollm2:135m\"\n",
    "    # tree_model = \"ollama/llama3.2:latest\"\n",
    "    tree_model = \"ollama/smollm2:135m\"\n",
    "    api_base_url = \"http://localhost:11434\"                        # Base URL for the API\n",
    "    use_streaming = False                                          # Set to True if you want streaming\n",
    "\n",
    "    # Ensure destination directory exists\n",
    "    os.makedirs(destination_directory, exist_ok=True)\n",
    "\n",
    "    # Run the workflow\n",
    "    organized_files_result = document_processing_workflow(\n",
    "        source_path=source_directory,\n",
    "        destination_path=destination_directory,\n",
    "        api_host=api_host,\n",
    "        api_port=api_port,\n",
    "        summary_model=summary_model,\n",
    "        tree_model=tree_model,\n",
    "        api_base=api_base_url,\n",
    "        stream=use_streaming\n",
    "    )\n",
    "\n",
    "    # Extract the results\n",
    "    summaries = organized_files_result.get(\"summaries\", {})\n",
    "    file_tree = organized_files_result.get(\"file_tree\", [])\n",
    "    concatenated_data = organized_files_result.get(\"concatenated_data\", [])\n",
    "\n",
    "    # Optionally, pretty-print the results using Rich\n",
    "    console.print(\"[bold yellow]Summaries:[/bold yellow]\")\n",
    "    pprint(json.dumps(summaries, indent=4))\n",
    "\n",
    "    console.print(\"\\n[bold yellow]File Tree:[/bold yellow]\")\n",
    "    pprint(json.dumps(file_tree, indent=4))\n",
    "\n",
    "    console.print(\"\\n[bold yellow]Concatenated Data:[/bold yellow]\")\n",
    "    pprint(json.dumps(concatenated_data, indent=4))\n"
   ]
  },
  {
   "cell_type": "markdown",
   "metadata": {},
   "source": [
    "### OpenRouter - gemini-2.0-flash-exp:free"
   ]
  },
  {
   "cell_type": "code",
   "execution_count": 36,
   "metadata": {},
   "outputs": [
    {
     "name": "stderr",
     "output_type": "stream",
     "text": [
      "23:59:36.148 | \u001b[31mERROR\u001b[0m   | uvicorn.error - Exception in ASGI application\n",
      "Traceback (most recent call last):\n",
      "  File \"/home/rakesh/RD/NSRTech/Tauri/NextjsTauriShadCn/nst/.venv/lib/python3.12/site-packages/sqlalchemy/engine/base.py\", line 1967, in _exec_single_context\n",
      "    self.dialect.do_execute(\n",
      "  File \"/home/rakesh/RD/NSRTech/Tauri/NextjsTauriShadCn/nst/.venv/lib/python3.12/site-packages/sqlalchemy/engine/default.py\", line 941, in do_execute\n",
      "    cursor.execute(statement, parameters)\n",
      "  File \"/home/rakesh/RD/NSRTech/Tauri/NextjsTauriShadCn/nst/.venv/lib/python3.12/site-packages/sqlalchemy/dialects/sqlite/aiosqlite.py\", line 147, in execute\n",
      "    self._adapt_connection._handle_exception(error)\n",
      "  File \"/home/rakesh/RD/NSRTech/Tauri/NextjsTauriShadCn/nst/.venv/lib/python3.12/site-packages/sqlalchemy/dialects/sqlite/aiosqlite.py\", line 298, in _handle_exception\n",
      "    raise error\n",
      "  File \"/home/rakesh/RD/NSRTech/Tauri/NextjsTauriShadCn/nst/.venv/lib/python3.12/site-packages/sqlalchemy/dialects/sqlite/aiosqlite.py\", line 129, in execute\n",
      "    self.await_(_cursor.execute(operation, parameters))\n",
      "  File \"/home/rakesh/RD/NSRTech/Tauri/NextjsTauriShadCn/nst/.venv/lib/python3.12/site-packages/sqlalchemy/util/_concurrency_py3k.py\", line 132, in await_only\n",
      "    return current.parent.switch(awaitable)  # type: ignore[no-any-return,attr-defined] # noqa: E501\n",
      "           ^^^^^^^^^^^^^^^^^^^^^^^^^^^^^^^^\n",
      "  File \"/home/rakesh/RD/NSRTech/Tauri/NextjsTauriShadCn/nst/.venv/lib/python3.12/site-packages/sqlalchemy/util/_concurrency_py3k.py\", line 196, in greenlet_spawn\n",
      "    value = await result\n",
      "            ^^^^^^^^^^^^\n",
      "  File \"/home/rakesh/RD/NSRTech/Tauri/NextjsTauriShadCn/nst/.venv/lib/python3.12/site-packages/aiosqlite/cursor.py\", line 48, in execute\n",
      "    await self._execute(self._cursor.execute, sql, parameters)\n",
      "  File \"/home/rakesh/RD/NSRTech/Tauri/NextjsTauriShadCn/nst/.venv/lib/python3.12/site-packages/aiosqlite/cursor.py\", line 40, in _execute\n",
      "    return await self._conn._execute(fn, *args, **kwargs)\n",
      "           ^^^^^^^^^^^^^^^^^^^^^^^^^^^^^^^^^^^^^^^^^^^^^^\n",
      "  File \"/home/rakesh/RD/NSRTech/Tauri/NextjsTauriShadCn/nst/.venv/lib/python3.12/site-packages/aiosqlite/core.py\", line 132, in _execute\n",
      "    return await future\n",
      "           ^^^^^^^^^^^^\n",
      "  File \"/home/rakesh/RD/NSRTech/Tauri/NextjsTauriShadCn/nst/.venv/lib/python3.12/site-packages/aiosqlite/core.py\", line 115, in run\n",
      "    result = function()\n",
      "             ^^^^^^^^^^\n",
      "sqlite3.OperationalError: database is locked\n",
      "\n",
      "The above exception was the direct cause of the following exception:\n",
      "\n",
      "Traceback (most recent call last):\n",
      "  File \"/home/rakesh/RD/NSRTech/Tauri/NextjsTauriShadCn/nst/.venv/lib/python3.12/site-packages/uvicorn/protocols/http/h11_impl.py\", line 403, in run_asgi\n",
      "    result = await app(  # type: ignore[func-returns-value]\n",
      "             ^^^^^^^^^^^^^^^^^^^^^^^^^^^^^^^^^^^^^^^^^^^^^^\n",
      "  File \"/home/rakesh/RD/NSRTech/Tauri/NextjsTauriShadCn/nst/.venv/lib/python3.12/site-packages/uvicorn/middleware/proxy_headers.py\", line 60, in __call__\n",
      "    return await self.app(scope, receive, send)\n",
      "           ^^^^^^^^^^^^^^^^^^^^^^^^^^^^^^^^^^^^\n",
      "  File \"/home/rakesh/RD/NSRTech/Tauri/NextjsTauriShadCn/nst/.venv/lib/python3.12/site-packages/fastapi/applications.py\", line 1054, in __call__\n",
      "    await super().__call__(scope, receive, send)\n",
      "  File \"/home/rakesh/RD/NSRTech/Tauri/NextjsTauriShadCn/nst/.venv/lib/python3.12/site-packages/starlette/applications.py\", line 113, in __call__\n",
      "    await self.middleware_stack(scope, receive, send)\n",
      "  File \"/home/rakesh/RD/NSRTech/Tauri/NextjsTauriShadCn/nst/.venv/lib/python3.12/site-packages/starlette/middleware/errors.py\", line 187, in __call__\n",
      "    raise exc\n",
      "  File \"/home/rakesh/RD/NSRTech/Tauri/NextjsTauriShadCn/nst/.venv/lib/python3.12/site-packages/starlette/middleware/errors.py\", line 165, in __call__\n",
      "    await self.app(scope, receive, _send)\n",
      "  File \"/home/rakesh/RD/NSRTech/Tauri/NextjsTauriShadCn/nst/.venv/lib/python3.12/site-packages/prefect/server/api/server.py\", line 149, in __call__\n",
      "    await self.app(scope, receive, send)\n",
      "  File \"/home/rakesh/RD/NSRTech/Tauri/NextjsTauriShadCn/nst/.venv/lib/python3.12/site-packages/starlette/middleware/cors.py\", line 85, in __call__\n",
      "    await self.app(scope, receive, send)\n",
      "  File \"/home/rakesh/RD/NSRTech/Tauri/NextjsTauriShadCn/nst/.venv/lib/python3.12/site-packages/starlette/middleware/exceptions.py\", line 62, in __call__\n",
      "    await wrap_app_handling_exceptions(self.app, conn)(scope, receive, send)\n",
      "  File \"/home/rakesh/RD/NSRTech/Tauri/NextjsTauriShadCn/nst/.venv/lib/python3.12/site-packages/starlette/_exception_handler.py\", line 53, in wrapped_app\n",
      "    raise exc\n",
      "  File \"/home/rakesh/RD/NSRTech/Tauri/NextjsTauriShadCn/nst/.venv/lib/python3.12/site-packages/starlette/_exception_handler.py\", line 42, in wrapped_app\n",
      "    await app(scope, receive, sender)\n",
      "  File \"/home/rakesh/RD/NSRTech/Tauri/NextjsTauriShadCn/nst/.venv/lib/python3.12/site-packages/starlette/routing.py\", line 715, in __call__\n",
      "    await self.middleware_stack(scope, receive, send)\n",
      "  File \"/home/rakesh/RD/NSRTech/Tauri/NextjsTauriShadCn/nst/.venv/lib/python3.12/site-packages/starlette/routing.py\", line 735, in app\n",
      "    await route.handle(scope, receive, send)\n",
      "  File \"/home/rakesh/RD/NSRTech/Tauri/NextjsTauriShadCn/nst/.venv/lib/python3.12/site-packages/starlette/routing.py\", line 460, in handle\n",
      "    await self.app(scope, receive, send)\n",
      "  File \"/home/rakesh/RD/NSRTech/Tauri/NextjsTauriShadCn/nst/.venv/lib/python3.12/site-packages/fastapi/applications.py\", line 1054, in __call__\n",
      "    await super().__call__(scope, receive, send)\n",
      "  File \"/home/rakesh/RD/NSRTech/Tauri/NextjsTauriShadCn/nst/.venv/lib/python3.12/site-packages/starlette/applications.py\", line 113, in __call__\n",
      "    await self.middleware_stack(scope, receive, send)\n",
      "  File \"/home/rakesh/RD/NSRTech/Tauri/NextjsTauriShadCn/nst/.venv/lib/python3.12/site-packages/starlette/middleware/errors.py\", line 187, in __call__\n",
      "    raise exc\n",
      "  File \"/home/rakesh/RD/NSRTech/Tauri/NextjsTauriShadCn/nst/.venv/lib/python3.12/site-packages/starlette/middleware/errors.py\", line 165, in __call__\n",
      "    await self.app(scope, receive, _send)\n",
      "  File \"/home/rakesh/RD/NSRTech/Tauri/NextjsTauriShadCn/nst/.venv/lib/python3.12/site-packages/starlette/middleware/gzip.py\", line 20, in __call__\n",
      "    await responder(scope, receive, send)\n",
      "  File \"/home/rakesh/RD/NSRTech/Tauri/NextjsTauriShadCn/nst/.venv/lib/python3.12/site-packages/starlette/middleware/gzip.py\", line 39, in __call__\n",
      "    await self.app(scope, receive, self.send_with_gzip)\n",
      "  File \"/home/rakesh/RD/NSRTech/Tauri/NextjsTauriShadCn/nst/.venv/lib/python3.12/site-packages/starlette/middleware/exceptions.py\", line 62, in __call__\n",
      "    await wrap_app_handling_exceptions(self.app, conn)(scope, receive, send)\n",
      "  File \"/home/rakesh/RD/NSRTech/Tauri/NextjsTauriShadCn/nst/.venv/lib/python3.12/site-packages/starlette/_exception_handler.py\", line 53, in wrapped_app\n",
      "    raise exc\n",
      "  File \"/home/rakesh/RD/NSRTech/Tauri/NextjsTauriShadCn/nst/.venv/lib/python3.12/site-packages/starlette/_exception_handler.py\", line 42, in wrapped_app\n",
      "    await app(scope, receive, sender)\n",
      "  File \"/home/rakesh/RD/NSRTech/Tauri/NextjsTauriShadCn/nst/.venv/lib/python3.12/site-packages/starlette/routing.py\", line 715, in __call__\n",
      "    await self.middleware_stack(scope, receive, send)\n",
      "  File \"/home/rakesh/RD/NSRTech/Tauri/NextjsTauriShadCn/nst/.venv/lib/python3.12/site-packages/starlette/routing.py\", line 735, in app\n",
      "    await route.handle(scope, receive, send)\n",
      "  File \"/home/rakesh/RD/NSRTech/Tauri/NextjsTauriShadCn/nst/.venv/lib/python3.12/site-packages/starlette/routing.py\", line 288, in handle\n",
      "    await self.app(scope, receive, send)\n",
      "  File \"/home/rakesh/RD/NSRTech/Tauri/NextjsTauriShadCn/nst/.venv/lib/python3.12/site-packages/starlette/routing.py\", line 76, in app\n",
      "    await wrap_app_handling_exceptions(app, request)(scope, receive, send)\n",
      "  File \"/home/rakesh/RD/NSRTech/Tauri/NextjsTauriShadCn/nst/.venv/lib/python3.12/site-packages/starlette/_exception_handler.py\", line 53, in wrapped_app\n",
      "    raise exc\n",
      "  File \"/home/rakesh/RD/NSRTech/Tauri/NextjsTauriShadCn/nst/.venv/lib/python3.12/site-packages/starlette/_exception_handler.py\", line 42, in wrapped_app\n",
      "    await app(scope, receive, sender)\n",
      "  File \"/home/rakesh/RD/NSRTech/Tauri/NextjsTauriShadCn/nst/.venv/lib/python3.12/site-packages/starlette/routing.py\", line 73, in app\n",
      "    response = await f(request)\n",
      "               ^^^^^^^^^^^^^^^^\n",
      "  File \"/home/rakesh/RD/NSRTech/Tauri/NextjsTauriShadCn/nst/.venv/lib/python3.12/site-packages/prefect/server/utilities/server.py\", line 47, in handle_response_scoped_depends\n",
      "    response = await default_handler(request)\n",
      "               ^^^^^^^^^^^^^^^^^^^^^^^^^^^^^^\n",
      "  File \"/home/rakesh/RD/NSRTech/Tauri/NextjsTauriShadCn/nst/.venv/lib/python3.12/site-packages/fastapi/routing.py\", line 301, in app\n",
      "    raw_response = await run_endpoint_function(\n",
      "                   ^^^^^^^^^^^^^^^^^^^^^^^^^^^^\n",
      "  File \"/home/rakesh/RD/NSRTech/Tauri/NextjsTauriShadCn/nst/.venv/lib/python3.12/site-packages/fastapi/routing.py\", line 212, in run_endpoint_function\n",
      "    return await dependant.call(**values)\n",
      "           ^^^^^^^^^^^^^^^^^^^^^^^^^^^^^^\n",
      "  File \"/home/rakesh/RD/NSRTech/Tauri/NextjsTauriShadCn/nst/.venv/lib/python3.12/site-packages/prefect/server/api/flow_runs.py\", line 86, in create_flow_run\n",
      "    model = await models.flow_runs.create_flow_run(\n",
      "            ^^^^^^^^^^^^^^^^^^^^^^^^^^^^^^^^^^^^^^^\n",
      "  File \"/home/rakesh/RD/NSRTech/Tauri/NextjsTauriShadCn/nst/.venv/lib/python3.12/site-packages/prefect/server/models/flow_runs.py\", line 103, in create_flow_run\n",
      "    await session.flush()\n",
      "  File \"/home/rakesh/RD/NSRTech/Tauri/NextjsTauriShadCn/nst/.venv/lib/python3.12/site-packages/sqlalchemy/ext/asyncio/session.py\", line 800, in flush\n",
      "    await greenlet_spawn(self.sync_session.flush, objects=objects)\n",
      "  File \"/home/rakesh/RD/NSRTech/Tauri/NextjsTauriShadCn/nst/.venv/lib/python3.12/site-packages/sqlalchemy/util/_concurrency_py3k.py\", line 203, in greenlet_spawn\n",
      "    result = context.switch(value)\n",
      "             ^^^^^^^^^^^^^^^^^^^^^\n",
      "  File \"/home/rakesh/RD/NSRTech/Tauri/NextjsTauriShadCn/nst/.venv/lib/python3.12/site-packages/sqlalchemy/orm/session.py\", line 4352, in flush\n",
      "    self._flush(objects)\n",
      "  File \"/home/rakesh/RD/NSRTech/Tauri/NextjsTauriShadCn/nst/.venv/lib/python3.12/site-packages/sqlalchemy/orm/session.py\", line 4487, in _flush\n",
      "    with util.safe_reraise():\n",
      "         ^^^^^^^^^^^^^^^^^^^\n",
      "  File \"/home/rakesh/RD/NSRTech/Tauri/NextjsTauriShadCn/nst/.venv/lib/python3.12/site-packages/sqlalchemy/util/langhelpers.py\", line 146, in __exit__\n",
      "    raise exc_value.with_traceback(exc_tb)\n",
      "  File \"/home/rakesh/RD/NSRTech/Tauri/NextjsTauriShadCn/nst/.venv/lib/python3.12/site-packages/sqlalchemy/orm/session.py\", line 4448, in _flush\n",
      "    flush_context.execute()\n",
      "  File \"/home/rakesh/RD/NSRTech/Tauri/NextjsTauriShadCn/nst/.venv/lib/python3.12/site-packages/sqlalchemy/orm/unitofwork.py\", line 466, in execute\n",
      "    rec.execute(self)\n",
      "  File \"/home/rakesh/RD/NSRTech/Tauri/NextjsTauriShadCn/nst/.venv/lib/python3.12/site-packages/sqlalchemy/orm/unitofwork.py\", line 642, in execute\n",
      "    util.preloaded.orm_persistence.save_obj(\n",
      "  File \"/home/rakesh/RD/NSRTech/Tauri/NextjsTauriShadCn/nst/.venv/lib/python3.12/site-packages/sqlalchemy/orm/persistence.py\", line 93, in save_obj\n",
      "    _emit_insert_statements(\n",
      "  File \"/home/rakesh/RD/NSRTech/Tauri/NextjsTauriShadCn/nst/.venv/lib/python3.12/site-packages/sqlalchemy/orm/persistence.py\", line 1233, in _emit_insert_statements\n",
      "    result = connection.execute(\n",
      "             ^^^^^^^^^^^^^^^^^^^\n",
      "  File \"/home/rakesh/RD/NSRTech/Tauri/NextjsTauriShadCn/nst/.venv/lib/python3.12/site-packages/sqlalchemy/engine/base.py\", line 1418, in execute\n",
      "    return meth(\n",
      "           ^^^^^\n",
      "  File \"/home/rakesh/RD/NSRTech/Tauri/NextjsTauriShadCn/nst/.venv/lib/python3.12/site-packages/sqlalchemy/sql/elements.py\", line 515, in _execute_on_connection\n",
      "    return connection._execute_clauseelement(\n",
      "           ^^^^^^^^^^^^^^^^^^^^^^^^^^^^^^^^^^\n",
      "  File \"/home/rakesh/RD/NSRTech/Tauri/NextjsTauriShadCn/nst/.venv/lib/python3.12/site-packages/sqlalchemy/engine/base.py\", line 1640, in _execute_clauseelement\n",
      "    ret = self._execute_context(\n",
      "          ^^^^^^^^^^^^^^^^^^^^^^\n",
      "  File \"/home/rakesh/RD/NSRTech/Tauri/NextjsTauriShadCn/nst/.venv/lib/python3.12/site-packages/sqlalchemy/engine/base.py\", line 1846, in _execute_context\n",
      "    return self._exec_single_context(\n",
      "           ^^^^^^^^^^^^^^^^^^^^^^^^^^\n",
      "  File \"/home/rakesh/RD/NSRTech/Tauri/NextjsTauriShadCn/nst/.venv/lib/python3.12/site-packages/sqlalchemy/engine/base.py\", line 1986, in _exec_single_context\n",
      "    self._handle_dbapi_exception(\n",
      "  File \"/home/rakesh/RD/NSRTech/Tauri/NextjsTauriShadCn/nst/.venv/lib/python3.12/site-packages/sqlalchemy/engine/base.py\", line 2355, in _handle_dbapi_exception\n",
      "    raise sqlalchemy_exception.with_traceback(exc_info[2]) from e\n",
      "  File \"/home/rakesh/RD/NSRTech/Tauri/NextjsTauriShadCn/nst/.venv/lib/python3.12/site-packages/sqlalchemy/engine/base.py\", line 1967, in _exec_single_context\n",
      "    self.dialect.do_execute(\n",
      "  File \"/home/rakesh/RD/NSRTech/Tauri/NextjsTauriShadCn/nst/.venv/lib/python3.12/site-packages/sqlalchemy/engine/default.py\", line 941, in do_execute\n",
      "    cursor.execute(statement, parameters)\n",
      "  File \"/home/rakesh/RD/NSRTech/Tauri/NextjsTauriShadCn/nst/.venv/lib/python3.12/site-packages/sqlalchemy/dialects/sqlite/aiosqlite.py\", line 147, in execute\n",
      "    self._adapt_connection._handle_exception(error)\n",
      "  File \"/home/rakesh/RD/NSRTech/Tauri/NextjsTauriShadCn/nst/.venv/lib/python3.12/site-packages/sqlalchemy/dialects/sqlite/aiosqlite.py\", line 298, in _handle_exception\n",
      "    raise error\n",
      "  File \"/home/rakesh/RD/NSRTech/Tauri/NextjsTauriShadCn/nst/.venv/lib/python3.12/site-packages/sqlalchemy/dialects/sqlite/aiosqlite.py\", line 129, in execute\n",
      "    self.await_(_cursor.execute(operation, parameters))\n",
      "  File \"/home/rakesh/RD/NSRTech/Tauri/NextjsTauriShadCn/nst/.venv/lib/python3.12/site-packages/sqlalchemy/util/_concurrency_py3k.py\", line 132, in await_only\n",
      "    return current.parent.switch(awaitable)  # type: ignore[no-any-return,attr-defined] # noqa: E501\n",
      "           ^^^^^^^^^^^^^^^^^^^^^^^^^^^^^^^^\n",
      "  File \"/home/rakesh/RD/NSRTech/Tauri/NextjsTauriShadCn/nst/.venv/lib/python3.12/site-packages/sqlalchemy/util/_concurrency_py3k.py\", line 196, in greenlet_spawn\n",
      "    value = await result\n",
      "            ^^^^^^^^^^^^\n",
      "  File \"/home/rakesh/RD/NSRTech/Tauri/NextjsTauriShadCn/nst/.venv/lib/python3.12/site-packages/aiosqlite/cursor.py\", line 48, in execute\n",
      "    await self._execute(self._cursor.execute, sql, parameters)\n",
      "  File \"/home/rakesh/RD/NSRTech/Tauri/NextjsTauriShadCn/nst/.venv/lib/python3.12/site-packages/aiosqlite/cursor.py\", line 40, in _execute\n",
      "    return await self._conn._execute(fn, *args, **kwargs)\n",
      "           ^^^^^^^^^^^^^^^^^^^^^^^^^^^^^^^^^^^^^^^^^^^^^^\n",
      "  File \"/home/rakesh/RD/NSRTech/Tauri/NextjsTauriShadCn/nst/.venv/lib/python3.12/site-packages/aiosqlite/core.py\", line 132, in _execute\n",
      "    return await future\n",
      "           ^^^^^^^^^^^^\n",
      "  File \"/home/rakesh/RD/NSRTech/Tauri/NextjsTauriShadCn/nst/.venv/lib/python3.12/site-packages/aiosqlite/core.py\", line 115, in run\n",
      "    result = function()\n",
      "             ^^^^^^^^^^\n",
      "sqlalchemy.exc.OperationalError: (sqlite3.OperationalError) database is locked\n",
      "[SQL: INSERT INTO flow_run (flow_id, deployment_id, work_queue_name, flow_version, deployment_version, parameters, idempotency_key, context, empirical_policy, tags, labels, created_by, infrastructure_pid, job_variables, infrastructure_document_id, parent_task_run_id, auto_scheduled, state_id, work_queue_id, name, state_type, state_name, state_timestamp, run_count, expected_start_time, next_scheduled_start_time, start_time, end_time, total_run_time, id, created, updated) VALUES (:flow_id, :deployment_id, :work_queue_name, :flow_version, :deployment_version, :parameters, :idempotency_key, :context, :empirical_policy, :tags, :labels, :created_by, :infrastructure_pid, :job_variables, :infrastructure_document_id, :parent_task_run_id, :auto_scheduled, :state_id, :work_queue_id, :name, :state_type, :state_name, :state_timestamp, :run_count, :expected_start_time, :next_scheduled_start_time, :start_time, :end_time, :total_run_time, :id, :created, :updated)]\n",
      "[parameters: {'flow_id': 'ab6aedf8-7173-4160-8736-f5a6197589ee', 'deployment_id': None, 'work_queue_name': None, 'flow_version': None, 'deployment_version': None, 'parameters': '{\"source_path\": \"/home/rakesh/Downloads/sample_data/four/\", \"destination_path\": \"/home/rakesh/Downloads/sample_data/four_organized_or/\", \"api_host\":  ... (67 characters truncated) ... gemini-2.0-flash-exp:free\", \"tree_model\": \"openrouter/google/gemini-2.0-flash-exp:free\", \"api_base\": \"\u001b[94mhttps://openrouter.ai/api/v1\u001b[0m\", \"stream\": false}', 'idempotency_key': None, 'context': '{}', 'empirical_policy': '{\"max_retries\": 0, \"retry_delay_seconds\": 0.0, \"retries\": 0, \"retry_delay\": 0, \"pause_keys\": [], \"resuming\": false, \"retry_type\": null}', 'tags': '[]', 'labels': '{\"prefect.flow.id\": \"ab6aedf8-7173-4160-8736-f5a6197589ee\"}', 'created_by': None, 'infrastructure_pid': None, 'job_variables': '{}', 'infrastructure_document_id': None, 'parent_task_run_id': None, 'auto_scheduled': 0, 'state_id': None, 'work_queue_id': None, 'name': 'spiked-bear', 'state_type': None, 'state_name': None, 'state_timestamp': None, 'run_count': 0, 'expected_start_time': None, 'next_scheduled_start_time': None, 'start_time': None, 'end_time': None, 'total_run_time': '1970-01-01 00:00:00.000000', 'id': '76fc6548-46d9-4314-a0ab-a5d32a8a9d73', 'created': '2024-12-19 04:59:36.139194', 'updated': '2024-12-19 04:59:36.146752'}]\n",
      "(Background on this error at: \u001b[94mhttps://sqlalche.me/e/20/e3q8)\u001b[0m\n"
     ]
    },
    {
     "data": {
      "text/html": [
       "<pre style=\"white-space:pre;overflow-x:auto;line-height:normal;font-family:Menlo,'DejaVu Sans Mono',consolas,'Courier New',monospace\">23:59:38.519 | <span style=\"color: #008080; text-decoration-color: #008080\">INFO</span>    | prefect.engine - Created flow run<span style=\"color: #800080; text-decoration-color: #800080\"> 'unbiased-aardwark'</span> for flow<span style=\"color: #800080; text-decoration-color: #800080; font-weight: bold\"> 'Document Processing Workflow'</span>\n",
       "</pre>\n"
      ],
      "text/plain": [
       "23:59:38.519 | \u001b[36mINFO\u001b[0m    | prefect.engine - Created flow run\u001b[35m 'unbiased-aardwark'\u001b[0m for flow\u001b[1;35m 'Document Processing Workflow'\u001b[0m\n"
      ]
     },
     "metadata": {},
     "output_type": "display_data"
    },
    {
     "data": {
      "text/html": [
       "<pre style=\"white-space:pre;overflow-x:auto;line-height:normal;font-family:Menlo,'DejaVu Sans Mono',consolas,'Courier New',monospace\">23:59:38.576 | <span style=\"color: #008080; text-decoration-color: #008080\">INFO</span>    | prefect - Success callback set successfully.\n",
       "</pre>\n"
      ],
      "text/plain": [
       "23:59:38.576 | \u001b[36mINFO\u001b[0m    | prefect - Success callback set successfully.\n"
      ]
     },
     "metadata": {},
     "output_type": "display_data"
    },
    {
     "data": {
      "text/html": [
       "<pre style=\"white-space:pre;overflow-x:auto;line-height:normal;font-family:Menlo,'DejaVu Sans Mono',consolas,'Courier New',monospace\">23:59:38.578 | <span style=\"color: #008080; text-decoration-color: #008080\">INFO</span>    | Task run 'set_success_callback-0cc' - Finished in state <span style=\"color: #008000; text-decoration-color: #008000\">Completed</span>()\n",
       "</pre>\n"
      ],
      "text/plain": [
       "23:59:38.578 | \u001b[36mINFO\u001b[0m    | Task run 'set_success_callback-0cc' - Finished in state \u001b[32mCompleted\u001b[0m()\n"
      ]
     },
     "metadata": {},
     "output_type": "display_data"
    },
    {
     "data": {
      "text/html": [
       "<pre style=\"white-space:pre;overflow-x:auto;line-height:normal;font-family:Menlo,'DejaVu Sans Mono',consolas,'Courier New',monospace\"><span style=\"font-style: italic\">                                              Available Ollama Models                                              </span>\n",
       "                   ╷              ╷              ╷              ╷            ╷             ╷        ╷              \n",
       " <span style=\"font-weight: bold\"> Model Name       </span>│<span style=\"font-weight: bold\"> Modified At  </span>│<span style=\"font-weight: bold\"> Digest       </span>│<span style=\"font-weight: bold\"> Size (bytes) </span>│<span style=\"font-weight: bold\"> Param Size </span>│<span style=\"font-weight: bold\"> Quant Level </span>│<span style=\"font-weight: bold\"> Family </span>│<span style=\"font-weight: bold\"> Families    </span> \n",
       " ══════════════════╪══════════════╪══════════════╪══════════════╪════════════╪═════════════╪════════╪═════════════ \n",
       " <span style=\"color: #008080; text-decoration-color: #008080\"> smollm2:135m     </span>│<span style=\"color: #800080; text-decoration-color: #800080\"> 2024-12-18   </span>│<span style=\"color: #008000; text-decoration-color: #008000\"> 9077fe9d2ae… </span>│<span style=\"color: #808000; text-decoration-color: #808000\">    270898672 </span>│<span style=\"color: #808000; text-decoration-color: #808000\">    134.52M </span>│<span style=\"color: #000080; text-decoration-color: #000080\"> F16         </span>│<span style=\"color: #800000; text-decoration-color: #800000\"> llama  </span>│<span style=\"color: #800000; text-decoration-color: #800000\"> llama       </span> \n",
       " <span style=\"color: #008080; text-decoration-color: #008080\">                  </span>│<span style=\"color: #800080; text-decoration-color: #800080\"> 11:49:06.80… </span>│<span style=\"color: #008000; text-decoration-color: #008000\">              </span>│<span style=\"color: #808000; text-decoration-color: #808000\">              </span>│<span style=\"color: #808000; text-decoration-color: #808000\">            </span>│<span style=\"color: #000080; text-decoration-color: #000080\">             </span>│<span style=\"color: #800000; text-decoration-color: #800000\">        </span>│<span style=\"color: #800000; text-decoration-color: #800000\">             </span> \n",
       " <span style=\"color: #008080; text-decoration-color: #008080\"> llava:latest     </span>│<span style=\"color: #800080; text-decoration-color: #800080\"> 2024-12-07   </span>│<span style=\"color: #008000; text-decoration-color: #008000\"> 8dd30f6b0cb… </span>│<span style=\"color: #808000; text-decoration-color: #808000\">   4733363377 </span>│<span style=\"color: #808000; text-decoration-color: #808000\">         7B </span>│<span style=\"color: #000080; text-decoration-color: #000080\"> Q4_0        </span>│<span style=\"color: #800000; text-decoration-color: #800000\"> llama  </span>│<span style=\"color: #800000; text-decoration-color: #800000\"> llama, clip </span> \n",
       " <span style=\"color: #008080; text-decoration-color: #008080\">                  </span>│<span style=\"color: #800080; text-decoration-color: #800080\"> 23:46:35.56… </span>│<span style=\"color: #008000; text-decoration-color: #008000\">              </span>│<span style=\"color: #808000; text-decoration-color: #808000\">              </span>│<span style=\"color: #808000; text-decoration-color: #808000\">            </span>│<span style=\"color: #000080; text-decoration-color: #000080\">             </span>│<span style=\"color: #800000; text-decoration-color: #800000\">        </span>│<span style=\"color: #800000; text-decoration-color: #800000\">             </span> \n",
       " <span style=\"color: #008080; text-decoration-color: #008080\"> moondream:latest </span>│<span style=\"color: #800080; text-decoration-color: #800080\"> 2024-12-07   </span>│<span style=\"color: #008000; text-decoration-color: #008000\"> 55fc3abd386… </span>│<span style=\"color: #808000; text-decoration-color: #808000\">   1738451197 </span>│<span style=\"color: #808000; text-decoration-color: #808000\">         1B </span>│<span style=\"color: #000080; text-decoration-color: #000080\"> Q4_0        </span>│<span style=\"color: #800000; text-decoration-color: #800000\"> phi2   </span>│<span style=\"color: #800000; text-decoration-color: #800000\"> phi2, clip  </span> \n",
       " <span style=\"color: #008080; text-decoration-color: #008080\">                  </span>│<span style=\"color: #800080; text-decoration-color: #800080\"> 22:19:46.41… </span>│<span style=\"color: #008000; text-decoration-color: #008000\">              </span>│<span style=\"color: #808000; text-decoration-color: #808000\">              </span>│<span style=\"color: #808000; text-decoration-color: #808000\">            </span>│<span style=\"color: #000080; text-decoration-color: #000080\">             </span>│<span style=\"color: #800000; text-decoration-color: #800000\">        </span>│<span style=\"color: #800000; text-decoration-color: #800000\">             </span> \n",
       " <span style=\"color: #008080; text-decoration-color: #008080\"> llama3.2:latest  </span>│<span style=\"color: #800080; text-decoration-color: #800080\"> 2024-12-07   </span>│<span style=\"color: #008000; text-decoration-color: #008000\"> a80c4f17acd… </span>│<span style=\"color: #808000; text-decoration-color: #808000\">   2019393189 </span>│<span style=\"color: #808000; text-decoration-color: #808000\">       3.2B </span>│<span style=\"color: #000080; text-decoration-color: #000080\"> Q4_K_M      </span>│<span style=\"color: #800000; text-decoration-color: #800000\"> llama  </span>│<span style=\"color: #800000; text-decoration-color: #800000\"> llama       </span> \n",
       " <span style=\"color: #008080; text-decoration-color: #008080\">                  </span>│<span style=\"color: #800080; text-decoration-color: #800080\"> 22:18:36.84… </span>│<span style=\"color: #008000; text-decoration-color: #008000\">              </span>│<span style=\"color: #808000; text-decoration-color: #808000\">              </span>│<span style=\"color: #808000; text-decoration-color: #808000\">            </span>│<span style=\"color: #000080; text-decoration-color: #000080\">             </span>│<span style=\"color: #800000; text-decoration-color: #800000\">        </span>│<span style=\"color: #800000; text-decoration-color: #800000\">             </span> \n",
       "                   ╵              ╵              ╵              ╵            ╵             ╵        ╵              \n",
       "</pre>\n"
      ],
      "text/plain": [
       "\u001b[3m                                              Available Ollama Models                                              \u001b[0m\n",
       "                   ╷              ╷              ╷              ╷            ╷             ╷        ╷              \n",
       " \u001b[1m \u001b[0m\u001b[1mModel Name      \u001b[0m\u001b[1m \u001b[0m│\u001b[1m \u001b[0m\u001b[1mModified At \u001b[0m\u001b[1m \u001b[0m│\u001b[1m \u001b[0m\u001b[1mDigest      \u001b[0m\u001b[1m \u001b[0m│\u001b[1m \u001b[0m\u001b[1mSize (bytes)\u001b[0m\u001b[1m \u001b[0m│\u001b[1m \u001b[0m\u001b[1mParam Size\u001b[0m\u001b[1m \u001b[0m│\u001b[1m \u001b[0m\u001b[1mQuant Level\u001b[0m\u001b[1m \u001b[0m│\u001b[1m \u001b[0m\u001b[1mFamily\u001b[0m\u001b[1m \u001b[0m│\u001b[1m \u001b[0m\u001b[1mFamilies   \u001b[0m\u001b[1m \u001b[0m \n",
       " ══════════════════╪══════════════╪══════════════╪══════════════╪════════════╪═════════════╪════════╪═════════════ \n",
       " \u001b[36m \u001b[0m\u001b[36msmollm2:135m    \u001b[0m\u001b[36m \u001b[0m│\u001b[35m \u001b[0m\u001b[35m2024-12-18  \u001b[0m\u001b[35m \u001b[0m│\u001b[32m \u001b[0m\u001b[32m9077fe9d2ae…\u001b[0m\u001b[32m \u001b[0m│\u001b[33m \u001b[0m\u001b[33m   270898672\u001b[0m\u001b[33m \u001b[0m│\u001b[33m \u001b[0m\u001b[33m   134.52M\u001b[0m\u001b[33m \u001b[0m│\u001b[34m \u001b[0m\u001b[34mF16        \u001b[0m\u001b[34m \u001b[0m│\u001b[31m \u001b[0m\u001b[31mllama \u001b[0m\u001b[31m \u001b[0m│\u001b[31m \u001b[0m\u001b[31mllama      \u001b[0m\u001b[31m \u001b[0m \n",
       " \u001b[36m                  \u001b[0m│\u001b[35m \u001b[0m\u001b[35m11:49:06.80…\u001b[0m\u001b[35m \u001b[0m│\u001b[32m              \u001b[0m│\u001b[33m              \u001b[0m│\u001b[33m            \u001b[0m│\u001b[34m             \u001b[0m│\u001b[31m        \u001b[0m│\u001b[31m             \u001b[0m \n",
       " \u001b[36m \u001b[0m\u001b[36mllava:latest    \u001b[0m\u001b[36m \u001b[0m│\u001b[35m \u001b[0m\u001b[35m2024-12-07  \u001b[0m\u001b[35m \u001b[0m│\u001b[32m \u001b[0m\u001b[32m8dd30f6b0cb…\u001b[0m\u001b[32m \u001b[0m│\u001b[33m \u001b[0m\u001b[33m  4733363377\u001b[0m\u001b[33m \u001b[0m│\u001b[33m \u001b[0m\u001b[33m        7B\u001b[0m\u001b[33m \u001b[0m│\u001b[34m \u001b[0m\u001b[34mQ4_0       \u001b[0m\u001b[34m \u001b[0m│\u001b[31m \u001b[0m\u001b[31mllama \u001b[0m\u001b[31m \u001b[0m│\u001b[31m \u001b[0m\u001b[31mllama, clip\u001b[0m\u001b[31m \u001b[0m \n",
       " \u001b[36m                  \u001b[0m│\u001b[35m \u001b[0m\u001b[35m23:46:35.56…\u001b[0m\u001b[35m \u001b[0m│\u001b[32m              \u001b[0m│\u001b[33m              \u001b[0m│\u001b[33m            \u001b[0m│\u001b[34m             \u001b[0m│\u001b[31m        \u001b[0m│\u001b[31m             \u001b[0m \n",
       " \u001b[36m \u001b[0m\u001b[36mmoondream:latest\u001b[0m\u001b[36m \u001b[0m│\u001b[35m \u001b[0m\u001b[35m2024-12-07  \u001b[0m\u001b[35m \u001b[0m│\u001b[32m \u001b[0m\u001b[32m55fc3abd386…\u001b[0m\u001b[32m \u001b[0m│\u001b[33m \u001b[0m\u001b[33m  1738451197\u001b[0m\u001b[33m \u001b[0m│\u001b[33m \u001b[0m\u001b[33m        1B\u001b[0m\u001b[33m \u001b[0m│\u001b[34m \u001b[0m\u001b[34mQ4_0       \u001b[0m\u001b[34m \u001b[0m│\u001b[31m \u001b[0m\u001b[31mphi2  \u001b[0m\u001b[31m \u001b[0m│\u001b[31m \u001b[0m\u001b[31mphi2, clip \u001b[0m\u001b[31m \u001b[0m \n",
       " \u001b[36m                  \u001b[0m│\u001b[35m \u001b[0m\u001b[35m22:19:46.41…\u001b[0m\u001b[35m \u001b[0m│\u001b[32m              \u001b[0m│\u001b[33m              \u001b[0m│\u001b[33m            \u001b[0m│\u001b[34m             \u001b[0m│\u001b[31m        \u001b[0m│\u001b[31m             \u001b[0m \n",
       " \u001b[36m \u001b[0m\u001b[36mllama3.2:latest \u001b[0m\u001b[36m \u001b[0m│\u001b[35m \u001b[0m\u001b[35m2024-12-07  \u001b[0m\u001b[35m \u001b[0m│\u001b[32m \u001b[0m\u001b[32ma80c4f17acd…\u001b[0m\u001b[32m \u001b[0m│\u001b[33m \u001b[0m\u001b[33m  2019393189\u001b[0m\u001b[33m \u001b[0m│\u001b[33m \u001b[0m\u001b[33m      3.2B\u001b[0m\u001b[33m \u001b[0m│\u001b[34m \u001b[0m\u001b[34mQ4_K_M     \u001b[0m\u001b[34m \u001b[0m│\u001b[31m \u001b[0m\u001b[31mllama \u001b[0m\u001b[31m \u001b[0m│\u001b[31m \u001b[0m\u001b[31mllama      \u001b[0m\u001b[31m \u001b[0m \n",
       " \u001b[36m                  \u001b[0m│\u001b[35m \u001b[0m\u001b[35m22:18:36.84…\u001b[0m\u001b[35m \u001b[0m│\u001b[32m              \u001b[0m│\u001b[33m              \u001b[0m│\u001b[33m            \u001b[0m│\u001b[34m             \u001b[0m│\u001b[31m        \u001b[0m│\u001b[31m             \u001b[0m \n",
       "                   ╵              ╵              ╵              ╵            ╵             ╵        ╵              \n"
      ]
     },
     "metadata": {},
     "output_type": "display_data"
    },
    {
     "data": {
      "text/html": [
       "<pre style=\"white-space:pre;overflow-x:auto;line-height:normal;font-family:Menlo,'DejaVu Sans Mono',consolas,'Courier New',monospace\">23:59:38.611 | <span style=\"color: #008080; text-decoration-color: #008080\">INFO</span>    | Task run 'list_ollama_models-0a2' - Finished in state <span style=\"color: #008000; text-decoration-color: #008000\">Completed</span>()\n",
       "</pre>\n"
      ],
      "text/plain": [
       "23:59:38.611 | \u001b[36mINFO\u001b[0m    | Task run 'list_ollama_models-0a2' - Finished in state \u001b[32mCompleted\u001b[0m()\n"
      ]
     },
     "metadata": {},
     "output_type": "display_data"
    },
    {
     "data": {
      "text/html": [
       "<pre style=\"white-space:pre;overflow-x:auto;line-height:normal;font-family:Menlo,'DejaVu Sans Mono',consolas,'Courier New',monospace\">23:59:38.637 | <span style=\"color: #008080; text-decoration-color: #008080\">INFO</span>    | prefect - Loaded 3 documents from /home/rakesh/Downloads/sample_data/four/\n",
       "</pre>\n"
      ],
      "text/plain": [
       "23:59:38.637 | \u001b[36mINFO\u001b[0m    | prefect - Loaded 3 documents from /home/rakesh/Downloads/sample_data/four/\n"
      ]
     },
     "metadata": {},
     "output_type": "display_data"
    },
    {
     "data": {
      "text/html": [
       "<pre style=\"white-space:pre;overflow-x:auto;line-height:normal;font-family:Menlo,'DejaVu Sans Mono',consolas,'Courier New',monospace\"><span style=\"color: #008000; text-decoration-color: #008000; font-weight: bold\">Loaded </span><span style=\"color: #008000; text-decoration-color: #008000; font-weight: bold\">3</span><span style=\"color: #008000; text-decoration-color: #008000; font-weight: bold\"> documents from /home/rakesh/Downloads/sample_data/four/</span>\n",
       "</pre>\n"
      ],
      "text/plain": [
       "\u001b[1;32mLoaded \u001b[0m\u001b[1;32m3\u001b[0m\u001b[1;32m documents from \u001b[0m\u001b[1;32m/home/rakesh/Downloads/sample_data/four/\u001b[0m\n"
      ]
     },
     "metadata": {},
     "output_type": "display_data"
    },
    {
     "data": {
      "text/html": [
       "<pre style=\"white-space:pre;overflow-x:auto;line-height:normal;font-family:Menlo,'DejaVu Sans Mono',consolas,'Courier New',monospace\">23:59:38.639 | <span style=\"color: #008080; text-decoration-color: #008080\">INFO</span>    | Task run 'load_documents-fbc' - Finished in state <span style=\"color: #008000; text-decoration-color: #008000\">Completed</span>()\n",
       "</pre>\n"
      ],
      "text/plain": [
       "23:59:38.639 | \u001b[36mINFO\u001b[0m    | Task run 'load_documents-fbc' - Finished in state \u001b[32mCompleted\u001b[0m()\n"
      ]
     },
     "metadata": {},
     "output_type": "display_data"
    },
    {
     "data": {
      "text/html": [
       "<pre style=\"white-space:pre;overflow-x:auto;line-height:normal;font-family:Menlo,'DejaVu Sans Mono',consolas,'Courier New',monospace\">23:59:38.663 | <span style=\"color: #008080; text-decoration-color: #008080\">INFO</span>    | prefect - Processed metadata: 3 unique documents\n",
       "</pre>\n"
      ],
      "text/plain": [
       "23:59:38.663 | \u001b[36mINFO\u001b[0m    | prefect - Processed metadata: 3 unique documents\n"
      ]
     },
     "metadata": {},
     "output_type": "display_data"
    },
    {
     "data": {
      "text/html": [
       "<pre style=\"white-space:pre;overflow-x:auto;line-height:normal;font-family:Menlo,'DejaVu Sans Mono',consolas,'Courier New',monospace\"><span style=\"color: #008000; text-decoration-color: #008000; font-weight: bold\">Processed metadata: </span><span style=\"color: #008000; text-decoration-color: #008000; font-weight: bold\">3</span><span style=\"color: #008000; text-decoration-color: #008000; font-weight: bold\"> unique documents</span>\n",
       "</pre>\n"
      ],
      "text/plain": [
       "\u001b[1;32mProcessed metadata: \u001b[0m\u001b[1;32m3\u001b[0m\u001b[1;32m unique documents\u001b[0m\n"
      ]
     },
     "metadata": {},
     "output_type": "display_data"
    },
    {
     "data": {
      "text/html": [
       "<pre style=\"white-space:pre;overflow-x:auto;line-height:normal;font-family:Menlo,'DejaVu Sans Mono',consolas,'Courier New',monospace\">23:59:38.665 | <span style=\"color: #008080; text-decoration-color: #008080\">INFO</span>    | Task run 'process_metadata-938' - Finished in state <span style=\"color: #008000; text-decoration-color: #008000\">Completed</span>()\n",
       "</pre>\n"
      ],
      "text/plain": [
       "23:59:38.665 | \u001b[36mINFO\u001b[0m    | Task run 'process_metadata-938' - Finished in state \u001b[32mCompleted\u001b[0m()\n"
      ]
     },
     "metadata": {},
     "output_type": "display_data"
    },
    {
     "name": "stdout",
     "output_type": "stream",
     "text": [
      ">>>> Content summary:\n",
      "{\n",
      "  \"files\": [\n",
      "    {\n",
      "      \"file_path\": \"/home/rakesh/Downloads/sample_data/four/dsflsdflj.txt\",\n",
      "      \"summary\": \"This article discusses the rise of vertical LLM agents in SaaS, using Case Text's Co-Counsel as an example of a successful AI-driven legal assistant. The text emphasizes the potential for billion-dollar opportunities and how businesses can leverage this technology.\"\n",
      "    },\n",
      "    {\n",
      "      \"file_path\": \"/home/rakesh/Downloads/sample_data/four/random_file.txt\",\n",
      "      \"summary\": \"This is a test file containing a bank account number. Likely a dummy file\"\n",
      "    },\n",
      "    {\n",
      "      \"file_path\": \"/home/rakesh/Downloads/sample_data/four/shad.txt\",\n",
      "      \"summary\": \"This article provides an overview of several open-source Next.js starter projects and boilerplates. It lists different projects and their tech stacks, ranging from blog templates to full-stack applications. The article focuses on various features like authentication, databases, payments, and AI integration.\"\n",
      "    }\n",
      "  ]\n",
      "}\n",
      "Summaries:\n",
      "{'files': [{'file_path': '/home/rakesh/Downloads/sample_data/four/dsflsdflj.txt', 'summary': \"This article discusses the rise of vertical LLM agents in SaaS, using Case Text's Co-Counsel as an example of a successful AI-driven legal assistant. The text emphasizes the potential for billion-dollar opportunities and how businesses can leverage this technology.\"}, {'file_path': '/home/rakesh/Downloads/sample_data/four/random_file.txt', 'summary': 'This is a test file containing a bank account number. Likely a dummy file'}, {'file_path': '/home/rakesh/Downloads/sample_data/four/shad.txt', 'summary': 'This article provides an overview of several open-source Next.js starter projects and boilerplates. It lists different projects and their tech stacks, ranging from blog templates to full-stack applications. The article focuses on various features like authentication, databases, payments, and AI integration.'}]}\n"
     ]
    },
    {
     "data": {
      "text/html": [
       "<pre style=\"white-space:pre;overflow-x:auto;line-height:normal;font-family:Menlo,'DejaVu Sans Mono',consolas,'Courier New',monospace\">23:59:41.449 | <span style=\"color: #008080; text-decoration-color: #008080\">INFO</span>    | prefect - Generated summaries for 3 files with cost 0.0\n",
       "</pre>\n"
      ],
      "text/plain": [
       "23:59:41.449 | \u001b[36mINFO\u001b[0m    | prefect - Generated summaries for 3 files with cost 0.0\n"
      ]
     },
     "metadata": {},
     "output_type": "display_data"
    },
    {
     "data": {
      "text/html": [
       "<pre style=\"white-space:pre;overflow-x:auto;line-height:normal;font-family:Menlo,'DejaVu Sans Mono',consolas,'Courier New',monospace\"><span style=\"color: #008000; text-decoration-color: #008000; font-weight: bold\">Generated summaries for </span><span style=\"color: #008000; text-decoration-color: #008000; font-weight: bold\">3</span><span style=\"color: #008000; text-decoration-color: #008000; font-weight: bold\"> files with cost </span><span style=\"color: #008000; text-decoration-color: #008000; font-weight: bold\">0.0</span>\n",
       "</pre>\n"
      ],
      "text/plain": [
       "\u001b[1;32mGenerated summaries for \u001b[0m\u001b[1;32m3\u001b[0m\u001b[1;32m files with cost \u001b[0m\u001b[1;32m0.0\u001b[0m\n"
      ]
     },
     "metadata": {},
     "output_type": "display_data"
    },
    {
     "data": {
      "text/html": [
       "<pre style=\"white-space:pre;overflow-x:auto;line-height:normal;font-family:Menlo,'DejaVu Sans Mono',consolas,'Courier New',monospace\">23:59:41.455 | <span style=\"color: #008080; text-decoration-color: #008080\">INFO</span>    | Task run 'query_summaries-3a4' - Finished in state <span style=\"color: #008000; text-decoration-color: #008000\">Completed</span>()\n",
       "</pre>\n"
      ],
      "text/plain": [
       "23:59:41.455 | \u001b[36mINFO\u001b[0m    | Task run 'query_summaries-3a4' - Finished in state \u001b[32mCompleted\u001b[0m()\n"
      ]
     },
     "metadata": {},
     "output_type": "display_data"
    },
    {
     "data": {
      "text/html": [
       "<pre style=\"white-space:pre;overflow-x:auto;line-height:normal;font-family:Menlo,'DejaVu Sans Mono',consolas,'Courier New',monospace\">23:59:41.514 | <span style=\"color: #008080; text-decoration-color: #008080\">INFO</span>    | prefect - Calculated cost: 0.005694\n",
       "</pre>\n"
      ],
      "text/plain": [
       "23:59:41.514 | \u001b[36mINFO\u001b[0m    | prefect - Calculated cost: 0.005694\n"
      ]
     },
     "metadata": {},
     "output_type": "display_data"
    },
    {
     "data": {
      "text/html": [
       "<pre style=\"white-space:pre;overflow-x:auto;line-height:normal;font-family:Menlo,'DejaVu Sans Mono',consolas,'Courier New',monospace\"><span style=\"color: #008000; text-decoration-color: #008000; font-weight: bold\">Calculated cost:</span> <span style=\"color: #808000; text-decoration-color: #808000; font-weight: bold\">0.005694</span>\n",
       "</pre>\n"
      ],
      "text/plain": [
       "\u001b[1;32mCalculated cost:\u001b[0m \u001b[1;33m0.005694\u001b[0m\n"
      ]
     },
     "metadata": {},
     "output_type": "display_data"
    },
    {
     "data": {
      "text/html": [
       "<pre style=\"white-space:pre;overflow-x:auto;line-height:normal;font-family:Menlo,'DejaVu Sans Mono',consolas,'Courier New',monospace\">23:59:41.526 | <span style=\"color: #008080; text-decoration-color: #008080\">INFO</span>    | Task run 'track_cost_callback' - Finished in state <span style=\"color: #008000; text-decoration-color: #008000\">Completed</span>()\n",
       "</pre>\n"
      ],
      "text/plain": [
       "23:59:41.526 | \u001b[36mINFO\u001b[0m    | Task run 'track_cost_callback' - Finished in state \u001b[32mCompleted\u001b[0m()\n"
      ]
     },
     "metadata": {},
     "output_type": "display_data"
    },
    {
     "data": {
      "text/html": [
       "<pre style=\"white-space:pre;overflow-x:auto;line-height:normal;font-family:Menlo,'DejaVu Sans Mono',consolas,'Courier New',monospace\">23:59:44.714 | <span style=\"color: #008080; text-decoration-color: #008080\">INFO</span>    | prefect - Created file tree for 3 files\n",
       "</pre>\n"
      ],
      "text/plain": [
       "23:59:44.714 | \u001b[36mINFO\u001b[0m    | prefect - Created file tree for 3 files\n"
      ]
     },
     "metadata": {},
     "output_type": "display_data"
    },
    {
     "data": {
      "text/html": [
       "<pre style=\"white-space:pre;overflow-x:auto;line-height:normal;font-family:Menlo,'DejaVu Sans Mono',consolas,'Courier New',monospace\"><span style=\"color: #008000; text-decoration-color: #008000; font-weight: bold\">Created file tree for </span><span style=\"color: #008000; text-decoration-color: #008000; font-weight: bold\">3</span><span style=\"color: #008000; text-decoration-color: #008000; font-weight: bold\"> files</span>\n",
       "</pre>\n"
      ],
      "text/plain": [
       "\u001b[1;32mCreated file tree for \u001b[0m\u001b[1;32m3\u001b[0m\u001b[1;32m files\u001b[0m\n"
      ]
     },
     "metadata": {},
     "output_type": "display_data"
    },
    {
     "data": {
      "text/html": [
       "<pre style=\"white-space:pre;overflow-x:auto;line-height:normal;font-family:Menlo,'DejaVu Sans Mono',consolas,'Courier New',monospace\">23:59:44.721 | <span style=\"color: #008080; text-decoration-color: #008080\">INFO</span>    | Task run 'create_file_tree-104' - Finished in state <span style=\"color: #008000; text-decoration-color: #008000\">Completed</span>()\n",
       "</pre>\n"
      ],
      "text/plain": [
       "23:59:44.721 | \u001b[36mINFO\u001b[0m    | Task run 'create_file_tree-104' - Finished in state \u001b[32mCompleted\u001b[0m()\n"
      ]
     },
     "metadata": {},
     "output_type": "display_data"
    },
    {
     "data": {
      "text/html": [
       "<pre style=\"white-space:pre;overflow-x:auto;line-height:normal;font-family:Menlo,'DejaVu Sans Mono',consolas,'Courier New',monospace\">23:59:44.781 | <span style=\"color: #008080; text-decoration-color: #008080\">INFO</span>    | prefect - All necessary subdirectories created.\n",
       "</pre>\n"
      ],
      "text/plain": [
       "23:59:44.781 | \u001b[36mINFO\u001b[0m    | prefect - All necessary subdirectories created.\n"
      ]
     },
     "metadata": {},
     "output_type": "display_data"
    },
    {
     "data": {
      "text/html": [
       "<pre style=\"white-space:pre;overflow-x:auto;line-height:normal;font-family:Menlo,'DejaVu Sans Mono',consolas,'Courier New',monospace\"><span style=\"color: #008000; text-decoration-color: #008000; font-weight: bold\">All necessary subdirectories created.</span>\n",
       "</pre>\n"
      ],
      "text/plain": [
       "\u001b[1;32mAll necessary subdirectories created.\u001b[0m\n"
      ]
     },
     "metadata": {},
     "output_type": "display_data"
    },
    {
     "data": {
      "text/html": [
       "<pre style=\"white-space:pre;overflow-x:auto;line-height:normal;font-family:Menlo,'DejaVu Sans Mono',consolas,'Courier New',monospace\">23:59:44.783 | <span style=\"color: #008080; text-decoration-color: #008080\">INFO</span>    | prefect - Calculated cost: 0.003012\n",
       "</pre>\n"
      ],
      "text/plain": [
       "23:59:44.783 | \u001b[36mINFO\u001b[0m    | prefect - Calculated cost: 0.003012\n"
      ]
     },
     "metadata": {},
     "output_type": "display_data"
    },
    {
     "data": {
      "text/html": [
       "<pre style=\"white-space:pre;overflow-x:auto;line-height:normal;font-family:Menlo,'DejaVu Sans Mono',consolas,'Courier New',monospace\">23:59:44.787 | <span style=\"color: #008080; text-decoration-color: #008080\">INFO</span>    | Task run 'create_subdirectories-9d9' - Finished in state <span style=\"color: #008000; text-decoration-color: #008000\">Completed</span>()\n",
       "</pre>\n"
      ],
      "text/plain": [
       "23:59:44.787 | \u001b[36mINFO\u001b[0m    | Task run 'create_subdirectories-9d9' - Finished in state \u001b[32mCompleted\u001b[0m()\n"
      ]
     },
     "metadata": {},
     "output_type": "display_data"
    },
    {
     "data": {
      "text/html": [
       "<pre style=\"white-space:pre;overflow-x:auto;line-height:normal;font-family:Menlo,'DejaVu Sans Mono',consolas,'Courier New',monospace\"><span style=\"color: #008000; text-decoration-color: #008000; font-weight: bold\">Calculated cost:</span> <span style=\"color: #808000; text-decoration-color: #808000; font-weight: bold\">0.003012</span>\n",
       "</pre>\n"
      ],
      "text/plain": [
       "\u001b[1;32mCalculated cost:\u001b[0m \u001b[1;33m0.003012\u001b[0m\n"
      ]
     },
     "metadata": {},
     "output_type": "display_data"
    },
    {
     "data": {
      "text/html": [
       "<pre style=\"white-space:pre;overflow-x:auto;line-height:normal;font-family:Menlo,'DejaVu Sans Mono',consolas,'Courier New',monospace\">23:59:44.809 | <span style=\"color: #008080; text-decoration-color: #008080\">INFO</span>    | Task run 'track_cost_callback' - Finished in state <span style=\"color: #008000; text-decoration-color: #008000\">Completed</span>()\n",
       "</pre>\n"
      ],
      "text/plain": [
       "23:59:44.809 | \u001b[36mINFO\u001b[0m    | Task run 'track_cost_callback' - Finished in state \u001b[32mCompleted\u001b[0m()\n"
      ]
     },
     "metadata": {},
     "output_type": "display_data"
    },
    {
     "data": {
      "text/html": [
       "<pre style=\"white-space:pre;overflow-x:auto;line-height:normal;font-family:Menlo,'DejaVu Sans Mono',consolas,'Courier New',monospace\">23:59:44.816 | <span style=\"color: #008080; text-decoration-color: #008080\">INFO</span>    | prefect - Concatenated summary and file tree for 3 files\n",
       "</pre>\n"
      ],
      "text/plain": [
       "23:59:44.816 | \u001b[36mINFO\u001b[0m    | prefect - Concatenated summary and file tree for 3 files\n"
      ]
     },
     "metadata": {},
     "output_type": "display_data"
    },
    {
     "data": {
      "text/html": [
       "<pre style=\"white-space:pre;overflow-x:auto;line-height:normal;font-family:Menlo,'DejaVu Sans Mono',consolas,'Courier New',monospace\"><span style=\"color: #008000; text-decoration-color: #008000; font-weight: bold\">Concatenated summary and file tree for </span><span style=\"color: #008000; text-decoration-color: #008000; font-weight: bold\">3</span><span style=\"color: #008000; text-decoration-color: #008000; font-weight: bold\"> files</span>\n",
       "</pre>\n"
      ],
      "text/plain": [
       "\u001b[1;32mConcatenated summary and file tree for \u001b[0m\u001b[1;32m3\u001b[0m\u001b[1;32m files\u001b[0m\n"
      ]
     },
     "metadata": {},
     "output_type": "display_data"
    },
    {
     "data": {
      "text/html": [
       "<pre style=\"white-space:pre;overflow-x:auto;line-height:normal;font-family:Menlo,'DejaVu Sans Mono',consolas,'Courier New',monospace\">23:59:44.820 | <span style=\"color: #008080; text-decoration-color: #008080\">INFO</span>    | Task run 'concatenate_summaries_and_file_tree-d5b' - Finished in state <span style=\"color: #008000; text-decoration-color: #008000\">Completed</span>()\n",
       "</pre>\n"
      ],
      "text/plain": [
       "23:59:44.820 | \u001b[36mINFO\u001b[0m    | Task run 'concatenate_summaries_and_file_tree-d5b' - Finished in state \u001b[32mCompleted\u001b[0m()\n"
      ]
     },
     "metadata": {},
     "output_type": "display_data"
    },
    {
     "data": {
      "text/html": [
       "<pre style=\"white-space:pre;overflow-x:auto;line-height:normal;font-family:Menlo,'DejaVu Sans Mono',consolas,'Courier New',monospace\"><span style=\"font-style: italic\">                                       Organized Files                                       </span>\n",
       "              ╷                                                                              \n",
       " <span style=\"font-weight: bold\"> Source Path </span>│<span style=\"font-weight: bold\"> Destination Path                                                            </span> \n",
       " ═════════════╪═════════════════════════════════════════════════════════════════════════════ \n",
       " <span style=\"color: #008080; text-decoration-color: #008080\">             </span>│<span style=\"color: #008000; text-decoration-color: #008000\"> /home/rakesh/Downloads/sample_data/four_organized_or/articles/dsflsdflj.txt </span> \n",
       " <span style=\"color: #008080; text-decoration-color: #008080\">             </span>│<span style=\"color: #008000; text-decoration-color: #008000\"> /home/rakesh/Downloads/sample_data/four_organized_or/misc/random_file.txt   </span> \n",
       " <span style=\"color: #008080; text-decoration-color: #008080\">             </span>│<span style=\"color: #008000; text-decoration-color: #008000\"> /home/rakesh/Downloads/sample_data/four_organized_or/articles/shad.txt      </span> \n",
       "              ╵                                                                              \n",
       "</pre>\n"
      ],
      "text/plain": [
       "\u001b[3m                                       Organized Files                                       \u001b[0m\n",
       "              ╷                                                                              \n",
       " \u001b[1m \u001b[0m\u001b[1mSource Path\u001b[0m\u001b[1m \u001b[0m│\u001b[1m \u001b[0m\u001b[1mDestination Path                                                           \u001b[0m\u001b[1m \u001b[0m \n",
       " ═════════════╪═════════════════════════════════════════════════════════════════════════════ \n",
       " \u001b[36m \u001b[0m\u001b[36m           \u001b[0m\u001b[36m \u001b[0m│\u001b[32m \u001b[0m\u001b[32m/home/rakesh/Downloads/sample_data/four_organized_or/articles/dsflsdflj.txt\u001b[0m\u001b[32m \u001b[0m \n",
       " \u001b[36m \u001b[0m\u001b[36m           \u001b[0m\u001b[36m \u001b[0m│\u001b[32m \u001b[0m\u001b[32m/home/rakesh/Downloads/sample_data/four_organized_or/misc/random_file.txt  \u001b[0m\u001b[32m \u001b[0m \n",
       " \u001b[36m \u001b[0m\u001b[36m           \u001b[0m\u001b[36m \u001b[0m│\u001b[32m \u001b[0m\u001b[32m/home/rakesh/Downloads/sample_data/four_organized_or/articles/shad.txt     \u001b[0m\u001b[32m \u001b[0m \n",
       "              ╵                                                                              \n"
      ]
     },
     "metadata": {},
     "output_type": "display_data"
    },
    {
     "data": {
      "text/html": [
       "<pre style=\"white-space:pre;overflow-x:auto;line-height:normal;font-family:Menlo,'DejaVu Sans Mono',consolas,'Courier New',monospace\">23:59:44.849 | <span style=\"color: #008080; text-decoration-color: #008080\">INFO</span>    | Task run 'display_organized_files-830' - Finished in state <span style=\"color: #008000; text-decoration-color: #008000\">Completed</span>()\n",
       "</pre>\n"
      ],
      "text/plain": [
       "23:59:44.849 | \u001b[36mINFO\u001b[0m    | Task run 'display_organized_files-830' - Finished in state \u001b[32mCompleted\u001b[0m()\n"
      ]
     },
     "metadata": {},
     "output_type": "display_data"
    },
    {
     "data": {
      "text/html": [
       "<pre style=\"white-space:pre;overflow-x:auto;line-height:normal;font-family:Menlo,'DejaVu Sans Mono',consolas,'Courier New',monospace\"><span style=\"font-style: italic\">                                           Summaries and Organized Files                                           </span>\n",
       "                                                          ╷                  ╷                 ╷                   \n",
       " <span style=\"font-weight: bold\">                                                         </span>│<span style=\"font-weight: bold\">                  </span>│<span style=\"font-weight: bold\"> Destination     </span>│<span style=\"font-weight: bold\"> Destination Path </span> \n",
       " <span style=\"font-weight: bold\"> File Path                                               </span>│<span style=\"font-weight: bold\"> Summary          </span>│<span style=\"font-weight: bold\"> Path            </span>│<span style=\"font-weight: bold\"> New              </span> \n",
       " ═════════════════════════════════════════════════════════╪══════════════════╪═════════════════╪══════════════════ \n",
       " <span style=\"color: #008080; text-decoration-color: #008080\"> /home/rakesh/Downloads/sample_data/four/dsflsdflj.txt   </span>│<span style=\"color: #008000; text-decoration-color: #008000\"> This article     </span>│<span style=\"color: #800080; text-decoration-color: #800080\"> /home/rakesh/D… </span>│<span style=\"color: #808000; text-decoration-color: #808000\"> /home/rakesh/Do… </span> \n",
       " <span style=\"color: #008080; text-decoration-color: #008080\">                                                         </span>│<span style=\"color: #008000; text-decoration-color: #008000\"> discusses the    </span>│<span style=\"color: #800080; text-decoration-color: #800080\">                 </span>│<span style=\"color: #808000; text-decoration-color: #808000\">                  </span> \n",
       " <span style=\"color: #008080; text-decoration-color: #008080\">                                                         </span>│<span style=\"color: #008000; text-decoration-color: #008000\"> rise of vertical </span>│<span style=\"color: #800080; text-decoration-color: #800080\">                 </span>│<span style=\"color: #808000; text-decoration-color: #808000\">                  </span> \n",
       " <span style=\"color: #008080; text-decoration-color: #008080\">                                                         </span>│<span style=\"color: #008000; text-decoration-color: #008000\"> LLM agents in    </span>│<span style=\"color: #800080; text-decoration-color: #800080\">                 </span>│<span style=\"color: #808000; text-decoration-color: #808000\">                  </span> \n",
       " <span style=\"color: #008080; text-decoration-color: #008080\">                                                         </span>│<span style=\"color: #008000; text-decoration-color: #008000\"> SaaS, using Case </span>│<span style=\"color: #800080; text-decoration-color: #800080\">                 </span>│<span style=\"color: #808000; text-decoration-color: #808000\">                  </span> \n",
       " <span style=\"color: #008080; text-decoration-color: #008080\">                                                         </span>│<span style=\"color: #008000; text-decoration-color: #008000\"> Text's           </span>│<span style=\"color: #800080; text-decoration-color: #800080\">                 </span>│<span style=\"color: #808000; text-decoration-color: #808000\">                  </span> \n",
       " <span style=\"color: #008080; text-decoration-color: #008080\">                                                         </span>│<span style=\"color: #008000; text-decoration-color: #008000\"> Co-Counsel as an </span>│<span style=\"color: #800080; text-decoration-color: #800080\">                 </span>│<span style=\"color: #808000; text-decoration-color: #808000\">                  </span> \n",
       " <span style=\"color: #008080; text-decoration-color: #008080\">                                                         </span>│<span style=\"color: #008000; text-decoration-color: #008000\"> example of a     </span>│<span style=\"color: #800080; text-decoration-color: #800080\">                 </span>│<span style=\"color: #808000; text-decoration-color: #808000\">                  </span> \n",
       " <span style=\"color: #008080; text-decoration-color: #008080\">                                                         </span>│<span style=\"color: #008000; text-decoration-color: #008000\"> successful       </span>│<span style=\"color: #800080; text-decoration-color: #800080\">                 </span>│<span style=\"color: #808000; text-decoration-color: #808000\">                  </span> \n",
       " <span style=\"color: #008080; text-decoration-color: #008080\">                                                         </span>│<span style=\"color: #008000; text-decoration-color: #008000\"> AI-driven legal  </span>│<span style=\"color: #800080; text-decoration-color: #800080\">                 </span>│<span style=\"color: #808000; text-decoration-color: #808000\">                  </span> \n",
       " <span style=\"color: #008080; text-decoration-color: #008080\">                                                         </span>│<span style=\"color: #008000; text-decoration-color: #008000\"> assistant. The   </span>│<span style=\"color: #800080; text-decoration-color: #800080\">                 </span>│<span style=\"color: #808000; text-decoration-color: #808000\">                  </span> \n",
       " <span style=\"color: #008080; text-decoration-color: #008080\">                                                         </span>│<span style=\"color: #008000; text-decoration-color: #008000\"> text emphasizes  </span>│<span style=\"color: #800080; text-decoration-color: #800080\">                 </span>│<span style=\"color: #808000; text-decoration-color: #808000\">                  </span> \n",
       " <span style=\"color: #008080; text-decoration-color: #008080\">                                                         </span>│<span style=\"color: #008000; text-decoration-color: #008000\"> the potential    </span>│<span style=\"color: #800080; text-decoration-color: #800080\">                 </span>│<span style=\"color: #808000; text-decoration-color: #808000\">                  </span> \n",
       " <span style=\"color: #008080; text-decoration-color: #008080\">                                                         </span>│<span style=\"color: #008000; text-decoration-color: #008000\"> for              </span>│<span style=\"color: #800080; text-decoration-color: #800080\">                 </span>│<span style=\"color: #808000; text-decoration-color: #808000\">                  </span> \n",
       " <span style=\"color: #008080; text-decoration-color: #008080\">                                                         </span>│<span style=\"color: #008000; text-decoration-color: #008000\"> billion-dollar   </span>│<span style=\"color: #800080; text-decoration-color: #800080\">                 </span>│<span style=\"color: #808000; text-decoration-color: #808000\">                  </span> \n",
       " <span style=\"color: #008080; text-decoration-color: #008080\">                                                         </span>│<span style=\"color: #008000; text-decoration-color: #008000\"> opportunities    </span>│<span style=\"color: #800080; text-decoration-color: #800080\">                 </span>│<span style=\"color: #808000; text-decoration-color: #808000\">                  </span> \n",
       " <span style=\"color: #008080; text-decoration-color: #008080\">                                                         </span>│<span style=\"color: #008000; text-decoration-color: #008000\"> and how          </span>│<span style=\"color: #800080; text-decoration-color: #800080\">                 </span>│<span style=\"color: #808000; text-decoration-color: #808000\">                  </span> \n",
       " <span style=\"color: #008080; text-decoration-color: #008080\">                                                         </span>│<span style=\"color: #008000; text-decoration-color: #008000\"> businesses can   </span>│<span style=\"color: #800080; text-decoration-color: #800080\">                 </span>│<span style=\"color: #808000; text-decoration-color: #808000\">                  </span> \n",
       " <span style=\"color: #008080; text-decoration-color: #008080\">                                                         </span>│<span style=\"color: #008000; text-decoration-color: #008000\"> leverage this    </span>│<span style=\"color: #800080; text-decoration-color: #800080\">                 </span>│<span style=\"color: #808000; text-decoration-color: #808000\">                  </span> \n",
       " <span style=\"color: #008080; text-decoration-color: #008080\">                                                         </span>│<span style=\"color: #008000; text-decoration-color: #008000\"> technology.      </span>│<span style=\"color: #800080; text-decoration-color: #800080\">                 </span>│<span style=\"color: #808000; text-decoration-color: #808000\">                  </span> \n",
       " <span style=\"color: #008080; text-decoration-color: #008080\"> /home/rakesh/Downloads/sample_data/four/random_file.txt </span>│<span style=\"color: #008000; text-decoration-color: #008000\"> This is a test   </span>│<span style=\"color: #800080; text-decoration-color: #800080\"> /home/rakesh/D… </span>│<span style=\"color: #808000; text-decoration-color: #808000\"> /home/rakesh/Do… </span> \n",
       " <span style=\"color: #008080; text-decoration-color: #008080\">                                                         </span>│<span style=\"color: #008000; text-decoration-color: #008000\"> file containing  </span>│<span style=\"color: #800080; text-decoration-color: #800080\">                 </span>│<span style=\"color: #808000; text-decoration-color: #808000\">                  </span> \n",
       " <span style=\"color: #008080; text-decoration-color: #008080\">                                                         </span>│<span style=\"color: #008000; text-decoration-color: #008000\"> a bank account   </span>│<span style=\"color: #800080; text-decoration-color: #800080\">                 </span>│<span style=\"color: #808000; text-decoration-color: #808000\">                  </span> \n",
       " <span style=\"color: #008080; text-decoration-color: #008080\">                                                         </span>│<span style=\"color: #008000; text-decoration-color: #008000\"> number. Likely a </span>│<span style=\"color: #800080; text-decoration-color: #800080\">                 </span>│<span style=\"color: #808000; text-decoration-color: #808000\">                  </span> \n",
       " <span style=\"color: #008080; text-decoration-color: #008080\">                                                         </span>│<span style=\"color: #008000; text-decoration-color: #008000\"> dummy file       </span>│<span style=\"color: #800080; text-decoration-color: #800080\">                 </span>│<span style=\"color: #808000; text-decoration-color: #808000\">                  </span> \n",
       " <span style=\"color: #008080; text-decoration-color: #008080\"> /home/rakesh/Downloads/sample_data/four/shad.txt        </span>│<span style=\"color: #008000; text-decoration-color: #008000\"> This article     </span>│<span style=\"color: #800080; text-decoration-color: #800080\"> /home/rakesh/D… </span>│<span style=\"color: #808000; text-decoration-color: #808000\"> /home/rakesh/Do… </span> \n",
       " <span style=\"color: #008080; text-decoration-color: #008080\">                                                         </span>│<span style=\"color: #008000; text-decoration-color: #008000\"> provides an      </span>│<span style=\"color: #800080; text-decoration-color: #800080\">                 </span>│<span style=\"color: #808000; text-decoration-color: #808000\">                  </span> \n",
       " <span style=\"color: #008080; text-decoration-color: #008080\">                                                         </span>│<span style=\"color: #008000; text-decoration-color: #008000\"> overview of      </span>│<span style=\"color: #800080; text-decoration-color: #800080\">                 </span>│<span style=\"color: #808000; text-decoration-color: #808000\">                  </span> \n",
       " <span style=\"color: #008080; text-decoration-color: #008080\">                                                         </span>│<span style=\"color: #008000; text-decoration-color: #008000\"> several          </span>│<span style=\"color: #800080; text-decoration-color: #800080\">                 </span>│<span style=\"color: #808000; text-decoration-color: #808000\">                  </span> \n",
       " <span style=\"color: #008080; text-decoration-color: #008080\">                                                         </span>│<span style=\"color: #008000; text-decoration-color: #008000\"> open-source      </span>│<span style=\"color: #800080; text-decoration-color: #800080\">                 </span>│<span style=\"color: #808000; text-decoration-color: #808000\">                  </span> \n",
       " <span style=\"color: #008080; text-decoration-color: #008080\">                                                         </span>│<span style=\"color: #008000; text-decoration-color: #008000\"> Next.js starter  </span>│<span style=\"color: #800080; text-decoration-color: #800080\">                 </span>│<span style=\"color: #808000; text-decoration-color: #808000\">                  </span> \n",
       " <span style=\"color: #008080; text-decoration-color: #008080\">                                                         </span>│<span style=\"color: #008000; text-decoration-color: #008000\"> projects and     </span>│<span style=\"color: #800080; text-decoration-color: #800080\">                 </span>│<span style=\"color: #808000; text-decoration-color: #808000\">                  </span> \n",
       " <span style=\"color: #008080; text-decoration-color: #008080\">                                                         </span>│<span style=\"color: #008000; text-decoration-color: #008000\"> boilerplates. It </span>│<span style=\"color: #800080; text-decoration-color: #800080\">                 </span>│<span style=\"color: #808000; text-decoration-color: #808000\">                  </span> \n",
       " <span style=\"color: #008080; text-decoration-color: #008080\">                                                         </span>│<span style=\"color: #008000; text-decoration-color: #008000\"> lists different  </span>│<span style=\"color: #800080; text-decoration-color: #800080\">                 </span>│<span style=\"color: #808000; text-decoration-color: #808000\">                  </span> \n",
       " <span style=\"color: #008080; text-decoration-color: #008080\">                                                         </span>│<span style=\"color: #008000; text-decoration-color: #008000\"> projects and     </span>│<span style=\"color: #800080; text-decoration-color: #800080\">                 </span>│<span style=\"color: #808000; text-decoration-color: #808000\">                  </span> \n",
       " <span style=\"color: #008080; text-decoration-color: #008080\">                                                         </span>│<span style=\"color: #008000; text-decoration-color: #008000\"> their tech       </span>│<span style=\"color: #800080; text-decoration-color: #800080\">                 </span>│<span style=\"color: #808000; text-decoration-color: #808000\">                  </span> \n",
       " <span style=\"color: #008080; text-decoration-color: #008080\">                                                         </span>│<span style=\"color: #008000; text-decoration-color: #008000\"> stacks, ranging  </span>│<span style=\"color: #800080; text-decoration-color: #800080\">                 </span>│<span style=\"color: #808000; text-decoration-color: #808000\">                  </span> \n",
       " <span style=\"color: #008080; text-decoration-color: #008080\">                                                         </span>│<span style=\"color: #008000; text-decoration-color: #008000\"> from blog        </span>│<span style=\"color: #800080; text-decoration-color: #800080\">                 </span>│<span style=\"color: #808000; text-decoration-color: #808000\">                  </span> \n",
       " <span style=\"color: #008080; text-decoration-color: #008080\">                                                         </span>│<span style=\"color: #008000; text-decoration-color: #008000\"> templates to     </span>│<span style=\"color: #800080; text-decoration-color: #800080\">                 </span>│<span style=\"color: #808000; text-decoration-color: #808000\">                  </span> \n",
       " <span style=\"color: #008080; text-decoration-color: #008080\">                                                         </span>│<span style=\"color: #008000; text-decoration-color: #008000\"> full-stack       </span>│<span style=\"color: #800080; text-decoration-color: #800080\">                 </span>│<span style=\"color: #808000; text-decoration-color: #808000\">                  </span> \n",
       " <span style=\"color: #008080; text-decoration-color: #008080\">                                                         </span>│<span style=\"color: #008000; text-decoration-color: #008000\"> applications.    </span>│<span style=\"color: #800080; text-decoration-color: #800080\">                 </span>│<span style=\"color: #808000; text-decoration-color: #808000\">                  </span> \n",
       " <span style=\"color: #008080; text-decoration-color: #008080\">                                                         </span>│<span style=\"color: #008000; text-decoration-color: #008000\"> The article      </span>│<span style=\"color: #800080; text-decoration-color: #800080\">                 </span>│<span style=\"color: #808000; text-decoration-color: #808000\">                  </span> \n",
       " <span style=\"color: #008080; text-decoration-color: #008080\">                                                         </span>│<span style=\"color: #008000; text-decoration-color: #008000\"> focuses on       </span>│<span style=\"color: #800080; text-decoration-color: #800080\">                 </span>│<span style=\"color: #808000; text-decoration-color: #808000\">                  </span> \n",
       " <span style=\"color: #008080; text-decoration-color: #008080\">                                                         </span>│<span style=\"color: #008000; text-decoration-color: #008000\"> various features </span>│<span style=\"color: #800080; text-decoration-color: #800080\">                 </span>│<span style=\"color: #808000; text-decoration-color: #808000\">                  </span> \n",
       " <span style=\"color: #008080; text-decoration-color: #008080\">                                                         </span>│<span style=\"color: #008000; text-decoration-color: #008000\"> like             </span>│<span style=\"color: #800080; text-decoration-color: #800080\">                 </span>│<span style=\"color: #808000; text-decoration-color: #808000\">                  </span> \n",
       " <span style=\"color: #008080; text-decoration-color: #008080\">                                                         </span>│<span style=\"color: #008000; text-decoration-color: #008000\"> authentication,  </span>│<span style=\"color: #800080; text-decoration-color: #800080\">                 </span>│<span style=\"color: #808000; text-decoration-color: #808000\">                  </span> \n",
       " <span style=\"color: #008080; text-decoration-color: #008080\">                                                         </span>│<span style=\"color: #008000; text-decoration-color: #008000\"> databases,       </span>│<span style=\"color: #800080; text-decoration-color: #800080\">                 </span>│<span style=\"color: #808000; text-decoration-color: #808000\">                  </span> \n",
       " <span style=\"color: #008080; text-decoration-color: #008080\">                                                         </span>│<span style=\"color: #008000; text-decoration-color: #008000\"> payments, and AI </span>│<span style=\"color: #800080; text-decoration-color: #800080\">                 </span>│<span style=\"color: #808000; text-decoration-color: #808000\">                  </span> \n",
       " <span style=\"color: #008080; text-decoration-color: #008080\">                                                         </span>│<span style=\"color: #008000; text-decoration-color: #008000\"> integration.     </span>│<span style=\"color: #800080; text-decoration-color: #800080\">                 </span>│<span style=\"color: #808000; text-decoration-color: #808000\">                  </span> \n",
       "                                                          ╵                  ╵                 ╵                   \n",
       "</pre>\n"
      ],
      "text/plain": [
       "\u001b[3m                                           Summaries and Organized Files                                           \u001b[0m\n",
       "                                                          ╷                  ╷                 ╷                   \n",
       " \u001b[1m                                                         \u001b[0m│\u001b[1m                  \u001b[0m│\u001b[1m \u001b[0m\u001b[1mDestination    \u001b[0m\u001b[1m \u001b[0m│\u001b[1m \u001b[0m\u001b[1mDestination Path\u001b[0m\u001b[1m \u001b[0m \n",
       " \u001b[1m \u001b[0m\u001b[1mFile Path                                              \u001b[0m\u001b[1m \u001b[0m│\u001b[1m \u001b[0m\u001b[1mSummary         \u001b[0m\u001b[1m \u001b[0m│\u001b[1m \u001b[0m\u001b[1mPath           \u001b[0m\u001b[1m \u001b[0m│\u001b[1m \u001b[0m\u001b[1mNew             \u001b[0m\u001b[1m \u001b[0m \n",
       " ═════════════════════════════════════════════════════════╪══════════════════╪═════════════════╪══════════════════ \n",
       " \u001b[36m \u001b[0m\u001b[36m/home/rakesh/Downloads/sample_data/four/dsflsdflj.txt  \u001b[0m\u001b[36m \u001b[0m│\u001b[32m \u001b[0m\u001b[32mThis article    \u001b[0m\u001b[32m \u001b[0m│\u001b[35m \u001b[0m\u001b[35m/home/rakesh/D…\u001b[0m\u001b[35m \u001b[0m│\u001b[33m \u001b[0m\u001b[33m/home/rakesh/Do…\u001b[0m\u001b[33m \u001b[0m \n",
       " \u001b[36m                                                         \u001b[0m│\u001b[32m \u001b[0m\u001b[32mdiscusses the   \u001b[0m\u001b[32m \u001b[0m│\u001b[35m                 \u001b[0m│\u001b[33m                  \u001b[0m \n",
       " \u001b[36m                                                         \u001b[0m│\u001b[32m \u001b[0m\u001b[32mrise of vertical\u001b[0m\u001b[32m \u001b[0m│\u001b[35m                 \u001b[0m│\u001b[33m                  \u001b[0m \n",
       " \u001b[36m                                                         \u001b[0m│\u001b[32m \u001b[0m\u001b[32mLLM agents in   \u001b[0m\u001b[32m \u001b[0m│\u001b[35m                 \u001b[0m│\u001b[33m                  \u001b[0m \n",
       " \u001b[36m                                                         \u001b[0m│\u001b[32m \u001b[0m\u001b[32mSaaS, using Case\u001b[0m\u001b[32m \u001b[0m│\u001b[35m                 \u001b[0m│\u001b[33m                  \u001b[0m \n",
       " \u001b[36m                                                         \u001b[0m│\u001b[32m \u001b[0m\u001b[32mText's          \u001b[0m\u001b[32m \u001b[0m│\u001b[35m                 \u001b[0m│\u001b[33m                  \u001b[0m \n",
       " \u001b[36m                                                         \u001b[0m│\u001b[32m \u001b[0m\u001b[32mCo-Counsel as an\u001b[0m\u001b[32m \u001b[0m│\u001b[35m                 \u001b[0m│\u001b[33m                  \u001b[0m \n",
       " \u001b[36m                                                         \u001b[0m│\u001b[32m \u001b[0m\u001b[32mexample of a    \u001b[0m\u001b[32m \u001b[0m│\u001b[35m                 \u001b[0m│\u001b[33m                  \u001b[0m \n",
       " \u001b[36m                                                         \u001b[0m│\u001b[32m \u001b[0m\u001b[32msuccessful      \u001b[0m\u001b[32m \u001b[0m│\u001b[35m                 \u001b[0m│\u001b[33m                  \u001b[0m \n",
       " \u001b[36m                                                         \u001b[0m│\u001b[32m \u001b[0m\u001b[32mAI-driven legal \u001b[0m\u001b[32m \u001b[0m│\u001b[35m                 \u001b[0m│\u001b[33m                  \u001b[0m \n",
       " \u001b[36m                                                         \u001b[0m│\u001b[32m \u001b[0m\u001b[32massistant. The  \u001b[0m\u001b[32m \u001b[0m│\u001b[35m                 \u001b[0m│\u001b[33m                  \u001b[0m \n",
       " \u001b[36m                                                         \u001b[0m│\u001b[32m \u001b[0m\u001b[32mtext emphasizes \u001b[0m\u001b[32m \u001b[0m│\u001b[35m                 \u001b[0m│\u001b[33m                  \u001b[0m \n",
       " \u001b[36m                                                         \u001b[0m│\u001b[32m \u001b[0m\u001b[32mthe potential   \u001b[0m\u001b[32m \u001b[0m│\u001b[35m                 \u001b[0m│\u001b[33m                  \u001b[0m \n",
       " \u001b[36m                                                         \u001b[0m│\u001b[32m \u001b[0m\u001b[32mfor             \u001b[0m\u001b[32m \u001b[0m│\u001b[35m                 \u001b[0m│\u001b[33m                  \u001b[0m \n",
       " \u001b[36m                                                         \u001b[0m│\u001b[32m \u001b[0m\u001b[32mbillion-dollar  \u001b[0m\u001b[32m \u001b[0m│\u001b[35m                 \u001b[0m│\u001b[33m                  \u001b[0m \n",
       " \u001b[36m                                                         \u001b[0m│\u001b[32m \u001b[0m\u001b[32mopportunities   \u001b[0m\u001b[32m \u001b[0m│\u001b[35m                 \u001b[0m│\u001b[33m                  \u001b[0m \n",
       " \u001b[36m                                                         \u001b[0m│\u001b[32m \u001b[0m\u001b[32mand how         \u001b[0m\u001b[32m \u001b[0m│\u001b[35m                 \u001b[0m│\u001b[33m                  \u001b[0m \n",
       " \u001b[36m                                                         \u001b[0m│\u001b[32m \u001b[0m\u001b[32mbusinesses can  \u001b[0m\u001b[32m \u001b[0m│\u001b[35m                 \u001b[0m│\u001b[33m                  \u001b[0m \n",
       " \u001b[36m                                                         \u001b[0m│\u001b[32m \u001b[0m\u001b[32mleverage this   \u001b[0m\u001b[32m \u001b[0m│\u001b[35m                 \u001b[0m│\u001b[33m                  \u001b[0m \n",
       " \u001b[36m                                                         \u001b[0m│\u001b[32m \u001b[0m\u001b[32mtechnology.     \u001b[0m\u001b[32m \u001b[0m│\u001b[35m                 \u001b[0m│\u001b[33m                  \u001b[0m \n",
       " \u001b[36m \u001b[0m\u001b[36m/home/rakesh/Downloads/sample_data/four/random_file.txt\u001b[0m\u001b[36m \u001b[0m│\u001b[32m \u001b[0m\u001b[32mThis is a test  \u001b[0m\u001b[32m \u001b[0m│\u001b[35m \u001b[0m\u001b[35m/home/rakesh/D…\u001b[0m\u001b[35m \u001b[0m│\u001b[33m \u001b[0m\u001b[33m/home/rakesh/Do…\u001b[0m\u001b[33m \u001b[0m \n",
       " \u001b[36m                                                         \u001b[0m│\u001b[32m \u001b[0m\u001b[32mfile containing \u001b[0m\u001b[32m \u001b[0m│\u001b[35m                 \u001b[0m│\u001b[33m                  \u001b[0m \n",
       " \u001b[36m                                                         \u001b[0m│\u001b[32m \u001b[0m\u001b[32ma bank account  \u001b[0m\u001b[32m \u001b[0m│\u001b[35m                 \u001b[0m│\u001b[33m                  \u001b[0m \n",
       " \u001b[36m                                                         \u001b[0m│\u001b[32m \u001b[0m\u001b[32mnumber. Likely a\u001b[0m\u001b[32m \u001b[0m│\u001b[35m                 \u001b[0m│\u001b[33m                  \u001b[0m \n",
       " \u001b[36m                                                         \u001b[0m│\u001b[32m \u001b[0m\u001b[32mdummy file      \u001b[0m\u001b[32m \u001b[0m│\u001b[35m                 \u001b[0m│\u001b[33m                  \u001b[0m \n",
       " \u001b[36m \u001b[0m\u001b[36m/home/rakesh/Downloads/sample_data/four/shad.txt       \u001b[0m\u001b[36m \u001b[0m│\u001b[32m \u001b[0m\u001b[32mThis article    \u001b[0m\u001b[32m \u001b[0m│\u001b[35m \u001b[0m\u001b[35m/home/rakesh/D…\u001b[0m\u001b[35m \u001b[0m│\u001b[33m \u001b[0m\u001b[33m/home/rakesh/Do…\u001b[0m\u001b[33m \u001b[0m \n",
       " \u001b[36m                                                         \u001b[0m│\u001b[32m \u001b[0m\u001b[32mprovides an     \u001b[0m\u001b[32m \u001b[0m│\u001b[35m                 \u001b[0m│\u001b[33m                  \u001b[0m \n",
       " \u001b[36m                                                         \u001b[0m│\u001b[32m \u001b[0m\u001b[32moverview of     \u001b[0m\u001b[32m \u001b[0m│\u001b[35m                 \u001b[0m│\u001b[33m                  \u001b[0m \n",
       " \u001b[36m                                                         \u001b[0m│\u001b[32m \u001b[0m\u001b[32mseveral         \u001b[0m\u001b[32m \u001b[0m│\u001b[35m                 \u001b[0m│\u001b[33m                  \u001b[0m \n",
       " \u001b[36m                                                         \u001b[0m│\u001b[32m \u001b[0m\u001b[32mopen-source     \u001b[0m\u001b[32m \u001b[0m│\u001b[35m                 \u001b[0m│\u001b[33m                  \u001b[0m \n",
       " \u001b[36m                                                         \u001b[0m│\u001b[32m \u001b[0m\u001b[32mNext.js starter \u001b[0m\u001b[32m \u001b[0m│\u001b[35m                 \u001b[0m│\u001b[33m                  \u001b[0m \n",
       " \u001b[36m                                                         \u001b[0m│\u001b[32m \u001b[0m\u001b[32mprojects and    \u001b[0m\u001b[32m \u001b[0m│\u001b[35m                 \u001b[0m│\u001b[33m                  \u001b[0m \n",
       " \u001b[36m                                                         \u001b[0m│\u001b[32m \u001b[0m\u001b[32mboilerplates. It\u001b[0m\u001b[32m \u001b[0m│\u001b[35m                 \u001b[0m│\u001b[33m                  \u001b[0m \n",
       " \u001b[36m                                                         \u001b[0m│\u001b[32m \u001b[0m\u001b[32mlists different \u001b[0m\u001b[32m \u001b[0m│\u001b[35m                 \u001b[0m│\u001b[33m                  \u001b[0m \n",
       " \u001b[36m                                                         \u001b[0m│\u001b[32m \u001b[0m\u001b[32mprojects and    \u001b[0m\u001b[32m \u001b[0m│\u001b[35m                 \u001b[0m│\u001b[33m                  \u001b[0m \n",
       " \u001b[36m                                                         \u001b[0m│\u001b[32m \u001b[0m\u001b[32mtheir tech      \u001b[0m\u001b[32m \u001b[0m│\u001b[35m                 \u001b[0m│\u001b[33m                  \u001b[0m \n",
       " \u001b[36m                                                         \u001b[0m│\u001b[32m \u001b[0m\u001b[32mstacks, ranging \u001b[0m\u001b[32m \u001b[0m│\u001b[35m                 \u001b[0m│\u001b[33m                  \u001b[0m \n",
       " \u001b[36m                                                         \u001b[0m│\u001b[32m \u001b[0m\u001b[32mfrom blog       \u001b[0m\u001b[32m \u001b[0m│\u001b[35m                 \u001b[0m│\u001b[33m                  \u001b[0m \n",
       " \u001b[36m                                                         \u001b[0m│\u001b[32m \u001b[0m\u001b[32mtemplates to    \u001b[0m\u001b[32m \u001b[0m│\u001b[35m                 \u001b[0m│\u001b[33m                  \u001b[0m \n",
       " \u001b[36m                                                         \u001b[0m│\u001b[32m \u001b[0m\u001b[32mfull-stack      \u001b[0m\u001b[32m \u001b[0m│\u001b[35m                 \u001b[0m│\u001b[33m                  \u001b[0m \n",
       " \u001b[36m                                                         \u001b[0m│\u001b[32m \u001b[0m\u001b[32mapplications.   \u001b[0m\u001b[32m \u001b[0m│\u001b[35m                 \u001b[0m│\u001b[33m                  \u001b[0m \n",
       " \u001b[36m                                                         \u001b[0m│\u001b[32m \u001b[0m\u001b[32mThe article     \u001b[0m\u001b[32m \u001b[0m│\u001b[35m                 \u001b[0m│\u001b[33m                  \u001b[0m \n",
       " \u001b[36m                                                         \u001b[0m│\u001b[32m \u001b[0m\u001b[32mfocuses on      \u001b[0m\u001b[32m \u001b[0m│\u001b[35m                 \u001b[0m│\u001b[33m                  \u001b[0m \n",
       " \u001b[36m                                                         \u001b[0m│\u001b[32m \u001b[0m\u001b[32mvarious features\u001b[0m\u001b[32m \u001b[0m│\u001b[35m                 \u001b[0m│\u001b[33m                  \u001b[0m \n",
       " \u001b[36m                                                         \u001b[0m│\u001b[32m \u001b[0m\u001b[32mlike            \u001b[0m\u001b[32m \u001b[0m│\u001b[35m                 \u001b[0m│\u001b[33m                  \u001b[0m \n",
       " \u001b[36m                                                         \u001b[0m│\u001b[32m \u001b[0m\u001b[32mauthentication, \u001b[0m\u001b[32m \u001b[0m│\u001b[35m                 \u001b[0m│\u001b[33m                  \u001b[0m \n",
       " \u001b[36m                                                         \u001b[0m│\u001b[32m \u001b[0m\u001b[32mdatabases,      \u001b[0m\u001b[32m \u001b[0m│\u001b[35m                 \u001b[0m│\u001b[33m                  \u001b[0m \n",
       " \u001b[36m                                                         \u001b[0m│\u001b[32m \u001b[0m\u001b[32mpayments, and AI\u001b[0m\u001b[32m \u001b[0m│\u001b[35m                 \u001b[0m│\u001b[33m                  \u001b[0m \n",
       " \u001b[36m                                                         \u001b[0m│\u001b[32m \u001b[0m\u001b[32mintegration.    \u001b[0m\u001b[32m \u001b[0m│\u001b[35m                 \u001b[0m│\u001b[33m                  \u001b[0m \n",
       "                                                          ╵                  ╵                 ╵                   \n"
      ]
     },
     "metadata": {},
     "output_type": "display_data"
    },
    {
     "data": {
      "text/html": [
       "<pre style=\"white-space:pre;overflow-x:auto;line-height:normal;font-family:Menlo,'DejaVu Sans Mono',consolas,'Courier New',monospace\">23:59:44.878 | <span style=\"color: #008080; text-decoration-color: #008080\">INFO</span>    | Task run 'display_concatenated_dict-4e4' - Finished in state <span style=\"color: #008000; text-decoration-color: #008000\">Completed</span>()\n",
       "</pre>\n"
      ],
      "text/plain": [
       "23:59:44.878 | \u001b[36mINFO\u001b[0m    | Task run 'display_concatenated_dict-4e4' - Finished in state \u001b[32mCompleted\u001b[0m()\n"
      ]
     },
     "metadata": {},
     "output_type": "display_data"
    },
    {
     "data": {
      "text/html": [
       "<pre style=\"white-space:pre;overflow-x:auto;line-height:normal;font-family:Menlo,'DejaVu Sans Mono',consolas,'Courier New',monospace\">23:59:44.903 | <span style=\"color: #008080; text-decoration-color: #008080\">INFO</span>    | Flow run<span style=\"color: #800080; text-decoration-color: #800080\"> 'unbiased-aardwark'</span> - Finished in state <span style=\"color: #008000; text-decoration-color: #008000\">Completed</span>()\n",
       "</pre>\n"
      ],
      "text/plain": [
       "23:59:44.903 | \u001b[36mINFO\u001b[0m    | Flow run\u001b[35m 'unbiased-aardwark'\u001b[0m - Finished in state \u001b[32mCompleted\u001b[0m()\n"
      ]
     },
     "metadata": {},
     "output_type": "display_data"
    },
    {
     "data": {
      "text/html": [
       "<pre style=\"white-space:pre;overflow-x:auto;line-height:normal;font-family:Menlo,'DejaVu Sans Mono',consolas,'Courier New',monospace\"><span style=\"color: #808000; text-decoration-color: #808000; font-weight: bold\">Summaries:</span>\n",
       "</pre>\n"
      ],
      "text/plain": [
       "\u001b[1;33mSummaries:\u001b[0m\n"
      ]
     },
     "metadata": {},
     "output_type": "display_data"
    },
    {
     "name": "stdout",
     "output_type": "stream",
     "text": [
      "('{\\n'\n",
      " '    \"files\": [\\n'\n",
      " '        {\\n'\n",
      " '            \"file_path\": '\n",
      " '\"/home/rakesh/Downloads/sample_data/four/dsflsdflj.txt\",\\n'\n",
      " '            \"summary\": \"This article discusses the rise of vertical LLM '\n",
      " \"agents in SaaS, using Case Text's Co-Counsel as an example of a successful \"\n",
      " 'AI-driven legal assistant. The text emphasizes the potential for '\n",
      " 'billion-dollar opportunities and how businesses can leverage this '\n",
      " 'technology.\"\\n'\n",
      " '        },\\n'\n",
      " '        {\\n'\n",
      " '            \"file_path\": '\n",
      " '\"/home/rakesh/Downloads/sample_data/four/random_file.txt\",\\n'\n",
      " '            \"summary\": \"This is a test file containing a bank account '\n",
      " 'number. Likely a dummy file\"\\n'\n",
      " '        },\\n'\n",
      " '        {\\n'\n",
      " '            \"file_path\": '\n",
      " '\"/home/rakesh/Downloads/sample_data/four/shad.txt\",\\n'\n",
      " '            \"summary\": \"This article provides an overview of several '\n",
      " 'open-source Next.js starter projects and boilerplates. It lists different '\n",
      " 'projects and their tech stacks, ranging from blog templates to full-stack '\n",
      " 'applications. The article focuses on various features like authentication, '\n",
      " 'databases, payments, and AI integration.\"\\n'\n",
      " '        }\\n'\n",
      " '    ],\\n'\n",
      " '    \"usage\": {\\n'\n",
      " '        \"completion_tokens\": 250,\\n'\n",
      " '        \"prompt_tokens\": 1648,\\n'\n",
      " '        \"total_tokens\": 1898\\n'\n",
      " '    },\\n'\n",
      " '    \"cost\": 0.0\\n'\n",
      " '}')\n"
     ]
    },
    {
     "data": {
      "text/html": [
       "<pre style=\"white-space:pre;overflow-x:auto;line-height:normal;font-family:Menlo,'DejaVu Sans Mono',consolas,'Courier New',monospace\">\n",
       "<span style=\"color: #808000; text-decoration-color: #808000; font-weight: bold\">File Tree:</span>\n",
       "</pre>\n"
      ],
      "text/plain": [
       "\n",
       "\u001b[1;33mFile Tree:\u001b[0m\n"
      ]
     },
     "metadata": {},
     "output_type": "display_data"
    },
    {
     "name": "stdout",
     "output_type": "stream",
     "text": [
      "('[\\n'\n",
      " '    {\\n'\n",
      " '        \"src_path\": '\n",
      " '\"/home/rakesh/Downloads/sample_data/four/dsflsdflj.txt\",\\n'\n",
      " '        \"dst_path\": '\n",
      " '\"/home/rakesh/Downloads/sample_data/four_organized_or/articles/dsflsdflj.txt\",\\n'\n",
      " '        \"dst_path_new\": '\n",
      " '\"/home/rakesh/Downloads/sample_data/four_organized_or/articles/llm_agents_in_saas_v1.txt\"\\n'\n",
      " '    },\\n'\n",
      " '    {\\n'\n",
      " '        \"src_path\": '\n",
      " '\"/home/rakesh/Downloads/sample_data/four/random_file.txt\",\\n'\n",
      " '        \"dst_path\": '\n",
      " '\"/home/rakesh/Downloads/sample_data/four_organized_or/misc/random_file.txt\",\\n'\n",
      " '        \"dst_path_new\": '\n",
      " '\"/home/rakesh/Downloads/sample_data/four_organized_or/misc/dummy_bank_data.txt\"\\n'\n",
      " '    },\\n'\n",
      " '    {\\n'\n",
      " '        \"src_path\": \"/home/rakesh/Downloads/sample_data/four/shad.txt\",\\n'\n",
      " '        \"dst_path\": '\n",
      " '\"/home/rakesh/Downloads/sample_data/four_organized_or/articles/shad.txt\",\\n'\n",
      " '        \"dst_path_new\": '\n",
      " '\"/home/rakesh/Downloads/sample_data/four_organized_or/articles/nextjs_starters_v1.txt\"\\n'\n",
      " '    }\\n'\n",
      " ']')\n"
     ]
    },
    {
     "data": {
      "text/html": [
       "<pre style=\"white-space:pre;overflow-x:auto;line-height:normal;font-family:Menlo,'DejaVu Sans Mono',consolas,'Courier New',monospace\">\n",
       "<span style=\"color: #808000; text-decoration-color: #808000; font-weight: bold\">Concatenated Data:</span>\n",
       "</pre>\n"
      ],
      "text/plain": [
       "\n",
       "\u001b[1;33mConcatenated Data:\u001b[0m\n"
      ]
     },
     "metadata": {},
     "output_type": "display_data"
    },
    {
     "name": "stdout",
     "output_type": "stream",
     "text": [
      "('[\\n'\n",
      " '    {\\n'\n",
      " '        \"file_path\": '\n",
      " '\"/home/rakesh/Downloads/sample_data/four/dsflsdflj.txt\",\\n'\n",
      " '        \"summary\": \"This article discusses the rise of vertical LLM agents '\n",
      " \"in SaaS, using Case Text's Co-Counsel as an example of a successful \"\n",
      " 'AI-driven legal assistant. The text emphasizes the potential for '\n",
      " 'billion-dollar opportunities and how businesses can leverage this '\n",
      " 'technology.\",\\n'\n",
      " '        \"dst_path\": '\n",
      " '\"/home/rakesh/Downloads/sample_data/four_organized_or/articles/dsflsdflj.txt\",\\n'\n",
      " '        \"dst_path_new\": '\n",
      " '\"/home/rakesh/Downloads/sample_data/four_organized_or/articles/llm_agents_in_saas_v1.txt\"\\n'\n",
      " '    },\\n'\n",
      " '    {\\n'\n",
      " '        \"file_path\": '\n",
      " '\"/home/rakesh/Downloads/sample_data/four/random_file.txt\",\\n'\n",
      " '        \"summary\": \"This is a test file containing a bank account number. '\n",
      " 'Likely a dummy file\",\\n'\n",
      " '        \"dst_path\": '\n",
      " '\"/home/rakesh/Downloads/sample_data/four_organized_or/misc/random_file.txt\",\\n'\n",
      " '        \"dst_path_new\": '\n",
      " '\"/home/rakesh/Downloads/sample_data/four_organized_or/misc/dummy_bank_data.txt\"\\n'\n",
      " '    },\\n'\n",
      " '    {\\n'\n",
      " '        \"file_path\": \"/home/rakesh/Downloads/sample_data/four/shad.txt\",\\n'\n",
      " '        \"summary\": \"This article provides an overview of several open-source '\n",
      " 'Next.js starter projects and boilerplates. It lists different projects and '\n",
      " 'their tech stacks, ranging from blog templates to full-stack applications. '\n",
      " 'The article focuses on various features like authentication, databases, '\n",
      " 'payments, and AI integration.\",\\n'\n",
      " '        \"dst_path\": '\n",
      " '\"/home/rakesh/Downloads/sample_data/four_organized_or/articles/shad.txt\",\\n'\n",
      " '        \"dst_path_new\": '\n",
      " '\"/home/rakesh/Downloads/sample_data/four_organized_or/articles/nextjs_starters_v1.txt\"\\n'\n",
      " '    }\\n'\n",
      " ']')\n"
     ]
    }
   ],
   "source": [
    "if __name__ == \"__main__\":\n",
    "    # Define your parameters\n",
    "    source_directory = \"/home/rakesh/Downloads/sample_data/four/\"  # Replace with your actual source documents path\n",
    "    destination_directory = \"/home/rakesh/Downloads/sample_data/four_organized_or/\"  # Replace with your desired destination path\n",
    "    api_host = \"localhost\"                                         # API host address (not needed if api_base is provided)\n",
    "    api_port = 8111                                                # API port number\n",
    "    summary_model = \"openrouter/google/gemini-2.0-flash-exp:free\"\n",
    "    tree_model = \"openrouter/google/gemini-2.0-flash-exp:free\"\n",
    "    api_base_url = \"https://openrouter.ai/api/v1\"                     # Base URL for the API\n",
    "    use_streaming = False                                          # Set to True if you want streaming\n",
    "    # model=\"ollama/smollm2:135m\",\n",
    "\n",
    "    # Ensure destination directory exists\n",
    "    os.makedirs(destination_directory, exist_ok=True)\n",
    "\n",
    "    # Run the workflow\n",
    "    organized_files_result = document_processing_workflow(\n",
    "        source_path=source_directory,\n",
    "        destination_path=destination_directory,\n",
    "        api_host=api_host,\n",
    "        api_port=api_port,\n",
    "        summary_model=summary_model,\n",
    "        tree_model=tree_model,\n",
    "        api_base=api_base_url,                                  # Providing the API base URL\n",
    "        stream=use_streaming\n",
    "    )\n",
    "\n",
    "    # Extract the results\n",
    "    summaries = organized_files_result.get(\"summaries\", {})\n",
    "    file_tree = organized_files_result.get(\"file_tree\", [])\n",
    "    concatenated_data = organized_files_result.get(\"concatenated_data\", [])\n",
    "\n",
    "    # Optionally, pretty-print the results using Rich\n",
    "    console.print(\"[bold yellow]Summaries:[/bold yellow]\")\n",
    "    pprint(json.dumps(summaries, indent=4))\n",
    "\n",
    "    console.print(\"\\n[bold yellow]File Tree:[/bold yellow]\")\n",
    "    pprint(json.dumps(file_tree, indent=4))\n",
    "\n",
    "    console.print(\"\\n[bold yellow]Concatenated Data:[/bold yellow]\")\n",
    "    pprint(json.dumps(concatenated_data, indent=4))\n"
   ]
  },
  {
   "cell_type": "markdown",
   "metadata": {},
   "source": [
    "### OpenRouter - gpt-4o-mini"
   ]
  },
  {
   "cell_type": "code",
   "execution_count": 37,
   "metadata": {},
   "outputs": [
    {
     "data": {
      "text/html": [
       "<pre style=\"white-space:pre;overflow-x:auto;line-height:normal;font-family:Menlo,'DejaVu Sans Mono',consolas,'Courier New',monospace\">23:59:44.972 | <span style=\"color: #008080; text-decoration-color: #008080\">INFO</span>    | prefect.engine - Created flow run<span style=\"color: #800080; text-decoration-color: #800080\"> 'debonair-fulmar'</span> for flow<span style=\"color: #800080; text-decoration-color: #800080; font-weight: bold\"> 'Document Processing Workflow'</span>\n",
       "</pre>\n"
      ],
      "text/plain": [
       "23:59:44.972 | \u001b[36mINFO\u001b[0m    | prefect.engine - Created flow run\u001b[35m 'debonair-fulmar'\u001b[0m for flow\u001b[1;35m 'Document Processing Workflow'\u001b[0m\n"
      ]
     },
     "metadata": {},
     "output_type": "display_data"
    },
    {
     "data": {
      "text/html": [
       "<pre style=\"white-space:pre;overflow-x:auto;line-height:normal;font-family:Menlo,'DejaVu Sans Mono',consolas,'Courier New',monospace\">23:59:45.030 | <span style=\"color: #008080; text-decoration-color: #008080\">INFO</span>    | prefect - Success callback set successfully.\n",
       "</pre>\n"
      ],
      "text/plain": [
       "23:59:45.030 | \u001b[36mINFO\u001b[0m    | prefect - Success callback set successfully.\n"
      ]
     },
     "metadata": {},
     "output_type": "display_data"
    },
    {
     "data": {
      "text/html": [
       "<pre style=\"white-space:pre;overflow-x:auto;line-height:normal;font-family:Menlo,'DejaVu Sans Mono',consolas,'Courier New',monospace\">23:59:45.032 | <span style=\"color: #008080; text-decoration-color: #008080\">INFO</span>    | Task run 'set_success_callback-b1b' - Finished in state <span style=\"color: #008000; text-decoration-color: #008000\">Completed</span>()\n",
       "</pre>\n"
      ],
      "text/plain": [
       "23:59:45.032 | \u001b[36mINFO\u001b[0m    | Task run 'set_success_callback-b1b' - Finished in state \u001b[32mCompleted\u001b[0m()\n"
      ]
     },
     "metadata": {},
     "output_type": "display_data"
    },
    {
     "data": {
      "text/html": [
       "<pre style=\"white-space:pre;overflow-x:auto;line-height:normal;font-family:Menlo,'DejaVu Sans Mono',consolas,'Courier New',monospace\"><span style=\"font-style: italic\">                                              Available Ollama Models                                              </span>\n",
       "                   ╷              ╷              ╷              ╷            ╷             ╷        ╷              \n",
       " <span style=\"font-weight: bold\"> Model Name       </span>│<span style=\"font-weight: bold\"> Modified At  </span>│<span style=\"font-weight: bold\"> Digest       </span>│<span style=\"font-weight: bold\"> Size (bytes) </span>│<span style=\"font-weight: bold\"> Param Size </span>│<span style=\"font-weight: bold\"> Quant Level </span>│<span style=\"font-weight: bold\"> Family </span>│<span style=\"font-weight: bold\"> Families    </span> \n",
       " ══════════════════╪══════════════╪══════════════╪══════════════╪════════════╪═════════════╪════════╪═════════════ \n",
       " <span style=\"color: #008080; text-decoration-color: #008080\"> smollm2:135m     </span>│<span style=\"color: #800080; text-decoration-color: #800080\"> 2024-12-18   </span>│<span style=\"color: #008000; text-decoration-color: #008000\"> 9077fe9d2ae… </span>│<span style=\"color: #808000; text-decoration-color: #808000\">    270898672 </span>│<span style=\"color: #808000; text-decoration-color: #808000\">    134.52M </span>│<span style=\"color: #000080; text-decoration-color: #000080\"> F16         </span>│<span style=\"color: #800000; text-decoration-color: #800000\"> llama  </span>│<span style=\"color: #800000; text-decoration-color: #800000\"> llama       </span> \n",
       " <span style=\"color: #008080; text-decoration-color: #008080\">                  </span>│<span style=\"color: #800080; text-decoration-color: #800080\"> 11:49:06.80… </span>│<span style=\"color: #008000; text-decoration-color: #008000\">              </span>│<span style=\"color: #808000; text-decoration-color: #808000\">              </span>│<span style=\"color: #808000; text-decoration-color: #808000\">            </span>│<span style=\"color: #000080; text-decoration-color: #000080\">             </span>│<span style=\"color: #800000; text-decoration-color: #800000\">        </span>│<span style=\"color: #800000; text-decoration-color: #800000\">             </span> \n",
       " <span style=\"color: #008080; text-decoration-color: #008080\"> llava:latest     </span>│<span style=\"color: #800080; text-decoration-color: #800080\"> 2024-12-07   </span>│<span style=\"color: #008000; text-decoration-color: #008000\"> 8dd30f6b0cb… </span>│<span style=\"color: #808000; text-decoration-color: #808000\">   4733363377 </span>│<span style=\"color: #808000; text-decoration-color: #808000\">         7B </span>│<span style=\"color: #000080; text-decoration-color: #000080\"> Q4_0        </span>│<span style=\"color: #800000; text-decoration-color: #800000\"> llama  </span>│<span style=\"color: #800000; text-decoration-color: #800000\"> llama, clip </span> \n",
       " <span style=\"color: #008080; text-decoration-color: #008080\">                  </span>│<span style=\"color: #800080; text-decoration-color: #800080\"> 23:46:35.56… </span>│<span style=\"color: #008000; text-decoration-color: #008000\">              </span>│<span style=\"color: #808000; text-decoration-color: #808000\">              </span>│<span style=\"color: #808000; text-decoration-color: #808000\">            </span>│<span style=\"color: #000080; text-decoration-color: #000080\">             </span>│<span style=\"color: #800000; text-decoration-color: #800000\">        </span>│<span style=\"color: #800000; text-decoration-color: #800000\">             </span> \n",
       " <span style=\"color: #008080; text-decoration-color: #008080\"> moondream:latest </span>│<span style=\"color: #800080; text-decoration-color: #800080\"> 2024-12-07   </span>│<span style=\"color: #008000; text-decoration-color: #008000\"> 55fc3abd386… </span>│<span style=\"color: #808000; text-decoration-color: #808000\">   1738451197 </span>│<span style=\"color: #808000; text-decoration-color: #808000\">         1B </span>│<span style=\"color: #000080; text-decoration-color: #000080\"> Q4_0        </span>│<span style=\"color: #800000; text-decoration-color: #800000\"> phi2   </span>│<span style=\"color: #800000; text-decoration-color: #800000\"> phi2, clip  </span> \n",
       " <span style=\"color: #008080; text-decoration-color: #008080\">                  </span>│<span style=\"color: #800080; text-decoration-color: #800080\"> 22:19:46.41… </span>│<span style=\"color: #008000; text-decoration-color: #008000\">              </span>│<span style=\"color: #808000; text-decoration-color: #808000\">              </span>│<span style=\"color: #808000; text-decoration-color: #808000\">            </span>│<span style=\"color: #000080; text-decoration-color: #000080\">             </span>│<span style=\"color: #800000; text-decoration-color: #800000\">        </span>│<span style=\"color: #800000; text-decoration-color: #800000\">             </span> \n",
       " <span style=\"color: #008080; text-decoration-color: #008080\"> llama3.2:latest  </span>│<span style=\"color: #800080; text-decoration-color: #800080\"> 2024-12-07   </span>│<span style=\"color: #008000; text-decoration-color: #008000\"> a80c4f17acd… </span>│<span style=\"color: #808000; text-decoration-color: #808000\">   2019393189 </span>│<span style=\"color: #808000; text-decoration-color: #808000\">       3.2B </span>│<span style=\"color: #000080; text-decoration-color: #000080\"> Q4_K_M      </span>│<span style=\"color: #800000; text-decoration-color: #800000\"> llama  </span>│<span style=\"color: #800000; text-decoration-color: #800000\"> llama       </span> \n",
       " <span style=\"color: #008080; text-decoration-color: #008080\">                  </span>│<span style=\"color: #800080; text-decoration-color: #800080\"> 22:18:36.84… </span>│<span style=\"color: #008000; text-decoration-color: #008000\">              </span>│<span style=\"color: #808000; text-decoration-color: #808000\">              </span>│<span style=\"color: #808000; text-decoration-color: #808000\">            </span>│<span style=\"color: #000080; text-decoration-color: #000080\">             </span>│<span style=\"color: #800000; text-decoration-color: #800000\">        </span>│<span style=\"color: #800000; text-decoration-color: #800000\">             </span> \n",
       "                   ╵              ╵              ╵              ╵            ╵             ╵        ╵              \n",
       "</pre>\n"
      ],
      "text/plain": [
       "\u001b[3m                                              Available Ollama Models                                              \u001b[0m\n",
       "                   ╷              ╷              ╷              ╷            ╷             ╷        ╷              \n",
       " \u001b[1m \u001b[0m\u001b[1mModel Name      \u001b[0m\u001b[1m \u001b[0m│\u001b[1m \u001b[0m\u001b[1mModified At \u001b[0m\u001b[1m \u001b[0m│\u001b[1m \u001b[0m\u001b[1mDigest      \u001b[0m\u001b[1m \u001b[0m│\u001b[1m \u001b[0m\u001b[1mSize (bytes)\u001b[0m\u001b[1m \u001b[0m│\u001b[1m \u001b[0m\u001b[1mParam Size\u001b[0m\u001b[1m \u001b[0m│\u001b[1m \u001b[0m\u001b[1mQuant Level\u001b[0m\u001b[1m \u001b[0m│\u001b[1m \u001b[0m\u001b[1mFamily\u001b[0m\u001b[1m \u001b[0m│\u001b[1m \u001b[0m\u001b[1mFamilies   \u001b[0m\u001b[1m \u001b[0m \n",
       " ══════════════════╪══════════════╪══════════════╪══════════════╪════════════╪═════════════╪════════╪═════════════ \n",
       " \u001b[36m \u001b[0m\u001b[36msmollm2:135m    \u001b[0m\u001b[36m \u001b[0m│\u001b[35m \u001b[0m\u001b[35m2024-12-18  \u001b[0m\u001b[35m \u001b[0m│\u001b[32m \u001b[0m\u001b[32m9077fe9d2ae…\u001b[0m\u001b[32m \u001b[0m│\u001b[33m \u001b[0m\u001b[33m   270898672\u001b[0m\u001b[33m \u001b[0m│\u001b[33m \u001b[0m\u001b[33m   134.52M\u001b[0m\u001b[33m \u001b[0m│\u001b[34m \u001b[0m\u001b[34mF16        \u001b[0m\u001b[34m \u001b[0m│\u001b[31m \u001b[0m\u001b[31mllama \u001b[0m\u001b[31m \u001b[0m│\u001b[31m \u001b[0m\u001b[31mllama      \u001b[0m\u001b[31m \u001b[0m \n",
       " \u001b[36m                  \u001b[0m│\u001b[35m \u001b[0m\u001b[35m11:49:06.80…\u001b[0m\u001b[35m \u001b[0m│\u001b[32m              \u001b[0m│\u001b[33m              \u001b[0m│\u001b[33m            \u001b[0m│\u001b[34m             \u001b[0m│\u001b[31m        \u001b[0m│\u001b[31m             \u001b[0m \n",
       " \u001b[36m \u001b[0m\u001b[36mllava:latest    \u001b[0m\u001b[36m \u001b[0m│\u001b[35m \u001b[0m\u001b[35m2024-12-07  \u001b[0m\u001b[35m \u001b[0m│\u001b[32m \u001b[0m\u001b[32m8dd30f6b0cb…\u001b[0m\u001b[32m \u001b[0m│\u001b[33m \u001b[0m\u001b[33m  4733363377\u001b[0m\u001b[33m \u001b[0m│\u001b[33m \u001b[0m\u001b[33m        7B\u001b[0m\u001b[33m \u001b[0m│\u001b[34m \u001b[0m\u001b[34mQ4_0       \u001b[0m\u001b[34m \u001b[0m│\u001b[31m \u001b[0m\u001b[31mllama \u001b[0m\u001b[31m \u001b[0m│\u001b[31m \u001b[0m\u001b[31mllama, clip\u001b[0m\u001b[31m \u001b[0m \n",
       " \u001b[36m                  \u001b[0m│\u001b[35m \u001b[0m\u001b[35m23:46:35.56…\u001b[0m\u001b[35m \u001b[0m│\u001b[32m              \u001b[0m│\u001b[33m              \u001b[0m│\u001b[33m            \u001b[0m│\u001b[34m             \u001b[0m│\u001b[31m        \u001b[0m│\u001b[31m             \u001b[0m \n",
       " \u001b[36m \u001b[0m\u001b[36mmoondream:latest\u001b[0m\u001b[36m \u001b[0m│\u001b[35m \u001b[0m\u001b[35m2024-12-07  \u001b[0m\u001b[35m \u001b[0m│\u001b[32m \u001b[0m\u001b[32m55fc3abd386…\u001b[0m\u001b[32m \u001b[0m│\u001b[33m \u001b[0m\u001b[33m  1738451197\u001b[0m\u001b[33m \u001b[0m│\u001b[33m \u001b[0m\u001b[33m        1B\u001b[0m\u001b[33m \u001b[0m│\u001b[34m \u001b[0m\u001b[34mQ4_0       \u001b[0m\u001b[34m \u001b[0m│\u001b[31m \u001b[0m\u001b[31mphi2  \u001b[0m\u001b[31m \u001b[0m│\u001b[31m \u001b[0m\u001b[31mphi2, clip \u001b[0m\u001b[31m \u001b[0m \n",
       " \u001b[36m                  \u001b[0m│\u001b[35m \u001b[0m\u001b[35m22:19:46.41…\u001b[0m\u001b[35m \u001b[0m│\u001b[32m              \u001b[0m│\u001b[33m              \u001b[0m│\u001b[33m            \u001b[0m│\u001b[34m             \u001b[0m│\u001b[31m        \u001b[0m│\u001b[31m             \u001b[0m \n",
       " \u001b[36m \u001b[0m\u001b[36mllama3.2:latest \u001b[0m\u001b[36m \u001b[0m│\u001b[35m \u001b[0m\u001b[35m2024-12-07  \u001b[0m\u001b[35m \u001b[0m│\u001b[32m \u001b[0m\u001b[32ma80c4f17acd…\u001b[0m\u001b[32m \u001b[0m│\u001b[33m \u001b[0m\u001b[33m  2019393189\u001b[0m\u001b[33m \u001b[0m│\u001b[33m \u001b[0m\u001b[33m      3.2B\u001b[0m\u001b[33m \u001b[0m│\u001b[34m \u001b[0m\u001b[34mQ4_K_M     \u001b[0m\u001b[34m \u001b[0m│\u001b[31m \u001b[0m\u001b[31mllama \u001b[0m\u001b[31m \u001b[0m│\u001b[31m \u001b[0m\u001b[31mllama      \u001b[0m\u001b[31m \u001b[0m \n",
       " \u001b[36m                  \u001b[0m│\u001b[35m \u001b[0m\u001b[35m22:18:36.84…\u001b[0m\u001b[35m \u001b[0m│\u001b[32m              \u001b[0m│\u001b[33m              \u001b[0m│\u001b[33m            \u001b[0m│\u001b[34m             \u001b[0m│\u001b[31m        \u001b[0m│\u001b[31m             \u001b[0m \n",
       "                   ╵              ╵              ╵              ╵            ╵             ╵        ╵              \n"
      ]
     },
     "metadata": {},
     "output_type": "display_data"
    },
    {
     "data": {
      "text/html": [
       "<pre style=\"white-space:pre;overflow-x:auto;line-height:normal;font-family:Menlo,'DejaVu Sans Mono',consolas,'Courier New',monospace\">23:59:45.062 | <span style=\"color: #008080; text-decoration-color: #008080\">INFO</span>    | Task run 'list_ollama_models-5c3' - Finished in state <span style=\"color: #008000; text-decoration-color: #008000\">Completed</span>()\n",
       "</pre>\n"
      ],
      "text/plain": [
       "23:59:45.062 | \u001b[36mINFO\u001b[0m    | Task run 'list_ollama_models-5c3' - Finished in state \u001b[32mCompleted\u001b[0m()\n"
      ]
     },
     "metadata": {},
     "output_type": "display_data"
    },
    {
     "data": {
      "text/html": [
       "<pre style=\"white-space:pre;overflow-x:auto;line-height:normal;font-family:Menlo,'DejaVu Sans Mono',consolas,'Courier New',monospace\">23:59:45.086 | <span style=\"color: #008080; text-decoration-color: #008080\">INFO</span>    | prefect - Loaded 3 documents from /home/rakesh/Downloads/sample_data/four/\n",
       "</pre>\n"
      ],
      "text/plain": [
       "23:59:45.086 | \u001b[36mINFO\u001b[0m    | prefect - Loaded 3 documents from /home/rakesh/Downloads/sample_data/four/\n"
      ]
     },
     "metadata": {},
     "output_type": "display_data"
    },
    {
     "data": {
      "text/html": [
       "<pre style=\"white-space:pre;overflow-x:auto;line-height:normal;font-family:Menlo,'DejaVu Sans Mono',consolas,'Courier New',monospace\"><span style=\"color: #008000; text-decoration-color: #008000; font-weight: bold\">Loaded </span><span style=\"color: #008000; text-decoration-color: #008000; font-weight: bold\">3</span><span style=\"color: #008000; text-decoration-color: #008000; font-weight: bold\"> documents from /home/rakesh/Downloads/sample_data/four/</span>\n",
       "</pre>\n"
      ],
      "text/plain": [
       "\u001b[1;32mLoaded \u001b[0m\u001b[1;32m3\u001b[0m\u001b[1;32m documents from \u001b[0m\u001b[1;32m/home/rakesh/Downloads/sample_data/four/\u001b[0m\n"
      ]
     },
     "metadata": {},
     "output_type": "display_data"
    },
    {
     "data": {
      "text/html": [
       "<pre style=\"white-space:pre;overflow-x:auto;line-height:normal;font-family:Menlo,'DejaVu Sans Mono',consolas,'Courier New',monospace\">23:59:45.089 | <span style=\"color: #008080; text-decoration-color: #008080\">INFO</span>    | Task run 'load_documents-95f' - Finished in state <span style=\"color: #008000; text-decoration-color: #008000\">Completed</span>()\n",
       "</pre>\n"
      ],
      "text/plain": [
       "23:59:45.089 | \u001b[36mINFO\u001b[0m    | Task run 'load_documents-95f' - Finished in state \u001b[32mCompleted\u001b[0m()\n"
      ]
     },
     "metadata": {},
     "output_type": "display_data"
    },
    {
     "data": {
      "text/html": [
       "<pre style=\"white-space:pre;overflow-x:auto;line-height:normal;font-family:Menlo,'DejaVu Sans Mono',consolas,'Courier New',monospace\">23:59:45.112 | <span style=\"color: #008080; text-decoration-color: #008080\">INFO</span>    | prefect - Processed metadata: 3 unique documents\n",
       "</pre>\n"
      ],
      "text/plain": [
       "23:59:45.112 | \u001b[36mINFO\u001b[0m    | prefect - Processed metadata: 3 unique documents\n"
      ]
     },
     "metadata": {},
     "output_type": "display_data"
    },
    {
     "data": {
      "text/html": [
       "<pre style=\"white-space:pre;overflow-x:auto;line-height:normal;font-family:Menlo,'DejaVu Sans Mono',consolas,'Courier New',monospace\"><span style=\"color: #008000; text-decoration-color: #008000; font-weight: bold\">Processed metadata: </span><span style=\"color: #008000; text-decoration-color: #008000; font-weight: bold\">3</span><span style=\"color: #008000; text-decoration-color: #008000; font-weight: bold\"> unique documents</span>\n",
       "</pre>\n"
      ],
      "text/plain": [
       "\u001b[1;32mProcessed metadata: \u001b[0m\u001b[1;32m3\u001b[0m\u001b[1;32m unique documents\u001b[0m\n"
      ]
     },
     "metadata": {},
     "output_type": "display_data"
    },
    {
     "data": {
      "text/html": [
       "<pre style=\"white-space:pre;overflow-x:auto;line-height:normal;font-family:Menlo,'DejaVu Sans Mono',consolas,'Courier New',monospace\">23:59:45.115 | <span style=\"color: #008080; text-decoration-color: #008080\">INFO</span>    | Task run 'process_metadata-a3a' - Finished in state <span style=\"color: #008000; text-decoration-color: #008000\">Completed</span>()\n",
       "</pre>\n"
      ],
      "text/plain": [
       "23:59:45.115 | \u001b[36mINFO\u001b[0m    | Task run 'process_metadata-a3a' - Finished in state \u001b[32mCompleted\u001b[0m()\n"
      ]
     },
     "metadata": {},
     "output_type": "display_data"
    },
    {
     "name": "stdout",
     "output_type": "stream",
     "text": [
      ">>>> Content summary:\n",
      "{\n",
      "  \"files\": [\n",
      "    {\n",
      "      \"file_path\": \"/home/rakesh/Downloads/sample_data/four/dsflsdflj.txt\",\n",
      "      \"summary\": \"Discussion on the emergence of Vertical Large Language Model (LLM) Agents in SaaS innovations, highlighting the success of Case Text's Co-Counsel as a transformative AI-driven legal assistant, and its impact on company valuation.\"\n",
      "    },\n",
      "    {\n",
      "      \"file_path\": \"/home/rakesh/Downloads/sample_data/four/random_file.txt\",\n",
      "      \"summary\": \"A test file containing sensitive information, specifically a bank account number.\"\n",
      "    },\n",
      "    {\n",
      "      \"file_path\": \"/home/rakesh/Downloads/sample_data/four/shad.txt\",\n",
      "      \"summary\": \"An overview of Next.js as a web development framework, including a list of recommended open source boilerplates and starter projects for building applications, highlighting their features and tech stacks.\"\n",
      "    }\n",
      "  ]\n",
      "}\n",
      "Summaries:\n",
      "{'files': [{'file_path': '/home/rakesh/Downloads/sample_data/four/dsflsdflj.txt', 'summary': \"Discussion on the emergence of Vertical Large Language Model (LLM) Agents in SaaS innovations, highlighting the success of Case Text's Co-Counsel as a transformative AI-driven legal assistant, and its impact on company valuation.\"}, {'file_path': '/home/rakesh/Downloads/sample_data/four/random_file.txt', 'summary': 'A test file containing sensitive information, specifically a bank account number.'}, {'file_path': '/home/rakesh/Downloads/sample_data/four/shad.txt', 'summary': 'An overview of Next.js as a web development framework, including a list of recommended open source boilerplates and starter projects for building applications, highlighting their features and tech stacks.'}]}\n"
     ]
    },
    {
     "data": {
      "text/html": [
       "<pre style=\"white-space:pre;overflow-x:auto;line-height:normal;font-family:Menlo,'DejaVu Sans Mono',consolas,'Courier New',monospace\">23:59:49.771 | <span style=\"color: #008080; text-decoration-color: #008080\">INFO</span>    | prefect - Generated summaries for 3 files with cost 0.003012\n",
       "</pre>\n"
      ],
      "text/plain": [
       "23:59:49.771 | \u001b[36mINFO\u001b[0m    | prefect - Generated summaries for 3 files with cost 0.003012\n"
      ]
     },
     "metadata": {},
     "output_type": "display_data"
    },
    {
     "data": {
      "text/html": [
       "<pre style=\"white-space:pre;overflow-x:auto;line-height:normal;font-family:Menlo,'DejaVu Sans Mono',consolas,'Courier New',monospace\"><span style=\"color: #008000; text-decoration-color: #008000; font-weight: bold\">Generated summaries for </span><span style=\"color: #008000; text-decoration-color: #008000; font-weight: bold\">3</span><span style=\"color: #008000; text-decoration-color: #008000; font-weight: bold\"> files with cost </span><span style=\"color: #008000; text-decoration-color: #008000; font-weight: bold\">0.003012</span>\n",
       "</pre>\n"
      ],
      "text/plain": [
       "\u001b[1;32mGenerated summaries for \u001b[0m\u001b[1;32m3\u001b[0m\u001b[1;32m files with cost \u001b[0m\u001b[1;32m0.003012\u001b[0m\n"
      ]
     },
     "metadata": {},
     "output_type": "display_data"
    },
    {
     "data": {
      "text/html": [
       "<pre style=\"white-space:pre;overflow-x:auto;line-height:normal;font-family:Menlo,'DejaVu Sans Mono',consolas,'Courier New',monospace\">23:59:49.776 | <span style=\"color: #008080; text-decoration-color: #008080\">INFO</span>    | Task run 'query_summaries-41f' - Finished in state <span style=\"color: #008000; text-decoration-color: #008000\">Completed</span>()\n",
       "</pre>\n"
      ],
      "text/plain": [
       "23:59:49.776 | \u001b[36mINFO\u001b[0m    | Task run 'query_summaries-41f' - Finished in state \u001b[32mCompleted\u001b[0m()\n"
      ]
     },
     "metadata": {},
     "output_type": "display_data"
    },
    {
     "data": {
      "text/html": [
       "<pre style=\"white-space:pre;overflow-x:auto;line-height:normal;font-family:Menlo,'DejaVu Sans Mono',consolas,'Courier New',monospace\">23:59:49.848 | <span style=\"color: #008080; text-decoration-color: #008080\">INFO</span>    | prefect - Calculated cost: 0.004854000000000001\n",
       "</pre>\n"
      ],
      "text/plain": [
       "23:59:49.848 | \u001b[36mINFO\u001b[0m    | prefect - Calculated cost: 0.004854000000000001\n"
      ]
     },
     "metadata": {},
     "output_type": "display_data"
    },
    {
     "data": {
      "text/html": [
       "<pre style=\"white-space:pre;overflow-x:auto;line-height:normal;font-family:Menlo,'DejaVu Sans Mono',consolas,'Courier New',monospace\"><span style=\"color: #008000; text-decoration-color: #008000; font-weight: bold\">Calculated cost:</span> <span style=\"color: #808000; text-decoration-color: #808000; font-weight: bold\">0.004854000000000001</span>\n",
       "</pre>\n"
      ],
      "text/plain": [
       "\u001b[1;32mCalculated cost:\u001b[0m \u001b[1;33m0.004854000000000001\u001b[0m\n"
      ]
     },
     "metadata": {},
     "output_type": "display_data"
    },
    {
     "data": {
      "text/html": [
       "<pre style=\"white-space:pre;overflow-x:auto;line-height:normal;font-family:Menlo,'DejaVu Sans Mono',consolas,'Courier New',monospace\">23:59:49.853 | <span style=\"color: #008080; text-decoration-color: #008080\">INFO</span>    | Task run 'track_cost_callback' - Finished in state <span style=\"color: #008000; text-decoration-color: #008000\">Completed</span>()\n",
       "</pre>\n"
      ],
      "text/plain": [
       "23:59:49.853 | \u001b[36mINFO\u001b[0m    | Task run 'track_cost_callback' - Finished in state \u001b[32mCompleted\u001b[0m()\n"
      ]
     },
     "metadata": {},
     "output_type": "display_data"
    },
    {
     "data": {
      "text/html": [
       "<pre style=\"white-space:pre;overflow-x:auto;line-height:normal;font-family:Menlo,'DejaVu Sans Mono',consolas,'Courier New',monospace\">23:59:54.570 | <span style=\"color: #008080; text-decoration-color: #008080\">INFO</span>    | prefect - Created file tree for 3 files\n",
       "</pre>\n"
      ],
      "text/plain": [
       "23:59:54.570 | \u001b[36mINFO\u001b[0m    | prefect - Created file tree for 3 files\n"
      ]
     },
     "metadata": {},
     "output_type": "display_data"
    },
    {
     "data": {
      "text/html": [
       "<pre style=\"white-space:pre;overflow-x:auto;line-height:normal;font-family:Menlo,'DejaVu Sans Mono',consolas,'Courier New',monospace\"><span style=\"color: #008000; text-decoration-color: #008000; font-weight: bold\">Created file tree for </span><span style=\"color: #008000; text-decoration-color: #008000; font-weight: bold\">3</span><span style=\"color: #008000; text-decoration-color: #008000; font-weight: bold\"> files</span>\n",
       "</pre>\n"
      ],
      "text/plain": [
       "\u001b[1;32mCreated file tree for \u001b[0m\u001b[1;32m3\u001b[0m\u001b[1;32m files\u001b[0m\n"
      ]
     },
     "metadata": {},
     "output_type": "display_data"
    },
    {
     "data": {
      "text/html": [
       "<pre style=\"white-space:pre;overflow-x:auto;line-height:normal;font-family:Menlo,'DejaVu Sans Mono',consolas,'Courier New',monospace\">23:59:54.576 | <span style=\"color: #008080; text-decoration-color: #008080\">INFO</span>    | Task run 'create_file_tree-d37' - Finished in state <span style=\"color: #008000; text-decoration-color: #008000\">Completed</span>()\n",
       "</pre>\n"
      ],
      "text/plain": [
       "23:59:54.576 | \u001b[36mINFO\u001b[0m    | Task run 'create_file_tree-d37' - Finished in state \u001b[32mCompleted\u001b[0m()\n"
      ]
     },
     "metadata": {},
     "output_type": "display_data"
    },
    {
     "data": {
      "text/html": [
       "<pre style=\"white-space:pre;overflow-x:auto;line-height:normal;font-family:Menlo,'DejaVu Sans Mono',consolas,'Courier New',monospace\">23:59:54.633 | <span style=\"color: #008080; text-decoration-color: #008080\">INFO</span>    | prefect - All necessary subdirectories created.\n",
       "</pre>\n"
      ],
      "text/plain": [
       "23:59:54.633 | \u001b[36mINFO\u001b[0m    | prefect - All necessary subdirectories created.\n"
      ]
     },
     "metadata": {},
     "output_type": "display_data"
    },
    {
     "data": {
      "text/html": [
       "<pre style=\"white-space:pre;overflow-x:auto;line-height:normal;font-family:Menlo,'DejaVu Sans Mono',consolas,'Courier New',monospace\">23:59:54.635 | <span style=\"color: #008080; text-decoration-color: #008080\">INFO</span>    | prefect - Calculated cost: 0.002577\n",
       "</pre>\n"
      ],
      "text/plain": [
       "23:59:54.635 | \u001b[36mINFO\u001b[0m    | prefect - Calculated cost: 0.002577\n"
      ]
     },
     "metadata": {},
     "output_type": "display_data"
    },
    {
     "data": {
      "text/html": [
       "<pre style=\"white-space:pre;overflow-x:auto;line-height:normal;font-family:Menlo,'DejaVu Sans Mono',consolas,'Courier New',monospace\"><span style=\"color: #008000; text-decoration-color: #008000; font-weight: bold\">All necessary subdirectories created.</span>\n",
       "</pre>\n"
      ],
      "text/plain": [
       "\u001b[1;32mAll necessary subdirectories created.\u001b[0m\n"
      ]
     },
     "metadata": {},
     "output_type": "display_data"
    },
    {
     "data": {
      "text/html": [
       "<pre style=\"white-space:pre;overflow-x:auto;line-height:normal;font-family:Menlo,'DejaVu Sans Mono',consolas,'Courier New',monospace\"><span style=\"color: #008000; text-decoration-color: #008000; font-weight: bold\">Calculated cost:</span> <span style=\"color: #808000; text-decoration-color: #808000; font-weight: bold\">0.002577</span>\n",
       "</pre>\n"
      ],
      "text/plain": [
       "\u001b[1;32mCalculated cost:\u001b[0m \u001b[1;33m0.002577\u001b[0m\n"
      ]
     },
     "metadata": {},
     "output_type": "display_data"
    },
    {
     "data": {
      "text/html": [
       "<pre style=\"white-space:pre;overflow-x:auto;line-height:normal;font-family:Menlo,'DejaVu Sans Mono',consolas,'Courier New',monospace\">23:59:54.638 | <span style=\"color: #008080; text-decoration-color: #008080\">INFO</span>    | Task run 'create_subdirectories-fa4' - Finished in state <span style=\"color: #008000; text-decoration-color: #008000\">Completed</span>()\n",
       "</pre>\n"
      ],
      "text/plain": [
       "23:59:54.638 | \u001b[36mINFO\u001b[0m    | Task run 'create_subdirectories-fa4' - Finished in state \u001b[32mCompleted\u001b[0m()\n"
      ]
     },
     "metadata": {},
     "output_type": "display_data"
    },
    {
     "data": {
      "text/html": [
       "<pre style=\"white-space:pre;overflow-x:auto;line-height:normal;font-family:Menlo,'DejaVu Sans Mono',consolas,'Courier New',monospace\">23:59:54.641 | <span style=\"color: #008080; text-decoration-color: #008080\">INFO</span>    | Task run 'track_cost_callback' - Finished in state <span style=\"color: #008000; text-decoration-color: #008000\">Completed</span>()\n",
       "</pre>\n"
      ],
      "text/plain": [
       "23:59:54.641 | \u001b[36mINFO\u001b[0m    | Task run 'track_cost_callback' - Finished in state \u001b[32mCompleted\u001b[0m()\n"
      ]
     },
     "metadata": {},
     "output_type": "display_data"
    },
    {
     "data": {
      "text/html": [
       "<pre style=\"white-space:pre;overflow-x:auto;line-height:normal;font-family:Menlo,'DejaVu Sans Mono',consolas,'Courier New',monospace\">23:59:54.674 | <span style=\"color: #008080; text-decoration-color: #008080\">INFO</span>    | prefect - Concatenated summary and file tree for 3 files\n",
       "</pre>\n"
      ],
      "text/plain": [
       "23:59:54.674 | \u001b[36mINFO\u001b[0m    | prefect - Concatenated summary and file tree for 3 files\n"
      ]
     },
     "metadata": {},
     "output_type": "display_data"
    },
    {
     "data": {
      "text/html": [
       "<pre style=\"white-space:pre;overflow-x:auto;line-height:normal;font-family:Menlo,'DejaVu Sans Mono',consolas,'Courier New',monospace\"><span style=\"color: #008000; text-decoration-color: #008000; font-weight: bold\">Concatenated summary and file tree for </span><span style=\"color: #008000; text-decoration-color: #008000; font-weight: bold\">3</span><span style=\"color: #008000; text-decoration-color: #008000; font-weight: bold\"> files</span>\n",
       "</pre>\n"
      ],
      "text/plain": [
       "\u001b[1;32mConcatenated summary and file tree for \u001b[0m\u001b[1;32m3\u001b[0m\u001b[1;32m files\u001b[0m\n"
      ]
     },
     "metadata": {},
     "output_type": "display_data"
    },
    {
     "data": {
      "text/html": [
       "<pre style=\"white-space:pre;overflow-x:auto;line-height:normal;font-family:Menlo,'DejaVu Sans Mono',consolas,'Courier New',monospace\">23:59:54.680 | <span style=\"color: #008080; text-decoration-color: #008080\">INFO</span>    | Task run 'concatenate_summaries_and_file_tree-f5c' - Finished in state <span style=\"color: #008000; text-decoration-color: #008000\">Completed</span>()\n",
       "</pre>\n"
      ],
      "text/plain": [
       "23:59:54.680 | \u001b[36mINFO\u001b[0m    | Task run 'concatenate_summaries_and_file_tree-f5c' - Finished in state \u001b[32mCompleted\u001b[0m()\n"
      ]
     },
     "metadata": {},
     "output_type": "display_data"
    },
    {
     "data": {
      "text/html": [
       "<pre style=\"white-space:pre;overflow-x:auto;line-height:normal;font-family:Menlo,'DejaVu Sans Mono',consolas,'Courier New',monospace\"><span style=\"font-style: italic\">                                              Organized Files                                              </span>\n",
       "              ╷                                                                                            \n",
       " <span style=\"font-weight: bold\"> Source Path </span>│<span style=\"font-weight: bold\"> Destination Path                                                                          </span> \n",
       " ═════════════╪═══════════════════════════════════════════════════════════════════════════════════════════ \n",
       " <span style=\"color: #008080; text-decoration-color: #008080\">             </span>│<span style=\"color: #008000; text-decoration-color: #008000\"> /home/rakesh/Downloads/sample_data/four_organized_or/2024/04/llm_emergence_discussion.txt </span> \n",
       " <span style=\"color: #008080; text-decoration-color: #008080\">             </span>│<span style=\"color: #008000; text-decoration-color: #008000\"> /home/rakesh/Downloads/sample_data/four_organized_or/2024/04/sensitive_test_file.txt      </span> \n",
       " <span style=\"color: #008080; text-decoration-color: #008080\">             </span>│<span style=\"color: #008000; text-decoration-color: #008000\"> /home/rakesh/Downloads/sample_data/four_organized_or/2024/04/next_js_overview.txt         </span> \n",
       "              ╵                                                                                            \n",
       "</pre>\n"
      ],
      "text/plain": [
       "\u001b[3m                                              Organized Files                                              \u001b[0m\n",
       "              ╷                                                                                            \n",
       " \u001b[1m \u001b[0m\u001b[1mSource Path\u001b[0m\u001b[1m \u001b[0m│\u001b[1m \u001b[0m\u001b[1mDestination Path                                                                         \u001b[0m\u001b[1m \u001b[0m \n",
       " ═════════════╪═══════════════════════════════════════════════════════════════════════════════════════════ \n",
       " \u001b[36m \u001b[0m\u001b[36m           \u001b[0m\u001b[36m \u001b[0m│\u001b[32m \u001b[0m\u001b[32m/home/rakesh/Downloads/sample_data/four_organized_or/2024/04/llm_emergence_discussion.txt\u001b[0m\u001b[32m \u001b[0m \n",
       " \u001b[36m \u001b[0m\u001b[36m           \u001b[0m\u001b[36m \u001b[0m│\u001b[32m \u001b[0m\u001b[32m/home/rakesh/Downloads/sample_data/four_organized_or/2024/04/sensitive_test_file.txt     \u001b[0m\u001b[32m \u001b[0m \n",
       " \u001b[36m \u001b[0m\u001b[36m           \u001b[0m\u001b[36m \u001b[0m│\u001b[32m \u001b[0m\u001b[32m/home/rakesh/Downloads/sample_data/four_organized_or/2024/04/next_js_overview.txt        \u001b[0m\u001b[32m \u001b[0m \n",
       "              ╵                                                                                            \n"
      ]
     },
     "metadata": {},
     "output_type": "display_data"
    },
    {
     "data": {
      "text/html": [
       "<pre style=\"white-space:pre;overflow-x:auto;line-height:normal;font-family:Menlo,'DejaVu Sans Mono',consolas,'Courier New',monospace\">23:59:54.708 | <span style=\"color: #008080; text-decoration-color: #008080\">INFO</span>    | Task run 'display_organized_files-438' - Finished in state <span style=\"color: #008000; text-decoration-color: #008000\">Completed</span>()\n",
       "</pre>\n"
      ],
      "text/plain": [
       "23:59:54.708 | \u001b[36mINFO\u001b[0m    | Task run 'display_organized_files-438' - Finished in state \u001b[32mCompleted\u001b[0m()\n"
      ]
     },
     "metadata": {},
     "output_type": "display_data"
    },
    {
     "data": {
      "text/html": [
       "<pre style=\"white-space:pre;overflow-x:auto;line-height:normal;font-family:Menlo,'DejaVu Sans Mono',consolas,'Courier New',monospace\"><span style=\"font-style: italic\">                                           Summaries and Organized Files                                           </span>\n",
       "                                                          ╷                  ╷                 ╷                   \n",
       " <span style=\"font-weight: bold\">                                                         </span>│<span style=\"font-weight: bold\">                  </span>│<span style=\"font-weight: bold\"> Destination     </span>│<span style=\"font-weight: bold\"> Destination Path </span> \n",
       " <span style=\"font-weight: bold\"> File Path                                               </span>│<span style=\"font-weight: bold\"> Summary          </span>│<span style=\"font-weight: bold\"> Path            </span>│<span style=\"font-weight: bold\"> New              </span> \n",
       " ═════════════════════════════════════════════════════════╪══════════════════╪═════════════════╪══════════════════ \n",
       " <span style=\"color: #008080; text-decoration-color: #008080\"> /home/rakesh/Downloads/sample_data/four/dsflsdflj.txt   </span>│<span style=\"color: #008000; text-decoration-color: #008000\"> Discussion on    </span>│<span style=\"color: #800080; text-decoration-color: #800080\"> /home/rakesh/D… </span>│<span style=\"color: #808000; text-decoration-color: #808000\"> /home/rakesh/Do… </span> \n",
       " <span style=\"color: #008080; text-decoration-color: #008080\">                                                         </span>│<span style=\"color: #008000; text-decoration-color: #008000\"> the emergence of </span>│<span style=\"color: #800080; text-decoration-color: #800080\">                 </span>│<span style=\"color: #808000; text-decoration-color: #808000\">                  </span> \n",
       " <span style=\"color: #008080; text-decoration-color: #008080\">                                                         </span>│<span style=\"color: #008000; text-decoration-color: #008000\"> Vertical Large   </span>│<span style=\"color: #800080; text-decoration-color: #800080\">                 </span>│<span style=\"color: #808000; text-decoration-color: #808000\">                  </span> \n",
       " <span style=\"color: #008080; text-decoration-color: #008080\">                                                         </span>│<span style=\"color: #008000; text-decoration-color: #008000\"> Language Model   </span>│<span style=\"color: #800080; text-decoration-color: #800080\">                 </span>│<span style=\"color: #808000; text-decoration-color: #808000\">                  </span> \n",
       " <span style=\"color: #008080; text-decoration-color: #008080\">                                                         </span>│<span style=\"color: #008000; text-decoration-color: #008000\"> (LLM) Agents in  </span>│<span style=\"color: #800080; text-decoration-color: #800080\">                 </span>│<span style=\"color: #808000; text-decoration-color: #808000\">                  </span> \n",
       " <span style=\"color: #008080; text-decoration-color: #008080\">                                                         </span>│<span style=\"color: #008000; text-decoration-color: #008000\"> SaaS             </span>│<span style=\"color: #800080; text-decoration-color: #800080\">                 </span>│<span style=\"color: #808000; text-decoration-color: #808000\">                  </span> \n",
       " <span style=\"color: #008080; text-decoration-color: #008080\">                                                         </span>│<span style=\"color: #008000; text-decoration-color: #008000\"> innovations,     </span>│<span style=\"color: #800080; text-decoration-color: #800080\">                 </span>│<span style=\"color: #808000; text-decoration-color: #808000\">                  </span> \n",
       " <span style=\"color: #008080; text-decoration-color: #008080\">                                                         </span>│<span style=\"color: #008000; text-decoration-color: #008000\"> highlighting the </span>│<span style=\"color: #800080; text-decoration-color: #800080\">                 </span>│<span style=\"color: #808000; text-decoration-color: #808000\">                  </span> \n",
       " <span style=\"color: #008080; text-decoration-color: #008080\">                                                         </span>│<span style=\"color: #008000; text-decoration-color: #008000\"> success of Case  </span>│<span style=\"color: #800080; text-decoration-color: #800080\">                 </span>│<span style=\"color: #808000; text-decoration-color: #808000\">                  </span> \n",
       " <span style=\"color: #008080; text-decoration-color: #008080\">                                                         </span>│<span style=\"color: #008000; text-decoration-color: #008000\"> Text's           </span>│<span style=\"color: #800080; text-decoration-color: #800080\">                 </span>│<span style=\"color: #808000; text-decoration-color: #808000\">                  </span> \n",
       " <span style=\"color: #008080; text-decoration-color: #008080\">                                                         </span>│<span style=\"color: #008000; text-decoration-color: #008000\"> Co-Counsel as a  </span>│<span style=\"color: #800080; text-decoration-color: #800080\">                 </span>│<span style=\"color: #808000; text-decoration-color: #808000\">                  </span> \n",
       " <span style=\"color: #008080; text-decoration-color: #008080\">                                                         </span>│<span style=\"color: #008000; text-decoration-color: #008000\"> transformative   </span>│<span style=\"color: #800080; text-decoration-color: #800080\">                 </span>│<span style=\"color: #808000; text-decoration-color: #808000\">                  </span> \n",
       " <span style=\"color: #008080; text-decoration-color: #008080\">                                                         </span>│<span style=\"color: #008000; text-decoration-color: #008000\"> AI-driven legal  </span>│<span style=\"color: #800080; text-decoration-color: #800080\">                 </span>│<span style=\"color: #808000; text-decoration-color: #808000\">                  </span> \n",
       " <span style=\"color: #008080; text-decoration-color: #008080\">                                                         </span>│<span style=\"color: #008000; text-decoration-color: #008000\"> assistant, and   </span>│<span style=\"color: #800080; text-decoration-color: #800080\">                 </span>│<span style=\"color: #808000; text-decoration-color: #808000\">                  </span> \n",
       " <span style=\"color: #008080; text-decoration-color: #008080\">                                                         </span>│<span style=\"color: #008000; text-decoration-color: #008000\"> its impact on    </span>│<span style=\"color: #800080; text-decoration-color: #800080\">                 </span>│<span style=\"color: #808000; text-decoration-color: #808000\">                  </span> \n",
       " <span style=\"color: #008080; text-decoration-color: #008080\">                                                         </span>│<span style=\"color: #008000; text-decoration-color: #008000\"> company          </span>│<span style=\"color: #800080; text-decoration-color: #800080\">                 </span>│<span style=\"color: #808000; text-decoration-color: #808000\">                  </span> \n",
       " <span style=\"color: #008080; text-decoration-color: #008080\">                                                         </span>│<span style=\"color: #008000; text-decoration-color: #008000\"> valuation.       </span>│<span style=\"color: #800080; text-decoration-color: #800080\">                 </span>│<span style=\"color: #808000; text-decoration-color: #808000\">                  </span> \n",
       " <span style=\"color: #008080; text-decoration-color: #008080\"> /home/rakesh/Downloads/sample_data/four/random_file.txt </span>│<span style=\"color: #008000; text-decoration-color: #008000\"> A test file      </span>│<span style=\"color: #800080; text-decoration-color: #800080\"> /home/rakesh/D… </span>│<span style=\"color: #808000; text-decoration-color: #808000\"> /home/rakesh/Do… </span> \n",
       " <span style=\"color: #008080; text-decoration-color: #008080\">                                                         </span>│<span style=\"color: #008000; text-decoration-color: #008000\"> containing       </span>│<span style=\"color: #800080; text-decoration-color: #800080\">                 </span>│<span style=\"color: #808000; text-decoration-color: #808000\">                  </span> \n",
       " <span style=\"color: #008080; text-decoration-color: #008080\">                                                         </span>│<span style=\"color: #008000; text-decoration-color: #008000\"> sensitive        </span>│<span style=\"color: #800080; text-decoration-color: #800080\">                 </span>│<span style=\"color: #808000; text-decoration-color: #808000\">                  </span> \n",
       " <span style=\"color: #008080; text-decoration-color: #008080\">                                                         </span>│<span style=\"color: #008000; text-decoration-color: #008000\"> information,     </span>│<span style=\"color: #800080; text-decoration-color: #800080\">                 </span>│<span style=\"color: #808000; text-decoration-color: #808000\">                  </span> \n",
       " <span style=\"color: #008080; text-decoration-color: #008080\">                                                         </span>│<span style=\"color: #008000; text-decoration-color: #008000\"> specifically a   </span>│<span style=\"color: #800080; text-decoration-color: #800080\">                 </span>│<span style=\"color: #808000; text-decoration-color: #808000\">                  </span> \n",
       " <span style=\"color: #008080; text-decoration-color: #008080\">                                                         </span>│<span style=\"color: #008000; text-decoration-color: #008000\"> bank account     </span>│<span style=\"color: #800080; text-decoration-color: #800080\">                 </span>│<span style=\"color: #808000; text-decoration-color: #808000\">                  </span> \n",
       " <span style=\"color: #008080; text-decoration-color: #008080\">                                                         </span>│<span style=\"color: #008000; text-decoration-color: #008000\"> number.          </span>│<span style=\"color: #800080; text-decoration-color: #800080\">                 </span>│<span style=\"color: #808000; text-decoration-color: #808000\">                  </span> \n",
       " <span style=\"color: #008080; text-decoration-color: #008080\"> /home/rakesh/Downloads/sample_data/four/shad.txt        </span>│<span style=\"color: #008000; text-decoration-color: #008000\"> An overview of   </span>│<span style=\"color: #800080; text-decoration-color: #800080\"> /home/rakesh/D… </span>│<span style=\"color: #808000; text-decoration-color: #808000\"> /home/rakesh/Do… </span> \n",
       " <span style=\"color: #008080; text-decoration-color: #008080\">                                                         </span>│<span style=\"color: #008000; text-decoration-color: #008000\"> Next.js as a web </span>│<span style=\"color: #800080; text-decoration-color: #800080\">                 </span>│<span style=\"color: #808000; text-decoration-color: #808000\">                  </span> \n",
       " <span style=\"color: #008080; text-decoration-color: #008080\">                                                         </span>│<span style=\"color: #008000; text-decoration-color: #008000\"> development      </span>│<span style=\"color: #800080; text-decoration-color: #800080\">                 </span>│<span style=\"color: #808000; text-decoration-color: #808000\">                  </span> \n",
       " <span style=\"color: #008080; text-decoration-color: #008080\">                                                         </span>│<span style=\"color: #008000; text-decoration-color: #008000\"> framework,       </span>│<span style=\"color: #800080; text-decoration-color: #800080\">                 </span>│<span style=\"color: #808000; text-decoration-color: #808000\">                  </span> \n",
       " <span style=\"color: #008080; text-decoration-color: #008080\">                                                         </span>│<span style=\"color: #008000; text-decoration-color: #008000\"> including a list </span>│<span style=\"color: #800080; text-decoration-color: #800080\">                 </span>│<span style=\"color: #808000; text-decoration-color: #808000\">                  </span> \n",
       " <span style=\"color: #008080; text-decoration-color: #008080\">                                                         </span>│<span style=\"color: #008000; text-decoration-color: #008000\"> of recommended   </span>│<span style=\"color: #800080; text-decoration-color: #800080\">                 </span>│<span style=\"color: #808000; text-decoration-color: #808000\">                  </span> \n",
       " <span style=\"color: #008080; text-decoration-color: #008080\">                                                         </span>│<span style=\"color: #008000; text-decoration-color: #008000\"> open source      </span>│<span style=\"color: #800080; text-decoration-color: #800080\">                 </span>│<span style=\"color: #808000; text-decoration-color: #808000\">                  </span> \n",
       " <span style=\"color: #008080; text-decoration-color: #008080\">                                                         </span>│<span style=\"color: #008000; text-decoration-color: #008000\"> boilerplates and </span>│<span style=\"color: #800080; text-decoration-color: #800080\">                 </span>│<span style=\"color: #808000; text-decoration-color: #808000\">                  </span> \n",
       " <span style=\"color: #008080; text-decoration-color: #008080\">                                                         </span>│<span style=\"color: #008000; text-decoration-color: #008000\"> starter projects </span>│<span style=\"color: #800080; text-decoration-color: #800080\">                 </span>│<span style=\"color: #808000; text-decoration-color: #808000\">                  </span> \n",
       " <span style=\"color: #008080; text-decoration-color: #008080\">                                                         </span>│<span style=\"color: #008000; text-decoration-color: #008000\"> for building     </span>│<span style=\"color: #800080; text-decoration-color: #800080\">                 </span>│<span style=\"color: #808000; text-decoration-color: #808000\">                  </span> \n",
       " <span style=\"color: #008080; text-decoration-color: #008080\">                                                         </span>│<span style=\"color: #008000; text-decoration-color: #008000\"> applications,    </span>│<span style=\"color: #800080; text-decoration-color: #800080\">                 </span>│<span style=\"color: #808000; text-decoration-color: #808000\">                  </span> \n",
       " <span style=\"color: #008080; text-decoration-color: #008080\">                                                         </span>│<span style=\"color: #008000; text-decoration-color: #008000\"> highlighting     </span>│<span style=\"color: #800080; text-decoration-color: #800080\">                 </span>│<span style=\"color: #808000; text-decoration-color: #808000\">                  </span> \n",
       " <span style=\"color: #008080; text-decoration-color: #008080\">                                                         </span>│<span style=\"color: #008000; text-decoration-color: #008000\"> their features   </span>│<span style=\"color: #800080; text-decoration-color: #800080\">                 </span>│<span style=\"color: #808000; text-decoration-color: #808000\">                  </span> \n",
       " <span style=\"color: #008080; text-decoration-color: #008080\">                                                         </span>│<span style=\"color: #008000; text-decoration-color: #008000\"> and tech stacks. </span>│<span style=\"color: #800080; text-decoration-color: #800080\">                 </span>│<span style=\"color: #808000; text-decoration-color: #808000\">                  </span> \n",
       "                                                          ╵                  ╵                 ╵                   \n",
       "</pre>\n"
      ],
      "text/plain": [
       "\u001b[3m                                           Summaries and Organized Files                                           \u001b[0m\n",
       "                                                          ╷                  ╷                 ╷                   \n",
       " \u001b[1m                                                         \u001b[0m│\u001b[1m                  \u001b[0m│\u001b[1m \u001b[0m\u001b[1mDestination    \u001b[0m\u001b[1m \u001b[0m│\u001b[1m \u001b[0m\u001b[1mDestination Path\u001b[0m\u001b[1m \u001b[0m \n",
       " \u001b[1m \u001b[0m\u001b[1mFile Path                                              \u001b[0m\u001b[1m \u001b[0m│\u001b[1m \u001b[0m\u001b[1mSummary         \u001b[0m\u001b[1m \u001b[0m│\u001b[1m \u001b[0m\u001b[1mPath           \u001b[0m\u001b[1m \u001b[0m│\u001b[1m \u001b[0m\u001b[1mNew             \u001b[0m\u001b[1m \u001b[0m \n",
       " ═════════════════════════════════════════════════════════╪══════════════════╪═════════════════╪══════════════════ \n",
       " \u001b[36m \u001b[0m\u001b[36m/home/rakesh/Downloads/sample_data/four/dsflsdflj.txt  \u001b[0m\u001b[36m \u001b[0m│\u001b[32m \u001b[0m\u001b[32mDiscussion on   \u001b[0m\u001b[32m \u001b[0m│\u001b[35m \u001b[0m\u001b[35m/home/rakesh/D…\u001b[0m\u001b[35m \u001b[0m│\u001b[33m \u001b[0m\u001b[33m/home/rakesh/Do…\u001b[0m\u001b[33m \u001b[0m \n",
       " \u001b[36m                                                         \u001b[0m│\u001b[32m \u001b[0m\u001b[32mthe emergence of\u001b[0m\u001b[32m \u001b[0m│\u001b[35m                 \u001b[0m│\u001b[33m                  \u001b[0m \n",
       " \u001b[36m                                                         \u001b[0m│\u001b[32m \u001b[0m\u001b[32mVertical Large  \u001b[0m\u001b[32m \u001b[0m│\u001b[35m                 \u001b[0m│\u001b[33m                  \u001b[0m \n",
       " \u001b[36m                                                         \u001b[0m│\u001b[32m \u001b[0m\u001b[32mLanguage Model  \u001b[0m\u001b[32m \u001b[0m│\u001b[35m                 \u001b[0m│\u001b[33m                  \u001b[0m \n",
       " \u001b[36m                                                         \u001b[0m│\u001b[32m \u001b[0m\u001b[32m(LLM) Agents in \u001b[0m\u001b[32m \u001b[0m│\u001b[35m                 \u001b[0m│\u001b[33m                  \u001b[0m \n",
       " \u001b[36m                                                         \u001b[0m│\u001b[32m \u001b[0m\u001b[32mSaaS            \u001b[0m\u001b[32m \u001b[0m│\u001b[35m                 \u001b[0m│\u001b[33m                  \u001b[0m \n",
       " \u001b[36m                                                         \u001b[0m│\u001b[32m \u001b[0m\u001b[32minnovations,    \u001b[0m\u001b[32m \u001b[0m│\u001b[35m                 \u001b[0m│\u001b[33m                  \u001b[0m \n",
       " \u001b[36m                                                         \u001b[0m│\u001b[32m \u001b[0m\u001b[32mhighlighting the\u001b[0m\u001b[32m \u001b[0m│\u001b[35m                 \u001b[0m│\u001b[33m                  \u001b[0m \n",
       " \u001b[36m                                                         \u001b[0m│\u001b[32m \u001b[0m\u001b[32msuccess of Case \u001b[0m\u001b[32m \u001b[0m│\u001b[35m                 \u001b[0m│\u001b[33m                  \u001b[0m \n",
       " \u001b[36m                                                         \u001b[0m│\u001b[32m \u001b[0m\u001b[32mText's          \u001b[0m\u001b[32m \u001b[0m│\u001b[35m                 \u001b[0m│\u001b[33m                  \u001b[0m \n",
       " \u001b[36m                                                         \u001b[0m│\u001b[32m \u001b[0m\u001b[32mCo-Counsel as a \u001b[0m\u001b[32m \u001b[0m│\u001b[35m                 \u001b[0m│\u001b[33m                  \u001b[0m \n",
       " \u001b[36m                                                         \u001b[0m│\u001b[32m \u001b[0m\u001b[32mtransformative  \u001b[0m\u001b[32m \u001b[0m│\u001b[35m                 \u001b[0m│\u001b[33m                  \u001b[0m \n",
       " \u001b[36m                                                         \u001b[0m│\u001b[32m \u001b[0m\u001b[32mAI-driven legal \u001b[0m\u001b[32m \u001b[0m│\u001b[35m                 \u001b[0m│\u001b[33m                  \u001b[0m \n",
       " \u001b[36m                                                         \u001b[0m│\u001b[32m \u001b[0m\u001b[32massistant, and  \u001b[0m\u001b[32m \u001b[0m│\u001b[35m                 \u001b[0m│\u001b[33m                  \u001b[0m \n",
       " \u001b[36m                                                         \u001b[0m│\u001b[32m \u001b[0m\u001b[32mits impact on   \u001b[0m\u001b[32m \u001b[0m│\u001b[35m                 \u001b[0m│\u001b[33m                  \u001b[0m \n",
       " \u001b[36m                                                         \u001b[0m│\u001b[32m \u001b[0m\u001b[32mcompany         \u001b[0m\u001b[32m \u001b[0m│\u001b[35m                 \u001b[0m│\u001b[33m                  \u001b[0m \n",
       " \u001b[36m                                                         \u001b[0m│\u001b[32m \u001b[0m\u001b[32mvaluation.      \u001b[0m\u001b[32m \u001b[0m│\u001b[35m                 \u001b[0m│\u001b[33m                  \u001b[0m \n",
       " \u001b[36m \u001b[0m\u001b[36m/home/rakesh/Downloads/sample_data/four/random_file.txt\u001b[0m\u001b[36m \u001b[0m│\u001b[32m \u001b[0m\u001b[32mA test file     \u001b[0m\u001b[32m \u001b[0m│\u001b[35m \u001b[0m\u001b[35m/home/rakesh/D…\u001b[0m\u001b[35m \u001b[0m│\u001b[33m \u001b[0m\u001b[33m/home/rakesh/Do…\u001b[0m\u001b[33m \u001b[0m \n",
       " \u001b[36m                                                         \u001b[0m│\u001b[32m \u001b[0m\u001b[32mcontaining      \u001b[0m\u001b[32m \u001b[0m│\u001b[35m                 \u001b[0m│\u001b[33m                  \u001b[0m \n",
       " \u001b[36m                                                         \u001b[0m│\u001b[32m \u001b[0m\u001b[32msensitive       \u001b[0m\u001b[32m \u001b[0m│\u001b[35m                 \u001b[0m│\u001b[33m                  \u001b[0m \n",
       " \u001b[36m                                                         \u001b[0m│\u001b[32m \u001b[0m\u001b[32minformation,    \u001b[0m\u001b[32m \u001b[0m│\u001b[35m                 \u001b[0m│\u001b[33m                  \u001b[0m \n",
       " \u001b[36m                                                         \u001b[0m│\u001b[32m \u001b[0m\u001b[32mspecifically a  \u001b[0m\u001b[32m \u001b[0m│\u001b[35m                 \u001b[0m│\u001b[33m                  \u001b[0m \n",
       " \u001b[36m                                                         \u001b[0m│\u001b[32m \u001b[0m\u001b[32mbank account    \u001b[0m\u001b[32m \u001b[0m│\u001b[35m                 \u001b[0m│\u001b[33m                  \u001b[0m \n",
       " \u001b[36m                                                         \u001b[0m│\u001b[32m \u001b[0m\u001b[32mnumber.         \u001b[0m\u001b[32m \u001b[0m│\u001b[35m                 \u001b[0m│\u001b[33m                  \u001b[0m \n",
       " \u001b[36m \u001b[0m\u001b[36m/home/rakesh/Downloads/sample_data/four/shad.txt       \u001b[0m\u001b[36m \u001b[0m│\u001b[32m \u001b[0m\u001b[32mAn overview of  \u001b[0m\u001b[32m \u001b[0m│\u001b[35m \u001b[0m\u001b[35m/home/rakesh/D…\u001b[0m\u001b[35m \u001b[0m│\u001b[33m \u001b[0m\u001b[33m/home/rakesh/Do…\u001b[0m\u001b[33m \u001b[0m \n",
       " \u001b[36m                                                         \u001b[0m│\u001b[32m \u001b[0m\u001b[32mNext.js as a web\u001b[0m\u001b[32m \u001b[0m│\u001b[35m                 \u001b[0m│\u001b[33m                  \u001b[0m \n",
       " \u001b[36m                                                         \u001b[0m│\u001b[32m \u001b[0m\u001b[32mdevelopment     \u001b[0m\u001b[32m \u001b[0m│\u001b[35m                 \u001b[0m│\u001b[33m                  \u001b[0m \n",
       " \u001b[36m                                                         \u001b[0m│\u001b[32m \u001b[0m\u001b[32mframework,      \u001b[0m\u001b[32m \u001b[0m│\u001b[35m                 \u001b[0m│\u001b[33m                  \u001b[0m \n",
       " \u001b[36m                                                         \u001b[0m│\u001b[32m \u001b[0m\u001b[32mincluding a list\u001b[0m\u001b[32m \u001b[0m│\u001b[35m                 \u001b[0m│\u001b[33m                  \u001b[0m \n",
       " \u001b[36m                                                         \u001b[0m│\u001b[32m \u001b[0m\u001b[32mof recommended  \u001b[0m\u001b[32m \u001b[0m│\u001b[35m                 \u001b[0m│\u001b[33m                  \u001b[0m \n",
       " \u001b[36m                                                         \u001b[0m│\u001b[32m \u001b[0m\u001b[32mopen source     \u001b[0m\u001b[32m \u001b[0m│\u001b[35m                 \u001b[0m│\u001b[33m                  \u001b[0m \n",
       " \u001b[36m                                                         \u001b[0m│\u001b[32m \u001b[0m\u001b[32mboilerplates and\u001b[0m\u001b[32m \u001b[0m│\u001b[35m                 \u001b[0m│\u001b[33m                  \u001b[0m \n",
       " \u001b[36m                                                         \u001b[0m│\u001b[32m \u001b[0m\u001b[32mstarter projects\u001b[0m\u001b[32m \u001b[0m│\u001b[35m                 \u001b[0m│\u001b[33m                  \u001b[0m \n",
       " \u001b[36m                                                         \u001b[0m│\u001b[32m \u001b[0m\u001b[32mfor building    \u001b[0m\u001b[32m \u001b[0m│\u001b[35m                 \u001b[0m│\u001b[33m                  \u001b[0m \n",
       " \u001b[36m                                                         \u001b[0m│\u001b[32m \u001b[0m\u001b[32mapplications,   \u001b[0m\u001b[32m \u001b[0m│\u001b[35m                 \u001b[0m│\u001b[33m                  \u001b[0m \n",
       " \u001b[36m                                                         \u001b[0m│\u001b[32m \u001b[0m\u001b[32mhighlighting    \u001b[0m\u001b[32m \u001b[0m│\u001b[35m                 \u001b[0m│\u001b[33m                  \u001b[0m \n",
       " \u001b[36m                                                         \u001b[0m│\u001b[32m \u001b[0m\u001b[32mtheir features  \u001b[0m\u001b[32m \u001b[0m│\u001b[35m                 \u001b[0m│\u001b[33m                  \u001b[0m \n",
       " \u001b[36m                                                         \u001b[0m│\u001b[32m \u001b[0m\u001b[32mand tech stacks.\u001b[0m\u001b[32m \u001b[0m│\u001b[35m                 \u001b[0m│\u001b[33m                  \u001b[0m \n",
       "                                                          ╵                  ╵                 ╵                   \n"
      ]
     },
     "metadata": {},
     "output_type": "display_data"
    },
    {
     "data": {
      "text/html": [
       "<pre style=\"white-space:pre;overflow-x:auto;line-height:normal;font-family:Menlo,'DejaVu Sans Mono',consolas,'Courier New',monospace\">23:59:54.737 | <span style=\"color: #008080; text-decoration-color: #008080\">INFO</span>    | Task run 'display_concatenated_dict-2b3' - Finished in state <span style=\"color: #008000; text-decoration-color: #008000\">Completed</span>()\n",
       "</pre>\n"
      ],
      "text/plain": [
       "23:59:54.737 | \u001b[36mINFO\u001b[0m    | Task run 'display_concatenated_dict-2b3' - Finished in state \u001b[32mCompleted\u001b[0m()\n"
      ]
     },
     "metadata": {},
     "output_type": "display_data"
    },
    {
     "data": {
      "text/html": [
       "<pre style=\"white-space:pre;overflow-x:auto;line-height:normal;font-family:Menlo,'DejaVu Sans Mono',consolas,'Courier New',monospace\">23:59:54.763 | <span style=\"color: #008080; text-decoration-color: #008080\">INFO</span>    | Flow run<span style=\"color: #800080; text-decoration-color: #800080\"> 'debonair-fulmar'</span> - Finished in state <span style=\"color: #008000; text-decoration-color: #008000\">Completed</span>()\n",
       "</pre>\n"
      ],
      "text/plain": [
       "23:59:54.763 | \u001b[36mINFO\u001b[0m    | Flow run\u001b[35m 'debonair-fulmar'\u001b[0m - Finished in state \u001b[32mCompleted\u001b[0m()\n"
      ]
     },
     "metadata": {},
     "output_type": "display_data"
    },
    {
     "data": {
      "text/html": [
       "<pre style=\"white-space:pre;overflow-x:auto;line-height:normal;font-family:Menlo,'DejaVu Sans Mono',consolas,'Courier New',monospace\"><span style=\"color: #808000; text-decoration-color: #808000; font-weight: bold\">Summaries:</span>\n",
       "</pre>\n"
      ],
      "text/plain": [
       "\u001b[1;33mSummaries:\u001b[0m\n"
      ]
     },
     "metadata": {},
     "output_type": "display_data"
    },
    {
     "name": "stdout",
     "output_type": "stream",
     "text": [
      "('{\\n'\n",
      " '    \"files\": [\\n'\n",
      " '        {\\n'\n",
      " '            \"file_path\": '\n",
      " '\"/home/rakesh/Downloads/sample_data/four/dsflsdflj.txt\",\\n'\n",
      " '            \"summary\": \"Discussion on the emergence of Vertical Large '\n",
      " 'Language Model (LLM) Agents in SaaS innovations, highlighting the success of '\n",
      " \"Case Text's Co-Counsel as a transformative AI-driven legal assistant, and \"\n",
      " 'its impact on company valuation.\"\\n'\n",
      " '        },\\n'\n",
      " '        {\\n'\n",
      " '            \"file_path\": '\n",
      " '\"/home/rakesh/Downloads/sample_data/four/random_file.txt\",\\n'\n",
      " '            \"summary\": \"A test file containing sensitive information, '\n",
      " 'specifically a bank account number.\"\\n'\n",
      " '        },\\n'\n",
      " '        {\\n'\n",
      " '            \"file_path\": '\n",
      " '\"/home/rakesh/Downloads/sample_data/four/shad.txt\",\\n'\n",
      " '            \"summary\": \"An overview of Next.js as a web development '\n",
      " 'framework, including a list of recommended open source boilerplates and '\n",
      " 'starter projects for building applications, highlighting their features and '\n",
      " 'tech stacks.\"\\n'\n",
      " '        }\\n'\n",
      " '    ],\\n'\n",
      " '    \"usage\": {\\n'\n",
      " '        \"completion_tokens\": 193,\\n'\n",
      " '        \"prompt_tokens\": 1425,\\n'\n",
      " '        \"total_tokens\": 1618\\n'\n",
      " '    },\\n'\n",
      " '    \"cost\": 0.003012\\n'\n",
      " '}')\n"
     ]
    },
    {
     "data": {
      "text/html": [
       "<pre style=\"white-space:pre;overflow-x:auto;line-height:normal;font-family:Menlo,'DejaVu Sans Mono',consolas,'Courier New',monospace\">\n",
       "<span style=\"color: #808000; text-decoration-color: #808000; font-weight: bold\">File Tree:</span>\n",
       "</pre>\n"
      ],
      "text/plain": [
       "\n",
       "\u001b[1;33mFile Tree:\u001b[0m\n"
      ]
     },
     "metadata": {},
     "output_type": "display_data"
    },
    {
     "name": "stdout",
     "output_type": "stream",
     "text": [
      "('[\\n'\n",
      " '    {\\n'\n",
      " '        \"src_path\": '\n",
      " '\"/home/rakesh/Downloads/sample_data/four/dsflsdflj.txt\",\\n'\n",
      " '        \"dst_path\": '\n",
      " '\"/home/rakesh/Downloads/sample_data/four_organized_or/2024/04/llm_emergence_discussion.txt\",\\n'\n",
      " '        \"dst_path_new\": '\n",
      " '\"/home/rakesh/Downloads/sample_data/four_organized_or/2024/04/llm_emergence_discussion_v1.txt\"\\n'\n",
      " '    },\\n'\n",
      " '    {\\n'\n",
      " '        \"src_path\": '\n",
      " '\"/home/rakesh/Downloads/sample_data/four/random_file.txt\",\\n'\n",
      " '        \"dst_path\": '\n",
      " '\"/home/rakesh/Downloads/sample_data/four_organized_or/2024/04/sensitive_test_file.txt\",\\n'\n",
      " '        \"dst_path_new\": '\n",
      " '\"/home/rakesh/Downloads/sample_data/four_organized_or/2024/04/sensitive_test_file_v1.txt\"\\n'\n",
      " '    },\\n'\n",
      " '    {\\n'\n",
      " '        \"src_path\": \"/home/rakesh/Downloads/sample_data/four/shad.txt\",\\n'\n",
      " '        \"dst_path\": '\n",
      " '\"/home/rakesh/Downloads/sample_data/four_organized_or/2024/04/next_js_overview.txt\",\\n'\n",
      " '        \"dst_path_new\": '\n",
      " '\"/home/rakesh/Downloads/sample_data/four_organized_or/2024/04/next_js_overview_v1.txt\"\\n'\n",
      " '    }\\n'\n",
      " ']')\n"
     ]
    },
    {
     "data": {
      "text/html": [
       "<pre style=\"white-space:pre;overflow-x:auto;line-height:normal;font-family:Menlo,'DejaVu Sans Mono',consolas,'Courier New',monospace\">\n",
       "<span style=\"color: #808000; text-decoration-color: #808000; font-weight: bold\">Concatenated Data:</span>\n",
       "</pre>\n"
      ],
      "text/plain": [
       "\n",
       "\u001b[1;33mConcatenated Data:\u001b[0m\n"
      ]
     },
     "metadata": {},
     "output_type": "display_data"
    },
    {
     "name": "stdout",
     "output_type": "stream",
     "text": [
      "('[\\n'\n",
      " '    {\\n'\n",
      " '        \"file_path\": '\n",
      " '\"/home/rakesh/Downloads/sample_data/four/dsflsdflj.txt\",\\n'\n",
      " '        \"summary\": \"Discussion on the emergence of Vertical Large Language '\n",
      " 'Model (LLM) Agents in SaaS innovations, highlighting the success of Case '\n",
      " \"Text's Co-Counsel as a transformative AI-driven legal assistant, and its \"\n",
      " 'impact on company valuation.\",\\n'\n",
      " '        \"dst_path\": '\n",
      " '\"/home/rakesh/Downloads/sample_data/four_organized_or/2024/04/llm_emergence_discussion.txt\",\\n'\n",
      " '        \"dst_path_new\": '\n",
      " '\"/home/rakesh/Downloads/sample_data/four_organized_or/2024/04/llm_emergence_discussion_v1.txt\"\\n'\n",
      " '    },\\n'\n",
      " '    {\\n'\n",
      " '        \"file_path\": '\n",
      " '\"/home/rakesh/Downloads/sample_data/four/random_file.txt\",\\n'\n",
      " '        \"summary\": \"A test file containing sensitive information, '\n",
      " 'specifically a bank account number.\",\\n'\n",
      " '        \"dst_path\": '\n",
      " '\"/home/rakesh/Downloads/sample_data/four_organized_or/2024/04/sensitive_test_file.txt\",\\n'\n",
      " '        \"dst_path_new\": '\n",
      " '\"/home/rakesh/Downloads/sample_data/four_organized_or/2024/04/sensitive_test_file_v1.txt\"\\n'\n",
      " '    },\\n'\n",
      " '    {\\n'\n",
      " '        \"file_path\": \"/home/rakesh/Downloads/sample_data/four/shad.txt\",\\n'\n",
      " '        \"summary\": \"An overview of Next.js as a web development framework, '\n",
      " 'including a list of recommended open source boilerplates and starter '\n",
      " 'projects for building applications, highlighting their features and tech '\n",
      " 'stacks.\",\\n'\n",
      " '        \"dst_path\": '\n",
      " '\"/home/rakesh/Downloads/sample_data/four_organized_or/2024/04/next_js_overview.txt\",\\n'\n",
      " '        \"dst_path_new\": '\n",
      " '\"/home/rakesh/Downloads/sample_data/four_organized_or/2024/04/next_js_overview_v1.txt\"\\n'\n",
      " '    }\\n'\n",
      " ']')\n"
     ]
    },
    {
     "name": "stderr",
     "output_type": "stream",
     "text": [
      "08:19:54.533 | \u001b[31mERROR\u001b[0m   | prefect.server.services.telemetry - \u001b[31mFailed\u001b[0m to send telemetry:\n",
      "Shutting down telemetry service...\n"
     ]
    }
   ],
   "source": [
    "if __name__ == \"__main__\":\n",
    "    # Define your parameters\n",
    "    source_directory = \"/home/rakesh/Downloads/sample_data/four/\"  # Replace with your actual source documents path\n",
    "    destination_directory = \"/home/rakesh/Downloads/sample_data/four_organized_or/\"  # Replace with your desired destination path\n",
    "    api_host = \"localhost\"                                         # API host address (not needed if api_base is provided)\n",
    "    api_port = 8111                                                # API port number\n",
    "    summary_model = \"openrouter/openai/gpt-4o-mini\"\n",
    "    tree_model = \"openrouter/openai/gpt-4o-mini\"\n",
    "    api_base_url = \"https://openrouter.ai/api/v1\"                     # Base URL for the API\n",
    "    use_streaming = False                                          # Set to True if you want streaming\n",
    "    # model=\"ollama/smollm2:135m\",\n",
    "\n",
    "    # Ensure destination directory exists\n",
    "    os.makedirs(destination_directory, exist_ok=True)\n",
    "\n",
    "    # Run the workflow\n",
    "    organized_files_result = document_processing_workflow(\n",
    "        source_path=source_directory,\n",
    "        destination_path=destination_directory,\n",
    "        api_host=api_host,\n",
    "        api_port=api_port,\n",
    "        summary_model=summary_model,\n",
    "        tree_model=tree_model,\n",
    "        api_base=api_base_url,                                  # Providing the API base URL\n",
    "        stream=use_streaming\n",
    "    )\n",
    "\n",
    "    # Extract the results\n",
    "    summaries = organized_files_result.get(\"summaries\", {})\n",
    "    file_tree = organized_files_result.get(\"file_tree\", [])\n",
    "    concatenated_data = organized_files_result.get(\"concatenated_data\", [])\n",
    "\n",
    "    # Optionally, pretty-print the results using Rich\n",
    "    console.print(\"[bold yellow]Summaries:[/bold yellow]\")\n",
    "    pprint(json.dumps(summaries, indent=4))\n",
    "\n",
    "    console.print(\"\\n[bold yellow]File Tree:[/bold yellow]\")\n",
    "    pprint(json.dumps(file_tree, indent=4))\n",
    "\n",
    "    console.print(\"\\n[bold yellow]Concatenated Data:[/bold yellow]\")\n",
    "    pprint(json.dumps(concatenated_data, indent=4))\n"
   ]
  }
 ],
 "metadata": {
  "kernelspec": {
   "display_name": ".venv",
   "language": "python",
   "name": "python3"
  },
  "language_info": {
   "codemirror_mode": {
    "name": "ipython",
    "version": 3
   },
   "file_extension": ".py",
   "mimetype": "text/x-python",
   "name": "python",
   "nbconvert_exporter": "python",
   "pygments_lexer": "ipython3",
   "version": "3.12.8"
  }
 },
 "nbformat": 4,
 "nbformat_minor": 2
}
